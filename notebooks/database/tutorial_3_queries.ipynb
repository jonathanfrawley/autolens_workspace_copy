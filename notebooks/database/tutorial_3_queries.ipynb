{
 "cells": [
  {
   "cell_type": "markdown",
   "metadata": {},
   "source": [
    "Database 3: Queries\n",
    "===================\n",
    "\n",
    "Suppose we have the results of many fits in the `output` folder and we only wanted to load and inspect a specific set\n",
    "of model-fits (e.g. the results of `tutorial_1_introduction`). We can use the database's querying tools to only load\n",
    "the results we are interested in.\n",
    "\n",
    "The database also supports advanced querying, so that specific model-fits (e.g., which fit a certain model or dataset)\n",
    "can be loaded."
   ]
  },
  {
   "cell_type": "code",
   "execution_count": 1,
   "metadata": {
    "execution": {
     "iopub.execute_input": "2021-04-13T18:28:29.524274Z",
     "iopub.status.busy": "2021-04-13T18:28:29.523689Z",
     "iopub.status.idle": "2021-04-13T18:28:32.827202Z",
     "shell.execute_reply": "2021-04-13T18:28:32.827456Z"
    }
   },
   "outputs": [
    {
     "name": "stdout",
     "output_type": "stream",
     "text": [
      "/mnt/c/Users/Jammy/Code/PyAuto/autolens_workspace\n",
      "Working Directory has been set to `/mnt/c/Users/Jammy/Code/PyAuto/autolens_workspace`\n"
     ]
    }
   ],
   "source": [
    "%matplotlib inline\n",
    "from pyprojroot import here\n",
    "workspace_path = str(here())\n",
    "%cd $workspace_path\n",
    "print(f\"Working Directory has been set to `{workspace_path}`\")\n",
    "\n",
    "from os import path\n",
    "import autofit as af\n",
    "import autolens as al"
   ]
  },
  {
   "cell_type": "markdown",
   "metadata": {},
   "source": [
    "First, set up the aggregator as we did in the previous tutorial."
   ]
  },
  {
   "cell_type": "code",
   "execution_count": 2,
   "metadata": {
    "execution": {
     "iopub.execute_input": "2021-04-13T18:28:32.830162Z",
     "iopub.status.busy": "2021-04-13T18:28:32.829840Z",
     "iopub.status.idle": "2021-04-13T18:28:33.132708Z",
     "shell.execute_reply": "2021-04-13T18:28:33.132377Z"
    }
   },
   "outputs": [
    {
     "name": "stdout",
     "output_type": "stream",
     "text": [
      "Aggregator loading search_outputs... could take some time.\n",
      "\n",
      " A total of 6 search_outputs and results were found.\n"
     ]
    }
   ],
   "source": [
    "# from autofit.database.aggregator import Aggregator\n",
    "# database_file = path.join(\"output\", \"database\", \"database.sqlite\")\n",
    "# agg = Aggregator.from_database(path.join(database_file))\n",
    "agg = af.Aggregator(directory=path.join(\"output\", \"database\"))"
   ]
  },
  {
   "cell_type": "markdown",
   "metadata": {},
   "source": [
    "We can filter results to only include completed results. By including the `completed_only` input below, any \n",
    "results which are in the middle of a non-linear will be omitted and not loaded in the `Aggregator`."
   ]
  },
  {
   "cell_type": "code",
   "execution_count": 3,
   "metadata": {
    "execution": {
     "iopub.execute_input": "2021-04-13T18:28:33.135231Z",
     "iopub.status.busy": "2021-04-13T18:28:33.134912Z",
     "iopub.status.idle": "2021-04-13T18:28:33.435685Z",
     "shell.execute_reply": "2021-04-13T18:28:33.435384Z"
    }
   },
   "outputs": [
    {
     "name": "stdout",
     "output_type": "stream",
     "text": [
      "Aggregator loading search_outputs... could take some time.\n",
      "\n",
      " A total of 6 search_outputs and results were found.\n"
     ]
    }
   ],
   "source": [
    "agg = af.Aggregator(directory=path.join(\"output\", \"database\"), completed_only=True)"
   ]
  },
  {
   "cell_type": "markdown",
   "metadata": {},
   "source": [
    "We can use the `Aggregator`'s to query the database and return only specific fits that we are interested in. We first \n",
    "do this, using the `info` object, whereby we can query any of its entries, for example the `dataset_name` string we \n",
    "input into the model-fit above. \n",
    "\n",
    "By querying using the string `mass_sie__source_sersic__1` the model-fit to only the second strong lens is returned:"
   ]
  },
  {
   "cell_type": "code",
   "execution_count": 4,
   "metadata": {
    "execution": {
     "iopub.execute_input": "2021-04-13T18:28:33.438443Z",
     "iopub.status.busy": "2021-04-13T18:28:33.438111Z",
     "iopub.status.idle": "2021-04-13T18:28:33.440680Z",
     "shell.execute_reply": "2021-04-13T18:28:33.440349Z"
    }
   },
   "outputs": [
    {
     "name": "stdout",
     "output_type": "stream",
     "text": [
      "Filter found a total of 0 results\n"
     ]
    }
   ],
   "source": [
    "# Feature Missing\n",
    "# agg_query = agg.query(agg.directory.contains(\"mass_sie__source_sersic__1\"))\n",
    "# samples_gen = agg_query.values(\"samples\")\n",
    "agg_filter = agg.filter(agg.directory.contains(\"runner\"))"
   ]
  },
  {
   "cell_type": "markdown",
   "metadata": {},
   "source": [
    "As expected, this list now has only 1 MCMCSamples corresponding to the second dataset."
   ]
  },
  {
   "cell_type": "code",
   "execution_count": 5,
   "metadata": {
    "execution": {
     "iopub.execute_input": "2021-04-13T18:28:33.443042Z",
     "iopub.status.busy": "2021-04-13T18:28:33.442723Z",
     "iopub.status.idle": "2021-04-13T18:28:33.445117Z",
     "shell.execute_reply": "2021-04-13T18:28:33.445364Z"
    }
   },
   "outputs": [
    {
     "name": "stdout",
     "output_type": "stream",
     "text": [
      "Directory Filtered NestedSampler Samples: \n",
      "\n",
      "Total Samples Objects =  0 \n",
      "\n",
      "\n"
     ]
    }
   ],
   "source": [
    "print(\"Directory Filtered NestedSampler Samples: \\n\")\n",
    "print(\"Total Samples Objects = \", len(list(agg_filter.values(\"samples\"))), \"\\n\\n\")"
   ]
  },
  {
   "cell_type": "markdown",
   "metadata": {},
   "source": [
    "If we query using an incorrect dataset name we get no results:"
   ]
  },
  {
   "cell_type": "code",
   "execution_count": 6,
   "metadata": {
    "execution": {
     "iopub.execute_input": "2021-04-13T18:28:33.447840Z",
     "iopub.status.busy": "2021-04-13T18:28:33.447523Z",
     "iopub.status.idle": "2021-04-13T18:28:33.449671Z",
     "shell.execute_reply": "2021-04-13T18:28:33.449346Z"
    }
   },
   "outputs": [
    {
     "name": "stdout",
     "output_type": "stream",
     "text": [
      "Filter found a total of 0 results\n",
      "Incorrect Phase Name Filtered NestedSampler Samples: \n",
      "\n",
      "Total Samples Objects =  0 \n",
      "\n",
      "\n"
     ]
    }
   ],
   "source": [
    "# Feature Missing\n",
    "# agg_query = agg.query(agg.directory.contains(\"invalid_string\"))\n",
    "# samples_gen = agg_query.values(\"samples\")\n",
    "agg_filter_incorrect = agg.filter(agg.directory.contains(\"invalid_string\"))\n",
    "print(\"Incorrect Phase Name Filtered NestedSampler Samples: \\n\")\n",
    "print(\n",
    "    \"Total Samples Objects = \",\n",
    "    len(list(agg_filter_incorrect.values(\"samples\"))),\n",
    "    \"\\n\\n\",\n",
    ")"
   ]
  },
  {
   "cell_type": "markdown",
   "metadata": {},
   "source": [
    "We can also query based on the model fitted. \n",
    "\n",
    "For example, we can load all results which fitted an `EllIsothermal` model-component, which in this simple \n",
    "example is all 3 model-fits.\n",
    "\n",
    "The ability to query via the model is extremely powerful. It enables a user to fit many lens models to large samples \n",
    "of lenses efficiently load and inspect the results. \n",
    "\n",
    "[Note: the code `agg.galaxies.lens.mass` corresponds to the fact that in the `Model` we named the model components \n",
    "`galaxies`, `lens` and `mass`. If the `Model` had used a different name the code below would change correspondingly. \n",
    "Models with multiple galaxies are therefore easily accessed via the database.]"
   ]
  },
  {
   "cell_type": "code",
   "execution_count": 7,
   "metadata": {
    "execution": {
     "iopub.execute_input": "2021-04-13T18:28:33.451761Z",
     "iopub.status.busy": "2021-04-13T18:28:33.451443Z",
     "iopub.status.idle": "2021-04-13T18:28:33.452853Z",
     "shell.execute_reply": "2021-04-13T18:28:33.453128Z"
    }
   },
   "outputs": [],
   "source": [
    "mass = agg.galaxies.lens.mass\n",
    "# agg_query = agg.query(mass == al.mp.EllIsothermal)\n",
    "# samples_gen = agg_query.values(\"samples\")\n",
    "# print(\n",
    "#     \"Total Samples Objects via `EllIsothermal` model query = \",\n",
    "#     len(list(samples_gen)),\n",
    "#     \"\\n\",\n",
    "# )"
   ]
  },
  {
   "cell_type": "markdown",
   "metadata": {},
   "source": [
    "Queries using the results of model-fitting are also supported. Below, we query the database to find all fits where the \n",
    "inferred value of `sersic_index` for the `EllSersic` of the source's bulge is less than 3.0 (which returns only \n",
    "the first of the three model-fits)."
   ]
  },
  {
   "cell_type": "code",
   "execution_count": 8,
   "metadata": {
    "execution": {
     "iopub.execute_input": "2021-04-13T18:28:33.455277Z",
     "iopub.status.busy": "2021-04-13T18:28:33.454960Z",
     "iopub.status.idle": "2021-04-13T18:28:33.457322Z",
     "shell.execute_reply": "2021-04-13T18:28:33.456916Z"
    }
   },
   "outputs": [],
   "source": [
    "bulge = agg.galaxies.source.bulge\n",
    "# agg_query = agg.query(bulge.sersic_index < 3.0)\n",
    "# samples_gen = agg_query.values(\"samples\")\n",
    "# print(\n",
    "#     \"Total Samples Objects In Query `source.bulge.sersic_index < 3.0` = \",\n",
    "#     len(list(samples_gen)),\n",
    "#     \"\\n\",\n",
    "# )"
   ]
  },
  {
   "cell_type": "markdown",
   "metadata": {},
   "source": [
    "Advanced queries can be constructed using logic, for example we below we combine the two queries above to find all\n",
    "results which fitted an `EllIsothermal` mass model AND (using the & symbol) inferred a value of sersic index of \n",
    "less than 3.0 for the source's bulge. \n",
    "\n",
    "The OR logical clause is also supported via the symbol |."
   ]
  },
  {
   "cell_type": "code",
   "execution_count": 9,
   "metadata": {
    "execution": {
     "iopub.execute_input": "2021-04-13T18:28:33.459259Z",
     "iopub.status.busy": "2021-04-13T18:28:33.458950Z",
     "iopub.status.idle": "2021-04-13T18:28:33.460339Z",
     "shell.execute_reply": "2021-04-13T18:28:33.460583Z"
    }
   },
   "outputs": [],
   "source": [
    "mass = agg.galaxies.lens.mass\n",
    "# bulge = agg.galaxies.source.bulge\n",
    "# agg_query = agg.query((mass == al.mp.EllIsothermal) & (bulge.sersic_index < 3.0))\n",
    "# samples_gen = agg_query.values(\"samples\")\n",
    "# print(\n",
    "#     \"Total Samples Objects In Query `Gaussian & sigma < 3.0` = \",\n",
    "#     len(list(samples_gen)),\n",
    "#     \"\\n\",\n",
    "# )"
   ]
  },
  {
   "cell_type": "markdown",
   "metadata": {},
   "source": [
    "Old Aggregator API... delete soon."
   ]
  },
  {
   "cell_type": "code",
   "execution_count": 10,
   "metadata": {
    "execution": {
     "iopub.execute_input": "2021-04-13T18:28:33.463218Z",
     "iopub.status.busy": "2021-04-13T18:28:33.462790Z",
     "iopub.status.idle": "2021-04-13T18:28:33.464450Z",
     "shell.execute_reply": "2021-04-13T18:28:33.464718Z"
    }
   },
   "outputs": [
    {
     "name": "stdout",
     "output_type": "stream",
     "text": [
      "Filter found a total of 0 results\n",
      "Multiple Filter NestedSampler Samples: \n",
      "\n",
      "\n",
      "Total Samples Objects =  0 \n",
      "\n",
      "\n"
     ]
    }
   ],
   "source": [
    "agg_filter_multiple = agg.filter(\n",
    "    agg.directory.contains(\"phase__\"),\n",
    "    agg.directory.contains(\"dynesty\"),\n",
    "    agg.directory.contains(\"mass_sie__source_bulge__0\"),\n",
    ")\n",
    "print(\"Multiple Filter NestedSampler Samples: \\n\")\n",
    "print()\n",
    "print(\n",
    "    \"Total Samples Objects = \", len(list(agg_filter_multiple.values(\"samples\"))), \"\\n\\n\"\n",
    ")"
   ]
  },
  {
   "cell_type": "markdown",
   "metadata": {},
   "source": [
    "Finished."
   ]
  },
  {
   "cell_type": "code",
   "execution_count": null,
   "metadata": {},
   "outputs": [],
   "source": []
  }
 ],
 "metadata": {
  "anaconda-cloud": {},
  "kernelspec": {
   "display_name": "Python 3",
   "language": "python",
   "name": "python3"
  },
  "language_info": {
   "codemirror_mode": {
    "name": "ipython",
    "version": 3
   },
   "file_extension": ".py",
   "mimetype": "text/x-python",
   "name": "python",
   "nbconvert_exporter": "python",
   "pygments_lexer": "ipython3",
   "version": "3.8.5"
  }
 },
 "nbformat": 4,
 "nbformat_minor": 4
}
