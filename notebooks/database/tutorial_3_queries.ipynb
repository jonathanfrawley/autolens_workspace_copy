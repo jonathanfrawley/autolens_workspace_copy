{
 "cells": [
  {
   "cell_type": "markdown",
   "metadata": {},
   "source": [
    "Database 3: Queries\n",
    "===================\n",
    "\n",
    "Suppose we have the results of many fits in the `output` folder and we only wanted to load and inspect a specific set\n",
    "of model-fits (e.g. the results of `tutorial_1_introduction`). We can use the database's querying tools to only load\n",
    "the results we are interested in.\n",
    "\n",
    "The database also supports advanced querying, so that specific model-fits (e.g., which fit a certain model or dataset)\n",
    "can be loaded."
   ]
  },
  {
   "cell_type": "code",
   "execution_count": 1,
   "metadata": {
    "execution": {
     "iopub.execute_input": "2021-04-10T11:32:39.754410Z",
     "iopub.status.busy": "2021-04-10T11:32:39.753910Z",
     "iopub.status.idle": "2021-04-10T11:32:41.977656Z",
     "shell.execute_reply": "2021-04-10T11:32:41.977246Z"
    }
   },
   "outputs": [
    {
     "name": "stdout",
     "output_type": "stream",
     "text": [
      "/mnt/c/Users/Jammy/Code/PyAuto/autolens_workspace\n",
      "Working Directory has been set to `/mnt/c/Users/Jammy/Code/PyAuto/autolens_workspace`\n"
     ]
    }
   ],
   "source": [
    "%matplotlib inline\n",
    "from pyprojroot import here\n",
    "workspace_path = str(here())\n",
    "%cd $workspace_path\n",
    "print(f\"Working Directory has been set to `{workspace_path}`\")\n",
    "\n",
    "from os import path\n",
    "import autofit as af\n",
    "import autolens as al"
   ]
  },
  {
   "cell_type": "markdown",
   "metadata": {},
   "source": [
    "First, set up the aggregator as we did in the previous tutorial."
   ]
  },
  {
   "cell_type": "code",
   "execution_count": 2,
   "metadata": {
    "execution": {
     "iopub.execute_input": "2021-04-10T11:32:41.980484Z",
     "iopub.status.busy": "2021-04-10T11:32:41.980147Z",
     "iopub.status.idle": "2021-04-10T11:32:42.101386Z",
     "shell.execute_reply": "2021-04-10T11:32:42.101692Z"
    }
   },
   "outputs": [
    {
     "name": "stdout",
     "output_type": "stream",
     "text": [
      "Aggregator loading search_outputs... could take some time.\n",
      "\n",
      " A total of 3 search_outputs and results were found.\n"
     ]
    }
   ],
   "source": [
    "# from autofit.database.aggregator import Aggregator\n",
    "# database_file = path.join(\"output\", \"database\", \"database.sqlite\")\n",
    "# agg = Aggregator.from_database(path.join(database_file))\n",
    "agg = af.Aggregator(directory=path.join(\"output\", \"database\"))"
   ]
  },
  {
   "cell_type": "markdown",
   "metadata": {},
   "source": [
    "We can filter results to only include completed results. By including the `completed_only` input below, any \n",
    "results which are in the middle of a non-linear will be omitted and not loaded in the `Aggregator`."
   ]
  },
  {
   "cell_type": "code",
   "execution_count": 3,
   "metadata": {
    "execution": {
     "iopub.execute_input": "2021-04-10T11:32:42.104112Z",
     "iopub.status.busy": "2021-04-10T11:32:42.103795Z",
     "iopub.status.idle": "2021-04-10T11:32:42.211413Z",
     "shell.execute_reply": "2021-04-10T11:32:42.211067Z"
    }
   },
   "outputs": [
    {
     "name": "stdout",
     "output_type": "stream",
     "text": [
      "Aggregator loading search_outputs... could take some time.\n",
      "\n",
      " A total of 3 search_outputs and results were found.\n"
     ]
    }
   ],
   "source": [
    "agg = af.Aggregator(directory=path.join(\"output\", \"database\"), completed_only=True)"
   ]
  },
  {
   "cell_type": "markdown",
   "metadata": {},
   "source": [
    "We can use the `Aggregator`'s to query the database and return only specific fits that we are interested in. We first \n",
    "do this, using the `info` object, whereby we can query any of its entries, for example the `dataset_name` string we \n",
    "input into the model-fit above. \n",
    "\n",
    "By querying using the string `mass_sie__source_sersic__1` the model-fit to only the second strong lens is returned:"
   ]
  },
  {
   "cell_type": "code",
   "execution_count": 4,
   "metadata": {
    "execution": {
     "iopub.execute_input": "2021-04-10T11:32:42.213953Z",
     "iopub.status.busy": "2021-04-10T11:32:42.213625Z",
     "iopub.status.idle": "2021-04-10T11:32:42.215880Z",
     "shell.execute_reply": "2021-04-10T11:32:42.215554Z"
    }
   },
   "outputs": [
    {
     "name": "stdout",
     "output_type": "stream",
     "text": [
      "Filter found a total of 0 results\n"
     ]
    }
   ],
   "source": [
    "# Feature Missing\n",
    "# agg_query = agg.query(agg.directory.contains(\"mass_sie__source_sersic__1\"))\n",
    "# samples_gen = agg_query.values(\"samples\")\n",
    "agg_filter = agg.filter(agg.directory.contains(\"runner\"))"
   ]
  },
  {
   "cell_type": "markdown",
   "metadata": {},
   "source": [
    "As expected, this list now has only 1 MCMCSamples corresponding to the second dataset."
   ]
  },
  {
   "cell_type": "code",
   "execution_count": 5,
   "metadata": {
    "execution": {
     "iopub.execute_input": "2021-04-10T11:32:42.218834Z",
     "iopub.status.busy": "2021-04-10T11:32:42.218070Z",
     "iopub.status.idle": "2021-04-10T11:32:42.219986Z",
     "shell.execute_reply": "2021-04-10T11:32:42.220256Z"
    }
   },
   "outputs": [
    {
     "name": "stdout",
     "output_type": "stream",
     "text": [
      "Directory Filtered NestedSampler Samples: \n",
      "\n",
      "Total Samples Objects =  0 \n",
      "\n",
      "\n"
     ]
    }
   ],
   "source": [
    "print(\"Directory Filtered NestedSampler Samples: \\n\")\n",
    "print(\"Total Samples Objects = \", len(list(agg_filter.values(\"samples\"))), \"\\n\\n\")"
   ]
  },
  {
   "cell_type": "markdown",
   "metadata": {},
   "source": [
    "If we query using an incorrect dataset name we get no results:"
   ]
  },
  {
   "cell_type": "code",
   "execution_count": 6,
   "metadata": {
    "execution": {
     "iopub.execute_input": "2021-04-10T11:32:42.223207Z",
     "iopub.status.busy": "2021-04-10T11:32:42.222680Z",
     "iopub.status.idle": "2021-04-10T11:32:42.225354Z",
     "shell.execute_reply": "2021-04-10T11:32:42.225063Z"
    }
   },
   "outputs": [
    {
     "name": "stdout",
     "output_type": "stream",
     "text": [
      "Filter found a total of 0 results\n",
      "Incorrect Phase Name Filtered NestedSampler Samples: \n",
      "\n",
      "Total Samples Objects =  0 \n",
      "\n",
      "\n"
     ]
    }
   ],
   "source": [
    "# Feature Missing\n",
    "# agg_query = agg.query(agg.directory.contains(\"invalid_string\"))\n",
    "# samples_gen = agg_query.values(\"samples\")\n",
    "agg_filter_incorrect = agg.filter(agg.directory.contains(\"invalid_string\"))\n",
    "print(\"Incorrect Phase Name Filtered NestedSampler Samples: \\n\")\n",
    "print(\n",
    "    \"Total Samples Objects = \",\n",
    "    len(list(agg_filter_incorrect.values(\"samples\"))),\n",
    "    \"\\n\\n\",\n",
    ")"
   ]
  },
  {
   "cell_type": "markdown",
   "metadata": {},
   "source": [
    "We can also query based on the model fitted. \n",
    "\n",
    "For example, we can load all results which fitted an `EllIsothermal` model-component, which in this simple \n",
    "example is all 3 model-fits.\n",
    "\n",
    "The ability to query via the model is extremely powerful. It enables a user to fit many lens models to large samples \n",
    "of lenses efficiently load and inspect the results. \n",
    "\n",
    "[Note: the code `agg.galaxies.lens.mass` corresponds to the fact that in the `Model` we named the model components \n",
    "`galaxies`, `lens` and `mass`. If the `Model` had used a different name the code below would change correspondingly. \n",
    "Models with multiple galaxies are therefore easily accessed via the database.]"
   ]
  },
  {
   "cell_type": "code",
   "execution_count": 7,
   "metadata": {
    "execution": {
     "iopub.execute_input": "2021-04-10T11:32:42.227703Z",
     "iopub.status.busy": "2021-04-10T11:32:42.227349Z",
     "iopub.status.idle": "2021-04-10T11:32:42.228920Z",
     "shell.execute_reply": "2021-04-10T11:32:42.229196Z"
    }
   },
   "outputs": [],
   "source": [
    "mass = agg.galaxies.lens.mass\n",
    "# agg_query = agg.query(mass == al.mp.EllIsothermal)\n",
    "# samples_gen = agg_query.values(\"samples\")\n",
    "# print(\n",
    "#     \"Total Samples Objects via `EllIsothermal` model query = \",\n",
    "#     len(list(samples_gen)),\n",
    "#     \"\\n\",\n",
    "# )"
   ]
  },
  {
   "cell_type": "markdown",
   "metadata": {},
   "source": [
    "Queries using the results of model-fitting are also supported. Below, we query the database to find all fits where the \n",
    "inferred value of `sersic_index` for the `EllSersic` of the source's bulge is less than 3.0 (which returns only \n",
    "the first of the three model-fits)."
   ]
  },
  {
   "cell_type": "code",
   "execution_count": 8,
   "metadata": {
    "execution": {
     "iopub.execute_input": "2021-04-10T11:32:42.231279Z",
     "iopub.status.busy": "2021-04-10T11:32:42.230968Z",
     "iopub.status.idle": "2021-04-10T11:32:42.232471Z",
     "shell.execute_reply": "2021-04-10T11:32:42.232747Z"
    }
   },
   "outputs": [],
   "source": [
    "bulge = agg.galaxies.source.bulge\n",
    "# agg_query = agg.query(bulge.sersic_index < 3.0)\n",
    "# samples_gen = agg_query.values(\"samples\")\n",
    "# print(\n",
    "#     \"Total Samples Objects In Query `source.bulge.sersic_index < 3.0` = \",\n",
    "#     len(list(samples_gen)),\n",
    "#     \"\\n\",\n",
    "# )"
   ]
  },
  {
   "cell_type": "markdown",
   "metadata": {},
   "source": [
    "Advanced queries can be constructed using logic, for example we below we combine the two queries above to find all\n",
    "results which fitted an `EllIsothermal` mass model AND (using the & symbol) inferred a value of sersic index of \n",
    "less than 3.0 for the source's bulge. \n",
    "\n",
    "The OR logical clause is also supported via the symbol |."
   ]
  },
  {
   "cell_type": "code",
   "execution_count": 9,
   "metadata": {
    "execution": {
     "iopub.execute_input": "2021-04-10T11:32:42.235360Z",
     "iopub.status.busy": "2021-04-10T11:32:42.235046Z",
     "iopub.status.idle": "2021-04-10T11:32:42.236562Z",
     "shell.execute_reply": "2021-04-10T11:32:42.236842Z"
    }
   },
   "outputs": [],
   "source": [
    "mass = agg.galaxies.lens.mass\n",
    "# bulge = agg.galaxies.source.bulge\n",
    "# agg_query = agg.query((mass == al.mp.EllIsothermal) & (bulge.sersic_index < 3.0))\n",
    "# samples_gen = agg_query.values(\"samples\")\n",
    "# print(\n",
    "#     \"Total Samples Objects In Query `Gaussian & sigma < 3.0` = \",\n",
    "#     len(list(samples_gen)),\n",
    "#     \"\\n\",\n",
    "# )"
   ]
  },
  {
   "cell_type": "markdown",
   "metadata": {},
   "source": [
    "Old Aggregator API... delete soon."
   ]
  },
  {
   "cell_type": "code",
   "execution_count": 10,
   "metadata": {
    "execution": {
     "iopub.execute_input": "2021-04-10T11:32:42.239905Z",
     "iopub.status.busy": "2021-04-10T11:32:42.239520Z",
     "iopub.status.idle": "2021-04-10T11:32:42.241655Z",
     "shell.execute_reply": "2021-04-10T11:32:42.241905Z"
    }
   },
   "outputs": [
    {
     "name": "stdout",
     "output_type": "stream",
     "text": [
      "Filter found a total of 0 results\n",
      "Multiple Filter NestedSampler Samples: \n",
      "\n",
      "\n",
      "Total Samples Objects =  0 \n",
      "\n",
      "\n"
     ]
    }
   ],
   "source": [
    "agg_filter_multiple = agg.filter(\n",
    "    agg.directory.contains(\"phase__\"),\n",
    "    agg.directory.contains(\"dynesty\"),\n",
    "    agg.directory.contains(\"mass_sie__source_bulge__0\"),\n",
    ")\n",
    "print(\"Multiple Filter NestedSampler Samples: \\n\")\n",
    "print()\n",
    "print(\n",
    "    \"Total Samples Objects = \", len(list(agg_filter_multiple.values(\"samples\"))), \"\\n\\n\"\n",
    ")"
   ]
  },
  {
   "cell_type": "markdown",
   "metadata": {},
   "source": [
    "Finished."
   ]
  },
  {
   "cell_type": "code",
   "execution_count": null,
   "metadata": {},
   "outputs": [],
   "source": []
  }
 ],
 "metadata": {
  "anaconda-cloud": {},
  "kernelspec": {
   "display_name": "Python 3",
   "language": "python",
   "name": "python3"
  },
  "language_info": {
   "codemirror_mode": {
    "name": "ipython",
    "version": 3
   },
   "file_extension": ".py",
   "mimetype": "text/x-python",
   "name": "python",
   "nbconvert_exporter": "python",
   "pygments_lexer": "ipython3",
   "version": "3.8.5"
  }
 },
 "nbformat": 4,
 "nbformat_minor": 4
}
