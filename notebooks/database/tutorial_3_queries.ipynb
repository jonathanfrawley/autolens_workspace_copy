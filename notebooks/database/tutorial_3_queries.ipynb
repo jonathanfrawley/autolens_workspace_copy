{
  "cells": [
    {
      "cell_type": "markdown",
      "metadata": {},
      "source": [
        "Database 3: Queries\n",
        "===================\n",
        "\n",
        "Suppose we have the results of many fits in the `output` folder and we only wanted to load and inspect a specific set\n",
        "of model-fits (e.g. the results of `tutorial_1_introduction`). We can use the database's querying tools to only load\n",
        "the results we are interested in.\n",
        "\n",
        "The database also supports advanced querying, so that specific model-fits (e.g., which fit a certain model or dataset)\n",
        "can be loaded."
      ]
    },
    {
      "cell_type": "code",
      "metadata": {},
      "source": [
        "%matplotlib inline\n",
        "from pyprojroot import here\n",
        "workspace_path = str(here())\n",
        "%cd $workspace_path\n",
        "print(f\"Working Directory has been set to `{workspace_path}`\")\n",
        "\n",
        "from os import path\n",
        "import autofit as af\n",
        "import autolens as al\n"
      ],
      "outputs": [],
      "execution_count": null
    },
    {
      "cell_type": "markdown",
      "metadata": {},
      "source": [
        "First, we set up the aggregator like we did in the previous tutorial. However, we can also filter results to only \n",
        "include completed results. By including the `completed_only` input below, any results which are in the middle of a \n",
        "non-linear will be omitted and not loaded in the `Aggregator`.\n",
        "\n",
        "For these tutorials, we only performed 3 model-fits which ran to completion, so this does not remove any results. For\n",
        "general database use when you may have many model-fits running simultaneously, this filter can prove useful."
      ]
    },
    {
      "cell_type": "code",
      "metadata": {},
      "source": [
        "agg = af.Aggregator.from_database(\"database.sqlite\", completed_only=True)"
      ],
      "outputs": [],
      "execution_count": null
    },
    {
      "cell_type": "markdown",
      "metadata": {},
      "source": [
        "We can use the `Aggregator`'s to query the database and return only specific fits that we are interested in. We first \n",
        "do this, using the `unique_tag` which we can query to load the results of a specific `dataset_name` string we \n",
        "input into the model-fit's search. \n",
        "\n",
        "By querying using the string `mass_sie__source_sersic__1` the model-fit to only the second strong lens is returned:"
      ]
    },
    {
      "cell_type": "code",
      "metadata": {},
      "source": [
        "# Feature Missing\n",
        "# agg_query = agg.query(agg.directory.contains(\"mass_sie__source_sersic__1\"))\n",
        "# samples_gen = agg_query.values(\"samples\")\n",
        "# agg_filter = agg.filter(agg.directory.contains(\"runner\"))"
      ],
      "outputs": [],
      "execution_count": null
    },
    {
      "cell_type": "markdown",
      "metadata": {},
      "source": [
        "As expected, this list now has only 1 MCMCSamples corresponding to the second dataset."
      ]
    },
    {
      "cell_type": "code",
      "metadata": {},
      "source": [
        "# print(\"Directory Filtered NestedSampler Samples: \\n\")\n",
        "# print(\"Total Samples Objects = \", len(list(agg_filter.values(\"samples\"))), \"\\n\\n\")"
      ],
      "outputs": [],
      "execution_count": null
    },
    {
      "cell_type": "markdown",
      "metadata": {},
      "source": [
        "If we query using an incorrect dataset name we get no results:"
      ]
    },
    {
      "cell_type": "code",
      "metadata": {},
      "source": [
        "# Feature Missing\n",
        "# agg_query = agg.query(agg.directory.contains(\"invalid_string\"))\n",
        "# samples_gen = agg_query.values(\"samples\")\n",
        "# agg_filter_incorrect = agg.filter(agg.directory.contains(\"invalid_string\"))\n",
        "# print(\"Incorrect Phase Name Filtered NestedSampler Samples: \\n\")\n",
        "# print(\n",
        "#     \"Total Samples Objects = \",\n",
        "#     len(list(agg_filter_incorrect.values(\"samples\"))),\n",
        "#     \"\\n\\n\",\n",
        "# )"
      ],
      "outputs": [],
      "execution_count": null
    },
    {
      "cell_type": "markdown",
      "metadata": {},
      "source": [
        "We can also query based on the model fitted. \n",
        "\n",
        "For example, we can load all results which fitted an `EllIsothermal` model-component, which in this simple \n",
        "example is all 3 model-fits.\n",
        "\n",
        "The ability to query via the model is extremely powerful. It enables a user to fit many lens models to large samples \n",
        "of lenses efficiently load and inspect the results. \n",
        "\n",
        "[Note: the code `agg.galaxies.lens.mass` corresponds to the fact that in the `Model` we named the model components \n",
        "`galaxies`, `lens` and `mass`. If the `Model` had used a different name the code below would change correspondingly. \n",
        "Models with multiple galaxies are therefore easily accessed via the database.]"
      ]
    },
    {
      "cell_type": "code",
      "metadata": {},
      "source": [
        "lens = agg.galaxies.lens\n",
        "agg_query = agg.query(lens.mass == al.mp.EllIsothermal)\n",
        "samples_gen = agg_query.values(\"samples\")\n",
        "print(\n",
        "    \"Total Samples Objects via `EllIsothermal` model query = \",\n",
        "    len(list(samples_gen)),\n",
        "    \"\\n\",\n",
        ")"
      ],
      "outputs": [],
      "execution_count": null
    },
    {
      "cell_type": "markdown",
      "metadata": {},
      "source": [
        "Queries using the results of model-fitting are also supported. Below, we query the database to find all fits where the \n",
        "inferred value of `sersic_index` for the `EllSersic` of the source's bulge is less than 3.0 (which returns only \n",
        "the first of the three model-fits)."
      ]
    },
    {
      "cell_type": "code",
      "metadata": {},
      "source": [
        "bulge = agg.galaxies.source.bulge\n",
        "agg_query = agg.query(bulge.sersic_index < 3.0)\n",
        "samples_gen = agg_query.values(\"samples\")\n",
        "print(\n",
        "    \"Total Samples Objects In Query `source.bulge.sersic_index < 3.0` = \",\n",
        "    len(list(samples_gen)),\n",
        "    \"\\n\",\n",
        ")"
      ],
      "outputs": [],
      "execution_count": null
    },
    {
      "cell_type": "markdown",
      "metadata": {},
      "source": [
        "Advanced queries can be constructed using logic, for example we below we combine the two queries above to find all\n",
        "results which fitted an `EllIsothermal` mass model AND (using the & symbol) inferred a value of sersic index of \n",
        "less than 3.0 for the source's bulge. \n",
        "\n",
        "The OR logical clause is also supported via the symbol |."
      ]
    },
    {
      "cell_type": "code",
      "metadata": {},
      "source": [
        "mass = agg.galaxies.lens.mass\n",
        "agg_query = agg.query((mass == al.mp.EllIsothermal) & (mass.einstein_radius > 1.0))\n",
        "samples_gen = agg_query.values(\"samples\")\n",
        "print(\n",
        "    \"Total Samples Objects In Query `EllIsothermal and einstein_radius > 3.0` = \",\n",
        "    len(list(samples_gen)),\n",
        "    \"\\n\",\n",
        ")"
      ],
      "outputs": [],
      "execution_count": null
    },
    {
      "cell_type": "markdown",
      "metadata": {},
      "source": [
        "Finished."
      ]
    },
    {
      "cell_type": "code",
      "metadata": {},
      "source": [],
      "outputs": [],
      "execution_count": null
    }
  ],
  "metadata": {
    "anaconda-cloud": {},
    "kernelspec": {
      "display_name": "Python 3",
      "language": "python",
      "name": "python3"
    },
    "language_info": {
      "codemirror_mode": {
        "name": "ipython",
        "version": 3
      },
      "file_extension": ".py",
      "mimetype": "text/x-python",
      "name": "python",
      "nbconvert_exporter": "python",
      "pygments_lexer": "ipython3",
      "version": "3.6.1"
    }
  },
  "nbformat": 4,
  "nbformat_minor": 4
}