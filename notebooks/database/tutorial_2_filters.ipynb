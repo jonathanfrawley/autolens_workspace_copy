{
 "cells": [
  {
   "cell_type": "markdown",
   "metadata": {},
   "source": [
    "Database 2: Filters\n",
    "===================\n",
    "\n",
    "Lets suppose we had the results of other fits in the folder `output/aggregator`, and we *only* wanted fits which used\n",
    "the phase defined in `phase_runner.py`. To avoid loading all the other results, we can use the aggregator`s filter\n",
    "tool, which filters the results and provides us with only the results we want.\n",
    "\n",
    "The filter provides us with the aggregator object we used in the previous tutorial, so can be used in an identical\n",
    "fashion to tutorial 1."
   ]
  },
  {
   "cell_type": "code",
   "execution_count": 1,
   "metadata": {
    "execution": {
     "iopub.execute_input": "2021-03-06T11:15:45.597275Z",
     "iopub.status.busy": "2021-03-06T11:15:45.596803Z",
     "iopub.status.idle": "2021-03-06T11:15:46.928052Z",
     "shell.execute_reply": "2021-03-06T11:15:46.927587Z"
    }
   },
   "outputs": [
    {
     "name": "stdout",
     "output_type": "stream",
     "text": [
      "/mnt/c/Users/Jammy/Code/PyAuto/autolens_workspace\n",
      "Working Directory has been set to `/mnt/c/Users/Jammy/Code/PyAuto/autolens_workspace`\n"
     ]
    }
   ],
   "source": [
    "%matplotlib inline\n",
    "from pyprojroot import here\n",
    "workspace_path = str(here())\n",
    "%cd $workspace_path\n",
    "print(f\"Working Directory has been set to `{workspace_path}`\")\n",
    "\n",
    "from os import path\n",
    "import autofit as af"
   ]
  },
  {
   "cell_type": "markdown",
   "metadata": {},
   "source": [
    "First, set up the aggregator as we did in the previous tutorial."
   ]
  },
  {
   "cell_type": "code",
   "execution_count": 2,
   "metadata": {
    "execution": {
     "iopub.execute_input": "2021-03-06T11:15:46.931202Z",
     "iopub.status.busy": "2021-03-06T11:15:46.930787Z",
     "iopub.status.idle": "2021-03-06T11:15:47.156726Z",
     "shell.execute_reply": "2021-03-06T11:15:47.156405Z"
    }
   },
   "outputs": [
    {
     "name": "stdout",
     "output_type": "stream",
     "text": [
      "Aggregator loading phases... could take some time.\n",
      "\n",
      " A total of 6 phases and results were found.\n"
     ]
    }
   ],
   "source": [
    "agg = af.Aggregator(directory=path.join(\"output\", \"database\"))"
   ]
  },
  {
   "cell_type": "markdown",
   "metadata": {},
   "source": [
    "We can filter results to only include completed results. By including the `completed_only` input below, any \n",
    "results which are in the middle of a non-linear will be omitted and not loaded in the `Aggregator`."
   ]
  },
  {
   "cell_type": "code",
   "execution_count": 3,
   "metadata": {
    "execution": {
     "iopub.execute_input": "2021-03-06T11:15:47.159280Z",
     "iopub.status.busy": "2021-03-06T11:15:47.158927Z",
     "iopub.status.idle": "2021-03-06T11:15:47.379651Z",
     "shell.execute_reply": "2021-03-06T11:15:47.379938Z"
    }
   },
   "outputs": [
    {
     "name": "stdout",
     "output_type": "stream",
     "text": [
      "Aggregator loading phases... could take some time.\n",
      "\n",
      " A total of 6 phases and results were found.\n"
     ]
    }
   ],
   "source": [
    "agg = af.Aggregator(directory=path.join(\"output\", \"database\"), completed_only=True)"
   ]
  },
  {
   "cell_type": "markdown",
   "metadata": {},
   "source": [
    "We can filter using strings, requiring that the string appears in the full path of the output\n",
    "results. This is useful if you fit a samples of lenses where:\n",
    "\n",
    " - Multiple results, corresponding to different pipelines, phases and model-fits are stored in the same path.\n",
    " - Different runs using different `SettingsPhase` and `SetupPipeline` are in the same path.\n",
    " - Fits using different non-linear searches, with different settings, are contained in the same path.\n",
    "\n",
    "The example below shows us using the contains filter to get the results of all 3 lenses. The contains method\n",
    "only requires that the string is in the path structure, thus we do not need to specify the full phase name."
   ]
  },
  {
   "cell_type": "code",
   "execution_count": 4,
   "metadata": {
    "execution": {
     "iopub.execute_input": "2021-03-06T11:15:47.382854Z",
     "iopub.status.busy": "2021-03-06T11:15:47.382494Z",
     "iopub.status.idle": "2021-03-06T11:15:49.536123Z",
     "shell.execute_reply": "2021-03-06T11:15:49.536412Z"
    }
   },
   "outputs": [
    {
     "name": "stdout",
     "output_type": "stream",
     "text": [
      "Filter found a total of 3 results\n",
      "Directory Filtered NestedSampler Samples: \n",
      "\n",
      "Total Samples Objects =  3 \n",
      "\n",
      "\n"
     ]
    }
   ],
   "source": [
    "agg_filter = agg.filter(agg.directory.contains(\"phase_runner\"))\n",
    "print(\"Directory Filtered NestedSampler Samples: \\n\")\n",
    "print(\"Total Samples Objects = \", len(list(agg_filter.values(\"samples\"))), \"\\n\\n\")"
   ]
  },
  {
   "cell_type": "markdown",
   "metadata": {},
   "source": [
    "If we filter based on the dataset name, we can load the results of just one of the three model-fits performed in \n",
    "the tutorial_0 phase runner."
   ]
  },
  {
   "cell_type": "code",
   "execution_count": 5,
   "metadata": {
    "execution": {
     "iopub.execute_input": "2021-03-06T11:15:49.539236Z",
     "iopub.status.busy": "2021-03-06T11:15:49.538866Z",
     "iopub.status.idle": "2021-03-06T11:15:49.546166Z",
     "shell.execute_reply": "2021-03-06T11:15:49.546397Z"
    }
   },
   "outputs": [
    {
     "name": "stdout",
     "output_type": "stream",
     "text": [
      "Filter found a total of 1 results\n",
      "Directory Filtered NestedSampler Samples: \n",
      "\n",
      "Total Samples Objects =  1 \n",
      "\n",
      "\n"
     ]
    }
   ],
   "source": [
    "agg_filter = agg.filter(agg.directory.contains(\"mass_sie__source_sersic__0\"))\n",
    "print(\"Directory Filtered NestedSampler Samples: \\n\")\n",
    "print(\"Total Samples Objects = \", len(list(agg_filter.values(\"samples\"))), \"\\n\\n\")"
   ]
  },
  {
   "cell_type": "markdown",
   "metadata": {},
   "source": [
    "If we filtered using an incorrect phase name we would get no results:"
   ]
  },
  {
   "cell_type": "code",
   "execution_count": 6,
   "metadata": {
    "execution": {
     "iopub.execute_input": "2021-03-06T11:15:49.549176Z",
     "iopub.status.busy": "2021-03-06T11:15:49.548815Z",
     "iopub.status.idle": "2021-03-06T11:15:49.551267Z",
     "shell.execute_reply": "2021-03-06T11:15:49.551008Z"
    }
   },
   "outputs": [
    {
     "name": "stdout",
     "output_type": "stream",
     "text": [
      "Filter found a total of 0 results\n",
      "Incorrect Phase Name Filtered NestedSampler Samples: \n",
      "\n",
      "Total Samples Objects =  0 \n",
      "\n",
      "\n"
     ]
    }
   ],
   "source": [
    "name = \"phase__incorrect_name\"\n",
    "agg_filter_incorrect = agg.filter(agg.directory.contains(\"invalid_string\"))\n",
    "print(\"Incorrect Phase Name Filtered NestedSampler Samples: \\n\")\n",
    "print(\n",
    "    \"Total Samples Objects = \",\n",
    "    len(list(agg_filter_incorrect.values(\"samples\"))),\n",
    "    \"\\n\\n\",\n",
    ")"
   ]
  },
  {
   "cell_type": "markdown",
   "metadata": {},
   "source": [
    "Filters can be combined to load precisely only the result that you want, below we use all the above filters to \n",
    "load only the results of the fit to the first lens in our sample."
   ]
  },
  {
   "cell_type": "code",
   "execution_count": 7,
   "metadata": {
    "execution": {
     "iopub.execute_input": "2021-03-06T11:15:49.554108Z",
     "iopub.status.busy": "2021-03-06T11:15:49.553580Z",
     "iopub.status.idle": "2021-03-06T11:15:49.556357Z",
     "shell.execute_reply": "2021-03-06T11:15:49.556055Z"
    }
   },
   "outputs": [
    {
     "name": "stdout",
     "output_type": "stream",
     "text": [
      "Filter found a total of 0 results\n",
      "Multiple Filter NestedSampler Samples: \n",
      "\n",
      "\n",
      "Total Samples Objects =  0 \n",
      "\n",
      "\n"
     ]
    }
   ],
   "source": [
    "agg_filter_multiple = agg.filter(\n",
    "    agg.directory.contains(\"phase__\"),\n",
    "    agg.directory.contains(\"dynesty\"),\n",
    "    agg.directory.contains(\"mass_sie__source_bulge__0\"),\n",
    ")\n",
    "print(\"Multiple Filter NestedSampler Samples: \\n\")\n",
    "print()\n",
    "print(\n",
    "    \"Total Samples Objects = \", len(list(agg_filter_multiple.values(\"samples\"))), \"\\n\\n\"\n",
    ")"
   ]
  },
  {
   "cell_type": "markdown",
   "metadata": {},
   "source": [
    "Finished."
   ]
  },
  {
   "cell_type": "code",
   "execution_count": null,
   "metadata": {},
   "outputs": [],
   "source": []
  }
 ],
 "metadata": {
  "anaconda-cloud": {},
  "kernelspec": {
   "display_name": "Python 3",
   "language": "python",
   "name": "python3"
  },
  "language_info": {
   "codemirror_mode": {
    "name": "ipython",
    "version": 3
   },
   "file_extension": ".py",
   "mimetype": "text/x-python",
   "name": "python",
   "nbconvert_exporter": "python",
   "pygments_lexer": "ipython3",
   "version": "3.8.5"
  }
 },
 "nbformat": 4,
 "nbformat_minor": 4
}
