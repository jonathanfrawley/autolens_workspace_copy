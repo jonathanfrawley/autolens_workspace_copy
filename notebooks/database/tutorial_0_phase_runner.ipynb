{
 "cells": [
  {
   "cell_type": "markdown",
   "metadata": {},
   "source": [
    "Database: Phase Runner\n",
    "======================\n",
    "\n",
    "This script fits a sample of three simulated strong lenses using a single `PhaseImaging` object, to illustrate\n",
    "aggregator functionality in the aggregator tutorials a1 - a5.\n",
    "\n",
    "The phase fits each lens with:\n",
    " \n",
    " - An `EllipticalIsothermal` `MassProfile` for the lens galaxy's mass.\n",
    " - An `EllipticalSersic` `LightProfile` for the source galaxy's light."
   ]
  },
  {
   "cell_type": "code",
   "execution_count": 1,
   "metadata": {
    "execution": {
     "iopub.execute_input": "2021-03-06T11:15:18.863303Z",
     "iopub.status.busy": "2021-03-06T11:15:18.862937Z",
     "iopub.status.idle": "2021-03-06T11:15:23.225077Z",
     "shell.execute_reply": "2021-03-06T11:15:23.225352Z"
    }
   },
   "outputs": [
    {
     "name": "stdout",
     "output_type": "stream",
     "text": [
      "/mnt/c/Users/Jammy/Code/PyAuto/autolens_workspace\n",
      "Working Directory has been set to `/mnt/c/Users/Jammy/Code/PyAuto/autolens_workspace`\n"
     ]
    }
   ],
   "source": [
    "%matplotlib inline\n",
    "from pyprojroot import here\n",
    "workspace_path = str(here())\n",
    "%cd $workspace_path\n",
    "print(f\"Working Directory has been set to `{workspace_path}`\")\n",
    "\n",
    "from os import path\n",
    "import autofit as af\n",
    "import autolens as al"
   ]
  },
  {
   "cell_type": "markdown",
   "metadata": {},
   "source": [
    "Specify the dataset type, label and name, which we use to determine the path we load the data from."
   ]
  },
  {
   "cell_type": "code",
   "execution_count": 2,
   "metadata": {
    "execution": {
     "iopub.execute_input": "2021-03-06T11:15:23.231133Z",
     "iopub.status.busy": "2021-03-06T11:15:23.230796Z",
     "iopub.status.idle": "2021-03-06T11:15:26.945538Z",
     "shell.execute_reply": "2021-03-06T11:15:26.945165Z"
    }
   },
   "outputs": [
    {
     "name": "stderr",
     "output_type": "stream",
     "text": [
      "INFO:root:phase_aggregator already completed, skipping non-linear search.\n",
      "INFO:root:phase_aggregator already completed, skipping non-linear search.\n",
      "INFO:root:phase_aggregator already completed, skipping non-linear search.\n"
     ]
    }
   ],
   "source": [
    "pixel_scales = 0.1\n",
    "\n",
    "for dataset_name in [\n",
    "    \"mass_sie__source_sersic__0\",\n",
    "    \"mass_sie__source_sersic__1\",\n",
    "    \"mass_sie__source_sersic__2\",\n",
    "]:\n",
    "\n",
    "    \"\"\"\n",
    "    Set up the config and output paths.\n",
    "    \"\"\"\n",
    "    dataset_path = path.join(\"dataset\", \"database\", dataset_name)\n",
    "\n",
    "    \"\"\"\n",
    "    Info:\n",
    "\n",
    "    We can pass information on our dataset to the `phase.run()` method, which will be accessible to the aggregator \n",
    "    to aid interpretation of results. This information is passed as a dictionary, with th redshifts of the lens\n",
    "    and source good examples of information you may wish to pass.\n",
    "    \"\"\"\n",
    "    info = {\n",
    "        \"redshift_lens\": 0.5,\n",
    "        \"redshift_source\": 1.0,\n",
    "        \"velocity_dispersion\": 250000,\n",
    "        \"stellar mass\": 1e11,\n",
    "    }\n",
    "\n",
    "    \"\"\"\n",
    "    Using the dataset path, load the data (image, noise-map, PSF) as an `Imaging` object from .fits files.\n",
    "    \n",
    "    This `Imaging` object will be available via the aggregator. Note also that we give the dataset a `name` via the\n",
    "    command `name=dataset_name`. we'll use this name in the aggregator tutorials.\n",
    "    \"\"\"\n",
    "    imaging = al.Imaging.from_fits(\n",
    "        image_path=path.join(dataset_path, \"image.fits\"),\n",
    "        psf_path=path.join(dataset_path, \"psf.fits\"),\n",
    "        noise_map_path=path.join(dataset_path, \"noise_map.fits\"),\n",
    "        pixel_scales=pixel_scales,\n",
    "        name=dataset_name,\n",
    "    )\n",
    "\n",
    "    \"\"\"\n",
    "    The `Mask2D` we fit this data-set with, which will be available via the aggregator.\n",
    "    \"\"\"\n",
    "    mask = al.Mask2D.circular(\n",
    "        shape_native=imaging.shape_native, pixel_scales=imaging.pixel_scales, radius=3.0\n",
    "    )\n",
    "\n",
    "    \"\"\"\n",
    "    Pickle Files:\n",
    "\n",
    "    We can pass strings specifying the path and filename of .pickle files stored on our hard-drive to the `phase.run()`\n",
    "    method, which will make them accessible to the aggregator  to aid interpretation of results. Our simulated strong\n",
    "    lens datasets have a `true_tracer.pickle` file which we pass in below, which we use in the `Aggregator` tutorials to\n",
    "    easily illustrate how we can check if a model-fit recovers its true input parameters.\n",
    "    \"\"\"\n",
    "    pickle_files = [path.join(dataset_path, \"true_tracer.pickle\")]\n",
    "\n",
    "    \"\"\"\n",
    "    The `SettingsPhaseImaging` (which customize the fit of the phase`s fit), will also be available to the aggregator! \n",
    "    \"\"\"\n",
    "    settings_masked_imaging = al.SettingsMaskedImaging(grid_class=al.Grid2D, sub_size=2)\n",
    "\n",
    "    settings = al.SettingsPhaseImaging(settings_masked_imaging=settings_masked_imaging)\n",
    "\n",
    "    phase = al.PhaseImaging(\n",
    "        search=af.DynestyStatic(\n",
    "            path_prefix=path.join(\"database\", \"phase_runner\", dataset_name),\n",
    "            name=\"phase_aggregator\",\n",
    "            n_live_points=50,\n",
    "        ),\n",
    "        galaxies=af.Collection(\n",
    "            lens=af.Model(al.Galaxy, redshift=0.5, mass=al.mp.EllipticalIsothermal),\n",
    "            source=af.Model(al.Galaxy, redshift=1.0, bulge=al.lp.EllipticalSersic),\n",
    "        ),\n",
    "        settings=settings,\n",
    "    )\n",
    "\n",
    "    phase.run(dataset=imaging, mask=mask, info=info, pickle_files=pickle_files)\n"
   ]
  }
 ],
 "metadata": {
  "anaconda-cloud": {},
  "kernelspec": {
   "display_name": "Python 3",
   "language": "python",
   "name": "python3"
  },
  "language_info": {
   "codemirror_mode": {
    "name": "ipython",
    "version": 3
   },
   "file_extension": ".py",
   "mimetype": "text/x-python",
   "name": "python",
   "nbconvert_exporter": "python",
   "pygments_lexer": "ipython3",
   "version": "3.8.5"
  }
 },
 "nbformat": 4,
 "nbformat_minor": 4
}
