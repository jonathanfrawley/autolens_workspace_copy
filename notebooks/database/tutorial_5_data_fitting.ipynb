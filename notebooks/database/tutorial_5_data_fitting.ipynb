{
  "cells": [
    {
      "cell_type": "markdown",
      "metadata": {},
      "source": [
        "Database 5: Data Fitting\n",
        "========================\n",
        "\n",
        "In this tutorial, we use the aggregator to load models and data from a non-linear search and use them to perform\n",
        "fits to the data.\n",
        "\n",
        "It is here the use of generators is absolutely essential. We are going to manipulating datasets which use a lot of\n",
        "memory."
      ]
    },
    {
      "cell_type": "code",
      "metadata": {},
      "source": [
        "%matplotlib inline\n",
        "from pyprojroot import here\n",
        "workspace_path = str(here())\n",
        "%cd $workspace_path\n",
        "print(f\"Working Directory has been set to `{workspace_path}`\")\n",
        "\n",
        "from os import path\n",
        "import autofit as af\n",
        "import autolens as al\n",
        "import autolens.plot as aplt"
      ],
      "outputs": [],
      "execution_count": null
    },
    {
      "cell_type": "markdown",
      "metadata": {},
      "source": [
        "First, set up the aggregator as we did in the previous tutorial."
      ]
    },
    {
      "cell_type": "code",
      "metadata": {},
      "source": [
        "agg = af.Aggregator.from_database(\"database.sqlite\")"
      ],
      "outputs": [],
      "execution_count": null
    },
    {
      "cell_type": "markdown",
      "metadata": {},
      "source": [
        "We can also use the aggregator to load the dataset of every lens our search fitted. This generator returns the \n",
        "the `Imaging` objects that we passed to the `Analysis` class when we performed the model-fit."
      ]
    },
    {
      "cell_type": "code",
      "metadata": {},
      "source": [
        "dataset_gen = agg.values(\"dataset\")\n",
        "\n",
        "print(\"Datasets:\")\n",
        "print(dataset_gen, \"\\n\")\n",
        "print(list(dataset_gen)[0])\n",
        "\n",
        "for dataset in agg.values(\"dataset\"):\n",
        "\n",
        "    imaging_plotter = aplt.ImagingPlotter(imaging=dataset)\n",
        "    imaging_plotter.subplot_imaging()"
      ],
      "outputs": [],
      "execution_count": null
    },
    {
      "cell_type": "markdown",
      "metadata": {},
      "source": [
        "The masks we used to fit the lenses is contained in this `Imaging` object too."
      ]
    },
    {
      "cell_type": "code",
      "metadata": {},
      "source": [
        "mask_gen = agg.values(\"mask\")\n",
        "print([dataset.mask for dataset in dataset_gen])"
      ],
      "outputs": [],
      "execution_count": null
    },
    {
      "cell_type": "markdown",
      "metadata": {},
      "source": [
        "The name of the dataset we assigned when we ran the search is also available, which helps us to label the lenses \n",
        "on plots."
      ]
    },
    {
      "cell_type": "code",
      "metadata": {},
      "source": [
        "print(\"Dataset Names:\")\n",
        "dataset_gen = agg.values(\"dataset\")\n",
        "print([dataset.name for dataset in dataset_gen])"
      ],
      "outputs": [],
      "execution_count": null
    },
    {
      "cell_type": "markdown",
      "metadata": {},
      "source": [
        "The info dictionary we passed is also available."
      ]
    },
    {
      "cell_type": "code",
      "metadata": {},
      "source": [
        "print(\"Info:\")\n",
        "info_gen = agg.values(\"info\")\n",
        "print([info for info in info_gen])"
      ],
      "outputs": [],
      "execution_count": null
    },
    {
      "cell_type": "markdown",
      "metadata": {},
      "source": [
        "We now have access to the `Imaging` data we used to perform a model-fit, and the results of that model-fit in the form\n",
        "of a `Samples` object. \n",
        "\n",
        "We can therefore use the database to create a `FitImaging` of the maximum log-likelihood model of every model to its\n",
        "corresponding dataset, via the following generator:"
      ]
    },
    {
      "cell_type": "code",
      "metadata": {},
      "source": [
        "\n",
        "\n",
        "def make_fit_generator(agg_obj):\n",
        "\n",
        "    samples = agg_obj.samples\n",
        "    imaging = agg_obj.dataset\n",
        "\n",
        "    tracer = al.Tracer.from_galaxies(\n",
        "        galaxies=samples.max_log_likelihood_instance.galaxies\n",
        "    )\n",
        "\n",
        "    return al.FitImaging(imaging=imaging, tracer=tracer)\n",
        "\n",
        "\n",
        "fit_gen = agg.map(func=make_fit_generator)\n",
        "\n",
        "for fit in fit_gen:\n",
        "\n",
        "    fit_imaging_plotter = aplt.FitImagingPlotter(fit=fit)\n",
        "    fit_imaging_plotter.subplot_fit_imaging()"
      ],
      "outputs": [],
      "execution_count": null
    },
    {
      "cell_type": "markdown",
      "metadata": {},
      "source": [
        "The `AnalysisImaging` object has `settings_pixelization` and `settings_inversion` attributes, which customizes how \n",
        "these are used to fit the data. The generator above uses the `settings` of the object that were used by the model-fit. \n",
        "\n",
        "These settings objected are contained in the database and can therefore also be passed to the `FitImaging`."
      ]
    },
    {
      "cell_type": "code",
      "metadata": {},
      "source": [
        "\n",
        "\n",
        "def make_fit_generator(agg_obj):\n",
        "\n",
        "    samples = agg_obj.samples\n",
        "    imaging = agg_obj.dataset\n",
        "    settings_pixelization = agg_obj.settings_pixelization\n",
        "    settings_inversion = agg_obj.settings_inversion\n",
        "\n",
        "    tracer = al.Tracer.from_galaxies(\n",
        "        galaxies=samples.max_log_likelihood_instance.galaxies\n",
        "    )\n",
        "\n",
        "    return al.FitImaging(\n",
        "        imaging=imaging,\n",
        "        tracer=tracer,\n",
        "        settings_pixelization=settings_pixelization,\n",
        "        settings_inversion=settings_inversion,\n",
        "    )\n",
        "\n",
        "\n",
        "fit_gen = agg.map(func=make_fit_generator)\n",
        "\n",
        "for fit in fit_gen:\n",
        "    fit_imaging_plotter = aplt.FitImagingPlotter(fit=fit)\n",
        "    fit_imaging_plotter.subplot_fit_imaging()"
      ],
      "outputs": [],
      "execution_count": null
    },
    {
      "cell_type": "markdown",
      "metadata": {},
      "source": [
        "The PyAutoLens aggregator module also provides convenience methods for setting up objects *within* a generator. Below, \n",
        "we make the `Imaging` and `Tracer` using these methods, which perform the same functions as the generator above, \n",
        "including the settings."
      ]
    },
    {
      "cell_type": "code",
      "metadata": {},
      "source": [
        "\n",
        "\n",
        "def plot_fit(agg_obj):\n",
        "\n",
        "    imaging = al.agg.imaging_from_agg_obj(agg_obj=agg_obj)\n",
        "    tracer = al.agg.tracer_from_agg_obj(agg_obj=agg_obj)\n",
        "\n",
        "    return al.FitImaging(imaging=imaging, tracer=tracer)\n",
        "\n",
        "\n",
        "fit_gen = agg.map(func=make_fit_generator)\n",
        "\n",
        "for fit in fit_gen:\n",
        "    fit_imaging_plotter = aplt.FitImagingPlotter(fit=fit)\n",
        "    fit_imaging_plotter.subplot_fit_imaging()"
      ],
      "outputs": [],
      "execution_count": null
    },
    {
      "cell_type": "markdown",
      "metadata": {},
      "source": [
        "Of course, we also provide a convenience method to directly make the Imaging and FitImaging generators!"
      ]
    },
    {
      "cell_type": "code",
      "metadata": {},
      "source": [
        "imaging_gen = al.agg.Imaging(aggregator=agg)\n",
        "\n",
        "for imaging in imaging_gen:\n",
        "    print(imaging.name)\n",
        "\n",
        "fit_gen = al.agg.FitImaging(aggregator=agg)\n",
        "\n",
        "for fit in fit_gen:\n",
        "    fit_imaging_plotter = aplt.FitImagingPlotter(fit=fit)\n",
        "    fit_imaging_plotter.subplot_fit_imaging()"
      ],
      "outputs": [],
      "execution_count": null
    },
    {
      "cell_type": "markdown",
      "metadata": {},
      "source": [
        "This convenience method goes one step further. By default, it uses the `SettingsImaging`, `SettingsPixelization`\n",
        "and `SettingsInversion` used by the analysis. \n",
        "\n",
        "However, we can change these settings such that the model-fit is performed differently. For example, what if I wanted \n",
        "to see how the fit looks where the `Grid2D`'s `sub_size` is 4 (instead of the value of 2 that was used)? Or where \n",
        "the `Pixelization` didn`t use a border? You can do this by passing settings objects to the method, which overwrite \n",
        "the ones used by the analysis."
      ]
    },
    {
      "cell_type": "code",
      "metadata": {},
      "source": [
        "settings_imaging = al.SettingsImaging(sub_size=4)\n",
        "\n",
        "imaging_gen = al.agg.Imaging(aggregator=agg, settings_imaging=settings_imaging)\n",
        "\n",
        "settings_pixelization = al.SettingsPixelization(use_border=False)\n",
        "\n",
        "fit_gen = al.agg.FitImaging(\n",
        "    aggregator=agg,\n",
        "    settings_imaging=settings_imaging,\n",
        "    settings_pixelization=settings_pixelization,\n",
        ")\n",
        "\n",
        "for fit in fit_gen:\n",
        "    fit_imaging_plotter = aplt.FitImagingPlotter(fit=fit)\n",
        "    fit_imaging_plotter.subplot_fit_imaging()"
      ],
      "outputs": [],
      "execution_count": null
    },
    {
      "cell_type": "markdown",
      "metadata": {},
      "source": [
        "The benefit of inspecting fits using the aggregator, rather than the files outputs to the hard-disk, is that we can \n",
        "customize the plots using the PyAutoLens mat_plot_2d.\n",
        "\n",
        "Below, we create a new function to apply as a generator to do this. However, we use a convenience method available \n",
        "in the PyAutoLens aggregator package to set up the fit."
      ]
    },
    {
      "cell_type": "code",
      "metadata": {},
      "source": [
        "fit_gen = al.agg.FitImaging(aggregator=agg)\n",
        "\n",
        "for fit in fit_gen:\n",
        "\n",
        "    mat_plot_2d = aplt.MatPlot2D(\n",
        "        figure=aplt.Figure(figsize=(12, 12)),\n",
        "        title=aplt.Title(label=\"Custom Image\", fontsize=24),\n",
        "        yticks=aplt.YTicks(fontsize=24),\n",
        "        xticks=aplt.XTicks(fontsize=24),\n",
        "        cmap=aplt.Cmap(norm=\"log\", vmax=1.0, vmin=1.0),\n",
        "        colorbar_tickparams=aplt.ColorbarTickParams(labelsize=20),\n",
        "        units=aplt.Units(in_kpc=True),\n",
        "    )\n",
        "\n",
        "    fit_imaging_plotter = aplt.FitImagingPlotter(fit=fit, mat_plot_2d=mat_plot_2d)\n",
        "    fit_imaging_plotter.figures_2d(normalized_residual_map=True)"
      ],
      "outputs": [],
      "execution_count": null
    },
    {
      "cell_type": "markdown",
      "metadata": {},
      "source": [
        "Making this plot for a paper? You can output it to hard disk."
      ]
    },
    {
      "cell_type": "code",
      "metadata": {},
      "source": [
        "fit_gen = al.agg.FitImaging(aggregator=agg)\n",
        "\n",
        "for fit in fit_gen:\n",
        "\n",
        "    mat_plot_2d = aplt.MatPlot2D(\n",
        "        title=aplt.Title(label=\"Hey\"),\n",
        "        output=aplt.Output(\n",
        "            path=path.join(\"output\", \"path\", \"of\", \"file\"),\n",
        "            filename=\"publication\",\n",
        "            format=\"png\",\n",
        "        ),\n",
        "    )\n",
        "\n",
        "    fit_imaging_plotter = aplt.FitImagingPlotter(fit=fit, mat_plot_2d=mat_plot_2d)\n",
        "    fit_imaging_plotter.figures_2d(normalized_residual_map=True)"
      ],
      "outputs": [],
      "execution_count": null
    },
    {
      "cell_type": "markdown",
      "metadata": {},
      "source": [
        "Finished."
      ]
    },
    {
      "cell_type": "code",
      "metadata": {},
      "source": [],
      "outputs": [],
      "execution_count": null
    }
  ],
  "metadata": {
    "anaconda-cloud": {},
    "kernelspec": {
      "display_name": "Python 3",
      "language": "python",
      "name": "python3"
    },
    "language_info": {
      "codemirror_mode": {
        "name": "ipython",
        "version": 3
      },
      "file_extension": ".py",
      "mimetype": "text/x-python",
      "name": "python",
      "nbconvert_exporter": "python",
      "pygments_lexer": "ipython3",
      "version": "3.6.1"
    }
  },
  "nbformat": 4,
  "nbformat_minor": 4
}