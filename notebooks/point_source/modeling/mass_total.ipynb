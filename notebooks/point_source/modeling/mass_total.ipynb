{
  "cells": [
    {
      "cell_type": "markdown",
      "metadata": {},
      "source": [
        "Modeling: Point-Source Mass Total\n",
        "=================================\n",
        "\n",
        "In this script, we fit a `PointSourceDict` with a strong lens model where:\n",
        "\n",
        " - The lens galaxy's total mass distribution is an `EllIsothermal`.\n",
        " - The source `Galaxy` is a point source `PointSource`.\n",
        "\n",
        "The point-source dataset used in this example includes the flux of every point-source multiple image. However we omit\n",
        "the fluxes from the fit and the lens model (by using a `PointSource` model instead of a `PointSourceFlux`). We make\n",
        "this choice because most strong lens models of point sources it is common practise to omit flux information from the\n",
        "model-fit. Changing the point source model `PointSourceFlux` will therefore use this flux information.\n",
        "\n",
        "The `ExternalShear` is also not included in the mass model, where it is for the `imaging` and `interferometer` examples.\n",
        "For a quadruply imaged point source (8 data points) there is insufficient information to fully constain a model with\n",
        "an `EllIsothermal` and `ExternalShear` (9 parameters)."
      ]
    },
    {
      "cell_type": "code",
      "metadata": {},
      "source": [
        "%matplotlib inline\n",
        "from pyprojroot import here\n",
        "workspace_path = str(here())\n",
        "%cd $workspace_path\n",
        "print(f\"Working Directory has been set to `{workspace_path}`\")\n",
        "\n",
        "from os import path\n",
        "import autofit as af\n",
        "import autolens as al\n",
        "import autolens.plot as aplt"
      ],
      "outputs": [],
      "execution_count": null
    },
    {
      "cell_type": "markdown",
      "metadata": {},
      "source": [
        "__Dataset__\n",
        "\n",
        "Load the strong lens dataset `mass_sie__source_point`, which is the dataset we will use to perform lens modeling.\n",
        "\n",
        "We begin by loading an image of the dataset. Although we are performing point-source modeling and will not use this\n",
        "data in the model-fit, it is useful to load it for visualization. By passing this dataset to the model-fit at the\n",
        "end of the script it will be used when visualizing the results. However, the use of an image in this way is entirely\n",
        "optional, and if it were not included in the model-fit visualization would simple be performed using grids without\n",
        "the image."
      ]
    },
    {
      "cell_type": "code",
      "metadata": {},
      "source": [
        "dataset_name = \"mass_sie__source_point__0\"\n",
        "dataset_path = path.join(\"dataset\", \"point_source\", dataset_name)\n",
        "\n",
        "image = al.Array2D.from_fits(\n",
        "    file_path=path.join(dataset_path, \"image.fits\"), pixel_scales=0.05\n",
        ")"
      ],
      "outputs": [],
      "execution_count": null
    },
    {
      "cell_type": "markdown",
      "metadata": {},
      "source": [
        "We now load the point source dataset we will fit using point source modeling. We load this data as a `PointSourceDict`,\n",
        "which is a Python dictionary containing the positions and fluxes of every point source. \n",
        "\n",
        "In this example there is just one point source, but point source model can be applied to datasets with any number \n",
        "of source's."
      ]
    },
    {
      "cell_type": "code",
      "metadata": {},
      "source": [
        "point_source_dict = al.PointSourceDict.from_json(\n",
        "    file_path=path.join(dataset_path, \"point_source_dict.json\")\n",
        ")"
      ],
      "outputs": [],
      "execution_count": null
    },
    {
      "cell_type": "markdown",
      "metadata": {},
      "source": [
        "We can print the `positions` and `fluxes` of this dataset, as well as their noise-map values."
      ]
    },
    {
      "cell_type": "code",
      "metadata": {},
      "source": [
        "print(\"Point Source Dataset Name:\")\n",
        "print(point_source_dict[\"point_0\"].name)\n",
        "print(\"Point Source Multiple Image (y,x) Arc-second Coordinates:\")\n",
        "print(point_source_dict[\"point_0\"].positions.in_list)\n",
        "print(\"Point Source Multiple Image Noise-map Values:\")\n",
        "print(point_source_dict[\"point_0\"].positions_noise_map.in_list)\n",
        "print(\"Point Source Flux Values:\")\n",
        "print(point_source_dict[\"point_0\"].fluxes.in_list)\n",
        "print(\"Point Source Flux Noise-map Values:\")\n",
        "print(point_source_dict[\"point_0\"].fluxes_noise_map.in_list)"
      ],
      "outputs": [],
      "execution_count": null
    },
    {
      "cell_type": "markdown",
      "metadata": {},
      "source": [
        "We can plot our positions dataset over the observed image."
      ]
    },
    {
      "cell_type": "code",
      "metadata": {},
      "source": [
        "visuals_2d = aplt.Visuals2D(positions=point_source_dict.positions_list)\n",
        "\n",
        "array_plotter = aplt.Array2DPlotter(array=image, visuals_2d=visuals_2d)\n",
        "array_plotter.figure_2d()"
      ],
      "outputs": [],
      "execution_count": null
    },
    {
      "cell_type": "markdown",
      "metadata": {},
      "source": [
        "We can also just plot the positions, omitting the image."
      ]
    },
    {
      "cell_type": "code",
      "metadata": {},
      "source": [
        "grid_plotter = aplt.Grid2DPlotter(grid=point_source_dict[\"point_0\"].positions)\n",
        "grid_plotter.figure_2d()"
      ],
      "outputs": [],
      "execution_count": null
    },
    {
      "cell_type": "markdown",
      "metadata": {},
      "source": [
        "__Model__\n",
        "\n",
        "We compose our lens model using `Model` objects, which represent the galaxies we fit to our data. In this \n",
        "example we fit a lens model where:\n",
        "\n",
        " - The lens galaxy's total mass distribution is an `EllIsothermal` [5 parameters].\n",
        " - The source galaxy's light is a point `PointSource` [2 parameters].\n",
        "\n",
        "The number of free parameters and therefore the dimensionality of non-linear parameter space is N=14.\n",
        "\n",
        "NOTE: \n",
        "\n",
        "Every point-source dataset in the `PointSourceDict` has a name. Its `name` pairs the dataset to the `PointSource` \n",
        "in the model below. Specifically, because the name of the dataset is `point_0`, there must be a corresponding\n",
        "`PointSource` model component in the model below with the name `point_0` for the model-fit to be possible.\n",
        "\n",
        "In this example, where there is just one source, named pairing appears unecessary. However, point-source datasets may\n",
        "have many source galaxies in them, and name pairing ensures every point source in the model is compared against its\n",
        "point source dataset.\n",
        "\n",
        "**PyAutoLens** assumes that the lens galaxy centre is near the coordinates (0.0\", 0.0\"). \n",
        "\n",
        "If for your dataset the  lens is not centred at (0.0\", 0.0\"), we recommend that you either: \n",
        "\n",
        " - Reduce your data so that the centre is (`autolens_workspace/notebooks/preprocess`). \n",
        " - Manually override the lens model priors (`autolens_workspace/notebooks/imaging/modeling/customize/priors.py`)."
      ]
    },
    {
      "cell_type": "code",
      "metadata": {},
      "source": [
        "lens = af.Model(al.Galaxy, redshift=0.5, mass=al.mp.EllIsothermal)\n",
        "source = af.Model(al.Galaxy, redshift=1.0, point_0=al.ps.PointSource)\n",
        "\n",
        "model = af.Collection(galaxies=af.Collection(lens=lens, source=source))"
      ],
      "outputs": [],
      "execution_count": null
    },
    {
      "cell_type": "markdown",
      "metadata": {},
      "source": [
        "__PositionsSolver__\n",
        "\n",
        "For point-source modeling we also need to define our `PositionsSolver`. This object determines the multiple-images of \n",
        "a mass model for a point source at location (y,x) in the source plane, by iteratively ray-tracing light rays to the \n",
        "source-plane. \n",
        "\n",
        "Checkout the script ? for a complete description of this object, we will use the default `PositionSolver` in this \n",
        "example with a `point_scale_precision` half the value of the position noise-map, which should be sufficiently good \n",
        "enough precision to fit the lens model accurately."
      ]
    },
    {
      "cell_type": "code",
      "metadata": {},
      "source": [
        "grid = al.Grid2D.uniform(\n",
        "    shape_native=image.shape_native, pixel_scales=image.pixel_scales\n",
        ")\n",
        "\n",
        "positions_solver = al.PositionsSolver(grid=grid, pixel_scale_precision=0.025)"
      ],
      "outputs": [],
      "execution_count": null
    },
    {
      "cell_type": "markdown",
      "metadata": {},
      "source": [
        "__Search__\n",
        "\n",
        "The lens model is fitted to the data using a non-linear search. In this example, we use the nested sampling algorithm \n",
        "Dynesty (https://dynesty.readthedocs.io/en/latest/).\n",
        "\n",
        "The folder `autolens_workspace/notebooks/imaging/modeling/customize/non_linear_searches` gives an overview of the \n",
        "non-linear searches **PyAutoLens** supports. If you are unclear of what a non-linear search is, checkout chapter 2 of \n",
        "the **HowToLens** lectures.\n",
        "\n",
        "The `name` and `path_prefix` below specify the path where results ae stored in the output folder:  \n",
        "\n",
        " `/autolens_workspace/output/ppoint_source/mass_sie__source_sersic/mass[sie]_source[point]/unique_identifier`.\n",
        " \n",
        "__Unique Identifier__\n",
        "\n",
        "In the path above, the `unique_identifier` appears as a collection of characters, where this identifier is generated \n",
        "based on the model, search and dataset that are used in the fit.\n",
        " \n",
        "An identical combination of model, search and dataset generates the same identifier, meaning that rerunning the\n",
        "script will use the existing results to resume the model-fit. In contrast, if you change the model, search or dataset,\n",
        "a new unique identifier will be generated, ensuring that the model-fit results are output into a separate folder. "
      ]
    },
    {
      "cell_type": "code",
      "metadata": {},
      "source": [
        "search = af.DynestyStatic(\n",
        "    path_prefix=path.join(\"point_source\"),\n",
        "    name=\"mass[sie]_source[point]\",\n",
        "    unique_tag=dataset_name,\n",
        "    nlive=50,\n",
        ")"
      ],
      "outputs": [],
      "execution_count": null
    },
    {
      "cell_type": "markdown",
      "metadata": {},
      "source": [
        "__Analysis__\n",
        "\n",
        "The `AnalysisPointSource` object defines the `log_likelihood_function` used by the non-linear search to fit the model \n",
        "to the `PointSourceDataset`."
      ]
    },
    {
      "cell_type": "code",
      "metadata": {},
      "source": [
        "analysis = al.AnalysisPointSource(\n",
        "    point_source_dict=point_source_dict, solver=positions_solver\n",
        ")"
      ],
      "outputs": [],
      "execution_count": null
    },
    {
      "cell_type": "markdown",
      "metadata": {},
      "source": [
        "__Model-Fit__\n",
        "\n",
        "We can now begin the model-fit by passing the model and analysis object to the search, which performs a non-linear\n",
        "search to find which models fit the data with the highest likelihood.\n",
        "\n",
        "Checkout the output folder for live outputs of the results of the fit, including on-the-fly visualization of the best \n",
        "fit model!"
      ]
    },
    {
      "cell_type": "code",
      "metadata": {},
      "source": [
        "result = search.fit(model=model, analysis=analysis)"
      ],
      "outputs": [],
      "execution_count": null
    },
    {
      "cell_type": "markdown",
      "metadata": {},
      "source": [
        "__Result__\n",
        "\n",
        "The search returns a result object, which includes: \n",
        "\n",
        " - The lens model corresponding to the maximum log likelihood solution in parameter space.\n",
        " - The corresponding maximum log likelihood `Tracer` object."
      ]
    },
    {
      "cell_type": "code",
      "metadata": {},
      "source": [
        "print(result.max_log_likelihood_instance)\n",
        "\n",
        "tracer_plotter = aplt.TracerPlotter(\n",
        "    tracer=result.max_log_likelihood_tracer, grid=result.grid\n",
        ")\n",
        "tracer_plotter.subplot_tracer()"
      ],
      "outputs": [],
      "execution_count": null
    },
    {
      "cell_type": "markdown",
      "metadata": {},
      "source": [
        "Checkout `autolens_workspace/notebooks/modeling/results.py` for a full description of the result object."
      ]
    },
    {
      "cell_type": "code",
      "metadata": {},
      "source": [],
      "outputs": [],
      "execution_count": null
    }
  ],
  "metadata": {
    "anaconda-cloud": {},
    "kernelspec": {
      "display_name": "Python 3",
      "language": "python",
      "name": "python3"
    },
    "language_info": {
      "codemirror_mode": {
        "name": "ipython",
        "version": 3
      },
      "file_extension": ".py",
      "mimetype": "text/x-python",
      "name": "python",
      "nbconvert_exporter": "python",
      "pygments_lexer": "ipython3",
      "version": "3.6.1"
    }
  },
  "nbformat": 4,
  "nbformat_minor": 4
}