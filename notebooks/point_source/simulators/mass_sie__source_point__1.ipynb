{
 "cells": [
  {
   "cell_type": "markdown",
   "metadata": {},
   "source": [
    "Simulator: Point Source\n",
    "=======================\n",
    "\n",
    "This script simulates `Positions` data of a strong lens where:\n",
    "\n",
    " - The lens galaxy's total mass distribution is an `EllIsothermal`.\n",
    " - The source `Galaxy` is a `PointSource`."
   ]
  },
  {
   "cell_type": "code",
   "execution_count": 1,
   "metadata": {
    "execution": {
     "iopub.execute_input": "2021-05-10T14:51:39.678656Z",
     "iopub.status.busy": "2021-05-10T14:51:39.678215Z",
     "iopub.status.idle": "2021-05-10T14:51:48.519240Z",
     "shell.execute_reply": "2021-05-10T14:51:48.518828Z"
    }
   },
   "outputs": [
    {
     "name": "stdout",
     "output_type": "stream",
     "text": [
      "/mnt/c/Users/Jammy/Code/PyAuto/autolens_workspace\n",
      "Working Directory has been set to `/mnt/c/Users/Jammy/Code/PyAuto/autolens_workspace`\n"
     ]
    }
   ],
   "source": [
    "%matplotlib inline\n",
    "from pyprojroot import here\n",
    "workspace_path = str(here())\n",
    "%cd $workspace_path\n",
    "print(f\"Working Directory has been set to `{workspace_path}`\")\n",
    "\n",
    "from os import path\n",
    "import numpy as np\n",
    "import autolens as al\n",
    "import autolens.plot as aplt"
   ]
  },
  {
   "cell_type": "markdown",
   "metadata": {},
   "source": [
    "__Dataset Paths__\n",
    "\n",
    "The `dataset_type` describes the type of data being simulated (in this case, `Positions` data) and `dataset_name` \n",
    "gives it a descriptive name. They define the folder the dataset is output to on your hard-disk:\n",
    "\n",
    " - The image will be output to `/autolens_workspace/dataset/dataset_type/dataset_label/dataset_name/positions.json`.\n",
    " - The noise-map will be output to `/autolens_workspace/dataset/dataset_type/dataset_label/dataset_name/noise_map.json`."
   ]
  },
  {
   "cell_type": "code",
   "execution_count": 2,
   "metadata": {
    "execution": {
     "iopub.execute_input": "2021-05-10T14:51:48.521995Z",
     "iopub.status.busy": "2021-05-10T14:51:48.521633Z",
     "iopub.status.idle": "2021-05-10T14:51:48.523862Z",
     "shell.execute_reply": "2021-05-10T14:51:48.523513Z"
    }
   },
   "outputs": [],
   "source": [
    "dataset_type = \"point_source\"\n",
    "dataset_name = \"mass_sie__source_point__1\""
   ]
  },
  {
   "cell_type": "markdown",
   "metadata": {},
   "source": [
    "The path where the dataset will be output, which in this case is:\n",
    "`/autolens_workspace/dataset/positions/mass_sie__source_point__1`"
   ]
  },
  {
   "cell_type": "code",
   "execution_count": 3,
   "metadata": {
    "execution": {
     "iopub.execute_input": "2021-05-10T14:51:48.526356Z",
     "iopub.status.busy": "2021-05-10T14:51:48.525996Z",
     "iopub.status.idle": "2021-05-10T14:51:48.527717Z",
     "shell.execute_reply": "2021-05-10T14:51:48.527967Z"
    }
   },
   "outputs": [],
   "source": [
    "dataset_path = path.join(\"dataset\", dataset_type, dataset_name)"
   ]
  },
  {
   "cell_type": "markdown",
   "metadata": {},
   "source": [
    "__Ray Tracing__\n",
    "\n",
    "Setup the lens galaxy's mass (SIE) and source galaxy `PointSource` for this simulated lens. We include a \n",
    "faint dist in the source for purely visualization purposes to show where the multiple images appear.\n",
    "\n",
    "For lens modeling, defining ellipticity in terms of the `elliptical_comps` improves the model-fitting procedure.\n",
    "\n",
    "However, for simulating a strong lens you may find it more intuitive to define the elliptical geometry using the \n",
    "axis-ratio of the profile (axis_ratio = semi-major axis / semi-minor axis = b/a) and position angle, where angle is\n",
    "in degrees and defined counter clockwise from the positive x-axis.\n",
    "\n",
    "We can use the **PyAutoLens** `convert` module to determine the elliptical components from the axis-ratio and angle."
   ]
  },
  {
   "cell_type": "code",
   "execution_count": 4,
   "metadata": {
    "execution": {
     "iopub.execute_input": "2021-05-10T14:51:48.531575Z",
     "iopub.status.busy": "2021-05-10T14:51:48.531213Z",
     "iopub.status.idle": "2021-05-10T14:51:48.532958Z",
     "shell.execute_reply": "2021-05-10T14:51:48.533213Z"
    }
   },
   "outputs": [],
   "source": [
    "lens_galaxy = al.Galaxy(\n",
    "    redshift=0.5,\n",
    "    mass=al.mp.EllIsothermal(\n",
    "        centre=(0.0, 0.0),\n",
    "        einstein_radius=1.2,\n",
    "        elliptical_comps=al.convert.elliptical_comps_from(axis_ratio=0.8, angle=90.0),\n",
    "    ),\n",
    ")\n",
    "\n",
    "source_galaxy = al.Galaxy(\n",
    "    redshift=1.0,\n",
    "    light=al.lp.EllExponential(\n",
    "        centre=(0.05, 0.05), intensity=0.1, effective_radius=0.02\n",
    "    ),\n",
    "    point_0=al.ps.PointSource(centre=(0.05, 0.05)),\n",
    ")"
   ]
  },
  {
   "cell_type": "markdown",
   "metadata": {},
   "source": [
    "Use these galaxies to setup a tracer, which will compute the multiple image positions of the simulated dataset."
   ]
  },
  {
   "cell_type": "code",
   "execution_count": 5,
   "metadata": {
    "execution": {
     "iopub.execute_input": "2021-05-10T14:51:48.535637Z",
     "iopub.status.busy": "2021-05-10T14:51:48.535306Z",
     "iopub.status.idle": "2021-05-10T14:51:48.537722Z",
     "shell.execute_reply": "2021-05-10T14:51:48.538042Z"
    }
   },
   "outputs": [],
   "source": [
    "tracer = al.Tracer.from_galaxies(galaxies=[lens_galaxy, source_galaxy])"
   ]
  },
  {
   "cell_type": "markdown",
   "metadata": {},
   "source": [
    "We will use a `PositionSolver` to locate the multiple images. \n",
    "\n",
    "We will use computationally slow but robust settings to ensure we accurately locate the image-plane positions."
   ]
  },
  {
   "cell_type": "code",
   "execution_count": 6,
   "metadata": {
    "execution": {
     "iopub.execute_input": "2021-05-10T14:51:48.541303Z",
     "iopub.status.busy": "2021-05-10T14:51:48.540810Z",
     "iopub.status.idle": "2021-05-10T14:51:49.224951Z",
     "shell.execute_reply": "2021-05-10T14:51:49.225244Z"
    }
   },
   "outputs": [],
   "source": [
    "grid = al.Grid2D.uniform(\n",
    "    shape_native=(100, 100),\n",
    "    pixel_scales=0.05,  # <- The pixel-scale describes the conversion from pixel units to arc-seconds.\n",
    ")\n",
    "\n",
    "solver = al.PositionsSolver(\n",
    "    grid=grid, use_upscaling=True, pixel_scale_precision=0.001, upscale_factor=2\n",
    ")"
   ]
  },
  {
   "cell_type": "markdown",
   "metadata": {},
   "source": [
    "We now pass the `Tracer` to the solver. This will then find the image-plane coordinates that map directly to the\n",
    "source-plane coordinate (0.0\", 0.0\")."
   ]
  },
  {
   "cell_type": "code",
   "execution_count": 7,
   "metadata": {
    "execution": {
     "iopub.execute_input": "2021-05-10T14:51:49.228336Z",
     "iopub.status.busy": "2021-05-10T14:51:49.227950Z",
     "iopub.status.idle": "2021-05-10T14:51:50.376950Z",
     "shell.execute_reply": "2021-05-10T14:51:50.376601Z"
    }
   },
   "outputs": [],
   "source": [
    "positions = solver.solve(\n",
    "    lensing_obj=tracer, source_plane_coordinate=source_galaxy.point_0.centre\n",
    ")\n",
    "\n",
    "positions = al.Grid2DIrregular(\n",
    "    grid=[\n",
    "        positions.in_list[2],\n",
    "        positions.in_list[9],\n",
    "        positions.in_list[-3],\n",
    "        positions.in_list[-1],\n",
    "    ]\n",
    ")"
   ]
  },
  {
   "cell_type": "markdown",
   "metadata": {},
   "source": [
    "Use the positions to compute the magnification of the `Tracer` at every position."
   ]
  },
  {
   "cell_type": "code",
   "execution_count": 8,
   "metadata": {
    "execution": {
     "iopub.execute_input": "2021-05-10T14:51:50.381871Z",
     "iopub.status.busy": "2021-05-10T14:51:50.381518Z",
     "iopub.status.idle": "2021-05-10T14:51:50.384096Z",
     "shell.execute_reply": "2021-05-10T14:51:50.384372Z"
    }
   },
   "outputs": [],
   "source": [
    "magnifications = tracer.magnification_via_hessian_from_grid(grid=positions)"
   ]
  },
  {
   "cell_type": "markdown",
   "metadata": {},
   "source": [
    "We can now compute the observed fluxes of the `PointSource`, give we know how much each is magnified."
   ]
  },
  {
   "cell_type": "code",
   "execution_count": 9,
   "metadata": {
    "execution": {
     "iopub.execute_input": "2021-05-10T14:51:50.386973Z",
     "iopub.status.busy": "2021-05-10T14:51:50.386617Z",
     "iopub.status.idle": "2021-05-10T14:51:50.388661Z",
     "shell.execute_reply": "2021-05-10T14:51:50.388306Z"
    }
   },
   "outputs": [],
   "source": [
    "flux = 1.0\n",
    "fluxes = [flux * np.abs(magnification) for magnification in magnifications]\n",
    "fluxes = al.ValuesIrregular(values=fluxes)"
   ]
  },
  {
   "cell_type": "markdown",
   "metadata": {},
   "source": [
    "We now output the image of this strong lens to `.fits` which can be used for visualize when performing point-source \n",
    "modeling and to `.png` for general inspection."
   ]
  },
  {
   "cell_type": "code",
   "execution_count": 10,
   "metadata": {
    "execution": {
     "iopub.execute_input": "2021-05-10T14:51:50.392070Z",
     "iopub.status.busy": "2021-05-10T14:51:50.391728Z",
     "iopub.status.idle": "2021-05-10T14:51:55.048993Z",
     "shell.execute_reply": "2021-05-10T14:51:55.049237Z"
    }
   },
   "outputs": [
    {
     "data": {
      "image/png": "[encoded data removed]",
      "text/plain": [
       "<Figure size 504x504 with 2 Axes>"
      ]
     },
     "metadata": {
      "needs_background": "light"
     },
     "output_type": "display_data"
    }
   ],
   "source": [
    "visuals_2d = aplt.Visuals2D(multiple_images=positions)\n",
    "\n",
    "tracer_plotter = aplt.TracerPlotter(tracer=tracer, grid=grid, visuals_2d=visuals_2d)\n",
    "tracer_plotter.figures_2d(image=True)\n",
    "\n",
    "mat_plot_2d = aplt.MatPlot2D(\n",
    "    output=aplt.Output(path=dataset_path, filename=\"image_2d\", format=\"fits\")\n",
    ")\n",
    "\n",
    "tracer_plotter = aplt.TracerPlotter(tracer=tracer, grid=grid, mat_plot_2d=mat_plot_2d)\n",
    "tracer_plotter.figures_2d(image=True)\n",
    "\n",
    "mat_plot_2d = aplt.MatPlot2D(output=aplt.Output(path=dataset_path, format=\"png\"))\n",
    "\n",
    "tracer_plotter = aplt.TracerPlotter(tracer=tracer, grid=grid, mat_plot_2d=mat_plot_2d)\n",
    "tracer_plotter.subplot_tracer()"
   ]
  },
  {
   "cell_type": "markdown",
   "metadata": {},
   "source": [
    "Create a point-source dictionary data object and output this to a `.json` file, which is the format used to load and\n",
    "analyse the dataset."
   ]
  },
  {
   "cell_type": "code",
   "execution_count": 11,
   "metadata": {
    "execution": {
     "iopub.execute_input": "2021-05-10T14:51:55.052557Z",
     "iopub.status.busy": "2021-05-10T14:51:55.052073Z",
     "iopub.status.idle": "2021-05-10T14:51:55.055568Z",
     "shell.execute_reply": "2021-05-10T14:51:55.055878Z"
    }
   },
   "outputs": [],
   "source": [
    "point_source_dataset = al.PointSourceDataset(\n",
    "    name=\"point_0\",\n",
    "    positions=positions,\n",
    "    positions_noise_map=positions.values_from_value(value=grid.pixel_scale),\n",
    "    fluxes=fluxes,\n",
    "    fluxes_noise_map=al.ValuesIrregular(values=[1.0, 1.0, 1.0, 1.0]),\n",
    ")\n",
    "\n",
    "point_source_dict = al.PointSourceDict(point_source_dataset_list=[point_source_dataset])\n",
    "\n",
    "point_source_dict.output_to_json(\n",
    "    file_path=path.join(dataset_path, \"point_source_dict.json\"), overwrite=True\n",
    ")"
   ]
  },
  {
   "cell_type": "markdown",
   "metadata": {},
   "source": [
    "Pickle the `Tracer` in the dataset folder, ensuring the true `Tracer` is safely stored and available if we need to \n",
    "check how the dataset was simulated in the future. \n",
    "\n",
    "This will also be accessible via the `Aggregator` if a model-fit is performed using the dataset."
   ]
  },
  {
   "cell_type": "code",
   "execution_count": 12,
   "metadata": {
    "execution": {
     "iopub.execute_input": "2021-05-10T14:51:55.058441Z",
     "iopub.status.busy": "2021-05-10T14:51:55.058126Z",
     "iopub.status.idle": "2021-05-10T14:51:55.061270Z",
     "shell.execute_reply": "2021-05-10T14:51:55.060812Z"
    }
   },
   "outputs": [],
   "source": [
    "tracer.save(file_path=dataset_path, filename=\"true_tracer\")"
   ]
  },
  {
   "cell_type": "markdown",
   "metadata": {},
   "source": [
    "Finished."
   ]
  },
  {
   "cell_type": "code",
   "execution_count": null,
   "metadata": {},
   "outputs": [],
   "source": []
  }
 ],
 "metadata": {
  "anaconda-cloud": {},
  "kernelspec": {
   "display_name": "Python 3",
   "language": "python",
   "name": "python3"
  },
  "language_info": {
   "codemirror_mode": {
    "name": "ipython",
    "version": 3
   },
   "file_extension": ".py",
   "mimetype": "text/x-python",
   "name": "python",
   "nbconvert_exporter": "python",
   "pygments_lexer": "ipython3",
   "version": "3.8.5"
  }
 },
 "nbformat": 4,
 "nbformat_minor": 4
}
