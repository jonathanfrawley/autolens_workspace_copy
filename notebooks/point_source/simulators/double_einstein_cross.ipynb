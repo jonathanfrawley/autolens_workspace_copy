{
 "cells": [
  {
   "cell_type": "markdown",
   "metadata": {},
   "source": [
    "Simulator: Point Source\n",
    "=======================\n",
    "\n",
    "This script simulates `Positions` data of a strong lens where:\n",
    "\n",
    " - The lens galaxy's total mass distribution is an `EllIsothermal` and `ExternalShear`.\n",
    " - The source `Galaxy` is a `PointSource`."
   ]
  },
  {
   "cell_type": "code",
   "execution_count": 1,
   "metadata": {
    "execution": {
     "iopub.execute_input": "2021-05-10T14:50:58.935279Z",
     "iopub.status.busy": "2021-05-10T14:50:58.934856Z",
     "iopub.status.idle": "2021-05-10T14:51:08.019262Z",
     "shell.execute_reply": "2021-05-10T14:51:08.019553Z"
    }
   },
   "outputs": [
    {
     "name": "stdout",
     "output_type": "stream",
     "text": [
      "/mnt/c/Users/Jammy/Code/PyAuto/autolens_workspace\n",
      "Working Directory has been set to `/mnt/c/Users/Jammy/Code/PyAuto/autolens_workspace`\n"
     ]
    }
   ],
   "source": [
    "%matplotlib inline\n",
    "from pyprojroot import here\n",
    "workspace_path = str(here())\n",
    "%cd $workspace_path\n",
    "print(f\"Working Directory has been set to `{workspace_path}`\")\n",
    "\n",
    "from os import path\n",
    "import numpy as np\n",
    "import autolens as al\n",
    "import autolens.plot as aplt"
   ]
  },
  {
   "cell_type": "markdown",
   "metadata": {},
   "source": [
    "__Dataset Paths__\n",
    "\n",
    "The `dataset_type` describes the type of data being simulated (in this case, `Positions` data) and `dataset_name` \n",
    "gives it a descriptive name. They define the folder the dataset is output to on your hard-disk:\n",
    "\n",
    " - The image will be output to `/autolens_workspace/dataset/dataset_type/dataset_label/dataset_name/positions.json`.\n",
    " - The noise-map will be output to `/autolens_workspace/dataset/dataset_type/dataset_label/dataset_name/noise_map.json`."
   ]
  },
  {
   "cell_type": "code",
   "execution_count": 2,
   "metadata": {
    "execution": {
     "iopub.execute_input": "2021-05-10T14:51:08.022426Z",
     "iopub.status.busy": "2021-05-10T14:51:08.022084Z",
     "iopub.status.idle": "2021-05-10T14:51:08.023832Z",
     "shell.execute_reply": "2021-05-10T14:51:08.024078Z"
    }
   },
   "outputs": [],
   "source": [
    "dataset_type = \"point_source\"\n",
    "dataset_name = \"double_einstein_cross\""
   ]
  },
  {
   "cell_type": "markdown",
   "metadata": {},
   "source": [
    "The path where the dataset will be output, which in this case is:\n",
    "`/autolens_workspace/dataset/positions/mass_sie__source_point`"
   ]
  },
  {
   "cell_type": "code",
   "execution_count": 3,
   "metadata": {
    "execution": {
     "iopub.execute_input": "2021-05-10T14:51:08.027012Z",
     "iopub.status.busy": "2021-05-10T14:51:08.026478Z",
     "iopub.status.idle": "2021-05-10T14:51:08.027974Z",
     "shell.execute_reply": "2021-05-10T14:51:08.028225Z"
    }
   },
   "outputs": [],
   "source": [
    "dataset_path = path.join(\"dataset\", dataset_type, dataset_name)"
   ]
  },
  {
   "cell_type": "markdown",
   "metadata": {},
   "source": [
    "__Ray Tracing__\n",
    "\n",
    "Setup the lens galaxy's mass (SIE+Shear) and source galaxy `PointSource` for this simulated lens. We include a \n",
    "faint dist in the source for purely visualization purposes to show where the multiple images appear.\n",
    "\n",
    "For lens modeling, defining ellipticity in terms of the `elliptical_comps` improves the model-fitting procedure.\n",
    "\n",
    "However, for simulating a strong lens you may find it more intuitive to define the elliptical geometry using the \n",
    "axis-ratio of the profile (axis_ratio = semi-major axis / semi-minor axis = b/a) and position angle, where angle is\n",
    "in degrees and defined counter clockwise from the positive x-axis.\n",
    "\n",
    "We can use the **PyAutoLens** `convert` module to determine the elliptical components from the axis-ratio and angle."
   ]
  },
  {
   "cell_type": "code",
   "execution_count": 4,
   "metadata": {
    "execution": {
     "iopub.execute_input": "2021-05-10T14:51:08.033229Z",
     "iopub.status.busy": "2021-05-10T14:51:08.032898Z",
     "iopub.status.idle": "2021-05-10T14:51:08.034849Z",
     "shell.execute_reply": "2021-05-10T14:51:08.035102Z"
    }
   },
   "outputs": [],
   "source": [
    "lens_galaxy = al.Galaxy(\n",
    "    redshift=0.5,\n",
    "    mass=al.mp.EllIsothermal(\n",
    "        centre=(0.0, 0.0),\n",
    "        einstein_radius=1.6,\n",
    "        elliptical_comps=al.convert.elliptical_comps_from(axis_ratio=0.9, angle=45.0),\n",
    "    ),\n",
    ")\n",
    "\n",
    "source_galaxy_0 = al.Galaxy(\n",
    "    redshift=1.0,\n",
    "    mass=al.mp.EllIsothermal(\n",
    "        centre=(0.02, 0.03),\n",
    "        einstein_radius=0.2,\n",
    "        elliptical_comps=al.convert.elliptical_comps_from(axis_ratio=0.8, angle=60.0),\n",
    "    ),\n",
    "    light=al.lp.EllExponential(\n",
    "        centre=(0.02, 0.03), intensity=0.1, effective_radius=0.02\n",
    "    ),\n",
    "    point_0=al.ps.PointSource(centre=(0.02, 0.03)),\n",
    ")\n",
    "\n",
    "\n",
    "source_galaxy_1 = al.Galaxy(\n",
    "    redshift=2.0,\n",
    "    light=al.lp.EllExponential(centre=(0.0, 0.0), intensity=0.1, effective_radius=0.02),\n",
    "    point_1=al.ps.PointSource(centre=(0.0, 0.0)),\n",
    ")"
   ]
  },
  {
   "cell_type": "markdown",
   "metadata": {},
   "source": [
    "Use these galaxies to setup a tracer, which will compute the multiple image positions of the simulated dataset."
   ]
  },
  {
   "cell_type": "code",
   "execution_count": 5,
   "metadata": {
    "execution": {
     "iopub.execute_input": "2021-05-10T14:51:08.038212Z",
     "iopub.status.busy": "2021-05-10T14:51:08.037829Z",
     "iopub.status.idle": "2021-05-10T14:51:08.039753Z",
     "shell.execute_reply": "2021-05-10T14:51:08.040003Z"
    }
   },
   "outputs": [],
   "source": [
    "tracer = al.Tracer.from_galaxies(\n",
    "    galaxies=[lens_galaxy, source_galaxy_0, source_galaxy_1]\n",
    ")"
   ]
  },
  {
   "cell_type": "markdown",
   "metadata": {},
   "source": [
    "We will use a `PositionSolver` to locate the multiple images. \n",
    "\n",
    "We will use computationally slow but robust settings to ensure we accurately locate the image-plane positions."
   ]
  },
  {
   "cell_type": "code",
   "execution_count": 6,
   "metadata": {
    "execution": {
     "iopub.execute_input": "2021-05-10T14:51:08.043817Z",
     "iopub.status.busy": "2021-05-10T14:51:08.043135Z",
     "iopub.status.idle": "2021-05-10T14:51:08.761096Z",
     "shell.execute_reply": "2021-05-10T14:51:08.761353Z"
    }
   },
   "outputs": [],
   "source": [
    "grid = al.Grid2D.uniform(\n",
    "    shape_native=(100, 100),\n",
    "    pixel_scales=0.05,  # <- The pixel-scale describes the conversion from pixel units to arc-seconds.\n",
    ")\n",
    "\n",
    "solver = al.PositionsSolver(\n",
    "    grid=grid,\n",
    "    use_upscaling=True,\n",
    "    upscale_factor=2,\n",
    "    pixel_scale_precision=0.001,\n",
    "    distance_from_source_centre=0.001,\n",
    ")"
   ]
  },
  {
   "cell_type": "markdown",
   "metadata": {},
   "source": [
    "We now pass the `Tracer` to the solver. This will then find the image-plane coordinates that map directly to the\n",
    "source-plane coordinate (0.0\", 0.0\")."
   ]
  },
  {
   "cell_type": "code",
   "execution_count": 7,
   "metadata": {
    "execution": {
     "iopub.execute_input": "2021-05-10T14:51:08.765003Z",
     "iopub.status.busy": "2021-05-10T14:51:08.764669Z",
     "iopub.status.idle": "2021-05-10T14:51:11.098004Z",
     "shell.execute_reply": "2021-05-10T14:51:11.097625Z"
    }
   },
   "outputs": [
    {
     "name": "stdout",
     "output_type": "stream",
     "text": [
      "[[ 1.07148437 -0.23632813]\n",
      " [ 0.88789063  0.63554687]\n",
      " [-0.37539062  1.04414063]\n",
      " [-0.67539063 -0.76601563]]\n",
      "[[ 1.29648438  1.19023437]\n",
      " [ 1.11445312 -1.44960937]\n",
      " [-1.31289063  1.27304687]\n",
      " [-1.35117188 -1.12773437]]\n"
     ]
    }
   ],
   "source": [
    "positions_0 = solver.solve(\n",
    "    lensing_obj=tracer,\n",
    "    source_plane_coordinate=source_galaxy_0.point_0.centre,\n",
    "    upper_plane_index=1,\n",
    ")\n",
    "\n",
    "# We are still improving the PositionSolver, this is a hack to get it to give sensible positions for now.\n",
    "\n",
    "positions_0 = al.Grid2DIrregular(\n",
    "    grid=[\n",
    "        positions_0.in_list[5],\n",
    "        positions_0.in_list[21],\n",
    "        positions_0.in_list[32],\n",
    "        positions_0.in_list[-2],\n",
    "    ]\n",
    ")\n",
    "\n",
    "positions_1 = solver.solve(\n",
    "    lensing_obj=tracer,\n",
    "    source_plane_coordinate=source_galaxy_1.point_1.centre,\n",
    "    upper_plane_index=2,\n",
    ")\n",
    "\n",
    "positions_1 = al.Grid2DIrregular(\n",
    "    grid=[\n",
    "        positions_1.in_list[0],\n",
    "        positions_1.in_list[2],\n",
    "        positions_1.in_list[4],\n",
    "        positions_1.in_list[6],\n",
    "    ]\n",
    ")\n",
    "\n",
    "print(positions_0)\n",
    "print(positions_1)"
   ]
  },
  {
   "cell_type": "markdown",
   "metadata": {},
   "source": [
    "Use the positions to compute the magnification of the `Tracer` at every position."
   ]
  },
  {
   "cell_type": "code",
   "execution_count": 8,
   "metadata": {
    "execution": {
     "iopub.execute_input": "2021-05-10T14:51:11.110881Z",
     "iopub.status.busy": "2021-05-10T14:51:11.110523Z",
     "iopub.status.idle": "2021-05-10T14:51:11.112302Z",
     "shell.execute_reply": "2021-05-10T14:51:11.112579Z"
    }
   },
   "outputs": [],
   "source": [
    "magnifications_0 = tracer.magnification_via_hessian_from_grid(grid=positions_0)\n",
    "magnifications_1 = tracer.magnification_via_hessian_from_grid(grid=positions_1)"
   ]
  },
  {
   "cell_type": "markdown",
   "metadata": {},
   "source": [
    "We can now compute the observed fluxes of the `PointSource`, give we know how much each is magnified."
   ]
  },
  {
   "cell_type": "code",
   "execution_count": 9,
   "metadata": {
    "execution": {
     "iopub.execute_input": "2021-05-10T14:51:11.116511Z",
     "iopub.status.busy": "2021-05-10T14:51:11.116159Z",
     "iopub.status.idle": "2021-05-10T14:51:11.118030Z",
     "shell.execute_reply": "2021-05-10T14:51:11.117707Z"
    }
   },
   "outputs": [],
   "source": [
    "flux = 1.0\n",
    "fluxes_0 = [flux * np.abs(magnification) for magnification in magnifications_0]\n",
    "fluxes_0 = al.ValuesIrregular(values=fluxes_0)\n",
    "fluxes_1 = [flux * np.abs(magnification) for magnification in magnifications_1]\n",
    "fluxes_1 = al.ValuesIrregular(values=fluxes_1)"
   ]
  },
  {
   "cell_type": "markdown",
   "metadata": {},
   "source": [
    "We now output the image of this strong lens to `.fits` which can be used for visualize when performing point-source \n",
    "modeling and to `.png` for general inspection."
   ]
  },
  {
   "cell_type": "code",
   "execution_count": 10,
   "metadata": {
    "execution": {
     "iopub.execute_input": "2021-05-10T14:51:11.121428Z",
     "iopub.status.busy": "2021-05-10T14:51:11.121085Z",
     "iopub.status.idle": "2021-05-10T14:51:15.952295Z",
     "shell.execute_reply": "2021-05-10T14:51:15.951918Z"
    }
   },
   "outputs": [
    {
     "data": {
      "image/png": "[encoded data removed]",
      "text/plain": [
       "<Figure size 504x504 with 2 Axes>"
      ]
     },
     "metadata": {
      "needs_background": "light"
     },
     "output_type": "display_data"
    }
   ],
   "source": [
    "visuals_2d = aplt.Visuals2D(multiple_images=[positions_0, positions_1])\n",
    "\n",
    "tracer_plotter = aplt.TracerPlotter(tracer=tracer, grid=grid, visuals_2d=visuals_2d)\n",
    "tracer_plotter.figures_2d(image=True)\n",
    "\n",
    "mat_plot_2d = aplt.MatPlot2D(\n",
    "    output=aplt.Output(path=dataset_path, filename=\"image_2d\", format=\"fits\")\n",
    ")\n",
    "\n",
    "tracer_plotter = aplt.TracerPlotter(tracer=tracer, grid=grid, mat_plot_2d=mat_plot_2d)\n",
    "tracer_plotter.figures_2d(image=True)\n",
    "\n",
    "mat_plot_2d = aplt.MatPlot2D(output=aplt.Output(path=dataset_path, format=\"png\"))\n",
    "\n",
    "tracer_plotter = aplt.TracerPlotter(tracer=tracer, grid=grid, mat_plot_2d=mat_plot_2d)\n",
    "tracer_plotter.subplot_tracer()"
   ]
  },
  {
   "cell_type": "markdown",
   "metadata": {},
   "source": [
    "Create a point-source dictionary data object and output this to a `.json` file, which is the format used to load and\n",
    "analyse the dataset."
   ]
  },
  {
   "cell_type": "code",
   "execution_count": 11,
   "metadata": {
    "execution": {
     "iopub.execute_input": "2021-05-10T14:51:15.956051Z",
     "iopub.status.busy": "2021-05-10T14:51:15.955687Z",
     "iopub.status.idle": "2021-05-10T14:51:15.958953Z",
     "shell.execute_reply": "2021-05-10T14:51:15.959214Z"
    }
   },
   "outputs": [],
   "source": [
    "point_source_dataset_0 = al.PointSourceDataset(\n",
    "    name=\"point_0\",\n",
    "    positions=positions_0,\n",
    "    positions_noise_map=positions_0.values_from_value(value=grid.pixel_scale),\n",
    "    fluxes=fluxes_0,\n",
    "    fluxes_noise_map=al.ValuesIrregular(values=[1.0, 1.0, 1.0, 1.0]),\n",
    ")\n",
    "point_source_dataset_1 = al.PointSourceDataset(\n",
    "    name=\"point_1\",\n",
    "    positions=positions_1,\n",
    "    positions_noise_map=positions_1.values_from_value(value=grid.pixel_scale),\n",
    "    fluxes=fluxes_1,\n",
    "    fluxes_noise_map=al.ValuesIrregular(values=[1.0, 1.0, 1.0, 1.0]),\n",
    ")\n",
    "\n",
    "point_source_dict = al.PointSourceDict(\n",
    "    point_source_dataset_list=[point_source_dataset_0, point_source_dataset_1]\n",
    ")\n",
    "\n",
    "point_source_dict.output_to_json(\n",
    "    file_path=path.join(dataset_path, \"point_source_dict.json\"), overwrite=True\n",
    ")\n"
   ]
  },
  {
   "cell_type": "markdown",
   "metadata": {},
   "source": [
    "Pickle the `Tracer` in the dataset folder, ensuring the true `Tracer` is safely stored and available if we need to \n",
    "check how the dataset was simulated in the future. \n",
    "\n",
    "This will also be accessible via the `Aggregator` if a model-fit is performed using the dataset."
   ]
  },
  {
   "cell_type": "code",
   "execution_count": 12,
   "metadata": {
    "execution": {
     "iopub.execute_input": "2021-05-10T14:51:15.961734Z",
     "iopub.status.busy": "2021-05-10T14:51:15.961365Z",
     "iopub.status.idle": "2021-05-10T14:51:15.964709Z",
     "shell.execute_reply": "2021-05-10T14:51:15.964995Z"
    }
   },
   "outputs": [],
   "source": [
    "tracer.save(file_path=dataset_path, filename=\"true_tracer\")"
   ]
  },
  {
   "cell_type": "markdown",
   "metadata": {},
   "source": [
    "Finished."
   ]
  },
  {
   "cell_type": "code",
   "execution_count": null,
   "metadata": {},
   "outputs": [],
   "source": []
  }
 ],
 "metadata": {
  "anaconda-cloud": {},
  "kernelspec": {
   "display_name": "Python 3",
   "language": "python",
   "name": "python3"
  },
  "language_info": {
   "codemirror_mode": {
    "name": "ipython",
    "version": 3
   },
   "file_extension": ".py",
   "mimetype": "text/x-python",
   "name": "python",
   "nbconvert_exporter": "python",
   "pygments_lexer": "ipython3",
   "version": "3.8.5"
  }
 },
 "nbformat": 4,
 "nbformat_minor": 4
}
