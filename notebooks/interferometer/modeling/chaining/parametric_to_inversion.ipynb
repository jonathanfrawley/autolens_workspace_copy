{
  "cells": [
    {
      "cell_type": "markdown",
      "metadata": {},
      "source": [
        "Chaining: Chaining Parametric To Inversion\n",
        "==========================================\n",
        "\n",
        "Before reading this example, make sure you have read the `autolens_workspace/notebooks/interferometer/modeling/chaining/api.py`\n",
        "example script, which describes phase chaining and details the API for this.\n",
        "\n",
        "In this example, we chain two phases, where:\n",
        "\n",
        "- Both phases model the lens galaxy's mass as an `EllipticalIsothermal`, with the lens's light omitted.\n",
        "    \n",
        "- The first phase models the source galaxy using a parametric `EllipticalSersic` profile.\n",
        "    \n",
        "- The second phase models the source galaxy using an `Inversion`, where its `EllipticalIsothermal` mass model\n",
        "priors are initialized using the results of phase 1.\n",
        "\n",
        "There are a number of benefits to chaining a parametric source model to an _Inversion, as opposed to fitting the\n",
        "`Inversion` in one phase:\n",
        "\n",
        "- Parametric sources are computationally faster to evaluate and fit to the data than an `Inversion`. Thus, although\n",
        "the `EllipticalSersic` carries with it more parameters that the `NonLinearSearch` will have to fit for, the\n",
        "model-fit will be faster overall given the increased speed of each log likelihood evaluation.\n",
        "\n",
        "- `Inversion`'s often go to unphysical solutions where the mass model goes to extremely high / low normalizations\n",
        "and the source is reconstructed as a demagnified version of the lensed source (see Chapter 4, tutorial 6 for a\n",
        "complete description of this effect). A powerful way to prevent this from happening is to initialize the mass\n",
        "model with a fit using a parametric source (which does not suffer these unphysical solutions) and use this result\n",
        "to ensure the `NonLinearSearch` samples only the maximal likelihood regions of parameter space.\n",
        "      \n",
        "- To further remove these solutions, we use the `auto_positions` feature of the `SettingsPhaseInterferometer`, which use\n",
        "the maximum log likelihood mass model of the first phase to determine the positions in the image-plane the\n",
        "brightest regions of the lensed source trace too. In phase 2, mass models must trace these positions into a\n",
        "threshold arc-secoond value of one another in the source-plane, ensuring the incorrect solutions corresponding to\n",
        "unphysically large / small mass models are removed."
      ]
    },
    {
      "cell_type": "code",
      "metadata": {},
      "source": [
        "%matplotlib inline\n",
        "from pyprojroot import here\n",
        "workspace_path = str(here())\n",
        "%cd $workspace_path\n",
        "print(f\"Working Directory has been set to `{workspace_path}`\")\n",
        "\n",
        "from os import path\n",
        "import autofit as af\n",
        "import autolens as al\n",
        "import autolens.plot as aplt\n",
        "import numpy as np"
      ],
      "outputs": [],
      "execution_count": null
    },
    {
      "cell_type": "markdown",
      "metadata": {},
      "source": [
        "As per usual, load the `Interferometer` data, create the real space mask. In this strong lensing dataset:\n",
        "\n",
        " - The lens galaxy's light is omitted.\n",
        " - The lens galaxy's total mass distribution is an `EllipticalIsothermal`.\n",
        " - The source galaxy's `LightProfile` is an `EllipticalExponential`."
      ]
    },
    {
      "cell_type": "code",
      "metadata": {},
      "source": [
        "dataset_name = \"mass_sie__source_sersic\"\n",
        "dataset_path = path.join(\"dataset\", \"interferometer\", dataset_name)\n",
        "\n",
        "interferometer = al.Interferometer.from_fits(\n",
        "    visibilities_path=path.join(dataset_path, \"visibilities.fits\"),\n",
        "    noise_map_path=path.join(dataset_path, \"noise_map.fits\"),\n",
        "    uv_wavelengths_path=path.join(dataset_path, \"uv_wavelengths.fits\"),\n",
        ")\n",
        "\n",
        "interferometer_plotter = aplt.InterferometerPlotter(interferometer=interferometer)\n",
        "interferometer_plotter.subplot_interferometer()"
      ],
      "outputs": [],
      "execution_count": null
    },
    {
      "cell_type": "markdown",
      "metadata": {},
      "source": [
        "The perform a fit, we need two masks, firstly a \u2018real-space mask\u2019 which defines the grid the image of the lensed \n",
        "source galaxy is evaluated using."
      ]
    },
    {
      "cell_type": "code",
      "metadata": {},
      "source": [
        "real_space_mask = al.Mask2D.circular(\n",
        "    shape_native=(151, 151), pixel_scales=0.05, radius=3.0\n",
        ")"
      ],
      "outputs": [],
      "execution_count": null
    },
    {
      "cell_type": "markdown",
      "metadata": {},
      "source": [
        "We also need a \u2018visibilities mask\u2019 which defining which visibilities are omitted from the chi-squared evaluation."
      ]
    },
    {
      "cell_type": "code",
      "metadata": {},
      "source": [
        "visibilities_mask = np.full(fill_value=False, shape=interferometer.visibilities.shape)"
      ],
      "outputs": [],
      "execution_count": null
    },
    {
      "cell_type": "markdown",
      "metadata": {},
      "source": [
        "__Model__\n",
        "\n",
        "We compose our lens model using `GalaxyModel` objects, which represent the galaxies we fit to our data. In this \n",
        "example our lens mooel is:\n",
        "\n",
        " - An `EllipticalIsothermal` `MassProfile`.for the lens galaxy's mass (5 parameters).\n",
        " - An `EllipticalSersic` `LightProfile`.for the source galaxy's light (6 parameters) in phase 1.\n",
        " - An `Inversion` in phase 2 (3 parameters).\n",
        "\n",
        "The number of free parameters and therefore the dimensionality of non-linear parameter space is N=11."
      ]
    },
    {
      "cell_type": "code",
      "metadata": {},
      "source": [
        "lens = al.GalaxyModel(redshift=0.5, mass=al.mp.EllipticalIsothermal)\n",
        "source = al.GalaxyModel(redshift=1.0, bulge=al.lp.EllipticalSersic)"
      ],
      "outputs": [],
      "execution_count": null
    },
    {
      "cell_type": "markdown",
      "metadata": {},
      "source": [
        "__Settings__\n",
        "\n",
        "You should be familiar with the `SettingsPhaseInterferometer` object from other example scripts, if not checkout \n",
        "the beginner examples and `autolens_workspace/notebooks/interferometer/modeling/customize/settings.py`\n",
        "\n",
        "In this example we use the `auto_positions` inputs. These positions correspond to the brightest pixels of the lensed \n",
        "source's multiple images. When a phase uses positions, during model-fitting they must trace within a threshold value of \n",
        "one another for every mass model sampled by the non-linear search. If they do not, the model is discard and resampled. \n",
        "The setting below lead to the following behaviour for each phase:\n",
        "\n",
        "- In phase 1, because no positions are input into the `Interferometer` dataset, positions are not used and the \n",
        "auto_positions settings do nothing.\n",
        "\n",
        "- In phase 2, because there are auto_positions settings, the maximum log likelihood model of phase 1 is used too \n",
        "compute the positions of the lensed source galaxy and the threshold within which they trace to one another. This\n",
        "threshold is multiplied by the `auto_positions_factor` to ensure it is not too small (and thus does not remove many \n",
        "plausible mass models). If, after this multiplication, the threshold is below the `auto_positions_minimum_threshold`, \n",
        "it is rounded up to this minimum value."
      ]
    },
    {
      "cell_type": "code",
      "metadata": {},
      "source": [
        "settings_lens = al.SettingsLens(\n",
        "    auto_positions_factor=3.0, auto_positions_minimum_threshold=0.2\n",
        ")\n",
        "settings_masked_interferometer = al.SettingsMaskedInterferometer(\n",
        "    grid_class=al.Grid2D, sub_size=1, transformer_class=al.TransformerNUFFT\n",
        ")\n",
        "settings_inversion = al.SettingsInversion(use_linear_operators=True)\n",
        "\n",
        "settings = al.SettingsPhaseInterferometer(\n",
        "    settings_lens=settings_lens,\n",
        "    settings_masked_interferometer=settings_masked_interferometer,\n",
        "    settings_inversion=settings_inversion,\n",
        ")"
      ],
      "outputs": [],
      "execution_count": null
    },
    {
      "cell_type": "markdown",
      "metadata": {},
      "source": [
        "__Search__\n",
        "\n",
        "You should be familiar with non-linear searches from other example scripts if not checkout the beginner examples\n",
        "and `autolens_workspace/notebooks/interferometer/modeling/customize/non_linear_searches.py`.\n",
        "\n",
        "The `name` and `path_prefix` below specify the path where results are stored in the output folder:  \n",
        "\n",
        " `/autolens_workspace/output/examples/chaining/parametric_to_inversion/mass_sie__source_sersic/phase[1]`."
      ]
    },
    {
      "cell_type": "code",
      "metadata": {},
      "source": [
        "search = af.DynestyStatic(\n",
        "    path_prefix=path.join(\"interferometer\", \"chaining\", \"parametric_to_inversion\"),\n",
        "    name=\"phase[1]\",\n",
        "    n_live_points=50,\n",
        ")"
      ],
      "outputs": [],
      "execution_count": null
    },
    {
      "cell_type": "markdown",
      "metadata": {},
      "source": [
        "__Phase__\n",
        "\n",
        "We can now combine the model, settings and search to create and run a phase, fitting our data with the lens model."
      ]
    },
    {
      "cell_type": "code",
      "metadata": {},
      "source": [
        "phase1 = al.PhaseInterferometer(\n",
        "    search=search,\n",
        "    real_space_mask=real_space_mask,\n",
        "    galaxies=af.CollectionPriorModel(lens=lens, source=source),\n",
        "    settings=settings,\n",
        ")\n",
        "\n",
        "phase1_result = phase1.run(dataset=interferometer, mask=visibilities_mask)"
      ],
      "outputs": [],
      "execution_count": null
    },
    {
      "cell_type": "markdown",
      "metadata": {},
      "source": [
        "Before reading on to phase 2, you may wish to inspect the results of the phase 1 model-fit to ensure the fast\n",
        "non-linear search has provided a reasonably accurate lens model.\n",
        "\n",
        "__Model Chaining__\n",
        "\n",
        "We use the results of phase 1 to create the `GalaxyModel` components that we fit in phase 2.\n",
        "\n",
        "The term `model` below tells PyAutoLens to pass the lens and source models as model-components that are to be fitted\n",
        "for by the non-linear search. In other chaining examples, we'll see other ways to pass prior results."
      ]
    },
    {
      "cell_type": "code",
      "metadata": {},
      "source": [
        "lens = phase1_result.model.galaxies.lens\n",
        "source = al.GalaxyModel(\n",
        "    redshift=1.0,\n",
        "    pixelization=al.pix.VoronoiMagnification,\n",
        "    regularization=al.reg.Constant,\n",
        ")\n",
        "\n",
        "source.regularization.coefficient = af.LogUniformPrior(\n",
        "    lower_limit=1e-3, upper_limit=1e4\n",
        ")"
      ],
      "outputs": [],
      "execution_count": null
    },
    {
      "cell_type": "markdown",
      "metadata": {},
      "source": [
        "__Search__\n",
        "\n",
        "In phase 2, we use the nested sampling algorithm `Dynesty` again."
      ]
    },
    {
      "cell_type": "code",
      "metadata": {},
      "source": [
        "search = af.DynestyStatic(\n",
        "    path_prefix=path.join(\"interferometer\", \"chaining\", \"parametric_to_inversion\"),\n",
        "    name=\"phase[2]\",\n",
        "    n_live_points=40,\n",
        ")"
      ],
      "outputs": [],
      "execution_count": null
    },
    {
      "cell_type": "markdown",
      "metadata": {},
      "source": [
        "__Phase__\n",
        "\n",
        "We can now combine the model, settings and search to create and run a phase, fitting our data with the lens model.\n",
        "\n",
        "The `name` and `path_prefix` below specify the path where results are stored in the output folder:  \n",
        "\n",
        " `/autolens_workspace/output/examples/chaining/parametric_to_inversion/mass_sie__source_sersic/phase[2]`.\n",
        "\n",
        "Note how the `lens` passed to this phase was set up above using the results of phase 1!"
      ]
    },
    {
      "cell_type": "code",
      "metadata": {},
      "source": [
        "phase2 = al.PhaseInterferometer(\n",
        "    search=search,\n",
        "    real_space_mask=real_space_mask,\n",
        "    galaxies=af.CollectionPriorModel(lens=lens, source=source),\n",
        "    settings=settings,\n",
        ")\n",
        "\n",
        "\n",
        "phase2.run(dataset=interferometer, mask=visibilities_mask)"
      ],
      "outputs": [],
      "execution_count": null
    },
    {
      "cell_type": "markdown",
      "metadata": {},
      "source": [
        "__Wrap Up__\n",
        "\n",
        "In this example, we passed used prior passing to initialize a lens mass model using a parametric source and pass this\n",
        "model to a second phase which modeled the source using an `Inversion`. We won in terms of efficiency and ensuring the\n",
        "`Inversion` did not go to an unphysical solution.\n",
        "\n",
        "__Pipelines__\n",
        "\n",
        "The next level of PyAutoLens uses `Pipelines`, which chain together multiple phases to perform very complex lens \n",
        "modeling in robust and efficient ways. Pipelines which fit the source as an `Inversion`, for example:\n",
        "\n",
        " `autolens_wokspace/pipelines/no_lens_light/mass_total__source_inversion.py`\n",
        "\n",
        "Exploit our ability to first model the source using a parametric profile and then switch to an `Inversion`, to ensure \n",
        "more efficient and robust model-fits!"
      ]
    },
    {
      "cell_type": "code",
      "metadata": {},
      "source": [],
      "outputs": [],
      "execution_count": null
    }
  ],
  "metadata": {
    "anaconda-cloud": {},
    "kernelspec": {
      "display_name": "Python 3",
      "language": "python",
      "name": "python3"
    },
    "language_info": {
      "codemirror_mode": {
        "name": "ipython",
        "version": 3
      },
      "file_extension": ".py",
      "mimetype": "text/x-python",
      "name": "python",
      "nbconvert_exporter": "python",
      "pygments_lexer": "ipython3",
      "version": "3.6.1"
    }
  },
  "nbformat": 4,
  "nbformat_minor": 4
}