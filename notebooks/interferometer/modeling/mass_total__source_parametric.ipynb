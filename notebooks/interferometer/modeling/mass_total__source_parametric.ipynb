{
  "cells": [
    {
      "cell_type": "markdown",
      "metadata": {},
      "source": [
        "Modeling: Mass Total + Source Parametric\n",
        "========================================\n",
        "\n",
        "To fit a lens model to an interferometer dataset, we again perform lens modeling using a `NonLinearSearch`.\n",
        "However, unlike CCD `Imaging` data, we fit the lens model in Fourier space, or the `uv-plane`, which circumvents issues\n",
        "that arise when trying to fit CLEANED images of interferometer data.\n",
        "\n",
        "A big challenge when fitting interferometer datasets is the huge quantity of data. Very long baseline ALMA or JVLA\n",
        "observations observe in excess of *millions* of visibilities, which can make certain approaches to modeling\n",
        "interferometer data extremely slow and expensive.\n",
        "\n",
        "In this example, we fit an interferometer dataset consisting of 1 million visibilities, assuming a parametric\n",
        "`EllipticalSersic` model for the source. This analysis would be very expensive if a direct Fourier transform is used to\n",
        "transform the lens model-image from  real-space to Fourier space and compare with the visibilities in the uv-plane.\n",
        "\n",
        "Instead, **PyAutoLens** uses the non-uniform fast Fourier transform (NUFFT) of the package PyNUFFT\n",
        "(https://github.com/jyhmiinlin/pynufft)  which ensures we can fit > 1 million visibilities in an efficient manner!\n",
        "\n",
        "In this example script, we fit interferometer data of a strong lens system where:\n",
        "\n",
        " - The lens galaxy's light is omitted (and is not present in the simulated data).\n",
        " - The lens galaxy's total mass distribution is modeled as an `EllipticalIsothermal`.\n",
        " - The source galaxy's light is modeled parametrically as an `EllipticalSersic`."
      ]
    },
    {
      "cell_type": "code",
      "metadata": {},
      "source": [
        "%matplotlib inline\n",
        "from pyprojroot import here\n",
        "workspace_path = str(here())\n",
        "%cd $workspace_path\n",
        "print(f\"Working Directory has been set to `{workspace_path}`\")\n",
        "\n",
        "from os import path\n",
        "import autofit as af\n",
        "import autolens as al\n",
        "import autolens.plot as aplt\n",
        "import numpy as np"
      ],
      "outputs": [],
      "execution_count": null
    },
    {
      "cell_type": "markdown",
      "metadata": {},
      "source": [
        "Load the strong lens dataset `mass_sie__source_sersic` `from .fits files.\n",
        "\n",
        "Unlike the other example scripts, we use the `Interferometer` class to load this dataset, passing it paths to the .fits\n",
        "files containing its visibilities, noise-map and uv_wavelengths."
      ]
    },
    {
      "cell_type": "code",
      "metadata": {},
      "source": [
        "dataset_name = \"mass_sie__source_sersic\"\n",
        "dataset_path = path.join(\"dataset\", \"interferometer\", dataset_name)\n",
        "\n",
        "interferometer = al.Interferometer.from_fits(\n",
        "    visibilities_path=path.join(dataset_path, \"visibilities.fits\"),\n",
        "    noise_map_path=path.join(dataset_path, \"noise_map.fits\"),\n",
        "    uv_wavelengths_path=path.join(dataset_path, \"uv_wavelengths.fits\"),\n",
        ")\n",
        "\n",
        "interferometer_plotter = aplt.InterferometerPlotter(interferometer=interferometer)\n",
        "interferometer_plotter.subplot_interferometer()"
      ],
      "outputs": [],
      "execution_count": null
    },
    {
      "cell_type": "markdown",
      "metadata": {},
      "source": [
        "The perform a fit, we need two masks, firstly a \u2018real-space mask\u2019 which defines the grid the image of the lensed \n",
        "source galaxy is evaluated using."
      ]
    },
    {
      "cell_type": "code",
      "metadata": {},
      "source": [
        "real_space_mask = al.Mask2D.circular(\n",
        "    shape_native=(200, 200), pixel_scales=0.05, radius=3.0\n",
        ")"
      ],
      "outputs": [],
      "execution_count": null
    },
    {
      "cell_type": "markdown",
      "metadata": {},
      "source": [
        "We also need a \u2018visibilities mask\u2019 which defining which visibilities are omitted from the chi-squared evaluation."
      ]
    },
    {
      "cell_type": "code",
      "metadata": {},
      "source": [
        "visibilities_mask = np.full(fill_value=False, shape=interferometer.visibilities.shape)"
      ],
      "outputs": [],
      "execution_count": null
    },
    {
      "cell_type": "markdown",
      "metadata": {},
      "source": [
        "__Phase__\n",
        "\n",
        "To perform lens modeling, we create a *PhaseInterferometer* object, which comprises:\n",
        "\n",
        "   - The `GalaxyModel`'s used to fit the data.\n",
        "   - The `SettingsPhase` which customize how the model is fitted to the data.\n",
        "   - The `NonLinearSearch` used to sample parameter space.\n",
        "   \n",
        "Once we have create the phase, we `run` it by passing it the data and mask.\n",
        "\n",
        "__Model__\n",
        "\n",
        "We compose our lens model using `GalaxyModel` objects, which represent the galaxies we fit to our data. In this \n",
        "example our lens mooel is:\n",
        "\n",
        " - An `EllipticalIsothermal` `MassProfile`.for the lens galaxy's mass (5 parameters).\n",
        " - An `EllipticalSersic` `LightProfile`.for the source galaxy's light (7 parameters).\n",
        "\n",
        "The number of free parameters and therefore the dimensionality of non-linear parameter space is N=12."
      ]
    },
    {
      "cell_type": "code",
      "metadata": {},
      "source": [
        "lens = al.GalaxyModel(redshift=0.5, mass=al.mp.EllipticalIsothermal)\n",
        "source = al.GalaxyModel(redshift=1.0, bulge=al.lp.EllipticalSersic)"
      ],
      "outputs": [],
      "execution_count": null
    },
    {
      "cell_type": "markdown",
      "metadata": {},
      "source": [
        "__Settings__\n",
        "\n",
        "Next, we specify the *SettingsPhaseInterferometer*, which describes how the model is fitted to the data in the log \n",
        "likelihood function. Below, we specify:\n",
        " \n",
        " - That a regular `Grid2D` is used to fit create the model-image (in real space) when fitting the data \n",
        "   (see `autolens_workspace/examples/grids.py` for a description of grids).\n",
        "   \n",
        " - The sub-grid size of this real-space grid.\n",
        " \n",
        " - The method used to Fourier transform this real-space image of the strong lens to the uv-plane, to compare directly\n",
        "   to the visiblities. In this example, we use a non-uniform fast Fourier transform, which operates efficiently\n",
        "   on interferometer datasets containing ~1-10 million visibilities."
      ]
    },
    {
      "cell_type": "code",
      "metadata": {},
      "source": [
        "settings_masked_interferometer = al.SettingsMaskedInterferometer(\n",
        "    grid_class=al.Grid2D, sub_size=2, transformer_class=al.TransformerNUFFT\n",
        ")\n",
        "\n",
        "settings = al.SettingsPhaseInterferometer(\n",
        "    settings_masked_interferometer=settings_masked_interferometer\n",
        ")"
      ],
      "outputs": [],
      "execution_count": null
    },
    {
      "cell_type": "markdown",
      "metadata": {},
      "source": [
        "__Search__\n",
        "\n",
        "The lens model is fitted to the data using a `NonLinearSearch`, which we specify below. In this example, we use the\n",
        "nested sampling algorithm Dynesty (https://dynesty.readthedocs.io/en/latest/), with:\n",
        "\n",
        " - 50 live points.\n",
        "\n",
        "The script `autolens_workspace/notebooks/interferometer/modeling/customize/non_linear_searches.py` gives a description \n",
        "of the types of non-linear searches that can be used with **PyAutoLens**. If you do not know what a `NonLinearSearch` \n",
        "is or how it operates, I recommend you complete chapters 1 and 2 of the HowToLens lecture series.\n",
        "\n",
        "The `name` and `path_prefix` below specify the path where results are stored in the output folder:  \n",
        "\n",
        " `/autolens_workspace/output/interferometer/mass_sie__source_sersic/phase_mass[sie]_source[bulge]`."
      ]
    },
    {
      "cell_type": "code",
      "metadata": {},
      "source": [
        "search = af.DynestyStatic(\n",
        "    path_prefix=path.join(\"interferometer\", dataset_name),\n",
        "    name=\"phase_mass[sie]_source[bulge]\",\n",
        "    n_live_points=50,\n",
        ")"
      ],
      "outputs": [],
      "execution_count": null
    },
    {
      "cell_type": "markdown",
      "metadata": {},
      "source": [
        "__Phase__\n",
        "\n",
        "We can now combine the model, settings and search to create and run a phase, fitting our data with the lens model."
      ]
    },
    {
      "cell_type": "code",
      "metadata": {},
      "source": [
        "phase = al.PhaseInterferometer(\n",
        "    search=search,\n",
        "    real_space_mask=real_space_mask,\n",
        "    galaxies=af.CollectionPriorModel(lens=lens, source=source),\n",
        "    settings=settings,\n",
        ")"
      ],
      "outputs": [],
      "execution_count": null
    },
    {
      "cell_type": "markdown",
      "metadata": {},
      "source": [
        "We can now begin the fit by passing the dataset and visibilties mask to the phase, which will use the `NonLinearSearch` \n",
        "to fit the model to the data. \n",
        "\n",
        "The fit outputs visualization on-the-fly, so checkout the path \n",
        "`autolens_workspace/output/examples/phase_mass[sie]_source[bulge]` to see how your fit is doing!"
      ]
    },
    {
      "cell_type": "code",
      "metadata": {},
      "source": [
        "result = phase.run(dataset=interferometer, mask=visibilities_mask)"
      ],
      "outputs": [],
      "execution_count": null
    },
    {
      "cell_type": "markdown",
      "metadata": {},
      "source": [
        "The phase above returned a result, which, for example, includes the lens model corresponding to the maximum\n",
        "log likelihood solution in parameter space."
      ]
    },
    {
      "cell_type": "code",
      "metadata": {},
      "source": [
        "print(result.max_log_likelihood_instance)"
      ],
      "outputs": [],
      "execution_count": null
    },
    {
      "cell_type": "markdown",
      "metadata": {},
      "source": [
        "It also contains instances of the maximum log likelihood Tracer and FitImaging, which can be used to visualize\n",
        "the fit."
      ]
    },
    {
      "cell_type": "code",
      "metadata": {},
      "source": [
        "tracer_plotter = aplt.TracerPlotter(\n",
        "    tracer=result.max_log_likelihood_tracer, grid=real_space_mask.masked_grid_sub_1\n",
        ")\n",
        "tracer_plotter.subplot_tracer()\n",
        "fit_interferometer_plotter = aplt.FitInterferometerPlotter(\n",
        "    fit=result.max_log_likelihood_fit\n",
        ")\n",
        "fit_interferometer_plotter.subplot_fit_interferometer()"
      ],
      "outputs": [],
      "execution_count": null
    },
    {
      "cell_type": "markdown",
      "metadata": {},
      "source": [
        "Checkout `autolens_workspace/notebooks/interferometer/modeling/results.py` for a full description of the result object."
      ]
    },
    {
      "cell_type": "code",
      "metadata": {},
      "source": [],
      "outputs": [],
      "execution_count": null
    }
  ],
  "metadata": {
    "anaconda-cloud": {},
    "kernelspec": {
      "display_name": "Python 3",
      "language": "python",
      "name": "python3"
    },
    "language_info": {
      "codemirror_mode": {
        "name": "ipython",
        "version": 3
      },
      "file_extension": ".py",
      "mimetype": "text/x-python",
      "name": "python",
      "nbconvert_exporter": "python",
      "pygments_lexer": "ipython3",
      "version": "3.6.1"
    }
  },
  "nbformat": 4,
  "nbformat_minor": 4
}