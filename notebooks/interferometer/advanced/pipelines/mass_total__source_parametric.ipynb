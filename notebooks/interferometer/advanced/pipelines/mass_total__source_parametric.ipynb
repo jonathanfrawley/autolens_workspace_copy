{
  "cells": [
    {
      "cell_type": "markdown",
      "metadata": {},
      "source": [
        "Pipelines: Mass Total + Source Parametric\n",
        "=========================================\n",
        "\n",
        "Using a pipeline composed of two phases this runner fits `Interferometer` data of a strong lens system, where in\n",
        "the final phase of the pipeline:\n",
        "\n",
        " - The lens galaxy's light is omitted from the data and model.\n",
        " - The lens galaxy's total mass distribution is modeled as an `EllipticalIsothermal`.\n",
        " - The source galaxy's two `LightProfile`'s are modeled as `EllipticalSersic``..\n",
        "\n",
        "This uses the pipeline (Check it out full description of the pipeline):\n",
        "\n",
        "`autolens_workspace/pipelines/interferometer/pipelines/mass_power_law__source_parametric.py`."
      ]
    },
    {
      "cell_type": "code",
      "metadata": {},
      "source": [
        "%matplotlib inline\n",
        "from pyprojroot import here\n",
        "workspace_path = str(here())\n",
        "%cd $workspace_path\n",
        "print(f\"Working Directory has been set to `{workspace_path}`\")\n",
        "\n",
        "from os import path\n",
        "import autolens as al\n",
        "import autolens.plot as aplt\n",
        "import numpy as np\n",
        "\n",
        "dataset_name = \"mass_sie__source_sersic\"\n",
        "dataset_path = path.join(\"dataset\", \"interferometer\", dataset_name)"
      ],
      "outputs": [],
      "execution_count": null
    },
    {
      "cell_type": "markdown",
      "metadata": {},
      "source": [
        "Using the dataset path, load the data (image, noise-map, PSF) as an `Interferometer` object from .fits files."
      ]
    },
    {
      "cell_type": "code",
      "metadata": {},
      "source": [
        "interferometer = al.Interferometer.from_fits(\n",
        "    visibilities_path=path.join(dataset_path, \"visibilities.fits\"),\n",
        "    noise_map_path=path.join(dataset_path, \"noise_map.fits\"),\n",
        "    uv_wavelengths_path=path.join(dataset_path, \"uv_wavelengths.fits\"),\n",
        ")\n",
        "\n",
        "interferometer_plotter = aplt.InterferometerPlotter(interferometer=interferometer)\n",
        "interferometer_plotter.subplot_interferometer()"
      ],
      "outputs": [],
      "execution_count": null
    },
    {
      "cell_type": "markdown",
      "metadata": {},
      "source": [
        "The perform a fit, we need two masks, firstly a \u2018real-space mask\u2019 which defines the grid the image of the lensed \n",
        "source galaxy is evaluated using."
      ]
    },
    {
      "cell_type": "code",
      "metadata": {},
      "source": [
        "real_space_mask = al.Mask2D.circular(\n",
        "    shape_native=(200, 200), pixel_scales=0.05, radius=3.0\n",
        ")"
      ],
      "outputs": [],
      "execution_count": null
    },
    {
      "cell_type": "markdown",
      "metadata": {},
      "source": [
        "We also need a \u2018visibilities mask\u2019 which defining which visibilities are omitted from the chi-squared evaluation."
      ]
    },
    {
      "cell_type": "code",
      "metadata": {},
      "source": [
        "visibilities_mask = np.full(fill_value=False, shape=interferometer.visibilities.shape)"
      ],
      "outputs": [],
      "execution_count": null
    },
    {
      "cell_type": "markdown",
      "metadata": {},
      "source": [
        "Make a quick subplot to make sure the data looks as we expect."
      ]
    },
    {
      "cell_type": "code",
      "metadata": {},
      "source": [
        "interferometer_plotter = aplt.InterferometerPlotter(interferometer=interferometer)\n",
        "interferometer_plotter.subplot_interferometer()"
      ],
      "outputs": [],
      "execution_count": null
    },
    {
      "cell_type": "markdown",
      "metadata": {},
      "source": [
        "__Settings__\n",
        "\n",
        "The `SettingsPhaseInterferometer` describe how the model is fitted to the data in the log likelihood function.\n",
        "\n",
        "These settings are used and described throughout the `autolens_workspace/notebooks/interferometer/modeling` example scripts, with a \n",
        "complete description of all settings given in `autolens_workspace/notebooks/interferometer/modeling/customize/settings.py`.\n",
        "\n",
        "The settings chosen here are applied to all phases in the pipeline."
      ]
    },
    {
      "cell_type": "code",
      "metadata": {},
      "source": [
        "settings_masked_interferometer = al.SettingsMaskedInterferometer(\n",
        "    grid_class=al.Grid2D, sub_size=2, transformer_class=al.TransformerNUFFT\n",
        ")\n",
        "\n",
        "settings = al.SettingsPhaseInterferometer(\n",
        "    settings_masked_interferometer=settings_masked_interferometer\n",
        ")"
      ],
      "outputs": [],
      "execution_count": null
    },
    {
      "cell_type": "markdown",
      "metadata": {},
      "source": [
        "__Pipeline_Setup__:\n",
        "\n",
        "Pipelines use `Setup` objects to customize how different aspects of the model are fitted. \n",
        "\n",
        "First, we create a `SetupMassTotal`, which customizes:\n",
        "\n",
        " - The `MassProfile` used to fit the lens's total mass distribution.\n",
        " - If there is an `ExternalShear` in the mass model or not."
      ]
    },
    {
      "cell_type": "code",
      "metadata": {},
      "source": [
        "setup_mass = al.SetupMassTotal(with_shear=True)"
      ],
      "outputs": [],
      "execution_count": null
    },
    {
      "cell_type": "markdown",
      "metadata": {},
      "source": [
        "Next, we create a `SetupSourceParametric` which customizes:\n",
        "\n",
        " - The `LightProfile`'s which fit different components of the source light, such as its `bulge` and `disk`.\n",
        " - The alignment of these components, for example if the `bulge` and `disk` centres are aligned.\n",
        " \n",
        "In this example we fit the source light as one component, a `bulge` represented as an `EllipticalSersic`. We have \n",
        "included options of `SetupSourceParametric` with input values of `None`, illustrating how it could be edited to fit different models."
      ]
    },
    {
      "cell_type": "code",
      "metadata": {},
      "source": [
        "setup_source = al.SetupSourceParametric()"
      ],
      "outputs": [],
      "execution_count": null
    },
    {
      "cell_type": "markdown",
      "metadata": {},
      "source": [
        "_Pipeline Tagging_\n",
        "\n",
        "The `Setup` objects are input into a `SetupPipeline` object, which is passed into the pipeline and used to customize\n",
        "the analysis depending on the setup. This includes tagging the output path of a pipeline. For example, if `with_shear` \n",
        "is True, the pipeline`s output paths are `tagged` with the string `with_shear`.\n",
        "\n",
        "This means you can run the same pipeline on the same data twice (e.g. with and without shear) and the results will go\n",
        "to different output folders and thus not clash with one another!\n",
        "\n",
        "The `path_prefix` below specifies the path the pipeline results are written to, which is:\n",
        "\n",
        " `autolens_workspace/output/pipelines/dataset_type/dataset_name` \n",
        " `autolens_workspace/output/pipelines/interferometer/mass_sie__source_sersic_x2/`\n",
        " \n",
        " The redshift of the lens and source galaxies are also input (see `notebooks/interferometer/modeling/customize/redshift.py`) for a \n",
        "description of what inputting redshifts into **PyAutoLens** does."
      ]
    },
    {
      "cell_type": "code",
      "metadata": {},
      "source": [
        "setup = al.SetupPipeline(\n",
        "    path_prefix=path.join(\"pipelines\", dataset_name),\n",
        "    redshift_lens=0.5,\n",
        "    redshift_source=1.0,\n",
        "    setup_mass=setup_mass,\n",
        "    setup_source=setup_source,\n",
        ")"
      ],
      "outputs": [],
      "execution_count": null
    },
    {
      "cell_type": "markdown",
      "metadata": {},
      "source": [
        "__Pipeline Creation__\n",
        "\n",
        "To create a pipeline we import it from the pipelines folder and run its `make_pipeline` function, inputting the \n",
        "`Setup` and `SettingsPhase` above."
      ]
    },
    {
      "cell_type": "code",
      "metadata": {},
      "source": [
        "from pipelines import mass_total__source_parametric\n",
        "\n",
        "pipeline = mass_total__source_parametric.make_pipeline(\n",
        "    setup=setup, settings=settings, real_space_mask=real_space_mask\n",
        ")"
      ],
      "outputs": [],
      "execution_count": null
    },
    {
      "cell_type": "markdown",
      "metadata": {},
      "source": [
        "__Pipeline Run__\n",
        "\n",
        "Running a pipeline is the same as running a phase, we simply pass it our lens dataset and mask to its run function."
      ]
    },
    {
      "cell_type": "code",
      "metadata": {},
      "source": [
        "pipeline.run(dataset=interferometer, mask=visibilities_mask)\n"
      ],
      "outputs": [],
      "execution_count": null
    }
  ],
  "metadata": {
    "anaconda-cloud": {},
    "kernelspec": {
      "display_name": "Python 3",
      "language": "python",
      "name": "python3"
    },
    "language_info": {
      "codemirror_mode": {
        "name": "ipython",
        "version": 3
      },
      "file_extension": ".py",
      "mimetype": "text/x-python",
      "name": "python",
      "nbconvert_exporter": "python",
      "pygments_lexer": "ipython3",
      "version": "3.6.1"
    }
  },
  "nbformat": 4,
  "nbformat_minor": 4
}