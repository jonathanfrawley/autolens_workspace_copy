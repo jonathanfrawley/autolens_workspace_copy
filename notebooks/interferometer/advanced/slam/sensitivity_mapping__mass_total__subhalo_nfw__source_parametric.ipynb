{
  "cells": [
    {
      "cell_type": "markdown",
      "metadata": {},
      "source": [
        "SLaM (Source, Light and Mass): Mass Total + Subhalo NFW + Source Parametric Sensitivity Mapping\n",
        "===============================================================================================\n",
        "\n",
        "Using 1 source pipeline, a mass pipeline and a subhalo pipeline this SLaM runner fits `Interferometer` of a strong\n",
        "lens system, where in the final model:\n",
        "\n",
        " - The lens galaxy's light is omitted from the data and model.\n",
        " - The lens galaxy's total mass distribution is an `EllipticalIsothermal` and `ExternalShear`.\n",
        " - A dark matter subhalo`s within the lens galaxy is a `SphericalNFWMCRLudLow`.\n",
        " - The source galaxy is an `EllipticalSersic`.\n",
        "\n",
        "This runner uses the SLaM pipelines:\n",
        "\n",
        " `slam/pipelines/source__mass_sie__source_parametric.py`.\n",
        " `slam/pipelines/mass__mass_power_law__source.py`.\n",
        " `slam/pipelines/subhalo__mass__subhalo_nfw__source.py`.\n",
        "\n",
        "Check them out for a detailed description of the analysis!"
      ]
    },
    {
      "cell_type": "code",
      "metadata": {},
      "source": [
        "%matplotlib inline\n",
        "from pyprojroot import here\n",
        "workspace_path = str(here())\n",
        "%cd $workspace_path\n",
        "print(f\"Working Directory has been set to `{workspace_path}`\")\n",
        "\n",
        "from os import path\n",
        "from astropy import cosmology as cosmo\n",
        "from autolens.pipeline.phase.interferometer import analysis as a\n",
        "import autolens as al\n",
        "import autolens.plot as aplt\n",
        "import numpy as np\n",
        "\n",
        "dataset_name = \"mass_sie__subhalo_nfw__source_sersic\"\n",
        "pixel_scales = 0.05\n",
        "\n",
        "dataset_path = path.join(\"dataset\", \"interferometer\", dataset_name)"
      ],
      "outputs": [],
      "execution_count": null
    },
    {
      "cell_type": "markdown",
      "metadata": {},
      "source": [
        "Using the dataset path, load the data (image, noise-map, PSF) as an `Interferometer` object from .fits files."
      ]
    },
    {
      "cell_type": "code",
      "metadata": {},
      "source": [
        "interferometer = al.Interferometer.from_fits(\n",
        "    visibilities_path=path.join(dataset_path, \"visibilities.fits\"),\n",
        "    noise_map_path=path.join(dataset_path, \"noise_map.fits\"),\n",
        "    uv_wavelengths_path=path.join(dataset_path, \"uv_wavelengths.fits\"),\n",
        ")\n",
        "\n",
        "interferometer_plotter = aplt.InterferometerPlotter(interferometer=interferometer)\n",
        "interferometer_plotter.subplot_interferometer()"
      ],
      "outputs": [],
      "execution_count": null
    },
    {
      "cell_type": "markdown",
      "metadata": {},
      "source": [
        "The perform a fit, we need two masks, firstly a \u2018real-space mask\u2019 which defines the grid the image of the lensed \n",
        "source galaxy is evaluated using."
      ]
    },
    {
      "cell_type": "code",
      "metadata": {},
      "source": [
        "real_space_mask = al.Mask2D.circular(\n",
        "    shape_native=(200, 200), pixel_scales=0.05, radius=3.0\n",
        ")"
      ],
      "outputs": [],
      "execution_count": null
    },
    {
      "cell_type": "markdown",
      "metadata": {},
      "source": [
        "We also need a \u2018visibilities mask\u2019 which defining which visibilities are omitted from the chi-squared evaluation."
      ]
    },
    {
      "cell_type": "code",
      "metadata": {},
      "source": [
        "visibilities_mask = np.full(fill_value=False, shape=interferometer.visibilities.shape)"
      ],
      "outputs": [],
      "execution_count": null
    },
    {
      "cell_type": "markdown",
      "metadata": {},
      "source": [
        "__Settings__\n",
        "\n",
        "The `SettingsPhaseInterferometer` describe how the model is fitted to the data in the log likelihood function.\n",
        "\n",
        "These settings are used and described throughout the `autolens_workspace/notebooks/interferometer/modeling` example \n",
        "scripts, with a complete description of all settings given \n",
        "in `autolens_workspace/notebooks/interferometer/modeling/customize/settings.py`.\n",
        "\n",
        "The settings chosen here are applied to all searches in the pipeline."
      ]
    },
    {
      "cell_type": "code",
      "metadata": {},
      "source": [
        "settings_masked_interferometer = al.SettingsMaskedInterferometer(\n",
        "    grid_class=al.Grid2D, sub_size=2\n",
        ")\n",
        "\n",
        "settings = al.SettingsPhaseInterferometer(\n",
        "    settings_masked_interferometer=settings_masked_interferometer\n",
        ")"
      ],
      "outputs": [],
      "execution_count": null
    },
    {
      "cell_type": "markdown",
      "metadata": {},
      "source": [
        "__PIPELINE SETUP__\n",
        "\n",
        "Pipelines use the `SetupPipeline` object to customize the analysis performed by the pipeline,\n",
        "for example if a shear was included in the mass model and the model used for the source galaxy.\n",
        "\n",
        "SLaM pipelines break the analysis down into multiple pipelines which focus on modeling a specific aspect of the strong \n",
        "lens, first the Source, then the (lens) Light and finally the Mass. Each of these pipelines has it own setup object \n",
        "which is equivalent to the `SetupPipeline` object, customizing the analysis in that pipeline. Each pipeline therefore\n",
        "has its own `SetupMass`, `SetupLightParametric` and `SetupSourceParametric` object.\n",
        "\n",
        "The `Setup` used in earlier pipelines determine the model used in later pipelines. For example, if the `Source` \n",
        "pipeline is given a `Pixelization` and `Regularization`, than this `Inversion` will be used in the \n",
        "subsequent `SLaMPipelineLightParametric` and  Mass pipelines. The assumptions regarding the lens light chosen by \n",
        "the `Light` object are carried forward to the  `Mass`  pipeline.\n",
        "\n",
        "The `Setup` again tags the path structure of every pipeline in a unique way, such than combinations of different\n",
        "SLaM pipelines can be used to fit lenses with different models. If the earlier pipelines are identical (e.g. they use\n",
        "the same `SLaMPipelineSource`. they will reuse those results before branching off to fit different models in \n",
        "the `SLaMPipelineLightParametric` and / or `SLaMPipelineMass` pipelines. \n",
        "\n",
        "__HYPER SETUP__\n",
        "\n",
        "The `SetupHyper` determines which hyper-mode features are used during the model-fit and is used identically to the\n",
        "hyper pipeline examples.\n",
        "\n",
        "The `SetupHyper` object has a new input available, `hyper_fixed_after_source`, which fixes the hyper-parameters to\n",
        "the values computed by the hyper-phase at the end of the Source pipeline. By fixing the hyper-parameter values in the\n",
        "_SLaMPipelineLight_ and `SLaMPipelineMass` pipelines, model comparison can be performed in a consistent fashion."
      ]
    },
    {
      "cell_type": "code",
      "metadata": {},
      "source": [
        "hyper = al.SetupHyper(\n",
        "    hyper_galaxies_lens=False,\n",
        "    hyper_galaxies_source=False,\n",
        "    hyper_image_sky=None,\n",
        "    hyper_background_noise=None,\n",
        ")"
      ],
      "outputs": [],
      "execution_count": null
    },
    {
      "cell_type": "markdown",
      "metadata": {},
      "source": [
        "__SLaMPipelineSourceParametric__\n",
        "\n",
        "The parametric source pipeline aims to initialize a robust model for the source galaxy using `LightProfile` objects. \n",
        "\n",
        "_SLaMPipelineSourceParametric_ determines the source model used by the parametric source pipeline. A full description \n",
        "of all options can be found ? and ?.\n",
        "\n",
        "By default, this assumes an `EllipticalIsothermal` profile for the lens galaxy's mass. Our experience with lens \n",
        "modeling has shown they are the simpliest models that provide a good fit to the majority of strong lenses.\n",
        "\n",
        "For this runner the `SLaMPipelineSourceParametric` customizes:\n",
        "\n",
        " - The `MassProfile` fitted by the pipeline (and the following `SLaMPipelineSourceInversion`.\n",
        " - If there is an `ExternalShear` in the mass model or not."
      ]
    },
    {
      "cell_type": "code",
      "metadata": {},
      "source": [
        "setup_mass = al.SetupMassTotal(\n",
        "    mass_prior_model=al.mp.EllipticalIsothermal, with_shear=True, mass_centre=(0.0, 0.0)\n",
        ")\n",
        "setup_source = al.SetupSourceParametric(disk_prior_model=al.lp.EllipticalExponential)\n",
        "\n",
        "pipeline_source_parametric = al.SLaMPipelineSourceParametric(\n",
        "    setup_mass=setup_mass, setup_source=setup_source\n",
        ")"
      ],
      "outputs": [],
      "execution_count": null
    },
    {
      "cell_type": "markdown",
      "metadata": {},
      "source": [
        "__SLaMPipelineMassTotal__\n",
        "\n",
        "The `SLaMPipelineMassTotal` pipeline fits the model for the lens galaxy's total mass distribution. \n",
        "\n",
        "A full description of all options can be found ? and ?.\n",
        "\n",
        "The model used to represent the lens galaxy's mass is input into `SLaMPipelineMass` and this runner uses an \n",
        "`EllipticalIsothermal` in this example.\n",
        "\n",
        "For this runner the `SLaMPipelineMass` customizes:\n",
        "\n",
        " - The `MassProfile` fitted by the pipeline.\n",
        " - If there is an `ExternalShear` in the mass model or not."
      ]
    },
    {
      "cell_type": "code",
      "metadata": {},
      "source": [
        "setup_mass = al.SetupMassTotal(\n",
        "    mass_prior_model=al.mp.EllipticalIsothermal, with_shear=True\n",
        ")\n",
        "\n",
        "pipeline_mass = al.SLaMPipelineMass(setup_mass=setup_mass)"
      ],
      "outputs": [],
      "execution_count": null
    },
    {
      "cell_type": "markdown",
      "metadata": {},
      "source": [
        "__SetupSubhalo__\n",
        "\n",
        "The final pipeline fits the lens and source model including a `SphericalNFW` subhalo, using a grid-search of non-linear\n",
        "searches. \n",
        "\n",
        "A full description of all options can be found ? and ?.\n",
        "\n",
        "The models used to represent the lens galaxy's mass and the source are those used in the previous pipelines.\n",
        "\n",
        "For this runner the `SetupSubhalo` customizes:\n",
        "\n",
        " - If the source galaxy (parametric or _Inversion) is treated as a model (all free parameters) or instance (all fixed) \n",
        "   during the subhalo detection grid search.\n",
        " - The NxN size of the grid-search."
      ]
    },
    {
      "cell_type": "code",
      "metadata": {},
      "source": [
        "setup_subhalo = al.SetupSubhalo(\n",
        "    source_is_model=True, number_of_steps=5, number_of_cores=2\n",
        ")"
      ],
      "outputs": [],
      "execution_count": null
    },
    {
      "cell_type": "markdown",
      "metadata": {},
      "source": [
        "__SLaM__\n",
        "\n",
        "We combine all of the above `SLaM` pipelines into a `SLaM` object.\n",
        "\n",
        "The `SLaM` object contains a number of methods used in the make_pipeline functions which are used to compose the model \n",
        "based on the input values. It also handles pipeline tagging and path structure."
      ]
    },
    {
      "cell_type": "code",
      "metadata": {},
      "source": [
        "slam = al.SLaM(\n",
        "    path_prefix=path.join(\"slam\", dataset_name),\n",
        "    setup_hyper=hyper,\n",
        "    pipeline_source_parametric=pipeline_source_parametric,\n",
        "    pipeline_mass=pipeline_mass,\n",
        "    setup_subhalo=setup_subhalo,\n",
        ")"
      ],
      "outputs": [],
      "execution_count": null
    },
    {
      "cell_type": "markdown",
      "metadata": {},
      "source": [
        "__PIPELINE CREATION__\n",
        "\n",
        "We import and make pipelines as per usual, albeit we'll now be doing this for multiple pipelines!\n",
        "\n",
        "We then run each pipeline, passing the results of previous pipelines to subsequent pipelines."
      ]
    },
    {
      "cell_type": "code",
      "metadata": {},
      "source": [
        "from pipelines import source__parametric\n",
        "from pipelines import mass__total\n",
        "from pipelines import subhalo\n",
        "\n",
        "source__parametric = source__parametric.make_pipeline(\n",
        "    slam=slam, settings=settings, real_space_mask=real_space_mask\n",
        ")\n",
        "source_results = source__parametric.run(dataset=interferometer, mask=visibilities_mask)\n",
        "\n",
        "mass__total = mass__total.make_pipeline(\n",
        "    slam=slam,\n",
        "    settings=settings,\n",
        "    real_space_mask=real_space_mask,\n",
        "    source_results=source_results,\n",
        ")\n",
        "mass_results = mass__total.run(dataset=interferometer, mask=visibilities_mask)"
      ],
      "outputs": [],
      "execution_count": null
    },
    {
      "cell_type": "markdown",
      "metadata": {},
      "source": [
        "__Sensitivity Mapping__\n",
        "\n",
        "Each model-fit performed by sensitivity mapping creates a new instance of an `Analysis` class, which contains the\n",
        "data simulated by the `simulate_function` for that model.\n",
        "\n",
        "This requires us to write a wrapper around the PyAutoLens `Analysis` class."
      ]
    },
    {
      "cell_type": "code",
      "metadata": {},
      "source": [
        "class Analysis(a.Analysis):\n",
        "    def __init__(self, masked_interferometer):\n",
        "\n",
        "        super().__init__(\n",
        "            masked_interferometer=masked_interferometer, settings=settings, cosmology=cosmo.Planck15\n",
        "        )\n",
        "\n",
        "        self.hyper_galaxy_image_path_dict = mass_results.last.hyper_galaxy_image_path_dict\n",
        "        self.hyper_model_image = mass_results.last.hyper_model_image\n",
        "\n",
        "subhalo = subhalo.sensitivity_mapping(\n",
        "    slam=slam,\n",
        "    uv_wavelengths=interferometer.uv_wavelengths,\n",
        "    visibilities_mask=visibilities_mask,\n",
        "    real_space_mask=real_space_mask,\n",
        "    mass_results=mass_results,\n",
        "    analysis_cls=Analysis\n",
        ")\n",
        "subhalo.run()"
      ],
      "outputs": [],
      "execution_count": null
    },
    {
      "cell_type": "markdown",
      "metadata": {},
      "source": [
        "Finish."
      ]
    },
    {
      "cell_type": "code",
      "metadata": {},
      "source": [],
      "outputs": [],
      "execution_count": null
    }
  ],
  "metadata": {
    "anaconda-cloud": {},
    "kernelspec": {
      "display_name": "Python 3",
      "language": "python",
      "name": "python3"
    },
    "language_info": {
      "codemirror_mode": {
        "name": "ipython",
        "version": 3
      },
      "file_extension": ".py",
      "mimetype": "text/x-python",
      "name": "python",
      "nbconvert_exporter": "python",
      "pygments_lexer": "ipython3",
      "version": "3.6.1"
    }
  },
  "nbformat": 4,
  "nbformat_minor": 4
}