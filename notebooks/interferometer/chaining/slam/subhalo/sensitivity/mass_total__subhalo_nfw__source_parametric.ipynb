{
  "cells": [
    {
      "cell_type": "markdown",
      "metadata": {},
      "source": [
        "SLaM (Source, Light and Mass): Mass Total + Subhalo NFW + Source Parametric Sensitivity Mapping\n",
        "===============================================================================================\n",
        "\n",
        "SLaM pipelines break the analysis down into multiple pipelines which focus on modeling a specific aspect of the strong\n",
        "lens, first the Source, then the (lens) Light and finally the Mass. Each of these pipelines has it own inputs which\n",
        "which customize the model and analysis in that pipeline.\n",
        "\n",
        "The models fitted in earlier pipelines determine the model used in later pipelines. For example, if the SOURCE PIPELINE\n",
        "uses a parametric `EllSersic` profile for the bulge, this will be used in the subsequent MASS TOTAL PIPELINE.\n",
        "\n",
        "Using a SOURCE PARAMETRIC PIPELINE, MASS TOTAL PIPELINE and SUBHALO PIPELINE this SLaM script fits `Interferometer` of a strong lens\n",
        "system, where in the final model:\n",
        "\n",
        " - The lens galaxy's light is omitted from the data and model.\n",
        " - The lens galaxy's total mass distribution is an `EllIsothermal`.\n",
        " - The source galaxy is an `EllSersic`.\n",
        "\n",
        "It ends by performing sensitivity mapping of the data using the above model, so as to determine where in the data\n",
        "subhalos of a given mass could have been detected if present.\n",
        "\n",
        "This runner uses the SLaM pipelines:\n",
        "\n",
        " `source_parametric/no_lens_light`\n",
        " `mass_total/no_lens_light`\n",
        " `subhalo/sensitivity_mapping`\n",
        "\n",
        "Check them out for a detailed description of the analysis!"
      ]
    },
    {
      "cell_type": "code",
      "metadata": {},
      "source": [
        "%matplotlib inline\n",
        "from pyprojroot import here\n",
        "workspace_path = str(here())\n",
        "%cd $workspace_path\n",
        "print(f\"Working Directory has been set to `{workspace_path}`\")\n",
        "\n",
        "import os\n",
        "import sys\n",
        "from os import path\n",
        "import autofit as af\n",
        "import autolens as al\n",
        "import autolens.plot as aplt\n",
        "\n",
        "sys.path.insert(0, os.getcwd())\n",
        "import slam"
      ],
      "outputs": [],
      "execution_count": null
    },
    {
      "cell_type": "markdown",
      "metadata": {},
      "source": [
        "__Dataset + Masking__ \n",
        "\n",
        "Load the `Interferometer` data, define the visibility and real-space masks and plot them."
      ]
    },
    {
      "cell_type": "code",
      "metadata": {},
      "source": [
        "real_space_mask = al.Mask2D.circular(\n",
        "    shape_native=(151, 151), pixel_scales=0.05, radius=3.0\n",
        ")\n",
        "\n",
        "dataset_name = \"mass_sie__subhalo_nfw__source_sersic\"\n",
        "dataset_path = path.join(\"dataset\", \"interferometer\", dataset_name)\n",
        "\n",
        "interferometer = al.Interferometer.from_fits(\n",
        "    visibilities_path=path.join(dataset_path, \"visibilities.fits\"),\n",
        "    noise_map_path=path.join(dataset_path, \"noise_map.fits\"),\n",
        "    uv_wavelengths_path=path.join(dataset_path, \"uv_wavelengths.fits\"),\n",
        "    real_space_mask=real_space_mask,\n",
        ")\n",
        "interferometer = interferometer.apply_settings(\n",
        "    settings=al.SettingsInterferometer(transformer_class=al.TransformerNUFFT)\n",
        ")\n",
        "\n",
        "interferometer_plotter = aplt.InterferometerPlotter(interferometer=interferometer)\n",
        "interferometer_plotter.subplot_interferometer()\n",
        "interferometer_plotter.subplot_dirty_images()"
      ],
      "outputs": [],
      "execution_count": null
    },
    {
      "cell_type": "markdown",
      "metadata": {},
      "source": [
        "__Paths__\n",
        "\n",
        "The path the results of all chained searches are output:"
      ]
    },
    {
      "cell_type": "code",
      "metadata": {},
      "source": [
        "path_prefix = path.join(\"interferometer\", \"slam\")"
      ],
      "outputs": [],
      "execution_count": null
    },
    {
      "cell_type": "markdown",
      "metadata": {},
      "source": [
        "__Redshifts__\n",
        "\n",
        "The redshifts of the lens and source galaxies, which are used to perform unit converions of the model and data (e.g. \n",
        "from arc-seconds to kiloparsecs, masses to solar masses, etc.)."
      ]
    },
    {
      "cell_type": "code",
      "metadata": {},
      "source": [
        "redshift_lens = 0.5\n",
        "redshift_source = 1.0"
      ],
      "outputs": [],
      "execution_count": null
    },
    {
      "cell_type": "markdown",
      "metadata": {},
      "source": [
        "__HYPER SETUP__\n",
        "\n",
        "The `SetupHyper` determines which hyper-mode features are used during the model-fit."
      ]
    },
    {
      "cell_type": "code",
      "metadata": {},
      "source": [
        "setup_hyper = al.SetupHyper(\n",
        "    hyper_galaxies_lens=False,\n",
        "    hyper_galaxies_source=False,\n",
        "    hyper_image_sky=None,\n",
        "    hyper_background_noise=None,\n",
        ")"
      ],
      "outputs": [],
      "execution_count": null
    },
    {
      "cell_type": "markdown",
      "metadata": {},
      "source": [
        "__SOURCE PARAMETRIC PIPELINE (no lens light)__\n",
        "\n",
        "The SOURCE PARAMETRIC PIPELINE (no lens light) uses one search to initialize a robust model for the source galaxy's \n",
        "light, which in this example:\n",
        "\n",
        " - Uses a parametric `EllSersic` bulge for the source's light (omitting a disk / envelope).\n",
        " - Uses an `EllIsothermal` model for the lens's total mass distribution with an `ExternalShear`.\n",
        "\n",
        " __Settings__:\n",
        " \n",
        " - Mass Centre: Fix the mass profile centre to (0.0, 0.0) (this assumption will be relaxed in the MASS TOTAL PIPELINE)."
      ]
    },
    {
      "cell_type": "code",
      "metadata": {},
      "source": [
        "analysis = al.AnalysisInterferometer(dataset=interferometer)\n",
        "\n",
        "source_parametric_results = slam.source_parametric.no_lens_light(\n",
        "    path_prefix=path_prefix,\n",
        "    unique_tag=dataset_name,\n",
        "    analysis=analysis,\n",
        "    setup_hyper=setup_hyper,\n",
        "    mass=af.Model(al.mp.EllIsothermal),\n",
        "    shear=af.Model(al.mp.ExternalShear),\n",
        "    source_bulge=af.Model(al.lp.EllSersic),\n",
        "    mass_centre=(0.0, 0.0),\n",
        "    redshift_lens=0.5,\n",
        "    redshift_source=1.0,\n",
        ")"
      ],
      "outputs": [],
      "execution_count": null
    },
    {
      "cell_type": "markdown",
      "metadata": {},
      "source": [
        "__MASS TOTAL PIPELINE (no lens light)__\n",
        "\n",
        "The MASS TOTAL PIPELINE (no lens light) uses one search to fits a complex lens mass model to a high level of accuracy, \n",
        "using the lens mass model and source model of the SOURCE PIPELINE to initialize the model priors. In this example it:\n",
        "\n",
        " - Uses an `EllPowerLaw` model for the lens's total mass distribution [The centre if unfixed from (0.0, 0.0)].\n",
        " - Uses the `EllSersic` model representing a bulge for the source's light.\n",
        " - Carries the lens redshift, source redshift and `ExternalShear` of the SOURCE PIPELINE through to the MASS TOTAL PIPELINE."
      ]
    },
    {
      "cell_type": "code",
      "metadata": {},
      "source": [
        "analysis = al.AnalysisInterferometer(dataset=interferometer)\n",
        "\n",
        "mass_results = slam.mass_total.no_lens_light(\n",
        "    path_prefix=path_prefix,\n",
        "    unique_tag=dataset_name,\n",
        "    analysis=analysis,\n",
        "    setup_hyper=setup_hyper,\n",
        "    source_results=source_parametric_results,\n",
        "    mass=af.Model(al.mp.EllPowerLaw),\n",
        ")"
      ],
      "outputs": [],
      "execution_count": null
    },
    {
      "cell_type": "markdown",
      "metadata": {},
      "source": [
        "__SUBHALO PIPELINE (sensitivity mapping)__\n",
        "\n",
        "The SUBHALO PIPELINE (sensitivity mapping) performs sensitivity mapping of the data using the lens model\n",
        "fitted above, so as to determine where subhalos of what mass could be detected in the data. A full description of\n",
        "sensitivty mapping if given in the script `sensitivity_mapping.py`.\n",
        "\n",
        "Each model-fit performed by sensitivity mapping creates a new instance of an `Analysis` class, which contains the\n",
        "data simulated by the `simulate_function` for that model. This requires us to write a wrapper around the \n",
        "PyAutoLens `AnalysisInterferometer` class."
      ]
    },
    {
      "cell_type": "code",
      "metadata": {},
      "source": [
        "\n",
        "\n",
        "class AnalysisInterferometerSensitivity(al.AnalysisInterferometer):\n",
        "    def __init__(self, dataset):\n",
        "\n",
        "        super().__init__(dataset=dataset)\n",
        "\n",
        "        self.hyper_galaxy_image_path_dict = (\n",
        "            mass_results.last.hyper_galaxy_image_path_dict\n",
        "        )\n",
        "        self.hyper_model_image = mass_results.last.hyper_model_image\n",
        "\n",
        "\n",
        "subhalo_results = slam.subhalo.sensitivity_mapping_interferometer(\n",
        "    path_prefix=path_prefix,\n",
        "    analysis_cls=AnalysisInterferometerSensitivity,\n",
        "    uv_wavelengths=interferometer.uv_wavelengths,\n",
        "    real_space_mask=real_space_mask,\n",
        "    mass_results=mass_results,\n",
        "    subhalo_mass=af.Model(al.mp.SphNFWMCRLudlow),\n",
        "    grid_dimension_arcsec=3.0,\n",
        "    number_of_steps=2,\n",
        "    number_of_cores=2,\n",
        ")"
      ],
      "outputs": [],
      "execution_count": null
    },
    {
      "cell_type": "markdown",
      "metadata": {},
      "source": [
        "Finish."
      ]
    },
    {
      "cell_type": "code",
      "metadata": {},
      "source": [],
      "outputs": [],
      "execution_count": null
    }
  ],
  "metadata": {
    "anaconda-cloud": {},
    "kernelspec": {
      "display_name": "Python 3",
      "language": "python",
      "name": "python3"
    },
    "language_info": {
      "codemirror_mode": {
        "name": "ipython",
        "version": 3
      },
      "file_extension": ".py",
      "mimetype": "text/x-python",
      "name": "python",
      "nbconvert_exporter": "python",
      "pygments_lexer": "ipython3",
      "version": "3.6.1"
    }
  },
  "nbformat": 4,
  "nbformat_minor": 4
}