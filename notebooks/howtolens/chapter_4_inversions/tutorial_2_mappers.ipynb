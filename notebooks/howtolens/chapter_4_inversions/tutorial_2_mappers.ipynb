{
  "cells": [
    {
      "cell_type": "markdown",
      "metadata": {},
      "source": [
        "Tutorial 2: Mappers\n",
        "===================\n",
        "\n",
        "In the previous example, we made a `Mapper` from a rectangular `Pixelization`. However, it wasn`t clear what a _Mapper_\n",
        "was actually mapping. Infact, it didn`t do much mapping at all! Therefore, in this tutorial, we'll cover mapping."
      ]
    },
    {
      "cell_type": "code",
      "metadata": {},
      "source": [
        "#%matplotlib inline\n",
        "%matplotlib inline\n",
        "from pyprojroot import here\n",
        "workspace_path = str(here())\n",
        "%cd $workspace_path\n",
        "print(f\"Working Directory has been set to `{workspace_path}`\")\n",
        "\n",
        "from os import path\n",
        "import autolens as al\n",
        "import autolens.plot as aplt"
      ],
      "outputs": [],
      "execution_count": null
    },
    {
      "cell_type": "markdown",
      "metadata": {},
      "source": [
        "we'll use new strong lensing data, where:\n",
        "\n",
        " - The lens galaxy's light is omitted.\n",
        " - The lens galaxy's total mass distribution is an `EllipticalIsothermal`.\n",
        " - The source galaxy's `LightProfile` is an `EllipticalSersic`."
      ]
    },
    {
      "cell_type": "code",
      "metadata": {},
      "source": [
        "dataset_name = \"mass_sie__source_sersic\"\n",
        "dataset_path = path.join(\"dataset\", \"imaging\", \"no_lens_light\", dataset_name)\n",
        "\n",
        "imaging = al.Imaging.from_fits(\n",
        "    image_path=path.join(dataset_path, \"image.fits\"),\n",
        "    noise_map_path=path.join(dataset_path, \"noise_map.fits\"),\n",
        "    psf_path=path.join(dataset_path, \"psf.fits\"),\n",
        "    pixel_scales=0.1,\n",
        ")"
      ],
      "outputs": [],
      "execution_count": null
    },
    {
      "cell_type": "markdown",
      "metadata": {},
      "source": [
        "Now, lets set up our `Grid2D`'s (using the image above)."
      ]
    },
    {
      "cell_type": "code",
      "metadata": {},
      "source": [
        "grid = al.Grid2D.uniform(\n",
        "    shape_native=imaging.shape_native, pixel_scales=imaging.pixel_scales, sub_size=1\n",
        ")"
      ],
      "outputs": [],
      "execution_count": null
    },
    {
      "cell_type": "markdown",
      "metadata": {},
      "source": [
        "Our `Tracer` will use the same lens galaxy and source galaxy that we used to Simulate the `Imaging` data (although, \n",
        "becuase we're modeling the source with a pixel-grid, we don't need to supply its `LightProfile`.."
      ]
    },
    {
      "cell_type": "code",
      "metadata": {},
      "source": [
        "lens_galaxy = al.Galaxy(\n",
        "    redshift=0.5,\n",
        "    mass=al.mp.EllipticalIsothermal(\n",
        "        centre=(0.0, 0.0),\n",
        "        einstein_radius=1.6,\n",
        "        elliptical_comps=al.convert.elliptical_comps_from(axis_ratio=0.9, phi=45.0),\n",
        "    ),\n",
        "    shear=al.mp.ExternalShear(elliptical_comps=(0.05, 0.05)),\n",
        ")\n",
        "\n",
        "tracer = al.Tracer.from_galaxies(galaxies=[lens_galaxy, al.Galaxy(redshift=1.0)])\n",
        "\n",
        "source_plane_grid = tracer.traced_grids_of_planes_from_grid(grid=grid)[1]"
      ],
      "outputs": [],
      "execution_count": null
    },
    {
      "cell_type": "markdown",
      "metadata": {},
      "source": [
        "Next, we setup our `Pixelization` and `Mapper` using the tracer`s source-plane grid."
      ]
    },
    {
      "cell_type": "code",
      "metadata": {},
      "source": [
        "rectangular = al.pix.Rectangular(shape=(25, 25))\n",
        "\n",
        "mapper = rectangular.mapper_from_grid_and_sparse_grid(grid=source_plane_grid)"
      ],
      "outputs": [],
      "execution_count": null
    },
    {
      "cell_type": "markdown",
      "metadata": {},
      "source": [
        "we're going to plot our `Mapper` alongside the image we used to generate the source-plane grid."
      ]
    },
    {
      "cell_type": "code",
      "metadata": {},
      "source": [
        "visuals_2d = aplt.Visuals2D(\n",
        "    indexes=[\n",
        "        [0, 1, 2, 3, 4, 5, 6, 7, 8, 9],\n",
        "        [100, 200, 300, 400, 500, 600, 700, 800, 900, 1000],\n",
        "    ]\n",
        ")\n",
        "include_2d = aplt.Include2D(mapper_source_grid_slim=True)\n",
        "\n",
        "mapper_plotter = aplt.MapperPlotter(\n",
        "    mapper=mapper, visuals_2d=visuals_2d, include_2d=include_2d\n",
        ")\n",
        "mapper_plotter.subplot_image_and_mapper(image=imaging.image)"
      ],
      "outputs": [],
      "execution_count": null
    },
    {
      "cell_type": "markdown",
      "metadata": {},
      "source": [
        "The pixels in the image map to the pixels in the source-plane, and visa-versa. Lets highlight a set of image-pixels in \n",
        "both the image and source-plane."
      ]
    },
    {
      "cell_type": "code",
      "metadata": {},
      "source": [
        "mapper_plotter.subplot_image_and_mapper(image=imaging.image)"
      ],
      "outputs": [],
      "execution_count": null
    },
    {
      "cell_type": "markdown",
      "metadata": {},
      "source": [
        "That`s nice, and we can see the mappings, but it isn't really what we want to know, is it? We really want to go the \n",
        "other way, and see how our source-pixels map to the image. This is where `Mapper`'s come into their own, as they let us \n",
        "map all the points in a given source-pixel back to the image. Lets map source pixel 313, the central source-pixel, \n",
        "to the image."
      ]
    },
    {
      "cell_type": "code",
      "metadata": {},
      "source": [
        "visuals_2d = aplt.Visuals2D(pixelization_indexes=[[312]])\n",
        "mapper_plotter = aplt.MapperPlotter(\n",
        "    mapper=mapper, visuals_2d=visuals_2d, include_2d=include_2d\n",
        ")\n",
        "\n",
        "mapper_plotter.subplot_image_and_mapper(image=imaging.image)"
      ],
      "outputs": [],
      "execution_count": null
    },
    {
      "cell_type": "markdown",
      "metadata": {},
      "source": [
        "And there we have it, multiple imaging in all its glory. Try changing the source-pixel indexes of the line below. \n",
        "This will give you a feel for how different regions of the source-plane map to the image."
      ]
    },
    {
      "cell_type": "code",
      "metadata": {},
      "source": [
        "visuals_2d = aplt.Visuals2D(pixelization_indexes=[[312, 318], [412]])\n",
        "mapper_plotter = aplt.MapperPlotter(\n",
        "    mapper=mapper, visuals_2d=visuals_2d, include_2d=include_2d\n",
        ")\n",
        "\n",
        "mapper_plotter.subplot_image_and_mapper(image=imaging.image)"
      ],
      "outputs": [],
      "execution_count": null
    },
    {
      "cell_type": "markdown",
      "metadata": {},
      "source": [
        "Okay, so I think we can agree, `Mapper`'s map things! More specifically, they map our source-plane pixels to pixels in \n",
        "the observed image of a strong lens.\n",
        "\n",
        "Finally, lets do the same as above, but using a masked image. By applying a `Mask2D`, the `Mapper` will only map \n",
        "image-pixels inside the mask. This removes the (many) image pixels at the edge of the image, where the source isn't \n",
        "present. These pixels also pad-out the source-plane, thus by removing them our source-plane reduces in size.\n",
        "\n",
        "Lets just have a quick look at these edges pixels:"
      ]
    },
    {
      "cell_type": "code",
      "metadata": {},
      "source": [
        "visuals_2d = aplt.Visuals2D(\n",
        "    pixelization_indexes=[[0, 1, 2, 3, 4, 5, 6, 7], [620, 621, 622, 623, 624]]\n",
        ")\n",
        "mapper_plotter = aplt.MapperPlotter(\n",
        "    mapper=mapper, visuals_2d=visuals_2d, include_2d=include_2d\n",
        ")\n",
        "\n",
        "mapper_plotter.subplot_image_and_mapper(image=imaging.image)"
      ],
      "outputs": [],
      "execution_count": null
    },
    {
      "cell_type": "markdown",
      "metadata": {},
      "source": [
        "Lets use an annular `Mask2D`, which will capture the ring-like shape of the lensed source galaxy."
      ]
    },
    {
      "cell_type": "code",
      "metadata": {},
      "source": [
        "mask = al.Mask2D.circular_annular(\n",
        "    shape_native=imaging.shape_native,\n",
        "    pixel_scales=imaging.pixel_scales,\n",
        "    inner_radius=1.0,\n",
        "    outer_radius=2.2,\n",
        ")"
      ],
      "outputs": [],
      "execution_count": null
    },
    {
      "cell_type": "markdown",
      "metadata": {},
      "source": [
        "Lets quickly confirm the annuli capture the source's light."
      ]
    },
    {
      "cell_type": "code",
      "metadata": {},
      "source": [
        "visuals_2d = aplt.Visuals2D(mask=mask)\n",
        "\n",
        "imaging_plotter = aplt.ImagingPlotter(imaging=imaging, visuals_2d=visuals_2d)\n",
        "imaging_plotter.figures(image=True)"
      ],
      "outputs": [],
      "execution_count": null
    },
    {
      "cell_type": "markdown",
      "metadata": {},
      "source": [
        "As usual, we setup our `Imaging` and `Mask2D` up as a `MaskedImaging` object and create a `Tracer` using the (masked) \n",
        "grid."
      ]
    },
    {
      "cell_type": "code",
      "metadata": {},
      "source": [
        "masked_imaging = al.MaskedImaging(\n",
        "    imaging=imaging, mask=mask, settings=al.SettingsMaskedImaging(sub_size=2)\n",
        ")\n",
        "\n",
        "tracer = al.Tracer.from_galaxies(galaxies=[lens_galaxy, al.Galaxy(redshift=1.0)])\n",
        "\n",
        "source_plane_grid = tracer.traced_grids_of_planes_from_grid(grid=masked_imaging.grid)[1]"
      ],
      "outputs": [],
      "execution_count": null
    },
    {
      "cell_type": "markdown",
      "metadata": {},
      "source": [
        "Finally, we use the masked source-plane `Grid2D` to setup a new `Mapper` (using the same rectangular 25 x 25 \n",
        "_Pixelization_ as before)."
      ]
    },
    {
      "cell_type": "code",
      "metadata": {},
      "source": [
        "mapper = rectangular.mapper_from_grid_and_sparse_grid(grid=source_plane_grid)"
      ],
      "outputs": [],
      "execution_count": null
    },
    {
      "cell_type": "markdown",
      "metadata": {},
      "source": [
        "Lets have another look."
      ]
    },
    {
      "cell_type": "code",
      "metadata": {},
      "source": [
        "include_2d = aplt.Include2D(mask=True, mapper_source_grid_slim=True)\n",
        "\n",
        "mapper_plotter = aplt.MapperPlotter(mapper=mapper, include_2d=include_2d)\n",
        "mapper_plotter.subplot_image_and_mapper(image=masked_imaging.image)"
      ],
      "outputs": [],
      "execution_count": null
    },
    {
      "cell_type": "markdown",
      "metadata": {},
      "source": [
        "Woah! Look how much closer we are to the source-plane (The axis sizes have decreased from ~ -2.5\" -> 2.5\" to \n",
        "~ -0.6\" to 0.6\"). We can now really see the diamond of points in the centre of the source-plane (for those who have \n",
        "been reading up, this diamond is called the `caustic`)."
      ]
    },
    {
      "cell_type": "code",
      "metadata": {},
      "source": [
        "visuals_2d = aplt.Visuals2D(pixelization_indexes=[[312], [314], [316], [318]])\n",
        "mapper_plotter = aplt.MapperPlotter(\n",
        "    mapper=mapper, visuals_2d=visuals_2d, include_2d=include_2d\n",
        ")\n",
        "\n",
        "mapper_plotter.subplot_image_and_mapper(image=masked_imaging.image)"
      ],
      "outputs": [],
      "execution_count": null
    },
    {
      "cell_type": "markdown",
      "metadata": {},
      "source": [
        "Great - tutorial 2 down! We've learnt about `Mapper``., which map things, and we used them to understand how the image \n",
        "and source plane map to one another. Your exercises are:\n",
        "\n",
        " 1) Change the einstein radius of the lens galaxy in small increments (e.g. einstein radius 1.6\" -> 1.55\"). As the \n",
        " radius deviates from 1.6\" (the input value of the simulated lens), what do you notice about where the points map \n",
        " from the centre of the source-plane (where the source-galaxy is simulated, e.g. (0.0\", 0.0\"))?\n",
        "    \n",
        " 2) Incrementally increase the axis ratio of the lens's `MassProfile` to 1.0. What happens to quadruple imaging?\n",
        "    \n",
        " 3) Now, finally, think - how is all of this going to help us actually model lenses? We've said we're going to \n",
        " reconstruct our source galaxies on the pixel-grid. So, how does knowing how each pixel maps to the image actually \n",
        " help us? If you`ve not got any bright ideas, then worry not - that exactly what we're going to cover in the next \n",
        " tutorial."
      ]
    },
    {
      "cell_type": "code",
      "metadata": {},
      "source": [],
      "outputs": [],
      "execution_count": null
    }
  ],
  "metadata": {
    "anaconda-cloud": {},
    "kernelspec": {
      "display_name": "Python 3",
      "language": "python",
      "name": "python3"
    },
    "language_info": {
      "codemirror_mode": {
        "name": "ipython",
        "version": 3
      },
      "file_extension": ".py",
      "mimetype": "text/x-python",
      "name": "python",
      "nbconvert_exporter": "python",
      "pygments_lexer": "ipython3",
      "version": "3.6.1"
    }
  },
  "nbformat": 4,
  "nbformat_minor": 4
}