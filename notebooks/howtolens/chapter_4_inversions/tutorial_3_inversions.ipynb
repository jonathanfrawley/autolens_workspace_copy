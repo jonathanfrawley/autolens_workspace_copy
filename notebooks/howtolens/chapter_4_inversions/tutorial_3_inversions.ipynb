{
  "cells": [
    {
      "cell_type": "markdown",
      "metadata": {},
      "source": [
        "Tutorial 3: Inversions\n",
        "======================\n",
        "\n",
        "In the previous two tutorials, we introduced:\n",
        "\n",
        " - Pixelizations: which place a pixel-grid in the source-plane.\n",
        " - Mapper: which describe how each source-pixel maps to one or more image pixels.\n",
        "\n",
        "However, non of this has actually helped us fit strong lens data or reconstruct the source galaxy. This is the subject\n",
        "of this tutorial, where the process of reconstructing the source's light on the pixelization is called an `Inversion`."
      ]
    },
    {
      "cell_type": "code",
      "metadata": {},
      "source": [
        "%matplotlib inline\n",
        "from pyprojroot import here\n",
        "workspace_path = str(here())\n",
        "%cd $workspace_path\n",
        "print(f\"Working Directory has been set to `{workspace_path}`\")\n",
        "\n",
        "from os import path\n",
        "import autolens as al\n",
        "import autolens.plot as aplt"
      ],
      "outputs": [],
      "execution_count": null
    },
    {
      "cell_type": "markdown",
      "metadata": {},
      "source": [
        "__Initial Setup__\n",
        "\n",
        "we'll use the same strong lensing data as the previous tutorial, where:\n",
        "\n",
        " - The lens galaxy's light is omitted.\n",
        " - The lens galaxy's total mass distribution is an `EllIsothermal` and `ExternalShear`.\n",
        " - The source galaxy's `LightProfile` is an `EllSersic`."
      ]
    },
    {
      "cell_type": "code",
      "metadata": {},
      "source": [
        "dataset_name = \"mass_sie__source_sersic\"\n",
        "dataset_path = path.join(\"dataset\", \"imaging\", \"no_lens_light\", dataset_name)\n",
        "\n",
        "imaging = al.Imaging.from_fits(\n",
        "    image_path=path.join(dataset_path, \"image.fits\"),\n",
        "    noise_map_path=path.join(dataset_path, \"noise_map.fits\"),\n",
        "    psf_path=path.join(dataset_path, \"psf.fits\"),\n",
        "    pixel_scales=0.1,\n",
        ")"
      ],
      "outputs": [],
      "execution_count": null
    },
    {
      "cell_type": "markdown",
      "metadata": {},
      "source": [
        "Lets create an annular mask which traces the stongly lensed source's ring of light."
      ]
    },
    {
      "cell_type": "code",
      "metadata": {},
      "source": [
        "mask = al.Mask2D.circular_annular(\n",
        "    shape_native=imaging.shape_native,\n",
        "    pixel_scales=imaging.pixel_scales,\n",
        "    inner_radius=0.5,\n",
        "    outer_radius=2.8,\n",
        ")\n",
        "\n",
        "visuals_2d = aplt.Visuals2D(mask=mask)\n",
        "\n",
        "imaging_plotter = aplt.ImagingPlotter(imaging=imaging, visuals_2d=visuals_2d)\n",
        "imaging_plotter.figures_2d(image=True)"
      ],
      "outputs": [],
      "execution_count": null
    },
    {
      "cell_type": "markdown",
      "metadata": {},
      "source": [
        "We now create the masked source-plane grid via the tracer, as we did in the previous tutorial."
      ]
    },
    {
      "cell_type": "code",
      "metadata": {},
      "source": [
        "imaging = imaging.apply_mask(mask=mask)\n",
        "\n",
        "lens_galaxy = al.Galaxy(\n",
        "    redshift=0.5,\n",
        "    mass=al.mp.EllIsothermal(\n",
        "        centre=(0.0, 0.0),\n",
        "        einstein_radius=1.6,\n",
        "        elliptical_comps=al.convert.elliptical_comps_from(axis_ratio=0.9, angle=45.0),\n",
        "    ),\n",
        "    shear=al.mp.ExternalShear(elliptical_comps=(0.05, 0.05)),\n",
        ")\n",
        "\n",
        "tracer = al.Tracer.from_galaxies(galaxies=[lens_galaxy, al.Galaxy(redshift=1.0)])\n",
        "\n",
        "source_plane_grid = tracer.traced_grids_of_planes_from_grid(grid=imaging.grid)[1]"
      ],
      "outputs": [],
      "execution_count": null
    },
    {
      "cell_type": "markdown",
      "metadata": {},
      "source": [
        "we again use the rectangular pixelization to create the mapper."
      ]
    },
    {
      "cell_type": "code",
      "metadata": {},
      "source": [
        "rectangular = al.pix.Rectangular(shape=(25, 25))\n",
        "\n",
        "mapper = rectangular.mapper_from_grid_and_sparse_grid(grid=source_plane_grid)\n",
        "\n",
        "include_2d = aplt.Include2D(mask=True, mapper_source_grid_slim=True)\n",
        "\n",
        "mapper_plotter = aplt.MapperPlotter(mapper=mapper, include_2d=include_2d)\n",
        "mapper_plotter.subplot_image_and_mapper(image=imaging.image)"
      ],
      "outputs": [],
      "execution_count": null
    },
    {
      "cell_type": "markdown",
      "metadata": {},
      "source": [
        "__Inversion__\n",
        "\n",
        "Finally, we can now use the `Mapper` to reconstruct the source via an `Inversion`. I'll explain how this works in a \n",
        "second, but lets just go ahead and create the inversion first. (Ignore the regularization input below for now, \n",
        "we will cover this in the next tutorial)."
      ]
    },
    {
      "cell_type": "code",
      "metadata": {},
      "source": [
        "inversion = al.Inversion(\n",
        "    dataset=imaging, mapper=mapper, regularization=al.reg.Constant(coefficient=1.0)\n",
        ")"
      ],
      "outputs": [],
      "execution_count": null
    },
    {
      "cell_type": "markdown",
      "metadata": {},
      "source": [
        "The inversion has reconstructed the source's light on the rectangular pixel grid, which is called the \n",
        "`reconstruction`. This source-plane reconstruction can be mapped back to the image-plane to produce the \n",
        "`mapped_reconstructed_image`."
      ]
    },
    {
      "cell_type": "code",
      "metadata": {},
      "source": [
        "print(inversion.reconstruction)\n",
        "print(inversion.mapped_reconstructed_image)"
      ],
      "outputs": [],
      "execution_count": null
    },
    {
      "cell_type": "markdown",
      "metadata": {},
      "source": [
        "Both of these can be plotted using an `InversionPlotter`"
      ]
    },
    {
      "cell_type": "code",
      "metadata": {},
      "source": [
        "include_2d = aplt.Include2D(mask=True)\n",
        "\n",
        "inversion_plotter = aplt.InversionPlotter(inversion=inversion, include_2d=include_2d)\n",
        "inversion_plotter.figures_2d(reconstructed_image=True, reconstruction=True)"
      ],
      "outputs": [],
      "execution_count": null
    },
    {
      "cell_type": "markdown",
      "metadata": {},
      "source": [
        "There we have it, we have successfully reconstructed the source using a rectangular pixel-grid. Whilst this source \n",
        "was simple (a blob of light in the centre of the source-plane), inversions come into their own when fitting sources \n",
        "with complex morphologies. \n",
        "\n",
        "Lets use an inversion to reconstruct a complex source!"
      ]
    },
    {
      "cell_type": "code",
      "metadata": {},
      "source": [
        "dataset_name = \"mass_sie__source_sersic_x4\"\n",
        "dataset_path = path.join(\"dataset\", \"imaging\", \"no_lens_light\", dataset_name)\n",
        "\n",
        "imaging = al.Imaging.from_fits(\n",
        "    image_path=path.join(dataset_path, \"image.fits\"),\n",
        "    noise_map_path=path.join(dataset_path, \"noise_map.fits\"),\n",
        "    psf_path=path.join(dataset_path, \"psf.fits\"),\n",
        "    pixel_scales=0.05,\n",
        ")\n",
        "\n",
        "imaging_plotter = aplt.ImagingPlotter(imaging=imaging)\n",
        "imaging_plotter.figures_2d(image=True)"
      ],
      "outputs": [],
      "execution_count": null
    },
    {
      "cell_type": "markdown",
      "metadata": {},
      "source": [
        "This code is doing all the the same as above (setup the mask, galaxy, tracers, mapper, inversion, etc.)."
      ]
    },
    {
      "cell_type": "code",
      "metadata": {},
      "source": [
        "mask = al.Mask2D.circular_annular(\n",
        "    shape_native=imaging.shape_native,\n",
        "    pixel_scales=imaging.pixel_scales,\n",
        "    inner_radius=0.1,\n",
        "    outer_radius=3.2,\n",
        ")\n",
        "\n",
        "visuals_2d = aplt.Visuals2D(mask=mask)\n",
        "\n",
        "imaging_plotter = aplt.ImagingPlotter(imaging=imaging, visuals_2d=visuals_2d)\n",
        "imaging_plotter.figures_2d(image=True)\n",
        "\n",
        "imaging = imaging.apply_mask(mask=mask)\n",
        "\n",
        "lens_galaxy = al.Galaxy(\n",
        "    redshift=0.5,\n",
        "    mass=al.mp.EllIsothermal(\n",
        "        centre=(0.0, 0.0), einstein_radius=1.6, elliptical_comps=(0.17647, 0.0)\n",
        "    ),\n",
        ")\n",
        "\n",
        "tracer = al.Tracer.from_galaxies(galaxies=[lens_galaxy, al.Galaxy(redshift=1.0)])\n",
        "\n",
        "source_plane_grid = tracer.traced_grids_of_planes_from_grid(grid=imaging.grid)[1]\n",
        "\n",
        "mapper = rectangular.mapper_from_grid_and_sparse_grid(grid=source_plane_grid)\n",
        "\n",
        "inversion = al.Inversion(\n",
        "    dataset=imaging, mapper=mapper, regularization=al.reg.Constant(coefficient=1.0)\n",
        ")"
      ],
      "outputs": [],
      "execution_count": null
    },
    {
      "cell_type": "markdown",
      "metadata": {},
      "source": [
        "Now lets plot the complex source reconstruction."
      ]
    },
    {
      "cell_type": "code",
      "metadata": {},
      "source": [
        "inversion_plotter = aplt.InversionPlotter(inversion=inversion, include_2d=include_2d)\n",
        "inversion_plotter.figures_2d(reconstructed_image=True, reconstruction=True)"
      ],
      "outputs": [],
      "execution_count": null
    },
    {
      "cell_type": "markdown",
      "metadata": {},
      "source": [
        "Pretty great, huh? If you ran the complex source pipeline in chapter 3, you'll remember that getting a model image \n",
        "that looked this good simply *was not possible*. With an inversion, we can do this with ease and without having to \n",
        "perform model-fitting with 20+ parameters for the source's light!\n",
        "\n",
        "We will now briefly discuss how an inversion actually works, however the explanation I give in this tutorial will be \n",
        "overly-simplified. To be good at lens modeling you do not need to understand the details of how an inversion works, you \n",
        "simply need to be able to use an inversion to model a strong lens. \n",
        "\n",
        "To begin, lets consider some random mappings between our mapper`s source-pixels and the image."
      ]
    },
    {
      "cell_type": "code",
      "metadata": {},
      "source": [
        "visuals_2d = aplt.Visuals2D(pixelization_indexes=[[445], [285], [313], [132], [11]])\n",
        "\n",
        "mapper_plotter = aplt.MapperPlotter(\n",
        "    mapper=mapper, visuals_2d=visuals_2d, include_2d=include_2d\n",
        ")\n",
        "mapper_plotter.subplot_image_and_mapper(image=imaging.image)"
      ],
      "outputs": [],
      "execution_count": null
    },
    {
      "cell_type": "markdown",
      "metadata": {},
      "source": [
        "These mappings are known before the inversion reconstructs the source galaxy, which means before this inversion is\n",
        "performed we know two key pieces of information:\n",
        "\n",
        " 1) The mappings between every source-pixel and sets of image-pixels.\n",
        " 2) The flux values in every observed image-pixel, which are the values we want to fit successfully.\n",
        "\n",
        "It turns out that with these two pieces of information we can linearly solve for the set of source-pixel fluxes that \n",
        "best-fit (e.g. maximize the log likelihood) our observed image. Essentially, we set up the mappings between source and \n",
        "image pixels as a large matrix and solve for the source-pixel fluxes in an analogous fashion to how you would solve a \n",
        "set of simultaneous linear equations. This process is called a `linear inversion`.\n",
        "\n",
        "There are three more things about a linear inversion that are worth knowing:\n",
        "\n",
        " 1) When performing fits using light profiles, we discussed how a `model_image` was generated by convolving the light\n",
        " profile images with the data's PSF. A similar blurring operation is incorporated into the inversion, such that it \n",
        " reconstructs a source (and therefore image) which fully accounts for the telescope optics and effect of the PSF.\n",
        "\n",
        " 2) You may be familiar with image sub-gridding, which splits each image-pixel into a sub-pixel (if you are not \n",
        " familiar then feel free to checkout the optional **HowToLens** tutorial on sub-gridding. If a sub-grid is used, it is \n",
        " the mapping between every sub-pixel and source-pixel that is computed and used to perform the inversion. This prevents \n",
        " aliasing effects degrading the image reconstruction. By default **PyAutoLens** uses sub-gridding of degree 4x4.\n",
        "\n",
        " 3) The inversion`s solution is regularized. But wait, that`s what we'll cover in the next tutorial!\n",
        "\n",
        "Finally, let me show you how easy it is to fit an image with an `Inversion` using a `FitImaging` object. Instead of \n",
        "giving the source galaxy a light profile, we simply pass it a `Pixelization` and regularization, and pass it to a \n",
        "tracer."
      ]
    },
    {
      "cell_type": "code",
      "metadata": {},
      "source": [
        "source_galaxy = al.Galaxy(\n",
        "    redshift=1.0,\n",
        "    pixelization=al.pix.Rectangular(shape=(40, 40)),\n",
        "    regularization=al.reg.Constant(coefficient=1.0),\n",
        ")\n",
        "\n",
        "tracer = al.Tracer.from_galaxies(galaxies=[lens_galaxy, source_galaxy])"
      ],
      "outputs": [],
      "execution_count": null
    },
    {
      "cell_type": "markdown",
      "metadata": {},
      "source": [
        "Then, like before, we pass the imaging and tracer `FitImaging` object. \n",
        "\n",
        "We see some pretty good looking residuals, we must be fitting the lensed source accurately! In fact, we can use the\n",
        "`subplot_of_planes` method to specifically visualize the inversion and plot the source reconstruction."
      ]
    },
    {
      "cell_type": "code",
      "metadata": {},
      "source": [
        "fit = al.FitImaging(imaging=imaging, tracer=tracer)\n",
        "\n",
        "include_2d = aplt.Include2D(mask=True)\n",
        "\n",
        "fit_imaging_plotter = aplt.FitImagingPlotter(fit=fit, include_2d=include_2d)\n",
        "fit_imaging_plotter.subplot_fit_imaging()\n",
        "fit_imaging_plotter.subplot_of_planes(plane_index=1)"
      ],
      "outputs": [],
      "execution_count": null
    },
    {
      "cell_type": "markdown",
      "metadata": {},
      "source": [
        "__Wrap Up__\n",
        "\n",
        "And, we're done, here are a few questions to get you thinking about inversions:\n",
        "\n",
        " 1) The inversion provides the maximum log likelihood solution to the observed image. Is there a problem with seeking \n",
        " the highest likelihood solution? Is there a risk that we're going to fit other things in the image than just the \n",
        " lensed source galaxy? What happens if you reduce the `coefficient` of the regularization object above to zero?\n",
        "\n",
        " 2) The exterior pixels in the rectangular pixel-grid have no image-pixels in them. However, they are still given a \n",
        " reconstructed flux. Given these pixels do not map to the data, where is this value coming from?\n",
        " \n",
        "__Detailed Explanation__\n",
        "\n",
        "If you are interested in a more detailed description of how inversions work, then checkout the documentation of the \n",
        "autolens source code for more information. In particular, you should look at the following functions in the project \n",
        "**PyAutoArray**:\n",
        "\n",
        " autoarray.inversions.mappers.mapping_matrix\n",
        " autoarray.opterators.convolution.convolve_mapping_matrix\n",
        " autoarray.opterators.inversions.regularization.Regularization\n",
        " autoarray.opterators.inversions.inversions.Inversion\n",
        "\n",
        "GitHub links to these modules are given below:\n",
        "\n",
        "https://github.com/Jammy2211/PyAutoArray/blob/master/autoarray/operators/convolver.py\n",
        "https://github.com/Jammy2211/PyAutoArray/blob/master/autoarray/inversion/mappers.py\n",
        "https://github.com/Jammy2211/PyAutoArray/blob/master/autoarray/inversion/regularization.py\n",
        "https://github.com/Jammy2211/PyAutoArray/blob/master/autoarray/inversion/inversions.py"
      ]
    },
    {
      "cell_type": "code",
      "metadata": {},
      "source": [],
      "outputs": [],
      "execution_count": null
    }
  ],
  "metadata": {
    "anaconda-cloud": {},
    "kernelspec": {
      "display_name": "Python 3",
      "language": "python",
      "name": "python3"
    },
    "language_info": {
      "codemirror_mode": {
        "name": "ipython",
        "version": 3
      },
      "file_extension": ".py",
      "mimetype": "text/x-python",
      "name": "python",
      "nbconvert_exporter": "python",
      "pygments_lexer": "ipython3",
      "version": "3.6.1"
    }
  },
  "nbformat": 4,
  "nbformat_minor": 4
}