{
  "cells": [
    {
      "cell_type": "markdown",
      "metadata": {},
      "source": [
        "Tutorial 5: Complex Source\n",
        "==========================\n",
        "\n",
        "Up to now, we've not paid much attention to the source galaxy's morphology. We've assumed its a single-component\n",
        "exponential profile, which is a fairly crude assumption. A quick look at any image of a real galaxy reveals a\n",
        "wealth of different structures that could be present: bulges, disks, bars, star-forming knots and so on. Furthermore,\n",
        "there could be more than one source-galaxy!\n",
        "\n",
        "In this example, we'll explore how far we get fitting a complex source using a pipeline. Fitting complex source's is\n",
        "an exercise in diminishing returns. Each light profile we add to our source model brings with it an extra 5-7,\n",
        "parameters. If there are 4 components, or multiple galaxies, we are quickly entering the somewhat nasty regime of\n",
        "30-40+ parameters in our non-linear search. Even with a pipeline, that is a lot of parameters to fit!"
      ]
    },
    {
      "cell_type": "code",
      "metadata": {},
      "source": [
        "%matplotlib inline\n",
        "from pyprojroot import here\n",
        "workspace_path = str(here())\n",
        "%cd $workspace_path\n",
        "print(f\"Working Directory has been set to `{workspace_path}`\")\n",
        "\n",
        "from os import path\n",
        "import autofit as af\n",
        "import autolens as al\n",
        "import autolens.plot as aplt"
      ],
      "outputs": [],
      "execution_count": null
    },
    {
      "cell_type": "markdown",
      "metadata": {},
      "source": [
        "__Initial Setup__\n",
        "\n",
        "we'll use new strong lensing data, where:\n",
        "\n",
        " - The lens galaxy's light is omitted.\n",
        " - The lens galaxy's total mass distribution is an `EllIsothermal` and `ExternalShear`.\n",
        " - The source galaxy's `LightProfile` is four `EllSersic`."
      ]
    },
    {
      "cell_type": "code",
      "metadata": {},
      "source": [
        "dataset_name = \"mass_sie__source_sersic_x4\"\n",
        "dataset_path = path.join(\"dataset\", \"imaging\", \"no_lens_light\", dataset_name)\n",
        "\n",
        "imaging = al.Imaging.from_fits(\n",
        "    image_path=path.join(dataset_path, \"image.fits\"),\n",
        "    noise_map_path=path.join(dataset_path, \"noise_map.fits\"),\n",
        "    psf_path=path.join(dataset_path, \"psf.fits\"),\n",
        "    pixel_scales=0.05,\n",
        ")\n",
        "\n",
        "mask = al.Mask2D.circular(\n",
        "    shape_native=imaging.shape_native, pixel_scales=imaging.pixel_scales, radius=3.0\n",
        ")\n",
        "\n",
        "imaging = imaging.apply_mask(mask=mask)\n",
        "\n",
        "imaging_plotter = aplt.ImagingPlotter(\n",
        "    imaging=imaging, visuals_2d=aplt.Visuals2D(mask=mask)\n",
        ")\n",
        "imaging_plotter.subplot_imaging()"
      ],
      "outputs": [],
      "execution_count": null
    },
    {
      "cell_type": "markdown",
      "metadata": {},
      "source": [
        "__Paths__\n",
        "\n",
        "All four searches will use the same `path_prefix`, so we write it here to avoid repetition."
      ]
    },
    {
      "cell_type": "code",
      "metadata": {},
      "source": [
        "path_prefix = path.join(\"howtolens\", \"chapter_3\", \"tutorial_5_complex_source\")"
      ],
      "outputs": [],
      "execution_count": null
    },
    {
      "cell_type": "markdown",
      "metadata": {},
      "source": [
        "__Search Chaining Approach__\n",
        "\n",
        "The source is clearly complex, with more than 4 peaks of light. Through visual inspection of this image, we cannot state\n",
        "with confidence how many sources of light there truly is! The data also omits he lens galaxy's light. This keep the \n",
        "number of parameters down and therefore makes the searches faster, however we would not get such a luxury for a real \n",
        "galaxy.\n",
        "\n",
        "To fit this lens with a complex source model, our approach is simply to fit the the lens galaxy mass and source using\n",
        "one light profile in the first search, and then add an additional light profile to each search. The mass model and\n",
        "light profiles inferred in the previous search are then used to pass priors.\n",
        "\n",
        "__Model + Search + Analysis + Model-Fit (Search 1)__\n",
        "\n",
        " - The lens galaxy's total mass distribution is an `EllIsothermal` [5 parameters].\n",
        " \n",
        " - The source galaxy's light is a parametric `EllSersic` [7 parameters].\n",
        " \n",
        "The number of free parameters and therefore the dimensionality of non-linear parameter space is N=12."
      ]
    },
    {
      "cell_type": "code",
      "metadata": {},
      "source": [
        "model = af.Collection(\n",
        "    galaxies=af.Collection(\n",
        "        lens=af.Model(al.Galaxy, redshift=0.5, mass=al.mp.EllIsothermal),\n",
        "        source=af.Model(al.Galaxy, redshift=1.0, bulge_0=al.lp.EllSersic),\n",
        "    )\n",
        ")\n",
        "\n",
        "analysis = al.AnalysisImaging(dataset=imaging)\n",
        "\n",
        "search = af.DynestyStatic(\n",
        "    path_prefix=path_prefix,\n",
        "    name=\"search[1]__mass[sie]__source_x1[bulge]\",\n",
        "    n_live_points=40,\n",
        "    dlogz=5.0,\n",
        ")\n",
        "\n",
        "result_1 = search.fit(model=model, analysis=analysis)"
      ],
      "outputs": [],
      "execution_count": null
    },
    {
      "cell_type": "markdown",
      "metadata": {},
      "source": [
        "__Model + Search + Analysis + Model-Fit (Search 2)__\n",
        "\n",
        " - The lens galaxy's total mass distribution is an `EllIsothermal` [5 parameters: priors initialized from \n",
        " search 1].\n",
        "\n",
        " - The source galaxy's light is two parametric `EllSersic` [14 parameters: first Sersic initialized from \n",
        " search 1].\n",
        "\n",
        "The number of free parameters and therefore the dimensionality of non-linear parameter space is N=19."
      ]
    },
    {
      "cell_type": "code",
      "metadata": {},
      "source": [
        "model = af.Collection(\n",
        "    galaxies=af.Collection(\n",
        "        lens=af.Model(al.Galaxy, redshift=0.5, mass=result_1.model.galaxies.lens.mass),\n",
        "        source=af.Model(\n",
        "            al.Galaxy,\n",
        "            redshift=1.0,\n",
        "            bulge_0=result_1.model.galaxies.source.bulge_0,\n",
        "            bulge_1=al.lp.EllSersic,\n",
        "        ),\n",
        "    )\n",
        ")\n",
        "\n",
        "analysis = al.AnalysisImaging(dataset=imaging)\n",
        "\n",
        "search = af.DynestyStatic(\n",
        "    path_prefix=path_prefix,\n",
        "    name=\"search[2]_mass[sie]_source_x2[bulge]\",\n",
        "    n_live_points=40,\n",
        "    dlogz=5.0,\n",
        ")\n",
        "\n",
        "result_2 = search.fit(model=model, analysis=analysis)"
      ],
      "outputs": [],
      "execution_count": null
    },
    {
      "cell_type": "markdown",
      "metadata": {},
      "source": [
        "__Model + Search + Analysis + Model-Fit (Search 3)__\n",
        "\n",
        " - The lens galaxy's total mass distribution is an `EllIsothermal` [5 parameters: priors initialized from \n",
        " search 2].\n",
        "\n",
        " - The source galaxy's light is three parametric `EllSersic` [21 parameters: first two Sersic's initialized from \n",
        " search 2].\n",
        "\n",
        "The number of free parameters and therefore the dimensionality of non-linear parameter space is N=19."
      ]
    },
    {
      "cell_type": "code",
      "metadata": {},
      "source": [
        "model = af.Collection(\n",
        "    galaxies=af.Collection(\n",
        "        lens=af.Model(al.Galaxy, redshift=0.5, mass=result_2.model.galaxies.lens.mass),\n",
        "        source=af.Model(\n",
        "            al.Galaxy,\n",
        "            redshift=1.0,\n",
        "            bulge_0=result_2.model.galaxies.source.bulge_0,\n",
        "            bulge_1=result_2.model.galaxies.source.bulge_1,\n",
        "            bulge_2=al.lp.EllSersic,\n",
        "        ),\n",
        "    )\n",
        ")\n",
        "\n",
        "analysis = al.AnalysisImaging(dataset=imaging)\n",
        "\n",
        "search = af.DynestyStatic(\n",
        "    path_prefix=path_prefix,\n",
        "    name=\"search[3]_mass[sie]_source_x3[bulge]\",\n",
        "    n_live_points=50,\n",
        "    dlogz=5.0,\n",
        ")\n",
        "\n",
        "result_3 = search.fit(model=model, analysis=analysis)"
      ],
      "outputs": [],
      "execution_count": null
    },
    {
      "cell_type": "markdown",
      "metadata": {},
      "source": [
        "__Model + Search + Analysis + Model-Fit (Search 4)__\n",
        "\n",
        " - The lens galaxy's total mass distribution is an `EllIsothermal` [5 parameters: priors initialized from \n",
        " search 4].\n",
        "\n",
        " - The source galaxy's light is four parametric `EllSersic` [28 parameters: first three Sersic's initialized from \n",
        " search 2].\n",
        "\n",
        "The number of free parameters and therefore the dimensionality of non-linear parameter space is N=26."
      ]
    },
    {
      "cell_type": "code",
      "metadata": {},
      "source": [
        "model = af.Collection(\n",
        "    galaxies=af.Collection(\n",
        "        lens=af.Model(al.Galaxy, redshift=0.5, mass=result_3.model.galaxies.lens.mass),\n",
        "        source=af.Model(\n",
        "            al.Galaxy,\n",
        "            redshift=1.0,\n",
        "            bulge_0=result_3.model.galaxies.source.bulge_0,\n",
        "            bulge_1=result_3.model.galaxies.source.bulge_1,\n",
        "            bulge_2=result_3.model.galaxies.source.bulge_2,\n",
        "            bulge_3=al.lp.EllSersic,\n",
        "        ),\n",
        "    )\n",
        ")\n",
        "\n",
        "analysis = al.AnalysisImaging(dataset=imaging)\n",
        "\n",
        "search = af.DynestyStatic(\n",
        "    path_prefix=path_prefix,\n",
        "    name=\"search[4]_mass[sie]_source_x4[bulge]\",\n",
        "    n_live_points=50,\n",
        "    dlogz=0.3,\n",
        ")\n",
        "\n",
        "result_4 = search.fit(model=model, analysis=analysis)"
      ],
      "outputs": [],
      "execution_count": null
    },
    {
      "cell_type": "markdown",
      "metadata": {},
      "source": [
        "__Wrap Up__\n",
        "\n",
        "With four light profiles, we were still unable to produce a fit to the source that did not leave residuals. However, I \n",
        "actually simulated the lens using a source with four light profiles. A `perfect fit` was therefore somewhere in \n",
        "parameter space, but our search unfortunately was unable to locate this.\n",
        "\n",
        "Lets confirm this, by manually fitting the imaging data with the true input model.\n",
        "\n",
        "We cannot apply a mask to a dataset that was already masked, so we first reload the imaging from .fits."
      ]
    },
    {
      "cell_type": "code",
      "metadata": {},
      "source": [
        "imaging = imaging.apply_mask(\n",
        "    mask=al.Mask2D.circular(\n",
        "        shape_native=imaging.shape_native, pixel_scales=imaging.pixel_scales, radius=3.0\n",
        "    )\n",
        ")\n",
        "\n",
        "lens_galaxy = al.Galaxy(\n",
        "    redshift=0.5,\n",
        "    mass=al.mp.EllIsothermal(\n",
        "        centre=(0.0, 0.0), einstein_radius=1.6, elliptical_comps=(0.17647, 0.0)\n",
        "    ),\n",
        ")\n",
        "\n",
        "source_galaxy = al.Galaxy(\n",
        "    redshift=1.0,\n",
        "    light_0=al.lp.EllSersic(\n",
        "        centre=(0.1, 0.1),\n",
        "        elliptical_comps=al.convert.elliptical_comps_from(axis_ratio=0.8, angle=60.0),\n",
        "        intensity=0.1,\n",
        "        effective_radius=1.0,\n",
        "        sersic_index=2.5,\n",
        "    ),\n",
        "    light_1=al.lp.EllSersic(\n",
        "        centre=(0.8, 0.6),\n",
        "        elliptical_comps=al.convert.elliptical_comps_from(axis_ratio=0.5, angle=30.0),\n",
        "        intensity=0.2,\n",
        "        effective_radius=0.3,\n",
        "        sersic_index=3.0,\n",
        "    ),\n",
        "    light_2=al.lp.EllSersic(\n",
        "        centre=(-0.3, 0.6),\n",
        "        elliptical_comps=al.convert.elliptical_comps_from(axis_ratio=0.3, angle=120.0),\n",
        "        intensity=0.6,\n",
        "        effective_radius=0.5,\n",
        "        sersic_index=1.5,\n",
        "    ),\n",
        "    light_3=al.lp.EllSersic(\n",
        "        centre=(-0.3, -0.3),\n",
        "        elliptical_comps=al.convert.elliptical_comps_from(axis_ratio=0.9, angle=85.0),\n",
        "        intensity=0.4,\n",
        "        effective_radius=0.1,\n",
        "        sersic_index=2.0,\n",
        "    ),\n",
        ")\n",
        "\n",
        "tracer = al.Tracer.from_galaxies(galaxies=[lens_galaxy, source_galaxy])\n",
        "\n",
        "true_fit = al.FitImaging(imaging=imaging, tracer=tracer)\n",
        "\n",
        "fit_imaging_plotter = aplt.FitImagingPlotter(fit=true_fit)\n",
        "fit_imaging_plotter.subplot_fit_imaging()\n",
        "fit_imaging_plotter.subplot_of_planes(plane_index=1)"
      ],
      "outputs": [],
      "execution_count": null
    },
    {
      "cell_type": "markdown",
      "metadata": {},
      "source": [
        "And indeed, we see an improved residual-map, chi-squared-map, and so forth.\n",
        "\n",
        "If the source morphology is complex, there is no way we chain searches to fit it perfectly. The non-linear parameter \n",
        "space simply becomes too complex. For this tutorial, this was true even though our source model could actually fit \n",
        "the data perfectly. For  real lenses, the source may be *even more complex* giving us even less hope of getting a \n",
        "good fit.\n",
        "\n",
        "But fear not, **PyAutoLens** has you covered. In chapter 4, we'll introduce a completely new way to model the source \n",
        "galaxy, which addresses the problem faced here."
      ]
    },
    {
      "cell_type": "code",
      "metadata": {},
      "source": [],
      "outputs": [],
      "execution_count": null
    }
  ],
  "metadata": {
    "anaconda-cloud": {},
    "kernelspec": {
      "display_name": "Python 3",
      "language": "python",
      "name": "python3"
    },
    "language_info": {
      "codemirror_mode": {
        "name": "ipython",
        "version": 3
      },
      "file_extension": ".py",
      "mimetype": "text/x-python",
      "name": "python",
      "nbconvert_exporter": "python",
      "pygments_lexer": "ipython3",
      "version": "3.6.1"
    }
  },
  "nbformat": 4,
  "nbformat_minor": 4
}