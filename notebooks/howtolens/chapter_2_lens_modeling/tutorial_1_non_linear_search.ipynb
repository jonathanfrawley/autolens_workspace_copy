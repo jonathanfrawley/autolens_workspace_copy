{
  "cells": [
    {
      "cell_type": "markdown",
      "metadata": {},
      "source": [
        "Tutorial 1: Non-linear Search\n",
        "=============================\n",
        "\n",
        "__Lens Modeling__\n",
        "\n",
        "In chapter 1, we learned how to use **PyAutoLens** to do many things: create galaxies, ray-trace light, simulate and fit\n",
        "data. However, we did not learn how to answer the core questions that any scientist, when faced with observations of a\n",
        "strong lens, seeks to answer:\n",
        "\n",
        " What lens galaxy mass distribution(s) and source galaxy light distribution(s) are responsible for the strong lens\n",
        " data I have observed? How can I explain the true deflection of light in this data, that is actually occuring in the\n",
        " real Universe? What does this tell me about galaxy structure and Cosmology?\n",
        "\n",
        "To answer questions like this, and therefore use **PyAutoLens** to actually learn about the Universe, we need to\n",
        "perform 'lens modeling', the topic of this chapter of the **HowToLens** lectures.\n",
        "\n",
        "In this tutorial, we are going to load imaging data of strong lens and determine the light and mass profiles that best\n",
        "represent the observed lensed source's light. That is, we are going to find the 'lens model' that best fits the data,\n",
        "without any prior knowledge of what the `correct` model is.\n",
        "\n",
        "To begin, we have to choose the parametrization of our lens model. We don't need to specify the values of its light\n",
        "and mass profiles (e.g. the centre, intensity, einstein_radius, etc.), only the profiles themselves. In this example,\n",
        "we use the following lens model:\n",
        "\n",
        " 1) A Spherical Isothermal Sphere (SIS) mass profile via the `SphIsothermal` profile for the lens galaxy's mass.\n",
        " 2) A Spherical Exponential light profile via the SphExponential` for the source-galaxy's light.\n",
        "\n",
        "This is a very simple model, with very few parameters, so its a great starting point for us to learn how to perform\n",
        "lens modeling!\n",
        "\n",
        "__Non Linear Search__\n",
        "\n",
        "So, how do we infer the parameters of our light and mass profiles above that give a good fit to our data?\n",
        "\n",
        "Well, with the tools that we learned in chapter 1, we could try the following:\n",
        "\n",
        " 1) Randomly guess a lens model, corresponding to some random set of parameters.\n",
        " 2) Use this lens model to create a `Tracer` and fit the `Imaging` with it, via a `FitImaging` object.\n",
        " 3) Quantify the goodness of fit using the log likelihood.\n",
        " 4) Keep guessing lens models, repeating steps 1-3, until we eventually find a model that provides a good fit (i.e.\n",
        " a high value log likelihood)!\n",
        "\n",
        "It may sound surprising, but this is actually the basis of how lens modeling works. However, we can do a lot better\n",
        "than random guessing. Instead, we we can track the log likelihoods of all of our previous guesses, and guess more\n",
        "models using the combinations of light and mass profile parameters that gave high log likelihood solutions previously.\n",
        "\n",
        "The idea is that if a set of parameters provided a good fit to the data, another set of parameters with similar values\n",
        "probably will too. Furthermore, if by following this approach we are able to keep guessing models with higher and higher\n",
        "likelihoods, we should eventually 'climb' our way to the model with the highest likelihood overall!\n",
        "\n",
        "This approach to model-fitting is called a `non-linear search` and it is a common algorithm applied by scientists to\n",
        "many different problems. Over the next few tutorials, we are going to really get our heads around the concept of a\n",
        "non-linear search; intuition which will prove crucial for us to become a successful lens modeler.\n",
        "\n",
        "An animation of a non-linear search fitting a lens model is shown below. Note how the initial models that it fits give\n",
        "a poor fit to the data, but that they gradually improve as more iterations are performed as the search begins to only\n",
        "guess models that are near other, high likelihood, models.\n",
        "\n",
        "![Lens Modeling Animation](https://github.com/Jammy2211/auto_files/blob/main/lensmodel.gif?raw=true \"model\")\n",
        "\n",
        "**Credit: Amy Etherington**\n",
        "\n",
        "In this tutorial, and throughout this enture chapter, we are going to use the non-linear search\n",
        "called `dynesty` (https://github.com/joshspeagle/dynesty_. After many years of lens modeling, I have found this to be\n",
        "the most effective non-linear search there is for lens modeling, albeit alternatives are available in **PyAutoLens**\n",
        "and will be discussed later in this chapter.\n",
        "\n",
        "For now, lets not worry about the details of how dynesty actually works and simply keep in our minds the described of\n",
        "a non-linear search provided above."
      ]
    },
    {
      "cell_type": "code",
      "metadata": {},
      "source": [
        "%matplotlib inline\n",
        "from pyprojroot import here\n",
        "workspace_path = str(here())\n",
        "%cd $workspace_path\n",
        "print(f\"Working Directory has been set to `{workspace_path}`\")\n",
        "\n",
        "from os import path\n",
        "import autolens as al\n",
        "import autolens.plot as aplt"
      ],
      "outputs": [],
      "execution_count": null
    },
    {
      "cell_type": "markdown",
      "metadata": {},
      "source": [
        "__PyAutoFit__\n",
        "\n",
        "Lens modeling with **PyAutoLens** uses the probabilistic programming language\n",
        "[PyAutoFit](https://github.com/rhayes777/PyAutoFit), an open-source project that allows complex model\n",
        "fitting techniques to be straightforwardly integrated into scientific modeling software. \n",
        "\n",
        "**PyAutoFit** is actually a spin-off project of **PyAutoLens**. whereby we found that the statistic techniques and\n",
        "methods we applied to model strong lenses could be used in a more general setting to many different scientrific \n",
        "problems. Check it out if you are interested in developing your own software to perform advanced model-fitting!\n",
        "\n",
        "We import this library separately from **PyAutoLens**."
      ]
    },
    {
      "cell_type": "code",
      "metadata": {},
      "source": [
        "import autofit as af"
      ],
      "outputs": [],
      "execution_count": null
    },
    {
      "cell_type": "markdown",
      "metadata": {},
      "source": [
        "__Initial Setup__\n",
        "\n",
        "Lets first load the `Imaging` dataset we'll fit a lens model with using a non-linear search. \n",
        "\n",
        "If you are interested in how we simulate the strong lens data, checkout the scripts in the \n",
        "package `autolens_workspace/notebooks/imaging/simulators`.\n",
        "\n",
        "The strong lens in this image was generated using:\n",
        "\n",
        " - The lens galaxy's total mass distribution is a `SphIsothermal`.\n",
        " - The source galaxy's `LightProfile` is a `SphExponential`.\n",
        "\n",
        "Note how the model used to simulate the data is the same as the model we will fit in this tutorial.\n",
        "\n",
        "This dataset (and all datasets used in tutorials from here are on) are stored and loaded from the \n",
        "`autolens_workspace/dataset/imaging` folder."
      ]
    },
    {
      "cell_type": "code",
      "metadata": {},
      "source": [
        "dataset_name = \"mass_sis__source_sersic\"\n",
        "dataset_path = path.join(\"dataset\", \"imaging\", \"no_lens_light\", dataset_name)\n",
        "\n",
        "imaging = al.Imaging.from_fits(\n",
        "    image_path=path.join(dataset_path, \"image.fits\"),\n",
        "    noise_map_path=path.join(dataset_path, \"noise_map.fits\"),\n",
        "    psf_path=path.join(dataset_path, \"psf.fits\"),\n",
        "    pixel_scales=0.1,\n",
        ")"
      ],
      "outputs": [],
      "execution_count": null
    },
    {
      "cell_type": "markdown",
      "metadata": {},
      "source": [
        "__Masking__\n",
        "\n",
        "The non-linear fit also needs a `Mask2D`, lets use a 3.0\" circle."
      ]
    },
    {
      "cell_type": "code",
      "metadata": {},
      "source": [
        "mask = al.Mask2D.circular(\n",
        "    shape_native=imaging.shape_native, pixel_scales=imaging.pixel_scales, radius=3.0\n",
        ")\n",
        "\n",
        "imaging = imaging.apply_mask(mask=mask)\n",
        "\n",
        "imaging_plotter = aplt.ImagingPlotter(\n",
        "    imaging=imaging, visuals_2d=aplt.Visuals2D(mask=mask)\n",
        ")\n",
        "imaging_plotter.subplot_imaging()"
      ],
      "outputs": [],
      "execution_count": null
    },
    {
      "cell_type": "markdown",
      "metadata": {},
      "source": [
        "__Model__\n",
        "\n",
        "To compose a lens model, we set up a `Galaxy` as a `Model`. Whereas previously, we manually specified the value of \n",
        "every parameter of a `Galaxy`'s light and mass profiles, when the galaxy is a `Model` only the class of each profile is \n",
        "passed. By creating the galaxy as `Model` we are telling **PyAutoLens** that the parameter's of its profiles are\n",
        "to be fitted for via the non-linear search.\n",
        "\n",
        "Lets model the lens galaxy with an spherical isothermal mass profile (which is what it was simulated with)."
      ]
    },
    {
      "cell_type": "code",
      "metadata": {},
      "source": [
        "lens_galaxy_model = af.Model(al.Galaxy, redshift=0.5, mass=al.mp.SphIsothermal)"
      ],
      "outputs": [],
      "execution_count": null
    },
    {
      "cell_type": "markdown",
      "metadata": {},
      "source": [
        "Lets model the source galaxy with a spherical exponential light profile (again, what it was simulated with)."
      ]
    },
    {
      "cell_type": "code",
      "metadata": {},
      "source": [
        "source_galaxy_model = af.Model(al.Galaxy, redshift=1.0, bulge=al.lp.SphExponential)"
      ],
      "outputs": [],
      "execution_count": null
    },
    {
      "cell_type": "markdown",
      "metadata": {},
      "source": [
        "We now have multiple `Model` components, which we bring together into a final model via the `Collection` object.\n",
        "\n",
        "Just like we are used to giving profiles descriptive names, like `bulge`, `disk` and `mass` we also name the galaxies \n",
        "that make up our model. Of course, its good practise for us to give them descriptive names and we'll use `lens` and\n",
        "`source` to do this throughout the tutorials.\n",
        "\n",
        "[It may seem odd that we define two `Collections`, with the `Collection` in the outer loop only having a `galaxies`\n",
        "attribute. In future tutorials, we'll see that we can add additional model-components to a model other than just\n",
        "galaxies, and the API below therefore makes it simple to extend the model to include these components.]"
      ]
    },
    {
      "cell_type": "code",
      "metadata": {},
      "source": [
        "model = af.Collection(\n",
        "    galaxies=af.Collection(lens=lens_galaxy_model, source=source_galaxy_model)\n",
        ")"
      ],
      "outputs": [],
      "execution_count": null
    },
    {
      "cell_type": "markdown",
      "metadata": {},
      "source": [
        "__Search__\n",
        "\n",
        "We now create the non-linear search object which will fit the lens model, which as discussed above is the nested\n",
        "sampling algorithm dynesty. We pass the `DynestyStatic` object the following:\n",
        "   \n",
        " - A `path_prefix` which tells the search to output its results in the \n",
        " folder `autolens_workspace/output/howtolens/chapter_2`. \n",
        " \n",
        " - A `name`, which gives the search a name and means the full output path is \n",
        "   `autolens_workspace/output/howtolens/chapter_2/tutorial_1_non_linear_search`. \n",
        "\n",
        " - Input parameters like `nlive` and `walks` which control how it samples parameter space. These are discussed\n",
        " in more detail in a later tutorial."
      ]
    },
    {
      "cell_type": "code",
      "metadata": {},
      "source": [
        "search = af.DynestyStatic(\n",
        "    path_prefix=path.join(\"howtolens\", \"chapter_2\"),\n",
        "    name=\"tutorial_1_non_linear_search\",\n",
        "    unique_tag=dataset_name,\n",
        "    nlive=40,\n",
        "    walks=5,\n",
        ")"
      ],
      "outputs": [],
      "execution_count": null
    },
    {
      "cell_type": "markdown",
      "metadata": {},
      "source": [
        "__Analysis__\n",
        "\n",
        "The `AnalysisImaging` object defines how the non-linear search fits each lens model that it guesses (which consists of \n",
        "a set of parameters values for the light and mass profiles guessed by the search) to the `Imaging` dataset.\n",
        "\n",
        "The fit is performed using the analysis class's `log_likelihood_function`, which in model-fitting is a commonly used \n",
        "term to describe a function that given a model and data, fits the model to the data to return a value of log \n",
        "likelihood, which the non-linear search uses the evaluate the goodness-of-fit.\n",
        "\n",
        "This likelihood function is written in the **PyAutoLens** source code, but it essentially repeats the steps we discussed\n",
        "in tutorial 8 of chapter 1 of **HowToLens**, where we computed a value of `log_likelihood` via a `FitImaging` object."
      ]
    },
    {
      "cell_type": "code",
      "metadata": {},
      "source": [
        "analysis = al.AnalysisImaging(dataset=imaging)"
      ],
      "outputs": [],
      "execution_count": null
    },
    {
      "cell_type": "markdown",
      "metadata": {},
      "source": [
        "__Model-Fit__\n",
        "\n",
        "We can now begin the model-fit by passing the model and analysis object to the search, which performs a non-linear\n",
        "search to find which models fit the data with the highest likelihood.\n",
        "\n",
        "Model fits using a non-linear search can take a long time to run. Whilst the fit in this tutorial should take just a  \n",
        "few minutes, fitting more complex models can take upwards of hours! \n",
        "\n",
        "This is fine (lens modeling is simply a computationally expensive exercise), but it does make going through the \n",
        "tutorials problematic. This is especially true in Jupyter notebooks, as whilst the the non-linear search is running \n",
        "you won't be able to continue to the next notebook cell until the search has finished. \n",
        "\n",
        "For this reason, we recommend that you **do not** run each non-linear search in these tutorials via your Jupyter \n",
        "notebook, but instead run the corresponding Python script found in \n",
        "the `autolens_workspace/scripts/howtolens/chapter_2_lens_modeling` folder. \n",
        "\n",
        "This can be run either using the `python3` command on the command line, e.g.:\n",
        "\n",
        " `python3 scripts/howtolens/chapter_2_lens_modeling/tutoial_1_non_linear_search.py` \n",
        "\n",
        "Or via your IDE (if you are using one).\n",
        "\n",
        "A non-linear search outputs all results to your hard-disk, in the `output` folder. Thus once it has run and is finished \n",
        "you can run its corresponding Jupyter notebook cell and it immediately load the result.\n",
        "\n",
        "It is generally good practise to run lens modeling scripts outside of a notebook, given that the long run times make\n",
        "notebook use cumbersome. For everything else though (loading results, inspection, plotting, interpretation) you should\n",
        "use notebooks!"
      ]
    },
    {
      "cell_type": "code",
      "metadata": {},
      "source": [
        "print(\n",
        "    \"Dynesty has begun running - checkout the autolens_workspace/output/\"\n",
        "    \" folder for live output of the results, images and lens model.\"\n",
        "    \" This Jupyter notebook cell with progress once Dynesty has completed - this could take some time!\"\n",
        ")\n",
        "\n",
        "result = search.fit(model=model, analysis=analysis)\n",
        "\n",
        "print(\"Dynesty has finished run - you may now continue the notebook.\")"
      ],
      "outputs": [],
      "execution_count": null
    },
    {
      "cell_type": "markdown",
      "metadata": {},
      "source": [
        "__Output Folder__\n",
        "\n",
        "Now this is running you should checkout the `autolens_workspace/output` folder.\n",
        "\n",
        "This is where the results of the search are written to your hard-disk (in the `tutorial_1_non_linear_search` folder). \n",
        "When its completed, images, results and information about the fit appear in this folder, meaning that you don't need \n",
        "to keep running Python code to see the result.\n",
        "\n",
        "__Unique Identifier__\n",
        "\n",
        "In the output folder, you will note that results are in a folder which is a collection of random characters. This acts \n",
        "as a `unique_identifier` of the model-fit, where this identifier is generated based on the model, search and dataset \n",
        "that are used in the fit.\n",
        " \n",
        "An identical combination of model, search and dataset generates the same identifier, meaning that rerunning the\n",
        "script will use the existing results to resume the model-fit. In contrast, if you change the model, search or dataset,\n",
        "a new unique identifier will be generated, ensuring that the model-fit results are output into a separate folder. \n",
        "\n",
        "__On The Fly Outputs__\n",
        "\n",
        "Even when the search is running, information about the highest likelihood model inferred by the search so-far \n",
        "is output to this folder on-the-fly. If you navigate to the folder: \n",
        "\n",
        " `output/howtolens/chapter_1/tutorials_1_non_linear_search/unique_identifier` \n",
        " \n",
        "Even before the search has finished, you will see:\n",
        "\n",
        " 1) The `images` folder, where images of the highest likelihood lens model are output on-the-fly. This includes the\n",
        " `FitImaging` subplot we plotted in the previous chapter, which therefore gives a real sense of 'how good' the model\n",
        " fit is.\n",
        " \n",
        " 2) The `samples` folder, which contains a `.csv` table of every sample of the non-linear search as well as other \n",
        " information. \n",
        " \n",
        " 3) The `model.info` file, which lists the lens model, its parameters and their priors (discussed in the next tutorial).\n",
        " \n",
        " 4) The `model.results` file, which lists the highest likelihood lens model and the most probable lens model with \n",
        " errors (this outputs on-the-fly).\n",
        " \n",
        " 5) The `search.summary` file, which provides a summary of the non-linear search settings and statistics on how well\n",
        " it is performing.\n",
        "\n",
        "__Result__\n",
        "\n",
        "The `search.fit` method above returned a `result`, which contains lots of information about the lens model fit. We\n",
        "will cover this in detail in a later tutorial.\n",
        "\n",
        "One thing the result contains we'll use now is the `FitImaging` object that corresponds to the set of lens model\n",
        "parameters that gae the maximum log likelihood solution. We plot this object as per usual to inspect how good our\n",
        "fit was."
      ]
    },
    {
      "cell_type": "code",
      "metadata": {},
      "source": [
        "fit_imaging_plotter = aplt.FitImagingPlotter(fit=result.max_log_likelihood_fit)\n",
        "fit_imaging_plotter.subplot_fit_imaging()"
      ],
      "outputs": [],
      "execution_count": null
    },
    {
      "cell_type": "markdown",
      "metadata": {},
      "source": [
        "The fit looks good and we've therefore found a model close to the one I used to simulate the image with (you can \n",
        "confirm this yourself if you want, by comparing the inferred parameters to those found in the script\n",
        "`autolens_workspace/notebooks/imaging/simulators/no_lens_light/mass_sis__source_sersic.py`).\n",
        "\n",
        "__Wrap Up__\n",
        "\n",
        "And with that, we are done. You have successfully modeled your first strong lens with **PyAutoLens**! Before moving \n",
        "onto the next tutorial, I want you to think about the following:\n",
        "\n",
        " 1) a non-linear search is often said to search a `non-linear parameter-space`, why is the term parameter-space \n",
        " used?\n",
        "\n",
        " 2) Why is this parameter space 'non-linear'?\n",
        "\n",
        " 3) Initially, the non-linear search randomly guesses the values of the parameters. However, how does it know what \n",
        " a reasonable value for each parameter is? Why did it guess values of Einstein radius before 0.0 and 4.0, instead of\n",
        " between -10000000000000.0 and some other outlandish number? "
      ]
    },
    {
      "cell_type": "code",
      "metadata": {},
      "source": [],
      "outputs": [],
      "execution_count": null
    }
  ],
  "metadata": {
    "anaconda-cloud": {},
    "kernelspec": {
      "display_name": "Python 3",
      "language": "python",
      "name": "python3"
    },
    "language_info": {
      "codemirror_mode": {
        "name": "ipython",
        "version": 3
      },
      "file_extension": ".py",
      "mimetype": "text/x-python",
      "name": "python",
      "nbconvert_exporter": "python",
      "pygments_lexer": "ipython3",
      "version": "3.6.1"
    }
  },
  "nbformat": 4,
  "nbformat_minor": 4
}