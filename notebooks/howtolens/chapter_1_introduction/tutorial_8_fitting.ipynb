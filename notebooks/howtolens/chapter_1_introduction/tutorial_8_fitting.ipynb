{
  "cells": [
    {
      "cell_type": "markdown",
      "metadata": {},
      "source": [
        "Tutorial 8: Fitting\n",
        "===================\n",
        "\n",
        "In this example, we'll fit the `Imaging` data we simulated in the previous exercise. we'll do this using model images\n",
        "generated via a `Tracer`, and by comparing to the simulated image we'll get diagnostics about the quality of the fit."
      ]
    },
    {
      "cell_type": "code",
      "metadata": {},
      "source": [
        "#%matplotlib inline\n",
        "%matplotlib inline\n",
        "from pyprojroot import here\n",
        "workspace_path = str(here())\n",
        "%cd $workspace_path\n",
        "print(f\"Working Directory has been set to `{workspace_path}`\")\n",
        "\n",
        "from os import path\n",
        "import autolens as al\n",
        "import autolens.plot as aplt"
      ],
      "outputs": [],
      "execution_count": null
    },
    {
      "cell_type": "markdown",
      "metadata": {},
      "source": [
        "The `dataset_path` specifies where the data was output in the last tutorial, which is the directory \n",
        "`autolens_workspace/dataset/imaging/no_lens_light/howtolens/`."
      ]
    },
    {
      "cell_type": "code",
      "metadata": {},
      "source": [
        "dataset_path = path.join(\"dataset\", \"imaging\", \"no_lens_light\", \"howtolens\")\n",
        "\n",
        "imaging = al.Imaging.from_fits(\n",
        "    image_path=path.join(dataset_path, \"image.fits\"),\n",
        "    noise_map_path=path.join(dataset_path, \"noise_map.fits\"),\n",
        "    psf_path=path.join(dataset_path, \"psf.fits\"),\n",
        "    pixel_scales=0.1,\n",
        ")"
      ],
      "outputs": [],
      "execution_count": null
    },
    {
      "cell_type": "markdown",
      "metadata": {},
      "source": [
        "The `imaging` is an `Imaging` object, which is a package of all components of the dataset, in particular:\n",
        "\n",
        " 1) The image.\n",
        " 2) The Point Spread Function (PSF).\n",
        " 3) Its noise-map.\n",
        "    \n",
        "Which are all stored as `Array2D` objects."
      ]
    },
    {
      "cell_type": "code",
      "metadata": {},
      "source": [
        "print(\"Image:\")\n",
        "print(imaging.image)\n",
        "print(\"Noise-Map:\")\n",
        "print(imaging.noise_map)\n",
        "print(\"PSF:\")\n",
        "print(imaging.psf)"
      ],
      "outputs": [],
      "execution_count": null
    },
    {
      "cell_type": "markdown",
      "metadata": {},
      "source": [
        "To fit an image, we first specify a `Mask2D`, which describes the sections of the image that we fit.\n",
        "\n",
        "Typically, we want to mask regions of the image where the lens and source galaxies are not visible, for example at \n",
        "the edges where the signal is entirely background sky and noise.\n",
        "\n",
        "For the image we simulated, a 3\" circular `Mask2D` will do the job.\n",
        "\n",
        "A `Mask2D` also takes the `sub_size` parameter we are used to giving a grid. This does what it does for a `Grid2D` - \n",
        "defining the (masked) sub-grid used to calculate lensing quantities from a mask."
      ]
    },
    {
      "cell_type": "code",
      "metadata": {},
      "source": [
        "mask = al.Mask2D.circular(\n",
        "    shape_native=imaging.shape_native,\n",
        "    pixel_scales=imaging.pixel_scales,\n",
        "    sub_size=1,\n",
        "    radius=3.0,\n",
        ")\n",
        "\n",
        "print(mask)  # 1 = True, which means the pixel is masked. Edge pixels are indeed masked.\n",
        "print(mask[48:53, 48:53])  # Whereas central pixels are `False` and therefore unmasked."
      ],
      "outputs": [],
      "execution_count": null
    },
    {
      "cell_type": "markdown",
      "metadata": {},
      "source": [
        "We can use an `ImagingPlotter`.to compare the mask and the image - this is useful if we really want to `tailor` a \n",
        "mask to the lensed source's light (which in this example, we won't).\n",
        "\n",
        "However, the mask is not an attribute of the `Imaging` object. Thus, we cannot use `Include2D(mask=True)` to plot it, \n",
        "as the `Imaging` doesn't know what the mask is!\n",
        "\n",
        "To manually plot an object over the figure of another object, we can pass it to the `Visuals2D` object and then use\n",
        "this in the `ImagingPlotter`. Note that the `Visuals2D` object can be used to customize the appearance of *any* figure\n",
        "in PyAutoLens and is therefore a powerful means by which to create custom visuals!"
      ]
    },
    {
      "cell_type": "code",
      "metadata": {},
      "source": [
        "visuals_2d = aplt.Visuals2D(mask=mask)\n",
        "\n",
        "imaging_plotter = aplt.ImagingPlotter(imaging=imaging, visuals_2d=visuals_2d)\n",
        "imaging_plotter.figures(image=True)"
      ],
      "outputs": [],
      "execution_count": null
    },
    {
      "cell_type": "markdown",
      "metadata": {},
      "source": [
        "To fit the data we create a `MaskedImaging` object, which is a `package` of all parts of a data-set we need in order \n",
        "to fit it with a lens model:\n",
        "\n",
        " 1) The imaging-data, including the image, PSF (so that when we compare a tracer`s image to the image instrument we \n",
        " can include blurring due to the telescope optics) and noise-map (so our goodness-of-fit measure accounts for \n",
        " noise in the observations).\n",
        "\n",
        " 2) The mask, so that only the regions of the image with a signal are fitted.\n",
        "\n",
        " 3) A `Grid2D` aligned to the `Imaging` data's pixels, so the tracer`s image is generated on the same (masked) `Grid2D` \n",
        " as the image."
      ]
    },
    {
      "cell_type": "code",
      "metadata": {},
      "source": [
        "masked_imaging = al.MaskedImaging(imaging=imaging, mask=mask)"
      ],
      "outputs": [],
      "execution_count": null
    },
    {
      "cell_type": "markdown",
      "metadata": {},
      "source": [
        "Note that because the `Mask2D` is now an attribute of the `MaskedImaging` we can plot it using `Include2D`.\n",
        "\n",
        "Because it is an attribute, the `mask` now also automatically `zooms` our plot around the masked region only. This \n",
        "means that if our image is very large, we focus-in on the lens and source galaxies."
      ]
    },
    {
      "cell_type": "code",
      "metadata": {},
      "source": [
        "include_2d = aplt.Include2D(mask=True)\n",
        "\n",
        "imaging_plotter = aplt.ImagingPlotter(imaging=masked_imaging, include_2d=include_2d)\n",
        "imaging_plotter.figures(image=True)"
      ],
      "outputs": [],
      "execution_count": null
    },
    {
      "cell_type": "markdown",
      "metadata": {},
      "source": [
        "By printing its attributes, we can see that it does indeed contain the mask, masked image, masked noise-map, psf and so \n",
        "on."
      ]
    },
    {
      "cell_type": "code",
      "metadata": {},
      "source": [
        "print(\"Mask2D\")\n",
        "print(masked_imaging.mask)\n",
        "print()\n",
        "print(\"Masked Image:\")\n",
        "print(masked_imaging.image)\n",
        "print()\n",
        "print(\"Masked Noise-Map:\")\n",
        "print(masked_imaging.noise_map)\n",
        "print()\n",
        "print(\"PSF:\")\n",
        "print(masked_imaging.psf)\n",
        "print()"
      ],
      "outputs": [],
      "execution_count": null
    },
    {
      "cell_type": "markdown",
      "metadata": {},
      "source": [
        "The masked image and noise-map are again stored in 2D and 1D. \n",
        "\n",
        "However, the 1D array now corresponds only to the pixels that were not masked, whereas for the 2D array, all edge \n",
        "values are masked and are therefore zeros."
      ]
    },
    {
      "cell_type": "code",
      "metadata": {},
      "source": [
        "print(\"The 2D Masked Image and 1D Image of unmasked entries\")\n",
        "print(masked_imaging.image.shape_native)\n",
        "print(masked_imaging.image.shape_slim)\n",
        "print(masked_imaging.image.native)\n",
        "print(masked_imaging.image.slim)\n",
        "print()\n",
        "print(\"The 2D Masked Noise-Map and 1D Noise-Map of unmasked entries\")\n",
        "print(masked_imaging.noise_map.shape_native)\n",
        "print(masked_imaging.noise_map.shape_slim)\n",
        "print(masked_imaging.noise_map.native)\n",
        "print(masked_imaging.noise_map.slim)"
      ],
      "outputs": [],
      "execution_count": null
    },
    {
      "cell_type": "markdown",
      "metadata": {},
      "source": [
        "The masked data also has a `Grid2D`, where only coordinates which are not masked are included (the masked 2D values are \n",
        "set to [0.0. 0.0])."
      ]
    },
    {
      "cell_type": "code",
      "metadata": {},
      "source": [
        "print(\"Masked Grid2D\")\n",
        "print(masked_imaging.grid.native)\n",
        "print(masked_imaging.grid.slim)"
      ],
      "outputs": [],
      "execution_count": null
    },
    {
      "cell_type": "markdown",
      "metadata": {},
      "source": [
        "To fit an image, create an image using a `Tracer`. Lets use the same `Tracer` we simulated the `Imaging` instrument \n",
        "with (thus, our fit is `perfect`).\n",
        "\n",
        "Its worth noting that below, we use the `MaskedImaging`'s `Grid2D` to setup the `Tracer`. This ensures that our \n",
        "image-plane image is the same resolution and alignment as our lens data's masked image."
      ]
    },
    {
      "cell_type": "code",
      "metadata": {},
      "source": [
        "lens_galaxy = al.Galaxy(\n",
        "    redshift=0.5,\n",
        "    mass=al.mp.EllipticalIsothermal(\n",
        "        centre=(0.0, 0.0), einstein_radius=1.6, elliptical_comps=(0.17647, 0.0)\n",
        "    ),\n",
        ")\n",
        "\n",
        "source_galaxy = al.Galaxy(\n",
        "    redshift=1.0,\n",
        "    bulge=al.lp.EllipticalSersic(\n",
        "        centre=(0.1, 0.1),\n",
        "        elliptical_comps=(0.0, 0.111111),\n",
        "        intensity=1.0,\n",
        "        effective_radius=1.0,\n",
        "        sersic_index=2.5,\n",
        "    ),\n",
        ")\n",
        "\n",
        "\n",
        "tracer = al.Tracer.from_galaxies(galaxies=[lens_galaxy, source_galaxy])\n",
        "\n",
        "tracer_plotter = aplt.TracerPlotter(tracer=tracer, grid=masked_imaging.grid)\n",
        "tracer_plotter.figures(image=True)"
      ],
      "outputs": [],
      "execution_count": null
    },
    {
      "cell_type": "markdown",
      "metadata": {},
      "source": [
        "To fit the image, we pass the `MaskedImaging` and `Tracer` to a `FitImaging` object. This performs the following:\n",
        "\n",
        " 1) Blurs the tracer`s image with the lens data's PSF, ensuring the telescope optics are included in the fit. This \n",
        " creates the fit`s `model_image`.\n",
        "\n",
        " 2) Computes the difference between this model_image and the observed image-data, creating the fit`s `residual_map`.\n",
        "\n",
        " 3) Divides the residual-map by the noise-map, creating the fit`s `normalized_residual_map`.\n",
        "\n",
        " 4) Squares every value in the normalized residual-map, creating the fit`s `chi_squared_map`.\n",
        "\n",
        " 5) Sums up these chi-squared values and converts them to a `log_likelihood`, which quantifies how good the tracer`s \n",
        " fit to the data was (higher log_likelihood = better fit)."
      ]
    },
    {
      "cell_type": "code",
      "metadata": {},
      "source": [
        "fit = al.FitImaging(masked_imaging=masked_imaging, tracer=tracer)\n",
        "\n",
        "include_2d = aplt.Include2D(mask=True)\n",
        "\n",
        "fit_imaging_plotter = aplt.FitImagingPlotter(fit=fit, include_2d=include_2d)\n",
        "fit_imaging_plotter.subplot_fit_imaging()"
      ],
      "outputs": [],
      "execution_count": null
    },
    {
      "cell_type": "markdown",
      "metadata": {},
      "source": [
        "We can print the fit`s attributes. As usual, we can choose whether to return the fits in 2d or 1d, and in 2d if we \n",
        "don't specify where we'll get all zeros, as the edges were masked:"
      ]
    },
    {
      "cell_type": "code",
      "metadata": {},
      "source": [
        "print(\"Model-Image:\")\n",
        "print(fit.model_image.native)\n",
        "print(fit.model_image.slim)\n",
        "print()\n",
        "print(\"Residual Maps:\")\n",
        "print(fit.residual_map.native)\n",
        "print(fit.residual_map.slim)\n",
        "print()\n",
        "print(\"Chi-Squareds Maps:\")\n",
        "print(fit.chi_squared_map.native)\n",
        "print(fit.chi_squared_map.slim)"
      ],
      "outputs": [],
      "execution_count": null
    },
    {
      "cell_type": "markdown",
      "metadata": {},
      "source": [
        "Of course, the central unmasked pixels have non-zero values."
      ]
    },
    {
      "cell_type": "code",
      "metadata": {},
      "source": [
        "model_image = fit.model_image.native\n",
        "print(model_image[48:53, 48:53])\n",
        "print()\n",
        "\n",
        "residual_map = fit.residual_map.native\n",
        "print(\"Residuals Central Pixels:\")\n",
        "print(residual_map[48:53, 48:53])\n",
        "print()\n",
        "\n",
        "print(\"Chi-Squareds Central Pixels:\")\n",
        "chi_squared_map = fit.chi_squared_map.native\n",
        "print(chi_squared_map[48:53, 48:53])"
      ],
      "outputs": [],
      "execution_count": null
    },
    {
      "cell_type": "markdown",
      "metadata": {},
      "source": [
        "The fit also gives a log likelihood, which is a single-figure estimate of how good the model image fitted the simulated \n",
        "image (in unmasked pixels only!)."
      ]
    },
    {
      "cell_type": "code",
      "metadata": {},
      "source": [
        "print(\"Likelihood:\")\n",
        "print(fit.log_likelihood)"
      ],
      "outputs": [],
      "execution_count": null
    },
    {
      "cell_type": "markdown",
      "metadata": {},
      "source": [
        "We can customize the `MaskedImaging` we set up, using the `SettingsMaskedImaging` object. \n",
        "\n",
        "For example, we can: \n",
        "\n",
        " - Specify the `Grid2D` used by the `MaskedImaging` to fit the data, where we below increase it from its default \n",
        " value of 2 to 4."
      ]
    },
    {
      "cell_type": "code",
      "metadata": {},
      "source": [
        "settings_masked_imaging = al.SettingsMaskedImaging(grid_class=al.Grid2D, sub_size=4)\n",
        "\n",
        "masked_imaging_custom = al.MaskedImaging(\n",
        "    imaging=imaging, mask=mask, settings=settings_masked_imaging\n",
        ")"
      ],
      "outputs": [],
      "execution_count": null
    },
    {
      "cell_type": "markdown",
      "metadata": {},
      "source": [
        "The use of `Settings` objects is a core feature of the **PyAutoLens** API and will appear throughout the **HowToLens**\n",
        "chapters for setting up many different aspects of a **PyAutoLens** fit, so take note!\n",
        "\n",
        "We used the same `Tracer` to create and fit the image, giving an excellent fit. The residual-map and chi-squared-map, \n",
        "show no signs of the source-`Galaxy`'s light present, indicating a good fit. This solution will translate to one of the \n",
        "highest-log_likelihood solutions possible.\n",
        "\n",
        "Lets change the `Tracer`, so that it`s near the correct solution, but slightly off. Below, we slightly offset the lens \n",
        "galaxy, by 0.005\""
      ]
    },
    {
      "cell_type": "code",
      "metadata": {},
      "source": [
        "lens_galaxy = al.Galaxy(\n",
        "    redshift=0.5,\n",
        "    mass=al.mp.EllipticalIsothermal(\n",
        "        centre=(0.005, 0.005), einstein_radius=1.6, elliptical_comps=(0.17647, 0.0)\n",
        "    ),\n",
        ")\n",
        "\n",
        "source_galaxy = al.Galaxy(\n",
        "    redshift=1.0,\n",
        "    bulge=al.lp.EllipticalSersic(\n",
        "        centre=(0.1, 0.1),\n",
        "        elliptical_comps=(0.0, 0.111111),\n",
        "        intensity=1.0,\n",
        "        effective_radius=1.0,\n",
        "        sersic_index=2.5,\n",
        "    ),\n",
        ")\n",
        "\n",
        "\n",
        "tracer = al.Tracer.from_galaxies(galaxies=[lens_galaxy, source_galaxy])\n",
        "\n",
        "fit = al.FitImaging(masked_imaging=masked_imaging, tracer=tracer)\n",
        "\n",
        "fit_imaging_plotter = aplt.FitImagingPlotter(fit=fit, include_2d=include_2d)\n",
        "fit_imaging_plotter.subplot_fit_imaging()"
      ],
      "outputs": [],
      "execution_count": null
    },
    {
      "cell_type": "markdown",
      "metadata": {},
      "source": [
        "Residuals now appear at the locations of the source galaxy, increasing the chi-squared values (which determine \n",
        "our log_likelihood).\n",
        "\n",
        "Lets compare the log likelihood to the value we computed above (which was 4372.90):"
      ]
    },
    {
      "cell_type": "code",
      "metadata": {},
      "source": [
        "print(\"Previous Likelihood:\")\n",
        "print(2967.0488)\n",
        "print(\"New Likelihood:\")\n",
        "print(fit.log_likelihood)"
      ],
      "outputs": [],
      "execution_count": null
    },
    {
      "cell_type": "markdown",
      "metadata": {},
      "source": [
        "It decreases! As expected, this model is a worse fit to the data.\n",
        "\n",
        "Lets change the `Tracer`, one more time, to a solution nowhere near the correct one."
      ]
    },
    {
      "cell_type": "code",
      "metadata": {},
      "source": [
        "lens_galaxy = al.Galaxy(\n",
        "    redshift=0.5,\n",
        "    mass=al.mp.EllipticalIsothermal(\n",
        "        centre=(0.005, 0.005),\n",
        "        einstein_radius=1.5,\n",
        "        elliptical_comps=al.convert.elliptical_comps_from(axis_ratio=0.7, phi=45.0),\n",
        "    ),\n",
        ")\n",
        "\n",
        "source_galaxy = al.Galaxy(\n",
        "    redshift=1.0,\n",
        "    bulge=al.lp.EllipticalSersic(\n",
        "        centre=(0.2, 0.0),\n",
        "        elliptical_comps=al.convert.elliptical_comps_from(axis_ratio=0.8, phi=60.0),\n",
        "        intensity=0.5,\n",
        "        effective_radius=0.8,\n",
        "        sersic_index=2.5,\n",
        "    ),\n",
        ")\n",
        "\n",
        "tracer = al.Tracer.from_galaxies(galaxies=[lens_galaxy, source_galaxy])\n",
        "\n",
        "fit = al.FitImaging(masked_imaging=masked_imaging, tracer=tracer)\n",
        "\n",
        "fit_imaging_plotter = aplt.FitImagingPlotter(fit=fit, include_2d=include_2d)\n",
        "fit_imaging_plotter.subplot_fit_imaging()"
      ],
      "outputs": [],
      "execution_count": null
    },
    {
      "cell_type": "markdown",
      "metadata": {},
      "source": [
        "Clearly, the model provides a terrible fit and this `Tracer` is not a plausible representation of the `Imaging` dataset\n",
        "(of course, we already knew that, given that we simulated it!)\n",
        "\n",
        "The log likelihood drops dramatically, as expected."
      ]
    },
    {
      "cell_type": "code",
      "metadata": {},
      "source": [
        "print(\"Previous Likelihoods:\")\n",
        "print(2967.0488)\n",
        "print(2687.4724)\n",
        "print(\"New Likelihood:\")\n",
        "print(fit.log_likelihood)"
      ],
      "outputs": [],
      "execution_count": null
    },
    {
      "cell_type": "markdown",
      "metadata": {},
      "source": [
        "Congratulations, you`ve fitted your first strong lens with **PyAutoLens**! Perform the following exercises:\n",
        "\n",
        " 1) In this example, we `knew` the correct solution, because we simulated the lens ourselves. In the real Universe, \n",
        " we have no idea what the correct solution is. How would you go about finding the correct solution? Could you find a \n",
        " solution that fits the data reasonable through trial and error?"
      ]
    },
    {
      "cell_type": "code",
      "metadata": {},
      "source": [],
      "outputs": [],
      "execution_count": null
    }
  ],
  "metadata": {
    "anaconda-cloud": {},
    "kernelspec": {
      "display_name": "Python 3",
      "language": "python",
      "name": "python3"
    },
    "language_info": {
      "codemirror_mode": {
        "name": "ipython",
        "version": 3
      },
      "file_extension": ".py",
      "mimetype": "text/x-python",
      "name": "python",
      "nbconvert_exporter": "python",
      "pygments_lexer": "ipython3",
      "version": "3.6.1"
    }
  },
  "nbformat": 4,
  "nbformat_minor": 4
}