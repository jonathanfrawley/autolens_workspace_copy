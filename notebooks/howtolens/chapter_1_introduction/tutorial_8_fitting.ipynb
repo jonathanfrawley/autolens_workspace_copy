{
  "cells": [
    {
      "cell_type": "markdown",
      "metadata": {},
      "source": [
        "Tutorial 8: Fitting\n",
        "===================\n",
        "\n",
        "Up to now, we have used profiles, galaxies and tracers to create images of a strong lens. However, this is the opposite\n",
        "of what most Astronomers do: normally, an Astronomer has observed an image of a strong lens, and their goal is to\n",
        "determine the profiles that best represent the mass distribution of the lens galaxy and source light distribution of\n",
        "the source galaxy.\n",
        "\n",
        "To do this, we need to fit the data and determine which light and mass profiles best represent the image it contains.\n",
        "We'll demonstrate how to do this using the imaging data we simulated in the previous tutorial. By comparing the images\n",
        "that come out of a tracer with the data, we'll compute diagnostics that tell us how good or bad a combination of light\n",
        "and mass profiles represent the strong lens we observed."
      ]
    },
    {
      "cell_type": "code",
      "metadata": {},
      "source": [
        "%matplotlib inline\n",
        "from pyprojroot import here\n",
        "workspace_path = str(here())\n",
        "%cd $workspace_path\n",
        "print(f\"Working Directory has been set to `{workspace_path}`\")\n",
        "\n",
        "from os import path\n",
        "import autolens as al\n",
        "import autolens.plot as aplt"
      ],
      "outputs": [],
      "execution_count": null
    },
    {
      "cell_type": "markdown",
      "metadata": {},
      "source": [
        "__Initial Setup__\n",
        "\n",
        "The `dataset_path` specifies where the data was output in the last tutorial, which is the directory \n",
        "`autolens_workspace/dataset/imaging/no_lens_light/howtolens/`."
      ]
    },
    {
      "cell_type": "code",
      "metadata": {},
      "source": [
        "dataset_path = path.join(\"dataset\", \"imaging\", \"no_lens_light\", \"howtolens\")\n",
        "\n",
        "imaging = al.Imaging.from_fits(\n",
        "    image_path=path.join(dataset_path, \"image.fits\"),\n",
        "    noise_map_path=path.join(dataset_path, \"noise_map.fits\"),\n",
        "    psf_path=path.join(dataset_path, \"psf.fits\"),\n",
        "    pixel_scales=0.1,\n",
        ")"
      ],
      "outputs": [],
      "execution_count": null
    },
    {
      "cell_type": "markdown",
      "metadata": {},
      "source": [
        "__Imaging Dataset__\n",
        "\n",
        "The `Imaging` object packages all components of an imaging dataset, in particular:\n",
        "\n",
        " 1) The image.\n",
        " 2) Its noise-map.\n",
        " 3) The Point Spread Function (PSF).\n",
        "    \n",
        "The image and noise map are stored as an `Array2D` object, whereas the PSF is a `Kernel2D`, meaning it can be used to\n",
        "perform 2D convolution."
      ]
    },
    {
      "cell_type": "code",
      "metadata": {},
      "source": [
        "print(\"Image:\")\n",
        "print(type(imaging.image))\n",
        "print(\"Noise-Map:\")\n",
        "print(type(imaging.noise_map))\n",
        "print(\"PSF:\")\n",
        "print(type(imaging.psf))"
      ],
      "outputs": [],
      "execution_count": null
    },
    {
      "cell_type": "markdown",
      "metadata": {},
      "source": [
        "The `ImagingPlotter` can plot all of these attributes on a single subplot:"
      ]
    },
    {
      "cell_type": "code",
      "metadata": {},
      "source": [
        "imaging_plotter = aplt.ImagingPlotter(imaging=imaging)\n",
        "imaging_plotter.subplot_imaging()"
      ],
      "outputs": [],
      "execution_count": null
    },
    {
      "cell_type": "markdown",
      "metadata": {},
      "source": [
        "__Masking__\n",
        "\n",
        "To fit an image, we must first specify a `Mask2D`, which removes certain regions of the image such that they are not \n",
        "included in the fit. We therefore want to mask out the regions of the image where the lens and source galaxies are not \n",
        "visible, for example the edges.\n",
        "\n",
        "For the image we simulated a 3\" circular mask will do the job."
      ]
    },
    {
      "cell_type": "code",
      "metadata": {},
      "source": [
        "mask = al.Mask2D.circular(\n",
        "    shape_native=imaging.shape_native, pixel_scales=imaging.pixel_scales, radius=3.0\n",
        ")\n",
        "\n",
        "print(mask)  # 1 = True, which means the pixel is masked. Edge pixels are indeed masked.\n",
        "print(mask[48:53, 48:53])  # Whereas central pixels are `False` and therefore unmasked."
      ],
      "outputs": [],
      "execution_count": null
    },
    {
      "cell_type": "markdown",
      "metadata": {},
      "source": [
        "We can use an `ImagingPlotter` to compare the mask and the image, which is useful if we want to `tailor` a mask to \n",
        "the lensed source's light (in this example, we do not do this, but there are examples of how to do this throughout\n",
        "the `autolens_workspace`).\n",
        "\n",
        "However, the mask is not currently attribute of the imaging and we cannot use the code `Include2D(mask=True)` to plot \n",
        "it. The imaging doesn't know what the mask is!\n",
        "\n",
        "To manually plot an object over the figure of another object, we can use the `Visuals2D` object, which we used in a \n",
        "previous tutorial to plot certain pixels on an image and source plane. The `Visuals2D` object can be used to customize \n",
        "the appearance of *any* figure in **PyAutoLens** and is therefore a powerful means by which to create custom visuals!"
      ]
    },
    {
      "cell_type": "code",
      "metadata": {},
      "source": [
        "visuals_2d = aplt.Visuals2D(mask=mask)\n",
        "\n",
        "imaging_plotter = aplt.ImagingPlotter(imaging=imaging, visuals_2d=visuals_2d)\n",
        "imaging_plotter.figures_2d(image=True)"
      ],
      "outputs": [],
      "execution_count": null
    },
    {
      "cell_type": "markdown",
      "metadata": {},
      "source": [
        "Before we can fit the imaging data we need to apply the mask to it, which is done using the `apply_mask` method. \n",
        "\n",
        "In addition to removing the regions of the image we do not want to fit, this also creates a new grid in the imaging \n",
        "data that consists only of image-pixels that are not masked. This grid is used for performing ray-tracing calculations\n",
        "when we fit the data."
      ]
    },
    {
      "cell_type": "code",
      "metadata": {},
      "source": [
        "imaging = imaging.apply_mask(mask=mask)"
      ],
      "outputs": [],
      "execution_count": null
    },
    {
      "cell_type": "markdown",
      "metadata": {},
      "source": [
        "Now the mask is an attribute of the imaging data we can plot it using the `Include2D` object.\n",
        "\n",
        "Because it is an attribute, the `mask` now also automatically `zooms` our plot around the masked region only. This \n",
        "means that if our image is very large, we focus-in on the lens and source galaxies."
      ]
    },
    {
      "cell_type": "code",
      "metadata": {},
      "source": [
        "include_2d = aplt.Include2D(mask=True)\n",
        "\n",
        "imaging_plotter = aplt.ImagingPlotter(imaging=imaging, include_2d=include_2d)\n",
        "imaging_plotter.figures_2d(image=True)"
      ],
      "outputs": [],
      "execution_count": null
    },
    {
      "cell_type": "markdown",
      "metadata": {},
      "source": [
        "By printing its attributes, we can see that the imaging contains everything we need to fit: a mask, the masked image, \n",
        "masked noise-map and psf."
      ]
    },
    {
      "cell_type": "code",
      "metadata": {},
      "source": [
        "print(\"Mask2D\")\n",
        "print(imaging.mask)\n",
        "print()\n",
        "print(\"Masked Image:\")\n",
        "print(imaging.image)\n",
        "print()\n",
        "print(\"Masked Noise-Map:\")\n",
        "print(imaging.noise_map)\n",
        "print()\n",
        "print(\"PSF:\")\n",
        "print(imaging.psf)\n",
        "print()"
      ],
      "outputs": [],
      "execution_count": null
    },
    {
      "cell_type": "markdown",
      "metadata": {},
      "source": [
        "__Masked Data Structures__\n",
        "\n",
        "This image and noise-map again have `native` and `slim` representations. However, the `slim` representation now takes\n",
        "on a slightly different meaning, it only contains image-pixels that were not masked. This can be seen by printing\n",
        "the `shape_slim` attribute of the image, and comparing it to the `pixels_in_mask` of the mask."
      ]
    },
    {
      "cell_type": "code",
      "metadata": {},
      "source": [
        "print(\"The number of unmasked pixels\")\n",
        "print(imaging.image.shape_slim)\n",
        "print(imaging.noise_map.shape_slim)\n",
        "print(imaging.image.mask.pixels_in_mask)"
      ],
      "outputs": [],
      "execution_count": null
    },
    {
      "cell_type": "markdown",
      "metadata": {},
      "source": [
        "We can use the `slim` attribute to print certain values of the image:"
      ]
    },
    {
      "cell_type": "code",
      "metadata": {},
      "source": [
        "print(\"First unmasked image value:\")\n",
        "print(imaging.image.slim[0])\n",
        "print(\"First unmasked noise-map value:\")\n",
        "print(imaging.noise_map.slim[0])"
      ],
      "outputs": [],
      "execution_count": null
    },
    {
      "cell_type": "markdown",
      "metadata": {},
      "source": [
        "The `native` representation of the image `Array2D` retains the dimensions [total_y_image_pixels, total_x_image_pixels], \n",
        "however the exterior pixels have values of 0.0 indicating that they have been masked."
      ]
    },
    {
      "cell_type": "code",
      "metadata": {},
      "source": [
        "print(\"Example masked pixels in the image's native representation:\")\n",
        "print(imaging.image.shape_native)\n",
        "print(imaging.image.native[0, 0])\n",
        "print(imaging.image.native[2, 2])\n",
        "print(\"Example masked noise map values in its native representation:\")\n",
        "print(imaging.noise_map.native[0, 0])"
      ],
      "outputs": [],
      "execution_count": null
    },
    {
      "cell_type": "markdown",
      "metadata": {},
      "source": [
        "The masked imaging also has a `Grid2D`, where only coordinates which are not masked are included (the masked values \n",
        "in the native representation are set to [0.0. 0.0] to indicate they are masked)."
      ]
    },
    {
      "cell_type": "code",
      "metadata": {},
      "source": [
        "print(\"Masked imaging's grid\")\n",
        "print(imaging.grid.slim)\n",
        "print(imaging.grid.native)"
      ],
      "outputs": [],
      "execution_count": null
    },
    {
      "cell_type": "markdown",
      "metadata": {},
      "source": [
        "__Fitting__\n",
        "\n",
        "To fit an image, create an image using a tracer. Lets use the same tracer that we simulated the imaging with in the\n",
        "previous tutorial, which will give us a 'perfect' fit.\n",
        "\n",
        "Its worth noting that below, we use the masked imaging's grid to setup the tracer. This ensures that our image-plane \n",
        "image is the same resolution and alignment as our lens data's masked image and that the image is only created in\n",
        "unmasked pixels."
      ]
    },
    {
      "cell_type": "code",
      "metadata": {},
      "source": [
        "lens_galaxy = al.Galaxy(\n",
        "    redshift=0.5,\n",
        "    mass=al.mp.EllIsothermal(\n",
        "        centre=(0.0, 0.0), einstein_radius=1.6, elliptical_comps=(0.17647, 0.0)\n",
        "    ),\n",
        ")\n",
        "\n",
        "source_galaxy = al.Galaxy(\n",
        "    redshift=1.0,\n",
        "    bulge=al.lp.EllSersic(\n",
        "        centre=(0.1, 0.1),\n",
        "        elliptical_comps=(0.0, 0.111111),\n",
        "        intensity=1.0,\n",
        "        effective_radius=1.0,\n",
        "        sersic_index=2.5,\n",
        "    ),\n",
        ")\n",
        "\n",
        "\n",
        "tracer = al.Tracer.from_galaxies(galaxies=[lens_galaxy, source_galaxy])\n",
        "\n",
        "tracer_plotter = aplt.TracerPlotter(tracer=tracer, grid=imaging.grid)\n",
        "tracer_plotter.figures_2d(image=True)"
      ],
      "outputs": [],
      "execution_count": null
    },
    {
      "cell_type": "markdown",
      "metadata": {},
      "source": [
        "To fit the image, we pass the `Imaging` and `Tracer` to a `FitImaging` object. This performs the following:\n",
        "\n",
        " 1) Blurs the tracer`s image with the data's PSF, ensuring the telescope optics are included in the fit. This \n",
        " creates what is called the `model_image`.\n",
        "\n",
        " 2) Computes the difference between this model-image and the observed image, creating the fit`s `residual_map`.\n",
        "\n",
        " 3) Divides the residual-map by the noise-map, creating the fit`s `normalized_residual_map`.\n",
        "\n",
        " 4) Squares every value in the normalized residual-map, creating the fit's `chi_squared_map`.\n",
        "\n",
        " 5) Sums up these chi-squared values and converts them to a `log_likelihood`, which quantifies how good this tracer`s \n",
        " fit to the data was (higher log_likelihood = better fit)."
      ]
    },
    {
      "cell_type": "code",
      "metadata": {},
      "source": [
        "fit = al.FitImaging(imaging=imaging, tracer=tracer)\n",
        "\n",
        "include_2d = aplt.Include2D(mask=True)\n",
        "\n",
        "fit_imaging_plotter = aplt.FitImagingPlotter(fit=fit, include_2d=include_2d)\n",
        "fit_imaging_plotter.subplot_fit_imaging()"
      ],
      "outputs": [],
      "execution_count": null
    },
    {
      "cell_type": "markdown",
      "metadata": {},
      "source": [
        "We can print the fit`s attributes. As usual, we can choose whether to return the fits in slim or native format, with\n",
        "the native data's edge values all zeros, as the edges were masked:"
      ]
    },
    {
      "cell_type": "code",
      "metadata": {},
      "source": [
        "print(\"Model-Image:\")\n",
        "print(fit.model_image.slim)\n",
        "print(fit.model_image.native)\n",
        "print()\n",
        "print(\"Residual Maps:\")\n",
        "print(fit.residual_map.slim)\n",
        "print(fit.residual_map.native)\n",
        "print()\n",
        "print(\"Chi-Squareds Maps:\")\n",
        "print(fit.chi_squared_map.slim)\n",
        "print(fit.chi_squared_map.native)"
      ],
      "outputs": [],
      "execution_count": null
    },
    {
      "cell_type": "markdown",
      "metadata": {},
      "source": [
        "Of course, the central unmasked pixels have non-zero values."
      ]
    },
    {
      "cell_type": "code",
      "metadata": {},
      "source": [
        "model_image = fit.model_image.native\n",
        "print(model_image[48:53, 48:53])\n",
        "print()\n",
        "\n",
        "residual_map = fit.residual_map.native\n",
        "print(\"Residuals Central Pixels:\")\n",
        "print(residual_map[48:53, 48:53])\n",
        "print()\n",
        "\n",
        "print(\"Chi-Squareds Central Pixels:\")\n",
        "chi_squared_map = fit.chi_squared_map.native\n",
        "print(chi_squared_map[48:53, 48:53])"
      ],
      "outputs": [],
      "execution_count": null
    },
    {
      "cell_type": "markdown",
      "metadata": {},
      "source": [
        "The fit also gives a `log_likelihood`, which is a single-figure estimate of how good the model image fitted the \n",
        "imaging data (in unmasked pixels only!)."
      ]
    },
    {
      "cell_type": "code",
      "metadata": {},
      "source": [
        "print(\"Likelihood:\")\n",
        "print(fit.log_likelihood)"
      ],
      "outputs": [],
      "execution_count": null
    },
    {
      "cell_type": "markdown",
      "metadata": {},
      "source": [
        "__Fitting (incorrect fit)__\n",
        "\n",
        "We used the same tracer to create and fit the image, giving an excellent fit. The residual-map and chi-squared-map\n",
        "showed no signs of the source-galaxy's light being left over. This solution will translate to one of the highest \n",
        "log likelihood solutions possible.\n",
        "\n",
        "Lets change the tracer, so that it is near the correct solution, but slightly off. Below, we slightly offset the lens \n",
        "galaxy, by 0.005\""
      ]
    },
    {
      "cell_type": "code",
      "metadata": {},
      "source": [
        "lens_galaxy = al.Galaxy(\n",
        "    redshift=0.5,\n",
        "    mass=al.mp.EllIsothermal(\n",
        "        centre=(0.005, 0.005), einstein_radius=1.6, elliptical_comps=(0.17647, 0.0)\n",
        "    ),\n",
        ")\n",
        "\n",
        "source_galaxy = al.Galaxy(\n",
        "    redshift=1.0,\n",
        "    bulge=al.lp.EllSersic(\n",
        "        centre=(0.1, 0.1),\n",
        "        elliptical_comps=(0.0, 0.111111),\n",
        "        intensity=1.0,\n",
        "        effective_radius=1.0,\n",
        "        sersic_index=2.5,\n",
        "    ),\n",
        ")\n",
        "\n",
        "\n",
        "tracer = al.Tracer.from_galaxies(galaxies=[lens_galaxy, source_galaxy])\n",
        "\n",
        "fit = al.FitImaging(imaging=imaging, tracer=tracer)\n",
        "\n",
        "fit_imaging_plotter = aplt.FitImagingPlotter(fit=fit, include_2d=include_2d)\n",
        "fit_imaging_plotter.subplot_fit_imaging()"
      ],
      "outputs": [],
      "execution_count": null
    },
    {
      "cell_type": "markdown",
      "metadata": {},
      "source": [
        "Residuals now appear at the locations of the source galaxy, increasing the chi-squared values (which determine \n",
        "our log_likelihood).\n",
        "\n",
        "Lets compare the log likelihood to the value we computed above (which was 2967.0488):"
      ]
    },
    {
      "cell_type": "code",
      "metadata": {},
      "source": [
        "print(\"Previous Likelihood:\")\n",
        "print(2967.0488)\n",
        "print(\"New Likelihood:\")\n",
        "print(fit.log_likelihood)"
      ],
      "outputs": [],
      "execution_count": null
    },
    {
      "cell_type": "markdown",
      "metadata": {},
      "source": [
        "It decreases! As expected, this model is a worse fit to the data.\n",
        "\n",
        "Lets change the tracer, one more time, to a solution nowhere near the correct one."
      ]
    },
    {
      "cell_type": "code",
      "metadata": {},
      "source": [
        "lens_galaxy = al.Galaxy(\n",
        "    redshift=0.5,\n",
        "    mass=al.mp.EllIsothermal(\n",
        "        centre=(0.005, 0.005),\n",
        "        einstein_radius=1.5,\n",
        "        elliptical_comps=al.convert.elliptical_comps_from(axis_ratio=0.7, angle=45.0),\n",
        "    ),\n",
        ")\n",
        "\n",
        "source_galaxy = al.Galaxy(\n",
        "    redshift=1.0,\n",
        "    bulge=al.lp.EllSersic(\n",
        "        centre=(0.2, 0.0),\n",
        "        elliptical_comps=al.convert.elliptical_comps_from(axis_ratio=0.8, angle=60.0),\n",
        "        intensity=0.5,\n",
        "        effective_radius=0.8,\n",
        "        sersic_index=2.5,\n",
        "    ),\n",
        ")\n",
        "\n",
        "tracer = al.Tracer.from_galaxies(galaxies=[lens_galaxy, source_galaxy])\n",
        "\n",
        "fit = al.FitImaging(imaging=imaging, tracer=tracer)\n",
        "\n",
        "fit_imaging_plotter = aplt.FitImagingPlotter(fit=fit, include_2d=include_2d)\n",
        "fit_imaging_plotter.subplot_fit_imaging()"
      ],
      "outputs": [],
      "execution_count": null
    },
    {
      "cell_type": "markdown",
      "metadata": {},
      "source": [
        "Clearly, the model provides a terrible fit and this tracer is not a plausible representation of our strong lens dataset\n",
        "(of course, we already knew that, given that we simulated it!)\n",
        "\n",
        "The log likelihood drops dramatically, as expected."
      ]
    },
    {
      "cell_type": "code",
      "metadata": {},
      "source": [
        "print(\"Previous Likelihoods:\")\n",
        "print(2967.0488)\n",
        "print(2687.4724)\n",
        "print(\"New Likelihood:\")\n",
        "print(fit.log_likelihood)"
      ],
      "outputs": [],
      "execution_count": null
    },
    {
      "cell_type": "markdown",
      "metadata": {},
      "source": [
        "__Wrap Up__\n",
        "\n",
        "Congratulations, you`ve fitted your first strong lens with **PyAutoLens**! Perform the following exercises:\n",
        "\n",
        " 1) In this example, we `knew` the correct solution, because we simulated the lens ourselves. In the real Universe, \n",
        " we have no idea what the correct solution is. How would you go about finding the correct solution? Could you find a \n",
        " solution that fits the data reasonable through trial and error?"
      ]
    },
    {
      "cell_type": "code",
      "metadata": {},
      "source": [],
      "outputs": [],
      "execution_count": null
    }
  ],
  "metadata": {
    "anaconda-cloud": {},
    "kernelspec": {
      "display_name": "Python 3",
      "language": "python",
      "name": "python3"
    },
    "language_info": {
      "codemirror_mode": {
        "name": "ipython",
        "version": 3
      },
      "file_extension": ".py",
      "mimetype": "text/x-python",
      "name": "python",
      "nbconvert_exporter": "python",
      "pygments_lexer": "ipython3",
      "version": "3.6.1"
    }
  },
  "nbformat": 4,
  "nbformat_minor": 4
}