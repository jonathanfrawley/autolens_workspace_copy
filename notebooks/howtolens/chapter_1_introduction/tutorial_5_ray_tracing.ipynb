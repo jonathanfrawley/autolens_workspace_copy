{
  "cells": [
    {
      "cell_type": "markdown",
      "metadata": {},
      "source": [
        "Tutorial 5: Ray Tracing\n",
        "=======================\n",
        "\n",
        "In the last tutorial, our use of `Plane`'s was a bit clunky. We manually had to input `Grid2D`'s to trace them, and keep\n",
        "track of which `Grid2D`'s were the image-plane`s and which were the source planes. It was easy to make mistakes!\n",
        "\n",
        "Fortunately, in **PyAutoLens**, you won't actually spend much hands-on time with the `Plane` objects. Instead, you'll\n",
        "primarily use the `ray-tracing` module, which we'll cover in this example. Lets look at how easy it is to setup the\n",
        "same lens-plane + source-plane strong lens configuration as the previous tutorial, but with a lot less lines of code!"
      ]
    },
    {
      "cell_type": "code",
      "metadata": {},
      "source": [
        "#%matplotlib inline\n",
        "%matplotlib inline\n",
        "from pyprojroot import here\n",
        "workspace_path = str(here())\n",
        "%cd $workspace_path\n",
        "print(f\"Working Directory has been set to `{workspace_path}`\")\n",
        "\n",
        "import autolens as al\n",
        "import autolens.plot as aplt"
      ],
      "outputs": [],
      "execution_count": null
    },
    {
      "cell_type": "markdown",
      "metadata": {},
      "source": [
        "Let use the same `Grid2D` we've all grown to know and love by now!"
      ]
    },
    {
      "cell_type": "code",
      "metadata": {},
      "source": [
        "image_plane_grid = al.Grid2D.uniform(\n",
        "    shape_native=(100, 100), pixel_scales=0.05, sub_size=2\n",
        ")"
      ],
      "outputs": [],
      "execution_count": null
    },
    {
      "cell_type": "markdown",
      "metadata": {},
      "source": [
        "For our lens galaxy, we'll use the same SIS `MassProfile` as before."
      ]
    },
    {
      "cell_type": "code",
      "metadata": {},
      "source": [
        "sis_mass_profile = al.mp.SphericalIsothermal(centre=(0.0, 0.0), einstein_radius=1.6)\n",
        "\n",
        "lens_galaxy = al.Galaxy(redshift=0.5, mass=sis_mass_profile)\n",
        "\n",
        "print(lens_galaxy)"
      ],
      "outputs": [],
      "execution_count": null
    },
    {
      "cell_type": "markdown",
      "metadata": {},
      "source": [
        "And for our source galaxy, the same `SphericalSersic` `LightProfile`"
      ]
    },
    {
      "cell_type": "code",
      "metadata": {},
      "source": [
        "sersic_light_profile = al.lp.SphericalSersic(\n",
        "    centre=(0.0, 0.0), intensity=1.0, effective_radius=1.0, sersic_index=1.0\n",
        ")\n",
        "\n",
        "source_galaxy = al.Galaxy(redshift=1.0, light=sersic_light_profile)\n",
        "\n",
        "print(source_galaxy)"
      ],
      "outputs": [],
      "execution_count": null
    },
    {
      "cell_type": "markdown",
      "metadata": {},
      "source": [
        "Now, lets use the lens and source galaxies to ray-trace our `Grid2D`, using a `Tracer` from the ray-tracing module. \n",
        "When we pass our galaxies into the `Tracer` below, the following happens:\n",
        "\n",
        "1) The galaxies are ordered in ascending redshift.\n",
        "2) Planes are created at every one of these redshifts, with the galaxies at those redshifts associated with those planes."
      ]
    },
    {
      "cell_type": "code",
      "metadata": {},
      "source": [
        "tracer = al.Tracer.from_galaxies(galaxies=[lens_galaxy, source_galaxy])"
      ],
      "outputs": [],
      "execution_count": null
    },
    {
      "cell_type": "markdown",
      "metadata": {},
      "source": [
        "This `Tracer` is composed of a list of planes, in this case two `Plane`'s (the image and source plane)."
      ]
    },
    {
      "cell_type": "code",
      "metadata": {},
      "source": [
        "print(tracer.planes)"
      ],
      "outputs": [],
      "execution_count": null
    },
    {
      "cell_type": "markdown",
      "metadata": {},
      "source": [
        "We can access these using the `image_plane` and `source_plane` attributes."
      ]
    },
    {
      "cell_type": "code",
      "metadata": {},
      "source": [
        "print(\"Image Plane:\")\n",
        "print(tracer.planes[0])\n",
        "print(tracer.image_plane)\n",
        "print()\n",
        "print(\"Source Plane:\")\n",
        "print(tracer.planes[1])\n",
        "print(tracer.source_plane)"
      ],
      "outputs": [],
      "execution_count": null
    },
    {
      "cell_type": "markdown",
      "metadata": {},
      "source": [
        "The most convenient part of the `Tracer` is we can use it to create fully `ray-traced` images, without manually \n",
        "setting up the `Plane`'s to do this. The function below does the following\n",
        "\n",
        "1) Using the lens-total mass distribution, the deflection angle of every image-plane `Grid2D` coordinate is computed.\n",
        "2) These deflection angles are used to trace every image-plane coordinate to a source-plane coordinate.\n",
        "3) The light of each traced source-plane coordinate is evaluated using the source-plane `Galaxy`'s `LightProfile`."
      ]
    },
    {
      "cell_type": "code",
      "metadata": {},
      "source": [
        "traced_image = tracer.image_from_grid(grid=image_plane_grid)\n",
        "print(\"traced image pixel 1\")\n",
        "print(traced_image.native[0, 0])\n",
        "print(\"traced image pixel 2\")\n",
        "print(traced_image.native[0, 1])\n",
        "print(\"traced image pixel 3\")\n",
        "print(traced_image.native[0, 2])"
      ],
      "outputs": [],
      "execution_count": null
    },
    {
      "cell_type": "markdown",
      "metadata": {},
      "source": [
        "This image appears as the Einstein ring we saw in the previous tutorial."
      ]
    },
    {
      "cell_type": "code",
      "metadata": {},
      "source": [
        "tracer_plotter = aplt.TracerPlotter(tracer=tracer, grid=image_plane_grid)\n",
        "tracer_plotter.figures(image=True)"
      ],
      "outputs": [],
      "execution_count": null
    },
    {
      "cell_type": "markdown",
      "metadata": {},
      "source": [
        "We can also use the `Tracer` to compute the traced `Grid2D` of every plane, instead of getting the traced image itself:"
      ]
    },
    {
      "cell_type": "code",
      "metadata": {},
      "source": [
        "traced_grids = tracer.traced_grids_of_planes_from_grid(grid=image_plane_grid)"
      ],
      "outputs": [],
      "execution_count": null
    },
    {
      "cell_type": "markdown",
      "metadata": {},
      "source": [
        "And the source-plane`s `Grid2D` has been deflected."
      ]
    },
    {
      "cell_type": "code",
      "metadata": {},
      "source": [
        "print(\"grid source-plane coordinate 1\")\n",
        "print(traced_grids[1].native[0, 0])\n",
        "print(\"grid source-plane coordinate 2\")\n",
        "print(traced_grids[1].native[0, 1])\n",
        "print(\"grid source-plane coordinate 3\")\n",
        "print(traced_grids[1].native[0, 2])"
      ],
      "outputs": [],
      "execution_count": null
    },
    {
      "cell_type": "markdown",
      "metadata": {},
      "source": [
        "We can use the TracerPlotter to plot these planes and grids."
      ]
    },
    {
      "cell_type": "code",
      "metadata": {},
      "source": [
        "include_2d = aplt.Include2D(grid=True)\n",
        "\n",
        "tracer_plotter = aplt.TracerPlotter(\n",
        "    tracer=tracer, grid=image_plane_grid, include_2d=include_2d\n",
        ")\n",
        "tracer_plotter.figures_of_planes(plane_image=True, plane_grid=True, plane_index=0)\n",
        "tracer_plotter.figures_of_planes(plane_image=True, plane_grid=True, plane_index=1)"
      ],
      "outputs": [],
      "execution_count": null
    },
    {
      "cell_type": "markdown",
      "metadata": {},
      "source": [
        "**PyAutoLens** has tools for plotting a `Tracer`. A ray-tracing subplot plots the following:\n",
        "\n",
        "1) The image, computed by tracing the source-`Galaxy`'s light `forwards` through the `Tracer`.\n",
        "2) The source-plane image, showing the source-`Galaxy`'s true appearance (i.e. if it were not lensed).\n",
        "3) The image-plane convergence, computed using the lens galaxy's total mass distribution.\n",
        "4) The image-plane gravitational potential, computed using the lens galaxy's total mass distribution.\n",
        "5) The image-plane deflection angles, computed using the lens galaxy's total mass distribution."
      ]
    },
    {
      "cell_type": "code",
      "metadata": {},
      "source": [
        "tracer_plotter.subplot_tracer()"
      ],
      "outputs": [],
      "execution_count": null
    },
    {
      "cell_type": "markdown",
      "metadata": {},
      "source": [
        "Just like for a plane, these quantities attributes can be computed by passing a `Grid2D` (converted to 2D ndarrays\n",
        "the same dimensions as our input grid!)."
      ]
    },
    {
      "cell_type": "code",
      "metadata": {},
      "source": [
        "convergence = tracer.convergence_from_grid(grid=image_plane_grid)\n",
        "\n",
        "print(\"Tracer - Convergence - `Grid2D` coordinate 1:\")\n",
        "print(convergence.native[0, 0])\n",
        "print(\"Tracer - Convergence - `Grid2D` coordinate 2:\")\n",
        "print(convergence.native[0, 1])\n",
        "print(\"Tracer - Convergence - `Grid2D` coordinate 3:\")\n",
        "print(convergence.native[0, 2])\n",
        "print(\"Tracer - Convergence - `Grid2D` coordinate 101:\")\n",
        "print(convergence.native[1, 0])"
      ],
      "outputs": [],
      "execution_count": null
    },
    {
      "cell_type": "markdown",
      "metadata": {},
      "source": [
        "Of course, these convergences are identical to the image-plane convergences, as it`s only the lens galaxy that \n",
        "contributes to the overall mass of the ray-tracing system."
      ]
    },
    {
      "cell_type": "code",
      "metadata": {},
      "source": [
        "image_plane_convergence = tracer.image_plane.convergence_from_grid(\n",
        "    grid=image_plane_grid\n",
        ")\n",
        "\n",
        "print(\"Image-Plane - Convergence - `Grid2D` coordinate 1:\")\n",
        "print(image_plane_convergence.native[0, 0])\n",
        "print(\"Image-Plane - Convergence - `Grid2D` coordinate 2:\")\n",
        "print(image_plane_convergence.native[0, 1])\n",
        "print(\"Image-Plane - Convergence - `Grid2D` coordinate 3:\")\n",
        "print(image_plane_convergence.native[0, 2])\n",
        "print(\"Image-Plane - Convergence - `Grid2D` coordinate 101:\")\n",
        "print(image_plane_convergence.native[1, 0])"
      ],
      "outputs": [],
      "execution_count": null
    },
    {
      "cell_type": "markdown",
      "metadata": {},
      "source": [
        "I've left the rest below commented to avoid too many print statements, but if you're feeling adventurous go ahead \n",
        "and uncomment the lines below!"
      ]
    },
    {
      "cell_type": "code",
      "metadata": {},
      "source": [
        "# print(\"Potential:\")\n",
        "# print(tracer.potential_from_grid(grid=image_plane_grid))\n",
        "# print(tracer.image_plane.potential_from_grid(grid=image_plane_grid))\n",
        "# print(\"Deflections:\")\n",
        "# print(tracer.deflections_from_grid(grid=image_plane_grid))\n",
        "# print(tracer.deflections_from_grid(grid=image_plane_grid))\n",
        "# print(tracer.image_plane.deflections_from_grid(grid=image_plane_grid))\n",
        "# print(tracer.image_plane.deflections_from_grid(grid=image_plane_grid))"
      ],
      "outputs": [],
      "execution_count": null
    },
    {
      "cell_type": "markdown",
      "metadata": {},
      "source": [
        "You can also plot the above attributes on individual figures, using appropriate ray-tracing `Plotter` (I've left most \n",
        "commented out again for convenience)"
      ]
    },
    {
      "cell_type": "code",
      "metadata": {},
      "source": [
        "tracer_plotter = aplt.TracerPlotter(tracer=tracer, grid=image_plane_grid)\n",
        "tracer_plotter.figures(\n",
        "    image=True,\n",
        "    convergence=True,\n",
        "    potential=False,\n",
        "    deflections_y=False,\n",
        "    deflections_x=False,\n",
        ")"
      ],
      "outputs": [],
      "execution_count": null
    },
    {
      "cell_type": "markdown",
      "metadata": {},
      "source": [
        "In the previous tutorial, we plotted the critical curves on the convergence map of a `MassProfile`. We now introduce\n",
        "the 'caustic' which is a critical curve mapped to the source-plane. This is computed by calculating the the deflection \n",
        "angles of the `Tracer` at the critical curves and ray-tracing them to the source plane.\n",
        "\n",
        "As discussed in the previous tutorial, critical curves mark regions of infinite magnification. Thus, if a source\n",
        "appears near a caustic in the source plane it will appear significantly brighter than its true luminosity. \n",
        "\n",
        "We can plot both the critical curve and caustic using an `Include2D` object. Note how the critical curve appears\n",
        "only for the image-plane grid, whereas the caustic only appears in the source plane.\n",
        "\n",
        "NOTE: Again, numerical issues make the caustic appear 'jagged' when it should be smooth."
      ]
    },
    {
      "cell_type": "code",
      "metadata": {},
      "source": [
        "include_2d = aplt.Include2D(critical_curves=True, caustics=True)\n",
        "tracer_plotter = aplt.TracerPlotter(tracer=tracer, grid=image_plane_grid)\n",
        "\n",
        "tracer_plotter.figures_of_planes(plane_grid=True, plane_index=0)\n",
        "tracer_plotter.figures_of_planes(plane_grid=True, plane_index=1)"
      ],
      "outputs": [],
      "execution_count": null
    },
    {
      "cell_type": "markdown",
      "metadata": {},
      "source": [
        "We can also plot the caustic on the source-plane image."
      ]
    },
    {
      "cell_type": "code",
      "metadata": {},
      "source": [
        "tracer_plotter.figures_of_planes(plane_image=True, plane_index=1)"
      ],
      "outputs": [],
      "execution_count": null
    },
    {
      "cell_type": "markdown",
      "metadata": {},
      "source": [
        "Caustics also mark the regions in the source-plane where the multiplicity of the strong lens changes. That if,\n",
        "if a source crosses a caustic, it goes from 2 images to 1 image. Try and show this yourself by changing the (y,x) \n",
        "centre of the source-plane galaxy's light profile!"
      ]
    },
    {
      "cell_type": "code",
      "metadata": {},
      "source": [
        "sersic_light_profile = al.lp.SphericalSersic(\n",
        "    centre=(0.0, 0.0), intensity=1.0, effective_radius=1.0, sersic_index=1.0\n",
        ")\n",
        "source_galaxy = al.Galaxy(redshift=1.0, light=sersic_light_profile)\n",
        "tracer = al.Tracer.from_galaxies(galaxies=[lens_galaxy, source_galaxy])\n",
        "\n",
        "tracer_plotter = aplt.TracerPlotter(tracer=tracer, grid=image_plane_grid)\n",
        "tracer_plotter.figures_of_planes(plane_image=True, plane_index=1)"
      ],
      "outputs": [],
      "execution_count": null
    },
    {
      "cell_type": "markdown",
      "metadata": {},
      "source": [
        "Before we finish, you might be wondering why do both the image-plane and `Tracer` have the attributes convergence / \n",
        "potential / deflection angles, when the two are identical? \n",
        "\n",
        "Afterall, only `MassProfile`'s contribute to these quantities, and only the image-plane has galaxies with \n",
        "measureable  `MassProfile`'s! There are two reasons:\n",
        "\n",
        "__Convenience__:  You could always write `tracer.image_plane.convergence_from_grid(grid=grid)`. However, code \n",
        "appears neater if you can just write `tracer.convergence_from_grid(grid=grid)`.\n",
        "\n",
        "__Multi-plane Lensing__:\n",
        " \n",
        " For now, we're focused on the simplest lensing configuration possible, an image-plane + source-plane configuration. \n",
        " However, there are strong lens system where there are more than 2 planes! \n",
        "\n",
        " In these instances, the  convergence, potential and deflections of each plane is different to the overall values \n",
        " given by the `Tracer`.  This is beyond the scope of this chapter, but be reassured that what you're learning now \n",
        " will prepare you for the advanced chapters later on!\n",
        "\n",
        "And with that, we're done. You`ve performed your first ray-tracing with **PyAutoLens**! There are no exercises for this \n",
        "chapter, and we're going to take a deeper look at ray-tracing in the next chapter."
      ]
    },
    {
      "cell_type": "code",
      "metadata": {},
      "source": [],
      "outputs": [],
      "execution_count": null
    }
  ],
  "metadata": {
    "anaconda-cloud": {},
    "kernelspec": {
      "display_name": "Python 3",
      "language": "python",
      "name": "python3"
    },
    "language_info": {
      "codemirror_mode": {
        "name": "ipython",
        "version": 3
      },
      "file_extension": ".py",
      "mimetype": "text/x-python",
      "name": "python",
      "nbconvert_exporter": "python",
      "pygments_lexer": "ipython3",
      "version": "3.6.1"
    }
  },
  "nbformat": 4,
  "nbformat_minor": 4
}