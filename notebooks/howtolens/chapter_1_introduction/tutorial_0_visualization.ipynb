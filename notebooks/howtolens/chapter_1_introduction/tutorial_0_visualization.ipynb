{
  "cells": [
    {
      "cell_type": "markdown",
      "metadata": {},
      "source": [
        "Tutorial 0: Visualization\n",
        "=========================\n",
        "\n",
        "In this tutorial, we quickly cover visualization in **PyAutoLens** and make sure images display clealry in your\n",
        "Jupyter notebook and on your computer screen."
      ]
    },
    {
      "cell_type": "code",
      "metadata": {},
      "source": [
        "#%matplotlib inline\n",
        "\n",
        "from os import path\n",
        "import autolens as al\n",
        "import autolens.plot as aplt"
      ],
      "outputs": [],
      "execution_count": null
    },
    {
      "cell_type": "markdown",
      "metadata": {},
      "source": [
        "__Directories__\n",
        "\n",
        "**PyAutoLens assumes** the working directory is `autolens_workspace` on your hard-disk. This is so that it can:\n",
        " \n",
        " - Load configuration settings from config files in the `autolens_workspace/config` folder.\n",
        " - Load example data from the `autolens_workspace/dataset` folder.\n",
        " - Output the results of models fits to your hard-disk to the `autolens/output` folder. \n",
        "    \n",
        "At the top of every tutorial notebook, you'll see the following cell. This cell uses the project `pyprojroot` to\n",
        "locate the path to the workspace on your computer and use it to set the working directory of the notebook."
      ]
    },
    {
      "cell_type": "code",
      "metadata": {},
      "source": [
        "%matplotlib inline\n",
        "from pyprojroot import here\n",
        "workspace_path = str(here())\n",
        "%cd $workspace_path\n",
        "print(f\"Working Directory has been set to `{workspace_path}`\")"
      ],
      "outputs": [],
      "execution_count": null
    },
    {
      "cell_type": "markdown",
      "metadata": {},
      "source": [
        "If the printed working directory does not match the workspace path on your computer, you can manually set it\n",
        "as follows (the example below shows the path I would use on my laptop. The code is commented out so you do not\n",
        "use this path in this tutorial!"
      ]
    },
    {
      "cell_type": "code",
      "metadata": {},
      "source": [
        "workspace_path = \"/Users/Jammy/Code/PyAuto/autolens_workspace\"\n",
        "# #%cd $workspace_path\n",
        "print(f\"Working Directory has been set to `{workspace_path}`\")"
      ],
      "outputs": [],
      "execution_count": null
    },
    {
      "cell_type": "markdown",
      "metadata": {},
      "source": [
        "__Dataset__\n",
        "\n",
        "The `dataset_path` specifies where the dataset is located, which is the \n",
        "directory `autolens_workspace/dataset/imaging/no_lens_light/mass_sie__source_sersic`.\n",
        "\n",
        "There are many example simulated images of strong lenses in this directory that will be used throughout the \n",
        "**HowToLens** lectures."
      ]
    },
    {
      "cell_type": "code",
      "metadata": {},
      "source": [
        "dataset_path = path.join(\n",
        "    \"dataset\", \"imaging\", \"no_lens_light\", \"mass_sie__source_sersic\"\n",
        ")"
      ],
      "outputs": [],
      "execution_count": null
    },
    {
      "cell_type": "markdown",
      "metadata": {},
      "source": [
        "We now load this dataset from .fits files and create an instance of an `imaging` object."
      ]
    },
    {
      "cell_type": "code",
      "metadata": {},
      "source": [
        "imaging = al.Imaging.from_fits(\n",
        "    image_path=path.join(dataset_path, \"image.fits\"),\n",
        "    noise_map_path=path.join(dataset_path, \"noise_map.fits\"),\n",
        "    psf_path=path.join(dataset_path, \"psf.fits\"),\n",
        "    pixel_scales=0.1,\n",
        ")"
      ],
      "outputs": [],
      "execution_count": null
    },
    {
      "cell_type": "markdown",
      "metadata": {},
      "source": [
        "We can plot an image as follows:"
      ]
    },
    {
      "cell_type": "code",
      "metadata": {},
      "source": [
        "imaging_plotter = aplt.ImagingPlotter(imaging=imaging)\n",
        "imaging_plotter.figures_2d(image=True)"
      ],
      "outputs": [],
      "execution_count": null
    },
    {
      "cell_type": "markdown",
      "metadata": {},
      "source": [
        "__Plot Customization__\n",
        "\n",
        "Does the figure display correctly on your computer screen? \n",
        "\n",
        "If not, you can customize a number of matplotlib setup options using a `MatPlot2D` object in **PyAutoLens**, which \n",
        "wraps the `matplotlib` methods used to display the image.\n",
        "\n",
        "(For example, the `Figure` class wraps the `matplotlib` method `plt.figure(), whereas the `Yticks` class wraps\n",
        "`plt.yticks`)."
      ]
    },
    {
      "cell_type": "code",
      "metadata": {},
      "source": [
        "mat_plot_2d = aplt.MatPlot2D(\n",
        "    figure=aplt.Figure(figsize=(7, 7)),\n",
        "    yticks=aplt.YTicks(fontsize=8),\n",
        "    xticks=aplt.XTicks(fontsize=8),\n",
        "    title=aplt.Title(fontsize=12),\n",
        "    ylabel=aplt.YLabel(fontsize=6),\n",
        "    xlabel=aplt.XLabel(fontsize=6),\n",
        ")\n",
        "\n",
        "imaging_plotter = aplt.ImagingPlotter(imaging=imaging, mat_plot_2d=mat_plot_2d)\n",
        "imaging_plotter.figures_2d(image=True)"
      ],
      "outputs": [],
      "execution_count": null
    },
    {
      "cell_type": "markdown",
      "metadata": {},
      "source": [
        "Many matplotlib options can be customized, but for now we're only concerned with making sure figures display clear in \n",
        "your Jupyter Notebooks. Nevertheless, a comprehensive API reference guide of all `matplotlib` wrappers and methods can \n",
        "be found in the `autolens_workspace/plot` package. You should check this out once you are more familiar with \n",
        "**PyAutoLens**.\n",
        "\n",
        "Ideally, we would not specify a new `MatPlot2D` object every time we plot an image, especially as you would be \n",
        "changing the same option to the same values every time (e.g. the figsize) to make the figure display correctly over \n",
        "and over again. Fortunately, the default values used by **PyAutoLens** can be fully customized via the config files.\n",
        "\n",
        "Checkout the following files in `autolens_workspace/config/visualize/mat_wrap`:\n",
        "\n",
        "All default matplotlib values used by **PyAutoLens** are here. There are a lot of files, so lets only focus on whats \n",
        "important for displaying figures correctly:\n",
        "\n",
        " - Figure.ini -> [figure] -> figsize\n",
        " - YLabel.ini -> [figure] -> fontsize\n",
        " - XLabel.ini -> [figure] -> fontsize\n",
        " - TickParams.ini -> [figure] -> labelsize\n",
        " - YTicks.ini -> [figure] -> labelsize\n",
        " - XTicks.ini -> [figure] -> labelsize\n",
        "\n",
        "Don't worry about all the other files or options listed for now, as they`ll make a lot more sense once you are familiar \n",
        "with **PyAutoLens**.\n",
        "\n",
        "If you had to change any of the above settings to get the figures to display clearly, you should update their values\n",
        "in the corresponding config files above (you will need to reset your Jupyter notebook server for these changes to \n",
        "take effect, so make sure you have the right values using the `mat_plot_2d` object in the cell above beforehand!).\n",
        "\n",
        "__Subplots__\n",
        "\n",
        "In addition to plotting individual `figures`, **PyAutoLens** can also plot `subplots` which are again customized via\n",
        "the `mat_plot` objects.\n",
        "\n",
        "Lets plot a subplot of our `Imaging` data:"
      ]
    },
    {
      "cell_type": "code",
      "metadata": {},
      "source": [
        "imaging_plotter = aplt.ImagingPlotter(imaging=imaging)\n",
        "imaging_plotter.subplot_imaging()"
      ],
      "outputs": [],
      "execution_count": null
    },
    {
      "cell_type": "markdown",
      "metadata": {},
      "source": [
        "Again, we can customize this using a `MatPlot2D`."
      ]
    },
    {
      "cell_type": "code",
      "metadata": {},
      "source": [
        "mat_plot_2d = aplt.MatPlot2D(\n",
        "    figure=aplt.Figure(figsize=(7, 7)),\n",
        "    yticks=aplt.YTicks(fontsize=8),\n",
        "    xticks=aplt.XTicks(fontsize=8),\n",
        "    title=aplt.Title(fontsize=12),\n",
        "    ylabel=aplt.YLabel(fontsize=6),\n",
        "    xlabel=aplt.XLabel(fontsize=6),\n",
        ")\n",
        "\n",
        "imaging_plotter = aplt.ImagingPlotter(imaging=imaging, mat_plot_2d=mat_plot_2d)\n",
        "imaging_plotter.subplot_imaging()"
      ],
      "outputs": [],
      "execution_count": null
    },
    {
      "cell_type": "markdown",
      "metadata": {},
      "source": [
        "Again, you can customize the default appearance of subplots by editing the config files above, but now editing the\n",
        "corresponding entries under the [subplot] headers.\n",
        "\n",
        "We can also customize what is included in a plot. for example whether the origin of the coordinate system appears on \n",
        "the image:"
      ]
    },
    {
      "cell_type": "code",
      "metadata": {},
      "source": [
        "include_2d = aplt.Include2D(origin=True)\n",
        "imaging_plotter = aplt.ImagingPlotter(\n",
        "    imaging=imaging, mat_plot_2d=mat_plot_2d, include_2d=include_2d\n",
        ")\n",
        "imaging_plotter.figures_2d(image=True)\n",
        "\n",
        "include_2d = aplt.Include2D(origin=False)\n",
        "imaging_plotter = aplt.ImagingPlotter(\n",
        "    imaging=imaging, mat_plot_2d=mat_plot_2d, include_2d=include_2d\n",
        ")\n",
        "imaging_plotter.figures_2d(image=True)"
      ],
      "outputs": [],
      "execution_count": null
    },
    {
      "cell_type": "markdown",
      "metadata": {},
      "source": [
        "__Wrap Up__\n",
        "\n",
        "Throughout the **HowToLens** lectures you'll see lots more objects that can be included on figures and subplots.\n",
        "\n",
        "Just like the matplotlib setup, you can customize what does and does not appear on figures by default using the \n",
        "config file `autolens_workspace/config/visualize/include.ini`\n",
        "\n",
        "Great! Hopefully, visualization in **PyAutoLens** is displaying nicely for us to get on with the **HowToLens** \n",
        "lecture series."
      ]
    },
    {
      "cell_type": "code",
      "metadata": {},
      "source": [],
      "outputs": [],
      "execution_count": null
    }
  ],
  "metadata": {
    "anaconda-cloud": {},
    "kernelspec": {
      "display_name": "Python 3",
      "language": "python",
      "name": "python3"
    },
    "language_info": {
      "codemirror_mode": {
        "name": "ipython",
        "version": 3
      },
      "file_extension": ".py",
      "mimetype": "text/x-python",
      "name": "python",
      "nbconvert_exporter": "python",
      "pygments_lexer": "ipython3",
      "version": "3.6.1"
    }
  },
  "nbformat": 4,
  "nbformat_minor": 4
}