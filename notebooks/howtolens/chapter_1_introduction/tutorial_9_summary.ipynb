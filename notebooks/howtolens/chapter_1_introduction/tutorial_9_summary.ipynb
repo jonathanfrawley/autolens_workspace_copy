{
  "cells": [
    {
      "cell_type": "markdown",
      "metadata": {},
      "source": [
        "Tutorial 9: Summary\n",
        "===================\n",
        "\n",
        "In this chapter, we have learnt that:\n",
        "\n",
        " 1) **PyAutoLens** uses Cartesian `Grid2D`'s of $(y,x)$ coordinates to perform ray-tracing.\n",
        " 2) These grids are combined with light and mass profiles to compute images, deflection angles and other quantities.\n",
        " 3) Profiles are grouped together to make galaxies.\n",
        " 4) Collections of galaxies (at the same redshift) form a plane.\n",
        " 5) A `Tracer` can make an image-plane + source-plane strong lens system.\n",
        " 6) The Universe's cosmology can be input into this `Tracer` to convert its units to kiloparsecs.\n",
        " 7) The tracer's mage can be used to simulate strong lens `Imaging` like it was observed with a real telescope.\n",
        " 8) This data can be fitted, so to as quantify how well a model strong lens system represents the observed image.\n",
        "\n",
        "In this summary, we'll go over all the different Python objects introduced throughout this chapter and consider how\n",
        "they come together as one."
      ]
    },
    {
      "cell_type": "code",
      "metadata": {},
      "source": [
        "%matplotlib inline\n",
        "from pyprojroot import here\n",
        "workspace_path = str(here())\n",
        "%cd $workspace_path\n",
        "print(f\"Working Directory has been set to `{workspace_path}`\")\n",
        "\n",
        "from os import path\n",
        "import autolens as al\n",
        "import autolens.plot as aplt"
      ],
      "outputs": [],
      "execution_count": null
    },
    {
      "cell_type": "markdown",
      "metadata": {},
      "source": [
        "__Initial Setup__\n",
        "\n",
        "The `dataset_path` specifies where we load the dataset from, which is the directory \n",
        "`autolens_workspace/dataset/imaging/no_lens_light/howtolens/`."
      ]
    },
    {
      "cell_type": "code",
      "metadata": {},
      "source": [
        "dataset_path = path.join(\"dataset\", \"imaging\", \"no_lens_light\", \"howtolens\")"
      ],
      "outputs": [],
      "execution_count": null
    },
    {
      "cell_type": "markdown",
      "metadata": {},
      "source": [
        "Below, we do all the steps we have learned this chapter, making profiles, galaxies, a tracer, fitting dat, etc. \n",
        "\n",
        "Note that in this tutorial, we omit the lens galaxy's light and include two light profiles in the source representing a\n",
        "`bulge` and `disk`."
      ]
    },
    {
      "cell_type": "code",
      "metadata": {},
      "source": [
        "imaging = al.Imaging.from_fits(\n",
        "    image_path=path.join(dataset_path, \"image.fits\"),\n",
        "    noise_map_path=path.join(dataset_path, \"noise_map.fits\"),\n",
        "    psf_path=path.join(dataset_path, \"psf.fits\"),\n",
        "    pixel_scales=0.1,\n",
        ")\n",
        "\n",
        "mask = al.Mask2D.circular(\n",
        "    shape_native=imaging.shape_native, pixel_scales=imaging.pixel_scales, radius=3.0\n",
        ")\n",
        "\n",
        "imaging = imaging.apply_mask(mask=mask)\n",
        "\n",
        "lens_galaxy = al.Galaxy(\n",
        "    redshift=0.5,\n",
        "    mass=al.mp.EllIsothermal(\n",
        "        centre=(0.0, 0.0), einstein_radius=1.6, elliptical_comps=(0.17647, 0.0)\n",
        "    ),\n",
        ")\n",
        "\n",
        "source_galaxy = al.Galaxy(\n",
        "    redshift=1.0,\n",
        "    bulge=al.lp.EllSersic(\n",
        "        centre=(0.1, 0.1),\n",
        "        elliptical_comps=(0.0, 0.111111),\n",
        "        intensity=1.0,\n",
        "        effective_radius=1.0,\n",
        "        sersic_index=4.0,\n",
        "    ),\n",
        "    disk=al.lp.EllSersic(\n",
        "        centre=(0.1, 0.1),\n",
        "        elliptical_comps=(0.0, 0.111111),\n",
        "        intensity=1.0,\n",
        "        effective_radius=1.0,\n",
        "        sersic_index=1.0,\n",
        "    ),\n",
        ")\n",
        "\n",
        "tracer = al.Tracer.from_galaxies(galaxies=[lens_galaxy, source_galaxy])\n",
        "\n",
        "fit = al.FitImaging(imaging=imaging, tracer=tracer)"
      ],
      "outputs": [],
      "execution_count": null
    },
    {
      "cell_type": "markdown",
      "metadata": {},
      "source": [
        "__Object Composition__\n",
        "\n",
        "Lets now consider how all of the objects we've covered throughout this chapter (`LightProfile`'s, `MassProfile`'s,\n",
        "`Galaxy`'s, `Plane`'s, `Tracer`'s) come together in a `FitImaging` object.\n",
        "\n",
        "The fit contains the `Tracer`, which contains the `Planes`, which contains the `Galaxy`'s which contains \n",
        "the `Profile`'s:"
      ]
    },
    {
      "cell_type": "code",
      "metadata": {},
      "source": [
        "print(fit)\n",
        "print()\n",
        "print(fit.tracer)\n",
        "print()\n",
        "print(fit.tracer.image_plane)\n",
        "print()\n",
        "print(fit.tracer.source_plane)\n",
        "print()\n",
        "print(fit.tracer.image_plane.galaxies[0])\n",
        "print()\n",
        "print(fit.tracer.source_plane.galaxies[0])\n",
        "print()\n",
        "print(fit.tracer.image_plane.galaxies[0].mass)\n",
        "print()\n",
        "print(fit.tracer.source_plane.galaxies[0].bulge)\n",
        "print()\n",
        "print(fit.tracer.source_plane.galaxies[0].disk)\n",
        "print()"
      ],
      "outputs": [],
      "execution_count": null
    },
    {
      "cell_type": "markdown",
      "metadata": {},
      "source": [
        "Once we have a `FitImaging` object, we can therefore use any of the `Plotter` objects throughout this chapter to plot\n",
        "any specific aspect of the fit, whether it be a profile, galaxy, plane or tracer. For example, if we want to plot the \n",
        "image of the source galaxy's bulge and disk, we can do this in a variety of different ways."
      ]
    },
    {
      "cell_type": "code",
      "metadata": {},
      "source": [
        "tracer_plotter = aplt.TracerPlotter(tracer=fit.tracer, grid=imaging.grid)\n",
        "tracer_plotter.figures_2d(image=True)\n",
        "\n",
        "source_plane_grid = tracer.traced_grids_of_planes_from_grid(grid=imaging.grid)[1]\n",
        "plane_plotter = aplt.PlanePlotter(plane=tracer.source_plane, grid=source_plane_grid)\n",
        "plane_plotter.figures_2d(image=True)\n",
        "\n",
        "galaxy_plotter = aplt.GalaxyPlotter(\n",
        "    galaxy=fit.tracer.source_plane.galaxies[0], grid=source_plane_grid\n",
        ")\n",
        "galaxy_plotter.figures_2d(image=True)"
      ],
      "outputs": [],
      "execution_count": null
    },
    {
      "cell_type": "markdown",
      "metadata": {},
      "source": [
        "Understanding how these objects decompose into the different components of a strong lens is important for general \n",
        "**PyAutoLens** use.\n",
        "\n",
        "As the strong lens systems that we analyse become more complex, it is useful to know how to decompose their light \n",
        "profiles, mass profiles, galaxies and planes to extract different pieces of information about the strong lens. For \n",
        "example, we made our source-galaxy above with two light profiles, a `bulge` and `disk`. We can plot the lensed image of \n",
        "each component individually, now that we know how to break-up the different components of the fit and tracer."
      ]
    },
    {
      "cell_type": "code",
      "metadata": {},
      "source": [
        "light_profile_plotter = aplt.LightProfilePlotter(\n",
        "    light_profile=fit.tracer.source_plane.galaxies[0].bulge, grid=source_plane_grid\n",
        ")\n",
        "light_profile_plotter.set_title(\"Bulge Image\")\n",
        "light_profile_plotter.figures_2d(image=True)\n",
        "\n",
        "light_profile_plotter = aplt.LightProfilePlotter(\n",
        "    light_profile=fit.tracer.source_plane.galaxies[0].disk, grid=source_plane_grid\n",
        ")\n",
        "light_profile_plotter.set_title(\"Disk Image\")\n",
        "light_profile_plotter.figures_2d(image=True)"
      ],
      "outputs": [],
      "execution_count": null
    },
    {
      "cell_type": "markdown",
      "metadata": {},
      "source": [
        "__Visualization__\n",
        "\n",
        "Furthermore, using the `MatPLot2D`, `Visuals2D` and `Include2D` objects visualize any aspect of a fit we're interested \n",
        "in and fully customize the figure. \n",
        "\n",
        "Before beginning chapter 2 of **HowToLens**, you should checkout the package `autolens_workspace/plot`. This provides a \n",
        "full API reference of every plotting option in **PyAutoLens**, allowing you to create your own fully customized \n",
        "figures of strong lenses with minimal effort!"
      ]
    },
    {
      "cell_type": "code",
      "metadata": {},
      "source": [
        "mat_plot_2d = aplt.MatPlot2D(\n",
        "    title=aplt.Title(label=\"This is the title\", color=\"r\", fontsize=20),\n",
        "    ylabel=aplt.YLabel(label=\"Label of Y\", color=\"b\", fontsize=5, position=(0.2, 0.5)),\n",
        "    xlabel=aplt.XLabel(label=\"Label of X\", color=\"g\", fontsize=10),\n",
        "    cmap=aplt.Cmap(cmap=\"cool\", norm=\"linear\"),\n",
        ")\n",
        "\n",
        "include_2d = aplt.Include2D(\n",
        "    origin=True, mask=True, border=True, light_profile_centres=True\n",
        ")\n",
        "\n",
        "visuals_2d = aplt.Visuals2D(\n",
        "    critical_curves=tracer.critical_curves_from_grid(grid=fit.grid)\n",
        ")\n",
        "\n",
        "light_profile_plotter = aplt.LightProfilePlotter(\n",
        "    light_profile=fit.tracer.source_plane.galaxies[0].bulge,\n",
        "    grid=source_plane_grid,\n",
        "    mat_plot_2d=mat_plot_2d,\n",
        "    include_2d=include_2d,\n",
        "    visuals_2d=visuals_2d,\n",
        ")\n",
        "light_profile_plotter.set_title(\"Bulge Image\")\n",
        "light_profile_plotter.figures_2d(image=True)"
      ],
      "outputs": [],
      "execution_count": null
    },
    {
      "cell_type": "markdown",
      "metadata": {},
      "source": [
        "And, we're done, not just with the tutorial, but the chapter!\n",
        "\n",
        "__Code Design__\n",
        "\n",
        "To end, I want to quickly talk about the **PyAutoLens** code-design and structure, which was really the main topic of\n",
        "this tutorial.\n",
        "\n",
        "Throughout this chapter, we never talk about anything like it was code. We didn`t refer to  'variables', 'parameters`' \n",
        "'functions' or 'dictionaries', did we? Instead, we talked about 'galaxies', 'planes' a 'Tracer', etc. We discussed \n",
        "the objects that we, as scientists, think about when we consider a strong lens system.\n",
        "\n",
        "Software that abstracts the underlying code in this way follows an `object-oriented design`, and it is our hope \n",
        "with **PyAutoLens** that we've made its interface (often called the API for short) very intuitive, whether you were\n",
        "previous familiar with gravitational lensing or a complete newcomer!\n",
        "\n",
        "__Source Code__\n",
        "\n",
        "If you do enjoy code, variables, functions, and parameters, you may want to dig deeper into the **PyAutoLens** source \n",
        "code at some point in the future. Firstly, you should note that all of the code we discuss throughout the **HowToLens** \n",
        "lectures is not contained in just one project (e.g. the **PyAutoLens** GitHub repository) but in fact four repositories:\n",
        "\n",
        "**PyAutoFit** - Everything required for lens modeling (the topic of chapter 2): https://github.com/rhayes777/PyAutoFit\n",
        "\n",
        "**PyAutoArray** - Handles all data structures and Astronomy dataset objects: https://github.com/Jammy2211/PyAutoArray\n",
        "\n",
        "**PyAutoGalaxy** - Contains the light profiles, mass profiles and galaxies: https://github.com/Jammy2211/PyAutoGalaxy\n",
        "\n",
        "**PyAutoLens** - Everything strong lensing: https://github.com/Jammy2211/PyAutoLens\n",
        "\n",
        "Instructions on how to build these projects from source are provided here:\n",
        "\n",
        "https://pyautolens.readthedocs.io/en/latest/installation/source.html\n",
        "\n",
        "We take a lot of pride in our source code, so I can promise you its well written, well documented and thoroughly \n",
        "tested (check out the `test` directory if you're curious how to test code well!).\n",
        "\n",
        "__Wrap Up__\n",
        "\n",
        "You`ve learn a lot in this chapter, but what you have not learnt is how to 'model' a real strong gravitational lens.\n",
        "\n",
        "In the real world, we have no idea what the 'correct' combination of light profiles, mass profiles and galaxies are \n",
        "that will give a good fit to a lens. Lens modeling is the process of finding the lens model which provides a good fit \n",
        "and it is the topic of chapter 2 of **HowToLens**.\n",
        "\n",
        "Finally, if you enjoyed doing the **HowToLens** tutorials please git us a star on the **PyAutoLens** GitHub\n",
        "repository: \n",
        "\n",
        " https://github.com/Jammy2211/PyAutoLens\n",
        "\n",
        "Even the smallest bit of exposure via a GitHub star can help our project grow and counts when it comes to winning\n",
        "funding for future **PyAutoLens** development!"
      ]
    },
    {
      "cell_type": "code",
      "metadata": {},
      "source": [],
      "outputs": [],
      "execution_count": null
    }
  ],
  "metadata": {
    "anaconda-cloud": {},
    "kernelspec": {
      "display_name": "Python 3",
      "language": "python",
      "name": "python3"
    },
    "language_info": {
      "codemirror_mode": {
        "name": "ipython",
        "version": 3
      },
      "file_extension": ".py",
      "mimetype": "text/x-python",
      "name": "python",
      "nbconvert_exporter": "python",
      "pygments_lexer": "ipython3",
      "version": "3.6.1"
    }
  },
  "nbformat": 4,
  "nbformat_minor": 4
}