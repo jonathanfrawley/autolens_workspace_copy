{
  "cells": [
    {
      "cell_type": "markdown",
      "metadata": {},
      "source": [
        "Tutorial 1: Grids\n",
        "=================\n",
        "\n",
        "In this example, we'll create `Grid2D`'s of Cartesian $(y,x)$ coordinates, representing the arc-second coordinate `Grid2D`\n",
        "of an observed data-set (e.g. imaging)."
      ]
    },
    {
      "cell_type": "code",
      "metadata": {},
      "source": [
        "#%matplotlib inline\n",
        "%matplotlib inline\n",
        "from pyprojroot import here\n",
        "workspace_path = str(here())\n",
        "%cd $workspace_path\n",
        "print(f\"Working Directory has been set to `{workspace_path}`\")\n",
        "\n",
        "import autolens as al\n",
        "import autolens.plot as aplt"
      ],
      "outputs": [],
      "execution_count": null
    },
    {
      "cell_type": "markdown",
      "metadata": {},
      "source": [
        "In **PyAutoLens**, a `Grid2D` is a set of two-dimensional $(y,x)$ coordinates (in arc-seconds) that are deflected and \n",
        "traced by a strong lensing system.\n",
        "\n",
        "The $(y,x)$ coordinates on the `Grid2D` are aligned with the image we analyze, such that each coordinate maps to the \n",
        "centre  of each image-pixel. Lets make a `Grid2D` using 100 x 100 pixels, with a pixel scale (arcsecond-to-pixel \n",
        "conversion factor) of 0.05\", giving us a 5\" x 5\" grid."
      ]
    },
    {
      "cell_type": "code",
      "metadata": {},
      "source": [
        "grid = al.Grid2D.uniform(shape_native=(100, 100), pixel_scales=0.05)"
      ],
      "outputs": [],
      "execution_count": null
    },
    {
      "cell_type": "markdown",
      "metadata": {},
      "source": [
        "First, lets plot this `Grid2D`, which shows that it is a fairly boring uniform `Grid2D` of dots."
      ]
    },
    {
      "cell_type": "code",
      "metadata": {},
      "source": [
        "mat_plot_2d = aplt.MatPlot2D(\n",
        "    title=aplt.Title(label=\"Fairly Boring Uniform Grid2D Of Dots\")\n",
        ")\n",
        "\n",
        "grid_plotter = aplt.Grid2DPlotter(grid=grid, mat_plot_2d=mat_plot_2d)\n",
        "grid_plotter.figure()"
      ],
      "outputs": [],
      "execution_count": null
    },
    {
      "cell_type": "markdown",
      "metadata": {},
      "source": [
        "We can print each coordinate of this `Grid2D`, revealing that it consists of a set of arc-second coordinates (where the \n",
        "spacing between each coordinate corresponds to the `pixel_scales` of 0.05\" defined above)."
      ]
    },
    {
      "cell_type": "code",
      "metadata": {},
      "source": [
        "print(\"(y,x) pixel 0:\")\n",
        "print(grid.native[0, 0])\n",
        "print(\"(y,x) pixel 1:\")\n",
        "print(grid.native[0, 1])\n",
        "print(\"(y,x) pixel 2:\")\n",
        "print(grid.native[0, 2])\n",
        "print(\"(y,x) pixel 100:\")\n",
        "print(grid.native[1, 0])\n",
        "print(\"etc.\")"
      ],
      "outputs": [],
      "execution_count": null
    },
    {
      "cell_type": "markdown",
      "metadata": {},
      "source": [
        "The `Grid2D``s is accessible as ndarrays of two different shapes:\n",
        " \n",
        " - native: an ndarray of shape [total_y_image_pixel, total_x_image_pixels, 2] which is therefore the 'native' shape and \n",
        " resolution of the data we analyse.\n",
        " \n",
        " - slim: an ndarray of shape [total_y_image_pixels*total_x_image_pixels, 2] which is therefore a slimmed-down \n",
        " representation the grid."
      ]
    },
    {
      "cell_type": "code",
      "metadata": {},
      "source": [
        "print(\"(y,x) pixel 0 (accessed via native):\")\n",
        "print(grid.native[0, 0])\n",
        "print(\"(y,x) pixel 0 (accessed via slim 1D):\")\n",
        "print(grid.slim[0])"
      ],
      "outputs": [],
      "execution_count": null
    },
    {
      "cell_type": "markdown",
      "metadata": {},
      "source": [
        "The details of why there are `native` and `slim`  structures available will become apparent throughout \n",
        "the **HowToLens** tutorials. For now, don't worry about it! \n",
        "\n",
        "The shapes of the `Grid2D` in its `native` and `slim` formats are also available, confirming that this grid has a \n",
        "`native` resolution of (100 x 100) and a `slim` resolution of 10000 coordinates."
      ]
    },
    {
      "cell_type": "code",
      "metadata": {},
      "source": [
        "print(grid.shape_native)\n",
        "print(grid.shape_slim)"
      ],
      "outputs": [],
      "execution_count": null
    },
    {
      "cell_type": "markdown",
      "metadata": {},
      "source": [
        "Note that neither of the shapes above include the third index of the `Grid` which has dimensions 2 (corresponding to \n",
        "the y and x coordinates). This is accessible by using the standard numpy `shape` method on each grid."
      ]
    },
    {
      "cell_type": "code",
      "metadata": {},
      "source": [
        "print(grid.native.shape)\n",
        "print(grid.slim.shape)"
      ],
      "outputs": [],
      "execution_count": null
    },
    {
      "cell_type": "markdown",
      "metadata": {},
      "source": [
        "We can print the entire `Grid2D` in its `slim` or `native` form. "
      ]
    },
    {
      "cell_type": "code",
      "metadata": {},
      "source": [
        "print(grid.native)\n",
        "print(grid.slim)"
      ],
      "outputs": [],
      "execution_count": null
    },
    {
      "cell_type": "markdown",
      "metadata": {},
      "source": [
        "A `Grid2D` can also have a sub-grid, which splits each pixel on the `Grid2D` into sub-pixels of \n",
        "size (sub_size x sub_size). These additional pixels are used to perform calculations more accurately."
      ]
    },
    {
      "cell_type": "code",
      "metadata": {},
      "source": [
        "grid = al.Grid2D.uniform(shape_native=(100, 100), pixel_scales=0.05, sub_size=2)"
      ],
      "outputs": [],
      "execution_count": null
    },
    {
      "cell_type": "markdown",
      "metadata": {},
      "source": [
        "We specified a sub_size of 2 above, therefore we expect 4 (2 x 2) times more sub-pixels than pixels. We can see this \n",
        "is the case by inspecting the `Grid2D` sub_shape attributes."
      ]
    },
    {
      "cell_type": "code",
      "metadata": {},
      "source": [
        "print(grid.sub_shape_slim)\n",
        "print(grid.sub_shape_native)"
      ],
      "outputs": [],
      "execution_count": null
    },
    {
      "cell_type": "markdown",
      "metadata": {},
      "source": [
        "The first four pixels of our sub-grid correspond to the first four sub-pixels, which form a sub-grid inside the\n",
        "first `Grid2D` pixel, as follows:\n",
        "\n",
        "pixel 1\n",
        "\n",
        "                 ______\n",
        "              \n",
        "              I         I\n",
        "              \n",
        "              I         I  o = $(y,x)$ centre of\n",
        "              \n",
        " y = 2.475\"   I    o    I       Grid2D coordinate.\n",
        " \n",
        "              I         I\n",
        "              \n",
        "              I_________I\n",
        "              \n",
        "              x = -2.475\n",
        "\n",
        "\n",
        "Sub-pixels 1, 2, 3 & 4\n",
        "\n",
        "                 ______\n",
        "               \n",
        "              I         I\n",
        "              \n",
        "              I  o   o  I  o = $(y,x)$ centre of sub\n",
        "              \n",
        " y = 2.475\"   I         I       Grid2D coordinates.\n",
        " \n",
        "              I  o   o  I\n",
        "              \n",
        "              I_________I\n",
        "              \n",
        "              x = -2.475\n",
        "\n",
        "The sub-pixels coordinate are spaced uniformly between the pixel`s edges\n",
        "(which are at y = (2.45\", 2.5\") and x = (-2.5\". -2.45\") )\n",
        "\n",
        "By default, a `Grid2D` is stored in 1D, and we can access its elements without specifying `slim`"
      ]
    },
    {
      "cell_type": "code",
      "metadata": {},
      "source": [
        "print(\"(y,x) sub-pixel 0 (of pixel 0):\")\n",
        "print(grid[0])\n",
        "print(\"(y,x) sub-pixel 1 (of pixel 0):\")\n",
        "print(grid[1])\n",
        "print(\"(y,x) sub-pixel 2 (of pixel 0):\")\n",
        "print(grid[2])\n",
        "print(\"(y,x) sub-pixel 3 (of pixel 0):\")\n",
        "print(grid[3])"
      ],
      "outputs": [],
      "execution_count": null
    },
    {
      "cell_type": "markdown",
      "metadata": {},
      "source": [
        "The sub-grid then continues on to the next `Grid2D` pixels (and so on)"
      ]
    },
    {
      "cell_type": "code",
      "metadata": {},
      "source": [
        "print(\"(y,x) sub-pixel 0 (of pixel 1):\")\n",
        "print(grid[4])\n",
        "print(\"(y,x) sub-pixel 0 (of pixel 1):\")\n",
        "print(grid[5])\n",
        "print(\"etc.\")"
      ],
      "outputs": [],
      "execution_count": null
    },
    {
      "cell_type": "markdown",
      "metadata": {},
      "source": [
        "We can again access these coordinates via `native`."
      ]
    },
    {
      "cell_type": "code",
      "metadata": {},
      "source": [
        "print(\"(y,x) sub-pixel 0 (of pixel 1):\")\n",
        "print(grid.native[0, 2])\n",
        "print(\"(y,x) sub-pixel 1 (of pixel 1):\")\n",
        "print(grid.native[0, 3])\n",
        "print(\"etc.\")"
      ],
      "outputs": [],
      "execution_count": null
    },
    {
      "cell_type": "markdown",
      "metadata": {},
      "source": [
        "Congratulations, you`ve completed your first **PyAutoLens** tutorial! Before moving on to the next one, experiment with \n",
        "**PyAutoLens** by doing the following:\n",
        "\n",
        "1) Change the pixel-scale of the `Grid2D`'s - what happens to the Cartesian coordinates?\n",
        "2) Change the resolution of the `Grid2D`'s - what happens Cartesian coordinates?\n",
        "3) Change the sub-grid size - what do you note about the pixel-scale of sub pixels?"
      ]
    },
    {
      "cell_type": "code",
      "metadata": {},
      "source": [],
      "outputs": [],
      "execution_count": null
    }
  ],
  "metadata": {
    "anaconda-cloud": {},
    "kernelspec": {
      "display_name": "Python 3",
      "language": "python",
      "name": "python3"
    },
    "language_info": {
      "codemirror_mode": {
        "name": "ipython",
        "version": 3
      },
      "file_extension": ".py",
      "mimetype": "text/x-python",
      "name": "python",
      "nbconvert_exporter": "python",
      "pygments_lexer": "ipython3",
      "version": "3.6.1"
    }
  },
  "nbformat": 4,
  "nbformat_minor": 4
}