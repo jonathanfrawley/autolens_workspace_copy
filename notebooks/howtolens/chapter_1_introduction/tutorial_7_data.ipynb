{
 "cells": [
  {
   "cell_type": "markdown",
   "metadata": {},
   "source": [
    "Tutorial 7: Data\n",
    "================\n",
    "\n",
    "Up to now, all of the image's we've created have come from light profiles. Oher than the actual light that profile emits\n",
    "there is no other effects in the images of that light profile.\n",
    "\n",
    "This contrasts real data of a strong lens, where there are lots of other effects in our strong lens imagimg (noise,\n",
    "diffraction due to the telescope optics, etc.). In this example, we use **PyAutoLens** to simulate Hubble Space\n",
    "Telescope (HST) imaging of a strong lens, where the strong lens image is made via a tracer. By simulate, we mean that this\n",
    "image will contain these effects that are present in real data."
   ]
  },
  {
   "cell_type": "code",
   "execution_count": 1,
   "metadata": {
    "execution": {
     "iopub.execute_input": "2021-04-15T19:56:10.975785Z",
     "iopub.status.busy": "2021-04-15T19:56:10.975412Z",
     "iopub.status.idle": "2021-04-15T19:56:14.188651Z",
     "shell.execute_reply": "2021-04-15T19:56:14.188233Z"
    }
   },
   "outputs": [
    {
     "name": "stdout",
     "output_type": "stream",
     "text": [
      "/mnt/c/Users/Jammy/Code/PyAuto/autolens_workspace\n",
      "Working Directory has been set to `/mnt/c/Users/Jammy/Code/PyAuto/autolens_workspace`\n"
     ]
    }
   ],
   "source": [
    "%matplotlib inline\n",
    "from pyprojroot import here\n",
    "workspace_path = str(here())\n",
    "%cd $workspace_path\n",
    "print(f\"Working Directory has been set to `{workspace_path}`\")\n",
    "\n",
    "from os import path\n",
    "import autolens as al\n",
    "import autolens.plot as aplt"
   ]
  },
  {
   "cell_type": "markdown",
   "metadata": {},
   "source": [
    "__Initial Setup__\n",
    "\n",
    "We'll need a 2D grid to make the strong lens image we'll ultimately simulate as if it was observed with HST."
   ]
  },
  {
   "cell_type": "code",
   "execution_count": 2,
   "metadata": {
    "execution": {
     "iopub.execute_input": "2021-04-15T19:56:14.192274Z",
     "iopub.status.busy": "2021-04-15T19:56:14.191788Z",
     "iopub.status.idle": "2021-04-15T19:56:14.251593Z",
     "shell.execute_reply": "2021-04-15T19:56:14.251230Z"
    }
   },
   "outputs": [],
   "source": [
    "grid = al.Grid2D.uniform(shape_native=(100, 100), pixel_scales=0.1)"
   ]
  },
  {
   "cell_type": "markdown",
   "metadata": {},
   "source": [
    "Now, lets setup our lens galaxy, source galaxy and tracer."
   ]
  },
  {
   "cell_type": "code",
   "execution_count": 3,
   "metadata": {
    "execution": {
     "iopub.execute_input": "2021-04-15T19:56:14.255426Z",
     "iopub.status.busy": "2021-04-15T19:56:14.255097Z",
     "iopub.status.idle": "2021-04-15T19:56:14.257287Z",
     "shell.execute_reply": "2021-04-15T19:56:14.256984Z"
    }
   },
   "outputs": [],
   "source": [
    "lens_galaxy = al.Galaxy(\n",
    "    redshift=0.5,\n",
    "    mass=al.mp.EllIsothermal(\n",
    "        centre=(0.0, 0.0), einstein_radius=1.6, elliptical_comps=(0.17647, 0.0)\n",
    "    ),\n",
    ")\n",
    "\n",
    "source_galaxy = al.Galaxy(\n",
    "    redshift=1.0,\n",
    "    bulge=al.lp.EllSersic(\n",
    "        centre=(0.1, 0.1),\n",
    "        elliptical_comps=(0.0, 0.111111),\n",
    "        intensity=1.0,\n",
    "        effective_radius=1.0,\n",
    "        sersic_index=2.5,\n",
    "    ),\n",
    ")\n",
    "\n",
    "tracer = al.Tracer.from_galaxies(galaxies=[lens_galaxy, source_galaxy])"
   ]
  },
  {
   "cell_type": "markdown",
   "metadata": {},
   "source": [
    "Lets look at the tracer's image; which is the image we'll be simulating."
   ]
  },
  {
   "cell_type": "code",
   "execution_count": 4,
   "metadata": {
    "execution": {
     "iopub.execute_input": "2021-04-15T19:56:14.259854Z",
     "iopub.status.busy": "2021-04-15T19:56:14.259362Z",
     "iopub.status.idle": "2021-04-15T19:56:14.508664Z",
     "shell.execute_reply": "2021-04-15T19:56:14.508908Z"
    }
   },
   "outputs": [
    {
     "data": {
      "image/png": "[encoded data removed]",
      "text/plain": [
       "<Figure size 504x504 with 2 Axes>"
      ]
     },
     "metadata": {
      "needs_background": "light"
     },
     "output_type": "display_data"
    }
   ],
   "source": [
    "tracer_plotter = aplt.TracerPlotter(tracer=tracer, grid=grid)\n",
    "tracer_plotter.figures_2d(image=True)"
   ]
  },
  {
   "cell_type": "markdown",
   "metadata": {},
   "source": [
    "__Simulations__\n",
    "\n",
    "To simulate an image, we need to model how the light is diffracted as it enters the telescope's optics. \n",
    "\n",
    "We do this using a two dimensional convolution, where a blurring kernel is used to mimic the effect of distraction. In\n",
    "Astronomy, the kernel representing blurring in a telescope is called the 'Point-Spread Function' (PSF) and it is \n",
    "represented using a `Kernel2D` object, which in this example is a 2D Gaussian."
   ]
  },
  {
   "cell_type": "code",
   "execution_count": 5,
   "metadata": {
    "execution": {
     "iopub.execute_input": "2021-04-15T19:56:14.512182Z",
     "iopub.status.busy": "2021-04-15T19:56:14.511841Z",
     "iopub.status.idle": "2021-04-15T19:56:14.513870Z",
     "shell.execute_reply": "2021-04-15T19:56:14.513594Z"
    }
   },
   "outputs": [],
   "source": [
    "psf = al.Kernel2D.from_gaussian(\n",
    "    shape_native=(11, 11), sigma=0.1, pixel_scales=grid.pixel_scales\n",
    ")"
   ]
  },
  {
   "cell_type": "markdown",
   "metadata": {},
   "source": [
    "The simulation does not use tracer's image plotted above. Instead, we use a slightly different image which is padded \n",
    "with zeros around its edge, based on the shape of the PSF that we will convolve the image with. This ensures \n",
    "edge-effects do not degrade our simulation`s PSF convolution."
   ]
  },
  {
   "cell_type": "code",
   "execution_count": 6,
   "metadata": {
    "execution": {
     "iopub.execute_input": "2021-04-15T19:56:14.516869Z",
     "iopub.status.busy": "2021-04-15T19:56:14.516539Z",
     "iopub.status.idle": "2021-04-15T19:56:14.526494Z",
     "shell.execute_reply": "2021-04-15T19:56:14.526749Z"
    }
   },
   "outputs": [
    {
     "name": "stdout",
     "output_type": "stream",
     "text": [
      "(100, 100)\n",
      "(110, 110)\n"
     ]
    }
   ],
   "source": [
    "normal_image = tracer.image_2d_from_grid(grid=grid)\n",
    "padded_image = tracer.padded_image_2d_from_grid_and_psf_shape(\n",
    "    grid=grid, psf_shape_2d=psf.shape_native\n",
    ")\n",
    "\n",
    "print(normal_image.shape_native)\n",
    "print(padded_image.shape_native)"
   ]
  },
  {
   "cell_type": "markdown",
   "metadata": {},
   "source": [
    "To simulate imaging data we create a `SimulatorImaging` object, which represents all of the effects that occur when\n",
    "imaging data is accquired in a telescope, including:\n",
    "\n",
    " 1) Diffraction due to the telescope optics: this uses the Point Spread Function defined above.\n",
    " \n",
    " 2) The Background Sky: this is background light from the Universe that is observed in addition to the strong lens's \n",
    " light (the image that is returned is has this background sky subtracted, so it simply acts as a source of noise).\n",
    " \n",
    " 3) Poisson noise: Due to the background sky, lens galaxy and source galaxy Poisson photon counts.\n",
    " \n",
    "We pass the tracer and grid to the simulator to create the image of the strong lens and add the above effects to it."
   ]
  },
  {
   "cell_type": "code",
   "execution_count": 7,
   "metadata": {
    "execution": {
     "iopub.execute_input": "2021-04-15T19:56:14.529527Z",
     "iopub.status.busy": "2021-04-15T19:56:14.529174Z",
     "iopub.status.idle": "2021-04-15T19:56:14.917488Z",
     "shell.execute_reply": "2021-04-15T19:56:14.917727Z"
    }
   },
   "outputs": [],
   "source": [
    "simulator = al.SimulatorImaging(\n",
    "    exposure_time=300.0, psf=psf, background_sky_level=0.1, add_poisson_noise=True\n",
    ")\n",
    "\n",
    "imaging = simulator.from_tracer_and_grid(tracer=tracer, grid=grid)"
   ]
  },
  {
   "cell_type": "markdown",
   "metadata": {},
   "source": [
    "By plotting the image, we can see it has been blurred due to the telescope optics and that noise has been added."
   ]
  },
  {
   "cell_type": "code",
   "execution_count": 8,
   "metadata": {
    "execution": {
     "iopub.execute_input": "2021-04-15T19:56:14.920814Z",
     "iopub.status.busy": "2021-04-15T19:56:14.920500Z",
     "iopub.status.idle": "2021-04-15T19:56:15.068984Z",
     "shell.execute_reply": "2021-04-15T19:56:15.068705Z"
    }
   },
   "outputs": [
    {
     "data": {
      "image/png": "[encoded data removed]",
      "text/plain": [
       "<Figure size 504x504 with 2 Axes>"
      ]
     },
     "metadata": {
      "needs_background": "light"
     },
     "output_type": "display_data"
    }
   ],
   "source": [
    "imaging_plotter = aplt.ImagingPlotter(imaging=imaging)\n",
    "imaging_plotter.figures_2d(image=True)"
   ]
  },
  {
   "cell_type": "markdown",
   "metadata": {},
   "source": [
    "__Output__\n",
    "\n",
    "We'll finally output these files to `.fits` files, which is the data storage format used by Astronomers to store\n",
    "images. Pretty much all data from telescope like HST comes in `.fits` format, and **PyAutoLens** has built-in tools \n",
    "for manipulating `.fits` files.\n",
    "\n",
    "The `dataset_path` specifies where the data is output, this time in the directory \n",
    "`autolens_workspace/dataset/imaging/no_lens_light/howtolens/`, which contains many example images of strong lens \n",
    "distributed with the`autolens_workspace`."
   ]
  },
  {
   "cell_type": "code",
   "execution_count": 9,
   "metadata": {
    "execution": {
     "iopub.execute_input": "2021-04-15T19:56:15.071622Z",
     "iopub.status.busy": "2021-04-15T19:56:15.071263Z",
     "iopub.status.idle": "2021-04-15T19:56:15.073243Z",
     "shell.execute_reply": "2021-04-15T19:56:15.073571Z"
    }
   },
   "outputs": [
    {
     "name": "stdout",
     "output_type": "stream",
     "text": [
      "Dataset Path:  dataset/imaging/no_lens_light/howtolens\n"
     ]
    }
   ],
   "source": [
    "dataset_path = path.join(\"dataset\", \"imaging\", \"no_lens_light\", \"howtolens\")\n",
    "print(\"Dataset Path: \", dataset_path)"
   ]
  },
  {
   "cell_type": "markdown",
   "metadata": {},
   "source": [
    "Finally, output our simulated data to hard-disk. In the next tutorial we'll load our simulated imaging data from \n",
    "these `.fits` files and begin to analyse them!"
   ]
  },
  {
   "cell_type": "code",
   "execution_count": 10,
   "metadata": {
    "execution": {
     "iopub.execute_input": "2021-04-15T19:56:15.076149Z",
     "iopub.status.busy": "2021-04-15T19:56:15.075730Z",
     "iopub.status.idle": "2021-04-15T19:56:15.092208Z",
     "shell.execute_reply": "2021-04-15T19:56:15.091894Z"
    }
   },
   "outputs": [],
   "source": [
    "imaging.output_to_fits(\n",
    "    image_path=path.join(dataset_path, \"image.fits\"),\n",
    "    noise_map_path=path.join(dataset_path, \"noise_map.fits\"),\n",
    "    psf_path=path.join(dataset_path, \"psf.fits\"),\n",
    "    overwrite=True,\n",
    ")"
   ]
  },
  {
   "cell_type": "markdown",
   "metadata": {},
   "source": [
    "Finish."
   ]
  },
  {
   "cell_type": "code",
   "execution_count": null,
   "metadata": {},
   "outputs": [],
   "source": []
  }
 ],
 "metadata": {
  "anaconda-cloud": {},
  "kernelspec": {
   "display_name": "Python 3",
   "language": "python",
   "name": "python3"
  },
  "language_info": {
   "codemirror_mode": {
    "name": "ipython",
    "version": 3
   },
   "file_extension": ".py",
   "mimetype": "text/x-python",
   "name": "python",
   "nbconvert_exporter": "python",
   "pygments_lexer": "ipython3",
   "version": "3.8.5"
  }
 },
 "nbformat": 4,
 "nbformat_minor": 4
}
