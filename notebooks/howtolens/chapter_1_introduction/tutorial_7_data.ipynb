{
 "cells": [
  {
   "cell_type": "markdown",
   "metadata": {},
   "source": [
    "Tutorial 7: Data\n",
    "================\n",
    "\n",
    "In this example, we'll use the `imaging` module to simulate `Imaging` of a strong lens made using a `Tracer`. By\n",
    "simulate, we mean that it will appear as if we had observed it using a real telescope, with this example making an\n",
    "image representative of Hubble Space Telescope imaging."
   ]
  },
  {
   "cell_type": "code",
   "execution_count": 1,
   "metadata": {
    "execution": {
     "iopub.execute_input": "2021-03-06T11:18:47.664052Z",
     "iopub.status.busy": "2021-03-06T11:18:47.663557Z",
     "iopub.status.idle": "2021-03-06T11:18:51.452889Z",
     "shell.execute_reply": "2021-03-06T11:18:51.453186Z"
    }
   },
   "outputs": [
    {
     "name": "stdout",
     "output_type": "stream",
     "text": [
      "/mnt/c/Users/Jammy/Code/PyAuto/autolens_workspace\n",
      "Working Directory has been set to `/mnt/c/Users/Jammy/Code/PyAuto/autolens_workspace`\n"
     ]
    }
   ],
   "source": [
    "#%matplotlib inline\n",
    "%matplotlib inline\n",
    "from pyprojroot import here\n",
    "workspace_path = str(here())\n",
    "%cd $workspace_path\n",
    "print(f\"Working Directory has been set to `{workspace_path}`\")\n",
    "\n",
    "from os import path\n",
    "import autolens as al\n",
    "import autolens.plot as aplt"
   ]
  },
  {
   "cell_type": "markdown",
   "metadata": {},
   "source": [
    "To simulate an image, we need to model the telescope's optics. we'll do this by convolving the image with a \n",
    "Point-Spread Function using a `Kernel2D` object, which we can simulate as a Gaussian."
   ]
  },
  {
   "cell_type": "code",
   "execution_count": 2,
   "metadata": {
    "execution": {
     "iopub.execute_input": "2021-03-06T11:18:51.456220Z",
     "iopub.status.busy": "2021-03-06T11:18:51.455882Z",
     "iopub.status.idle": "2021-03-06T11:18:52.115346Z",
     "shell.execute_reply": "2021-03-06T11:18:52.114989Z"
    }
   },
   "outputs": [],
   "source": [
    "psf = al.Kernel2D.from_gaussian(shape_native=(11, 11), sigma=0.1, pixel_scales=0.1)"
   ]
  },
  {
   "cell_type": "markdown",
   "metadata": {},
   "source": [
    "To simulate `Imaging` dataset, we use a `Grid2D`, like usual."
   ]
  },
  {
   "cell_type": "code",
   "execution_count": 3,
   "metadata": {
    "execution": {
     "iopub.execute_input": "2021-03-06T11:18:52.118748Z",
     "iopub.status.busy": "2021-03-06T11:18:52.118386Z",
     "iopub.status.idle": "2021-03-06T11:18:52.119884Z",
     "shell.execute_reply": "2021-03-06T11:18:52.120151Z"
    }
   },
   "outputs": [],
   "source": [
    "grid = al.Grid2D.uniform(shape_native=(100, 100), pixel_scales=0.1, sub_size=2)"
   ]
  },
  {
   "cell_type": "markdown",
   "metadata": {},
   "source": [
    "Now, lets setup our lens galaxy, source galaxy and `Tracer`."
   ]
  },
  {
   "cell_type": "code",
   "execution_count": 4,
   "metadata": {
    "execution": {
     "iopub.execute_input": "2021-03-06T11:18:52.124275Z",
     "iopub.status.busy": "2021-03-06T11:18:52.123949Z",
     "iopub.status.idle": "2021-03-06T11:18:52.125879Z",
     "shell.execute_reply": "2021-03-06T11:18:52.125605Z"
    }
   },
   "outputs": [],
   "source": [
    "lens_galaxy = al.Galaxy(\n",
    "    redshift=0.5,\n",
    "    mass=al.mp.EllipticalIsothermal(\n",
    "        centre=(0.0, 0.0), einstein_radius=1.6, elliptical_comps=(0.17647, 0.0)\n",
    "    ),\n",
    ")\n",
    "\n",
    "source_galaxy = al.Galaxy(\n",
    "    redshift=1.0,\n",
    "    bulge=al.lp.EllipticalSersic(\n",
    "        centre=(0.1, 0.1),\n",
    "        elliptical_comps=(0.0, 0.111111),\n",
    "        intensity=1.0,\n",
    "        effective_radius=1.0,\n",
    "        sersic_index=2.5,\n",
    "    ),\n",
    ")\n",
    "\n",
    "tracer = al.Tracer.from_galaxies(galaxies=[lens_galaxy, source_galaxy])"
   ]
  },
  {
   "cell_type": "markdown",
   "metadata": {},
   "source": [
    "Lets look at the `Tracer`'s image; this is the image we'll be simulating."
   ]
  },
  {
   "cell_type": "code",
   "execution_count": 5,
   "metadata": {
    "execution": {
     "iopub.execute_input": "2021-03-06T11:18:52.128417Z",
     "iopub.status.busy": "2021-03-06T11:18:52.128075Z",
     "iopub.status.idle": "2021-03-06T11:18:55.474390Z",
     "shell.execute_reply": "2021-03-06T11:18:55.474643Z"
    }
   },
   "outputs": [
    {
     "data": {
      "image/png": "[encoded data removed]",
      "text/plain": [
       "<Figure size 504x504 with 2 Axes>"
      ]
     },
     "metadata": {
      "needs_background": "light"
     },
     "output_type": "display_data"
    }
   ],
   "source": [
    "tracer_plotter = aplt.TracerPlotter(tracer=tracer, grid=grid)\n",
    "tracer_plotter.figures(image=True)"
   ]
  },
  {
   "cell_type": "markdown",
   "metadata": {},
   "source": [
    "To simulate the `Imaging` data, we don't use the image plotted above. Instead, we use an image which has been generated\n",
    "specifically for simulating an image, which pads the array it is computed on based on the shape of the PSF we\n",
    "convolve the image with. This ensures edge-effects do not degrade our simulation`s PSF convolution."
   ]
  },
  {
   "cell_type": "code",
   "execution_count": 6,
   "metadata": {
    "execution": {
     "iopub.execute_input": "2021-03-06T11:18:55.476988Z",
     "iopub.status.busy": "2021-03-06T11:18:55.476697Z",
     "iopub.status.idle": "2021-03-06T11:18:55.506988Z",
     "shell.execute_reply": "2021-03-06T11:18:55.506696Z"
    }
   },
   "outputs": [
    {
     "name": "stdout",
     "output_type": "stream",
     "text": [
      "(100, 100)\n",
      "(110, 110)\n"
     ]
    }
   ],
   "source": [
    "normal_image = tracer.image_from_grid(grid=grid)\n",
    "padded_image = tracer.padded_image_from_grid_and_psf_shape(\n",
    "    grid=grid, psf_shape_2d=psf.shape_native\n",
    ")\n",
    "\n",
    "print(normal_image.shape_native)\n",
    "print(padded_image.shape_native)"
   ]
  },
  {
   "cell_type": "markdown",
   "metadata": {},
   "source": [
    "Now, to simulate the `Imaging` data, we pass the `Tracer` and `Grid2D` to the `Imaging` module`s simulate function. \n",
    "This adds the following effects to the image:\n",
    "\n",
    " 1) Telescope optics: Using the Point Spread Function above.\n",
    " 2) The Background Sky: Although the image that is returned is automatically background sky subtracted.\n",
    " 3) Poisson noise: Due to the background sky, lens galaxy and source galaxy Poisson photon counts."
   ]
  },
  {
   "cell_type": "code",
   "execution_count": 7,
   "metadata": {
    "execution": {
     "iopub.execute_input": "2021-03-06T11:18:55.510043Z",
     "iopub.status.busy": "2021-03-06T11:18:55.509500Z",
     "iopub.status.idle": "2021-03-06T11:18:56.001700Z",
     "shell.execute_reply": "2021-03-06T11:18:56.001962Z"
    }
   },
   "outputs": [],
   "source": [
    "simulator = al.SimulatorImaging(\n",
    "    exposure_time=300.0, psf=psf, background_sky_level=0.1, add_poisson_noise=True\n",
    ")\n",
    "\n",
    "imaging = simulator.from_tracer_and_grid(tracer=tracer, grid=grid)"
   ]
  },
  {
   "cell_type": "markdown",
   "metadata": {},
   "source": [
    "Lets plot the image. We can see the image has been blurred due to the telescope optics and noise has been added."
   ]
  },
  {
   "cell_type": "code",
   "execution_count": 8,
   "metadata": {
    "execution": {
     "iopub.execute_input": "2021-03-06T11:18:56.005252Z",
     "iopub.status.busy": "2021-03-06T11:18:56.004940Z",
     "iopub.status.idle": "2021-03-06T11:18:56.131697Z",
     "shell.execute_reply": "2021-03-06T11:18:56.131969Z"
    }
   },
   "outputs": [
    {
     "data": {
      "image/png": "[encoded data removed]",
      "text/plain": [
       "<Figure size 504x504 with 2 Axes>"
      ]
     },
     "metadata": {
      "needs_background": "light"
     },
     "output_type": "display_data"
    }
   ],
   "source": [
    "imaging_plotter = aplt.ImagingPlotter(imaging=imaging)\n",
    "imaging_plotter.figures(image=True)"
   ]
  },
  {
   "cell_type": "markdown",
   "metadata": {},
   "source": [
    "We'll now output these files to .fits files, we'll begin to analyze them in the next tutorial!\n",
    "\n",
    "The `dataset_path` specifies where the data is output, this time in the directory \n",
    "`autolens_workspace/dataset/imaging/no_lens_light/howtolens/`, which contains many example images of strong lens distributed with the\n",
    "`autolens_workspace`.."
   ]
  },
  {
   "cell_type": "code",
   "execution_count": 9,
   "metadata": {
    "execution": {
     "iopub.execute_input": "2021-03-06T11:18:56.134430Z",
     "iopub.status.busy": "2021-03-06T11:18:56.134083Z",
     "iopub.status.idle": "2021-03-06T11:18:56.136188Z",
     "shell.execute_reply": "2021-03-06T11:18:56.135908Z"
    }
   },
   "outputs": [
    {
     "name": "stdout",
     "output_type": "stream",
     "text": [
      "Dataset Path:  dataset/imaging/no_lens_light/howtolens\n"
     ]
    }
   ],
   "source": [
    "dataset_path = path.join(\"dataset\", \"imaging\", \"no_lens_light\", \"howtolens\")\n",
    "print(\"Dataset Path: \", dataset_path)"
   ]
  },
  {
   "cell_type": "markdown",
   "metadata": {},
   "source": [
    "Now output our simulated data to hard-disk."
   ]
  },
  {
   "cell_type": "code",
   "execution_count": 10,
   "metadata": {
    "execution": {
     "iopub.execute_input": "2021-03-06T11:18:56.138456Z",
     "iopub.status.busy": "2021-03-06T11:18:56.138133Z",
     "iopub.status.idle": "2021-03-06T11:18:56.154081Z",
     "shell.execute_reply": "2021-03-06T11:18:56.153597Z"
    }
   },
   "outputs": [],
   "source": [
    "imaging.output_to_fits(\n",
    "    image_path=path.join(dataset_path, \"image.fits\"),\n",
    "    noise_map_path=path.join(dataset_path, \"noise_map.fits\"),\n",
    "    psf_path=path.join(dataset_path, \"psf.fits\"),\n",
    "    overwrite=True,\n",
    ")"
   ]
  },
  {
   "cell_type": "markdown",
   "metadata": {},
   "source": [
    "Finish."
   ]
  },
  {
   "cell_type": "code",
   "execution_count": null,
   "metadata": {},
   "outputs": [],
   "source": []
  }
 ],
 "metadata": {
  "anaconda-cloud": {},
  "kernelspec": {
   "display_name": "Python 3",
   "language": "python",
   "name": "python3"
  },
  "language_info": {
   "codemirror_mode": {
    "name": "ipython",
    "version": 3
   },
   "file_extension": ".py",
   "mimetype": "text/x-python",
   "name": "python",
   "nbconvert_exporter": "python",
   "pygments_lexer": "ipython3",
   "version": "3.8.5"
  }
 },
 "nbformat": 4,
 "nbformat_minor": 4
}
