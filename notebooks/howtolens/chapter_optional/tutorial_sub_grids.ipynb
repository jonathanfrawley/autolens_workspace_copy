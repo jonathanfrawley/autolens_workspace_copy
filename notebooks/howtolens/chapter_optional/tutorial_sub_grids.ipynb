{
 "cells": [
  {
   "cell_type": "markdown",
   "metadata": {},
   "source": [
    "Tutorial: Sub-Grids (Optional)\n",
    "==============================\n",
    "\n",
    "Throughout chapter 1, we used two dimensional grids of $(y,x)$ coordinates to calculate properties of light and mass\n",
    "profiles and perform lensing ray-tracing calculations.\n",
    "\n",
    "Sub-grids perform these calculations on an up-sampled grid containing multiple 'sub-pixels' for each pixel on the grid.\n",
    "Light profiles and mass profiles are then evaluated on every $(y,x)$ sub-coordinate and 'binned up' as the mean of\n",
    "these values, ensuring their properties are calculated accurately.\n",
    "\n",
    "This tutorial describes sub-grids. It is considered optional as the default sub-grid options of **PyAutoLens** are\n",
    "sufficient for the majority of calculations to be performed accurately without customization."
   ]
  },
  {
   "cell_type": "code",
   "execution_count": 1,
   "metadata": {
    "execution": {
     "iopub.execute_input": "2021-05-10T12:34:51.517077Z",
     "iopub.status.busy": "2021-05-10T12:34:51.516348Z",
     "iopub.status.idle": "2021-05-10T12:35:05.965899Z",
     "shell.execute_reply": "2021-05-10T12:35:05.965298Z"
    }
   },
   "outputs": [
    {
     "name": "stdout",
     "output_type": "stream",
     "text": [
      "/mnt/c/Users/Jammy/Code/PyAuto/autolens_workspace\n",
      "Working Directory has been set to `/mnt/c/Users/Jammy/Code/PyAuto/autolens_workspace`\n"
     ]
    }
   ],
   "source": [
    "%matplotlib inline\n",
    "from pyprojroot import here\n",
    "workspace_path = str(here())\n",
    "%cd $workspace_path\n",
    "print(f\"Working Directory has been set to `{workspace_path}`\")\n",
    "\n",
    "import autolens as al\n",
    "import autolens.plot as aplt"
   ]
  },
  {
   "cell_type": "markdown",
   "metadata": {},
   "source": [
    "To create a `Grid2D` with a sub-grid we input a `sub_size`, which defines how each pixel on the 2D grid is split \n",
    "into sub-pixels of size (`sub_size` x `sub_size`). \n",
    "\n",
    "These additional pixels are used to perform calculations more accurately."
   ]
  },
  {
   "cell_type": "code",
   "execution_count": 2,
   "metadata": {
    "execution": {
     "iopub.execute_input": "2021-05-10T12:35:05.970527Z",
     "iopub.status.busy": "2021-05-10T12:35:05.970068Z",
     "iopub.status.idle": "2021-05-10T12:35:06.195046Z",
     "shell.execute_reply": "2021-05-10T12:35:06.194606Z"
    }
   },
   "outputs": [
    {
     "data": {
      "image/png": "[encoded data removed]",
      "text/plain": [
       "<Figure size 504x504 with 1 Axes>"
      ]
     },
     "metadata": {
      "needs_background": "light"
     },
     "output_type": "display_data"
    }
   ],
   "source": [
    "grid = al.Grid2D.uniform(shape_native=(100, 100), pixel_scales=0.05, sub_size=2)\n",
    "grid_plotter = aplt.Grid2DPlotter(grid=grid)\n",
    "grid_plotter.figure_2d()"
   ]
  },
  {
   "cell_type": "markdown",
   "metadata": {},
   "source": [
    "We specified a `sub_size` of 2 above, therefore we expect 4 (2 x 2) times more sub-pixels than pixels. We can see this \n",
    "is the case by inspecting the `Grid2D` `sub_shape_native` and `sub_shape_slim` attributes."
   ]
  },
  {
   "cell_type": "code",
   "execution_count": 3,
   "metadata": {
    "execution": {
     "iopub.execute_input": "2021-05-10T12:35:06.198645Z",
     "iopub.status.busy": "2021-05-10T12:35:06.198194Z",
     "iopub.status.idle": "2021-05-10T12:35:06.201620Z",
     "shell.execute_reply": "2021-05-10T12:35:06.201029Z"
    }
   },
   "outputs": [
    {
     "name": "stdout",
     "output_type": "stream",
     "text": [
      "(200, 200)\n",
      "40000\n"
     ]
    }
   ],
   "source": [
    "print(grid.sub_shape_native)\n",
    "print(grid.sub_shape_slim)"
   ]
  },
  {
   "cell_type": "markdown",
   "metadata": {},
   "source": [
    "The first four pixels of this sub-grid correspond to the first four sub-pixels in the first pixel of the grid. These\n",
    "four pixels for a sub-grid inside this image pixel as follows:\n",
    "\n",
    "pixel 1\n",
    "\n",
    "                 ______\n",
    "\n",
    "              I         I\n",
    "\n",
    "              I         I  o = $(y,x)$ centre of\n",
    "\n",
    " y = 2.475\"   I    o    I       Grid2D coordinate.\n",
    "\n",
    "              I         I\n",
    "\n",
    "              I_________I\n",
    "\n",
    "              x = -2.475\n",
    "\n",
    "\n",
    "Sub-pixels 1, 2, 3 & 4\n",
    "\n",
    "                 ______\n",
    "\n",
    "              I         I\n",
    "\n",
    "              I  o   o  I  o = $(y,x)$ centre of sub\n",
    "\n",
    " y = 2.475\"   I         I       Grid2D coordinates.\n",
    "\n",
    "              I  o   o  I\n",
    "\n",
    "              I_________I\n",
    "\n",
    "              x = -2.475\n",
    "\n",
    "The sub-pixels coordinates are spaced uniformly between the pixel's edges (which are at y = (2.45\", 2.5\") and \n",
    "x = (-2.5\". -2.45\") )\n",
    "\n",
    "We can access the sub-pixel coordinates via the `native` attribute."
   ]
  },
  {
   "cell_type": "code",
   "execution_count": 4,
   "metadata": {
    "execution": {
     "iopub.execute_input": "2021-05-10T12:35:06.206718Z",
     "iopub.status.busy": "2021-05-10T12:35:06.206251Z",
     "iopub.status.idle": "2021-05-10T12:35:06.220729Z",
     "shell.execute_reply": "2021-05-10T12:35:06.221096Z"
    }
   },
   "outputs": [
    {
     "name": "stdout",
     "output_type": "stream",
     "text": [
      "(y,x) sub-pixel 0 (of pixel 0):\n",
      "[ 2.4875 -2.4875]\n",
      "(y,x) sub-pixel 1 (of pixel 0):\n",
      "[ 2.4875 -2.4625]\n",
      "(y,x) sub-pixel 2 (of pixel 0):\n",
      "[ 2.4625 -2.4875]\n",
      "(y,x) sub-pixel 3 (of pixel 0):\n",
      "[ 2.4625 -2.4625]\n",
      "(y,x) sub-pixel 0 (of pixel 1):\n",
      "[ 2.4875 -2.4375]\n",
      "etc.\n"
     ]
    }
   ],
   "source": [
    "print(\"(y,x) sub-pixel 0 (of pixel 0):\")\n",
    "print(grid.native[0, 0])\n",
    "print(\"(y,x) sub-pixel 1 (of pixel 0):\")\n",
    "print(grid.native[0, 1])\n",
    "print(\"(y,x) sub-pixel 2 (of pixel 0):\")\n",
    "print(grid.native[1, 0])\n",
    "print(\"(y,x) sub-pixel 3 (of pixel 0):\")\n",
    "print(grid.native[1, 1])\n",
    "print(\"(y,x) sub-pixel 0 (of pixel 1):\")\n",
    "print(grid.native[0, 2])\n",
    "print(\"etc.\")"
   ]
  },
  {
   "cell_type": "markdown",
   "metadata": {},
   "source": [
    "The sub-pixels can also be accessed via `slim`."
   ]
  },
  {
   "cell_type": "code",
   "execution_count": 5,
   "metadata": {
    "execution": {
     "iopub.execute_input": "2021-05-10T12:35:06.224760Z",
     "iopub.status.busy": "2021-05-10T12:35:06.224349Z",
     "iopub.status.idle": "2021-05-10T12:35:06.228440Z",
     "shell.execute_reply": "2021-05-10T12:35:06.228736Z"
    }
   },
   "outputs": [
    {
     "name": "stdout",
     "output_type": "stream",
     "text": [
      "(y,x) sub-pixel 0 (of pixel 0):\n",
      "[ 2.4875 -2.4875]\n",
      "(y,x) sub-pixel 1 (of pixel 0):\n",
      "[ 2.4875 -2.4625]\n",
      "(y,x) sub-pixel 2 (of pixel 0):\n",
      "[ 2.4625 -2.4875]\n",
      "(y,x) sub-pixel 3 (of pixel 0):\n",
      "[ 2.4625 -2.4625]\n",
      "(y,x) sub-pixel 0 (of pixel 1):\n",
      "[ 2.4875 -2.4375]\n",
      "etc.\n"
     ]
    }
   ],
   "source": [
    "print(\"(y,x) sub-pixel 0 (of pixel 0):\")\n",
    "print(grid.slim[0])\n",
    "print(\"(y,x) sub-pixel 1 (of pixel 0):\")\n",
    "print(grid.slim[1])\n",
    "print(\"(y,x) sub-pixel 2 (of pixel 0):\")\n",
    "print(grid.slim[2])\n",
    "print(\"(y,x) sub-pixel 3 (of pixel 0):\")\n",
    "print(grid.slim[3])\n",
    "print(\"(y,x) sub-pixel 0 (of pixel 1):\")\n",
    "print(grid.slim[4])\n",
    "print(\"etc.\")"
   ]
  },
  {
   "cell_type": "markdown",
   "metadata": {},
   "source": [
    "From a sub-grid, we can compute the binned grid, which is the mean of all $(y, x)$ sub-coordinates in a sub-pixel. \n",
    "This therefore reduces to the native grid without sub-gridding:"
   ]
  },
  {
   "cell_type": "code",
   "execution_count": 6,
   "metadata": {
    "execution": {
     "iopub.execute_input": "2021-05-10T12:35:06.232323Z",
     "iopub.status.busy": "2021-05-10T12:35:06.231832Z",
     "iopub.status.idle": "2021-05-10T12:35:06.237568Z",
     "shell.execute_reply": "2021-05-10T12:35:06.237036Z"
    }
   },
   "outputs": [
    {
     "name": "stdout",
     "output_type": "stream",
     "text": [
      "(t,x) of pixel 0 via mean of its 4 sub-pixel coordinates\n",
      "[ 2.475 -2.475]\n",
      "(t,x) of pixel 1 via mean of its 4 sub-pixel coordinates\n",
      "[ 2.475 -2.425]\n"
     ]
    }
   ],
   "source": [
    "print(\"(t,x) of pixel 0 via mean of its 4 sub-pixel coordinates\")\n",
    "print(grid.binned.native[0, 0])\n",
    "print(\"(t,x) of pixel 1 via mean of its 4 sub-pixel coordinates\")\n",
    "print(grid.binned.slim[1])"
   ]
  },
  {
   "cell_type": "markdown",
   "metadata": {},
   "source": [
    "The values computed when we call a `_from_grid` method (e.g. the image intensities) are calculated on this sub-grid. \n",
    "The `Array2D` containing the values therefore has the same `sub_shape_native` and `sub_shape_slim` dimensions as the \n",
    "sub-grid, which in this case is a 200 x 200 grid.\n",
    "\n",
    "The example below shows this for the `image_2d_from_grid` of a light profile."
   ]
  },
  {
   "cell_type": "code",
   "execution_count": 7,
   "metadata": {
    "execution": {
     "iopub.execute_input": "2021-05-10T12:35:06.240999Z",
     "iopub.status.busy": "2021-05-10T12:35:06.240590Z",
     "iopub.status.idle": "2021-05-10T12:35:06.251734Z",
     "shell.execute_reply": "2021-05-10T12:35:06.252029Z"
    }
   },
   "outputs": [
    {
     "name": "stdout",
     "output_type": "stream",
     "text": [
      "(200, 200)\n",
      "40000\n"
     ]
    }
   ],
   "source": [
    "sersic_light_profile = al.lp.EllSersic(\n",
    "    centre=(0.0, 0.0),\n",
    "    elliptical_comps=(0.0, 0.111111),\n",
    "    intensity=1.0,\n",
    "    effective_radius=1.0,\n",
    "    sersic_index=2.5,\n",
    ")\n",
    "\n",
    "light_image = sersic_light_profile.image_2d_from_grid(grid=grid)\n",
    "\n",
    "print(light_image.sub_shape_native)\n",
    "print(light_image.sub_shape_slim)"
   ]
  },
  {
   "cell_type": "markdown",
   "metadata": {},
   "source": [
    "As we have seen, this can be accessed via the `native` and `slim` attributes."
   ]
  },
  {
   "cell_type": "code",
   "execution_count": 8,
   "metadata": {
    "execution": {
     "iopub.execute_input": "2021-05-10T12:35:06.255845Z",
     "iopub.status.busy": "2021-05-10T12:35:06.255454Z",
     "iopub.status.idle": "2021-05-10T12:35:06.261198Z",
     "shell.execute_reply": "2021-05-10T12:35:06.260726Z"
    }
   },
   "outputs": [
    {
     "name": "stdout",
     "output_type": "stream",
     "text": [
      "Intensity of sub-pixel 0 (of pixel 0):\n",
      "0.04538426447251817\n",
      "Intensity of sub-pixel 1 (of pixel 0):\n",
      "0.04593933816109038\n"
     ]
    }
   ],
   "source": [
    "print(\"Intensity of sub-pixel 0 (of pixel 0):\")\n",
    "print(light_image.native[0, 0])\n",
    "print(\"Intensity of sub-pixel 1 (of pixel 0):\")\n",
    "print(light_image.slim[1])"
   ]
  },
  {
   "cell_type": "markdown",
   "metadata": {},
   "source": [
    "The benefit of calculating all values on a sub-grid is that we can now bin them up to the native resolution of the\n",
    "`Grid2D`, using the same `binned` attribute introduced above.\n",
    "\n",
    "The benefit of binning is now clear: binning will compute the mean of all intensity values of the sub-pixels in each \n",
    "pixel. If, within a pixel, the intensity values of the light profile are rapidly changing, this will give a more \n",
    "accurate estimate of the average intensity within that pixel compared to using a `sub_size=1`."
   ]
  },
  {
   "cell_type": "code",
   "execution_count": 9,
   "metadata": {
    "execution": {
     "iopub.execute_input": "2021-05-10T12:35:06.265933Z",
     "iopub.status.busy": "2021-05-10T12:35:06.265231Z",
     "iopub.status.idle": "2021-05-10T12:35:06.270276Z",
     "shell.execute_reply": "2021-05-10T12:35:06.269350Z"
    }
   },
   "outputs": [
    {
     "name": "stdout",
     "output_type": "stream",
     "text": [
      "Intensity of pixel 0 via mean of its 4 sub-pixels\n",
      "0.04610179485766294\n",
      "Intensity of pixel 1 via mean of its 4 sub-pixels\n",
      "0.04723765063579693\n"
     ]
    }
   ],
   "source": [
    "print(\"Intensity of pixel 0 via mean of its 4 sub-pixels\")\n",
    "print(light_image.binned.native[0, 0])\n",
    "print(\"Intensity of pixel 1 via mean of its 4 sub-pixels\")\n",
    "print(light_image.binned.slim[1])"
   ]
  },
  {
   "cell_type": "markdown",
   "metadata": {},
   "source": [
    "Sub-grids can also be used for all the quantities output by a mass profile, albeit we will omit showing this here.\n",
    "\n",
    "The purpose of sub-gridding is therefore now clear, it allows us to precisely estimate the intensity of light of a \n",
    "light profile in an image pixel. When an image-pixel is far away from the centre of a light profile, sub-gridding\n",
    "is not important, because within a pixel the change in intensity negligible and evaluating it at its centre is \n",
    "sufficiently accurate.\n",
    "\n",
    "There are two circumstances where sub-gridding because important:\n",
    "\n",
    " - When an image pixel is near the centre of a light profile, because the intensity of the light profile may now \n",
    " rapidly change over the area of the image-pixel.\n",
    " \n",
    " - When a mass profile ray-traces many light rays near the centre of a light profile in the source plane, creating a\n",
    " region of high magnification. The intensity values in the image pixel will again trace over regions of the source\n",
    "where the evaluated intensity rapidly changes. \n",
    " \n",
    "**PyAutoLens** also provides a `Grid2DIterate` grid, which uses iteratively higher and higher levels of sub gridding\n",
    "to evaluate a `from_grid_` method until a threshold level of accuracy is met. This is used in many of the example\n",
    "`simulator` scripts to ensure that the images of simulated lenses are evaluated accurately. \n",
    "\n",
    "This grid is not used by default in the majority of example scripts and a `sub_size=1` is assumed to ensure faster \n",
    "**PyAutoLens** run times. "
   ]
  },
  {
   "cell_type": "code",
   "execution_count": null,
   "metadata": {},
   "outputs": [],
   "source": []
  }
 ],
 "metadata": {
  "anaconda-cloud": {},
  "kernelspec": {
   "display_name": "Python 3",
   "language": "python",
   "name": "python3"
  },
  "language_info": {
   "codemirror_mode": {
    "name": "ipython",
    "version": 3
   },
   "file_extension": ".py",
   "mimetype": "text/x-python",
   "name": "python",
   "nbconvert_exporter": "python",
   "pygments_lexer": "ipython3",
   "version": "3.8.5"
  }
 },
 "nbformat": 4,
 "nbformat_minor": 4
}
