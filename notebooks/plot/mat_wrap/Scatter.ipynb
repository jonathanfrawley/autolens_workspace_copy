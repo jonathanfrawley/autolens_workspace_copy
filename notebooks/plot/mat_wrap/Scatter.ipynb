{
 "cells": [
  {
   "cell_type": "markdown",
   "metadata": {},
   "source": [
    "Plots: Scatter\n",
    "==============\n",
    "\n",
    "This example illustrates how to plot and customize (y,x) grids of coordinates in PyAutoLens figures and subplots."
   ]
  },
  {
   "cell_type": "code",
   "execution_count": 1,
   "metadata": {
    "execution": {
     "iopub.execute_input": "2021-03-01T16:19:14.794007Z",
     "iopub.status.busy": "2021-03-01T16:19:14.793434Z",
     "iopub.status.idle": "2021-03-01T16:19:18.849167Z",
     "shell.execute_reply": "2021-03-01T16:19:18.848524Z"
    }
   },
   "outputs": [
    {
     "name": "stdout",
     "output_type": "stream",
     "text": [
      "/mnt/c/Users/Jammy/Code/PyAuto/autolens_workspace\n",
      "Working Directory has been set to `/mnt/c/Users/Jammy/Code/PyAuto/autolens_workspace`\n"
     ]
    }
   ],
   "source": [
    "%matplotlib inline\n",
    "from pyprojroot import here\n",
    "workspace_path = str(here())\n",
    "%cd $workspace_path\n",
    "print(f\"Working Directory has been set to `{workspace_path}`\")\n",
    "\n",
    "from os import path\n",
    "import autolens as al\n",
    "import autolens.plot as aplt"
   ]
  },
  {
   "cell_type": "markdown",
   "metadata": {},
   "source": [
    "First, lets load an example Hubble Space Telescope image of a real strong lens as an `Array2D`."
   ]
  },
  {
   "cell_type": "code",
   "execution_count": 2,
   "metadata": {
    "execution": {
     "iopub.execute_input": "2021-03-01T16:19:18.853529Z",
     "iopub.status.busy": "2021-03-01T16:19:18.853063Z",
     "iopub.status.idle": "2021-03-01T16:19:19.531525Z",
     "shell.execute_reply": "2021-03-01T16:19:19.531836Z"
    }
   },
   "outputs": [],
   "source": [
    "dataset_path = path.join(\"dataset\", \"slacs\", \"slacs1430+4105\")\n",
    "image_path = path.join(dataset_path, \"image.fits\")\n",
    "image = al.Array2D.from_fits(file_path=image_path, hdu=0, pixel_scales=0.03)"
   ]
  },
  {
   "cell_type": "markdown",
   "metadata": {},
   "source": [
    "The appearance of a (y,x) `Grid2D` of coordinates is customized using `Scatter` objects. To illustrate this, we will \n",
    "customize the appearance of the (y,x) origin on a figure using an `OriginScatter` object.\n",
    "\n",
    "To plot a (y,x) grids of coordinates (like an origin) these objects wrap the following matplotlib method:\n",
    "\n",
    " https://matplotlib.org/3.2.2/api/_as_gen/matplotlib.pyplot.scatter.html"
   ]
  },
  {
   "cell_type": "code",
   "execution_count": 3,
   "metadata": {
    "execution": {
     "iopub.execute_input": "2021-03-01T16:19:19.545715Z",
     "iopub.status.busy": "2021-03-01T16:19:19.541714Z",
     "iopub.status.idle": "2021-03-01T16:19:23.008682Z",
     "shell.execute_reply": "2021-03-01T16:19:23.009024Z"
    }
   },
   "outputs": [
    {
     "data": {
      "image/png": "[encoded data removed]",
      "text/plain": [
       "<Figure size 504x504 with 2 Axes>"
      ]
     },
     "metadata": {
      "needs_background": "light"
     },
     "output_type": "display_data"
    }
   ],
   "source": [
    "origin_scatter = aplt.OriginScatter(marker=\"o\", s=50)\n",
    "\n",
    "mat_plot_2d = aplt.MatPlot2D(origin_scatter=origin_scatter)\n",
    "\n",
    "array_plotter = aplt.Array2DPlotter(\n",
    "    array=image, include_2d=aplt.Include2D(origin=True), mat_plot_2d=mat_plot_2d\n",
    ")\n",
    "array_plotter.figure()"
   ]
  },
  {
   "cell_type": "markdown",
   "metadata": {},
   "source": [
    "There are numerous (y,x) grids of coordinates that PyAutoLens plots. For example, in addition to the origin,\n",
    "there are grids like the multiple images of a strong lens, a source-plane grid of traced coordinates, etc.\n",
    "\n",
    "All of these grids are plotted using a `Scatter` object and they are described in more detail in the \n",
    "`plot/include_2d` example scripts. "
   ]
  },
  {
   "cell_type": "code",
   "execution_count": null,
   "metadata": {},
   "outputs": [],
   "source": []
  }
 ],
 "metadata": {
  "anaconda-cloud": {},
  "kernelspec": {
   "display_name": "Python 3",
   "language": "python",
   "name": "python3"
  },
  "language_info": {
   "codemirror_mode": {
    "name": "ipython",
    "version": 3
   },
   "file_extension": ".py",
   "mimetype": "text/x-python",
   "name": "python",
   "nbconvert_exporter": "python",
   "pygments_lexer": "ipython3",
   "version": "3.8.5"
  }
 },
 "nbformat": 4,
 "nbformat_minor": 4
}
