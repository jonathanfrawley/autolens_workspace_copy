{
 "cells": [
  {
   "cell_type": "markdown",
   "metadata": {},
   "source": [
    "Plots: Legend\n",
    "=============\n",
    "\n",
    "This example illustrates how to customize the Matplotlib legend of a PyAutoLens figures and subplot."
   ]
  },
  {
   "cell_type": "code",
   "execution_count": 1,
   "metadata": {
    "execution": {
     "iopub.execute_input": "2021-05-10T14:55:00.003240Z",
     "iopub.status.busy": "2021-05-10T14:55:00.002765Z",
     "iopub.status.idle": "2021-05-10T14:55:08.577395Z",
     "shell.execute_reply": "2021-05-10T14:55:08.576967Z"
    }
   },
   "outputs": [
    {
     "name": "stdout",
     "output_type": "stream",
     "text": [
      "/mnt/c/Users/Jammy/Code/PyAuto/autolens_workspace\n",
      "Working Directory has been set to `/mnt/c/Users/Jammy/Code/PyAuto/autolens_workspace`\n"
     ]
    }
   ],
   "source": [
    "%matplotlib inline\n",
    "from pyprojroot import here\n",
    "workspace_path = str(here())\n",
    "%cd $workspace_path\n",
    "print(f\"Working Directory has been set to `{workspace_path}`\")\n",
    "\n",
    "from os import path\n",
    "import autolens as al\n",
    "import autolens.plot as aplt"
   ]
  },
  {
   "cell_type": "markdown",
   "metadata": {},
   "source": [
    "First, lets load an example Hubble Space Telescope image of a real strong lens as an `Array2D`."
   ]
  },
  {
   "cell_type": "code",
   "execution_count": 2,
   "metadata": {
    "execution": {
     "iopub.execute_input": "2021-05-10T14:55:08.580689Z",
     "iopub.status.busy": "2021-05-10T14:55:08.580305Z",
     "iopub.status.idle": "2021-05-10T14:55:09.125376Z",
     "shell.execute_reply": "2021-05-10T14:55:09.125613Z"
    }
   },
   "outputs": [],
   "source": [
    "dataset_path = path.join(\"dataset\", \"slacs\", \"slacs1430+4105\")\n",
    "image_path = path.join(dataset_path, \"image.fits\")\n",
    "image = al.Array2D.from_fits(file_path=image_path, hdu=0, pixel_scales=0.03)"
   ]
  },
  {
   "cell_type": "markdown",
   "metadata": {},
   "source": [
    "We can customize the legend using the `Legend` matplotlib wrapper object which wraps the following method(s):\n",
    "\n",
    " https://matplotlib.org/3.3.2/api/_as_gen/matplotlib.pyplot.legend.html"
   ]
  },
  {
   "cell_type": "code",
   "execution_count": 3,
   "metadata": {
    "execution": {
     "iopub.execute_input": "2021-05-10T14:55:09.136115Z",
     "iopub.status.busy": "2021-05-10T14:55:09.128326Z",
     "iopub.status.idle": "2021-05-10T14:55:11.897885Z",
     "shell.execute_reply": "2021-05-10T14:55:11.897551Z"
    }
   },
   "outputs": [
    {
     "data": {
      "image/png": "[encoded data removed]",
      "text/plain": [
       "<Figure size 504x504 with 2 Axes>"
      ]
     },
     "metadata": {
      "needs_background": "light"
     },
     "output_type": "display_data"
    }
   ],
   "source": [
    "legend = aplt.Legend(include_2d=True, loc=\"upper left\", fontsize=10, ncol=2)\n",
    "\n",
    "mat_plot_2d = aplt.MatPlot2D(legend=legend)\n",
    "\n",
    "array_plotter = aplt.Array2DPlotter(array=image, mat_plot_2d=mat_plot_2d)\n",
    "array_plotter.figure_2d()"
   ]
  },
  {
   "cell_type": "markdown",
   "metadata": {},
   "source": [
    "Finish."
   ]
  },
  {
   "cell_type": "code",
   "execution_count": null,
   "metadata": {},
   "outputs": [],
   "source": []
  }
 ],
 "metadata": {
  "anaconda-cloud": {},
  "kernelspec": {
   "display_name": "Python 3",
   "language": "python",
   "name": "python3"
  },
  "language_info": {
   "codemirror_mode": {
    "name": "ipython",
    "version": 3
   },
   "file_extension": ".py",
   "mimetype": "text/x-python",
   "name": "python",
   "nbconvert_exporter": "python",
   "pygments_lexer": "ipython3",
   "version": "3.8.5"
  }
 },
 "nbformat": 4,
 "nbformat_minor": 4
}
