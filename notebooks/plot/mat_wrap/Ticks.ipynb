{
 "cells": [
  {
   "cell_type": "markdown",
   "metadata": {},
   "source": [
    "Plots: Ticks\n",
    "============\n",
    "\n",
    "This example illustrates how to customize the Ticks of a figure or subplot displayed in PyAutoLens, by\n",
    "wrapping the inputs of the Matplotlib methods `plt.tick_params`, `plt.yticks` and `plt.xticks`."
   ]
  },
  {
   "cell_type": "code",
   "execution_count": 1,
   "metadata": {
    "execution": {
     "iopub.execute_input": "2021-03-01T16:19:26.059436Z",
     "iopub.status.busy": "2021-03-01T16:19:26.058253Z",
     "iopub.status.idle": "2021-03-01T16:19:29.960823Z",
     "shell.execute_reply": "2021-03-01T16:19:29.961169Z"
    }
   },
   "outputs": [
    {
     "name": "stdout",
     "output_type": "stream",
     "text": [
      "/mnt/c/Users/Jammy/Code/PyAuto/autolens_workspace\n",
      "Working Directory has been set to `/mnt/c/Users/Jammy/Code/PyAuto/autolens_workspace`\n"
     ]
    }
   ],
   "source": [
    "%matplotlib inline\n",
    "from pyprojroot import here\n",
    "workspace_path = str(here())\n",
    "%cd $workspace_path\n",
    "print(f\"Working Directory has been set to `{workspace_path}`\")\n",
    "\n",
    "from os import path\n",
    "import autolens as al\n",
    "import autolens.plot as aplt"
   ]
  },
  {
   "cell_type": "markdown",
   "metadata": {},
   "source": [
    "First, lets load an example Hubble Space Telescope image of a real strong lens as an `Array2D`."
   ]
  },
  {
   "cell_type": "code",
   "execution_count": 2,
   "metadata": {
    "execution": {
     "iopub.execute_input": "2021-03-01T16:19:29.965095Z",
     "iopub.status.busy": "2021-03-01T16:19:29.964638Z",
     "iopub.status.idle": "2021-03-01T16:19:30.606501Z",
     "shell.execute_reply": "2021-03-01T16:19:30.606811Z"
    }
   },
   "outputs": [],
   "source": [
    "dataset_path = path.join(\"dataset\", \"slacs\", \"slacs1430+4105\")\n",
    "image_path = path.join(dataset_path, \"image.fits\")\n",
    "image = al.Array2D.from_fits(file_path=image_path, hdu=0, pixel_scales=0.03)"
   ]
  },
  {
   "cell_type": "markdown",
   "metadata": {},
   "source": [
    "We can customize the ticks using the `YTicks` and `XTicks matplotlib wrapper object which wraps the following method(s):\n",
    "\n",
    " https://matplotlib.org/3.3.2/api/_as_gen/matplotlib.pyplot.tick_params.html\n",
    " https://matplotlib.org/3.3.2/api/_as_gen/matplotlib.pyplot.yticks.html\n",
    " https://matplotlib.org/3.3.2/api/_as_gen/matplotlib.pyplot.xticks.html"
   ]
  },
  {
   "cell_type": "code",
   "execution_count": 3,
   "metadata": {
    "execution": {
     "iopub.execute_input": "2021-03-01T16:19:30.620819Z",
     "iopub.status.busy": "2021-03-01T16:19:30.620394Z",
     "iopub.status.idle": "2021-03-01T16:19:34.192622Z",
     "shell.execute_reply": "2021-03-01T16:19:34.192261Z"
    }
   },
   "outputs": [
    {
     "data": {
      "image/png": "[encoded data removed]",
      "text/plain": [
       "<Figure size 504x504 with 2 Axes>"
      ]
     },
     "metadata": {
      "needs_background": "light"
     },
     "output_type": "display_data"
    }
   ],
   "source": [
    "tickparams = aplt.TickParams(\n",
    "    axis=\"y\",\n",
    "    which=\"major\",\n",
    "    direction=\"out\",\n",
    "    color=\"b\",\n",
    "    labelsize=20,\n",
    "    labelcolor=\"r\",\n",
    "    length=2,\n",
    "    pad=5,\n",
    "    width=3,\n",
    "    grid_alpha=0.8,\n",
    ")\n",
    "\n",
    "yticks = aplt.YTicks(alpha=0.8, fontsize=10, rotation=\"vertical\")\n",
    "xticks = aplt.XTicks(alpha=0.5, fontsize=5, rotation=\"horizontal\")\n",
    "\n",
    "mat_plot_2d = aplt.MatPlot2D(tickparams=tickparams, yticks=yticks, xticks=xticks)\n",
    "\n",
    "array_plotter = aplt.Array2DPlotter(array=image, mat_plot_2d=mat_plot_2d)\n",
    "array_plotter.figure()"
   ]
  },
  {
   "cell_type": "markdown",
   "metadata": {},
   "source": [
    "Finish."
   ]
  },
  {
   "cell_type": "code",
   "execution_count": null,
   "metadata": {},
   "outputs": [],
   "source": []
  }
 ],
 "metadata": {
  "anaconda-cloud": {},
  "kernelspec": {
   "display_name": "Python 3",
   "language": "python",
   "name": "python3"
  },
  "language_info": {
   "codemirror_mode": {
    "name": "ipython",
    "version": 3
   },
   "file_extension": ".py",
   "mimetype": "text/x-python",
   "name": "python",
   "nbconvert_exporter": "python",
   "pygments_lexer": "ipython3",
   "version": "3.8.5"
  }
 },
 "nbformat": 4,
 "nbformat_minor": 4
}
