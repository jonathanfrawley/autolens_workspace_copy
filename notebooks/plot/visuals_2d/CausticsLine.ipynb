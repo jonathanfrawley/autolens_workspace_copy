{
  "cells": [
    {
      "cell_type": "markdown",
      "metadata": {},
      "source": [
        "Plots: CausticsLine\n",
        "===================\n",
        "\n",
        "This example illustrates how to customize the caustics plotted over data."
      ]
    },
    {
      "cell_type": "code",
      "metadata": {},
      "source": [
        "%matplotlib inline\n",
        "from pyprojroot import here\n",
        "workspace_path = str(here())\n",
        "%cd $workspace_path\n",
        "print(f\"Working Directory has been set to `{workspace_path}`\")\n",
        "\n",
        "import autolens as al\n",
        "import autolens.plot as aplt"
      ],
      "outputs": [],
      "execution_count": null
    },
    {
      "cell_type": "markdown",
      "metadata": {},
      "source": [
        "To plot a caustic, we need a `Tracer` object which performs the strong lensing calculation to produce a caustic. By\n",
        "default, caustics are only plotted on source-plane images, and must be manually input to plot on image-plane images.\n",
        "\n",
        "Lets make a simple `Tracer`."
      ]
    },
    {
      "cell_type": "code",
      "metadata": {},
      "source": [
        "lens_galaxy = al.Galaxy(\n",
        "    redshift=0.5,\n",
        "    mass=al.mp.EllIsothermal(\n",
        "        centre=(0.0, 0.0), einstein_radius=1.6, elliptical_comps=(0.2, 0.2)\n",
        "    ),\n",
        ")\n",
        "\n",
        "source_galaxy = al.Galaxy(\n",
        "    redshift=1.0,\n",
        "    bulge=al.lp.SphSersic(\n",
        "        centre=(0.1, 0.1), intensity=0.3, effective_radius=1.0, sersic_index=2.5\n",
        "    ),\n",
        ")\n",
        "\n",
        "tracer = al.Tracer.from_galaxies(galaxies=[lens_galaxy, source_galaxy])"
      ],
      "outputs": [],
      "execution_count": null
    },
    {
      "cell_type": "markdown",
      "metadata": {},
      "source": [
        "We also need the `Grid2D` that we can use to make plots of the `Tracer`'s properties."
      ]
    },
    {
      "cell_type": "code",
      "metadata": {},
      "source": [
        "grid = al.Grid2D.uniform(shape_native=(100, 100), pixel_scales=0.05)\n"
      ],
      "outputs": [],
      "execution_count": null
    },
    {
      "cell_type": "markdown",
      "metadata": {},
      "source": [
        "The `Tracer` includes its caustics as an internal property, meaning we can plot them via an `Include2D` object."
      ]
    },
    {
      "cell_type": "code",
      "metadata": {},
      "source": [
        "include_2d = aplt.Include2D(critical_curves=False, caustics=True)\n",
        "tracer_plotter = aplt.TracerPlotter(tracer=tracer, grid=grid, include_2d=include_2d)\n",
        "tracer_plotter.figures_2d(source_plane=True)"
      ],
      "outputs": [],
      "execution_count": null
    },
    {
      "cell_type": "markdown",
      "metadata": {},
      "source": [
        "The appearance of the caustics is customized using a `CausticsPlot` object.\n",
        "\n",
        "To plot the caustics this object wraps the following matplotlib method:\n",
        "\n",
        " https://matplotlib.org/3.3.3/api/_as_gen/matplotlib.pyplot.plot.html"
      ]
    },
    {
      "cell_type": "code",
      "metadata": {},
      "source": [
        "caustics_plot = aplt.CausticsPlot(linestyle=\"--\", linewidth=10, c=\"r\")\n",
        "\n",
        "mat_plot_2d = aplt.MatPlot2D(caustics_plot=caustics_plot)\n",
        "\n",
        "tracer_plotter = aplt.TracerPlotter(\n",
        "    tracer=tracer, grid=grid, include_2d=include_2d, mat_plot_2d=mat_plot_2d\n",
        ")\n",
        "tracer_plotter.figures_2d(source_plane=True)"
      ],
      "outputs": [],
      "execution_count": null
    },
    {
      "cell_type": "markdown",
      "metadata": {},
      "source": [
        "By specifying two colors to the `CausticsPlot` object the radial and tangential caustics\n",
        "will be plotted in different colors.\n",
        "\n",
        "By default, PyAutoLens uses the same alternating colors for the caustics and caustics, so they \n",
        "appear the same color on image-plane and source-plane figures."
      ]
    },
    {
      "cell_type": "code",
      "metadata": {},
      "source": [
        "caustics_plot = aplt.CausticsPlot(c=[\"r\", \"w\"])\n",
        "\n",
        "mat_plot_2d = aplt.MatPlot2D(caustics_plot=caustics_plot)\n",
        "\n",
        "tracer_plotter = aplt.TracerPlotter(\n",
        "    tracer=tracer, grid=grid, include_2d=include_2d, mat_plot_2d=mat_plot_2d\n",
        ")\n",
        "tracer_plotter.figures_2d(source_plane=True)\n"
      ],
      "outputs": [],
      "execution_count": null
    },
    {
      "cell_type": "markdown",
      "metadata": {},
      "source": [
        "To plot caustics manually, we can pass them into a` Visuals2D` object. This is useful for plotting caustics on\n",
        "figures where they are not an internal property, like an `Array2D`, as well as plotting them on image-plane images."
      ]
    },
    {
      "cell_type": "code",
      "metadata": {},
      "source": [
        "visuals_2d = aplt.Visuals2D(caustics=tracer.caustics_from_grid(grid=grid))\n",
        "image = tracer.image_from_grid(grid=grid)\n",
        "\n",
        "array_plotter = aplt.Array2DPlotter(\n",
        "    array=image, mat_plot_2d=mat_plot_2d, visuals_2d=visuals_2d\n",
        ")\n",
        "array_plotter.figure_2d()"
      ],
      "outputs": [],
      "execution_count": null
    },
    {
      "cell_type": "markdown",
      "metadata": {},
      "source": [
        "Finish."
      ]
    },
    {
      "cell_type": "code",
      "metadata": {},
      "source": [],
      "outputs": [],
      "execution_count": null
    }
  ],
  "metadata": {
    "anaconda-cloud": {},
    "kernelspec": {
      "display_name": "Python 3",
      "language": "python",
      "name": "python3"
    },
    "language_info": {
      "codemirror_mode": {
        "name": "ipython",
        "version": 3
      },
      "file_extension": ".py",
      "mimetype": "text/x-python",
      "name": "python",
      "nbconvert_exporter": "python",
      "pygments_lexer": "ipython3",
      "version": "3.6.1"
    }
  },
  "nbformat": 4,
  "nbformat_minor": 4
}