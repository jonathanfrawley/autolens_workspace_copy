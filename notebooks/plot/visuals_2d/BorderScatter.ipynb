{
  "cells": [
    {
      "cell_type": "markdown",
      "metadata": {},
      "source": [
        "Plots: BorderScatter\n",
        "====================\n",
        "\n",
        "This example illustrates how to customize the border of plotted data.\n",
        "\n",
        "A border is the `Grid2D` of (y,x) coordinates at the centre of every pixel at the border of a mask. A border is defined\n",
        "as a pixel that is on an exterior edge of a mask (e.g. it does not include the inner pixels of an annular mask).\n",
        "\n",
        "The `BorderScatter` object serves the purpose is allowing us to uniquely customize the appearance of any border on\n",
        "a plot."
      ]
    },
    {
      "cell_type": "code",
      "metadata": {},
      "source": [
        "%matplotlib inline\n",
        "from pyprojroot import here\n",
        "workspace_path = str(here())\n",
        "%cd $workspace_path\n",
        "print(f\"Working Directory has been set to `{workspace_path}`\")\n",
        "\n",
        "from os import path\n",
        "import autolens as al\n",
        "import autolens.plot as aplt"
      ],
      "outputs": [],
      "execution_count": null
    },
    {
      "cell_type": "markdown",
      "metadata": {},
      "source": [
        "First, lets load an example Hubble Space Telescope image of a real strong lens as an `Array2D`."
      ]
    },
    {
      "cell_type": "code",
      "metadata": {},
      "source": [
        "dataset_path = path.join(\"dataset\", \"slacs\", \"slacs1430+4105\")\n",
        "image_path = path.join(dataset_path, \"image.fits\")\n",
        "image = al.Array2D.from_fits(file_path=image_path, hdu=0, pixel_scales=0.03)"
      ],
      "outputs": [],
      "execution_count": null
    },
    {
      "cell_type": "markdown",
      "metadata": {},
      "source": [
        "We will also need a mask whose border we will plot on the figure, which we associate with the image."
      ]
    },
    {
      "cell_type": "code",
      "metadata": {},
      "source": [
        "mask = al.Mask2D.circular_annular(\n",
        "    shape_native=image.shape_native,\n",
        "    pixel_scales=image.pixel_scales,\n",
        "    inner_radius=0.3,\n",
        "    outer_radius=3.0,\n",
        ")\n",
        "masked_image = al.Array2D.manual_mask(array=image.native, mask=mask)"
      ],
      "outputs": [],
      "execution_count": null
    },
    {
      "cell_type": "markdown",
      "metadata": {},
      "source": [
        "The `Array2D` includes a its border as an internal property, meaning we can plot it via an `Include2D` object."
      ]
    },
    {
      "cell_type": "code",
      "metadata": {},
      "source": [
        "include_2d = aplt.Include2D(border=True)\n",
        "array_plotter = aplt.Array2DPlotter(array=masked_image, include_2d=include_2d)\n",
        "array_plotter.figure_2d()"
      ],
      "outputs": [],
      "execution_count": null
    },
    {
      "cell_type": "markdown",
      "metadata": {},
      "source": [
        "The appearance of the border is customized using a `BorderScatter` object.\n",
        "\n",
        "To plot the border this object wraps the following matplotlib method:\n",
        "\n",
        " https://matplotlib.org/3.2.2/api/_as_gen/matplotlib.pyplot.scatter.html"
      ]
    },
    {
      "cell_type": "code",
      "metadata": {},
      "source": [
        "border_scatter = aplt.BorderScatter(marker=\"o\", c=\"r\", s=50)\n",
        "\n",
        "mat_plot_2d = aplt.MatPlot2D(border_scatter=border_scatter)\n",
        "\n",
        "array_plotter = aplt.Array2DPlotter(\n",
        "    array=masked_image, mat_plot_2d=mat_plot_2d, include_2d=include_2d\n",
        ")\n",
        "array_plotter.figure_2d()"
      ],
      "outputs": [],
      "execution_count": null
    },
    {
      "cell_type": "markdown",
      "metadata": {},
      "source": [
        "To plot the border manually, we can pass it into a` Visuals2D` object.\n",
        "\n",
        "This means we don't need to create the `masked_image` array we used above."
      ]
    },
    {
      "cell_type": "code",
      "metadata": {},
      "source": [
        "visuals_2d = aplt.Visuals2D(border=mask.border_grid_1d)\n",
        "\n",
        "array_plotter = aplt.Array2DPlotter(array=image, visuals_2d=visuals_2d)\n",
        "array_plotter.figure_2d()"
      ],
      "outputs": [],
      "execution_count": null
    },
    {
      "cell_type": "markdown",
      "metadata": {},
      "source": [
        "Finish."
      ]
    },
    {
      "cell_type": "code",
      "metadata": {},
      "source": [],
      "outputs": [],
      "execution_count": null
    }
  ],
  "metadata": {
    "anaconda-cloud": {},
    "kernelspec": {
      "display_name": "Python 3",
      "language": "python",
      "name": "python3"
    },
    "language_info": {
      "codemirror_mode": {
        "name": "ipython",
        "version": 3
      },
      "file_extension": ".py",
      "mimetype": "text/x-python",
      "name": "python",
      "nbconvert_exporter": "python",
      "pygments_lexer": "ipython3",
      "version": "3.6.1"
    }
  },
  "nbformat": 4,
  "nbformat_minor": 4
}