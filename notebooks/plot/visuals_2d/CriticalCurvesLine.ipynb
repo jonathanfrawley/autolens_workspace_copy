{
  "cells": [
    {
      "cell_type": "markdown",
      "metadata": {},
      "source": [
        "Plots: CriticalCurvesLine\n",
        "=========================\n",
        "\n",
        "This example illustrates how to customize the critical curves plotted over data."
      ]
    },
    {
      "cell_type": "code",
      "metadata": {},
      "source": [
        "%matplotlib inline\n",
        "from pyprojroot import here\n",
        "workspace_path = str(here())\n",
        "%cd $workspace_path\n",
        "print(f\"Working Directory has been set to `{workspace_path}`\")\n",
        "\n",
        "import autolens as al\n",
        "import autolens.plot as aplt"
      ],
      "outputs": [],
      "execution_count": null
    },
    {
      "cell_type": "markdown",
      "metadata": {},
      "source": [
        "To plot a critical curve, we need a `Tracer` object which performs the strong lensing calculation to\n",
        "produce a critical curve. By default, critical curves are only plotted on image-plane images."
      ]
    },
    {
      "cell_type": "code",
      "metadata": {},
      "source": [
        "lens_galaxy = al.Galaxy(\n",
        "    redshift=0.5,\n",
        "    mass=al.mp.EllipticalIsothermal(\n",
        "        centre=(0.0, 0.0), einstein_radius=1.6, elliptical_comps=(0.2, 0.2)\n",
        "    ),\n",
        ")\n",
        "\n",
        "source_galaxy = al.Galaxy(\n",
        "    redshift=1.0,\n",
        "    bulge=al.lp.SphericalSersic(\n",
        "        centre=(0.1, 0.1), intensity=0.3, effective_radius=1.0, sersic_index=2.5\n",
        "    ),\n",
        ")\n",
        "\n",
        "tracer = al.Tracer.from_galaxies(galaxies=[lens_galaxy, source_galaxy])"
      ],
      "outputs": [],
      "execution_count": null
    },
    {
      "cell_type": "markdown",
      "metadata": {},
      "source": [
        "We also need the `Grid2D` that we can use to make plots of the `Tracer`'s properties."
      ]
    },
    {
      "cell_type": "code",
      "metadata": {},
      "source": [
        "grid = al.Grid2D.uniform(shape_native=(100, 100), pixel_scales=0.05)"
      ],
      "outputs": [],
      "execution_count": null
    },
    {
      "cell_type": "markdown",
      "metadata": {},
      "source": [
        "The `Tracer` includes its critical_curves as an property, meaning we can plot them via an `Include2D` object."
      ]
    },
    {
      "cell_type": "code",
      "metadata": {},
      "source": [
        "include_2d = aplt.Include2D(critical_curves=True, caustics=False)\n",
        "\n",
        "tracer_plotter = aplt.TracerPlotter(tracer=tracer, grid=grid, include_2d=include_2d)\n",
        "tracer_plotter.figures(image=True)\n"
      ],
      "outputs": [],
      "execution_count": null
    },
    {
      "cell_type": "markdown",
      "metadata": {},
      "source": [
        "The appearance of the critical_curves is customized using a `CriticalCurvesPlot` object.\n",
        "\n",
        "To plot the critical_curves this object wraps the following matplotlib method:\n",
        "\n",
        " https://matplotlib.org/3.3.3/api/_as_gen/matplotlib.pyplot.plot.html"
      ]
    },
    {
      "cell_type": "code",
      "metadata": {},
      "source": [
        "critical_curves_plot = aplt.CriticalCurvesPlot(linestyle=\"--\", linewidth=10, c=\"r\")\n",
        "\n",
        "mat_plot_2d = aplt.MatPlot2D(critical_curves_plot=critical_curves_plot)\n",
        "\n",
        "tracer_plotter = aplt.TracerPlotter(\n",
        "    tracer=tracer, grid=grid, include_2d=include_2d, mat_plot_2d=mat_plot_2d\n",
        ")\n",
        "tracer_plotter.figures(image=True)"
      ],
      "outputs": [],
      "execution_count": null
    },
    {
      "cell_type": "markdown",
      "metadata": {},
      "source": [
        "By specifying two colors to the `CriticalCurvesPlot` object the radial and tangential critical_curves\n",
        "will be plotted in different colors.\n",
        "\n",
        "By default, PyAutoLens uses the same alternating colors for the critical_curves and critical_curves, so they \n",
        "appear the same color on image-plane and source-plane figures."
      ]
    },
    {
      "cell_type": "code",
      "metadata": {},
      "source": [
        "critical_curves_plot = aplt.CriticalCurvesPlot(c=[\"r\", \"w\"])\n",
        "\n",
        "mat_plot_2d = aplt.MatPlot2D(critical_curves_plot=critical_curves_plot)\n",
        "\n",
        "tracer_plotter = aplt.TracerPlotter(\n",
        "    tracer=tracer, grid=grid, include_2d=include_2d, mat_plot_2d=mat_plot_2d\n",
        ")\n",
        "tracer_plotter.figures(image=True)\n"
      ],
      "outputs": [],
      "execution_count": null
    },
    {
      "cell_type": "markdown",
      "metadata": {},
      "source": [
        "To plot critical_curves manually, we can pass them into a` Visuals2D` object. This is useful for plotting critical_curves on\n",
        "figures where they are not an internal property, like an `Array2D`."
      ]
    },
    {
      "cell_type": "code",
      "metadata": {},
      "source": [
        "visuals_2d = aplt.Visuals2D(critical_curves=tracer.critical_curves_from_grid(grid=grid))\n",
        "image = tracer.image_from_grid(grid=grid)\n",
        "\n",
        "array_plotter = aplt.Array2DPlotter(\n",
        "    array=image, mat_plot_2d=mat_plot_2d, visuals_2d=visuals_2d\n",
        ")\n",
        "array_plotter.figure()"
      ],
      "outputs": [],
      "execution_count": null
    },
    {
      "cell_type": "markdown",
      "metadata": {},
      "source": [
        "Finish."
      ]
    },
    {
      "cell_type": "code",
      "metadata": {},
      "source": [],
      "outputs": [],
      "execution_count": null
    }
  ],
  "metadata": {
    "anaconda-cloud": {},
    "kernelspec": {
      "display_name": "Python 3",
      "language": "python",
      "name": "python3"
    },
    "language_info": {
      "codemirror_mode": {
        "name": "ipython",
        "version": 3
      },
      "file_extension": ".py",
      "mimetype": "text/x-python",
      "name": "python",
      "nbconvert_exporter": "python",
      "pygments_lexer": "ipython3",
      "version": "3.6.1"
    }
  },
  "nbformat": 4,
  "nbformat_minor": 4
}