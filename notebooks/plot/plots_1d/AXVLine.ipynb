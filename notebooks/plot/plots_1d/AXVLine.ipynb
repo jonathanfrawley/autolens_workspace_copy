{
 "cells": [
  {
   "cell_type": "markdown",
   "metadata": {},
   "source": [
    "Plots: AVXLine\n",
    "==============\n",
    "\n",
    "This example illustrates how to plot vertical lines on a 1D Matplotlib figure and subplots."
   ]
  },
  {
   "cell_type": "code",
   "execution_count": 1,
   "metadata": {
    "execution": {
     "iopub.execute_input": "2021-03-06T12:10:23.723378Z",
     "iopub.status.busy": "2021-03-06T12:10:23.722996Z",
     "iopub.status.idle": "2021-03-06T12:10:27.185095Z",
     "shell.execute_reply": "2021-03-06T12:10:27.185367Z"
    }
   },
   "outputs": [
    {
     "name": "stdout",
     "output_type": "stream",
     "text": [
      "/mnt/c/Users/Jammy/Code/PyAuto/autolens_workspace\n",
      "Working Directory has been set to `/mnt/c/Users/Jammy/Code/PyAuto/autolens_workspace`\n"
     ]
    }
   ],
   "source": [
    "%matplotlib inline\n",
    "from pyprojroot import here\n",
    "workspace_path = str(here())\n",
    "%cd $workspace_path\n",
    "print(f\"Working Directory has been set to `{workspace_path}`\")\n",
    "\n",
    "from os import path\n",
    "import autolens as al\n",
    "import autolens.plot as aplt"
   ]
  },
  {
   "cell_type": "markdown",
   "metadata": {},
   "source": [
    "First, lets create 1D data for the plot."
   ]
  },
  {
   "cell_type": "code",
   "execution_count": 2,
   "metadata": {
    "execution": {
     "iopub.execute_input": "2021-03-06T12:10:27.188118Z",
     "iopub.status.busy": "2021-03-06T12:10:27.187816Z",
     "iopub.status.idle": "2021-03-06T12:10:27.190110Z",
     "shell.execute_reply": "2021-03-06T12:10:27.189798Z"
    }
   },
   "outputs": [],
   "source": [
    "y = [1.0, 2.0, 3.0, 4.0, 5.0]\n",
    "x = [1.0, 2.0, 3.0, 4.0, 5.0]"
   ]
  },
  {
   "cell_type": "markdown",
   "metadata": {},
   "source": [
    "We can plot a vertical line on the y vs x plot using the `AXVLine` matplotlib wrapper object which wraps the \n",
    "following method(s):\n",
    "\n",
    " plt.axvline: https://matplotlib.org/3.3.2/api/_as_gen/matplotlib.pyplot.axvline.html"
   ]
  },
  {
   "cell_type": "code",
   "execution_count": 3,
   "metadata": {
    "execution": {
     "iopub.execute_input": "2021-03-06T12:10:27.192158Z",
     "iopub.status.busy": "2021-03-06T12:10:27.191858Z",
     "iopub.status.idle": "2021-03-06T12:10:27.193269Z",
     "shell.execute_reply": "2021-03-06T12:10:27.193523Z"
    }
   },
   "outputs": [],
   "source": [
    "pass\n",
    "# line_plotter = aplt.Array1DPlotter()"
   ]
  },
  {
   "cell_type": "markdown",
   "metadata": {},
   "source": [
    "Finish."
   ]
  },
  {
   "cell_type": "code",
   "execution_count": null,
   "metadata": {},
   "outputs": [],
   "source": []
  }
 ],
 "metadata": {
  "anaconda-cloud": {},
  "kernelspec": {
   "display_name": "Python 3",
   "language": "python",
   "name": "python3"
  },
  "language_info": {
   "codemirror_mode": {
    "name": "ipython",
    "version": 3
   },
   "file_extension": ".py",
   "mimetype": "text/x-python",
   "name": "python",
   "nbconvert_exporter": "python",
   "pygments_lexer": "ipython3",
   "version": "3.8.5"
  }
 },
 "nbformat": 4,
 "nbformat_minor": 4
}
