{
 "cells": [
  {
   "cell_type": "markdown",
   "metadata": {},
   "source": [
    "Plots: AVXLine\n",
    "==============\n",
    "\n",
    "This example illustrates how to plot vertical lines on a 1D Matplotlib figure and subplots."
   ]
  },
  {
   "cell_type": "code",
   "execution_count": 1,
   "metadata": {
    "execution": {
     "iopub.execute_input": "2021-04-15T18:15:20.020613Z",
     "iopub.status.busy": "2021-04-15T18:15:20.020262Z",
     "iopub.status.idle": "2021-04-15T18:15:28.738776Z",
     "shell.execute_reply": "2021-04-15T18:15:28.739036Z"
    }
   },
   "outputs": [
    {
     "name": "stdout",
     "output_type": "stream",
     "text": [
      "/mnt/c/Users/Jammy/Code/PyAuto/autolens_workspace\n",
      "Working Directory has been set to `/mnt/c/Users/Jammy/Code/PyAuto/autolens_workspace`\n"
     ]
    }
   ],
   "source": [
    "%matplotlib inline\n",
    "from pyprojroot import here\n",
    "workspace_path = str(here())\n",
    "%cd $workspace_path\n",
    "print(f\"Working Directory has been set to `{workspace_path}`\")\n",
    "\n",
    "from os import path\n",
    "import autolens as al\n",
    "import autolens.plot as aplt"
   ]
  },
  {
   "cell_type": "markdown",
   "metadata": {},
   "source": [
    "First, lets create 1D data for the plot."
   ]
  },
  {
   "cell_type": "code",
   "execution_count": 2,
   "metadata": {
    "execution": {
     "iopub.execute_input": "2021-04-15T18:15:28.741871Z",
     "iopub.status.busy": "2021-04-15T18:15:28.741565Z",
     "iopub.status.idle": "2021-04-15T18:15:28.743442Z",
     "shell.execute_reply": "2021-04-15T18:15:28.743709Z"
    }
   },
   "outputs": [],
   "source": [
    "y = [1.0, 2.0, 3.0, 4.0, 5.0]\n",
    "x = [1.0, 2.0, 3.0, 4.0, 5.0]"
   ]
  },
  {
   "cell_type": "markdown",
   "metadata": {},
   "source": [
    "We can plot a vertical line on the y vs x plot using the `AXVLine` matplotlib wrapper object which wraps the \n",
    "following method(s):\n",
    "\n",
    " plt.axvline: https://matplotlib.org/3.3.2/api/_as_gen/matplotlib.pyplot.axvline.html"
   ]
  },
  {
   "cell_type": "code",
   "execution_count": 3,
   "metadata": {
    "execution": {
     "iopub.execute_input": "2021-04-15T18:15:28.745861Z",
     "iopub.status.busy": "2021-04-15T18:15:28.745535Z",
     "iopub.status.idle": "2021-04-15T18:15:28.747452Z",
     "shell.execute_reply": "2021-04-15T18:15:28.747100Z"
    }
   },
   "outputs": [],
   "source": [
    "pass\n",
    "# line_plotter = aplt.Array1DPlotter()"
   ]
  },
  {
   "cell_type": "markdown",
   "metadata": {},
   "source": [
    "Finish."
   ]
  },
  {
   "cell_type": "code",
   "execution_count": null,
   "metadata": {},
   "outputs": [],
   "source": []
  }
 ],
 "metadata": {
  "anaconda-cloud": {},
  "kernelspec": {
   "display_name": "Python 3",
   "language": "python",
   "name": "python3"
  },
  "language_info": {
   "codemirror_mode": {
    "name": "ipython",
    "version": 3
   },
   "file_extension": ".py",
   "mimetype": "text/x-python",
   "name": "python",
   "nbconvert_exporter": "python",
   "pygments_lexer": "ipython3",
   "version": "3.8.5"
  }
 },
 "nbformat": 4,
 "nbformat_minor": 4
}
