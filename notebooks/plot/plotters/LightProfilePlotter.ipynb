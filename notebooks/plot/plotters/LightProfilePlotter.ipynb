{
  "cells": [
    {
      "cell_type": "markdown",
      "metadata": {},
      "source": [
        "Plots: LightProfilePlotter\n",
        "==========================\n",
        "\n",
        "This example illustrates how to plot a `LightProfile` using a `LightProfilePlotter`."
      ]
    },
    {
      "cell_type": "code",
      "metadata": {},
      "source": [
        "%matplotlib inline\n",
        "from pyprojroot import here\n",
        "workspace_path = str(here())\n",
        "%cd $workspace_path\n",
        "print(f\"Working Directory has been set to `{workspace_path}`\")\n",
        "\n",
        "import autolens as al\n",
        "import autolens.plot as aplt"
      ],
      "outputs": [],
      "execution_count": null
    },
    {
      "cell_type": "markdown",
      "metadata": {},
      "source": [
        "First, lets create a simple `LightProfile` which we'll plot."
      ]
    },
    {
      "cell_type": "code",
      "metadata": {},
      "source": [
        "bulge = al.lp.EllipticalSersic(\n",
        "    centre=(0.0, 0.0),\n",
        "    elliptical_comps=al.convert.elliptical_comps_from(axis_ratio=0.9, phi=45.0),\n",
        "    intensity=1.0,\n",
        "    effective_radius=0.8,\n",
        "    sersic_index=4.0,\n",
        ")"
      ],
      "outputs": [],
      "execution_count": null
    },
    {
      "cell_type": "markdown",
      "metadata": {},
      "source": [
        "We also need the 2D grid the `LightProfile` is evaluated on."
      ]
    },
    {
      "cell_type": "code",
      "metadata": {},
      "source": [
        "grid = al.Grid2D.uniform(shape_native=(100, 100), pixel_scales=0.05)"
      ],
      "outputs": [],
      "execution_count": null
    },
    {
      "cell_type": "markdown",
      "metadata": {},
      "source": [
        "We now pass the light profile and grid to a `LightProfilePlotter` and call various `figure_*` methods to \n",
        "plot different attributes."
      ]
    },
    {
      "cell_type": "code",
      "metadata": {},
      "source": [
        "light_profile_plotter = aplt.LightProfilePlotter(light_profile=bulge, grid=grid)\n",
        "light_profile_plotter.figures_1d(image=True)\n",
        "light_profile_plotter.figures(image=True)"
      ],
      "outputs": [],
      "execution_count": null
    },
    {
      "cell_type": "markdown",
      "metadata": {},
      "source": [
        "A `LightProfile` and its `Grid2D` contains the following attributes which can be plotted automatically via \n",
        "the `Include2D` object.\n",
        "\n",
        "(By default, a `Grid2D` does not contain a `Mask2D`, we therefore manually created a `Grid2D` with a mask to illustrate\n",
        "plotting its mask and border below)."
      ]
    },
    {
      "cell_type": "code",
      "metadata": {},
      "source": [
        "mask = al.Mask2D.circular(\n",
        "    shape_native=grid.shape_native,\n",
        "    pixel_scales=grid.pixel_scales,\n",
        "    radius=2.0,\n",
        "    sub_size=grid.sub_size,\n",
        ")\n",
        "masked_grid = al.Grid2D.from_mask(mask=mask)\n",
        "\n",
        "include_2d = aplt.Include2D(\n",
        "    origin=True, mask=True, border=True, light_profile_centres=True\n",
        ")\n",
        "light_profile_plotter = aplt.LightProfilePlotter(\n",
        "    light_profile=bulge, grid=masked_grid, include_2d=include_2d\n",
        ")\n",
        "light_profile_plotter.figures(image=True)"
      ],
      "outputs": [],
      "execution_count": null
    },
    {
      "cell_type": "markdown",
      "metadata": {},
      "source": [
        "Finish."
      ]
    },
    {
      "cell_type": "code",
      "metadata": {},
      "source": [],
      "outputs": [],
      "execution_count": null
    }
  ],
  "metadata": {
    "anaconda-cloud": {},
    "kernelspec": {
      "display_name": "Python 3",
      "language": "python",
      "name": "python3"
    },
    "language_info": {
      "codemirror_mode": {
        "name": "ipython",
        "version": 3
      },
      "file_extension": ".py",
      "mimetype": "text/x-python",
      "name": "python",
      "nbconvert_exporter": "python",
      "pygments_lexer": "ipython3",
      "version": "3.6.1"
    }
  },
  "nbformat": 4,
  "nbformat_minor": 4
}