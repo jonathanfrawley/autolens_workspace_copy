{
  "cells": [
    {
      "cell_type": "markdown",
      "metadata": {},
      "source": [
        "Plots: Array2DPlotter\n",
        "=====================\n",
        "\n",
        "This example illustrates how to plot an `Array2D` data structure using an `Array2DPlotter`."
      ]
    },
    {
      "cell_type": "code",
      "metadata": {},
      "source": [
        "%matplotlib inline\n",
        "from pyprojroot import here\n",
        "workspace_path = str(here())\n",
        "%cd $workspace_path\n",
        "print(f\"Working Directory has been set to `{workspace_path}`\")\n",
        "\n",
        "from os import path\n",
        "import autolens as al\n",
        "import autolens.plot as aplt"
      ],
      "outputs": [],
      "execution_count": null
    },
    {
      "cell_type": "markdown",
      "metadata": {},
      "source": [
        "First, lets load an example image of of a strong lens as an `Array2D`."
      ]
    },
    {
      "cell_type": "code",
      "metadata": {},
      "source": [
        "dataset_path = path.join(\"dataset\", \"slacs\", \"slacs1430+4105\")\n",
        "image_path = path.join(dataset_path, \"image.fits\")\n",
        "image = al.Array2D.from_fits(file_path=image_path, hdu=0, pixel_scales=0.03)"
      ],
      "outputs": [],
      "execution_count": null
    },
    {
      "cell_type": "markdown",
      "metadata": {},
      "source": [
        "We now pass the array to an `Array2DPlotter` and call the `figure` method."
      ]
    },
    {
      "cell_type": "code",
      "metadata": {},
      "source": [
        "array_plotter = aplt.Array2DPlotter(array=image)\n",
        "array_plotter.figure_2d()"
      ],
      "outputs": [],
      "execution_count": null
    },
    {
      "cell_type": "markdown",
      "metadata": {},
      "source": [
        "An `Array2D` contains the following attributes which can be plotted automatically via the `Include2D` object.\n",
        "\n",
        "(By default, an `Array2D` does not contain a `Mask2D`, we therefore manually created an `Array2D` with a mask to illustrate\n",
        "plotting its mask and border below)."
      ]
    },
    {
      "cell_type": "code",
      "metadata": {},
      "source": [
        "mask = al.Mask2D.circular_annular(\n",
        "    shape_native=image.shape_native,\n",
        "    pixel_scales=image.pixel_scales,\n",
        "    inner_radius=0.3,\n",
        "    outer_radius=3.0,\n",
        ")\n",
        "masked_image = al.Array2D.manual_mask(array=image.native, mask=mask)\n",
        "\n",
        "include_2d = aplt.Include2D(origin=True, mask=True, border=True)\n",
        "\n",
        "array_plotter = aplt.Array2DPlotter(array=masked_image, include_2d=include_2d)\n",
        "array_plotter.figure_2d()"
      ],
      "outputs": [],
      "execution_count": null
    },
    {
      "cell_type": "markdown",
      "metadata": {},
      "source": [
        "Finish."
      ]
    },
    {
      "cell_type": "code",
      "metadata": {},
      "source": [],
      "outputs": [],
      "execution_count": null
    }
  ],
  "metadata": {
    "anaconda-cloud": {},
    "kernelspec": {
      "display_name": "Python 3",
      "language": "python",
      "name": "python3"
    },
    "language_info": {
      "codemirror_mode": {
        "name": "ipython",
        "version": 3
      },
      "file_extension": ".py",
      "mimetype": "text/x-python",
      "name": "python",
      "nbconvert_exporter": "python",
      "pygments_lexer": "ipython3",
      "version": "3.6.1"
    }
  },
  "nbformat": 4,
  "nbformat_minor": 4
}