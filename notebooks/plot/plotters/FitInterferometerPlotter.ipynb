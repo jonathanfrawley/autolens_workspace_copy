{
  "cells": [
    {
      "cell_type": "markdown",
      "metadata": {},
      "source": [
        "Plots: FitInterferometerPlotter\n",
        "===============================\n",
        "\n",
        "This example illustrates how to plot an `FitInterferometer` object using an `FitInterferometerPlotter`."
      ]
    },
    {
      "cell_type": "code",
      "metadata": {},
      "source": [
        "%matplotlib inline\n",
        "from pyprojroot import here\n",
        "workspace_path = str(here())\n",
        "%cd $workspace_path\n",
        "print(f\"Working Directory has been set to `{workspace_path}`\")\n",
        "\n",
        "from os import path\n",
        "import numpy as np\n",
        "import autolens as al\n",
        "import autolens.plot as aplt"
      ],
      "outputs": [],
      "execution_count": null
    },
    {
      "cell_type": "markdown",
      "metadata": {},
      "source": [
        "First, lets load example interferometer of of a strong lens as an `Interferometer` object."
      ]
    },
    {
      "cell_type": "code",
      "metadata": {},
      "source": [
        "dataset_name = \"mass_sie__source_sersic\"\n",
        "dataset_path = path.join(\"dataset\", \"interferometer\", dataset_name)\n",
        "\n",
        "interferometer = al.Interferometer.from_fits(\n",
        "    visibilities_path=path.join(dataset_path, \"visibilities.fits\"),\n",
        "    noise_map_path=path.join(dataset_path, \"noise_map.fits\"),\n",
        "    uv_wavelengths_path=path.join(dataset_path, \"uv_wavelengths.fits\"),\n",
        ")"
      ],
      "outputs": [],
      "execution_count": null
    },
    {
      "cell_type": "markdown",
      "metadata": {},
      "source": [
        "We now mask the data and fit it with a `Tracer` to create a `FitInterferometer` object."
      ]
    },
    {
      "cell_type": "code",
      "metadata": {},
      "source": [
        "real_space_mask = al.Mask2D.circular(\n",
        "    shape_native=(200, 200), pixel_scales=0.05, radius=3.0\n",
        ")\n",
        "visibilities_mask = np.full(fill_value=False, shape=interferometer.visibilities.shape)\n",
        "\n",
        "masked_interferometer = al.MaskedInterferometer(\n",
        "    interferometer=interferometer,\n",
        "    visibilities_mask=visibilities_mask,\n",
        "    real_space_mask=real_space_mask,\n",
        "    settings=al.SettingsMaskedInterferometer(transformer_class=al.TransformerNUFFT),\n",
        ")\n",
        "\n",
        "lens_galaxy = al.Galaxy(\n",
        "    redshift=0.5,\n",
        "    mass=al.mp.EllipticalIsothermal(\n",
        "        centre=(0.0, 0.0),\n",
        "        einstein_radius=1.6,\n",
        "        elliptical_comps=al.convert.elliptical_comps_from(axis_ratio=0.9, phi=45.0),\n",
        "    ),\n",
        ")\n",
        "\n",
        "source_galaxy = al.Galaxy(\n",
        "    redshift=1.0,\n",
        "    bulge=al.lp.EllipticalSersic(\n",
        "        centre=(0.1, 0.1),\n",
        "        elliptical_comps=al.convert.elliptical_comps_from(axis_ratio=0.8, phi=60.0),\n",
        "        intensity=0.3,\n",
        "        effective_radius=1.0,\n",
        "        sersic_index=2.5,\n",
        "    ),\n",
        ")\n",
        "\n",
        "tracer = al.Tracer.from_galaxies(galaxies=[lens_galaxy, source_galaxy])\n",
        "\n",
        "fit = al.FitInterferometer(masked_interferometer=masked_interferometer, tracer=tracer)"
      ],
      "outputs": [],
      "execution_count": null
    },
    {
      "cell_type": "markdown",
      "metadata": {},
      "source": [
        "We now pass the FitInterferometer to an `FitInterferometerPlotter` and call various `figure_*` methods \n",
        "to plot different attributes."
      ]
    },
    {
      "cell_type": "code",
      "metadata": {},
      "source": [
        "fit_interferometer_plotter = aplt.FitInterferometerPlotter(fit=fit)\n",
        "fit_interferometer_plotter.figures(\n",
        "    visibilities=True,\n",
        "    noise_map=True,\n",
        "    signal_to_noise_map=True,\n",
        "    model_visibilities=True,\n",
        "    residual_map_real=True,\n",
        "    residual_map_imag=True,\n",
        "    normalized_residual_map_real=True,\n",
        "    normalized_residual_map_imag=True,\n",
        "    chi_squared_map_real=True,\n",
        "    chi_squared_map_imag=True,\n",
        ")"
      ],
      "outputs": [],
      "execution_count": null
    },
    {
      "cell_type": "markdown",
      "metadata": {},
      "source": [
        "The `FitInterferometerPlotter` may also plot a subplot of these attributes."
      ]
    },
    {
      "cell_type": "code",
      "metadata": {},
      "source": [
        "fit_interferometer_plotter.subplot_fit_interferometer()"
      ],
      "outputs": [],
      "execution_count": null
    },
    {
      "cell_type": "markdown",
      "metadata": {},
      "source": [
        "It can plot of the image of an input plane, where this image is the real-space image of the `Tracer`."
      ]
    },
    {
      "cell_type": "code",
      "metadata": {},
      "source": [
        "fit_interferometer_plotter.figures(image=True)"
      ],
      "outputs": [],
      "execution_count": null
    },
    {
      "cell_type": "markdown",
      "metadata": {},
      "source": [
        "It can also plot the plane-image of a plane, that is what the source galaxy looks like without lensing (e.g. \n",
        "for `plane_index=1` this is the source-plane image)"
      ]
    },
    {
      "cell_type": "code",
      "metadata": {},
      "source": [
        "fit_interferometer_plotter.figures_of_planes(plane_image=True, plane_index=0)\n",
        "fit_interferometer_plotter.figures_of_planes(plane_image=True, plane_index=1)"
      ],
      "outputs": [],
      "execution_count": null
    },
    {
      "cell_type": "markdown",
      "metadata": {},
      "source": [
        "These can be combined to plot the appearance of the galaxy in real-space."
      ]
    },
    {
      "cell_type": "code",
      "metadata": {},
      "source": [
        "fit_interferometer_plotter.subplot_fit_real_space()"
      ],
      "outputs": [],
      "execution_count": null
    },
    {
      "cell_type": "markdown",
      "metadata": {},
      "source": [
        "Finish."
      ]
    },
    {
      "cell_type": "code",
      "metadata": {},
      "source": [],
      "outputs": [],
      "execution_count": null
    }
  ],
  "metadata": {
    "anaconda-cloud": {},
    "kernelspec": {
      "display_name": "Python 3",
      "language": "python",
      "name": "python3"
    },
    "language_info": {
      "codemirror_mode": {
        "name": "ipython",
        "version": 3
      },
      "file_extension": ".py",
      "mimetype": "text/x-python",
      "name": "python",
      "nbconvert_exporter": "python",
      "pygments_lexer": "ipython3",
      "version": "3.6.1"
    }
  },
  "nbformat": 4,
  "nbformat_minor": 4
}