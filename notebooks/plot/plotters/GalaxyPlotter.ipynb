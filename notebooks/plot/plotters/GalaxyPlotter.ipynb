{
  "cells": [
    {
      "cell_type": "markdown",
      "metadata": {},
      "source": [
        "Plots: GalaxyPlotter\n",
        "====================\n",
        "\n",
        "This example illustrates how to plot a `Galaxy` using a `GalaxyPlotter`."
      ]
    },
    {
      "cell_type": "code",
      "metadata": {},
      "source": [
        "%matplotlib inline\n",
        "from pyprojroot import here\n",
        "workspace_path = str(here())\n",
        "%cd $workspace_path\n",
        "print(f\"Working Directory has been set to `{workspace_path}`\")\n",
        "\n",
        "import autolens as al\n",
        "import autolens.plot as aplt"
      ],
      "outputs": [],
      "execution_count": null
    },
    {
      "cell_type": "markdown",
      "metadata": {},
      "source": [
        "First, lets create a `Galaxy` with multiple `LightProfile`'s and a `MassProfile`."
      ]
    },
    {
      "cell_type": "code",
      "metadata": {},
      "source": [
        "bulge = al.lp.EllSersic(\n",
        "    centre=(0.0, -0.05),\n",
        "    elliptical_comps=al.convert.elliptical_comps_from(axis_ratio=0.9, angle=45.0),\n",
        "    intensity=4.0,\n",
        "    effective_radius=0.6,\n",
        "    sersic_index=3.0,\n",
        ")\n",
        "\n",
        "disk = al.lp.EllExponential(\n",
        "    centre=(0.0, 0.05),\n",
        "    elliptical_comps=al.convert.elliptical_comps_from(axis_ratio=0.7, angle=30.0),\n",
        "    intensity=2.0,\n",
        "    effective_radius=1.6,\n",
        ")\n",
        "\n",
        "mass = al.mp.EllIsothermal(\n",
        "    centre=(0.0, 0.0),\n",
        "    einstein_radius=0.8,\n",
        "    elliptical_comps=al.convert.elliptical_comps_from(axis_ratio=0.7, angle=45.0),\n",
        ")\n",
        "\n",
        "galaxy = al.Galaxy(redshift=0.5, bulge=bulge, disk=disk, mass=mass)"
      ],
      "outputs": [],
      "execution_count": null
    },
    {
      "cell_type": "markdown",
      "metadata": {},
      "source": [
        "We also need the 2D grid the `Galaxy`'s `Profile`'s are evaluated on."
      ]
    },
    {
      "cell_type": "code",
      "metadata": {},
      "source": [
        "grid = al.Grid2D.uniform(shape_native=(100, 100), pixel_scales=0.05)"
      ],
      "outputs": [],
      "execution_count": null
    },
    {
      "cell_type": "markdown",
      "metadata": {},
      "source": [
        "We now pass the galaxy and grid to a `GalaxyPlotter` and call various `figure_*` methods to \n",
        "plot different attributes."
      ]
    },
    {
      "cell_type": "code",
      "metadata": {},
      "source": [
        "galaxy_plotter = aplt.GalaxyPlotter(galaxy=galaxy, grid=grid)\n",
        "galaxy_plotter.figures_2d(\n",
        "    image=True,\n",
        "    convergence=True,\n",
        "    potential=False,\n",
        "    deflections_y=True,\n",
        "    deflections_x=True,\n",
        "    magnification=True,\n",
        ")"
      ],
      "outputs": [],
      "execution_count": null
    },
    {
      "cell_type": "markdown",
      "metadata": {},
      "source": [
        "The `GalaxyPlotter` also has subplot method that plot each individual `Profile` in 2D as well as a 1D plot showing all\n",
        "`Profiles` together."
      ]
    },
    {
      "cell_type": "code",
      "metadata": {},
      "source": [
        "galaxy_plotter.subplot_of_light_profiles(image=True)\n",
        "galaxy_plotter.subplot_of_mass_profiles(\n",
        "    convergence=True, potential=True, deflections_y=True, deflections_x=True\n",
        ")"
      ],
      "outputs": [],
      "execution_count": null
    },
    {
      "cell_type": "markdown",
      "metadata": {},
      "source": [
        "A `Galaxy` and its `Grid2D` contains the following attributes which can be plotted automatically via \n",
        "the `Include2D` object.\n",
        "\n",
        "(By default, a `Grid2D` does not contain a `Mask2D`, we therefore manually created a `Grid2D` with a mask to illustrate\n",
        "plotting its mask and border below)."
      ]
    },
    {
      "cell_type": "code",
      "metadata": {},
      "source": [
        "mask = al.Mask2D.circular(\n",
        "    shape_native=grid.shape_native, pixel_scales=grid.pixel_scales, radius=2.0\n",
        ")\n",
        "masked_grid = al.Grid2D.from_mask(mask=mask)\n",
        "\n",
        "include_2d = aplt.Include2D(\n",
        "    origin=True,\n",
        "    mask=True,\n",
        "    border=True,\n",
        "    light_profile_centres=True,\n",
        "    mass_profile_centres=True,\n",
        "    critical_curves=True,\n",
        ")\n",
        "galaxy_plotter = aplt.GalaxyPlotter(\n",
        "    galaxy=galaxy, grid=masked_grid, include_2d=include_2d\n",
        ")\n",
        "galaxy_plotter.figures_2d(image=True)"
      ],
      "outputs": [],
      "execution_count": null
    },
    {
      "cell_type": "markdown",
      "metadata": {},
      "source": [
        "Finish."
      ]
    },
    {
      "cell_type": "code",
      "metadata": {},
      "source": [],
      "outputs": [],
      "execution_count": null
    }
  ],
  "metadata": {
    "anaconda-cloud": {},
    "kernelspec": {
      "display_name": "Python 3",
      "language": "python",
      "name": "python3"
    },
    "language_info": {
      "codemirror_mode": {
        "name": "ipython",
        "version": 3
      },
      "file_extension": ".py",
      "mimetype": "text/x-python",
      "name": "python",
      "nbconvert_exporter": "python",
      "pygments_lexer": "ipython3",
      "version": "3.6.1"
    }
  },
  "nbformat": 4,
  "nbformat_minor": 4
}