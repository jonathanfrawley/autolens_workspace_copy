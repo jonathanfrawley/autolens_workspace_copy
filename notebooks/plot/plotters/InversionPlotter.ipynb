{
  "cells": [
    {
      "cell_type": "markdown",
      "metadata": {},
      "source": [
        "Plots: InversionPlotter\n",
        "=======================\n",
        "\n",
        "This example illustrates how to plot a `Inversion` using a `InversionPlotter`."
      ]
    },
    {
      "cell_type": "code",
      "metadata": {},
      "source": [
        "%matplotlib inline\n",
        "from pyprojroot import here\n",
        "workspace_path = str(here())\n",
        "%cd $workspace_path\n",
        "print(f\"Working Directory has been set to `{workspace_path}`\")\n",
        "\n",
        "from os import path\n",
        "import autolens as al\n",
        "import autolens.plot as aplt"
      ],
      "outputs": [],
      "execution_count": null
    },
    {
      "cell_type": "markdown",
      "metadata": {},
      "source": [
        "First, lets load example imaging of of a strong lens as an `Imaging` object."
      ]
    },
    {
      "cell_type": "code",
      "metadata": {},
      "source": [
        "dataset_name = \"mass_sie__source_sersic\"\n",
        "dataset_path = path.join(\"dataset\", \"imaging\", \"no_lens_light\", dataset_name)\n",
        "\n",
        "imaging = al.Imaging.from_fits(\n",
        "    image_path=path.join(dataset_path, \"image.fits\"),\n",
        "    psf_path=path.join(dataset_path, \"psf.fits\"),\n",
        "    noise_map_path=path.join(dataset_path, \"noise_map.fits\"),\n",
        "    pixel_scales=0.1,\n",
        ")"
      ],
      "outputs": [],
      "execution_count": null
    },
    {
      "cell_type": "markdown",
      "metadata": {},
      "source": [
        "We now mask the `Imaging` data so we can fit it with an `Inversion`."
      ]
    },
    {
      "cell_type": "code",
      "metadata": {},
      "source": [
        "mask = al.Mask2D.circular_annular(\n",
        "    shape_native=imaging.shape_native,\n",
        "    pixel_scales=imaging.pixel_scales,\n",
        "    sub_size=1,\n",
        "    inner_radius=0.3,\n",
        "    outer_radius=3.0,\n",
        ")\n",
        "masked_imaging = al.MaskedImaging(\n",
        "    imaging=imaging, mask=mask, settings=al.SettingsMaskedImaging(sub_size=2)\n",
        ")"
      ],
      "outputs": [],
      "execution_count": null
    },
    {
      "cell_type": "markdown",
      "metadata": {},
      "source": [
        "The `Inversion` maps pixels from the image-plane of our `Imaging` data to its source plane, via a lens model.\n",
        "\n",
        "Lets create a `Tracer` which we will use to create the `Inversion`."
      ]
    },
    {
      "cell_type": "code",
      "metadata": {},
      "source": [
        "lens_galaxy = al.Galaxy(\n",
        "    redshift=0.5,\n",
        "    mass=al.mp.EllipticalIsothermal(\n",
        "        centre=(0.0, 0.0), elliptical_comps=(0.111111, 0.0), einstein_radius=1.6\n",
        "    ),\n",
        ")\n",
        "source_galaxy = al.Galaxy(\n",
        "    redshift=1.0,\n",
        "    pixelization=al.pix.VoronoiMagnification(shape=(25, 25)),\n",
        "    regularization=al.reg.Constant(coefficient=1.0),\n",
        ")\n",
        "\n",
        "tracer = al.Tracer.from_galaxies(galaxies=[lens_galaxy, source_galaxy])"
      ],
      "outputs": [],
      "execution_count": null
    },
    {
      "cell_type": "markdown",
      "metadata": {},
      "source": [
        "We can extract the `Inversion` from the `Tracer` by passing it the masked data."
      ]
    },
    {
      "cell_type": "code",
      "metadata": {},
      "source": [
        "inversion = tracer.inversion_imaging_from_grid_and_data(\n",
        "    grid=masked_imaging.grid,\n",
        "    image=masked_imaging.image,\n",
        "    noise_map=masked_imaging.noise_map,\n",
        "    convolver=masked_imaging.convolver,\n",
        ")"
      ],
      "outputs": [],
      "execution_count": null
    },
    {
      "cell_type": "markdown",
      "metadata": {},
      "source": [
        "We now pass the inversion to a `InversionPlotter` and call various `figure_*` methods to plot different attributes."
      ]
    },
    {
      "cell_type": "code",
      "metadata": {},
      "source": [
        "inversion_plotter = aplt.InversionPlotter(inversion=inversion)\n",
        "inversion_plotter.figures(\n",
        "    reconstructed_image=True,\n",
        "    reconstruction=True,\n",
        "    errors=True,\n",
        "    residual_map=True,\n",
        "    normalized_residual_map=True,\n",
        "    chi_squared_map=True,\n",
        "    regularization_weights=True,\n",
        "    interpolated_reconstruction=True,\n",
        "    interpolated_errors=True,\n",
        ")"
      ],
      "outputs": [],
      "execution_count": null
    },
    {
      "cell_type": "markdown",
      "metadata": {},
      "source": [
        "The `Inversion` attributes can also be plotted as a subplot."
      ]
    },
    {
      "cell_type": "code",
      "metadata": {},
      "source": [
        "inversion_plotter = aplt.InversionPlotter(inversion=inversion)\n",
        "inversion_plotter.subplot_inversion()"
      ],
      "outputs": [],
      "execution_count": null
    },
    {
      "cell_type": "markdown",
      "metadata": {},
      "source": [
        "Inversion`'s have their own unique attributes that can be plotted via the `Include2D` class:"
      ]
    },
    {
      "cell_type": "code",
      "metadata": {},
      "source": [
        "include_2d = aplt.Include2D(\n",
        "    origin=True,\n",
        "    mask=True,\n",
        "    border=True,\n",
        "    mapper_data_pixelization_grid=True,\n",
        "    mapper_source_pixelization_grid=True,\n",
        "    mapper_source_grid_slim=True,\n",
        ")\n",
        "\n",
        "inversion_plotter = aplt.InversionPlotter(inversion=inversion, include_2d=include_2d)\n",
        "inversion_plotter.figures(reconstructed_image=True, reconstruction=True)"
      ],
      "outputs": [],
      "execution_count": null
    },
    {
      "cell_type": "markdown",
      "metadata": {},
      "source": [
        "Finish."
      ]
    },
    {
      "cell_type": "code",
      "metadata": {},
      "source": [],
      "outputs": [],
      "execution_count": null
    }
  ],
  "metadata": {
    "anaconda-cloud": {},
    "kernelspec": {
      "display_name": "Python 3",
      "language": "python",
      "name": "python3"
    },
    "language_info": {
      "codemirror_mode": {
        "name": "ipython",
        "version": 3
      },
      "file_extension": ".py",
      "mimetype": "text/x-python",
      "name": "python",
      "nbconvert_exporter": "python",
      "pygments_lexer": "ipython3",
      "version": "3.6.1"
    }
  },
  "nbformat": 4,
  "nbformat_minor": 4
}