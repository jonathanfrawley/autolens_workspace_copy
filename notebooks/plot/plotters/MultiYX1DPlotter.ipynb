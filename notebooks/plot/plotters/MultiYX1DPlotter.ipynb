{
 "cells": [
  {
   "cell_type": "markdown",
   "metadata": {},
   "source": [
    "Plots: MultiYX1DPlotter\n",
    "=========================\n",
    "\n",
    "This example illustrates how to plot multi 1D figure lines on the same plot.\n",
    "\n",
    "It uses the specific example of plotting a `MassProfile`'s 1D convergence using multiple `MassProfilePlotter`'s."
   ]
  },
  {
   "cell_type": "code",
   "execution_count": 1,
   "metadata": {
    "execution": {
     "iopub.execute_input": "2021-04-15T18:19:33.921907Z",
     "iopub.status.busy": "2021-04-15T18:19:33.921547Z",
     "iopub.status.idle": "2021-04-15T18:19:42.822236Z",
     "shell.execute_reply": "2021-04-15T18:19:42.822504Z"
    }
   },
   "outputs": [
    {
     "name": "stdout",
     "output_type": "stream",
     "text": [
      "/mnt/c/Users/Jammy/Code/PyAuto/autolens_workspace\n",
      "Working Directory has been set to `/mnt/c/Users/Jammy/Code/PyAuto/autolens_workspace`\n"
     ]
    }
   ],
   "source": [
    "%matplotlib inline\n",
    "from pyprojroot import here\n",
    "workspace_path = str(here())\n",
    "%cd $workspace_path\n",
    "print(f\"Working Directory has been set to `{workspace_path}`\")\n",
    "\n",
    "import autolens as al\n",
    "import autolens.plot as aplt"
   ]
  },
  {
   "cell_type": "markdown",
   "metadata": {},
   "source": [
    "First, lets create two simple `MassProfile`'s which we'll plot the 1D convergences of on the same figure."
   ]
  },
  {
   "cell_type": "code",
   "execution_count": 2,
   "metadata": {
    "execution": {
     "iopub.execute_input": "2021-04-15T18:19:42.825714Z",
     "iopub.status.busy": "2021-04-15T18:19:42.825410Z",
     "iopub.status.idle": "2021-04-15T18:19:42.827037Z",
     "shell.execute_reply": "2021-04-15T18:19:42.827273Z"
    }
   },
   "outputs": [],
   "source": [
    "mass_0 = al.mp.EllIsothermal(\n",
    "    centre=(0.0, 0.0),\n",
    "    einstein_radius=1.0,\n",
    "    elliptical_comps=al.convert.elliptical_comps_from(axis_ratio=0.7, angle=45.0),\n",
    ")\n",
    "\n",
    "mass_1 = al.mp.EllPowerLaw(\n",
    "    centre=(0.0, 0.0),\n",
    "    einstein_radius=1.0,\n",
    "    elliptical_comps=al.convert.elliptical_comps_from(axis_ratio=0.7, angle=45.0),\n",
    "    slope=2.1,\n",
    ")"
   ]
  },
  {
   "cell_type": "markdown",
   "metadata": {},
   "source": [
    "We also need the 2D grid the `MassProfile`'s are evaluated on."
   ]
  },
  {
   "cell_type": "code",
   "execution_count": 3,
   "metadata": {
    "execution": {
     "iopub.execute_input": "2021-04-15T18:19:42.829932Z",
     "iopub.status.busy": "2021-04-15T18:19:42.829624Z",
     "iopub.status.idle": "2021-04-15T18:19:43.480180Z",
     "shell.execute_reply": "2021-04-15T18:19:43.479825Z"
    }
   },
   "outputs": [],
   "source": [
    "grid = al.Grid2D.uniform(shape_native=(100, 100), pixel_scales=0.05)"
   ]
  },
  {
   "cell_type": "markdown",
   "metadata": {},
   "source": [
    "We now pass the mass profiles and grid to a `MassProfilePlotter` and create a `MultiYX1DPlotter` which will be\n",
    "used to plot both of their convergences in 1D on the same figure."
   ]
  },
  {
   "cell_type": "code",
   "execution_count": 4,
   "metadata": {
    "execution": {
     "iopub.execute_input": "2021-04-15T18:19:43.483018Z",
     "iopub.status.busy": "2021-04-15T18:19:43.482712Z",
     "iopub.status.idle": "2021-04-15T18:19:43.484739Z",
     "shell.execute_reply": "2021-04-15T18:19:43.484415Z"
    }
   },
   "outputs": [],
   "source": [
    "mat_plot_1d = aplt.MatPlot1D(yx_plot=aplt.YXPlot(plot_axis_type=\"semilogy\"))\n",
    "\n",
    "mass_profile_plotter_0 = aplt.MassProfilePlotter(\n",
    "    mass_profile=mass_0, grid=grid, mat_plot_1d=mat_plot_1d\n",
    ")\n",
    "mass_profile_plotter_1 = aplt.MassProfilePlotter(\n",
    "    mass_profile=mass_1, grid=grid, mat_plot_1d=mat_plot_1d\n",
    ")"
   ]
  },
  {
   "cell_type": "markdown",
   "metadata": {},
   "source": [
    "We use these plotters to create a `MultiYX1DPlotter` which plot both of their convergences in 1D on the same figure."
   ]
  },
  {
   "cell_type": "code",
   "execution_count": 5,
   "metadata": {
    "execution": {
     "iopub.execute_input": "2021-04-15T18:19:43.486941Z",
     "iopub.status.busy": "2021-04-15T18:19:43.486631Z",
     "iopub.status.idle": "2021-04-15T18:19:43.488413Z",
     "shell.execute_reply": "2021-04-15T18:19:43.488102Z"
    }
   },
   "outputs": [],
   "source": [
    "multi_plotter = aplt.MultiYX1DPlotter(\n",
    "    plotter_list=[mass_profile_plotter_0, mass_profile_plotter_1]\n",
    ")"
   ]
  },
  {
   "cell_type": "markdown",
   "metadata": {},
   "source": [
    "We now use the multi plotter to plot the convergences, where:\n",
    "\n",
    " - `func_name`: he name of the `MassProfilePlotter` function we call, in this case `figures_1d`.\n",
    " - `figure_name`: the name of the function's boolean input we set to True such that it plots, in this case `convergence`.\n",
    " \n",
    "The input therefore corresponds to us writing `mass_profile_plotter.figures_1d(convergence=True)` for each plotter."
   ]
  },
  {
   "cell_type": "code",
   "execution_count": 6,
   "metadata": {
    "execution": {
     "iopub.execute_input": "2021-04-15T18:19:43.491391Z",
     "iopub.status.busy": "2021-04-15T18:19:43.491092Z",
     "iopub.status.idle": "2021-04-15T18:19:45.865277Z",
     "shell.execute_reply": "2021-04-15T18:19:45.864943Z"
    }
   },
   "outputs": [
    {
     "data": {
      "image/png": "[encoded data removed]",
      "text/plain": [
       "<Figure size 504x504 with 1 Axes>"
      ]
     },
     "metadata": {
      "needs_background": "light"
     },
     "output_type": "display_data"
    }
   ],
   "source": [
    "multi_plotter.figure_1d(func_name=\"figures_1d\", figure_name=\"convergence\")\n"
   ]
  }
 ],
 "metadata": {
  "anaconda-cloud": {},
  "kernelspec": {
   "display_name": "Python 3",
   "language": "python",
   "name": "python3"
  },
  "language_info": {
   "codemirror_mode": {
    "name": "ipython",
    "version": 3
   },
   "file_extension": ".py",
   "mimetype": "text/x-python",
   "name": "python",
   "nbconvert_exporter": "python",
   "pygments_lexer": "ipython3",
   "version": "3.8.5"
  }
 },
 "nbformat": 4,
 "nbformat_minor": 4
}
