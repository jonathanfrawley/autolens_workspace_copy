{
  "cells": [
    {
      "cell_type": "markdown",
      "metadata": {},
      "source": [
        "Plots: PlanePlotter\n",
        "===================\n",
        "\n",
        "This example illustrates how to plot a `Plane` using a `PlanePlotter`."
      ]
    },
    {
      "cell_type": "code",
      "metadata": {},
      "source": [
        "%matplotlib inline\n",
        "from pyprojroot import here\n",
        "workspace_path = str(here())\n",
        "%cd $workspace_path\n",
        "print(f\"Working Directory has been set to `{workspace_path}`\")\n",
        "\n",
        "import autolens as al\n",
        "import autolens.plot as aplt"
      ],
      "outputs": [],
      "execution_count": null
    },
    {
      "cell_type": "markdown",
      "metadata": {},
      "source": [
        "First, lets create a image-plane `Grid2D` and ray-trace it via `MassProfile` to create a source-plane `Grid2D`."
      ]
    },
    {
      "cell_type": "code",
      "metadata": {},
      "source": [
        "grid = al.Grid2D.uniform(shape_native=(100, 100), pixel_scales=0.05)\n",
        "\n",
        "mass_profile = al.mp.EllIsothermal(\n",
        "    centre=(0.0, 0.0), elliptical_comps=(0.1, 0.2), einstein_radius=1.0\n",
        ")\n",
        "deflections = mass_profile.deflections_2d_from_grid(grid=grid)\n",
        "lens_galaxy = al.Galaxy(redshift=0.5, mass=mass_profile)\n",
        "\n",
        "lensed_grid = grid.grid_from_deflection_grid(deflection_grid=deflections)"
      ],
      "outputs": [],
      "execution_count": null
    },
    {
      "cell_type": "markdown",
      "metadata": {},
      "source": [
        "We create a `Plane` representing a source-plane containing a `Galaxy` with a `LightProfile`."
      ]
    },
    {
      "cell_type": "code",
      "metadata": {},
      "source": [
        "bulge = al.lp.EllSersic(\n",
        "    centre=(0.1, 0.1),\n",
        "    elliptical_comps=al.convert.elliptical_comps_from(axis_ratio=0.8, angle=60.0),\n",
        "    intensity=0.3,\n",
        "    effective_radius=1.0,\n",
        "    sersic_index=2.5,\n",
        ")\n",
        "\n",
        "source_galaxy = al.Galaxy(redshift=1.0, bulge=bulge)\n",
        "\n",
        "image_plane = al.Plane(galaxies=[lens_galaxy])\n",
        "source_plane = al.Plane(galaxies=[source_galaxy])"
      ],
      "outputs": [],
      "execution_count": null
    },
    {
      "cell_type": "markdown",
      "metadata": {},
      "source": [
        "We can plot the `image_plane` by passing it and our `grid to a` PlanePlotter` and calling various `figure_*` methods.\n",
        "\n",
        "In this script our `lens_galaxy` only had a `MassProfile` so only methods like `figure_convergence` are\n",
        "available."
      ]
    },
    {
      "cell_type": "code",
      "metadata": {},
      "source": [
        "plane_plotter = aplt.PlanePlotter(plane=image_plane, grid=grid)\n",
        "plane_plotter.figures_2d(convergence=True)"
      ],
      "outputs": [],
      "execution_count": null
    },
    {
      "cell_type": "markdown",
      "metadata": {},
      "source": [
        "We can also plot the `source_plane` by passing it with the `lensed_grid` to a `PlanePlotter`.\n",
        "\n",
        "In this case, our `source_galaxy` only had a ` LightProfile` so only a plot of its image is available."
      ]
    },
    {
      "cell_type": "code",
      "metadata": {},
      "source": [
        "plane_plotter = aplt.PlanePlotter(plane=source_plane, grid=lensed_grid)\n",
        "plane_plotter.figures_2d(image=True)"
      ],
      "outputs": [],
      "execution_count": null
    },
    {
      "cell_type": "markdown",
      "metadata": {},
      "source": [
        "In addition to the lensed image of the source-plane, we can plot its unlensed image (e.g. how the source-galaxy \n",
        "appears in the source-plane before lensing) using the `figure_plane_image` method."
      ]
    },
    {
      "cell_type": "code",
      "metadata": {},
      "source": [
        "plane_plotter.figures_2d(plane_image=True)"
      ],
      "outputs": [],
      "execution_count": null
    },
    {
      "cell_type": "markdown",
      "metadata": {},
      "source": [
        "It is feasible for us to plot the caustics in the source-plane. However, to calculate the `Caustics` we must manually\n",
        "compute them from the image-plane `MassProfile` and pass them to the source-plane mat_plot_2d. "
      ]
    },
    {
      "cell_type": "code",
      "metadata": {},
      "source": [
        "visuals_2d = aplt.Visuals2D(caustics=image_plane.caustics_from_grid(grid=grid))\n",
        "plane_plotter = aplt.PlanePlotter(\n",
        "    plane=source_plane, grid=lensed_grid, visuals_2d=visuals_2d\n",
        ")\n",
        "plane_plotter.figures_2d(plane_image=True)"
      ],
      "outputs": [],
      "execution_count": null
    },
    {
      "cell_type": "markdown",
      "metadata": {},
      "source": [
        "For `PlanePlotter`'s, `GalaxyPlotter`'s and `LightProfilePlotter's that are plotting source-plane images, the only\n",
        "way to plot the caustics is to manually extract them from the foreground `MassProfile`'s, as shown above. This is \n",
        "because these source-plane objects have no knowledge of what objects are in the image-plane.\n",
        "\n",
        "`TracerPlotter`'s automatically extract and plot caustics on source-plane figures, given they have available the \n",
        "necessary information on the image-plane mass. This is shown in `autolens_workspace/plot/plotters/TracerPlotter.py`.\n",
        "\n",
        "A `Plane` and its `Grid2D` contains the following attributes which can be plotted automatically via \n",
        "the `Include2D` object.\n",
        "\n",
        "(By default, a `Grid2D` does not contain a `Mask2D`, we therefore manually created a `Grid2D` with a mask to illustrate\n",
        "plotting its mask and border below)."
      ]
    },
    {
      "cell_type": "code",
      "metadata": {},
      "source": [
        "mask = al.Mask2D.circular(\n",
        "    shape_native=grid.shape_native, pixel_scales=grid.pixel_scales, radius=2.0\n",
        ")\n",
        "masked_grid = al.Grid2D.from_mask(mask=mask)\n",
        "\n",
        "include_2d = aplt.Include2D(\n",
        "    origin=True,\n",
        "    mask=True,\n",
        "    border=True,\n",
        "    light_profile_centres=True,\n",
        "    mass_profile_centres=True,\n",
        "    critical_curves=True,\n",
        ")"
      ],
      "outputs": [],
      "execution_count": null
    },
    {
      "cell_type": "markdown",
      "metadata": {},
      "source": [
        "Note that the image-plane has no `LightProfile`'s and does not plot any light-profile centres. Similarly, the \n",
        "source-plane has no `MassProfile`'s and plot no mass-profile centres."
      ]
    },
    {
      "cell_type": "code",
      "metadata": {},
      "source": [
        "plane_plotter = aplt.PlanePlotter(\n",
        "    plane=image_plane, grid=masked_grid, include_2d=include_2d\n",
        ")\n",
        "plane_plotter.figures_2d(image=True)\n",
        "plane_plotter = aplt.PlanePlotter(\n",
        "    plane=source_plane, grid=masked_grid, include_2d=include_2d\n",
        ")\n",
        "plane_plotter.figures_2d(image=True)"
      ],
      "outputs": [],
      "execution_count": null
    },
    {
      "cell_type": "markdown",
      "metadata": {},
      "source": [
        "Finish."
      ]
    },
    {
      "cell_type": "code",
      "metadata": {},
      "source": [],
      "outputs": [],
      "execution_count": null
    }
  ],
  "metadata": {
    "anaconda-cloud": {},
    "kernelspec": {
      "display_name": "Python 3",
      "language": "python",
      "name": "python3"
    },
    "language_info": {
      "codemirror_mode": {
        "name": "ipython",
        "version": 3
      },
      "file_extension": ".py",
      "mimetype": "text/x-python",
      "name": "python",
      "nbconvert_exporter": "python",
      "pygments_lexer": "ipython3",
      "version": "3.6.1"
    }
  },
  "nbformat": 4,
  "nbformat_minor": 4
}