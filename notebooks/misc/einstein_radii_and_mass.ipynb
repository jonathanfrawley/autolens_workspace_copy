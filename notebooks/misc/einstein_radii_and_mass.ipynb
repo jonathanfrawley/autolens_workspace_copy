{
  "cells": [
    {
      "cell_type": "markdown",
      "metadata": {},
      "source": [
        "Einstein Radii and Mass\n",
        "=======================\n",
        "\n",
        "This is a simple script for computing the Einstein Radii and Mass given known input parameters.\n",
        "\n",
        "For errors, you`ll need to use the aggregator (autolens_workspace -> aggregator)."
      ]
    },
    {
      "cell_type": "code",
      "metadata": {},
      "source": [
        "%matplotlib inline\n",
        "from pyprojroot import here\n",
        "workspace_path = str(here())\n",
        "%cd $workspace_path\n",
        "print(f\"Working Directory has been set to `{workspace_path}`\")\n",
        "\n",
        "import autolens as al\n",
        "from astropy import cosmology as cosmo\n"
      ],
      "outputs": [],
      "execution_count": null
    },
    {
      "cell_type": "markdown",
      "metadata": {},
      "source": [
        "Lets set up an `EllipticalIsothermal` `MassProfile`."
      ]
    },
    {
      "cell_type": "code",
      "metadata": {},
      "source": [
        "sie = al.mp.EllipticalIsothermal(einstein_radius=2.0, elliptical_comps=(0.0, 0.333333))"
      ],
      "outputs": [],
      "execution_count": null
    },
    {
      "cell_type": "markdown",
      "metadata": {},
      "source": [
        "We can compute its Einstein Radius and Mass, which are defined as the area within the tangential critical curve. \n",
        "\n",
        "These are calculated from the functions: \n",
        "\n",
        " - `einstein_radius_from_grid`. \n",
        " - `einstein_mass_via_tangential_critical_curve`.\n",
        "\n",
        "Although these quantities should not depend on the grid we input, they are calculated using the input grid. Thus,\n",
        "we must specify a grid which matches the scale of the `MassProfile`, which would typically be the grid of image-pixels\n",
        "that we use to model our data.\n",
        "\n",
        "Lets print the Einstein Radius, which is returned in the default internal **PyAutoLens** units of arc-seconds."
      ]
    },
    {
      "cell_type": "code",
      "metadata": {},
      "source": [
        "grid = al.Grid2D.uniform(shape_native=(100, 100), pixel_scales=0.1)\n",
        "einstein_radius = sie.einstein_radius_from_grid(grid=grid)\n",
        "\n",
        "print(\"Einstein Radius (arcsec) = \", einstein_radius)"
      ],
      "outputs": [],
      "execution_count": null
    },
    {
      "cell_type": "markdown",
      "metadata": {},
      "source": [
        "If we know the redshift of the `MassProfile` and assume an **AstroPy** cosmology we can convert this to \n",
        "kilo-parsecs."
      ]
    },
    {
      "cell_type": "code",
      "metadata": {},
      "source": [
        "kpc_per_arcsec = al.util.cosmology.kpc_per_arcsec_from(\n",
        "    redshift=0.5, cosmology=cosmo.Planck15\n",
        ")\n",
        "einstein_radius_kpc = einstein_radius * kpc_per_arcsec\n",
        "print(\"Einstein Radius (kpc) = \", einstein_radius_kpc)"
      ],
      "outputs": [],
      "execution_count": null
    },
    {
      "cell_type": "markdown",
      "metadata": {},
      "source": [
        "A `MassProfile` does not know its redshift, nor does it know its source redshift. Thus, the Einstein mass cannot be\n",
        "provided in units of solar masses. Instead, its mass is computed in angular units and is given by:\n",
        "\n",
        " pi * einstein_radius (arcsec) ** 2.0"
      ]
    },
    {
      "cell_type": "code",
      "metadata": {},
      "source": [
        "einstein_mass = sie.einstein_mass_angular_from_grid(grid=grid)\n",
        "print(\"Einstein Mass (angular) = \", einstein_mass)"
      ],
      "outputs": [],
      "execution_count": null
    },
    {
      "cell_type": "markdown",
      "metadata": {},
      "source": [
        "To convert this mass to solar masses, we need the critical surface mass density of the `MassProfile`, which relies on \n",
        "it being a strong lens with not only a lens redshift (e.g. the redshift of the profile) but also a source redshift.\n",
        "\n",
        "If we assume this mass profile is at redshift 0.5 and it is lensing a source at redshift 1.0 we can compute its mass\n",
        "in solar masses."
      ]
    },
    {
      "cell_type": "code",
      "metadata": {},
      "source": [
        "critical_surface_density = al.util.cosmology.critical_surface_density_between_redshifts_from(\n",
        "    redshift_0=0.5, redshift_1=1.0, cosmology=cosmo.Planck15\n",
        ")\n",
        "einstein_mass_kpc = einstein_mass * critical_surface_density\n",
        "print(\"Einstein Mass (kpc) = \", einstein_mass_kpc)\n",
        "print(\"Einstein Mass (kpc) = \", \"{:.4e}\".format(einstein_mass_kpc))"
      ],
      "outputs": [],
      "execution_count": null
    },
    {
      "cell_type": "markdown",
      "metadata": {},
      "source": [
        "We can also use the above methods on `Galaxy` objects, which may contain multiple `MassProfile`'s."
      ]
    },
    {
      "cell_type": "code",
      "metadata": {},
      "source": [
        "galaxy = al.Galaxy(redshift=0.5, mass_0=sie, mass_1=sie)\n",
        "print(\n",
        "    \"Einstein Radius (arcsec) via Galaxy = \",\n",
        "    galaxy.einstein_radius_from_grid(grid=grid),\n",
        ")\n",
        "print(\n",
        "    \"Einstein Mass (angular) via Galaxy = \",\n",
        "    galaxy.einstein_mass_angular_from_grid(grid=grid),\n",
        ")"
      ],
      "outputs": [],
      "execution_count": null
    },
    {
      "cell_type": "markdown",
      "metadata": {},
      "source": [
        "In principle, the Einstein Mass of a `Tracer` should be readily accessible in a `Tracer` object, given this contains\n",
        "all of the galaxies in a strong lens system (and thus has their redshifts) as well as an input Cosmology.\n",
        "\n",
        "However, we do not provide methods with this quantity and require that you, the user, compute the Einstein mass \n",
        "(in angular or solar masses) using examples above. This is because for systems with multiple galaxies or planes, the \n",
        "definition of an Einstein Radius / Mass become less clear. We feel it is better that a user explicitly computes these \n",
        "quantities from a `Tracer` so if it has multiple galaxies or planes you are aware of this.\n",
        "\n",
        "The example below shows how for a single lens + source galaxy system `Tracer` can be used to compute the\n",
        "Einstein Radii and Masses above."
      ]
    },
    {
      "cell_type": "code",
      "metadata": {},
      "source": [
        "source_galaxy = al.Galaxy(redshift=1.0)\n",
        "\n",
        "tracer = al.Tracer.from_galaxies(galaxies=[galaxy, source_galaxy])\n",
        "\n",
        "image_plane_galaxy = tracer.planes[0].galaxies[0]\n",
        "source_plane_galaxy = tracer.planes[1].galaxies[0]\n",
        "\n",
        "einstein_radius = image_plane_galaxy.einstein_radius_from_grid(grid=grid)\n",
        "print(\"Einstein Radius via Tracer (arcsec) = \", einstein_radius)\n",
        "\n",
        "kpc_per_arcsec = al.util.cosmology.kpc_per_arcsec_from(\n",
        "    redshift=image_plane_galaxy.redshift, cosmology=cosmo.Planck15\n",
        ")\n",
        "einstein_radius_kpc = einstein_radius * kpc_per_arcsec\n",
        "print(\"Einstein Radius via Tracer (kpc) = \", einstein_radius_kpc)\n",
        "\n",
        "einstein_mass = image_plane_galaxy.einstein_mass_angular_from_grid(grid=grid)\n",
        "print(\"Einstein Mass via Tracer (angular) = \", einstein_mass)\n",
        "\n",
        "critical_surface_density = al.util.cosmology.critical_surface_density_between_redshifts_from(\n",
        "    redshift_0=image_plane_galaxy.redshift,\n",
        "    redshift_1=source_plane_galaxy.redshift,\n",
        "    cosmology=cosmo.Planck15,\n",
        ")\n",
        "einstein_mass_kpc = einstein_mass * critical_surface_density\n",
        "print(\"Einstein Mass via Tracer (kpc) = \", einstein_mass_kpc)\n",
        "print(\"Einstein Mass via Tracer (kpc) = \", \"{:.4e}\".format(einstein_mass_kpc))\n"
      ],
      "outputs": [],
      "execution_count": null
    }
  ],
  "metadata": {
    "anaconda-cloud": {},
    "kernelspec": {
      "display_name": "Python 3",
      "language": "python",
      "name": "python3"
    },
    "language_info": {
      "codemirror_mode": {
        "name": "ipython",
        "version": 3
      },
      "file_extension": ".py",
      "mimetype": "text/x-python",
      "name": "python",
      "nbconvert_exporter": "python",
      "pygments_lexer": "ipython3",
      "version": "3.6.1"
    }
  },
  "nbformat": 4,
  "nbformat_minor": 4
}