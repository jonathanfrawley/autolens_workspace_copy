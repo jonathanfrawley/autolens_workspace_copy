{
  "cells": [
    {
      "cell_type": "markdown",
      "metadata": {},
      "source": [
        "__Example: Known Deflections Source Planes__\n",
        "\n",
        "In this example, we use an input deflection angle map from an external source to create and investigate the\n",
        "source-plane of an `Imaging` dataset. This input deflection angle map comes from outside PyAutoLens (how dare you!),\n",
        "for example:\n",
        "\n",
        " - A model of a strong lens computed by another code, like community Hubble Frontier Fields deflection angle maps of\n",
        "   strongly lensed clusters.\n",
        " - Deflection angles of a galaxy simulated in a cosmological galaxy formation simulation."
      ]
    },
    {
      "cell_type": "code",
      "metadata": {},
      "source": [
        "%matplotlib inline\n",
        "from pyprojroot import here\n",
        "workspace_path = str(here())\n",
        "%cd $workspace_path\n",
        "print(f\"Working Directory has been set to `{workspace_path}`\")\n",
        "\n",
        "from os import path\n",
        "import autolens as al\n",
        "import autolens.plot as aplt"
      ],
      "outputs": [],
      "execution_count": null
    },
    {
      "cell_type": "markdown",
      "metadata": {},
      "source": [
        "In this example, our `input` deflection angle map is the true deflection angles of the `Imaging` dataset simulated in \n",
        "the `mass_sie__source_parametric.py` simulator. You should be able to simply edit the `from_fits` methods below to point\n",
        "to your own dataset and deflection maps.\n",
        "\n",
        "Lets load and plot this dataset."
      ]
    },
    {
      "cell_type": "code",
      "metadata": {},
      "source": [
        "dataset_name = \"mass_sie__source_sersic\"\n",
        "dataset_path = path.join(\"dataset\", \"imaging\", \"no_lens_light\", dataset_name)\n",
        "\n",
        "imaging = al.Imaging.from_fits(\n",
        "    image_path=path.join(dataset_path, \"image.fits\"),\n",
        "    psf_path=path.join(dataset_path, \"psf.fits\"),\n",
        "    noise_map_path=path.join(dataset_path, \"noise_map.fits\"),\n",
        "    pixel_scales=0.1,\n",
        ")\n",
        "\n",
        "imaging_plotter = aplt.ImagingPlotter(imaging=imaging)\n",
        "imaging_plotter.subplot_imaging()"
      ],
      "outputs": [],
      "execution_count": null
    },
    {
      "cell_type": "markdown",
      "metadata": {},
      "source": [
        "In `autolens_workspace/examples/misc/files` you`ll find the script `make_source_plane.py`, which creates the \n",
        "image-plane  `Grid2D` and deflection angles we use in this example (which are identical to those used in the \n",
        "`mass_sie__source_parametric.py` simulator). \n",
        "\n",
        "Lets load the input deflection angle map from a .fits files (which is created in the code mentioned above)."
      ]
    },
    {
      "cell_type": "code",
      "metadata": {},
      "source": [
        "deflections_y = al.Array2D.from_fits(\n",
        "    file_path=path.join(\"dataset\", \"misc\", \"deflections_y.fits\"),\n",
        "    pixel_scales=imaging.pixel_scales,\n",
        ")\n",
        "deflections_x = al.Array2D.from_fits(\n",
        "    file_path=path.join(\"dataset\", \"misc\", \"deflections_x.fits\"),\n",
        "    pixel_scales=imaging.pixel_scales,\n",
        ")"
      ],
      "outputs": [],
      "execution_count": null
    },
    {
      "cell_type": "markdown",
      "metadata": {},
      "source": [
        "Lets plot the deflection angles to make sure they look like what we expect!"
      ]
    },
    {
      "cell_type": "code",
      "metadata": {},
      "source": [
        "aplt.Array2DPlotter(array=deflections_y)\n",
        "aplt.Array2DPlotter(array=deflections_x)"
      ],
      "outputs": [],
      "execution_count": null
    },
    {
      "cell_type": "markdown",
      "metadata": {},
      "source": [
        "Lets next load and plot the image-plane grid."
      ]
    },
    {
      "cell_type": "code",
      "metadata": {},
      "source": [
        "grid = al.Grid2D.from_fits(\n",
        "    file_path=path.join(\"dataset\", \"misc\", \"grid.fits\"),\n",
        "    pixel_scales=imaging.pixel_scales,\n",
        ")\n",
        "grid_plotter = aplt.Grid2DPlotter(grid=grid)\n",
        "grid_plotter.figure()"
      ],
      "outputs": [],
      "execution_count": null
    },
    {
      "cell_type": "markdown",
      "metadata": {},
      "source": [
        "We now create our `InputDeflections` `MassProfile`, which represents our input deflection angle map as a \n",
        "`MassProfile` in PyAutoLens so that it can be used with objects like `Galaxy`'s and `Tracer``..\n",
        "\n",
        "This takes as input both the input deflection angles and their corresponding image-plane grid, with the latter used to\n",
        "compute new sets of deflection angles from the input deflections via interpolation."
      ]
    },
    {
      "cell_type": "code",
      "metadata": {},
      "source": [
        "image_plane_grid = al.Grid2D.uniform(\n",
        "    shape_native=imaging.shape_native, pixel_scales=imaging.pixel_scales\n",
        ")\n",
        "input_deflections = al.mp.InputDeflections(\n",
        "    deflections_y=deflections_y,\n",
        "    deflections_x=deflections_x,\n",
        "    image_plane_grid=image_plane_grid,\n",
        ")"
      ],
      "outputs": [],
      "execution_count": null
    },
    {
      "cell_type": "markdown",
      "metadata": {},
      "source": [
        "When we create the `InputDeflections` above we do not apply a mask to the deflection angles. This is an intentional\n",
        "choice to ensure we do not remove any information which may be used later when using the deflections. \n",
        "\n",
        "However, we may only want to to use these deflection angles to ray-trace a localized region of the image-plane\n",
        "to the source-plane (e.g. the regions where the source is located). To do this, we simply pass the _InputDeflections_\n",
        "the (masked) grid we want its interpolated deflection angles from. "
      ]
    },
    {
      "cell_type": "code",
      "metadata": {},
      "source": [
        "mask = al.Mask2D.circular(\n",
        "    shape_native=grid.shape_native, pixel_scales=imaging.pixel_scales, radius=3.0\n",
        ")\n",
        "\n",
        "grid = al.Grid2D.from_mask(mask=mask)"
      ],
      "outputs": [],
      "execution_count": null
    },
    {
      "cell_type": "markdown",
      "metadata": {},
      "source": [
        "The deflections will be computed only in the regions included on the `Grid2D`, e.g. the 3.0\" mask we defined above."
      ]
    },
    {
      "cell_type": "code",
      "metadata": {},
      "source": [
        "deflections_y = input_deflections.deflections_from_grid(grid=grid)\n",
        "deflections_x = input_deflections.deflections_from_grid(grid=grid)\n",
        "grid_plotter = aplt.Grid2DPlotter(grid=grid)\n",
        "grid_plotter.figure()\n",
        "aplt.Array2DPlotter(\n",
        "    array=al.Array2D.manual_native(\n",
        "        array=deflections_y.native[:, :, 0], pixel_scales=imaging.pixel_scales\n",
        "    )\n",
        ")\n",
        "aplt.Array2DPlotter(\n",
        "    array=al.Array2D.manual_native(\n",
        "        array=deflections_y.native[:, :, 1], pixel_scales=imaging.pixel_scales\n",
        "    )\n",
        ")"
      ],
      "outputs": [],
      "execution_count": null
    },
    {
      "cell_type": "markdown",
      "metadata": {},
      "source": [
        "We can use the `InputDeflections` as a `MassProfile` in exactly the same way as any other `MassProfile`. \n",
        "\n",
        "Lets use them to represent a lens `Galaxy`, create a `Tracer` object and plot their lensed image of a source."
      ]
    },
    {
      "cell_type": "code",
      "metadata": {},
      "source": [
        "lens_galaxy = al.Galaxy(redshift=0.5, mass=input_deflections)\n",
        "\n",
        "source_galaxy = al.Galaxy(\n",
        "    redshift=1.0,\n",
        "    bulge=al.lp.EllipticalSersic(\n",
        "        centre=(0.1, 0.1),\n",
        "        elliptical_comps=al.convert.elliptical_comps_from(axis_ratio=0.8, phi=60.0),\n",
        "        intensity=0.3,\n",
        "        effective_radius=1.0,\n",
        "        sersic_index=2.5,\n",
        "    ),\n",
        ")\n",
        "\n",
        "tracer = al.Tracer.from_galaxies(galaxies=[lens_galaxy, source_galaxy])\n",
        "\n",
        "tracer_plotter = aplt.TracerPlotter(tracer=tracer, grid=grid)\n",
        "tracer_plotter.figures(image=True)\n",
        "source_plane_grid = tracer.traced_grids_of_planes_from_grid(grid=grid)[-1]\n",
        "\n",
        "plane_plotter = aplt.PlanePlotter(plane=tracer.source_plane, grid=source_plane_grid)\n",
        "plane_plotter.figures(plane_image=True)"
      ],
      "outputs": [],
      "execution_count": null
    },
    {
      "cell_type": "markdown",
      "metadata": {},
      "source": [
        "We also apply this mask to our `Imaging` data and fit it using the standard PyAutoLens fitting API.\n",
        "\n",
        "This means we can ask a crucial question - how well does the source `Galaxy` used above in combination with \n",
        "our input deflection angle map fit the image of a strong lens we are comparing to?\n",
        "\n",
        "In this case, it gives a good fit, because we are using the true deflection angle map and source model!"
      ]
    },
    {
      "cell_type": "code",
      "metadata": {},
      "source": [
        "masked_imaging = al.MaskedImaging(imaging=imaging, mask=mask)\n",
        "fit_imaging = al.FitImaging(masked_imaging=masked_imaging, tracer=tracer)\n",
        "\n",
        "fit_imaging_plotter = aplt.FitImagingPlotter(fit=fit_imaging)\n",
        "fit_imaging_plotter.subplot_fit_imaging()"
      ],
      "outputs": [],
      "execution_count": null
    },
    {
      "cell_type": "markdown",
      "metadata": {},
      "source": [
        "We can also use a `Pixelization` and `Regularization` (which combined create an `Inversion`. to reconstruct the\n",
        "source galaxy.\n",
        "\n",
        "we'll reconstruct the source on a 30 x 30 `Rectangular` source-plane `Pixelization`."
      ]
    },
    {
      "cell_type": "code",
      "metadata": {},
      "source": [
        "pixelization = al.pix.Rectangular(shape=(30, 30))"
      ],
      "outputs": [],
      "execution_count": null
    },
    {
      "cell_type": "markdown",
      "metadata": {},
      "source": [
        "A `Mapper` maps the source-pixels to image-pixels, as shown in the figure below. These mappings are used when \n",
        "reconstructing the source galaxy's light."
      ]
    },
    {
      "cell_type": "code",
      "metadata": {},
      "source": [
        "mapper = pixelization.mapper_from_grid_and_sparse_grid(grid=source_plane_grid)\n",
        "\n",
        "visuals_2d = aplt.Visuals2D(pixelization_indexes=[[312], [314], [350], [370]])\n",
        "include_2d = aplt.Include2D(grid=True)\n",
        "\n",
        "mapper_plotter = aplt.MapperPlotter(\n",
        "    mapper=mapper, visuals_2d=visuals_2d, include_2d=include_2d\n",
        ")\n",
        "\n",
        "mapper_plotter.subplot_image_and_mapper(image=imaging.image)"
      ],
      "outputs": [],
      "execution_count": null
    },
    {
      "cell_type": "markdown",
      "metadata": {},
      "source": [
        "We can now use a `Mapper` to perform the `Inversion` and reconstruct the source galaxy's light. \n",
        "\n",
        "To perform this `Inverison` we must also input a `Regularization`, which is a prior on how much we smooth the \n",
        "source galaxy's light. Try increasing / decreasing the coefficient value to see what effect this has."
      ]
    },
    {
      "cell_type": "code",
      "metadata": {},
      "source": [
        "regularization = al.reg.Constant(coefficient=1.0)\n",
        "\n",
        "inversion = al.Inversion(\n",
        "    masked_dataset=masked_imaging,\n",
        "    mapper=mapper,\n",
        "    regularization=al.reg.Constant(coefficient=1.0),\n",
        ")"
      ],
      "outputs": [],
      "execution_count": null
    },
    {
      "cell_type": "markdown",
      "metadata": {},
      "source": [
        "Finally, lets plot: \n",
        "\n",
        " - The reconstruction of the source _Galaxy- in the source-plane.\n",
        " - The corresponding reconstructed image-plane image of the lensed source `Galaxy` (which accounts for PSF blurring).\n",
        " - The residuals of the fit to the `MaskedImaging`."
      ]
    },
    {
      "cell_type": "code",
      "metadata": {},
      "source": [
        "inversion_plotter = aplt.InversionPlotter(inversion=inversion)\n",
        "inversion_plotter.figures(reconstructed_image=True, reconstruction=True)\n",
        "\n",
        "residual_map = masked_imaging.image - inversion.mapped_reconstructed_image\n",
        "array_plotter = aplt.Array2DPlotter(array=residual_map)\n",
        "array_plotter.figure()"
      ],
      "outputs": [],
      "execution_count": null
    },
    {
      "cell_type": "markdown",
      "metadata": {},
      "source": [
        "In this example, we assumed the source galaxy's true `LightProfile` or guessed a value for the `Regularization` \n",
        "coefficient. In a realistic settings we may not know this, so checkout the script `input_deflections_model.py` in \n",
        "this folder to see how we can use the `InputDeflections` to perform lens modeling whereby we infer the source \n",
        "galaxy `LightProfile` or `Inversion`."
      ]
    },
    {
      "cell_type": "code",
      "metadata": {},
      "source": [],
      "outputs": [],
      "execution_count": null
    }
  ],
  "metadata": {
    "anaconda-cloud": {},
    "kernelspec": {
      "display_name": "Python 3",
      "language": "python",
      "name": "python3"
    },
    "language_info": {
      "codemirror_mode": {
        "name": "ipython",
        "version": 3
      },
      "file_extension": ".py",
      "mimetype": "text/x-python",
      "name": "python",
      "nbconvert_exporter": "python",
      "pygments_lexer": "ipython3",
      "version": "3.6.1"
    }
  },
  "nbformat": 4,
  "nbformat_minor": 4
}