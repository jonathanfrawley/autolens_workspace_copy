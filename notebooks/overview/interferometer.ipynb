{
  "cells": [
    {
      "cell_type": "markdown",
      "metadata": {},
      "source": [
        "Overview: Interferometer\n",
        "------------------------\n",
        "\n",
        "Alongside CCD `Imaging` data, **PyAutoLens** supports the modeling of interferometer data from submillimeter and radio\n",
        "observatories. The dataset is fitted directly in the uv-plane, circumventing issues that arise when fitting a `dirty\n",
        "image` such as correlated noise."
      ]
    },
    {
      "cell_type": "code",
      "metadata": {},
      "source": [
        "%matplotlib inline\n",
        "from pyprojroot import here\n",
        "workspace_path = str(here())\n",
        "%cd $workspace_path\n",
        "print(f\"Working Directory has been set to `{workspace_path}`\")\n",
        "\n",
        "import autolens as al\n",
        "import autolens.plot as aplt\n",
        "from os import path\n",
        "import numpy as np"
      ],
      "outputs": [],
      "execution_count": null
    },
    {
      "cell_type": "markdown",
      "metadata": {},
      "source": [
        "To begin, we load an interferometer dataset from fits files:\n",
        "\n",
        "Load the strong lens interferometer dataset `mass_sie__source_sersic` `from .fits files, which is the dataset \n",
        "we'll use in this example."
      ]
    },
    {
      "cell_type": "code",
      "metadata": {},
      "source": [
        "dataset_name = \"mass_sie__source_sersic\"\n",
        "dataset_path = path.join(\"dataset\", \"interferometer\", dataset_name)\n",
        "\n",
        "interferometer = al.Interferometer.from_fits(\n",
        "    visibilities_path=path.join(dataset_path, \"visibilities.fits\"),\n",
        "    noise_map_path=path.join(dataset_path, \"noise_map.fits\"),\n",
        "    uv_wavelengths_path=path.join(dataset_path, \"uv_wavelengths.fits\"),\n",
        ")"
      ],
      "outputs": [],
      "execution_count": null
    },
    {
      "cell_type": "markdown",
      "metadata": {},
      "source": [
        "The PyAutoLens plot module has tools for plotting interferometer datasets, including the visibilities, noise-map\n",
        "and uv wavelength which represent the interferometer`s baselines. \n",
        "\n",
        "The data used in this tutorial contains 1 million visibilities and is representative of an ALMA dataset:"
      ]
    },
    {
      "cell_type": "code",
      "metadata": {},
      "source": [
        "interferometer_plotter = aplt.InterferometerPlotter(interferometer=interferometer)\n",
        "interferometer_plotter.figures(visibilities=True, uv_wavelengths=True)"
      ],
      "outputs": [],
      "execution_count": null
    },
    {
      "cell_type": "markdown",
      "metadata": {},
      "source": [
        "Although interferometer lens modeling is performed in the uv-plane and therefore Fourier space, we still need to define\n",
        "a `real-space mask`. This mask defines the grid on which the image of the lensed source galaxy is computed via a\n",
        "_Tracer_, which when we fit it to data data in the uv-plane is mapped to Fourier space."
      ]
    },
    {
      "cell_type": "code",
      "metadata": {},
      "source": [
        "real_space_mask = al.Mask2D.circular(\n",
        "    shape_native=(200, 200), pixel_scales=0.05, radius=3.0\n",
        ")"
      ],
      "outputs": [],
      "execution_count": null
    },
    {
      "cell_type": "markdown",
      "metadata": {},
      "source": [
        "To perform uv-plane modeling, **PyAutoLens** generates an image of the strong lens system in real-space via a `Tracer`. \n",
        "\n",
        "Lets quickly set up the `Tracer` we'll use in this example."
      ]
    },
    {
      "cell_type": "code",
      "metadata": {},
      "source": [
        "lens_galaxy = al.Galaxy(\n",
        "    redshift=0.5,\n",
        "    mass=al.mp.EllipticalIsothermal(\n",
        "        centre=(0.0, 0.0),\n",
        "        einstein_radius=1.6,\n",
        "        elliptical_comps=al.convert.elliptical_comps_from(axis_ratio=0.9, phi=45.0),\n",
        "    ),\n",
        "    shear=al.mp.ExternalShear(elliptical_comps=(0.0, 0.05)),\n",
        ")\n",
        "\n",
        "source_galaxy = al.Galaxy(\n",
        "    redshift=1.0,\n",
        "    bulge=al.lp.EllipticalSersic(\n",
        "        centre=(0.1, 0.1),\n",
        "        elliptical_comps=al.convert.elliptical_comps_from(axis_ratio=0.8, phi=60.0),\n",
        "        intensity=0.3,\n",
        "        effective_radius=1.0,\n",
        "        sersic_index=2.5,\n",
        "    ),\n",
        ")\n",
        "\n",
        "tracer = al.Tracer.from_galaxies(galaxies=[lens_galaxy, source_galaxy])\n",
        "\n",
        "tracer_plotter = aplt.TracerPlotter(\n",
        "    tracer=tracer, grid=real_space_mask.masked_grid_sub_1\n",
        ")\n",
        "tracer_plotter.figures(image=True)"
      ],
      "outputs": [],
      "execution_count": null
    },
    {
      "cell_type": "markdown",
      "metadata": {},
      "source": [
        "To perform uv-plane modeling, **PyAutoLens** next Fourier transforms this image from real-sapce to the uv-plane.\n",
        "This operation uses a *Transformer* object, of which there are multiple available in **PyAutoLens**. This includes\n",
        "a direct Fourier transform which performs the exact Fourier transformw without approximation."
      ]
    },
    {
      "cell_type": "code",
      "metadata": {},
      "source": [
        "transformer_class = al.TransformerDFT"
      ],
      "outputs": [],
      "execution_count": null
    },
    {
      "cell_type": "markdown",
      "metadata": {},
      "source": [
        "However, the direct Fourier transform is inefficient. For ~10 million visibilities, it requires **thousands of seconds**\n",
        "to perform a single transform. To model a lens, we'll perform tens of thousands of transforms, making this approach\n",
        "unfeasible for high quality ALMA and radio datasets.\n",
        "\n",
        "For this reason, **PyAutoLens** supports the non-uniform fast fourier transform algorithm\n",
        "**PyNUFFT** (https://github.com/jyhmiinlin/pynufft), which is significantly faster, being able too perform a Fourier\n",
        "transform of ~10 million in less than a second!"
      ]
    },
    {
      "cell_type": "code",
      "metadata": {},
      "source": [
        "transformer_class = al.TransformerNUFFT"
      ],
      "outputs": [],
      "execution_count": null
    },
    {
      "cell_type": "markdown",
      "metadata": {},
      "source": [
        "The perform a fit, we follow the same process we did for imaging, creating a *MaskedInterferometer* object which \n",
        "behaves analogously to a `MaskImaging` object."
      ]
    },
    {
      "cell_type": "code",
      "metadata": {},
      "source": [
        "visibilities_mask = np.full(fill_value=False, shape=interferometer.visibilities.shape)\n",
        "\n",
        "masked_interferometer = al.MaskedInterferometer(\n",
        "    interferometer=interferometer,\n",
        "    visibilities_mask=visibilities_mask,\n",
        "    real_space_mask=real_space_mask,\n",
        "    settings=al.SettingsMaskedInterferometer(transformer_class=transformer_class),\n",
        ")"
      ],
      "outputs": [],
      "execution_count": null
    },
    {
      "cell_type": "markdown",
      "metadata": {},
      "source": [
        "The masked interferometer can now be used with a *FitInterferometer* object to fit it to a data-set:"
      ]
    },
    {
      "cell_type": "code",
      "metadata": {},
      "source": [
        "fit = al.FitInterferometer(masked_interferometer=masked_interferometer, tracer=tracer)\n",
        "\n",
        "fit_interferometer_plotter = aplt.FitInterferometerPlotter(fit=fit)\n",
        "fit_interferometer_plotter.subplot_fit_interferometer()"
      ],
      "outputs": [],
      "execution_count": null
    },
    {
      "cell_type": "markdown",
      "metadata": {},
      "source": [
        "Interferometer data can also be modeled using pixelized source's, which again perform the source reconstruction by\n",
        "directly fitting the visibilities in the uv-plane. The source reconstruction is visualized in real space:\n",
        "\n",
        "Computing this source recontruction would be extremely inefficient if **PyAutoLens** used a traditional approach to\n",
        "linear algebra which explicitly stored in memory the values required to solve for the source fluxes. In fact, for an\n",
        "interferomter dataset of ~10 million visibilities this would require **hundreds of GB of memory**!\n",
        "\n",
        "**PyAutoLens** uses the library **PyLops** (https://pylops.readthedocs.io/en/latest/) to represent this calculation as\n",
        "a sequence of memory-light linear operators."
      ]
    },
    {
      "cell_type": "code",
      "metadata": {},
      "source": [
        "source_galaxy = al.Galaxy(\n",
        "    redshift=1.0,\n",
        "    pixelization=al.pix.VoronoiMagnification(shape=(30, 30)),\n",
        "    regularization=al.reg.Constant(coefficient=1.0),\n",
        ")\n",
        "\n",
        "tracer = al.Tracer.from_galaxies(galaxies=[lens_galaxy, source_galaxy])\n",
        "\n",
        "fit = al.FitInterferometer(\n",
        "    masked_interferometer=masked_interferometer,\n",
        "    tracer=tracer,\n",
        "    settings_inversion=al.SettingsInversion(use_linear_operators=True),\n",
        ")\n",
        "\n",
        "fit_interferometer_plotter = aplt.FitInterferometerPlotter(fit=fit)\n",
        "fit_interferometer_plotter.subplot_fit_interferometer()\n",
        "\n",
        "inversion_plotter = aplt.InversionPlotter(inversion=fit.inversion)\n",
        "inversion_plotter.figures(reconstruction=True)"
      ],
      "outputs": [],
      "execution_count": null
    },
    {
      "cell_type": "markdown",
      "metadata": {},
      "source": [
        "Finish."
      ]
    },
    {
      "cell_type": "code",
      "metadata": {},
      "source": [],
      "outputs": [],
      "execution_count": null
    }
  ],
  "metadata": {
    "anaconda-cloud": {},
    "kernelspec": {
      "display_name": "Python 3",
      "language": "python",
      "name": "python3"
    },
    "language_info": {
      "codemirror_mode": {
        "name": "ipython",
        "version": 3
      },
      "file_extension": ".py",
      "mimetype": "text/x-python",
      "name": "python",
      "nbconvert_exporter": "python",
      "pygments_lexer": "ipython3",
      "version": "3.6.1"
    }
  },
  "nbformat": 4,
  "nbformat_minor": 4
}