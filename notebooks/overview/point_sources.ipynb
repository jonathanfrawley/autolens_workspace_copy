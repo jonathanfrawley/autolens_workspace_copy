{
  "cells": [
    {
      "cell_type": "markdown",
      "metadata": {},
      "source": [
        "Overview: Point Sources\n",
        "-----------------------\n",
        "\n",
        "So far, the PyAutoLens tutorials have shown strongly lensed galaxies, whose extended surface brightness is lensed into\n",
        "the awe-inspiring giant arcs and Einstein rings we see in high quality telescope imaging. However, there are many\n",
        "lenses where the backgound source is not extended but is instead a point-source, for example strongly lensed quasars\n",
        "and supernovae.\n",
        "\n",
        "For these objects, we do not want to model the source using a `LightProfile` which implicitly assumes an extended\n",
        "surface brightness distribution. Instead, we assume that our source is a point source with a centre (y,x). Our\n",
        "ray-tracing calculations no longer trace extended light rays from the source plane to the image-plane, but instead\n",
        "now find the locations the point-source's multiple images appear in the image-plane.\n",
        "\n",
        "Finding the multiple images of a mass model given a (y,x) coordinate in the source plane is an iterative problem\n",
        "performed in a very different way to ray-tracing a `LightProfile`. In this example, we introduce **PyAutoLens**`s\n",
        "_PositionSolver_, which does exactly this and thus makes the analysis of strong lensed quasars, supernovae and\n",
        "point-like source's possible in **PyAutoLens**! we'll also show how these tools allow us to compute the flux-ratios\n",
        "and time-delays of the point-source."
      ]
    },
    {
      "cell_type": "code",
      "metadata": {},
      "source": [
        "%matplotlib inline\n",
        "from pyprojroot import here\n",
        "workspace_path = str(here())\n",
        "%cd $workspace_path\n",
        "print(f\"Working Directory has been set to `{workspace_path}`\")\n",
        "\n",
        "import autolens as al\n",
        "import autolens.plot as aplt"
      ],
      "outputs": [],
      "execution_count": null
    },
    {
      "cell_type": "markdown",
      "metadata": {},
      "source": [
        "To begin, we will create an image of strong lens using a simple `EllIsothermal` mass model and source with an\n",
        "`EllExponential` light profile. Although we are going to show how **PyAutoLens**`s positional analysis tools \n",
        "model point-sources, showing the tools using an extended source will make it visibly clearer where the multiple \n",
        "images of the point source are!\n",
        "\n",
        "Below, we set up a `Tracer` using a `Grid2D`, `LightProfile`, `MassProfile` and two `Galaxy`'s. These objects are \n",
        "introduced in the `lensing.py` example script, so if it is unclear what they are doing you should read through that\n",
        "example first before continuing!"
      ]
    },
    {
      "cell_type": "code",
      "metadata": {},
      "source": [
        "grid = al.Grid2D.uniform(\n",
        "    shape_native=(100, 100),\n",
        "    pixel_scales=0.05,  # <- The pixel-scale describes the conversion from pixel units to arc-seconds.\n",
        ")\n",
        "\n",
        "isothermal_mass_profile = al.mp.EllIsothermal(\n",
        "    centre=(0.001, 0.001), einstein_radius=1.0, elliptical_comps=(0.0, 0.111111)\n",
        ")\n",
        "\n",
        "exponential_light_profile = al.lp.EllExponential(\n",
        "    centre=(0.07, 0.07),\n",
        "    elliptical_comps=(0.2, 0.0),\n",
        "    intensity=0.05,\n",
        "    effective_radius=0.2,\n",
        ")\n",
        "\n",
        "lens_galaxy = al.Galaxy(redshift=0.5, mass=isothermal_mass_profile)\n",
        "\n",
        "source_galaxy = al.Galaxy(redshift=1.0, light=exponential_light_profile)\n",
        "\n",
        "tracer = al.Tracer.from_galaxies(galaxies=[lens_galaxy, source_galaxy])"
      ],
      "outputs": [],
      "execution_count": null
    },
    {
      "cell_type": "markdown",
      "metadata": {},
      "source": [
        "Lets plot the image of our strongly lensed source galaxy. By eye, we can clearly see there are four multiple images \n",
        "located in a cross configuration, which are the four (y,x) multiple image coordinates we want our positional solver\n",
        "to find! "
      ]
    },
    {
      "cell_type": "code",
      "metadata": {},
      "source": [
        "tracer_plotter = aplt.TracerPlotter(tracer=tracer, grid=grid)\n",
        "tracer_plotter.figures_2d(image=True)"
      ],
      "outputs": [],
      "execution_count": null
    },
    {
      "cell_type": "markdown",
      "metadata": {},
      "source": [
        "The image above visually illustrates where the source's light traces too in the image-plane. Lets now treat this source\n",
        "as a point source, by setting up a source galaxy and `Tracer` using the `PointSource` class. "
      ]
    },
    {
      "cell_type": "code",
      "metadata": {},
      "source": [
        "point_source = al.ps.PointSource(centre=(0.07, 0.07))\n",
        "\n",
        "source_galaxy = al.Galaxy(redshift=1.0, point=point_source)\n",
        "\n",
        "tracer = al.Tracer.from_galaxies(galaxies=[lens_galaxy, source_galaxy])"
      ],
      "outputs": [],
      "execution_count": null
    },
    {
      "cell_type": "markdown",
      "metadata": {},
      "source": [
        "For a `PointSource`, our goal is to find the (y,x) coordinates in the image-plane that directly map to the centre\n",
        "of the `PointSource` in the source plane. In this example, we therefore need to compute the 4 image-plane that map\n",
        "directly to the location (0.07\", 0.07\") in the source plane.\n",
        "\n",
        "This is an iterative problem that requires us to use the `PositionsFinder`. "
      ]
    },
    {
      "cell_type": "code",
      "metadata": {},
      "source": [
        "solver = al.PositionsSolver(\n",
        "    grid=grid,\n",
        "    pixel_scale_precision=0.001,\n",
        "    upscale_factor=2,\n",
        "    distance_from_source_centre=0.01,\n",
        ")"
      ],
      "outputs": [],
      "execution_count": null
    },
    {
      "cell_type": "markdown",
      "metadata": {},
      "source": [
        "We now pass the `Tracer` to the solver. This will then find the image-plane coordinates that map directly to the\n",
        "source-plane coordinate (0.07\", 0.07\")."
      ]
    },
    {
      "cell_type": "code",
      "metadata": {},
      "source": [
        "positions = solver.solve(lensing_obj=tracer, source_plane_coordinate=(0.07, 0.07))\n",
        "\n",
        "grid_plotter = aplt.Grid2DPlotter(grid=positions)\n",
        "grid_plotter.figure_2d()"
      ],
      "outputs": [],
      "execution_count": null
    },
    {
      "cell_type": "markdown",
      "metadata": {},
      "source": [
        "At this point, you might be wondering why don't we use the image of the lensed source to compute our multiple images?\n",
        "Can`t we just find the pixels in the image whose flux is brighter than its neighboring pixels? \n",
        "\n",
        "Although this would work, the problem is that for positional modeling we want to know the (y,x) coordinates of the \n",
        "multiple images at a significantly higher precision than the `Grid2D` we are plotting the image on. In this example, \n",
        "the `Grid2D` has a pixel scale of 0.05\", however we want to determine our multiple image positions at scales of 0.01\"\n",
        "or less. We could increase our grid resolutin to 0.01\" or below, but this will quickly become very computationally\n",
        "expensive, thus a bespoke `PositionSolver` is required!"
      ]
    },
    {
      "cell_type": "code",
      "metadata": {},
      "source": [],
      "outputs": [],
      "execution_count": null
    }
  ],
  "metadata": {
    "anaconda-cloud": {},
    "kernelspec": {
      "display_name": "Python 3",
      "language": "python",
      "name": "python3"
    },
    "language_info": {
      "codemirror_mode": {
        "name": "ipython",
        "version": 3
      },
      "file_extension": ".py",
      "mimetype": "text/x-python",
      "name": "python",
      "nbconvert_exporter": "python",
      "pygments_lexer": "ipython3",
      "version": "3.6.1"
    }
  },
  "nbformat": 4,
  "nbformat_minor": 4
}