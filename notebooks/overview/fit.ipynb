{
  "cells": [
    {
      "cell_type": "markdown",
      "metadata": {},
      "source": [
        "Overview: Fit\n",
        "-------------\n",
        "\n",
        "**PyAutoLens** uses `Tracer` objects to represent a strong lensing system. Now, we`re going use these objects to\n",
        "fit `Imaging` data of a strong lens.\n",
        "\n",
        "The autolens_workspace comes distributed with simulated images of strong lenses (an example of how these simulations\n",
        "are made can be found in the `simulate.py` example, with all simulator scripts located in `autolens_workspac/simulators`."
      ]
    },
    {
      "cell_type": "code",
      "metadata": {},
      "source": [
        "%matplotlib inline\n",
        "from pyprojroot import here\n",
        "workspace_path = str(here())\n",
        "%cd $workspace_path\n",
        "print(f\"Working Directory has been set to `{workspace_path}`\")\n",
        "\n",
        "from os import path\n",
        "import autolens as al\n",
        "import autolens.plot as aplt"
      ],
      "outputs": [],
      "execution_count": null
    },
    {
      "cell_type": "markdown",
      "metadata": {},
      "source": [
        "We we begin by loading the strong lens dataset `mass_sie__source_sersic` from .fits files:\n",
        "\n",
        "Load the strong lens dataset `light_sersic__mass_sie__source_sersic` from .fits files, which is the dataset \n",
        "we will use to demosntrate fitting."
      ]
    },
    {
      "cell_type": "code",
      "metadata": {},
      "source": [
        "dataset_name = \"mass_sie__source_sersic\"\n",
        "dataset_path = path.join(\"dataset\", \"imaging\", \"no_lens_light\", dataset_name)\n",
        "\n",
        "imaging = al.Imaging.from_fits(\n",
        "    image_path=path.join(dataset_path, \"image.fits\"),\n",
        "    psf_path=path.join(dataset_path, \"psf.fits\"),\n",
        "    noise_map_path=path.join(dataset_path, \"noise_map.fits\"),\n",
        "    pixel_scales=0.1,\n",
        ")"
      ],
      "outputs": [],
      "execution_count": null
    },
    {
      "cell_type": "markdown",
      "metadata": {},
      "source": [
        "We can use the `Imaging` mat_plot_2d to plot the image, noise-map and psf of the dataset."
      ]
    },
    {
      "cell_type": "code",
      "metadata": {},
      "source": [
        "imaging_plotter = aplt.ImagingPlotter(imaging=imaging)\n",
        "imaging_plotter.figures_2d(image=True, noise_map=True, psf=True)"
      ],
      "outputs": [],
      "execution_count": null
    },
    {
      "cell_type": "markdown",
      "metadata": {},
      "source": [
        "The `Imaging` mat_plot_2d also contains a subplot which plots all these properties simultaneously."
      ]
    },
    {
      "cell_type": "code",
      "metadata": {},
      "source": [
        "imaging_plotter = aplt.ImagingPlotter(imaging=imaging)\n",
        "imaging_plotter.subplot_imaging()"
      ],
      "outputs": [],
      "execution_count": null
    },
    {
      "cell_type": "markdown",
      "metadata": {},
      "source": [
        "We now need to mask the data, so that regions where there is no signal (e.g. the edges) are omitted from the fit."
      ]
    },
    {
      "cell_type": "code",
      "metadata": {},
      "source": [
        "mask = al.Mask2D.circular(\n",
        "    shape_native=imaging.shape_native, pixel_scales=imaging.pixel_scales, radius=3.0\n",
        ")"
      ],
      "outputs": [],
      "execution_count": null
    },
    {
      "cell_type": "markdown",
      "metadata": {},
      "source": [
        "The Imaging object combines the dataset with the mask.\n",
        " \n",
        "Here, the Mask2D is also used to compute the `Grid2D` we used in the lensing.py tutorial to compute lensing calculations.\n",
        "Note how the Grid2D has also had the mask applied to it."
      ]
    },
    {
      "cell_type": "code",
      "metadata": {},
      "source": [
        "imaging = imaging.apply_mask(mask=mask)\n",
        "\n",
        "grid_plotter = aplt.Grid2DPlotter(grid=imaging.grid)\n",
        "grid_plotter.figure_2d()"
      ],
      "outputs": [],
      "execution_count": null
    },
    {
      "cell_type": "markdown",
      "metadata": {},
      "source": [
        "Here is what our image looks like with the mask applied, where PyAutoLens has automatically zoomed around the mask\n",
        "to make the lensed source appear bigger."
      ]
    },
    {
      "cell_type": "code",
      "metadata": {},
      "source": [
        "imaging_plotter = aplt.ImagingPlotter(imaging=imaging)\n",
        "imaging_plotter.figures_2d(image=True)"
      ],
      "outputs": [],
      "execution_count": null
    },
    {
      "cell_type": "markdown",
      "metadata": {},
      "source": [
        "Following the lensing.py example, we can make a tracer from a collection of `LightProfile`, `MassProfile` and `Galaxy`\n",
        "objects.\n",
        "\n",
        "The combination of `LightProfile`'s and `MassProfile`'s below is the same as those used to generate the lensed data-set,\n",
        "thus it produces a tracer whose image looks exactly like the dataset. As discussed in the lensing.py tutorial, this\n",
        "tracer can be extended to include additional `LightProfile`'s`s, `MassProfile`'s and `Galaxy``s, for example if you \n",
        "wanted to fit a tracer where the lens light is included."
      ]
    },
    {
      "cell_type": "code",
      "metadata": {},
      "source": [
        "lens_galaxy = al.Galaxy(\n",
        "    redshift=0.5,\n",
        "    mass=al.mp.EllIsothermal(\n",
        "        centre=(0.0, 0.0),\n",
        "        einstein_radius=1.6,\n",
        "        elliptical_comps=al.convert.elliptical_comps_from(axis_ratio=0.7, angle=45.0),\n",
        "    ),\n",
        ")\n",
        "\n",
        "source_galaxy = al.Galaxy(\n",
        "    redshift=1.0,\n",
        "    bulge=al.lp.EllSersic(\n",
        "        centre=(0.1, 0.1),\n",
        "        elliptical_comps=al.convert.elliptical_comps_from(axis_ratio=0.8, angle=60.0),\n",
        "        intensity=0.3,\n",
        "        effective_radius=1.0,\n",
        "        sersic_index=2.5,\n",
        "    ),\n",
        ")\n",
        "\n",
        "tracer = al.Tracer.from_galaxies(galaxies=[lens_galaxy, source_galaxy])"
      ],
      "outputs": [],
      "execution_count": null
    },
    {
      "cell_type": "markdown",
      "metadata": {},
      "source": [
        "Following the lensing.py example, we can make a tracer from a collection of `LightProfile`, `MassProfile` and `Galaxy`\n",
        "objects. We can then use the `FitImaging` object to fit this tracer to the dataset. \n",
        "\n",
        "The fit performs the necessary tasks to create the model image we fit the data with, such as blurring the tracer`s \n",
        "image with the `Imaging` PSF. We can see this by comparing the tracer`s image (which isn't PSF convolved) and the \n",
        "fit`s model image (which is)."
      ]
    },
    {
      "cell_type": "code",
      "metadata": {},
      "source": [
        "tracer_plotter = aplt.TracerPlotter(tracer=tracer, grid=imaging.grid)\n",
        "tracer_plotter.figures_2d(image=True)\n",
        "\n",
        "fit = al.FitImaging(imaging=imaging, tracer=tracer)\n",
        "\n",
        "fit_imaging_plotter = aplt.FitImagingPlotter(fit=fit)\n",
        "fit_imaging_plotter.figures_2d(model_image=True)"
      ],
      "outputs": [],
      "execution_count": null
    },
    {
      "cell_type": "markdown",
      "metadata": {},
      "source": [
        "The fit creates the following:\n",
        "\n",
        " - The residual-map: The model-image subtracted from the observed dataset`s image.\n",
        " - The normalized residual-map: The residual-map divided by the noise-map.\n",
        " - The chi-squared-map: The normalized residual-map squared.\n",
        "\n",
        "we'll plot all 3 of these, alongside a subplot containing them all.\n",
        "\n",
        "For a good lens model where the model image and tracer are representative of the strong lens system the\n",
        "residuals, normalized residuals and chi-squareds are minimized:"
      ]
    },
    {
      "cell_type": "code",
      "metadata": {},
      "source": [
        "fit_imaging_plotter.figures_2d(\n",
        "    residual_map=True, normalized_residual_map=True, chi_squared_map=True\n",
        ")\n",
        "fit_imaging_plotter.subplot_fit_imaging()"
      ],
      "outputs": [],
      "execution_count": null
    },
    {
      "cell_type": "markdown",
      "metadata": {},
      "source": [
        "In contrast, a bad lens model will show features in the residual-map and chi-squareds.\n",
        "\n",
        "We can produce such an image by creating a tracer with different lens and source galaxies. In the example below, we \n",
        "change the centre of the source galaxy from (0.1, 0.1) to (0.12, 0.12), which leads to residuals appearing\n",
        "in the fit."
      ]
    },
    {
      "cell_type": "code",
      "metadata": {},
      "source": [
        "lens_galaxy = al.Galaxy(\n",
        "    redshift=0.5,\n",
        "    mass=al.mp.EllIsothermal(\n",
        "        centre=(0.0, 0.0), einstein_radius=1.6, elliptical_comps=(0.17647, 0.0)\n",
        "    ),\n",
        ")\n",
        "\n",
        "source_galaxy = al.Galaxy(\n",
        "    redshift=1.0,\n",
        "    bulge=al.lp.EllSersic(\n",
        "        centre=(0.12, 0.12),\n",
        "        elliptical_comps=(0.0, 0.111111),\n",
        "        intensity=0.3,\n",
        "        effective_radius=1.0,\n",
        "        sersic_index=2.5,\n",
        "    ),\n",
        ")\n",
        "\n",
        "tracer = al.Tracer.from_galaxies(galaxies=[lens_galaxy, source_galaxy])"
      ],
      "outputs": [],
      "execution_count": null
    },
    {
      "cell_type": "markdown",
      "metadata": {},
      "source": [
        "Lets create a new fit using this tracer and replot its residuals, normalized residuals and chi-squareds."
      ]
    },
    {
      "cell_type": "code",
      "metadata": {},
      "source": [
        "fit = al.FitImaging(imaging=imaging, tracer=tracer)\n",
        "\n",
        "fit_imaging_plotter.figures_2d(\n",
        "    residual_map=True, normalized_residual_map=True, chi_squared_map=True\n",
        ")\n",
        "fit_imaging_plotter.subplot_fit_imaging()"
      ],
      "outputs": [],
      "execution_count": null
    },
    {
      "cell_type": "markdown",
      "metadata": {},
      "source": [
        "Finish."
      ]
    },
    {
      "cell_type": "code",
      "metadata": {},
      "source": [],
      "outputs": [],
      "execution_count": null
    }
  ],
  "metadata": {
    "anaconda-cloud": {},
    "kernelspec": {
      "display_name": "Python 3",
      "language": "python",
      "name": "python3"
    },
    "language_info": {
      "codemirror_mode": {
        "name": "ipython",
        "version": 3
      },
      "file_extension": ".py",
      "mimetype": "text/x-python",
      "name": "python",
      "nbconvert_exporter": "python",
      "pygments_lexer": "ipython3",
      "version": "3.6.1"
    }
  },
  "nbformat": 4,
  "nbformat_minor": 4
}