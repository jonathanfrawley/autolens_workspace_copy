{
  "cells": [
    {
      "cell_type": "markdown",
      "metadata": {},
      "source": [
        "Overview: Pixelizations\n",
        "-----------------------\n",
        "\n",
        "Pixelizations reconstruct the source galaxy's light on a pixel-grid. Unlike `LightProfile`'s, they are able to\n",
        "reconstruct the light of non-symmetric, irregular and clumpy sources.\n",
        "\n",
        "To reconstruct the source using a `Pixelization`, we have to impose a prior on the smoothness of the reconstructed\n",
        "source, called the `Regularization`. The more we regularize the source, the smoother the source reconstruction.\n",
        "\n",
        "The process of reconstructing a `Galaxy`'s light using a `Pixelization` and `Regularization` is called an `Inversion`,\n",
        "and the term `inversion` is used throughout the **PyAutoLens** example scripts to signify that their source analysis\n",
        "reconstructs its light on a pixel-grid."
      ]
    },
    {
      "cell_type": "code",
      "metadata": {},
      "source": [
        "%matplotlib inline\n",
        "from pyprojroot import here\n",
        "workspace_path = str(here())\n",
        "%cd $workspace_path\n",
        "print(f\"Working Directory has been set to `{workspace_path}`\")\n",
        "\n",
        "from os import path\n",
        "import autolens as al\n",
        "import autolens.plot as aplt"
      ],
      "outputs": [],
      "execution_count": null
    },
    {
      "cell_type": "markdown",
      "metadata": {},
      "source": [
        "Load the `Imaging` data that we'll reconstruct the lensed source galaxy's light of using a pixelization.\n",
        "\n",
        "Note how complex the lensed source galaxy looks, with multiple clumps of light - this would be very difficult to \n",
        "represent using `LightProfile`'s!"
      ]
    },
    {
      "cell_type": "code",
      "metadata": {},
      "source": [
        "dataset_name = \"mass_sie__source_sersic_x4\"\n",
        "dataset_path = path.join(\"dataset\", \"imaging\", \"no_lens_light\", dataset_name)\n",
        "\n",
        "imaging = al.Imaging.from_fits(\n",
        "    image_path=path.join(dataset_path, \"image.fits\"),\n",
        "    psf_path=path.join(dataset_path, \"psf.fits\"),\n",
        "    noise_map_path=path.join(dataset_path, \"noise_map.fits\"),\n",
        "    pixel_scales=0.05,\n",
        ")\n",
        "\n",
        "imaging_plotter = aplt.ImagingPlotter(imaging=imaging)\n",
        "imaging_plotter.subplot_imaging()"
      ],
      "outputs": [],
      "execution_count": null
    },
    {
      "cell_type": "markdown",
      "metadata": {},
      "source": [
        "We are going to fit this data, so we must create `Mask2D` and `MaskedImaging` objects."
      ]
    },
    {
      "cell_type": "code",
      "metadata": {},
      "source": [
        "mask = al.Mask2D.circular(\n",
        "    shape_native=imaging.shape_native,\n",
        "    pixel_scales=imaging.pixel_scales,\n",
        "    sub_size=1,\n",
        "    radius=3.6,\n",
        ")\n",
        "\n",
        "masked_imaging = al.MaskedImaging(imaging=imaging, mask=mask)"
      ],
      "outputs": [],
      "execution_count": null
    },
    {
      "cell_type": "markdown",
      "metadata": {},
      "source": [
        "To reconstruct the source as a `Pixelization`, we simply pass it the `Pixelization` class we want to reconstruct its l\n",
        "ight on as well as the `Regularization` scheme describing how we smooth the source reconstruction. \n",
        "\n",
        "First, lets use a *Rectangular* `Pixelization` with resolution 40 x 40 and *Constant* regularizaton scheme with a \n",
        "relatitvely high regularization-coefficient. The higher this coefficient, the more our source reconstruction will be\n",
        "smoothed.\n",
        "\n",
        "The lens galaxy's `EllipticalIsothermal` mass model is the true model used to simulate the data."
      ]
    },
    {
      "cell_type": "code",
      "metadata": {},
      "source": [
        "lens_galaxy = al.Galaxy(\n",
        "    redshift=0.5,\n",
        "    mass=al.mp.EllipticalIsothermal(\n",
        "        centre=(0.0, 0.0), einstein_radius=1.6, elliptical_comps=(0.17647, 0.0)\n",
        "    ),\n",
        ")\n",
        "\n",
        "source_galaxy = al.Galaxy(\n",
        "    redshift=1.0,\n",
        "    pixelization=al.pix.Rectangular(shape=(40, 40)),\n",
        "    regularization=al.reg.Constant(coefficient=1.0),\n",
        ")"
      ],
      "outputs": [],
      "execution_count": null
    },
    {
      "cell_type": "markdown",
      "metadata": {},
      "source": [
        "Now that our source-galaxy has a `Pixelization` and `Regularization`, we are able to fit the data using these in the \n",
        "same way as before, by simply passing the source galaxy to a `Tracer` and using this `Tracer` to create a `FitImaging`\n",
        "object."
      ]
    },
    {
      "cell_type": "code",
      "metadata": {},
      "source": [
        "tracer = al.Tracer.from_galaxies(galaxies=[lens_galaxy, source_galaxy])\n",
        "\n",
        "fit = al.FitImaging(masked_imaging=masked_imaging, tracer=tracer)"
      ],
      "outputs": [],
      "execution_count": null
    },
    {
      "cell_type": "markdown",
      "metadata": {},
      "source": [
        "The fit has been performed using an `Inversion` for the source galaxy. We can see this by plotting the source-plane\n",
        "of the `FitImaging` using the `subplot_of_plane` mat_plot_2d. Note how the bottom-right panel shows a pixelized grid."
      ]
    },
    {
      "cell_type": "code",
      "metadata": {},
      "source": [
        "fit_imaging_plotter = aplt.FitImagingPlotter(fit=fit)\n",
        "fit_imaging_plotter.subplot_of_planes(plane_index=1)"
      ],
      "outputs": [],
      "execution_count": null
    },
    {
      "cell_type": "markdown",
      "metadata": {},
      "source": [
        "**PyAutoLens** supports many different pixel-grids. Below, we use a *VoronoiMagnification* pixelization, which defines\n",
        "the source-pixel centres in the image-plane and ray traces them to the source-plane. \n",
        "\n",
        "The source pixel-grid is therefore adapted to the mass-model magnification pattern, placing more source-pixel in the\n",
        "highly magnified regions of the source-plane."
      ]
    },
    {
      "cell_type": "code",
      "metadata": {},
      "source": [
        "source_galaxy = al.Galaxy(\n",
        "    redshift=1.0,\n",
        "    pixelization=al.pix.VoronoiMagnification(shape=(40, 40)),\n",
        "    regularization=al.reg.Constant(coefficient=1.0),\n",
        ")\n",
        "\n",
        "tracer = al.Tracer.from_galaxies(galaxies=[lens_galaxy, source_galaxy])\n",
        "\n",
        "fit = al.FitImaging(masked_imaging=masked_imaging, tracer=tracer)\n",
        "\n",
        "fit_imaging_plotter = aplt.FitImagingPlotter(fit=fit)\n",
        "fit_imaging_plotter.subplot_of_planes(plane_index=1)"
      ],
      "outputs": [],
      "execution_count": null
    },
    {
      "cell_type": "markdown",
      "metadata": {},
      "source": [
        "By inspecting the residual-map, normalized residual-map and chi-squared-map of the `FitImaging` object, we can see how\n",
        "the source reconstruction accurately fits the image of the strong lens:"
      ]
    },
    {
      "cell_type": "code",
      "metadata": {},
      "source": [
        "fit_imaging_plotter = aplt.FitImagingPlotter(fit=fit)\n",
        "fit_imaging_plotter.subplot_fit_imaging()"
      ],
      "outputs": [],
      "execution_count": null
    },
    {
      "cell_type": "markdown",
      "metadata": {},
      "source": [
        "This script has given a brief overview of *Inversions* with **PyAutoLens**. However, there is a lot more to using\n",
        "*Inversions* then presented here. \n",
        "\n",
        "In the `autolens_workspace/notebooks/modeling/inversion` folder you will find example scripts of how to fit a model to a \n",
        "strong lens using an `Inversion`. In chapters 4 and 5 of the **HowToLens** lectures we fully cover all details of  \n",
        "*Inversions*, specifically:\n",
        "\n",
        " - How the source reconstruction determines the flux-values of the source it reconstructs.\n",
        " - The Bayesian framework employed to choose the appropriate level of `Regularization` and avoid overfitting noise.\n",
        " - Unphysical lens model solutions that often arise when using an `Inversion`.\n",
        " - Advanced `Pixelization` and `Regularization` schemes that adapt to the source galaxy being reconstructed."
      ]
    },
    {
      "cell_type": "code",
      "metadata": {},
      "source": [],
      "outputs": [],
      "execution_count": null
    }
  ],
  "metadata": {
    "anaconda-cloud": {},
    "kernelspec": {
      "display_name": "Python 3",
      "language": "python",
      "name": "python3"
    },
    "language_info": {
      "codemirror_mode": {
        "name": "ipython",
        "version": 3
      },
      "file_extension": ".py",
      "mimetype": "text/x-python",
      "name": "python",
      "nbconvert_exporter": "python",
      "pygments_lexer": "ipython3",
      "version": "3.6.1"
    }
  },
  "nbformat": 4,
  "nbformat_minor": 4
}