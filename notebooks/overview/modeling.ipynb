{
  "cells": [
    {
      "cell_type": "markdown",
      "metadata": {},
      "source": [
        "Overview: Modeling\n",
        "------------------\n",
        "\n",
        "Lens modeling is the process of taking data of a strong lens (e.g. imaging data from the Hubble Space Telescope or\n",
        "interferometer data from ALMA) and fitting it with a lens model, to determine the `LightProfile`'s and `MassProfile`'s\n",
        "that best represent the observed strong lens.\n",
        "\n",
        "Lens modeling with **PyAutoLens** uses the probabilistic programming language\n",
        "`PyAutoFit <https://github.com/rhayes777/PyAutoFit>`_, an open-source Python framework that allows complex model\n",
        "fitting techniques to be straightforwardly integrated into scientific modeling software. Check it out if you\n",
        "are interested in developing your own software to perform advanced model-fitting!\n",
        "\n",
        "We import **PyAutoFit** separately to **PyAutoLens**"
      ]
    },
    {
      "cell_type": "code",
      "metadata": {},
      "source": [
        "%matplotlib inline\n",
        "from pyprojroot import here\n",
        "workspace_path = str(here())\n",
        "%cd $workspace_path\n",
        "print(f\"Working Directory has been set to `{workspace_path}`\")\n",
        "\n",
        "from os import path\n",
        "\n",
        "import autolens as al\n",
        "import autolens.plot as aplt\n",
        "\n",
        "import autofit as af"
      ],
      "outputs": [],
      "execution_count": null
    },
    {
      "cell_type": "markdown",
      "metadata": {},
      "source": [
        "In this example, we fit simulated imaging of the strong lens SLACS1430+4105. First, lets load this\n",
        "imaging dataset and plot it."
      ]
    },
    {
      "cell_type": "code",
      "metadata": {},
      "source": [
        "dataset_name = \"mass_sie__source_sersic\"\n",
        "dataset_path = path.join(\"dataset\", \"imaging\", \"no_lens_light\", dataset_name)\n",
        "\n",
        "imaging = al.Imaging.from_fits(\n",
        "    image_path=path.join(dataset_path, \"image.fits\"),\n",
        "    psf_path=path.join(dataset_path, \"psf.fits\"),\n",
        "    noise_map_path=path.join(dataset_path, \"noise_map.fits\"),\n",
        "    pixel_scales=0.1,\n",
        ")"
      ],
      "outputs": [],
      "execution_count": null
    },
    {
      "cell_type": "markdown",
      "metadata": {},
      "source": [
        "We next mask the dataset, to remove the exterior regions of the image that do not contain emission from the lens or\n",
        "source galaxy.\n",
        "\n",
        "Note how when we plot the `MaskedImaging` below, the figure now zooms into the masked region."
      ]
    },
    {
      "cell_type": "code",
      "metadata": {},
      "source": [
        "mask = al.Mask2D.circular(\n",
        "    shape_native=imaging.shape_native, pixel_scales=imaging.pixel_scales, radius=3.0\n",
        ")\n",
        "\n",
        "masked_imaging = al.MaskedImaging(imaging=imaging, mask=mask)\n",
        "\n",
        "masked_imaging_plotter = aplt.ImagingPlotter(imaging=masked_imaging)\n",
        "masked_imaging_plotter.subplot()"
      ],
      "outputs": [],
      "execution_count": null
    },
    {
      "cell_type": "markdown",
      "metadata": {},
      "source": [
        "We compose the lens model that we fit to the data using `GalaxyModel` objects. These behave analogously to `Galaxy`\n",
        "objects but their  `LightProfile` and `MassProfile` parameters are not specified and are instead determined by a\n",
        "fitting procedure.\n",
        "\n",
        "We will fit our strong lens data with two galaxies:\n",
        "\n",
        "- A lens galaxy with a `EllipticalSersic` `LightProfile` representing a bulge and\n",
        "  `EllipticalIsothermal` `MassProfile` representing its mass.\n",
        "- A source galaxy with an `EllipticalExponential` `LightProfile` representing a disk.\n",
        "\n",
        "The redshifts of the lens (z=0.5) and source(z=1.0) are fixed."
      ]
    },
    {
      "cell_type": "code",
      "metadata": {},
      "source": [
        "lens_galaxy_model = al.GalaxyModel(\n",
        "    redshift=0.5, bulge=al.lp.EllipticalSersic, mass=al.mp.EllipticalIsothermal\n",
        ")\n",
        "\n",
        "source_galaxy_model = al.GalaxyModel(redshift=1.0, disk=al.lp.EllipticalExponential)"
      ],
      "outputs": [],
      "execution_count": null
    },
    {
      "cell_type": "markdown",
      "metadata": {},
      "source": [
        "We now choose the `NonLinearSearch`, which is the fitting method used to determine the set of `LightProfile`\n",
        "and `MassProfile` parameters that best-fit our data.\n",
        "\n",
        "In this example we use `dynesty` (https://github.com/joshspeagle/dynesty), a nested sampling algorithm that is\n",
        "very effective at lens modeling."
      ]
    },
    {
      "cell_type": "code",
      "metadata": {},
      "source": [
        "search = af.DynestyStatic(name=\"overview_modeling\")"
      ],
      "outputs": [],
      "execution_count": null
    },
    {
      "cell_type": "markdown",
      "metadata": {},
      "source": [
        "To perform the model-fit, we create a ``PhaseImaging`` object and 'run' the phase by passing it the dataset and mask.\n",
        "\n",
        "(Lens modeling can often take hours, or more, to be performed. For this example, we have preloaded the results of the\n",
        "lens modeling process so that the code above runs instantly.)"
      ]
    },
    {
      "cell_type": "code",
      "metadata": {},
      "source": [
        "phase = al.PhaseImaging(\n",
        "    search=search,\n",
        "    galaxies=af.CollectionPriorModel(\n",
        "        lens=lens_galaxy_model, source=source_galaxy_model\n",
        "    ),\n",
        ")\n",
        "\n",
        "result = phase.run(dataset=imaging, mask=mask)"
      ],
      "outputs": [],
      "execution_count": null
    },
    {
      "cell_type": "markdown",
      "metadata": {},
      "source": [
        "The `PhaseImaging` object above returns a `Result` object, which contains the maximum log likelihood `Tracer`\n",
        "and `FitImaging` objects and which can easily be plotted."
      ]
    },
    {
      "cell_type": "code",
      "metadata": {},
      "source": [
        "tracer_plotter = aplt.TracerPlotter(\n",
        "    tracer=result.max_log_likelihood_tracer, grid=masked_imaging.grid\n",
        ")\n",
        "tracer_plotter.subplot_tracer()\n",
        "\n",
        "fit_imaging_plotter = aplt.FitImagingPlotter(fit=result.max_log_likelihood_fit)\n",
        "fit_imaging_plotter.subplot_fit_imaging()"
      ],
      "outputs": [],
      "execution_count": null
    },
    {
      "cell_type": "markdown",
      "metadata": {},
      "source": [
        "In fact, this ``Result`` object contains the full posterior information of our ``NonLinearSearch``, including all\n",
        "parameter samples, log likelihood values and tools to compute the errors on the lens model.\n",
        "\n",
        "The script `autolens_workspace/examples/mdoel/result.py` contains a full description of all information contained\n",
        "in a ``Result``."
      ]
    },
    {
      "cell_type": "code",
      "metadata": {},
      "source": [],
      "outputs": [],
      "execution_count": null
    }
  ],
  "metadata": {
    "anaconda-cloud": {},
    "kernelspec": {
      "display_name": "Python 3",
      "language": "python",
      "name": "python3"
    },
    "language_info": {
      "codemirror_mode": {
        "name": "ipython",
        "version": 3
      },
      "file_extension": ".py",
      "mimetype": "text/x-python",
      "name": "python",
      "nbconvert_exporter": "python",
      "pygments_lexer": "ipython3",
      "version": "3.6.1"
    }
  },
  "nbformat": 4,
  "nbformat_minor": 4
}