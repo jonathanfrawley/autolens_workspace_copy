{
  "cells": [
    {
      "cell_type": "markdown",
      "metadata": {},
      "source": [
        "Overview: Modeling\n",
        "------------------\n",
        "\n",
        "Lens modeling is the process of taking data of a strong lens (e.g. imaging data from the Hubble Space Telescope or\n",
        "interferometer data from ALMA) and fitting it with a lens model, to determine the `LightProfile`'s and `MassProfile`'s\n",
        "that best represent the observed strong lens.\n",
        "\n",
        "Lens modeling with **PyAutoLens** uses the probabilistic programming language\n",
        "`PyAutoFit <https://github.com/rhayes777/PyAutoFit>`_, an open-source Python framework that allows complex model\n",
        "fitting techniques to be straightforwardly integrated into scientific modeling software. Check it out if you\n",
        "are interested in developing your own software to perform advanced model-fitting!\n",
        "\n",
        "We import **PyAutoFit** separately to **PyAutoLens**"
      ]
    },
    {
      "cell_type": "code",
      "metadata": {},
      "source": [
        "%matplotlib inline\n",
        "from pyprojroot import here\n",
        "workspace_path = str(here())\n",
        "%cd $workspace_path\n",
        "print(f\"Working Directory has been set to `{workspace_path}`\")\n",
        "\n",
        "from os import path\n",
        "\n",
        "import autolens as al\n",
        "import autolens.plot as aplt\n",
        "\n",
        "import autofit as af"
      ],
      "outputs": [],
      "execution_count": null
    },
    {
      "cell_type": "markdown",
      "metadata": {},
      "source": [
        "In this example, we fit simulated imaging of the strong lens SLACS1430+4105. First, lets load this\n",
        "imaging dataset and plot it."
      ]
    },
    {
      "cell_type": "code",
      "metadata": {},
      "source": [
        "dataset_name = \"mass_sie__source_sersic\"\n",
        "dataset_path = path.join(\"dataset\", \"imaging\", \"no_lens_light\", dataset_name)\n",
        "\n",
        "imaging = al.Imaging.from_fits(\n",
        "    image_path=path.join(dataset_path, \"image.fits\"),\n",
        "    psf_path=path.join(dataset_path, \"psf.fits\"),\n",
        "    noise_map_path=path.join(dataset_path, \"noise_map.fits\"),\n",
        "    pixel_scales=0.1,\n",
        ")"
      ],
      "outputs": [],
      "execution_count": null
    },
    {
      "cell_type": "markdown",
      "metadata": {},
      "source": [
        "We next mask the dataset, to remove the exterior regions of the image that do not contain emission from the lens or\n",
        "source galaxy.\n",
        "\n",
        "Note how when we plot the `Imaging` below, the figure now zooms into the masked region."
      ]
    },
    {
      "cell_type": "code",
      "metadata": {},
      "source": [
        "mask = al.Mask2D.circular(\n",
        "    shape_native=imaging.shape_native, pixel_scales=imaging.pixel_scales, radius=3.0\n",
        ")\n",
        "\n",
        "imaging = imaging.apply_mask(mask=mask)\n",
        "\n",
        "imaging_plotter = aplt.ImagingPlotter(imaging=imaging)\n",
        "imaging_plotter.subplot()"
      ],
      "outputs": [],
      "execution_count": null
    },
    {
      "cell_type": "markdown",
      "metadata": {},
      "source": [
        "We compose the lens model that we fit to the data using `Model` objects. These behave analogously to `Galaxy`\n",
        "objects but their  `LightProfile` and `MassProfile` parameters are not specified and are instead determined by a\n",
        "fitting procedure.\n",
        "\n",
        "We will fit our strong lens data with two galaxies:\n",
        "\n",
        "- A lens galaxy with a `EllSersic` `LightProfile` representing a bulge and\n",
        "  `EllIsothermal` `MassProfile` representing its mass.\n",
        "- A source galaxy with an `EllExponential` `LightProfile` representing a disk.\n",
        "\n",
        "The redshifts of the lens (z=0.5) and source(z=1.0) are fixed."
      ]
    },
    {
      "cell_type": "code",
      "metadata": {},
      "source": [
        "lens_galaxy_model = af.Model(\n",
        "    al.Galaxy, redshift=0.5, bulge=al.lp.EllSersic, mass=al.mp.EllIsothermal\n",
        ")\n",
        "\n",
        "source_galaxy_model = af.Model(al.Galaxy, redshift=1.0, disk=al.lp.EllExponential)"
      ],
      "outputs": [],
      "execution_count": null
    },
    {
      "cell_type": "markdown",
      "metadata": {},
      "source": [
        "We combine the lens and source model galaxies above into a `Collection`, which is the model we will fit. Note how\n",
        "we could easily extend this object to compose highly complex models containing many galaxies."
      ]
    },
    {
      "cell_type": "code",
      "metadata": {},
      "source": [
        "model = af.Collection(lens=lens_galaxy_model, source=source_galaxy_model)"
      ],
      "outputs": [],
      "execution_count": null
    },
    {
      "cell_type": "markdown",
      "metadata": {},
      "source": [
        "We now choose the non-linear search, which is the fitting method used to determine the set of `LightProfile`\n",
        "and `MassProfile` parameters that best-fit our data.\n",
        "\n",
        "In this example we use `dynesty` (https://github.com/joshspeagle/dynesty), a nested sampling algorithm that is\n",
        "very effective at lens modeling."
      ]
    },
    {
      "cell_type": "code",
      "metadata": {},
      "source": [
        "search = af.DynestyStatic(name=\"overview_modeling\")"
      ],
      "outputs": [],
      "execution_count": null
    },
    {
      "cell_type": "markdown",
      "metadata": {},
      "source": [
        "We next create an `AnalysisImaging` object, which contains the `log likelihood function` that the non-linear search \n",
        "calls to fit the lens model to the data."
      ]
    },
    {
      "cell_type": "code",
      "metadata": {},
      "source": [
        "analysis = al.AnalysisImaging(dataset=imaging)"
      ],
      "outputs": [],
      "execution_count": null
    },
    {
      "cell_type": "markdown",
      "metadata": {},
      "source": [
        "To perform the model-fit we pass the model and analysis to the search's fit method. This will output results (e.g.,\n",
        "dynesty samples, model parameters, visualization) to hard-disk.\n",
        "\n",
        "Once running you should checkout the `autolens_workspace/output` folder, which is where the results of the search are \n",
        "written to hard-disk (in the `overview_modeling` folder) on-the-fly. This includes lens model parameter estimates with \n",
        "errors non-linear samples and the visualization of the best-fit lens model inferred by the search so far. "
      ]
    },
    {
      "cell_type": "code",
      "metadata": {},
      "source": [
        "result = search.fit(model=model, analysis=analysis)"
      ],
      "outputs": [],
      "execution_count": null
    },
    {
      "cell_type": "markdown",
      "metadata": {},
      "source": [
        "Whilst navigating the output folder, you may of noted the results were contained in a folder that appears as a random\n",
        "collection of charachters. \n",
        "\n",
        "This is the model-fit's unique identifier, which is generated based on the model, search and dataset used by the fit. \n",
        "Fitting an identical model, search and dataset will generate the same identifier, meaning that rerunning the script \n",
        "will use the existing results to resume the model-fit. In contrast, if you change the model, search or dataset, a new \n",
        "unique identifier will be generated, ensuring that the model-fit results are output into a separate folder.\n",
        "\n",
        "The fit above returns a ``Result`` object, which contains the maximum log likelihood ``Tracer`` and ``FitImaging``\n",
        "objects and which can easily be plotted."
      ]
    },
    {
      "cell_type": "code",
      "metadata": {},
      "source": [
        "tracer_plotter = aplt.TracerPlotter(\n",
        "    tracer=result.max_log_likelihood_tracer, grid=imaging.grid\n",
        ")\n",
        "tracer_plotter.subplot_tracer()\n",
        "\n",
        "fit_imaging_plotter = aplt.FitImagingPlotter(fit=result.max_log_likelihood_fit)\n",
        "fit_imaging_plotter.subplot_fit_imaging()"
      ],
      "outputs": [],
      "execution_count": null
    },
    {
      "cell_type": "markdown",
      "metadata": {},
      "source": [
        "In fact, this ``Result`` object contains the full posterior information of our non-linear search, including all\n",
        "parameter samples, log likelihood values and tools to compute the errors on the lens model.\n",
        "\n",
        "The script `autolens_workspace/examples/mdoel/result.py` contains a full description of all information contained\n",
        "in a ``Result``."
      ]
    },
    {
      "cell_type": "code",
      "metadata": {},
      "source": [],
      "outputs": [],
      "execution_count": null
    }
  ],
  "metadata": {
    "anaconda-cloud": {},
    "kernelspec": {
      "display_name": "Python 3",
      "language": "python",
      "name": "python3"
    },
    "language_info": {
      "codemirror_mode": {
        "name": "ipython",
        "version": 3
      },
      "file_extension": ".py",
      "mimetype": "text/x-python",
      "name": "python",
      "nbconvert_exporter": "python",
      "pygments_lexer": "ipython3",
      "version": "3.6.1"
    }
  },
  "nbformat": 4,
  "nbformat_minor": 4
}