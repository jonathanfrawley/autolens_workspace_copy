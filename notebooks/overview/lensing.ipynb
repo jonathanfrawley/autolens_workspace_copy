{
  "cells": [
    {
      "cell_type": "markdown",
      "metadata": {},
      "source": [
        "Overview: Lensing\n",
        "-----------------\n",
        "\n",
        "When two galaxies are aligned perfectly down the line-of-sight to Earth, the background galaxy's light is bent by the\n",
        "intervening mass of the foreground galaxy. Its light can be fully bent around the foreground galaxy, traversing multiple\n",
        "paths to the Earth, meaning that the background galaxy is observed multiple times. This by-chance alignment of two\n",
        "galaxies is called a strong gravitational lens and a two-dimensional scheme of such a system is pictured below.\n",
        "\n",
        "PyAutoLens is software designed for modeling these strong lensing systems!\n",
        "\n",
        "To begin, lets import autolens and the plot module."
      ]
    },
    {
      "cell_type": "code",
      "metadata": {},
      "source": [
        "%matplotlib inline\n",
        "from pyprojroot import here\n",
        "workspace_path = str(here())\n",
        "%cd $workspace_path\n",
        "print(f\"Working Directory has been set to `{workspace_path}`\")\n",
        "\n",
        "from astropy import cosmology as cosmo\n",
        "import autolens as al\n",
        "import autolens.plot as aplt"
      ],
      "outputs": [],
      "execution_count": null
    },
    {
      "cell_type": "markdown",
      "metadata": {},
      "source": [
        "To describe the deflection of light, **PyAutoLens** uses `Grid2D` data structures, which are two-dimensional\n",
        "Cartesian grids of (y,x) coordinates. \n",
        "\n",
        "Below, we make and plot a uniform Cartesian grid:"
      ]
    },
    {
      "cell_type": "code",
      "metadata": {},
      "source": [
        "grid = al.Grid2D.uniform(\n",
        "    shape_native=(50, 50),\n",
        "    pixel_scales=0.1,  # <- The pixel-scale describes the conversion from pixel units to arc-seconds.\n",
        ")"
      ],
      "outputs": [],
      "execution_count": null
    },
    {
      "cell_type": "markdown",
      "metadata": {},
      "source": [
        "Our aim is to ray-trace this `Grid2D`'s coordinates to calculate how the lens galaxy's mass deflects the source \n",
        "galaxy's light. We therefore need analytic functions representing a galaxy's light and mass distributions. \n",
        "\n",
        "For this,  **PyAutoLens** uses `Profile` objects, for example the `EllSersic` `LightProfile` object which\n",
        "represents a light distribution:"
      ]
    },
    {
      "cell_type": "code",
      "metadata": {},
      "source": [
        "sersic_light_profile = al.lp.EllSersic(\n",
        "    centre=(0.0, 0.0),\n",
        "    elliptical_comps=(0.2, 0.1),\n",
        "    intensity=0.005,\n",
        "    effective_radius=2.0,\n",
        "    sersic_index=4.0,\n",
        ")"
      ],
      "outputs": [],
      "execution_count": null
    },
    {
      "cell_type": "markdown",
      "metadata": {},
      "source": [
        "By passing this profile a `Grid2D`, we can evaluate the light at every (y,x) coordinate on the `Grid2D` and create an \n",
        "image of the `LightProfile`."
      ]
    },
    {
      "cell_type": "code",
      "metadata": {},
      "source": [
        "image = sersic_light_profile.image_2d_from_grid(grid=grid)"
      ],
      "outputs": [],
      "execution_count": null
    },
    {
      "cell_type": "markdown",
      "metadata": {},
      "source": [
        "The PyAutoLens plot module provides methods for plotting objects and their properties, like the `LightProfile`'s image."
      ]
    },
    {
      "cell_type": "code",
      "metadata": {},
      "source": [
        "light_profile_plotter = aplt.LightProfilePlotter(\n",
        "    light_profile=sersic_light_profile, grid=grid\n",
        ")\n",
        "light_profile_plotter.figures_2d(image=True)"
      ],
      "outputs": [],
      "execution_count": null
    },
    {
      "cell_type": "markdown",
      "metadata": {},
      "source": [
        "**PyAutoLens** uses `MassProfile` objects to represent a galaxy's mass distribution and perform ray-tracing\n",
        "calculations. \n",
        "\n",
        "Below we create an `EllIsothermal` `MassProfile` and compute its deflection angles on our Cartesian grid:"
      ]
    },
    {
      "cell_type": "code",
      "metadata": {},
      "source": [
        "isothermal_mass_profile = al.mp.EllIsothermal(\n",
        "    centre=(0.0, 0.0), elliptical_comps=(0.1, 0.0), einstein_radius=1.6\n",
        ")\n",
        "deflections = isothermal_mass_profile.deflections_2d_from_grid(grid=grid)"
      ],
      "outputs": [],
      "execution_count": null
    },
    {
      "cell_type": "markdown",
      "metadata": {},
      "source": [
        "Lets plot the `MassProfile`'s deflection angle map."
      ]
    },
    {
      "cell_type": "code",
      "metadata": {},
      "source": [
        "mass_profile_plotter = aplt.MassProfilePlotter(\n",
        "    mass_profile=isothermal_mass_profile, grid=grid\n",
        ")\n",
        "mass_profile_plotter.figures_2d(\n",
        "    convergence=False, potential=False, deflections_y=True, deflections_x=True\n",
        ")"
      ],
      "outputs": [],
      "execution_count": null
    },
    {
      "cell_type": "markdown",
      "metadata": {},
      "source": [
        "The deflection angles describe how a given mass distribution deflects the light-rays of the source galaxy, allowing\n",
        "us create strong lens systems like the one shown above!\n",
        "\n",
        "A `Galaxy` object is a collection of `LightProfile` and `MassProfile` objects at a given redshift. The code below \n",
        "creates two galaxies representing the lens and source galaxies shown in the strong lensing diagram above."
      ]
    },
    {
      "cell_type": "code",
      "metadata": {},
      "source": [
        "lens_galaxy = al.Galaxy(\n",
        "    redshift=0.5, bulge=sersic_light_profile, mass=isothermal_mass_profile\n",
        ")\n",
        "\n",
        "source_light_profile = al.lp.EllExponential(\n",
        "    centre=(0.3, 0.2), elliptical_comps=(0.1, 0.0), intensity=0.1, effective_radius=0.5\n",
        ")\n",
        "\n",
        "source_galaxy = al.Galaxy(redshift=1.0, bulge=source_light_profile)"
      ],
      "outputs": [],
      "execution_count": null
    },
    {
      "cell_type": "markdown",
      "metadata": {},
      "source": [
        "The geometry of the strong lens system depends on the cosmological distances between the Earth, the lens galaxy and \n",
        "the source galaxy. It there depends on the redshifts of the `Galaxy` objects. \n",
        "\n",
        "By passing these `Galaxy` objects to a `Tracer`, **PyAutoLens** uses these galaxy redshifts and a cosmological model \n",
        "to create the appropriate strong lens system."
      ]
    },
    {
      "cell_type": "code",
      "metadata": {},
      "source": [
        "tracer = al.Tracer.from_galaxies(\n",
        "    galaxies=[lens_galaxy, source_galaxy], cosmology=cosmo.Planck15\n",
        ")"
      ],
      "outputs": [],
      "execution_count": null
    },
    {
      "cell_type": "markdown",
      "metadata": {},
      "source": [
        "We can now create the image of a strong lens system! \n",
        "\n",
        "When calculating this image, the `Tracer` performs all ray-tracing for the strong lens system. This includes using the \n",
        "lens galaxy's total mass distribution to deflect the light-rays that are traced to the source galaxy. As a result, \n",
        "the source's appears as a multiply imaged and strongly lensed Einstein ring."
      ]
    },
    {
      "cell_type": "code",
      "metadata": {},
      "source": [
        "image = tracer.image_2d_from_grid(grid=grid)\n",
        "\n",
        "tracer_plotter = aplt.TracerPlotter(tracer=tracer, grid=grid)\n",
        "tracer_plotter.figures_2d(image=True)"
      ],
      "outputs": [],
      "execution_count": null
    },
    {
      "cell_type": "markdown",
      "metadata": {},
      "source": [
        "The `TracerPlotter` includes the `MassProfile` quantities we plotted previously, which can be plotted as a subplot \n",
        "that plots all these quantities simultaneously."
      ]
    },
    {
      "cell_type": "code",
      "metadata": {},
      "source": [
        "tracer_plotter.subplot_tracer()"
      ],
      "outputs": [],
      "execution_count": null
    },
    {
      "cell_type": "markdown",
      "metadata": {},
      "source": [
        "The `Tracer` is composed of planes, for the system above just two planes, an image-plane (at redshift=0.5) and a \n",
        "source-plane (at redshift=1.0). When creating the image from a Tracer, the `MassProfile` is used to `ray-trace` the \n",
        "image-plane grid to the source-plane grid, via the `MassProfile`'s deflection angles.\n",
        "\n",
        "We can use the Tracer`s traced_grid method to plot the image-plalne and source-plane grids."
      ]
    },
    {
      "cell_type": "code",
      "metadata": {},
      "source": [
        "traced_grids = tracer.traced_grids_of_planes_from_grid(grid=grid)\n",
        "\n",
        "grid_plotter = aplt.Grid2DPlotter(grid=traced_grids[0])\n",
        "grid_plotter.figure_2d()  # Image-plane grid.\n",
        "\n",
        "grid_plotter = aplt.Grid2DPlotter(grid=traced_grids[1])\n",
        "grid_plotter.figure_2d()  # Source-plane grid."
      ],
      "outputs": [],
      "execution_count": null
    },
    {
      "cell_type": "markdown",
      "metadata": {},
      "source": [
        "The PyAutoLens API has been designed such that all of the objects introduced above are extensible. `Galaxy` objects can\n",
        "take many `Profile`'s and `Tracer`'s many `Galaxy`'s. \n",
        "\n",
        "If the galaxies are at different redshifts a strong lensing system with multiple lens planes will be created, \n",
        "performing complex multi-plane ray-tracing calculations.\n",
        "\n",
        "To finish, lets create a `Tracer` with 3 galaxies at 3 different redshifts, forming a system with two distinct Einstein\n",
        "rings! The mass distribution of the first galaxy also has separate components for its stellar mass and dark matter."
      ]
    },
    {
      "cell_type": "code",
      "metadata": {},
      "source": [
        "lens_galaxy_0 = al.Galaxy(\n",
        "    redshift=0.5,\n",
        "    bulge=al.lmp.EllSersic(\n",
        "        centre=(0.0, 0.0),\n",
        "        elliptical_comps=(0.0, 0.05),\n",
        "        intensity=0.5,\n",
        "        effective_radius=0.3,\n",
        "        sersic_index=3.5,\n",
        "        mass_to_light_ratio=0.6,\n",
        "    ),\n",
        "    disk=al.lmp.EllExponential(\n",
        "        centre=(0.0, 0.0),\n",
        "        elliptical_comps=(0.0, 0.1),\n",
        "        intensity=1.0,\n",
        "        effective_radius=2.0,\n",
        "        mass_to_light_ratio=0.2,\n",
        "    ),\n",
        "    dark=al.mp.SphNFW(centre=(0.0, 0.0), kappa_s=0.08, scale_radius=30.0),\n",
        ")\n",
        "\n",
        "lens_galaxy_1 = al.Galaxy(\n",
        "    redshift=1.0,\n",
        "    bulge=al.lp.EllExponential(\n",
        "        centre=(0.00, 0.00),\n",
        "        elliptical_comps=(0.05, 0.05),\n",
        "        intensity=1.2,\n",
        "        effective_radius=0.1,\n",
        "    ),\n",
        "    mass=al.mp.EllIsothermal(\n",
        "        centre=(0.0, 0.0), elliptical_comps=(0.05, 0.05), einstein_radius=0.6\n",
        "    ),\n",
        ")\n",
        "\n",
        "source_galaxy = al.Galaxy(\n",
        "    redshift=2.0,\n",
        "    bulge=al.lp.EllSersic(\n",
        "        centre=(0.0, 0.0),\n",
        "        elliptical_comps=(0.0, 0.111111),\n",
        "        intensity=0.7,\n",
        "        effective_radius=0.1,\n",
        "        sersic_index=1.5,\n",
        "    ),\n",
        ")\n",
        "\n",
        "tracer = al.Tracer.from_galaxies(galaxies=[lens_galaxy_0, lens_galaxy_1, source_galaxy])"
      ],
      "outputs": [],
      "execution_count": null
    },
    {
      "cell_type": "markdown",
      "metadata": {},
      "source": [
        "This is what the lens looks like."
      ]
    },
    {
      "cell_type": "code",
      "metadata": {},
      "source": [
        "tracer_plotter = aplt.TracerPlotter(tracer=tracer, grid=grid)\n",
        "tracer_plotter.figures_2d(image=True)"
      ],
      "outputs": [],
      "execution_count": null
    },
    {
      "cell_type": "markdown",
      "metadata": {},
      "source": [
        "Finish."
      ]
    },
    {
      "cell_type": "code",
      "metadata": {},
      "source": [],
      "outputs": [],
      "execution_count": null
    }
  ],
  "metadata": {
    "anaconda-cloud": {},
    "kernelspec": {
      "display_name": "Python 3",
      "language": "python",
      "name": "python3"
    },
    "language_info": {
      "codemirror_mode": {
        "name": "ipython",
        "version": 3
      },
      "file_extension": ".py",
      "mimetype": "text/x-python",
      "name": "python",
      "nbconvert_exporter": "python",
      "pygments_lexer": "ipython3",
      "version": "3.6.1"
    }
  },
  "nbformat": 4,
  "nbformat_minor": 4
}