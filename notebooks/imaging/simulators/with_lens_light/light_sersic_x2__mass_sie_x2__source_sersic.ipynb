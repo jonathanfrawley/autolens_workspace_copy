{
 "cells": [
  {
   "cell_type": "markdown",
   "metadata": {},
   "source": [
    "Simulator: Light x2 + SIE x2\n",
    "============================\n",
    "\n",
    "This script simulates `Imaging` of a strong lens where:\n",
    "\n",
    " - The lens galaxy's light is two `EllipticalSersic`'s.\n",
    " - The lens galaxy's mass distribution is two `EllipticalIsothermal`'s.\n",
    " - The source galaxy's `LightProfile` is an `EllipticalSersic`.\n",
    "\n",
    "This dataset is used in chapter 3 of the **HowToLens** lectures."
   ]
  },
  {
   "cell_type": "code",
   "execution_count": 1,
   "metadata": {
    "execution": {
     "iopub.execute_input": "2021-03-06T11:55:31.398243Z",
     "iopub.status.busy": "2021-03-06T11:55:31.397851Z",
     "iopub.status.idle": "2021-03-06T11:55:35.588738Z",
     "shell.execute_reply": "2021-03-06T11:55:35.589027Z"
    }
   },
   "outputs": [
    {
     "name": "stdout",
     "output_type": "stream",
     "text": [
      "/mnt/c/Users/Jammy/Code/PyAuto/autolens_workspace\n",
      "Working Directory has been set to `/mnt/c/Users/Jammy/Code/PyAuto/autolens_workspace`\n"
     ]
    }
   ],
   "source": [
    "%matplotlib inline\n",
    "from pyprojroot import here\n",
    "workspace_path = str(here())\n",
    "%cd $workspace_path\n",
    "print(f\"Working Directory has been set to `{workspace_path}`\")\n",
    "\n",
    "from os import path\n",
    "import autolens as al\n",
    "import autolens.plot as aplt"
   ]
  },
  {
   "cell_type": "markdown",
   "metadata": {},
   "source": [
    "The `dataset_type` describes the type of data being simulated (in this case, `Imaging` data) and `dataset_name` \n",
    "gives it a descriptive name. They define the folder the dataset is output to on your hard-disk:\n",
    "\n",
    " - The image will be output to `/autolens_workspace/dataset/dataset_type/dataset_label/dataset_name/image.fits`.\n",
    " - The noise-map will be output to `/autolens_workspace/dataset/dataset_type/dataset_label/dataset_name/noise_map.fits`.\n",
    " - The psf will be output to `/autolens_workspace/dataset/dataset_type/dataset_label/dataset_name/psf.fits`."
   ]
  },
  {
   "cell_type": "code",
   "execution_count": 2,
   "metadata": {
    "execution": {
     "iopub.execute_input": "2021-03-06T11:55:35.591638Z",
     "iopub.status.busy": "2021-03-06T11:55:35.591281Z",
     "iopub.status.idle": "2021-03-06T11:55:35.593131Z",
     "shell.execute_reply": "2021-03-06T11:55:35.592834Z"
    }
   },
   "outputs": [],
   "source": [
    "dataset_type = \"imaging\"\n",
    "dataset_label = \"with_lens_light\"\n",
    "dataset_name = \"light_sersic_x2__mass_sie_x2__source_sersic\""
   ]
  },
  {
   "cell_type": "markdown",
   "metadata": {},
   "source": [
    "The path where the dataset will be output, which in this case is:\n",
    "`/autolens_workspace/dataset/imaging/with_lens_light/light_sersic_x2__mass_sie_x2__source_sersic`"
   ]
  },
  {
   "cell_type": "code",
   "execution_count": 3,
   "metadata": {
    "execution": {
     "iopub.execute_input": "2021-03-06T11:55:35.596211Z",
     "iopub.status.busy": "2021-03-06T11:55:35.595813Z",
     "iopub.status.idle": "2021-03-06T11:55:35.597563Z",
     "shell.execute_reply": "2021-03-06T11:55:35.597859Z"
    }
   },
   "outputs": [],
   "source": [
    "dataset_path = path.join(\"dataset\", dataset_type, dataset_label, dataset_name)"
   ]
  },
  {
   "cell_type": "markdown",
   "metadata": {},
   "source": [
    "For simulating an image of a strong lens, we recommend using a Grid2DIterate object. This represents a grid of $(y,x)$ \n",
    "coordinates like an ordinary Grid2D, but when the light-profile`s image is evaluated below (using the Tracer) the \n",
    "sub-size of the grid is iteratively increased (in steps of 2, 4, 8, 16, 24) until the input fractional accuracy of \n",
    "99.99% is met.\n",
    "\n",
    "This ensures that the divergent and bright central regions of the source galaxy are fully resolved when determining the\n",
    "total flux emitted within a pixel."
   ]
  },
  {
   "cell_type": "code",
   "execution_count": 4,
   "metadata": {
    "execution": {
     "iopub.execute_input": "2021-03-06T11:55:35.601294Z",
     "iopub.status.busy": "2021-03-06T11:55:35.600934Z",
     "iopub.status.idle": "2021-03-06T11:55:36.290132Z",
     "shell.execute_reply": "2021-03-06T11:55:36.290389Z"
    }
   },
   "outputs": [],
   "source": [
    "grid = al.Grid2DIterate.uniform(\n",
    "    shape_native=(150, 150),\n",
    "    pixel_scales=0.05,\n",
    "    fractional_accuracy=0.9999,\n",
    "    sub_steps=[2, 4, 8, 16, 24],\n",
    ")"
   ]
  },
  {
   "cell_type": "markdown",
   "metadata": {},
   "source": [
    "Simulate a simple Gaussian PSF for the image."
   ]
  },
  {
   "cell_type": "code",
   "execution_count": 5,
   "metadata": {
    "execution": {
     "iopub.execute_input": "2021-03-06T11:55:36.293292Z",
     "iopub.status.busy": "2021-03-06T11:55:36.292960Z",
     "iopub.status.idle": "2021-03-06T11:55:36.294918Z",
     "shell.execute_reply": "2021-03-06T11:55:36.295183Z"
    }
   },
   "outputs": [],
   "source": [
    "psf = al.Kernel2D.from_gaussian(\n",
    "    shape_native=(11, 11), sigma=0.1, pixel_scales=grid.pixel_scales\n",
    ")"
   ]
  },
  {
   "cell_type": "markdown",
   "metadata": {},
   "source": [
    "To simulate the `Imaging` dataset we first create a simulator, which defines the exposure time, background sky,\n",
    "noise levels and psf of the dataset that is simulated."
   ]
  },
  {
   "cell_type": "code",
   "execution_count": 6,
   "metadata": {
    "execution": {
     "iopub.execute_input": "2021-03-06T11:55:36.297663Z",
     "iopub.status.busy": "2021-03-06T11:55:36.297306Z",
     "iopub.status.idle": "2021-03-06T11:55:36.299240Z",
     "shell.execute_reply": "2021-03-06T11:55:36.298883Z"
    }
   },
   "outputs": [],
   "source": [
    "simulator = al.SimulatorImaging(\n",
    "    exposure_time=300.0, psf=psf, background_sky_level=0.1, add_poisson_noise=True\n",
    ")"
   ]
  },
  {
   "cell_type": "markdown",
   "metadata": {},
   "source": [
    "Setup the lens galaxy's mass (SIE+Shear) and source galaxy light (elliptical Sersic) for this simulated lens.\n",
    "\n",
    "For lens modeling, defining ellipticity in terms of the `elliptical_comps` improves the model-fitting procedure.\n",
    "\n",
    "However, for simulating a strong lens you may find it more intuitive to define the elliptical geometry using the \n",
    "axis-ratio of the profile (axis_ratio = semi-major axis / semi-minor axis = b/a) and position angle phi, where phi is\n",
    "in degrees and defined counter clockwise from the positive x-axis.\n",
    "\n",
    "We can use the **PyAutoLens** `convert` module to determine the elliptical components from the axis-ratio and phi."
   ]
  },
  {
   "cell_type": "code",
   "execution_count": 7,
   "metadata": {
    "execution": {
     "iopub.execute_input": "2021-03-06T11:55:36.303482Z",
     "iopub.status.busy": "2021-03-06T11:55:36.303127Z",
     "iopub.status.idle": "2021-03-06T11:55:36.304791Z",
     "shell.execute_reply": "2021-03-06T11:55:36.305084Z"
    }
   },
   "outputs": [],
   "source": [
    "lens_galaxy_0 = al.Galaxy(\n",
    "    redshift=0.5,\n",
    "    bulge=al.lp.EllipticalSersic(\n",
    "        centre=(0.0, -1.0),\n",
    "        elliptical_comps=(0.25, 0.1),\n",
    "        intensity=0.1,\n",
    "        effective_radius=0.8,\n",
    "        sersic_index=2.5,\n",
    "    ),\n",
    "    mass=al.mp.EllipticalIsothermal(\n",
    "        centre=(0.0, -1.0), elliptical_comps=(0.17647, 0.0), einstein_radius=1.0\n",
    "    ),\n",
    ")\n",
    "\n",
    "lens_galaxy_1 = al.Galaxy(\n",
    "    redshift=0.5,\n",
    "    bulge=al.lp.EllipticalSersic(\n",
    "        centre=(0.0, 1.0),\n",
    "        elliptical_comps=(0.0, 0.1),\n",
    "        intensity=0.1,\n",
    "        effective_radius=0.6,\n",
    "        sersic_index=3.0,\n",
    "    ),\n",
    "    mass=al.mp.EllipticalIsothermal(\n",
    "        centre=(0.0, 1.0), elliptical_comps=(0.0, -0.111111), einstein_radius=0.8\n",
    "    ),\n",
    ")\n",
    "\n",
    "source_galaxy = al.Galaxy(\n",
    "    redshift=1.0,\n",
    "    bulge=al.lp.SphericalExponential(\n",
    "        centre=(0.05, 0.15), intensity=0.2, effective_radius=0.5\n",
    "    ),\n",
    ")"
   ]
  },
  {
   "cell_type": "markdown",
   "metadata": {},
   "source": [
    "Use these galaxies to setup a tracer, which will generate the image for the simulated `Imaging` dataset."
   ]
  },
  {
   "cell_type": "code",
   "execution_count": 8,
   "metadata": {
    "execution": {
     "iopub.execute_input": "2021-03-06T11:55:36.307555Z",
     "iopub.status.busy": "2021-03-06T11:55:36.307184Z",
     "iopub.status.idle": "2021-03-06T11:55:36.308618Z",
     "shell.execute_reply": "2021-03-06T11:55:36.308890Z"
    }
   },
   "outputs": [],
   "source": [
    "tracer = al.Tracer.from_galaxies(galaxies=[lens_galaxy_0, lens_galaxy_1, source_galaxy])"
   ]
  },
  {
   "cell_type": "markdown",
   "metadata": {},
   "source": [
    "We can now pass this simulator a tracer, which creates the ray-traced image plotted above and simulates it as an\n",
    "imaging dataset."
   ]
  },
  {
   "cell_type": "code",
   "execution_count": 9,
   "metadata": {
    "execution": {
     "iopub.execute_input": "2021-03-06T11:55:36.311705Z",
     "iopub.status.busy": "2021-03-06T11:55:36.311348Z",
     "iopub.status.idle": "2021-03-06T11:55:39.135195Z",
     "shell.execute_reply": "2021-03-06T11:55:39.134893Z"
    }
   },
   "outputs": [],
   "source": [
    "imaging = simulator.from_tracer_and_grid(tracer=tracer, grid=grid)"
   ]
  },
  {
   "cell_type": "markdown",
   "metadata": {},
   "source": [
    "Output the simulated dataset to the dataset path as .fits files."
   ]
  },
  {
   "cell_type": "code",
   "execution_count": 10,
   "metadata": {
    "execution": {
     "iopub.execute_input": "2021-03-06T11:55:39.138191Z",
     "iopub.status.busy": "2021-03-06T11:55:39.137868Z",
     "iopub.status.idle": "2021-03-06T11:55:39.153788Z",
     "shell.execute_reply": "2021-03-06T11:55:39.154034Z"
    }
   },
   "outputs": [],
   "source": [
    "imaging.output_to_fits(\n",
    "    image_path=path.join(dataset_path, \"image.fits\"),\n",
    "    psf_path=path.join(dataset_path, \"psf.fits\"),\n",
    "    noise_map_path=path.join(dataset_path, \"noise_map.fits\"),\n",
    "    overwrite=True,\n",
    ")"
   ]
  },
  {
   "cell_type": "markdown",
   "metadata": {},
   "source": [
    "Output a subplot of the simulated dataset, the image and a subplot of the `Tracer`'s quantities to the dataset path \n",
    "as .png files."
   ]
  },
  {
   "cell_type": "code",
   "execution_count": 11,
   "metadata": {
    "execution": {
     "iopub.execute_input": "2021-03-06T11:55:39.157001Z",
     "iopub.status.busy": "2021-03-06T11:55:39.156662Z",
     "iopub.status.idle": "2021-03-06T11:55:58.955927Z",
     "shell.execute_reply": "2021-03-06T11:55:58.956207Z"
    }
   },
   "outputs": [],
   "source": [
    "mat_plot_2d = aplt.MatPlot2D(output=aplt.Output(path=dataset_path, format=\"png\"))\n",
    "\n",
    "imaging_plotter = aplt.ImagingPlotter(imaging=imaging, mat_plot_2d=mat_plot_2d)\n",
    "imaging_plotter.subplot_imaging()\n",
    "imaging_plotter.figures(image=True)\n",
    "\n",
    "tracer_plotter = aplt.TracerPlotter(tracer=tracer, grid=grid, mat_plot_2d=mat_plot_2d)\n",
    "tracer_plotter.subplot_tracer()"
   ]
  },
  {
   "cell_type": "markdown",
   "metadata": {},
   "source": [
    "Pickle the `Tracer` in the dataset folder, ensuring the true `Tracer` is safely stored and available if we need to \n",
    "check how the dataset was simulated in the future. \n",
    "\n",
    "This will also be accessible via the `Aggregator` if a model-fit is performed using the dataset."
   ]
  },
  {
   "cell_type": "code",
   "execution_count": 12,
   "metadata": {
    "execution": {
     "iopub.execute_input": "2021-03-06T11:55:58.958741Z",
     "iopub.status.busy": "2021-03-06T11:55:58.958393Z",
     "iopub.status.idle": "2021-03-06T11:55:58.961060Z",
     "shell.execute_reply": "2021-03-06T11:55:58.960709Z"
    }
   },
   "outputs": [],
   "source": [
    "tracer.save(file_path=dataset_path, filename=\"true_tracer\")"
   ]
  },
  {
   "cell_type": "markdown",
   "metadata": {},
   "source": [
    "The dataset can be viewed in the folder `autolens_workspace/imaging/with_lens_light/light_sersic_x2__mass_sie_x2__source_sersic`."
   ]
  },
  {
   "cell_type": "code",
   "execution_count": null,
   "metadata": {},
   "outputs": [],
   "source": []
  }
 ],
 "metadata": {
  "anaconda-cloud": {},
  "kernelspec": {
   "display_name": "Python 3",
   "language": "python",
   "name": "python3"
  },
  "language_info": {
   "codemirror_mode": {
    "name": "ipython",
    "version": 3
   },
   "file_extension": ".py",
   "mimetype": "text/x-python",
   "name": "python",
   "nbconvert_exporter": "python",
   "pygments_lexer": "ipython3",
   "version": "3.8.5"
  }
 },
 "nbformat": 4,
 "nbformat_minor": 4
}
