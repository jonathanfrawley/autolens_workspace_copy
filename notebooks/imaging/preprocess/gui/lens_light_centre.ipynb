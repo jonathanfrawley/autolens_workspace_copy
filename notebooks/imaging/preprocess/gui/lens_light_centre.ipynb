{
  "cells": [
    {
      "cell_type": "markdown",
      "metadata": {},
      "source": [
        "GUI Preprocessing: Lens Light Centre\n",
        "====================================\n",
        "\n",
        "This tool allows one to input the lens light centre(s) of a strong lens(es) via a GUI, which can be used as a fixed\n",
        "value in pipelines."
      ]
    },
    {
      "cell_type": "code",
      "metadata": {},
      "source": [
        "%matplotlib inline\n",
        "from pyprojroot import here\n",
        "workspace_path = str(here())\n",
        "%cd $workspace_path\n",
        "print(f\"Working Directory has been set to `{workspace_path}`\")\n",
        "\n",
        "from os import path\n",
        "import autolens as al\n",
        "import autolens.plot as aplt\n",
        "from matplotlib import pyplot as plt\n",
        "import numpy as np"
      ],
      "outputs": [],
      "execution_count": null
    },
    {
      "cell_type": "markdown",
      "metadata": {},
      "source": [
        "Setup the path the datasets we'll use to illustrate preprocessing, which is the \n",
        "folder `dataset/imaging/with_lens_light/light_sersic__mass_sie__source_sersic`."
      ]
    },
    {
      "cell_type": "code",
      "metadata": {},
      "source": [
        "dataset_name = \"light_sersic__mass_sie__source_sersic\"\n",
        "dataset_path = path.join(\"dataset\", \"imaging\", \"with_lens_light\", dataset_name)"
      ],
      "outputs": [],
      "execution_count": null
    },
    {
      "cell_type": "markdown",
      "metadata": {},
      "source": [
        "If you use this tool for your own dataset, you *must* double check this pixel scale is correct!"
      ]
    },
    {
      "cell_type": "code",
      "metadata": {},
      "source": [
        "pixel_scales = 0.1"
      ],
      "outputs": [],
      "execution_count": null
    },
    {
      "cell_type": "markdown",
      "metadata": {},
      "source": [
        "When you click on a pixel to mark a position, the search box looks around this click and finds the pixel with\n",
        "the highest flux to mark the position.\n",
        "\n",
        "The `search_box_size` is the number of pixels around your click this search takes place."
      ]
    },
    {
      "cell_type": "code",
      "metadata": {},
      "source": [
        "search_box_size = 5\n",
        "\n",
        "imaging = al.Imaging.from_fits(\n",
        "    image_path=path.join(dataset_path, \"image.fits\"),\n",
        "    psf_path=path.join(dataset_path, \"psf.fits\"),\n",
        "    noise_map_path=path.join(dataset_path, \"noise_map.fits\"),\n",
        "    pixel_scales=pixel_scales,\n",
        ")\n",
        "image_2d = imaging.image.native"
      ],
      "outputs": [],
      "execution_count": null
    },
    {
      "cell_type": "markdown",
      "metadata": {},
      "source": [
        "This code is a bit messy, but sets the image up as a matplotlib figure which one can double click on to mark the\n",
        "positions on an image."
      ]
    },
    {
      "cell_type": "code",
      "metadata": {},
      "source": [
        "light_centres = []\n",
        "\n",
        "\n",
        "def onclick(event):\n",
        "    if event.dblclick:\n",
        "\n",
        "        y_arcsec = np.rint(event.ydata / pixel_scales) * pixel_scales\n",
        "        x_arcsec = np.rint(event.xdata / pixel_scales) * pixel_scales\n",
        "\n",
        "        (y_pixels, x_pixels) = image_2d.mask.pixel_coordinates_2d_from(\n",
        "            scaled_coordinates_2d=(y_arcsec, x_arcsec)\n",
        "        )\n",
        "\n",
        "        flux = -np.inf\n",
        "\n",
        "        for y in range(y_pixels - search_box_size, y_pixels + search_box_size):\n",
        "            for x in range(x_pixels - search_box_size, x_pixels + search_box_size):\n",
        "                flux_new = image_2d[y, x]\n",
        "                #      print(y, x, flux_new)\n",
        "                if flux_new > flux:\n",
        "                    flux = flux_new\n",
        "                    y_pixels_max = y\n",
        "                    x_pixels_max = x\n",
        "\n",
        "        grid_arcsec = image_2d.mask.grid_scaled_from_grid_pixels_1d(\n",
        "            grid_pixels_1d=al.Grid2D.manual_native(\n",
        "                grid=[[[y_pixels_max + 0.5, x_pixels_max + 0.5]]],\n",
        "                pixel_scales=pixel_scales,\n",
        "            )\n",
        "        )\n",
        "        y_arcsec = grid_arcsec[0, 0]\n",
        "        x_arcsec = grid_arcsec[0, 1]\n",
        "\n",
        "        print(\"clicked on:\", y_pixels, x_pixels)\n",
        "        print(\"Max flux pixel:\", y_pixels_max, x_pixels_max)\n",
        "        print(\"Arc-sec Coordinate\", y_arcsec, x_arcsec)\n",
        "\n",
        "        light_centres.append((y_arcsec, x_arcsec))\n",
        "\n",
        "\n",
        "n_y, n_x = imaging.image.shape_native\n",
        "hw = int(n_x / 2) * pixel_scales\n",
        "ext = [-hw, hw, -hw, hw]\n",
        "fig = plt.figure(figsize=(14, 14))\n",
        "plt.imshow(imaging.image.native, cmap=\"jet\", extent=ext)\n",
        "plt.colorbar()\n",
        "cid = fig.canvas.mpl_connect(\"button_press_event\", onclick)\n",
        "plt.show()\n",
        "fig.canvas.mpl_disconnect(cid)\n",
        "plt.close(fig)\n",
        "\n",
        "light_centres = al.Grid2DIrregular(grid=light_centres)"
      ],
      "outputs": [],
      "execution_count": null
    },
    {
      "cell_type": "markdown",
      "metadata": {},
      "source": [
        "Now lets plot the image and lens light centre, so we can check that the centre overlaps the brightest pixel in the\n",
        "lens light."
      ]
    },
    {
      "cell_type": "code",
      "metadata": {},
      "source": [
        "visuals_2d = aplt.Visuals2D(light_profile_centres=light_centres)\n",
        "aplt.Array2DPlotter(array=imaging.image, visuals_2d=visuals_2d)"
      ],
      "outputs": [],
      "execution_count": null
    },
    {
      "cell_type": "markdown",
      "metadata": {},
      "source": [
        "Now we`re happy with the lens light centre(s), lets output them to the dataset folder of the lens, so that we can \n",
        "load them from a.json file in our pipelines!"
      ]
    },
    {
      "cell_type": "code",
      "metadata": {},
      "source": [
        "try:\n",
        "    light_centres.output_to_json(\n",
        "        file_path=path.join(dataset_path, \"light_centres.json\"), overwrite=True\n",
        "    )\n",
        "except AttributeError:\n",
        "    pass\n"
      ],
      "outputs": [],
      "execution_count": null
    }
  ],
  "metadata": {
    "anaconda-cloud": {},
    "kernelspec": {
      "display_name": "Python 3",
      "language": "python",
      "name": "python3"
    },
    "language_info": {
      "codemirror_mode": {
        "name": "ipython",
        "version": 3
      },
      "file_extension": ".py",
      "mimetype": "text/x-python",
      "name": "python",
      "nbconvert_exporter": "python",
      "pygments_lexer": "ipython3",
      "version": "3.6.1"
    }
  },
  "nbformat": 4,
  "nbformat_minor": 4
}