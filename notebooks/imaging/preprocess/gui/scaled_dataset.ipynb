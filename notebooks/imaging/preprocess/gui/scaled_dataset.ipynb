{
  "cells": [
    {
      "cell_type": "markdown",
      "metadata": {},
      "source": [
        "GUI Preprocessing: Scaled Dataset\n",
        "=================================\n",
        "\n",
        "This tool allows one to mask a bespoke noise-map for a given image of a strong lens, using a GUI.\n",
        "\n",
        "This noise-map is primarily used for increasing the variances of pixels that have non-modeled components in an image,\n",
        "for example intervening line-of-sight galaxies that are near the lens, but not directly interfering with the\n",
        "analysis of the lens and source galaxies."
      ]
    },
    {
      "cell_type": "code",
      "metadata": {},
      "source": [
        "%matplotlib inline\n",
        "from pyprojroot import here\n",
        "workspace_path = str(here())\n",
        "%cd $workspace_path\n",
        "print(f\"Working Directory has been set to `{workspace_path}`\")\n",
        "\n",
        "from os import path\n",
        "import autolens as al\n",
        "import autolens.plot as aplt\n",
        "import scribbler\n",
        "import numpy as np"
      ],
      "outputs": [],
      "execution_count": null
    },
    {
      "cell_type": "markdown",
      "metadata": {},
      "source": [
        "Setup the path the datasets we'll use to illustrate preprocessing, which is the \n",
        "folder `dataset/imaging/no_lens_light/mass_sie__source_sersic__intervening_objects`."
      ]
    },
    {
      "cell_type": "code",
      "metadata": {},
      "source": [
        "dataset_name = \"mass_sie__source_sersic__intervening_objects\"\n",
        "dataset_path = path.join(\"dataset\", \"imaging\", \"no_lens_light\", dataset_name)"
      ],
      "outputs": [],
      "execution_count": null
    },
    {
      "cell_type": "markdown",
      "metadata": {},
      "source": [
        "If you use this tool for your own dataset, you *must* double check this pixel scale is correct!"
      ]
    },
    {
      "cell_type": "code",
      "metadata": {},
      "source": [
        "pixel_scales = 0.1"
      ],
      "outputs": [],
      "execution_count": null
    },
    {
      "cell_type": "markdown",
      "metadata": {},
      "source": [
        "First, load the `Imaging` dataset, so that the location of galaxies is clear when scaling the noise-map."
      ]
    },
    {
      "cell_type": "code",
      "metadata": {},
      "source": [
        "image = al.Array2D.from_fits(\n",
        "    file_path=path.join(dataset_path, \"image.fits\"), pixel_scales=pixel_scales\n",
        ")\n",
        "\n",
        "cmap = aplt.Cmap(\n",
        "    norm=\"log\", vmin=1.0e-4, vmax=0.4 * np.max(image), linthresh=0.05, linscale=0.1\n",
        ")\n",
        "\n",
        "scribbler = scribbler.Scribbler(image=image.native, cmap=cmap)\n",
        "mask = scribbler.show_mask()\n",
        "mask = al.Mask2D.manual(mask=mask, pixel_scales=pixel_scales)"
      ],
      "outputs": [],
      "execution_count": null
    },
    {
      "cell_type": "markdown",
      "metadata": {},
      "source": [
        "Here, we change the image flux values to zeros. If included, we add some random Gaussian noise to most close resemble\n",
        "noise in the image."
      ]
    },
    {
      "cell_type": "code",
      "metadata": {},
      "source": [
        "background_level = al.preprocess.background_noise_map_from_edges_of_image(\n",
        "    image=image, no_edges=2\n",
        ")[0]\n",
        "\n",
        "# gaussian_sigma = None\n",
        "gaussian_sigma = 0.1\n",
        "\n",
        "image = np.where(mask, 0.0, image.native)\n",
        "image = al.Array2D.manual_native(array=image, pixel_scales=pixel_scales)\n",
        "\n",
        "if gaussian_sigma is not None:\n",
        "    random_noise = np.random.normal(\n",
        "        loc=background_level, scale=gaussian_sigma, size=image.shape_native\n",
        "    )\n",
        "    image = np.where(mask, random_noise, image.native)\n",
        "    image = al.Array2D.manual_native(array=image, pixel_scales=pixel_scales)"
      ],
      "outputs": [],
      "execution_count": null
    },
    {
      "cell_type": "markdown",
      "metadata": {},
      "source": [
        "The new image is plotted for inspection."
      ]
    },
    {
      "cell_type": "code",
      "metadata": {},
      "source": [
        "array_plotter = aplt.Array2DPlotter(array=image)\n",
        "array_plotter.figure()"
      ],
      "outputs": [],
      "execution_count": null
    },
    {
      "cell_type": "markdown",
      "metadata": {},
      "source": [
        "Now we`re happy with the image, lets output it to the dataset folder of the lens, so that we can load it from a .fits\n",
        "file in our pipelines!"
      ]
    },
    {
      "cell_type": "code",
      "metadata": {},
      "source": [
        "image.output_to_fits(\n",
        "    file_path=path.join(dataset_path, \"image_scaled.fits\"), overwrite=True\n",
        ")"
      ],
      "outputs": [],
      "execution_count": null
    },
    {
      "cell_type": "markdown",
      "metadata": {},
      "source": [
        "Next, load the `Imaging` noise-map, which we will use the scale the noise-map."
      ]
    },
    {
      "cell_type": "code",
      "metadata": {},
      "source": [
        "noise_map = al.Array2D.from_fits(\n",
        "    file_path=path.join(dataset_path, \"noise_map.fits\"), pixel_scales=pixel_scales\n",
        ")"
      ],
      "outputs": [],
      "execution_count": null
    },
    {
      "cell_type": "markdown",
      "metadata": {},
      "source": [
        "Now lets plot the image and mask, so we can check that the mask includes the regions of the image we want."
      ]
    },
    {
      "cell_type": "code",
      "metadata": {},
      "source": [
        "array_plotter = aplt.Array2DPlotter(array=image / noise_map)\n",
        "array_plotter.figure()"
      ],
      "outputs": [],
      "execution_count": null
    },
    {
      "cell_type": "markdown",
      "metadata": {},
      "source": [
        "Manually increase the noise values to extremely large values, such that the analysis essentially omits them."
      ]
    },
    {
      "cell_type": "code",
      "metadata": {},
      "source": [
        "noise_map = np.where(mask, 1.0e8, noise_map.native)\n",
        "noise_map = al.Array2D.manual_native(array=noise_map, pixel_scales=pixel_scales)"
      ],
      "outputs": [],
      "execution_count": null
    },
    {
      "cell_type": "markdown",
      "metadata": {},
      "source": [
        "The signal to noise-map is the best way to determine if these regions are appropriately masked out."
      ]
    },
    {
      "cell_type": "code",
      "metadata": {},
      "source": [
        "array_plotter = aplt.Array2DPlotter(array=image / noise_map)\n",
        "array_plotter.figure()"
      ],
      "outputs": [],
      "execution_count": null
    },
    {
      "cell_type": "markdown",
      "metadata": {},
      "source": [
        "Now we`re happy with the noise-map, lets output it to the dataset folder of the lens, so that we can load it from a .fits\n",
        "file in our pipelines!"
      ]
    },
    {
      "cell_type": "code",
      "metadata": {},
      "source": [
        "noise_map.output_to_fits(\n",
        "    file_path=path.join(dataset_path, \"noise_map_scaled.fits\"), overwrite=True\n",
        ")"
      ],
      "outputs": [],
      "execution_count": null
    },
    {
      "cell_type": "markdown",
      "metadata": {},
      "source": [
        "Lets also output the mask."
      ]
    },
    {
      "cell_type": "code",
      "metadata": {},
      "source": [
        "mask.output_to_fits(\n",
        "    file_path=path.join(dataset_path, \"mask_scaled.fits\"), overwrite=True\n",
        ")\n"
      ],
      "outputs": [],
      "execution_count": null
    }
  ],
  "metadata": {
    "anaconda-cloud": {},
    "kernelspec": {
      "display_name": "Python 3",
      "language": "python",
      "name": "python3"
    },
    "language_info": {
      "codemirror_mode": {
        "name": "ipython",
        "version": 3
      },
      "file_extension": ".py",
      "mimetype": "text/x-python",
      "name": "python",
      "nbconvert_exporter": "python",
      "pygments_lexer": "ipython3",
      "version": "3.6.1"
    }
  },
  "nbformat": 4,
  "nbformat_minor": 4
}