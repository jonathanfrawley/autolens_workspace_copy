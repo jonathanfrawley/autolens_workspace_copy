{
  "cells": [
    {
      "cell_type": "markdown",
      "metadata": {},
      "source": [
        "Preprocess 3: PSF\n",
        "=================\n",
        "\n",
        "The Point Spread Function (PSF) describes blurring due the optics of your dataset`s telescope. It is used by PyAutoLens\n",
        "when fitting a dataset to include these effects, such that does not bias the lens model. It should be estimated from a\n",
        "stack of stars in the image during data reduction or using PSF simulator technology suited to your telescope.\n",
        "\n",
        "This tutorial describes preprocessing your dataset`s psf to adhere too the units and formats required by PyAutoLens."
      ]
    },
    {
      "cell_type": "code",
      "metadata": {},
      "source": [
        "%matplotlib inline\n",
        "from pyprojroot import here\n",
        "workspace_path = str(here())\n",
        "%cd $workspace_path\n",
        "print(f\"Working Directory has been set to `{workspace_path}`\")\n",
        "\n",
        "#%matplotlib\n",
        "from os import path\n",
        "import autolens as al\n",
        "import autolens.plot as aplt"
      ],
      "outputs": [],
      "execution_count": null
    },
    {
      "cell_type": "markdown",
      "metadata": {},
      "source": [
        "Setup the path the datasets we'll use to illustrate preprocessing, which is the folder `dataset/imaging/preprocess`."
      ]
    },
    {
      "cell_type": "code",
      "metadata": {},
      "source": [
        "dataset_path = path.join(\"dataset\", \"imaging\", \"preprocess\")"
      ],
      "outputs": [],
      "execution_count": null
    },
    {
      "cell_type": "markdown",
      "metadata": {},
      "source": [
        "__Loading Data From Individual Fits Files__\n",
        "\n",
        "First, lets load a PSF as a Kernel2D. This psf represents a good data-reduction that conforms to the formatting \n",
        "standards I describe in this tutorial!"
      ]
    },
    {
      "cell_type": "code",
      "metadata": {},
      "source": [
        "imaging_path = path.join(dataset_path, \"imaging\")\n",
        "\n",
        "psf = al.Kernel2D.from_fits(\n",
        "    file_path=path.join(imaging_path, \"psf.fits\"), hdu=0, pixel_scales=0.1\n",
        ")\n",
        "\n",
        "array_plotter = aplt.Array2DPlotter(array=psf)\n",
        "array_plotter.figure()"
      ],
      "outputs": [],
      "execution_count": null
    },
    {
      "cell_type": "markdown",
      "metadata": {},
      "source": [
        "__1) PSF Size__\n",
        "\n",
        "The majority of PSF blurring occurs at its central core, which is the most important region for strong lens modeling. \n",
        "By default, the size of the PSF kernel in the .fits is used to perform convolution. The larger this stamp, the longer \n",
        "this convolution will take to run. Large PSFs (e.g. > 51 x 51) could have significantly slow down on run-time. In general, \n",
        "we would recommend the PSF size is 21 x 21. \n",
        "\n",
        "Lets look at an image where a large PSF kernel is loaded."
      ]
    },
    {
      "cell_type": "code",
      "metadata": {},
      "source": [
        "imaging_path = path.join(dataset_path, \"imaging_with_large_psf\")\n",
        "\n",
        "large_psf = al.Kernel2D.from_fits(\n",
        "    file_path=path.join(imaging_path, \"psf.fits\"), hdu=0, pixel_scales=0.1\n",
        ")\n",
        "\n",
        "array_plotter = aplt.Array2DPlotter(array=large_psf)\n",
        "array_plotter.figure()"
      ],
      "outputs": [],
      "execution_count": null
    },
    {
      "cell_type": "markdown",
      "metadata": {},
      "source": [
        "We can resize a psf the same way that we resize an image."
      ]
    },
    {
      "cell_type": "code",
      "metadata": {},
      "source": [
        "trimmed_psf = al.preprocess.array_with_new_shape(array=psf, new_shape=(21, 21))\n",
        "\n",
        "array_plotter = aplt.Array2DPlotter(array=trimmed_psf)\n",
        "array_plotter.figure()"
      ],
      "outputs": [],
      "execution_count": null
    },
    {
      "cell_type": "markdown",
      "metadata": {},
      "source": [
        "__PSF Dimensions__\n",
        "\n",
        "The PSF dimensions must be odd x odd (e.g. 21 x 21), because even-sized PSF kernels introduce a half-pixel offset in \n",
        "the convolution routine which can lead to systematics in the lens analysis. "
      ]
    },
    {
      "cell_type": "code",
      "metadata": {},
      "source": [
        "imaging_path = path.join(dataset_path, \"imaging_with_even_psf\")\n",
        "\n",
        "even_psf = al.Kernel2D.from_fits(\n",
        "    file_path=path.join(imaging_path, \"psf.fits\"), hdu=0, pixel_scales=0.1\n",
        ")\n",
        "\n",
        "print(even_psf.shape_native)\n",
        "\n",
        "array_plotter = aplt.Array2DPlotter(array=even_psf)\n",
        "array_plotter.figure()"
      ],
      "outputs": [],
      "execution_count": null
    },
    {
      "cell_type": "markdown",
      "metadata": {},
      "source": [
        "Below, we show a function that allows one to rescale the PSF to the nearest odd-sized kernel. However, this uses an \n",
        "interpolation routine that will not be perfect. The best way to create an odd-sized PSF is to do so directly in your\n",
        "data reduction procedure. If this is a possibility, DO THAT INSTEAD OF USING THE FUNCTION BELOW!"
      ]
    },
    {
      "cell_type": "code",
      "metadata": {},
      "source": [
        "odd_psf = al.preprocess.psf_with_odd_dimensions_from_psf(psf=psf)\n",
        "\n",
        "print(odd_psf.shape_native)\n",
        "\n",
        "array_plotter = aplt.Array2DPlotter(array=odd_psf)\n",
        "array_plotter.figure()"
      ],
      "outputs": [],
      "execution_count": null
    },
    {
      "cell_type": "markdown",
      "metadata": {},
      "source": [
        "__PSF Normalization__\n",
        "\n",
        "The PSF should also be normalized to unity. That is, the sum of all values in the kernel used by PyAutoLens should sum \n",
        "to 1. This ensures that the PSF convolution does not change the overall normalization of the image.\n",
        "\n",
        "PyAutoLens automatically renormalized PSF when they are passed into a MaskedImaging or SimulatedImaging object, so you \n",
        "do not actually need to renormalize your PSF. However, it is better to do it now, just in case.\n",
        "\n",
        "Lets look at a PSF which is not normalized to unity, which is the default case corresponding to the `renormalize` flag \n",
        "being False."
      ]
    },
    {
      "cell_type": "code",
      "metadata": {},
      "source": [
        "imaging_path = path.join(dataset_path, \"imaging_with_unnormalized_psf\")\n",
        "\n",
        "unnormalized_psf = al.Kernel2D.from_fits(\n",
        "    file_path=path.join(imaging_path, \"psf.fits\"),\n",
        "    hdu=0,\n",
        "    pixel_scales=0.1,\n",
        "    renormalize=False,\n",
        ")\n",
        "\n",
        "array_plotter = aplt.Array2DPlotter(array=unnormalized_psf)\n",
        "array_plotter.figure()"
      ],
      "outputs": [],
      "execution_count": null
    },
    {
      "cell_type": "markdown",
      "metadata": {},
      "source": [
        "The PSF is renormaized if the renormalize=True."
      ]
    },
    {
      "cell_type": "code",
      "metadata": {},
      "source": [
        "normalized_psf = al.Kernel2D.from_fits(\n",
        "    file_path=path.join(imaging_path, \"psf.fits\"),\n",
        "    hdu=0,\n",
        "    pixel_scales=0.1,\n",
        "    renormalize=True,\n",
        ")\n",
        "\n",
        "array_plotter = aplt.Array2DPlotter(array=normalized_psf)\n",
        "array_plotter.figure()\n"
      ],
      "outputs": [],
      "execution_count": null
    }
  ],
  "metadata": {
    "anaconda-cloud": {},
    "kernelspec": {
      "display_name": "Python 3",
      "language": "python",
      "name": "python3"
    },
    "language_info": {
      "codemirror_mode": {
        "name": "ipython",
        "version": 3
      },
      "file_extension": ".py",
      "mimetype": "text/x-python",
      "name": "python",
      "nbconvert_exporter": "python",
      "pygments_lexer": "ipython3",
      "version": "3.6.1"
    }
  },
  "nbformat": 4,
  "nbformat_minor": 4
}