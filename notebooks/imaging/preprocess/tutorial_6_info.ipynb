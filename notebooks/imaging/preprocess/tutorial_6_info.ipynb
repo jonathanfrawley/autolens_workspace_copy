{
 "cells": [
  {
   "cell_type": "markdown",
   "metadata": {},
   "source": [
    "Preprocess 6: Info and Pickles (Optional)\n",
    "=========================================\n",
    "\n",
    "Here, we include auxiliary information about our strong lens dataset that we may use during an analysis or when\n",
    "interpreting the lens modeling results.\n",
    "\n",
    "The most obvious example of such information is the redshifts of the source and lens galaxy. By storing these as an\n",
    "`info` file in the lens's dataset folder, it is straight forward to load the redshifts in a runner and pass them to a\n",
    "pipeline, such that PyAutoLens can then output results in physical units (e.g. kpc instead of arc-seconds, solMass\n",
    "instead of angular units).\n",
    "\n",
    "The info file may also be loaded by the aggregator after a model-fit has completed, such that when one is interpreting\n",
    "the results of a model fit additional data on a lens can be used to, for example to plot the model-results against\n",
    "other measurements of a lens not made by PyAutoLens. Examples of such data might be:\n",
    "\n",
    "- The velocity dispersion of the lens galaxy.\n",
    "- The stellar mass of the lens galaxy.\n",
    "- The results of previous strong lens models to the lens performed in previous papers."
   ]
  },
  {
   "cell_type": "code",
   "execution_count": 1,
   "metadata": {
    "execution": {
     "iopub.execute_input": "2021-05-10T14:17:45.315589Z",
     "iopub.status.busy": "2021-05-10T14:17:45.315167Z",
     "iopub.status.idle": "2021-05-10T14:17:45.556513Z",
     "shell.execute_reply": "2021-05-10T14:17:45.556804Z"
    }
   },
   "outputs": [
    {
     "name": "stdout",
     "output_type": "stream",
     "text": [
      "/mnt/c/Users/Jammy/Code/PyAuto/autolens_workspace\n",
      "Working Directory has been set to `/mnt/c/Users/Jammy/Code/PyAuto/autolens_workspace`\n"
     ]
    }
   ],
   "source": [
    "%matplotlib inline\n",
    "from pyprojroot import here\n",
    "workspace_path = str(here())\n",
    "%cd $workspace_path\n",
    "print(f\"Working Directory has been set to `{workspace_path}`\")\n",
    "\n",
    "from os import path\n",
    "\n",
    "#%matplotlib inline"
   ]
  },
  {
   "cell_type": "markdown",
   "metadata": {},
   "source": [
    "The path where info is output, which is `dataset/imaging/no_lens_light/mass_sie__source_sersic`"
   ]
  },
  {
   "cell_type": "code",
   "execution_count": 2,
   "metadata": {
    "execution": {
     "iopub.execute_input": "2021-05-10T14:17:45.559510Z",
     "iopub.status.busy": "2021-05-10T14:17:45.559186Z",
     "iopub.status.idle": "2021-05-10T14:17:45.561190Z",
     "shell.execute_reply": "2021-05-10T14:17:45.561455Z"
    }
   },
   "outputs": [],
   "source": [
    "dataset_type = \"imaging\"\n",
    "dataset_label = \"no_lens_light\"\n",
    "dataset_name = \"mass_sie__source_sersic\"\n",
    "dataset_path = path.join(\"dataset\", dataset_type, dataset_label, dataset_name)"
   ]
  },
  {
   "cell_type": "markdown",
   "metadata": {},
   "source": [
    "The info is written as a Python dictionary and can have as many entries as desired added to it. Any information you\n",
    "want to include int he interpretation of your lens models should be included here."
   ]
  },
  {
   "cell_type": "code",
   "execution_count": 3,
   "metadata": {
    "execution": {
     "iopub.execute_input": "2021-05-10T14:17:45.563890Z",
     "iopub.status.busy": "2021-05-10T14:17:45.563535Z",
     "iopub.status.idle": "2021-05-10T14:17:45.565078Z",
     "shell.execute_reply": "2021-05-10T14:17:45.565316Z"
    }
   },
   "outputs": [],
   "source": [
    "info = {\n",
    "    \"redshihft_lens\": 0.5,\n",
    "    \"setup.redshift_source\": 1.0,\n",
    "    \"velocity_dispersion\": 250000,\n",
    "    \"stellar mass\": 1e11,\n",
    "}"
   ]
  },
  {
   "cell_type": "markdown",
   "metadata": {},
   "source": [
    "The info is stored in the dataset folder as a .json file. \n",
    "\n",
    "We cannot `dump` a .json file using a string which contains a directory, so we dump it to the location of this\n",
    "script and move it to the appropriate dataset folder. We first delete existing info file in the dataset folder."
   ]
  },
  {
   "cell_type": "code",
   "execution_count": 4,
   "metadata": {
    "execution": {
     "iopub.execute_input": "2021-05-10T14:17:45.568163Z",
     "iopub.status.busy": "2021-05-10T14:17:45.567821Z",
     "iopub.status.idle": "2021-05-10T14:17:45.573878Z",
     "shell.execute_reply": "2021-05-10T14:17:45.574119Z"
    }
   },
   "outputs": [
    {
     "data": {
      "text/plain": [
       "'dataset/imaging/no_lens_light/mass_sie__source_sersic/info.json'"
      ]
     },
     "execution_count": 1,
     "metadata": {},
     "output_type": "execute_result"
    }
   ],
   "source": [
    "import os\n",
    "import shutil\n",
    "import json\n",
    "\n",
    "info_file = \"info.json\"\n",
    "\n",
    "with open(info_file, \"w+\") as f:\n",
    "    json.dump(info, f, indent=4)\n",
    "\n",
    "if os.path.exists(path.join(dataset_path, \"info.json\")):\n",
    "    os.remove(path.join(dataset_path, \"info.json\"))\n",
    "\n",
    "shutil.move(\"info.json\", path.join(dataset_path, \"info.json\"))"
   ]
  },
  {
   "cell_type": "markdown",
   "metadata": {},
   "source": [
    "For the info to be available to the results of a model-fit, the runner must load the info file from the .json and \n",
    "pass it to the search.run() or pipeline.run() function:\n",
    "\n",
    "info_file = path.join(dataset_path, \"info.json\")\n",
    "\n",
    "with open(info_file, \"r\") as f:\n",
    "    info = json.load(f)\n",
    "\n",
    "search.run(dataset=dataset, mask=mask, info=info)"
   ]
  },
  {
   "cell_type": "code",
   "execution_count": null,
   "metadata": {},
   "outputs": [],
   "source": []
  }
 ],
 "metadata": {
  "anaconda-cloud": {},
  "kernelspec": {
   "display_name": "Python 3",
   "language": "python",
   "name": "python3"
  },
  "language_info": {
   "codemirror_mode": {
    "name": "ipython",
    "version": 3
   },
   "file_extension": ".py",
   "mimetype": "text/x-python",
   "name": "python",
   "nbconvert_exporter": "python",
   "pygments_lexer": "ipython3",
   "version": "3.8.5"
  }
 },
 "nbformat": 4,
 "nbformat_minor": 4
}
