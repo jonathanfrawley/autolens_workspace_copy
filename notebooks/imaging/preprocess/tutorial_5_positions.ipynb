{
  "cells": [
    {
      "cell_type": "markdown",
      "metadata": {},
      "source": [
        "Preprocess 5: Positions (Optional)\n",
        "==================================\n",
        "\n",
        "In this tool we mark positions on a multiply imaged strongly lensed source corresponding to a set positions / pixels \n",
        "which are anticipated to trace to the same location in the source-plane.\n",
        "\n",
        "A non-linear sampler uses these positions to discard the mass-models where they do not trace within a threshold of\n",
        "one another, speeding up the analysis and removing unwanted solutions with too much / too little mass.\n",
        "\n",
        "If you create positions for your dataset, you must also update your runner to use them by loading them, passing them\n",
        "to the pipeline run function and setting a `positions_threshold` in the pipelines.\n",
        "\n",
        "See `autolens_workspace/notebooks/imaging/modeling/customize/positions.py` for an example.\n",
        "\n",
        "Positions are optional, if you struggling to get PyAutoLens to infer a good model for your dataset and you haev\n",
        "not tried positons yet I recommend that you do."
      ]
    },
    {
      "cell_type": "code",
      "metadata": {},
      "source": [
        "%matplotlib inline\n",
        "from pyprojroot import here\n",
        "workspace_path = str(here())\n",
        "%cd $workspace_path\n",
        "print(f\"Working Directory has been set to `{workspace_path}`\")\n",
        "\n",
        "#%matplotlib inline\n",
        "from os import path\n",
        "import autolens as al\n",
        "import autolens.plot as aplt"
      ],
      "outputs": [],
      "execution_count": null
    },
    {
      "cell_type": "markdown",
      "metadata": {},
      "source": [
        "The path where positions are output, which is `dataset/imaging/no_lens_light/mass_sie__source_sersic`"
      ]
    },
    {
      "cell_type": "code",
      "metadata": {},
      "source": [
        "dataset_type = \"imaging\"\n",
        "dataset_label = \"no_lens_light\"\n",
        "dataset_name = \"mass_sie__source_sersic\"\n",
        "dataset_path = path.join(\"dataset\", dataset_type, dataset_label, dataset_name)"
      ],
      "outputs": [],
      "execution_count": null
    },
    {
      "cell_type": "markdown",
      "metadata": {},
      "source": [
        "If you use this tool for your own dataset, you *must* double check this pixel scale is correct!"
      ]
    },
    {
      "cell_type": "code",
      "metadata": {},
      "source": [
        "pixel_scales = 0.1"
      ],
      "outputs": [],
      "execution_count": null
    },
    {
      "cell_type": "markdown",
      "metadata": {},
      "source": [
        "First, load the `Imaging` dataset, so that the positions can be plotted over the strong lens image."
      ]
    },
    {
      "cell_type": "code",
      "metadata": {},
      "source": [
        "image = al.Array2D.from_fits(\n",
        "    file_path=path.join(dataset_path, \"image.fits\"), pixel_scales=pixel_scales\n",
        ")"
      ],
      "outputs": [],
      "execution_count": null
    },
    {
      "cell_type": "markdown",
      "metadata": {},
      "source": [
        "Now, create a set of positions, which is a Coordinate of (y,x) values."
      ]
    },
    {
      "cell_type": "code",
      "metadata": {},
      "source": [
        "positions = al.Grid2DIrregular(\n",
        "    grid=[(0.4, 1.6), (1.58, -0.35), (-0.43, -1.59), (-1.45, 0.2)]\n",
        ")"
      ],
      "outputs": [],
      "execution_count": null
    },
    {
      "cell_type": "markdown",
      "metadata": {},
      "source": [
        "Now lets plot the image and positions, so we can check that the positions overlap different regions of the source."
      ]
    },
    {
      "cell_type": "code",
      "metadata": {},
      "source": [
        "visuals_2d = aplt.Visuals2D(positions=positions)\n",
        "\n",
        "array_plotter = aplt.Array2DPlotter(array=image, visuals_2d=visuals_2d)\n",
        "array_plotter.figure()"
      ],
      "outputs": [],
      "execution_count": null
    },
    {
      "cell_type": "markdown",
      "metadata": {},
      "source": [
        "Now we`re happy with the positions, lets output them to the dataset folder of the lens, so that we can load them from a\n",
        ".json file in our pipelines!"
      ]
    },
    {
      "cell_type": "code",
      "metadata": {},
      "source": [
        "positions.output_to_json(\n",
        "    file_path=path.join(dataset_path, \"positions.json\"), overwrite=True\n",
        ")"
      ],
      "outputs": [],
      "execution_count": null
    },
    {
      "cell_type": "markdown",
      "metadata": {},
      "source": [
        "Finished."
      ]
    },
    {
      "cell_type": "code",
      "metadata": {},
      "source": [],
      "outputs": [],
      "execution_count": null
    }
  ],
  "metadata": {
    "anaconda-cloud": {},
    "kernelspec": {
      "display_name": "Python 3",
      "language": "python",
      "name": "python3"
    },
    "language_info": {
      "codemirror_mode": {
        "name": "ipython",
        "version": 3
      },
      "file_extension": ".py",
      "mimetype": "text/x-python",
      "name": "python",
      "nbconvert_exporter": "python",
      "pygments_lexer": "ipython3",
      "version": "3.6.1"
    }
  },
  "nbformat": 4,
  "nbformat_minor": 4
}