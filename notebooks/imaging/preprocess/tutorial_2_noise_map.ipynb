{
  "cells": [
    {
      "cell_type": "markdown",
      "metadata": {},
      "source": [
        "Preprocess 2: Noise-map\n",
        "=======================\n",
        "\n",
        "The noise-map defines the uncertainty in every pixel of your strong lens image. Values are defined as the RMS standard\n",
        "deviation in every pixel (not the variances, HST WHT-map values, etc.). You MUST be certain that the noise-map is\n",
        "the RMS standard deviations or else your analysis will be incorrect!\n",
        "\n",
        "This tutorial describes preprocessing your dataset`s noise-map to adhere too the units and formats required by PyAutoLens."
      ]
    },
    {
      "cell_type": "code",
      "metadata": {},
      "source": [
        "%matplotlib inline\n",
        "from pyprojroot import here\n",
        "workspace_path = str(here())\n",
        "%cd $workspace_path\n",
        "print(f\"Working Directory has been set to `{workspace_path}`\")\n",
        "\n",
        "#%matplotlib inline\n",
        "from os import path\n",
        "import autolens as al\n",
        "import autolens.plot as aplt"
      ],
      "outputs": [],
      "execution_count": null
    },
    {
      "cell_type": "markdown",
      "metadata": {},
      "source": [
        "Setup the path the datasets we'll use to illustrate preprocessing, which is the folder `dataset/imaging/preprocess`."
      ]
    },
    {
      "cell_type": "code",
      "metadata": {},
      "source": [
        "dataset_path = path.join(\"dataset\", \"imaging\", \"preprocess\")"
      ],
      "outputs": [],
      "execution_count": null
    },
    {
      "cell_type": "markdown",
      "metadata": {},
      "source": [
        "__Loading Data From Individual Fits Files__\n",
        "\n",
        "First, lets load a noise-map as an Array2D. This noise-map represents a good data-reduction that conforms to the \n",
        "formatting standards I describe in this tutorial!"
      ]
    },
    {
      "cell_type": "code",
      "metadata": {},
      "source": [
        "imaging_path = path.join(dataset_path, \"imaging\")\n",
        "\n",
        "noise_map = al.Array2D.from_fits(\n",
        "    file_path=path.join(imaging_path, \"noise_map.fits\"), pixel_scales=0.1\n",
        ")\n",
        "\n",
        "array_plotter = aplt.Array2DPlotter(array=noise_map)\n",
        "array_plotter.figure_2d()"
      ],
      "outputs": [],
      "execution_count": null
    },
    {
      "cell_type": "markdown",
      "metadata": {},
      "source": [
        "__1) Converting Noise-Map Like The Image__\n",
        "\n",
        "If in the previous preprocessing script you did any of the following to the image:\n",
        "\n",
        "1) Converted it from counts / ADUs / other units to electrons per second.\n",
        "2) Trimmed / padded the image.\n",
        "3) Recentered the image.\n",
        "\n",
        "You must perform identical operations on your noise-map (assuming it is in the same units and has the dimensions as the\n",
        "image. You can simply cut and paste the appropriate functions in below - I`ve commented out the appropriate functions\n",
        "you might of used."
      ]
    },
    {
      "cell_type": "code",
      "metadata": {},
      "source": [
        "# exposure_time_map = al.Array2D.full(fill_value=1000.0, shape_native=noise_map.shape_native, pixel_scales=0.1)\n",
        "#\n",
        "# noise_map_processed = al.preprocess.array_from_counts_to_electrons_per_second(\n",
        "#     array=noise_map, exposure_time_map=exposure_time_map\n",
        "# )\n",
        "#\n",
        "# noise_map_processed = al.preprocess.array_from_adus_to_electrons_per_second(\n",
        "#     array=noise_map, exposure_time_map=exposure_time_map, gain=4.0\n",
        "# )\n",
        "\n",
        "# noise_map_processed = al.preprocess.array_with_new_shape(array=noise_map_large_stamp, new_shape=(130, 130))\n",
        "\n",
        "# noise_map_processed = al.Array2D.from_fits(\n",
        "#     file_path=path.join(imaging_path, \"noise_map.fits\"), pixel_scales=0.1\n",
        "# )\n",
        "\n",
        "# array_plotter = aplt.Array2DPlotter(array=noise_map_processed)\n",
        "# array_plotter.figure()"
      ],
      "outputs": [],
      "execution_count": null
    },
    {
      "cell_type": "markdown",
      "metadata": {},
      "source": [
        "__Noise Conversions__\n",
        "\n",
        "There are many different ways the noise-map can be reduced. We are aiming to include conversion functions for all \n",
        "common data-reductions. For example, the noise-map may be a HST WHT map, where RMS SD = 1.0/ sqrt(WHT). Note how \n",
        "the values of the noise-map go to very large values in excess of 10000."
      ]
    },
    {
      "cell_type": "code",
      "metadata": {},
      "source": [
        "imaging_path = path.join(dataset_path, \"imaging_noise_map_wht\")\n",
        "\n",
        "weight_map = al.Array2D.from_fits(\n",
        "    file_path=path.join(imaging_path, \"noise_map.fits\"), pixel_scales=0.1\n",
        ")\n",
        "\n",
        "array_plotter = aplt.Array2DPlotter(array=weight_map)\n",
        "array_plotter.figure_2d()"
      ],
      "outputs": [],
      "execution_count": null
    },
    {
      "cell_type": "markdown",
      "metadata": {},
      "source": [
        "noise_map = al.preprocess.noise_map_from_weight_map(weight_map=weight_map)\n",
        "\n",
        "array_plotter = aplt.Array2DPlotter(array=noise_map)\n",
        "array_plotter.figure_2d()"
      ]
    }
  ],
  "metadata": {
    "anaconda-cloud": {},
    "kernelspec": {
      "display_name": "Python 3",
      "language": "python",
      "name": "python3"
    },
    "language_info": {
      "codemirror_mode": {
        "name": "ipython",
        "version": 3
      },
      "file_extension": ".py",
      "mimetype": "text/x-python",
      "name": "python",
      "nbconvert_exporter": "python",
      "pygments_lexer": "ipython3",
      "version": "3.6.1"
    }
  },
  "nbformat": 4,
  "nbformat_minor": 4
}