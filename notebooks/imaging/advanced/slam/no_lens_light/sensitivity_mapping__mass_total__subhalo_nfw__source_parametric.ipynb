{
  "cells": [
    {
      "cell_type": "markdown",
      "metadata": {},
      "source": [
        "SLaM (Source, Light and Mass): Mass Total + Subhalo NFW + Source Parametric Sensitivity Mapping\n",
        "===============================================================================================\n",
        "\n",
        "Using 1 source pipeline, a mass pipeline and a subhalo pipeline this SLaM runner fits `Imaging` of a strong lens\n",
        "system,where in the final model:\n",
        "\n",
        " - The lens galaxy's light is omitted from the data and model.\n",
        " - The lens galaxy's total mass distribution is an `EllipticalIsothermal` and `ExternalShear`.\n",
        " - A dark matter subhalo`s within the lens galaxy is a `SphericalNFWMCRLudLow`.\n",
        " - The source galaxy is an `EllipticalSersic`.\n",
        "\n",
        "This runner uses the SLaM pipelines:\n",
        "\n",
        " `slam/no_lens_light/pipelines/source__mass_sie__source_parametric.py`.\n",
        " `slam/no_lens_light/pipelines/mass__mass_power_law__source.py`.\n",
        " `slam/no_lens_light/pipelines/subhalo__mass__subhalo_nfw__source.py`.\n",
        "\n",
        "Check them out for a detailed description of the analysis!"
      ]
    },
    {
      "cell_type": "code",
      "metadata": {},
      "source": [
        "%matplotlib inline\n",
        "from pyprojroot import here\n",
        "workspace_path = str(here())\n",
        "%cd $workspace_path\n",
        "print(f\"Working Directory has been set to `{workspace_path}`\")\n",
        "\n",
        "from os import path\n",
        "from astropy import cosmology as cosmo\n",
        "from autolens.pipeline.phase.imaging import analysis as a\n",
        "import autolens as al\n",
        "import autolens.plot as aplt\n",
        "\n",
        "dataset_name = \"mass_sie__subhalo_nfw__source_sersic\"\n",
        "pixel_scales = 0.05\n",
        "\n",
        "dataset_path = path.join(\"dataset\", \"imaging\", \"no_lens_light\", dataset_name)"
      ],
      "outputs": [],
      "execution_count": null
    },
    {
      "cell_type": "markdown",
      "metadata": {},
      "source": [
        "Using the dataset path, load the data (image, noise-map, PSF) as an `Imaging` object from .fits files."
      ]
    },
    {
      "cell_type": "code",
      "metadata": {},
      "source": [
        "imaging = al.Imaging.from_fits(\n",
        "    image_path=path.join(dataset_path, \"image.fits\"),\n",
        "    psf_path=path.join(dataset_path, \"psf.fits\"),\n",
        "    noise_map_path=path.join(dataset_path, \"noise_map.fits\"),\n",
        "    pixel_scales=pixel_scales,\n",
        ")\n",
        "\n",
        "mask = al.Mask2D.circular(\n",
        "    shape_native=imaging.shape_native, pixel_scales=pixel_scales, radius=3.0\n",
        ")\n",
        "\n",
        "imaging_plotter = aplt.ImagingPlotter(\n",
        "    imaging=imaging, visuals_2d=aplt.Visuals2D(mask=mask)\n",
        ")\n",
        "imaging_plotter.subplot_imaging()"
      ],
      "outputs": [],
      "execution_count": null
    },
    {
      "cell_type": "markdown",
      "metadata": {},
      "source": [
        "__Settings__\n",
        "\n",
        "The `SettingsPhaseImaging` describe how the model is fitted to the data in the log likelihood function.\n",
        "\n",
        "These settings are used and described throughout the `autolens_workspace/notebooks/imaging/modeling` example scripts, with a \n",
        "complete description of all settings given in `autolens_workspace/notebooks/imaging/modeling/customize/settings.py`.\n",
        "\n",
        "The settings chosen here are applied to all searches in the pipeline."
      ]
    },
    {
      "cell_type": "code",
      "metadata": {},
      "source": [
        "settings_masked_imaging = al.SettingsMaskedImaging(grid_class=al.Grid2D, sub_size=2)\n",
        "\n",
        "settings = al.SettingsPhaseImaging(settings_masked_imaging=settings_masked_imaging)"
      ],
      "outputs": [],
      "execution_count": null
    },
    {
      "cell_type": "markdown",
      "metadata": {},
      "source": [
        "__PIPELINE SETUP__\n",
        "\n",
        "Pipelines use the `SetupPipeline` object to customize the analysis performed by the pipeline,\n",
        "for example if a shear was included in the mass model and the model used for the source galaxy.\n",
        "\n",
        "SLaM pipelines break the analysis down into multiple pipelines which focus on modeling a specific aspect of the strong \n",
        "lens, first the Source, then the (lens) Light and finally the Mass. Each of these pipelines has it own setup object \n",
        "which is equivalent to the `SetupPipeline` object, customizing the analysis in that pipeline. Each pipeline therefore\n",
        "has its own `SetupMass` and `SetupSourceParametric` object.\n",
        "\n",
        "The `Setup` used in earlier pipelines determine the model used in later pipelines. For example, if the `Source` \n",
        "pipeline is given an `EllipticalSersic` parametric profile, then this `LightProfile` will be used in the subsequent \n",
        "`SLaMPipelineMass`.\n",
        "\n",
        "The `Setup` again tags the path structure of every pipeline in a unique way, such than combinations of different\n",
        "SLaM pipelines can be used to fit lenses with different models. If the earlier pipelines are identical (e.g. they use\n",
        "the same `SLaMPipelineSource`. they will reuse those results before branching off to fit different models in \n",
        "the `SLaMPipelineLightParametric` and / or `SLaMPipelineMass` pipelines. \n",
        "\n",
        "__HYPER SETUP__\n",
        "\n",
        "The `SetupHyper` determines which hyper-mode features are used during the model-fit and is used identically to the\n",
        "hyper pipeline examples.\n",
        "\n",
        "The `SetupHyper` object has a new input available, `hyper_fixed_after_source`, which fixes the hyper-parameters to\n",
        "the values computed by the hyper-phase at the end of the Source pipeline. By fixing the hyper-parameter values in the\n",
        "_SLaMPipelineLight_ and `SLaMPipelineMass` pipelines, model comparison can be performed in a consistent fashion."
      ]
    },
    {
      "cell_type": "code",
      "metadata": {},
      "source": [
        "hyper = al.SetupHyper(\n",
        "    hyper_galaxies_lens=False,\n",
        "    hyper_galaxies_source=False,\n",
        "    hyper_image_sky=None,\n",
        "    hyper_background_noise=None,\n",
        ")"
      ],
      "outputs": [],
      "execution_count": null
    },
    {
      "cell_type": "markdown",
      "metadata": {},
      "source": [
        "__SLaMPipelineSourceParametric__\n",
        "\n",
        "The parametric source pipeline aims to initialize a robust model for the source galaxy using `LightProfile` objects. \n",
        "\n",
        " Source: This parametric source model is used by the SLaM Mass pipeline that follows, and thus sets the complexity of \n",
        " the parametric source model of the overall fit. \n",
        " \n",
        " For this runner the `SetupSourceParametric` customizes: \n",
        " \n",
        " - That the bulge of the source `Galaxy` is fitted using an `EllipticalSersic`.\n",
        " - There is has no over `LightProfile` components (e.g. a disk, envelope)_."
      ]
    },
    {
      "cell_type": "code",
      "metadata": {},
      "source": [
        "setup_source = al.SetupSourceParametric(\n",
        "    bulge_prior_model=al.lp.EllipticalSersic,\n",
        "    disk_prior_model=None,\n",
        "    envelope_prior_model=None,\n",
        ")"
      ],
      "outputs": [],
      "execution_count": null
    },
    {
      "cell_type": "markdown",
      "metadata": {},
      "source": [
        " Mass: The `MassProfile` used to model the lens galaxy's mass. This is changed in the SLaM Mass pipeline that follows.\n",
        " \n",
        " Our experience with lens modeling has shown the `EllipticalIsothermal` profile is the simpliest model to fit that \n",
        " provide a good fit to the majority of strong lenses.\n",
        " \n",
        " For this runner the `SetupMassProfile` customizes:\n",
        "\n",
        " - That the mass of the lens `Galaxy` is fitted using an `EllipticalIsothermal`.\n",
        " - That there is not `ExternalShear` in the mass model.\n",
        " - That the mass profile centre is (0.0, 0.0) (this assumption will be relaxed in the SLaM Mass Pipeline."
      ]
    },
    {
      "cell_type": "code",
      "metadata": {},
      "source": [
        "setup_mass = al.SetupMassTotal(\n",
        "    mass_prior_model=al.mp.EllipticalIsothermal, with_shear=True, mass_centre=(0.0, 0.0)\n",
        ")"
      ],
      "outputs": [],
      "execution_count": null
    },
    {
      "cell_type": "markdown",
      "metadata": {},
      "source": [
        "We combine the `SetupSource` and `SetupMass` above to create the SLaM parametric Source Pipeline."
      ]
    },
    {
      "cell_type": "code",
      "metadata": {},
      "source": [
        "pipeline_source_parametric = al.SLaMPipelineSourceParametric(\n",
        "    setup_mass=setup_mass, setup_source=setup_source\n",
        ")"
      ],
      "outputs": [],
      "execution_count": null
    },
    {
      "cell_type": "markdown",
      "metadata": {},
      "source": [
        "__SLaMPipelineMassTotal__\n",
        "\n",
        "The `SLaMPipelineMassTotal` pipeline fits the model for the lens galaxy's total mass distribution. \n",
        "\n",
        "A full description of all options can be found ? and ?.\n",
        "\n",
        "The model used to represent the lens galaxy's mass is input into `SLaMPipelineMass` and this runner uses an \n",
        "`EllipticalIsothermal` in this example.\n",
        "\n",
        "For this runner the `SLaMPipelineMass` customizes:\n",
        "\n",
        " - The `MassProfile` fitted by the pipeline.\n",
        " - If there is an `ExternalShear` in the mass model or not."
      ]
    },
    {
      "cell_type": "code",
      "metadata": {},
      "source": [
        "setup_mass = al.SetupMassTotal(\n",
        "    mass_prior_model=al.mp.EllipticalIsothermal, with_shear=True\n",
        ")\n",
        "\n",
        "pipeline_mass = al.SLaMPipelineMass(setup_mass=setup_mass)"
      ],
      "outputs": [],
      "execution_count": null
    },
    {
      "cell_type": "markdown",
      "metadata": {},
      "source": [
        "__SetupSubhalo__\n",
        "\n",
        "The final pipeline fits the lens and source model including a `SphericalNFW` subhalo, using a grid-search of non-linear\n",
        "searches. \n",
        "\n",
        "A full description of all options can be found ? and ?.\n",
        "\n",
        "The models used to represent the lens galaxy's mass and the source are those used in the previous pipelines.\n",
        "\n",
        "For this runner the `SetupSubhalo` customizes:\n",
        "\n",
        " - If the parameteric source galaxy is treated as a model (all free parameters) or instance (all fixed) during the \n",
        "   subhalo detection grid search.\n",
        " - The NxN size of the grid-search."
      ]
    },
    {
      "cell_type": "code",
      "metadata": {},
      "source": [
        "setup_subhalo = al.SetupSubhalo(\n",
        "    source_is_model=False, number_of_steps=(4, 4, 2), number_of_cores=2\n",
        ")"
      ],
      "outputs": [],
      "execution_count": null
    },
    {
      "cell_type": "markdown",
      "metadata": {},
      "source": [
        "__SLaM__\n",
        "\n",
        "We combine all of the above `SLaM` pipelines into a `SLaM` object.\n",
        "\n",
        "The `SLaM` object contains a number of methods used in the make_pipeline functions which are used to compose the model \n",
        "based on the input values. It also handles pipeline tagging and path structure."
      ]
    },
    {
      "cell_type": "code",
      "metadata": {},
      "source": [
        "slam = al.SLaM(\n",
        "    path_prefix=path.join(\"imaging\", \"slam\", \"no_lens_light\", dataset_name),\n",
        "    setup_hyper=hyper,\n",
        "    pipeline_source_parametric=pipeline_source_parametric,\n",
        "    pipeline_mass=pipeline_mass,\n",
        "    setup_subhalo=setup_subhalo,\n",
        ")"
      ],
      "outputs": [],
      "execution_count": null
    },
    {
      "cell_type": "markdown",
      "metadata": {},
      "source": [
        "__PIPELINE CREATION__\n",
        "\n",
        "We import and make pipelines as per usual, albeit we'll now be doing this for multiple pipelines!\n",
        "\n",
        "We then run each pipeline, passing the results of previous pipelines to subsequent pipelines."
      ]
    },
    {
      "cell_type": "code",
      "metadata": {},
      "source": [
        "from pipelines import source__parametric\n",
        "from pipelines import mass__total\n",
        "from pipelines import subhalo\n",
        "\n",
        "source__parametric = source__parametric.make_pipeline(slam=slam, settings=settings)\n",
        "source_results = source__parametric.run(dataset=imaging, mask=mask)\n",
        "\n",
        "mass__total = mass__total.make_pipeline(\n",
        "    slam=slam, settings=settings, source_results=source_results\n",
        ")\n",
        "mass_results = mass__total.run(dataset=imaging, mask=mask)\n"
      ],
      "outputs": [],
      "execution_count": null
    },
    {
      "cell_type": "markdown",
      "metadata": {},
      "source": [
        "__Sensitivity Mapping__\n",
        "\n",
        "Each model-fit performed by sensitivity mapping creates a new instance of an `Analysis` class, which contains the\n",
        "data simulated by the `simulate_function` for that model.\n",
        "\n",
        "This requires us to write a wrapper around the PyAutoLens `Analysis` class."
      ]
    },
    {
      "cell_type": "code",
      "metadata": {},
      "source": [
        "class Analysis(a.Analysis):\n",
        "    def __init__(self, masked_imaging):\n",
        "\n",
        "        super().__init__(\n",
        "            masked_imaging=masked_imaging, settings=settings, cosmology=cosmo.Planck15\n",
        "        )\n",
        "\n",
        "        self.hyper_galaxy_image_path_dict = mass_results.last.hyper_galaxy_image_path_dict\n",
        "        self.hyper_model_image = mass_results.last.hyper_model_image\n",
        "\n",
        "subhalo = subhalo.sensitivity_mapping(\n",
        "    slam=slam,\n",
        "    mask=mask,\n",
        "    psf=imaging.psf,\n",
        "    mass_results=mass_results,\n",
        "    analysis_cls=Analysis,\n",
        ")\n",
        "subhalo.run()"
      ],
      "outputs": [],
      "execution_count": null
    },
    {
      "cell_type": "markdown",
      "metadata": {},
      "source": [
        "Finish."
      ]
    },
    {
      "cell_type": "code",
      "metadata": {},
      "source": [],
      "outputs": [],
      "execution_count": null
    }
  ],
  "metadata": {
    "anaconda-cloud": {},
    "kernelspec": {
      "display_name": "Python 3",
      "language": "python",
      "name": "python3"
    },
    "language_info": {
      "codemirror_mode": {
        "name": "ipython",
        "version": 3
      },
      "file_extension": ".py",
      "mimetype": "text/x-python",
      "name": "python",
      "nbconvert_exporter": "python",
      "pygments_lexer": "ipython3",
      "version": "3.6.1"
    }
  },
  "nbformat": 4,
  "nbformat_minor": 4
}