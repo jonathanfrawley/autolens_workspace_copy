{
  "cells": [
    {
      "cell_type": "markdown",
      "metadata": {},
      "source": [
        "SLaM (Source, Light and Mass): Mass Total + Source Inversion\n",
        "============================================================\n",
        "\n",
        "Using two source pipelines and a mass pipeline this SLaM runner fits `Imaging` of a strong lens system, where in the\n",
        "final phase of the pipeline:\n",
        "\n",
        " - The lens galaxy's light is omitted from the data and model.\n",
        " - The lens galaxy's total mass distribution is modeled as an `EllipticalPowerLaw`.\n",
        " - The source galaxy is modeled using an `Inversion`.\n",
        "\n",
        "This uses the SLaM pipelines:\n",
        "\n",
        " `slam/no_lens_light/pipelines/source__mass_sie__source_parametric.py`.\n",
        " `slam/no_lens_light/pipelines/source__mass_sie__source_inversion.py`.\n",
        " `slam/no_lens_light/pipelines/mass__mass_power_law__source.py`.\n",
        "\n",
        "Check them out for a detailed description of the analysis!"
      ]
    },
    {
      "cell_type": "code",
      "metadata": {},
      "source": [
        "%matplotlib inline\n",
        "from pyprojroot import here\n",
        "workspace_path = str(here())\n",
        "%cd $workspace_path\n",
        "print(f\"Working Directory has been set to `{workspace_path}`\")\n",
        "\n",
        "from os import path\n",
        "import autolens as al\n",
        "import autolens.plot as aplt\n",
        "\n",
        "dataset_name = \"mass_sie__source_sersic\"\n",
        "pixel_scales = 0.1\n",
        "\n",
        "dataset_path = path.join(\"dataset\", \"imaging\", \"no_lens_light\", dataset_name)"
      ],
      "outputs": [],
      "execution_count": null
    },
    {
      "cell_type": "markdown",
      "metadata": {},
      "source": [
        "Using the dataset path, load the data (image, noise-map, PSF) as an `Imaging` object from .fits files."
      ]
    },
    {
      "cell_type": "code",
      "metadata": {},
      "source": [
        "imaging = al.Imaging.from_fits(\n",
        "    image_path=path.join(dataset_path, \"image.fits\"),\n",
        "    psf_path=path.join(dataset_path, \"psf.fits\"),\n",
        "    noise_map_path=path.join(dataset_path, \"noise_map.fits\"),\n",
        "    pixel_scales=pixel_scales,\n",
        ")\n",
        "\n",
        "mask = al.Mask2D.circular(\n",
        "    shape_native=imaging.shape_native, pixel_scales=pixel_scales, radius=3.0\n",
        ")\n",
        "\n",
        "imaging_plotter = aplt.ImagingPlotter(\n",
        "    imaging=imaging, visuals_2d=aplt.Visuals2D(mask=mask)\n",
        ")\n",
        "imaging_plotter.subplot_imaging()"
      ],
      "outputs": [],
      "execution_count": null
    },
    {
      "cell_type": "markdown",
      "metadata": {},
      "source": [
        "__Settings__\n",
        "\n",
        "The `SettingsPhaseImaging` describe how the model is fitted to the data in the log likelihood function.\n",
        "\n",
        "These settings are used and described throughout the `autolens_workspace/notebooks/imaging/modeling` example scripts, with a \n",
        "complete description of all settings given in `autolens_workspace/notebooks/imaging/modeling/customize/settings.py`.\n",
        "\n",
        "The settings chosen here are applied to all phases in the pipeline."
      ]
    },
    {
      "cell_type": "code",
      "metadata": {},
      "source": [
        "settings_masked_imaging = al.SettingsMaskedImaging(grid_class=al.Grid2D, sub_size=2)"
      ],
      "outputs": [],
      "execution_count": null
    },
    {
      "cell_type": "markdown",
      "metadata": {},
      "source": [
        "`Inversion`'s may infer unphysical solution where the source reconstruction is a demagnified reconstruction of the \n",
        "lensed source (see **HowToLens** chapter 4). \n",
        "\n",
        "To prevent this, auto-positioning is used, which uses the lens mass model of earlier phases to automatically set \n",
        "positions and a threshold that resample inaccurate mass models (see `notebooks/imaging/modeling/positions.py`).\n",
        "\n",
        "The `auto_positions_factor` is a factor that the threshold of the inferred positions using the previous mass model are \n",
        "multiplied by to set the threshold in the next phase. The *auto_positions_minimum_threshold* is the minimum value this\n",
        "threshold can go to, even after multiplication."
      ]
    },
    {
      "cell_type": "code",
      "metadata": {},
      "source": [
        "settings_lens = al.SettingsLens(\n",
        "    auto_positions_factor=3.0, auto_positions_minimum_threshold=0.8\n",
        ")\n",
        "\n",
        "settings = al.SettingsPhaseImaging(\n",
        "    settings_masked_imaging=settings_masked_imaging, settings_lens=settings_lens\n",
        ")"
      ],
      "outputs": [],
      "execution_count": null
    },
    {
      "cell_type": "markdown",
      "metadata": {},
      "source": [
        "__PIPELINE SETUP__\n",
        "\n",
        "Pipelines use the `SetupPipeline` object to customize the analysis performed by the pipeline,\n",
        "for example if a shear was included in the mass model and the model used for the source galaxy.\n",
        "\n",
        "SLaM pipelines break the analysis down into multiple pipelines which focus on modeling a specific aspect of the strong \n",
        "lens, first the Source, then the (lens) Light and finally the Mass. Each of these pipelines has it own setup object \n",
        "which is equivalent to the `SetupPipeline` object, customizing the analysis in that pipeline. Each pipeline therefore\n",
        "has its own `SetupMass` and `SetupSourceParametric` object.\n",
        "\n",
        "The `Setup` used in earlier pipelines determine the model used in later pipelines. For example, if the `Source` \n",
        "pipeline is given a `Pixelization` and `Regularization`, than this `Inversion` will be used in the subsequent \n",
        "`SLaMPipelineMass` pipeline.\n",
        "\n",
        "The `Setup` again tags the path structure of every pipeline in a unique way, such than combinations of different\n",
        "SLaM pipelines can be used to fit lenses with different models. If the earlier pipelines are identical (e.g. they use\n",
        "the same `SLaMPipelineSource`. they will reuse those results before branching off to fit different models in the \n",
        "`SLaMPipelineLightParametric` and / or `SLaMPipelineMass` pipelines. \n",
        "\n",
        "__HYPER SETUP__\n",
        "\n",
        "The `SetupHyper` determines which hyper-mode features are used during the model-fit as is used identically to the\n",
        "hyper pipeline examples.\n",
        "\n",
        "The `SetupHyper` object has a new input available, `hyper_fixed_after_source`, which fixes the hyper-parameters to\n",
        "the values computed by the hyper-phase at the end of the Source pipeline. By fixing the hyper-parameter values in the\n",
        "_SLaMPipelineLight_ and `SLaMPipelineMass` pipelines, model comparison can be performed in a consistent fashion."
      ]
    },
    {
      "cell_type": "code",
      "metadata": {},
      "source": [
        "hyper = al.SetupHyper(\n",
        "    hyper_galaxies_lens=False,\n",
        "    hyper_galaxies_source=False,\n",
        "    hyper_image_sky=None,\n",
        "    hyper_background_noise=None,\n",
        ")"
      ],
      "outputs": [],
      "execution_count": null
    },
    {
      "cell_type": "markdown",
      "metadata": {},
      "source": [
        "__SLaMPipelineSourceParametric__\n",
        "\n",
        "The parametric source pipeline aims to initialize a robust model for the source galaxy using `LightProfile` objects. \n",
        "\n",
        " Source: This parametric source model is used by the SLaM Mass pipeline that follows, and thus sets the complexity of \n",
        " the parametric source model of the overall fit. \n",
        " \n",
        " For this runner the `SetupSourceParametric` customizes: \n",
        " \n",
        " - That the bulge of the source `Galaxy` is fitted using an `EllipticalSersic`.\n",
        " - There is has no over `LightProfile` components (e.g. a disk, envelope)_."
      ]
    },
    {
      "cell_type": "code",
      "metadata": {},
      "source": [
        "setup_source = al.SetupSourceParametric(\n",
        "    bulge_prior_model=al.lp.EllipticalSersic,\n",
        "    disk_prior_model=None,\n",
        "    envelope_prior_model=None,\n",
        ")"
      ],
      "outputs": [],
      "execution_count": null
    },
    {
      "cell_type": "markdown",
      "metadata": {},
      "source": [
        " Mass: The `MassProfile` used to model the lens galaxy's mass. This is changed in the SLaM Mass pipeline that follows.\n",
        " \n",
        " Our experience with lens modeling has shown the `EllipticalIsothermal` profile is the simpliest model to fit that \n",
        " provide a good fit to the majority of strong lenses.\n",
        " \n",
        " For this runner the `SetupMassProfile` customizes:\n",
        "\n",
        " - That the mass of the lens `Galaxy` is fitted using an `EllipticalIsothermal`.\n",
        " - That there is not `ExternalShear` in the mass model.\n",
        " - That the mass profile centre is (0.0, 0.0) (this assumption will be relaxed in the SLaM Mass Pipeline."
      ]
    },
    {
      "cell_type": "code",
      "metadata": {},
      "source": [
        "setup_mass = al.SetupMassTotal(\n",
        "    mass_prior_model=al.mp.EllipticalIsothermal, with_shear=True, mass_centre=(0.0, 0.0)\n",
        ")"
      ],
      "outputs": [],
      "execution_count": null
    },
    {
      "cell_type": "markdown",
      "metadata": {},
      "source": [
        "We combine the `SetupSource` and `SetupMass` above to create the SLaM parametric Source Pipeline."
      ]
    },
    {
      "cell_type": "code",
      "metadata": {},
      "source": [
        "pipeline_source_parametric = al.SLaMPipelineSourceParametric(\n",
        "    setup_mass=setup_mass, setup_source=setup_source\n",
        ")"
      ],
      "outputs": [],
      "execution_count": null
    },
    {
      "cell_type": "markdown",
      "metadata": {},
      "source": [
        "__SLaMPipelineSourceInversion__\n",
        "\n",
        "The Source inversion pipeline aims to initialize a robust model for the source galaxy using an `Inversion`.\n",
        "\n",
        "_SLaMPipelineSourceInversion_ determines the `Inversion` used by the inversion source pipeline. A full description \n",
        "of all options can be found ? and ?.\n",
        "\n",
        "By default, this again assumes `EllipticalIsothermal` profile for the lens galaxy's mass model.\n",
        "\n",
        "For this runner the `SLaMPipelineSourceInversion` customizes:\n",
        "\n",
        " - The `Pixelization` used by the `Inversion` of this pipeline.\n",
        " - The `Regularization` scheme used by the `Inversion` of this pipeline.\n",
        "\n",
        "The `SLaMPipelineSourceInversion` use`s the `SetupMass` of the `SLaMPipelineSourceParametric`.\n",
        "\n",
        "The `SLaMPipelineSourceInversion` determines the source model used in the `SLaMPipelineLightParametric` and \n",
        "`SLaMPipelineMass` pipelines, which in this example therefore both use an `Inversion`."
      ]
    },
    {
      "cell_type": "code",
      "metadata": {},
      "source": [
        "setup_source = al.SetupSourceInversion(\n",
        "    pixelization_prior_model=al.pix.VoronoiBrightnessImage,\n",
        "    regularization_prior_model=al.reg.AdaptiveBrightness,\n",
        ")\n",
        "\n",
        "pipeline_source_inversion = al.SLaMPipelineSourceInversion(setup_source=setup_source)"
      ],
      "outputs": [],
      "execution_count": null
    },
    {
      "cell_type": "markdown",
      "metadata": {},
      "source": [
        "__SLaMPipelineMass__\n",
        "\n",
        "The `SLaMPipelineMass` pipeline fits the model for the lens galaxy's total mass distribution. \n",
        "\n",
        "A full description of all options can be found ? and ?.\n",
        "\n",
        "The model used to represent the lens galaxy's mass is input into `SLaMPipelineMassTotal` and this runner uses the \n",
        "default of an `EllipticalPowerLaw` in this example.\n",
        "\n",
        "For this runner the `SLaMPipelineMass` customizes:\n",
        "\n",
        " - The `MassProfile` fitted by the pipeline.\n",
        " - If there is an `ExternalShear` in the mass model."
      ]
    },
    {
      "cell_type": "code",
      "metadata": {},
      "source": [
        "setup_mass = al.SetupMassTotal(\n",
        "    mass_prior_model=al.mp.EllipticalPowerLaw, with_shear=True\n",
        ")\n",
        "\n",
        "pipeline_mass = al.SLaMPipelineMass(setup_mass=setup_mass)"
      ],
      "outputs": [],
      "execution_count": null
    },
    {
      "cell_type": "markdown",
      "metadata": {},
      "source": [
        "__SLaM__\n",
        "\n",
        "We combine all of the above `SLaM` pipelines into a `SLaM` object.\n",
        "\n",
        "The `SLaM` object contains a number of methods used in the make_pipeline functions which are used to compose the model \n",
        "based on the input values. It also handles pipeline tagging and path structure."
      ]
    },
    {
      "cell_type": "code",
      "metadata": {},
      "source": [
        "slam = al.SLaM(\n",
        "    path_prefix=path.join(\"imaging\", \"slam\", \"no_lens_light\", dataset_name),\n",
        "    setup_hyper=hyper,\n",
        "    pipeline_source_parametric=pipeline_source_parametric,\n",
        "    pipeline_source_inversion=pipeline_source_inversion,\n",
        "    pipeline_mass=pipeline_mass,\n",
        ")"
      ],
      "outputs": [],
      "execution_count": null
    },
    {
      "cell_type": "markdown",
      "metadata": {},
      "source": [
        "__PIPELINE CREATION__\n",
        "\n",
        "We import and make pipelines as per usual, albeit we'll now be doing this for multiple pipelines!\n",
        "\n",
        "We then run each pipeline, passing the results of previous pipelines to subsequent pipelines."
      ]
    },
    {
      "cell_type": "code",
      "metadata": {},
      "source": [
        "from pipelines import source__parametric\n",
        "from pipelines import source__inversion\n",
        "from pipelines import mass__total\n",
        "\n",
        "source__parametric = source__parametric.make_pipeline(slam=slam, settings=settings)\n",
        "source_results = source__parametric.run(dataset=imaging, mask=mask)\n",
        "\n",
        "source__inversion = source__inversion.make_pipeline(\n",
        "    slam=slam, settings=settings, source_parametric_results=source_results\n",
        ")\n",
        "source_results = source__inversion.run(dataset=imaging, mask=mask)\n",
        "\n",
        "mass__total = mass__total.make_pipeline(\n",
        "    slam=slam, settings=settings, source_results=source_results\n",
        ")\n",
        "mass_results = mass__total.run(dataset=imaging, mask=mask)"
      ],
      "outputs": [],
      "execution_count": null
    },
    {
      "cell_type": "markdown",
      "metadata": {},
      "source": [
        "Finish."
      ]
    },
    {
      "cell_type": "code",
      "metadata": {},
      "source": [],
      "outputs": [],
      "execution_count": null
    }
  ],
  "metadata": {
    "anaconda-cloud": {},
    "kernelspec": {
      "display_name": "Python 3",
      "language": "python",
      "name": "python3"
    },
    "language_info": {
      "codemirror_mode": {
        "name": "ipython",
        "version": 3
      },
      "file_extension": ".py",
      "mimetype": "text/x-python",
      "name": "python",
      "nbconvert_exporter": "python",
      "pygments_lexer": "ipython3",
      "version": "3.6.1"
    }
  },
  "nbformat": 4,
  "nbformat_minor": 4
}