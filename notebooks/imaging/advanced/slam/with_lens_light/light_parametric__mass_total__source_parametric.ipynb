{
  "cells": [
    {
      "cell_type": "markdown",
      "metadata": {},
      "source": [
        "SLaM (Source, Light and Mass): Light Parametric + Mass Total + Source Parametric\n",
        "================================================================================\n",
        "\n",
        "Using two source pipelines, a light pipeline and a mass pipeline this SLaM runner fits `Imaging` of a strong lens\n",
        "system where in the final phase of the pipeline:\n",
        "\n",
        " - The lens galaxy's `LightProfile`'s are modeled as an `EllipticalSersic` + `EllipticalExponential`, representing\n",
        "   a bulge + disk model.\n",
        " - The lens galaxy's light matter mass distribution is fitted using the `EllipticalSersic` + EllipticalExponential of the\n",
        "    `LightProfile`, where it is converted to a stellar mass distribution via constant mass-to-light ratios.\n",
        " - The lens galaxy's total mass distribution is modeled as an `EllipticalPowerLaw`.\n",
        " - The source galaxy's light is modeled parametrically using an `EllipticalSersic`.\n",
        "\n",
        "This runner uses the SLaM pipelines:\n",
        "\n",
        " `slam/with_lens_light/source__parametric.py`.\n",
        " `slam/with_lens_light/light__parametric.py`.\n",
        " `slam/with_lens_light/mass__total.py`.\n",
        "\n",
        "Check them out for a detailed description of the analysis!"
      ]
    },
    {
      "cell_type": "code",
      "metadata": {},
      "source": [
        "%matplotlib inline\n",
        "from pyprojroot import here\n",
        "workspace_path = str(here())\n",
        "%cd $workspace_path\n",
        "print(f\"Working Directory has been set to `{workspace_path}`\")\n",
        "\n",
        "from os import path\n",
        "import autolens as al\n",
        "import autolens.plot as aplt"
      ],
      "outputs": [],
      "execution_count": null
    },
    {
      "cell_type": "markdown",
      "metadata": {},
      "source": [
        "Specify the dataset type, label and name, which we use to determine the path we load the data from."
      ]
    },
    {
      "cell_type": "code",
      "metadata": {},
      "source": [
        "dataset_name = \"light_sersic_exp__mass_sie__source_sersic\"\n",
        "pixel_scales = 0.1\n",
        "dataset_path = path.join(\"dataset\", \"imaging\", \"with_lens_light\", dataset_name)"
      ],
      "outputs": [],
      "execution_count": null
    },
    {
      "cell_type": "markdown",
      "metadata": {},
      "source": [
        "Using the dataset path, load the data (image, noise-map, PSF) as an `Imaging` object from .fits files."
      ]
    },
    {
      "cell_type": "code",
      "metadata": {},
      "source": [
        "imaging = al.Imaging.from_fits(\n",
        "    image_path=path.join(dataset_path, \"image.fits\"),\n",
        "    psf_path=path.join(dataset_path, \"psf.fits\"),\n",
        "    noise_map_path=path.join(dataset_path, \"noise_map.fits\"),\n",
        "    pixel_scales=pixel_scales,\n",
        "    positions_path=path.join(dataset_path, \"positions.json\"),\n",
        ")\n",
        "\n",
        "mask = al.Mask2D.circular(\n",
        "    shape_native=imaging.shape_native, pixel_scales=pixel_scales, radius=3.0\n",
        ")\n",
        "\n",
        "imaging_plotter = aplt.ImagingPlotter(\n",
        "    imaging=imaging, visuals_2d=aplt.Visuals2D(mask=mask)\n",
        ")\n",
        "imaging_plotter.subplot_imaging()"
      ],
      "outputs": [],
      "execution_count": null
    },
    {
      "cell_type": "markdown",
      "metadata": {},
      "source": [
        "__Settings__\n",
        "\n",
        "The `SettingsPhaseImaging` describe how the model is fitted to the data in the log likelihood function.\n",
        "\n",
        "These settings are used and described throughout the `autolens_workspace/notebooks/imaging/modeling` example scripts, with a \n",
        "complete description of all settings given in `autolens_workspace/notebooks/imaging/modeling/customize/settings.py`.\n",
        "\n",
        "The settings chosen here are applied to all phases in the pipeline."
      ]
    },
    {
      "cell_type": "code",
      "metadata": {},
      "source": [
        "settings_masked_imaging = al.SettingsMaskedImaging(grid_class=al.Grid2D, sub_size=2)\n",
        "\n",
        "settings = al.SettingsPhaseImaging(settings_masked_imaging=settings_masked_imaging)"
      ],
      "outputs": [],
      "execution_count": null
    },
    {
      "cell_type": "markdown",
      "metadata": {},
      "source": [
        "__PIPELINE SETUP__\n",
        "\n",
        "Pipelines use the `SetupPipeline` object to customize the analysis performed by the pipeline,\n",
        "for example if a shear was included in the mass model and the model used for the source galaxy.\n",
        "\n",
        "SLaM pipelines break the analysis down into multiple pipelines which focus on modeling a specific aspect of the strong \n",
        "lens, first the Source, then the (lens) Light and finally the Mass. Each of these pipelines has it own setup object \n",
        "which is equivalent to the `SetupPipeline` object, customizing the analysis in that pipeline. Each pipeline therefore\n",
        "has its own `SetupMass`, `SetupLightParametric` and `SetupSourceParametric` object.\n",
        "\n",
        "The `Setup` used in earlier pipelines determine the model used in later pipelines. For example, if the `Source` \n",
        "pipeline is given a `Pixelization` and `Regularization`, than this `Inversion` will be used in the subsequent \n",
        "_SLaMPipelineLight_ and Mass pipelines. The assumptions regarding the lens light chosen by the `Light` object are \n",
        "carried forward to the `Mass`  pipeline.\n",
        "\n",
        "The `Setup` again tags the path structure of every pipeline in a unique way, such than combinations of different\n",
        "SLaM pipelines can be used to fit lenses with different models. If the earlier pipelines are identical (e.g. they use\n",
        "the same `SLaMPipelineSource`. they will reuse those results before branching off to fit different models in the \n",
        "_SLaMPipelineLight_ and / or `SLaMPipelineMass` pipelines. \n",
        "\n",
        "__HYPER SETUP__\n",
        "\n",
        "The `SetupHyper` determines which hyper-mode features are used during the model-fit and is used identically to the\n",
        "hyper pipeline examples.\n",
        "\n",
        "The `SetupHyper` object has a new input available, `hyper_fixed_after_source`, which fixes the hyper-parameters to\n",
        "the values computed by the hyper-phase at the end of the Source pipeline. By fixing the hyper-parameter values in the\n",
        "_SLaMPipelineLight_ and `SLaMPipelineMass` pipelines, model comparison can be performed in a consistent fashion."
      ]
    },
    {
      "cell_type": "code",
      "metadata": {},
      "source": [
        "hyper = al.SetupHyper(\n",
        "    hyper_galaxies_lens=False,\n",
        "    hyper_galaxies_source=False,\n",
        "    hyper_image_sky=None,\n",
        "    hyper_background_noise=None,\n",
        "    hyper_fixed_after_source=True,\n",
        "    evidence_tolerance=50.0,\n",
        ")"
      ],
      "outputs": [],
      "execution_count": null
    },
    {
      "cell_type": "markdown",
      "metadata": {},
      "source": [
        "__SLaMPipelineSourceParametric__\n",
        "\n",
        "The parametric source pipeline aims to initialize a robust model for the source galaxy using `LightProfile` objects. \n",
        "\n",
        " Source: This parametric source model is used by the SLaM Mass pipeline that follows, and thus sets the complexity of \n",
        " the parametric source model of the overall fit. \n",
        " \n",
        " For this runner the `SetupSourceParametric` customizes: \n",
        " \n",
        " - That the bulge of the source `Galaxy` is fitted using an `EllipticalSersic`.\n",
        " - There is has no over `LightProfile` components (e.g. a disk, envelope)_."
      ]
    },
    {
      "cell_type": "code",
      "metadata": {},
      "source": [
        "setup_source = al.SetupSourceParametric(\n",
        "    bulge_prior_model=al.lp.EllipticalSersic,\n",
        "    disk_prior_model=None,\n",
        "    envelope_prior_model=None,\n",
        ")"
      ],
      "outputs": [],
      "execution_count": null
    },
    {
      "cell_type": "markdown",
      "metadata": {},
      "source": [
        " Light: The `LightProfile` used to model the lens galaxy's light. This is changed in the SLaM Light pipeline that follows.\n",
        "\n",
        " We use the default Light settings which model the lens galaxy's light as an `EllipticalSersic` bulge \n",
        " and `EllipticalExponential` disk."
      ]
    },
    {
      "cell_type": "code",
      "metadata": {},
      "source": [
        "setup_light = al.SetupLightParametric()"
      ],
      "outputs": [],
      "execution_count": null
    },
    {
      "cell_type": "markdown",
      "metadata": {},
      "source": [
        " Mass: The `MassProfile` used to model the lens galaxy's mass. This is changed in the SLaM Mass pipeline that follows.\n",
        " \n",
        " Our experience with lens modeling has shown the `EllipticalIsothermal` profile is the simpliest model to fit that \n",
        " provide a good fit to the majority of strong lenses.\n",
        " \n",
        " For this runner the `SetupMassProfile` customizes:\n",
        "\n",
        " - That the mass of the lens `Galaxy` is fitted using an `EllipticalIsothermal`.\n",
        " - That there is not `ExternalShear` in the mass model.\n",
        " - That the mass profile centre is (0.0, 0.0) (this assumption will be relaxed in the SLaM Mass Pipeline."
      ]
    },
    {
      "cell_type": "code",
      "metadata": {},
      "source": [
        "setup_mass = al.SetupMassTotal(\n",
        "    mass_prior_model=al.mp.EllipticalIsothermal, with_shear=True, mass_centre=(0.0, 0.0)\n",
        ")"
      ],
      "outputs": [],
      "execution_count": null
    },
    {
      "cell_type": "markdown",
      "metadata": {},
      "source": [
        "We combine the `SetupSource`, `SetupLight`  and `SetupMass` above to create the SLaM parametric Source Pipeline."
      ]
    },
    {
      "cell_type": "code",
      "metadata": {},
      "source": [
        "pipeline_source_parametric = al.SLaMPipelineSourceParametric(\n",
        "    setup_mass=setup_mass, setup_light=setup_light, setup_source=setup_source\n",
        ")"
      ],
      "outputs": [],
      "execution_count": null
    },
    {
      "cell_type": "markdown",
      "metadata": {},
      "source": [
        "__SLaMPipelineLight__\n",
        "\n",
        "The `SLaMPipelineLightParametric` pipeline fits the model for the lens galaxy's bulge + disk light model. \n",
        "\n",
        "A full description of all options can be found ? and ?.\n",
        "\n",
        " The model used to represent the lens galaxy's light is input into `SLaMPipelineLightParametric` below and this runner uses an \n",
        " `EllipticalSersic` + `EllipticalExponential` bulge-disk model in this example.\n",
        " \n",
        "For this runner the `SLaMPipelineLightParametric` customizes:\n",
        "\n",
        " - The alignment of the centre and elliptical components of the bulge and disk.\n",
        " - If the disk is modeled as an `EllipticalExponential` or `EllipticalSersic`.\n",
        "\n",
        "The `SLaMPipelineLightParametric` uses the mass model fitted in the previous `SLaMPipelineSource`'s.\n",
        "\n",
        "The `SLaMPipelineLightParametric` and imported light pipelines determine the lens light model used in `Mass` pipelines."
      ]
    },
    {
      "cell_type": "code",
      "metadata": {},
      "source": [
        "setup_light = al.SetupLightParametric(\n",
        "    bulge_prior_model=al.lp.EllipticalSersic,\n",
        "    disk_prior_model=al.lp.EllipticalExponential,\n",
        "    align_bulge_disk_centre=True,\n",
        "    align_bulge_disk_elliptical_comps=False,\n",
        ")\n",
        "\n",
        "pipeline_light = al.SLaMPipelineLightParametric(setup_light=setup_light)"
      ],
      "outputs": [],
      "execution_count": null
    },
    {
      "cell_type": "markdown",
      "metadata": {},
      "source": [
        "__SLaMPipelineMass__\n",
        "\n",
        "The `SLaMPipelineMass` pipeline fits the model for the lens galaxy's total mass distribution. \n",
        "\n",
        "A full description of all options can be found ? and ?.\n",
        "\n",
        "The model used to represent the lens galaxy's mass is input into `SLaMPipelineMassTotal` and this runner uses the \n",
        "default of an `EllipticalPowerLaw` in this example.\n",
        "\n",
        "For this runner the `SLaMPipelineMass` customizes:\n",
        "\n",
        " - The `MassProfile` fitted by the pipeline.\n",
        " - If there is an `ExternalShear` in the mass model."
      ]
    },
    {
      "cell_type": "code",
      "metadata": {},
      "source": [
        "setup_mass = al.SetupMassTotal(\n",
        "    mass_prior_model=al.mp.EllipticalPowerLaw, with_shear=True\n",
        ")\n",
        "\n",
        "pipeline_mass = al.SLaMPipelineMass(setup_mass=setup_mass)"
      ],
      "outputs": [],
      "execution_count": null
    },
    {
      "cell_type": "markdown",
      "metadata": {},
      "source": [
        "__SLaM__\n",
        "\n",
        "We combine all of the above `SLaM` pipelines into a `SLaM` object.\n",
        "\n",
        "The `SLaM` object contains a number of methods used in the make_pipeline functions which are used to compose the model \n",
        "based on the input values. It also handles pipeline tagging and path structure."
      ]
    },
    {
      "cell_type": "code",
      "metadata": {},
      "source": [
        "slam = al.SLaM(\n",
        "    path_prefix=path.join(\"imaging\", \"slam\", \"with_lens_light\", dataset_name),\n",
        "    setup_hyper=hyper,\n",
        "    pipeline_source_parametric=pipeline_source_parametric,\n",
        "    pipeline_light_parametric=pipeline_light,\n",
        "    pipeline_mass=pipeline_mass,\n",
        ")"
      ],
      "outputs": [],
      "execution_count": null
    },
    {
      "cell_type": "markdown",
      "metadata": {},
      "source": [
        "__PIPELINE CREATION__\n",
        "\n",
        "We import and make pipelines as per usual, albeit we'll now be doing this for multiple pipelines!\n",
        "\n",
        "We then run each pipeline, passing the results of previous pipelines to subsequent pipelines."
      ]
    },
    {
      "cell_type": "code",
      "metadata": {},
      "source": [
        "from pipelines import source__parametric\n",
        "from pipelines import light__parametric\n",
        "from pipelines import mass__total\n",
        "\n",
        "source__parametric = source__parametric.make_pipeline(slam=slam, settings=settings)\n",
        "source_results = source__parametric.run(dataset=imaging, mask=mask)\n",
        "\n",
        "\n",
        "light__parametric = light__parametric.make_pipeline(\n",
        "    slam=slam, settings=settings, source_results=source_results\n",
        ")\n",
        "light_results = light__parametric.run(dataset=imaging, mask=mask)\n",
        "\n",
        "\n",
        "mass__total = mass__total.make_pipeline(\n",
        "    slam=slam,\n",
        "    settings=settings,\n",
        "    source_results=source_results,\n",
        "    light_results=light_results,\n",
        ")\n",
        "mass_results = mass__total.run(dataset=imaging, mask=mask)"
      ],
      "outputs": [],
      "execution_count": null
    },
    {
      "cell_type": "markdown",
      "metadata": {},
      "source": [
        "Finish."
      ]
    },
    {
      "cell_type": "code",
      "metadata": {},
      "source": [],
      "outputs": [],
      "execution_count": null
    }
  ],
  "metadata": {
    "anaconda-cloud": {},
    "kernelspec": {
      "display_name": "Python 3",
      "language": "python",
      "name": "python3"
    },
    "language_info": {
      "codemirror_mode": {
        "name": "ipython",
        "version": 3
      },
      "file_extension": ".py",
      "mimetype": "text/x-python",
      "name": "python",
      "nbconvert_exporter": "python",
      "pygments_lexer": "ipython3",
      "version": "3.6.1"
    }
  },
  "nbformat": 4,
  "nbformat_minor": 4
}