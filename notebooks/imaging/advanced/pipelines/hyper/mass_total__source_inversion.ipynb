{
  "cells": [
    {
      "cell_type": "markdown",
      "metadata": {},
      "source": [
        "Pipelines: Hyper\n",
        "================\n",
        "\n",
        "This pipeline runner loads a strong lens dataset and analyses it using a lens\n",
        "modeling pipeline.\n",
        "\n",
        "This runner and pipeline use **PyAutoLens**`s `hyper-mode`. Hyper-mode passes the best-fit model-image\n",
        "of previous phases in a pipeline to later phases, and uses these images (called the `hyper images`) to:\n",
        "\n",
        "- Adapt a pixelization`s grid to the surface-brightness of the source galaxy.\n",
        "- Adapt the `Regularization` scheme to the surface-brightness of the source galaxy.\n",
        "- Scale the noise in regions of the image where the model give a poor fit (in both the lens and source galaxies).\n",
        "- include uncertanties in the data-reduction into the model, such as the background sky level.\n",
        "\n",
        "This uses the pipeline (Check it out full description of the pipeline):\n",
        "\n",
        " `autolens_workspace/imaging/modeling/pipelines/hyper/pipelines/mass_total__source_inversion.py`.\n",
        "\n",
        "Check it out now for a detailed description of how it uses the hyper-mode features!"
      ]
    },
    {
      "cell_type": "code",
      "metadata": {},
      "source": [
        "%matplotlib inline\n",
        "from pyprojroot import here\n",
        "workspace_path = str(here())\n",
        "%cd $workspace_path\n",
        "print(f\"Working Directory has been set to `{workspace_path}`\")\n",
        "\n",
        "from os import path\n",
        "import autolens as al\n",
        "import autolens.plot as aplt\n",
        "\n",
        "dataset_name = \"mass_sie__source_sersic\"\n",
        "pixel_scales = 0.1\n",
        "dataset_path = path.join(\"dataset\", \"imaging\", \"no_lens_light\", dataset_name)"
      ],
      "outputs": [],
      "execution_count": null
    },
    {
      "cell_type": "markdown",
      "metadata": {},
      "source": [
        "Using the dataset path, load the data (image, noise-map, PSF) as an `Imaging` object from .fits files."
      ]
    },
    {
      "cell_type": "code",
      "metadata": {},
      "source": [
        "imaging = al.Imaging.from_fits(\n",
        "    image_path=path.join(dataset_path, \"image.fits\"),\n",
        "    psf_path=path.join(dataset_path, \"psf.fits\"),\n",
        "    noise_map_path=path.join(dataset_path, \"noise_map.fits\"),\n",
        "    pixel_scales=pixel_scales,\n",
        ")"
      ],
      "outputs": [],
      "execution_count": null
    },
    {
      "cell_type": "markdown",
      "metadata": {},
      "source": [
        "Next, we create the mask we'll fit this data-set with."
      ]
    },
    {
      "cell_type": "code",
      "metadata": {},
      "source": [
        "mask = al.Mask2D.circular(\n",
        "    shape_native=imaging.shape_native, pixel_scales=imaging.pixel_scales, radius=3.0\n",
        ")"
      ],
      "outputs": [],
      "execution_count": null
    },
    {
      "cell_type": "markdown",
      "metadata": {},
      "source": [
        "Make a quick subplot to make sure the data looks as we expect."
      ]
    },
    {
      "cell_type": "code",
      "metadata": {},
      "source": [
        "imaging_plotter = aplt.ImagingPlotter(\n",
        "    imaging=imaging, visuals_2d=aplt.Visuals2D(mask=mask)\n",
        ")\n",
        "imaging_plotter.subplot_imaging()"
      ],
      "outputs": [],
      "execution_count": null
    },
    {
      "cell_type": "markdown",
      "metadata": {},
      "source": [
        "__Settings__\n",
        "\n",
        "`SettingsPhase` behave as they did in normal pipelines."
      ]
    },
    {
      "cell_type": "code",
      "metadata": {},
      "source": [
        "settings_masked_imaging = al.SettingsMaskedImaging(grid_class=al.Grid2D, sub_size=2)\n",
        "\n",
        "settings = al.SettingsPhaseImaging(settings_masked_imaging=settings_masked_imaging)"
      ],
      "outputs": [],
      "execution_count": null
    },
    {
      "cell_type": "markdown",
      "metadata": {},
      "source": [
        "__PIPELINE SETUP__\n",
        "\n",
        "Pipelines use `Setup` objects to customize how different aspects of the model are fitted. \n",
        "\n",
        "The `SetupHyper` object controls the behaviour of  hyper-mode specifically:\n",
        "\n",
        "- If hyper-galaxies are used to scale the noise in the lens and source galaxies in image (default False)\n",
        "- If the level of background noise is modeled throughout the pipeline (default False)\n",
        "- If the background sky is modeled throughout the pipeline (default False)"
      ]
    },
    {
      "cell_type": "code",
      "metadata": {},
      "source": [
        "setup_hyper = al.SetupHyper(\n",
        "    hyper_galaxies_lens=False,\n",
        "    hyper_galaxies_source=False,\n",
        "    hyper_background_noise=None,\n",
        "    hyper_image_sky=None,  # <- By default this feature is off, as it rarely changes the lens model.\n",
        ")"
      ],
      "outputs": [],
      "execution_count": null
    },
    {
      "cell_type": "markdown",
      "metadata": {},
      "source": [
        "Next, we create a `SetupMassTotal`, which customizes:\n",
        "\n",
        " - The `MassProfile` used to fit the lens's total mass distribution.\n",
        " - If there is an `ExternalShear` in the mass model or not."
      ]
    },
    {
      "cell_type": "code",
      "metadata": {},
      "source": [
        "setup_mass = al.SetupMassTotal(\n",
        "    mass_prior_model=al.mp.EllipticalPowerLaw, with_shear=True\n",
        ")"
      ],
      "outputs": [],
      "execution_count": null
    },
    {
      "cell_type": "markdown",
      "metadata": {},
      "source": [
        "In hyper-mode, we can use the `VoronoiBrightnessImage` `Pixelization` and `AdaptiveBrightness` `Regularization` \n",
        "scheme, which adapts the `Pixelization` and `Regularization` to the morphology of the lensed source galaxy using the\n",
        "hyper-image. \n",
        "\n",
        "To do this, we create a `SetupSourceInversion` as per usual, passing it these classes. \n",
        "\n",
        "We also specify the number of  pixels used by the `Pixelization` to be fixed to 1500 using `inversion_pixel_fixed`. \n",
        "This input is optional, a reduced source-resolution can provide faster run-times, but too low a resolution can\n",
        "lead the source to be poorly reconstructed biasing the mass model. See **HowToLens** chapter 5 for more details."
      ]
    },
    {
      "cell_type": "code",
      "metadata": {},
      "source": [
        "setup_source = al.SetupSourceInversion(\n",
        "    pixelization_prior_model=al.pix.VoronoiBrightnessImage,\n",
        "    regularization_prior_model=al.reg.AdaptiveBrightness,\n",
        "    inversion_pixels_fixed=1500,\n",
        ")"
      ],
      "outputs": [],
      "execution_count": null
    },
    {
      "cell_type": "markdown",
      "metadata": {},
      "source": [
        "_Pipeline Tagging_\n",
        "\n",
        "The `Setup` objects are input into a `SetupPipeline` object, which is passed into the pipeline and used to customize\n",
        "the analysis depending on the setup. This includes tagging the output path of a pipeline. For example, if `with_shear` \n",
        "is True, the pipeline`s output paths are `tagged` with the string `with_shear`.\n",
        "\n",
        "This means you can run the same pipeline on the same data twice (e.g. with and without shear) and the results will go\n",
        "to different output folders and thus not clash with one another!\n",
        "\n",
        "The `path_prefix` below specifies the path the pipeline results are written to, which is:\n",
        "\n",
        " `autolens_workspace/output/imaging/modeling/pipelines/hyper/dataset_type/dataset_name` \n",
        " `autolens_workspace/output/imaging/modeling/pipelines/hyper/mass_sie__source_inversion/`\n",
        "\n",
        "The redshift of the lens and source galaxies are also input (see `notebooks/imaging/modeling/customize/redshift.py`) for a \n",
        "description of what inputting redshifts into **PyAutoLens** does."
      ]
    },
    {
      "cell_type": "code",
      "metadata": {},
      "source": [
        "setup = al.SetupPipeline(\n",
        "    path_prefix=path.join(\"imaging\", \"pipelines\", \"hyper\", dataset_name),\n",
        "    setup_hyper=setup_hyper,\n",
        "    setup_mass=setup_mass,\n",
        "    setup_source=setup_source,\n",
        ")"
      ],
      "outputs": [],
      "execution_count": null
    },
    {
      "cell_type": "markdown",
      "metadata": {},
      "source": [
        "__PIPELINE CREATION__\n",
        "\n",
        "To create a pipeline we import it from the pipelines folder and run its `make_pipeline` function, inputting the \n",
        "`Setup` and `SettingsPhase` above."
      ]
    },
    {
      "cell_type": "code",
      "metadata": {},
      "source": [
        "from pipelines import mass_total__source_inversion\n",
        "\n",
        "pipeline = mass_total__source_inversion.make_pipeline(setup=setup, settings=settings)"
      ],
      "outputs": [],
      "execution_count": null
    },
    {
      "cell_type": "markdown",
      "metadata": {},
      "source": [
        "__Pipeline Run__\n",
        "\n",
        "Running a pipeline is the same as running a phase, we simply pass it our lens dataset and mask to its run function."
      ]
    },
    {
      "cell_type": "code",
      "metadata": {},
      "source": [
        "pipeline.run(dataset=imaging, mask=mask)"
      ],
      "outputs": [],
      "execution_count": null
    },
    {
      "cell_type": "markdown",
      "metadata": {},
      "source": [
        "Finish."
      ]
    },
    {
      "cell_type": "code",
      "metadata": {},
      "source": [],
      "outputs": [],
      "execution_count": null
    }
  ],
  "metadata": {
    "anaconda-cloud": {},
    "kernelspec": {
      "display_name": "Python 3",
      "language": "python",
      "name": "python3"
    },
    "language_info": {
      "codemirror_mode": {
        "name": "ipython",
        "version": 3
      },
      "file_extension": ".py",
      "mimetype": "text/x-python",
      "name": "python",
      "nbconvert_exporter": "python",
      "pygments_lexer": "ipython3",
      "version": "3.6.1"
    }
  },
  "nbformat": 4,
  "nbformat_minor": 4
}