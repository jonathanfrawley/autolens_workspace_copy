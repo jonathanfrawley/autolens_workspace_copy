{
  "cells": [
    {
      "cell_type": "markdown",
      "metadata": {},
      "source": [
        "Pipelines: Light Parametric + Mass Total + Source Parametric\n",
        "============================================================\n",
        "\n",
        "Using a pipeline composed of five phases this runner fits `Imaging` of a strong lens system, where in the final phase\n",
        "of the pipeline:\n",
        "\n",
        " - The lens galaxy's light is modeled parametrically as an `EllipticalSersic`.\n",
        " - The lens galaxy's total mass distribution is modeled as an `EllipticalIsothermal`.\n",
        " - The source galaxy is modeled parametrically as an `EllipticalSersic`.\n",
        "\n",
        "This uses the pipeline (Check it out full description of the pipeline):\n",
        "\n",
        " `autolens_workspace/imaging/modeling/pipelines/with_lens_light/pipelines/light_parametric__mass_total__source_parametric.py`."
      ]
    },
    {
      "cell_type": "code",
      "metadata": {},
      "source": [
        "%matplotlib inline\n",
        "from pyprojroot import here\n",
        "workspace_path = str(here())\n",
        "%cd $workspace_path\n",
        "print(f\"Working Directory has been set to `{workspace_path}`\")\n",
        "\n",
        "from os import path\n",
        "import autofit as af\n",
        "import autolens as al\n",
        "import autolens.plot as aplt\n",
        "\n",
        "dataset_name = \"light_sersic__mass_sie__source_sersic\"\n",
        "pixel_scales = 0.1\n",
        "\n",
        "dataset_path = path.join(\"dataset\", \"imaging\", \"with_lens_light\", dataset_name)"
      ],
      "outputs": [],
      "execution_count": null
    },
    {
      "cell_type": "markdown",
      "metadata": {},
      "source": [
        "Using the dataset path, load the data (image, noise-map, PSF) as an `Imaging` object from .fits files."
      ]
    },
    {
      "cell_type": "code",
      "metadata": {},
      "source": [
        "imaging = al.Imaging.from_fits(\n",
        "    image_path=path.join(dataset_path, \"image.fits\"),\n",
        "    psf_path=path.join(dataset_path, \"psf.fits\"),\n",
        "    noise_map_path=path.join(dataset_path, \"noise_map.fits\"),\n",
        "    pixel_scales=pixel_scales,\n",
        ")"
      ],
      "outputs": [],
      "execution_count": null
    },
    {
      "cell_type": "markdown",
      "metadata": {},
      "source": [
        "Next, we create the mask we'll fit this data-set with."
      ]
    },
    {
      "cell_type": "code",
      "metadata": {},
      "source": [
        "mask = al.Mask2D.circular(\n",
        "    shape_native=imaging.shape_native, pixel_scales=imaging.pixel_scales, radius=3.0\n",
        ")"
      ],
      "outputs": [],
      "execution_count": null
    },
    {
      "cell_type": "markdown",
      "metadata": {},
      "source": [
        "Make a quick subplot to make sure the data looks as we expect."
      ]
    },
    {
      "cell_type": "code",
      "metadata": {},
      "source": [
        "imaging_plotter = aplt.ImagingPlotter(\n",
        "    imaging=imaging, visuals_2d=aplt.Visuals2D(mask=mask)\n",
        ")\n",
        "imaging_plotter.subplot_imaging()"
      ],
      "outputs": [],
      "execution_count": null
    },
    {
      "cell_type": "markdown",
      "metadata": {},
      "source": [
        "__Settings__\n",
        "\n",
        "The `SettingsPhaseImaging` describe how the model is fitted to the data in the log likelihood function.\n",
        "\n",
        "These settings are used and described throughout the `autolens_workspace/notebooks/imaging/modeling` example scripts, with a \n",
        "complete description of all settings given in `autolens_workspace/notebooks/imaging/modeling/customize/settings.py`.\n",
        "\n",
        "The settings chosen here are applied to all phases in the pipeline."
      ]
    },
    {
      "cell_type": "code",
      "metadata": {},
      "source": [
        "settings_masked_imaging = al.SettingsMaskedImaging(grid_class=al.Grid2D, sub_size=2)\n",
        "\n",
        "settings = al.SettingsPhaseImaging(settings_masked_imaging=settings_masked_imaging)"
      ],
      "outputs": [],
      "execution_count": null
    },
    {
      "cell_type": "markdown",
      "metadata": {},
      "source": [
        "__Pipeline_Setup__:\n",
        "\n",
        "Pipelines use `Setup` objects to customize how different aspects of the model are fitted. \n",
        "\n",
        "First, we create a `SetupLightParametric` which customizes:\n",
        "\n",
        " - The `LightProfile`'s which fit different components of the lens light, such as its `bulge` and `disk`.\n",
        " - The alignment of these components, for example if the `bulge` and `disk` centres are aligned.\n",
        " - If the centre of the lens light profile is manually input and fixed for modeling.\n",
        " \n",
        "In this example we fit the lens light as just one component, a `bulge` represented as an `EllipticalSersic`. We do \n",
        "not fix its centre to an input value. We have included options of `SetupLightParametric` with input values of\n",
        "`None`, illustrating how it could be edited to fit different models."
      ]
    },
    {
      "cell_type": "code",
      "metadata": {},
      "source": [
        "setup_light = al.SetupLightParametric(\n",
        "    bulge_prior_model=al.lp.EllipticalSersic,\n",
        "    disk_prior_model=None,\n",
        "    envelope_prior_model=None,\n",
        "    align_bulge_disk_centre=False,\n",
        "    align_bulge_disk_elliptical_comps=False,\n",
        "    light_centre=None,\n",
        ")"
      ],
      "outputs": [],
      "execution_count": null
    },
    {
      "cell_type": "markdown",
      "metadata": {},
      "source": [
        "This pipeline also uses a `SetupMass`, which customizes:\n",
        "\n",
        " - The `MassProfile` used to fit the lens's total mass distribution.\n",
        " - If there is an `ExternalShear` in the mass model or not.\n",
        "  - If the centre of the `MassProfile` is aligned with the centre of the `LightProfile`'s."
      ]
    },
    {
      "cell_type": "code",
      "metadata": {},
      "source": [
        "setup_mass = al.SetupMassTotal(\n",
        "    mass_prior_model=al.mp.EllipticalPowerLaw,\n",
        "    with_shear=True,\n",
        "    align_bulge_mass_centre=False,\n",
        ")"
      ],
      "outputs": [],
      "execution_count": null
    },
    {
      "cell_type": "markdown",
      "metadata": {},
      "source": [
        "Next, we create a `SetupSourceParametric` which customizes the parametric source model in an identical way to how \n",
        "`SetupLightParametric` customizes the parametric lens light model.\n",
        "\n",
        "This example uses a single `bulge` with an `EllipticalSersic` and we've included examples illustrating how this could \n",
        "be customized."
      ]
    },
    {
      "cell_type": "code",
      "metadata": {},
      "source": [
        "setup_source = al.SetupSourceParametric(\n",
        "    bulge_prior_model=al.lp.EllipticalSersic,\n",
        "    disk_prior_model=None,\n",
        "    envelope_prior_model=None,\n",
        "    align_bulge_disk_centre=False,\n",
        "    align_bulge_disk_elliptical_comps=False,\n",
        "    light_centre=None,\n",
        ")"
      ],
      "outputs": [],
      "execution_count": null
    },
    {
      "cell_type": "markdown",
      "metadata": {},
      "source": [
        "_Pipeline Tagging_\n",
        "\n",
        "The `Setup` objects are input into a `SetupPipeline` object, which is passed into the pipeline and used to customize\n",
        "the analysis depending on the setup. This includes tagging the output path of a pipeline. For example, if `with_shear` \n",
        "is True, the pipeline`s output paths are `tagged` with the string `with_shear`.\n",
        "\n",
        "This means you can run the same pipeline on the same data twice (e.g. with and without shear) and the results will go\n",
        "to different output folders and thus not clash with one another!\n",
        "\n",
        "The `path_prefix` below specifies the path the pipeline results are written to, which is:\n",
        "\n",
        " `autolens_workspace/output/imaging/modeling/pipelines/with_lens_light/dataset_type/dataset_name` \n",
        " `autolens_workspace/output/imaging/modeling/pipelines/with_lens_light/light_sersic__mass_sie__source_sersic/`\n",
        "\n",
        "The redshift of the lens and source galaxies are also input (see `notebooks/imaging/modeling/customize/redshift.py`) for a \n",
        "description of what inputting redshifts into **PyAutoLens** does."
      ]
    },
    {
      "cell_type": "code",
      "metadata": {},
      "source": [
        "setup = al.SetupPipeline(\n",
        "    path_prefix=path.join(\"imaging\", \"pipelines\", \"with_lens_light\", dataset_name),\n",
        "    redshift_lens=0.5,\n",
        "    redshift_source=1.0,\n",
        "    setup_light=setup_light,\n",
        "    setup_mass=setup_mass,\n",
        "    setup_source=setup_source,\n",
        ")"
      ],
      "outputs": [],
      "execution_count": null
    },
    {
      "cell_type": "markdown",
      "metadata": {},
      "source": [
        "__Pipeline Creation__\n",
        "\n",
        "To create a pipeline we import it from the pipelines folder and run its `make_pipeline` function, inputting the \n",
        "`Setup` and `SettingsPhase` above."
      ]
    },
    {
      "cell_type": "code",
      "metadata": {},
      "source": [
        "from pipelines import light_parametric__mass_total__source_parametric\n",
        "\n",
        "pipeline = light_parametric__mass_total__source_parametric.make_pipeline(\n",
        "    setup=setup, settings=settings\n",
        ")"
      ],
      "outputs": [],
      "execution_count": null
    },
    {
      "cell_type": "markdown",
      "metadata": {},
      "source": [
        "__Pipeline Run__\n",
        "\n",
        "Running a pipeline is the same as running a phase, we simply pass it our lens dataset and mask to its run function."
      ]
    },
    {
      "cell_type": "code",
      "metadata": {},
      "source": [
        "pipeline.run(dataset=imaging, mask=mask)"
      ],
      "outputs": [],
      "execution_count": null
    },
    {
      "cell_type": "markdown",
      "metadata": {},
      "source": [
        "Finish."
      ]
    },
    {
      "cell_type": "code",
      "metadata": {},
      "source": [],
      "outputs": [],
      "execution_count": null
    }
  ],
  "metadata": {
    "anaconda-cloud": {},
    "kernelspec": {
      "display_name": "Python 3",
      "language": "python",
      "name": "python3"
    },
    "language_info": {
      "codemirror_mode": {
        "name": "ipython",
        "version": 3
      },
      "file_extension": ".py",
      "mimetype": "text/x-python",
      "name": "python",
      "nbconvert_exporter": "python",
      "pygments_lexer": "ipython3",
      "version": "3.6.1"
    }
  },
  "nbformat": 4,
  "nbformat_minor": 4
}