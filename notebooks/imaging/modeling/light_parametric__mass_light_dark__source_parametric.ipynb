{
  "cells": [
    {
      "cell_type": "markdown",
      "metadata": {},
      "source": [
        "Modeling: Light Parametric + Mass Light Dark + Source Parametric\n",
        "================================================================\n",
        "\n",
        "In this script, we fit `Imaging` with a strong lens model where:\n",
        "\n",
        " - The lens galaxy's light is a parametric `EllSersic`.\n",
        " - The lens galaxy's stellar mass distribution is tied to the light model above.\n",
        " - The lens galaxy's dark matter mass distribution is a `EllNFW`.\n",
        " - The source galaxy's light is a parametric `EllSersic`."
      ]
    },
    {
      "cell_type": "code",
      "metadata": {},
      "source": [
        "%matplotlib inline\n",
        "from pyprojroot import here\n",
        "workspace_path = str(here())\n",
        "%cd $workspace_path\n",
        "print(f\"Working Directory has been set to `{workspace_path}`\")\n",
        "\n",
        "from os import path\n",
        "import autofit as af\n",
        "import autolens as al\n",
        "import autolens.plot as aplt"
      ],
      "outputs": [],
      "execution_count": null
    },
    {
      "cell_type": "markdown",
      "metadata": {},
      "source": [
        "__Dataset__\n",
        "\n",
        "Load and plot the strong lens dataset `light_sersic__mass_mlr_nfw__source_sersic` via .fits files, which we will fit with \n",
        "the lens model."
      ]
    },
    {
      "cell_type": "code",
      "metadata": {},
      "source": [
        "dataset_name = \"light_sersic__mass_mlr_nfw__source_sersic\"\n",
        "dataset_path = path.join(\"dataset\", \"imaging\", \"with_lens_light\", dataset_name)\n",
        "\n",
        "imaging = al.Imaging.from_fits(\n",
        "    image_path=path.join(dataset_path, \"image.fits\"),\n",
        "    psf_path=path.join(dataset_path, \"psf.fits\"),\n",
        "    noise_map_path=path.join(dataset_path, \"noise_map.fits\"),\n",
        "    pixel_scales=0.1,\n",
        ")"
      ],
      "outputs": [],
      "execution_count": null
    },
    {
      "cell_type": "markdown",
      "metadata": {},
      "source": [
        "__Masking__\n",
        "\n",
        "The model-fit requires a `Mask2D` defining the regions of the image we fit the lens model to the data, which we define\n",
        "and use to set up the `Imaging` object that the lens model fits."
      ]
    },
    {
      "cell_type": "code",
      "metadata": {},
      "source": [
        "mask = al.Mask2D.circular(\n",
        "    shape_native=imaging.shape_native, pixel_scales=imaging.pixel_scales, radius=3.0\n",
        ")\n",
        "\n",
        "imaging = imaging.apply_mask(mask=mask)\n",
        "\n",
        "imaging_plotter = aplt.ImagingPlotter(imaging=imaging)\n",
        "imaging_plotter.subplot_imaging()"
      ],
      "outputs": [],
      "execution_count": null
    },
    {
      "cell_type": "markdown",
      "metadata": {},
      "source": [
        "__Model__\n",
        "\n",
        "We compose our lens model using `Model` objects, which represent the galaxies we fit to our data. In this \n",
        "example we fit a lens model where:\n",
        "\n",
        " - The lens galaxy's light and stellar mass is a parametric `EllSersic` [8 parameters].\n",
        " \n",
        " - The lens galaxy's dark matter mass distribution is a `EllNFW` whose centre is aligned with the \n",
        " `EllSersic` bulge of the light and stellar mass mdoel above [5 parameters].\n",
        " \n",
        " - The lens mass model also includes an `ExternalShear` [2 parameters].\n",
        " \n",
        " - The source galaxy's light is a parametric `EllSersic` [7 parameters].\n",
        "\n",
        "The number of free parameters and therefore the dimensionality of non-linear parameter space is N=22.\n",
        "\n",
        "NOTE: \n",
        "\n",
        "**PyAutoLens** assumes that the lens galaxy centre is near the coordinates (0.0\", 0.0\"). \n",
        "\n",
        "If for your dataset the  lens is not centred at (0.0\", 0.0\"), we recommend that you either: \n",
        "\n",
        " - Reduce your data so that the centre is (`autolens_workspace/notebooks/preprocess`). \n",
        " - Manually override the lens model priors (`autolens_workspace/notebooks/imaging/modeling/customize/priors.py`)."
      ]
    },
    {
      "cell_type": "code",
      "metadata": {},
      "source": [
        "bulge = af.Model(al.lmp.EllSersic)\n",
        "dark = af.Model(al.mp.EllNFW)\n",
        "bulge.centre = dark.centre\n",
        "\n",
        "lens = af.Model(\n",
        "    al.Galaxy, redshift=0.5, bulge=bulge, dark=dark, shear=al.mp.ExternalShear\n",
        ")\n",
        "source = af.Model(al.Galaxy, redshift=1.0, bulge=al.lp.EllSersic)\n",
        "\n",
        "model = af.Collection(galaxies=af.Collection(lens=lens, source=source))"
      ],
      "outputs": [],
      "execution_count": null
    },
    {
      "cell_type": "markdown",
      "metadata": {},
      "source": [
        "__Search__\n",
        "\n",
        "The lens model is fitted to the data using a non-linear search. In this example, we use the nested sampling algorithm \n",
        "Dynesty (https://dynesty.readthedocs.io/en/latest/). We make the following changes to the Dynesty __Settings__:\n",
        "\n",
        " - Increase the number of live points, `nlive`, from the default value of 50 to 100. \n",
        " - Increase the number of random walks per live point, `walks` from the default value of 5 to 10. \n",
        " \n",
        "These changes are motivated by the higher dimensionality non-linear parameter space that including the lens light \n",
        "creates, which requires more thorough sampling by the non-linear search.\n",
        "\n",
        "The folder `autolens_workspace/notebooks/imaging/modeling/customize/non_linear_searches` gives an overview of the \n",
        "non-linear searches **PyAutoLens** supports. If you are unclear of what a non-linear search is, checkout chapter 2 of \n",
        "the **HowToLens** lectures.\n",
        "\n",
        "The `name` and `path_prefix` below specify the path where results ae stored in the output folder:  \n",
        "\n",
        " `/autolens_workspace/output/imaging/modeling/mass_sie__source_sersic/mass[sie]_source[bulge]`."
      ]
    },
    {
      "cell_type": "code",
      "metadata": {},
      "source": [
        "search = af.DynestyStatic(\n",
        "    path_prefix=path.join(\"imaging\", \"modeling\", dataset_name),\n",
        "    name=\"light[bulge]_mass[mlr_nfw]_source[bulge]\",\n",
        "    nlive=100,\n",
        "    walks=10,\n",
        ")"
      ],
      "outputs": [],
      "execution_count": null
    },
    {
      "cell_type": "markdown",
      "metadata": {},
      "source": [
        "__Analysis__\n",
        "\n",
        "The `AnalysisImaging` object defines the `log_likelihood_function` used by the non-linear search to fit the model to \n",
        "the `Imaging`dataset."
      ]
    },
    {
      "cell_type": "code",
      "metadata": {},
      "source": [
        "analysis = al.AnalysisImaging(dataset=imaging)"
      ],
      "outputs": [],
      "execution_count": null
    },
    {
      "cell_type": "markdown",
      "metadata": {},
      "source": [
        "__Model-Fit__\n",
        "\n",
        "We can now begin the model-fit by passing the model and analysis object to the search, which performs a non-linear\n",
        "search to find which models fit the data with the highest likelihood.\n",
        "\n",
        "Checkout the folder `autolens_workspace/output/examples/mass[sie]_source[bulge]` for live outputs of the results of the\n",
        "fit, including on-the-fly visualization of the best fit model!"
      ]
    },
    {
      "cell_type": "code",
      "metadata": {},
      "source": [
        "result = search.fit(model=model, analysis=analysis)"
      ],
      "outputs": [],
      "execution_count": null
    },
    {
      "cell_type": "markdown",
      "metadata": {},
      "source": [
        "__Result__\n",
        "\n",
        "The search returns a result object, which includes: \n",
        "\n",
        " - The lens model corresponding to the maximum log likelihood solution in parameter space.\n",
        " - The corresponding maximum log likelihood `Tracer` and `FitImaging` objects."
      ]
    },
    {
      "cell_type": "code",
      "metadata": {},
      "source": [
        "print(result.max_log_likelihood_instance)\n",
        "\n",
        "tracer_plotter = aplt.TracerPlotter(\n",
        "    tracer=result.max_log_likelihood_tracer, grid=result.grid\n",
        ")\n",
        "tracer_plotter.subplot_tracer()\n",
        "\n",
        "fit_imaging_plotter = aplt.FitImagingPlotter(fit=result.max_log_likelihood_fit)\n",
        "fit_imaging_plotter.subplot_fit_imaging()"
      ],
      "outputs": [],
      "execution_count": null
    },
    {
      "cell_type": "markdown",
      "metadata": {},
      "source": [
        "Checkout `autolens_workspace/notebooks/imaging/modeling/results.py` for a full description of the result object."
      ]
    },
    {
      "cell_type": "code",
      "metadata": {},
      "source": [],
      "outputs": [],
      "execution_count": null
    }
  ],
  "metadata": {
    "anaconda-cloud": {},
    "kernelspec": {
      "display_name": "Python 3",
      "language": "python",
      "name": "python3"
    },
    "language_info": {
      "codemirror_mode": {
        "name": "ipython",
        "version": 3
      },
      "file_extension": ".py",
      "mimetype": "text/x-python",
      "name": "python",
      "nbconvert_exporter": "python",
      "pygments_lexer": "ipython3",
      "version": "3.6.1"
    }
  },
  "nbformat": 4,
  "nbformat_minor": 4
}