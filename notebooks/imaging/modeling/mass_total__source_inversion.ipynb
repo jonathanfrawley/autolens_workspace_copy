{
  "cells": [
    {
      "cell_type": "markdown",
      "metadata": {},
      "source": [
        "Modeling: Mass Total + Source Inversion\n",
        "=======================================\n",
        "\n",
        "In this script, we fit `Imaging` with a strong lens model where:\n",
        "\n",
        " - The lens galaxy's light is omitted (and is not present in the simulated data).\n",
        " - The lens galaxy's total mass distribution is an `EllIsothermal` and `ExternalShear`.\n",
        " - The source galaxy's surface-brightness is an `Inversion`.\n",
        "\n",
        "An `Inversion` reconstructs the source's light using a pixel-grid, which is regularized using a prior that forces\n",
        "this reconstruction to be smooth. This uses `Pixelization` and `Regularization` objects and in this example we will\n",
        "use their simplest forms, a `Rectangular` `Pixelization` and `Constant` `Regularization`.scheme.\n",
        "\n",
        "Inversions are covered in detail in chapter 4 of the **HowToLens** lectures.\n",
        "\n",
        "__A NOTE OF CAUTION__\n",
        "\n",
        "A common issue with `Inversions` is that they..."
      ]
    },
    {
      "cell_type": "code",
      "metadata": {},
      "source": [
        "%matplotlib inline\n",
        "from pyprojroot import here\n",
        "workspace_path = str(here())\n",
        "%cd $workspace_path\n",
        "print(f\"Working Directory has been set to `{workspace_path}`\")\n",
        "\n",
        "from os import path\n",
        "import autofit as af\n",
        "import autolens as al\n",
        "import autolens.plot as aplt"
      ],
      "outputs": [],
      "execution_count": null
    },
    {
      "cell_type": "markdown",
      "metadata": {},
      "source": [
        "__Dataset__\n",
        "\n",
        "Load and plot the strong lens dataset `mass_sie__source_sersic` via .fits files, which we will fit with the lens model."
      ]
    },
    {
      "cell_type": "code",
      "metadata": {},
      "source": [
        "dataset_name = \"mass_sie__source_sersic\"\n",
        "dataset_path = path.join(\"dataset\", \"imaging\", \"no_lens_light\", dataset_name)\n",
        "\n",
        "imaging = al.Imaging.from_fits(\n",
        "    image_path=path.join(dataset_path, \"image.fits\"),\n",
        "    psf_path=path.join(dataset_path, \"psf.fits\"),\n",
        "    noise_map_path=path.join(dataset_path, \"noise_map.fits\"),\n",
        "    pixel_scales=0.1,\n",
        ")\n",
        "\n",
        "imaging_plotter = aplt.ImagingPlotter(imaging=imaging)\n",
        "imaging_plotter.subplot_imaging()"
      ],
      "outputs": [],
      "execution_count": null
    },
    {
      "cell_type": "markdown",
      "metadata": {},
      "source": [
        "__Masking__\n",
        "\n",
        "The model-fit requires a `Mask2D` defining the regions of the image we fit the lens model to the data, which we define\n",
        "and use to set up the `Imaging` object that the lens model fits."
      ]
    },
    {
      "cell_type": "code",
      "metadata": {},
      "source": [
        "mask = al.Mask2D.circular(\n",
        "    shape_native=imaging.shape_native, pixel_scales=imaging.pixel_scales, radius=3.0\n",
        ")\n",
        "\n",
        "imaging = imaging.apply_mask(mask=mask)\n",
        "\n",
        "imaging_plotter = aplt.ImagingPlotter(imaging=imaging)\n",
        "imaging_plotter.subplot_imaging()"
      ],
      "outputs": [],
      "execution_count": null
    },
    {
      "cell_type": "markdown",
      "metadata": {},
      "source": [
        "__Positions__\n",
        "\n",
        "This fit also uses the arc-second positions of the multiply imaged lensed source galaxy, which were drawn onto the\n",
        "image via the GUI described in the file `autolens_workspace/notebooks/imaging/preprocess/gui/positions.py`."
      ]
    },
    {
      "cell_type": "code",
      "metadata": {},
      "source": [
        "positions = al.Grid2DIrregular.from_json(\n",
        "    file_path=path.join(dataset_path, \"positions.json\")\n",
        ")"
      ],
      "outputs": [],
      "execution_count": null
    },
    {
      "cell_type": "markdown",
      "metadata": {},
      "source": [
        "__Model__\n",
        "\n",
        "We compose our lens model using `Model` objects, which represent the galaxies we fit to our data.  In this \n",
        "example we fit a lens model where:\n",
        "\n",
        " - The lens galaxy's total mass distribution is an `EllIsothermal` and `ExternalShear` [7 parameters].\n",
        " \n",
        " - The source-galaxy's light uses a `Rectangular` pixelization with fixed resolution 30 x 30 pixels (0 parameters).\n",
        " \n",
        " - This pixelization is regularized using a `Constant` scheme which smooths every source pixel equally [1 parameter]. \n",
        "\n",
        "The number of free parameters and therefore the dimensionality of non-linear parameter space is N=6. \n",
        " \n",
        "It is worth noting the `Pixelization` and `Regularization` use significantly fewer parameters (1 parameter) than \n",
        "fitting the source using `LightProfile`'s (7+ parameters). \n",
        "\n",
        "NOTE: \n",
        "\n",
        "**PyAutoLens** assumes that the lens galaxy centre is near the coordinates (0.0\", 0.0\"). \n",
        "\n",
        "If for your dataset the  lens is not centred at (0.0\", 0.0\"), we recommend that you either: \n",
        "\n",
        " - Reduce your data so that the centre is (`autolens_workspace/notebooks/preprocess`). \n",
        " - Manually override the lens model priors (`autolens_workspace/notebooks/imaging/modeling/customize/priors.py`)."
      ]
    },
    {
      "cell_type": "code",
      "metadata": {},
      "source": [
        "lens = af.Model(\n",
        "    al.Galaxy, redshift=0.5, mass=al.mp.EllIsothermal, shear=al.mp.ExternalShear\n",
        ")\n",
        "source = af.Model(\n",
        "    al.Galaxy,\n",
        "    redshift=1.0,\n",
        "    pixelization=al.pix.Rectangular(shape=(30, 30)),\n",
        "    regularization=al.reg.Constant,\n",
        ")\n",
        "\n",
        "model = af.Collection(galaxies=af.Collection(lens=lens, source=source))"
      ],
      "outputs": [],
      "execution_count": null
    },
    {
      "cell_type": "markdown",
      "metadata": {},
      "source": [
        "__Search__\n",
        "\n",
        "The lens model is fitted to the data using a non-linear search. In this example, we use the nested sampling algorithm \n",
        "Dynesty (https://dynesty.readthedocs.io/en/latest/).\n",
        "\n",
        "The folder `autolens_workspace/notebooks/imaging/modeling/customize/non_linear_searches` gives an overview of the \n",
        "non-linear searches **PyAutoLens** supports. If you are unclear of what a non-linear search is, checkout chapter 2 of \n",
        "the **HowToLens** lectures.\n",
        "\n",
        "The `name` and `path_prefix` below specify the path where results ae stored in the output folder:  \n",
        "\n",
        " `/autolens_workspace/output/imaging/modeling/mass_sie__source_sersic/mass[sie]_source[inversion]/unique_identifier`.\n",
        " \n",
        "__Unique Identifier__\n",
        "\n",
        "In the path above, the `unique_identifier` appears as a collection of characters, where this identifier is generated \n",
        "based on the model, search and dataset that are used in the fit.\n",
        " \n",
        "An identical combination of model and search generates the same identifier, meaning that rerunning the script will use \n",
        "the existing results to resume the model-fit. In contrast, if you change the model or search, a new unique identifier \n",
        "will be generated, ensuring that the model-fit results are output into a separate folder.\n",
        "\n",
        "We additionally want the unique identifier to be specific to the dataset fitted, so that if we fit different datasets\n",
        "with the same model and search results are output to a different folder. We achieve this below by passing \n",
        "the `dataset_name` to the search's `unique_tag`."
      ]
    },
    {
      "cell_type": "code",
      "metadata": {},
      "source": [
        "search = af.DynestyStatic(\n",
        "    path_prefix=path.join(\"imaging\", \"modeling\"),\n",
        "    name=\"mass[sie]_source[inversion]\",\n",
        "    unique_tag=dataset_name,\n",
        "    nlive=50,\n",
        ")"
      ],
      "outputs": [],
      "execution_count": null
    },
    {
      "cell_type": "markdown",
      "metadata": {},
      "source": [
        "__Analysis__\n",
        "\n",
        "The `AnalysisImaging` object defines the `log_likelihood_function` used by the non-linear search to fit the model to \n",
        "the `Imaging`dataset. \n",
        "\n",
        "_Position Thresholding:_\n",
        "\n",
        "Unlike other example scripts, we also pass the `AnalysisImaging` object below the positions we loaded above, alongside \n",
        "a `SettingsLens` object with a `positions_threshold`.\n",
        "\n",
        "This is because `Inversion`'s suffer a bias whereby they fit unphysical lens models where the source galaxy is \n",
        "reconstructed as a demagnified version of the lensed source. These are covered in more detail in chapter 4 \n",
        "of **HowToLens**. \n",
        "\n",
        "To prevent these solutions biasing the model-fit we specify a `position_threshold` of 0.5\", which requires that a \n",
        "mass model traces the four (y,x) coordinates specified by our positions (that correspond to the brightest regions of the \n",
        "lensed source) within 0.5\" of one another in the source-plane, else the mass model is discarded and a new \n",
        "model is sampled. This removes the unphysical solutions that bias an `Inversion`. \n",
        "\n",
        "The threshold of 0.5\" is large. For an accurate lens model we would anticipate the positions trace within < 0.01\" of\n",
        "one another. However, we only want the threshold to aid the non-linear with the choice of mass model, but not risk \n",
        "removing genuinely physical models.\n",
        "\n",
        "Position thresholding is described in more detail in the \n",
        "script `autolens_workspace/notebooks/imaging/modeling/customize/positions.py`"
      ]
    },
    {
      "cell_type": "code",
      "metadata": {},
      "source": [
        "analysis = al.AnalysisImaging(\n",
        "    dataset=imaging,\n",
        "    positions=positions,\n",
        "    settings_lens=al.SettingsLens(positions_threshold=0.5),\n",
        ")"
      ],
      "outputs": [],
      "execution_count": null
    },
    {
      "cell_type": "markdown",
      "metadata": {},
      "source": [
        "__Model-Fit__\n",
        "\n",
        "We can now begin the model-fit by passing the model and analysis object to the search, which performs a non-linear\n",
        "search to find which models fit the data with the highest likelihood.\n",
        "\n",
        "Checkout the output folder for live outputs of the results of the fit, including on-the-fly visualization of the best \n",
        "fit model!"
      ]
    },
    {
      "cell_type": "code",
      "metadata": {},
      "source": [
        "result = search.fit(model=model, analysis=analysis)"
      ],
      "outputs": [],
      "execution_count": null
    },
    {
      "cell_type": "markdown",
      "metadata": {},
      "source": [
        "__Result__\n",
        "\n",
        "The search returns a result object, which includes: \n",
        "\n",
        " - The lens model corresponding to the maximum log likelihood solution in parameter space.\n",
        " - The corresponding maximum log likelihood `Tracer` and `FitImaging` objects.\n",
        " - Information on the posterior as estimated by the `Dynesty` non-linear search."
      ]
    },
    {
      "cell_type": "code",
      "metadata": {},
      "source": [
        "print(result.max_log_likelihood_instance)\n",
        "\n",
        "tracer_plotter = aplt.TracerPlotter(\n",
        "    tracer=result.max_log_likelihood_tracer, grid=result.grid\n",
        ")\n",
        "tracer_plotter.subplot_tracer()\n",
        "\n",
        "fit_imaging_plotter = aplt.FitImagingPlotter(fit=result.max_log_likelihood_fit)\n",
        "fit_imaging_plotter.subplot_fit_imaging()\n",
        "\n",
        "dynesty_plotter = aplt.DynestyPlotter(samples=result.samples)\n",
        "dynesty_plotter.cornerplot()"
      ],
      "outputs": [],
      "execution_count": null
    },
    {
      "cell_type": "markdown",
      "metadata": {},
      "source": [
        "Checkout `autolens_workspace/notebooks/imaging/modeling/results.py` for a full description of the result object."
      ]
    },
    {
      "cell_type": "code",
      "metadata": {},
      "source": [],
      "outputs": [],
      "execution_count": null
    }
  ],
  "metadata": {
    "anaconda-cloud": {},
    "kernelspec": {
      "display_name": "Python 3",
      "language": "python",
      "name": "python3"
    },
    "language_info": {
      "codemirror_mode": {
        "name": "ipython",
        "version": 3
      },
      "file_extension": ".py",
      "mimetype": "text/x-python",
      "name": "python",
      "nbconvert_exporter": "python",
      "pygments_lexer": "ipython3",
      "version": "3.6.1"
    }
  },
  "nbformat": 4,
  "nbformat_minor": 4
}