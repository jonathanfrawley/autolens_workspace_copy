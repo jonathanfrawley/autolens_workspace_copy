{
  "cells": [
    {
      "cell_type": "markdown",
      "metadata": {},
      "source": [
        "Customize: Custom Mask\n",
        "======================\n",
        "\n",
        "This example demonstrates how to load and use a custom mask from your hard-disk and use this as the mask in a pipeline.\n",
        "\n",
        "The benefits of doing this are:\n",
        "\n",
        " - It can give significant gains in computational run-times, if large regions of the image which do not contain a\n",
        "      signal are removed and processing time is not dedicated to fitting them.\n",
        "\n",
        " - For lens datasets with complex lens galaxies morphologies which are difficult to subtract cleanly, their\n",
        "      residuals can negatively impact the mass model and source reconstruction. Custom masks can remove these features.\n",
        "\n",
        "The drawbacks of doing this are:\n",
        "\n",
        " - The pixels that are removed which contain no source flux can still constrain the lens model. For example, a mass\n",
        "      model may incorrectly predict flux in the source reconstruction where there is non observed, however the model-fit\n",
        "      does not penalize this incorrect solution because this region of the image was masked and removed.\n",
        "\n",
        " - You cannot model the lens galaxy's light using a mask which remove most of its like, so this only works for\n",
        "      images where the lens galaxy is already subtracted!"
      ]
    },
    {
      "cell_type": "code",
      "metadata": {},
      "source": [
        "%matplotlib inline\n",
        "from pyprojroot import here\n",
        "workspace_path = str(here())\n",
        "%cd $workspace_path\n",
        "print(f\"Working Directory has been set to `{workspace_path}`\")\n",
        "\n",
        "from os import path\n",
        "import autofit as af\n",
        "import autolens as al\n",
        "import autolens.plot as aplt"
      ],
      "outputs": [],
      "execution_count": null
    },
    {
      "cell_type": "markdown",
      "metadata": {},
      "source": [
        "I`ll assume that you are familiar with the beginner example scripts work, so if any code doesn`t make sense familiarize\n",
        "yourself with those first!"
      ]
    },
    {
      "cell_type": "code",
      "metadata": {},
      "source": [
        "dataset_name = \"mass_sie__source_sersic\"\n",
        "pixel_scales = 0.1\n",
        "\n",
        "dataset_path = path.join(\"dataset\", \"imaging\", \"no_lens_light\", dataset_name)\n",
        "\n",
        "imaging = al.Imaging.from_fits(\n",
        "    image_path=path.join(dataset_path, \"image.fits\"),\n",
        "    psf_path=path.join(dataset_path, \"psf.fits\"),\n",
        "    noise_map_path=path.join(dataset_path, \"noise_map.fits\"),\n",
        "    pixel_scales=pixel_scales,\n",
        ")"
      ],
      "outputs": [],
      "execution_count": null
    },
    {
      "cell_type": "markdown",
      "metadata": {},
      "source": [
        "Okay, we need to load the mask from a .fits file, in the same fashion as the `Imaging` above. To draw a mask for an \n",
        "image, checkout the tutorial:\n",
        "\n",
        " `autolens_workspace/notebooks/preprocess/imaging/p4_mask.ipynb`\n",
        "\n",
        "The example autolens_workspace dataset comes with a mask already, if you look in\n",
        "`autolens_workspace/dataset/imaging/no_lens_light/mass_sie__source_sersic` you`ll see a mask.fits file!"
      ]
    },
    {
      "cell_type": "code",
      "metadata": {},
      "source": [
        "mask_custom = al.Mask2D.from_fits(\n",
        "    file_path=path.join(dataset_path, \"mask_gui.fits\"), hdu=0, pixel_scales=pixel_scales\n",
        ")"
      ],
      "outputs": [],
      "execution_count": null
    },
    {
      "cell_type": "markdown",
      "metadata": {},
      "source": [
        "When we plot the `Imaging` dataset with the mask it extracts only the regions of the image in the mask remove c\n",
        "ontaminating bright sources away from the lens and zoom in around the mask to emphasize the lens."
      ]
    },
    {
      "cell_type": "code",
      "metadata": {},
      "source": [
        "visuals_2d = aplt.Visuals2D(mask=mask_custom)\n",
        "\n",
        "imaging_plotter = aplt.ImagingPlotter(imaging=imaging, visuals_2d=visuals_2d)\n",
        "imaging_plotter.subplot_imaging()"
      ],
      "outputs": [],
      "execution_count": null
    },
    {
      "cell_type": "markdown",
      "metadata": {},
      "source": [
        "__Model__\n",
        "\n",
        "we'll fit a `EllipticalIsothermal` + `EllipticalSersic` model which we often fitted in the beginner example scripts."
      ]
    },
    {
      "cell_type": "code",
      "metadata": {},
      "source": [
        "lens = al.GalaxyModel(redshift=0.5, mass=al.mp.EllipticalIsothermal)\n",
        "source = al.GalaxyModel(redshift=1.0, bulge=al.lp.EllipticalSersic)"
      ],
      "outputs": [],
      "execution_count": null
    },
    {
      "cell_type": "markdown",
      "metadata": {},
      "source": [
        "__Search__\n",
        "\n",
        "we'll use the default `DynestyStatic` sampler we used in the beginner examples.\n",
        "\n",
        "The `name` and `path_prefix` below specify the path where results are stored in the output folder:  \n",
        "\n",
        " `/autolens_workspace/output/imaging/modeling/customize/mass_sie__source_sersic/phase__custom_mask`.\n",
        "    \n",
        "Note that we pass the phase run function our custom mask, which means it is used to perform the model-fit!"
      ]
    },
    {
      "cell_type": "code",
      "metadata": {},
      "source": [
        "search = af.DynestyStatic(\n",
        "    path_prefix=path.join(\"imaging\", \"customize\", dataset_name),\n",
        "    name=\"phase_custom_mask\",\n",
        "    n_live_points=50,\n",
        ")"
      ],
      "outputs": [],
      "execution_count": null
    },
    {
      "cell_type": "markdown",
      "metadata": {},
      "source": [
        "__Settings__\n",
        "\n",
        "Next, we specify the `SettingsPhaseImaging`, which in this example simmply use the default values used in the beginner\n",
        "examples."
      ]
    },
    {
      "cell_type": "code",
      "metadata": {},
      "source": [
        "settings = al.SettingsPhaseImaging()"
      ],
      "outputs": [],
      "execution_count": null
    },
    {
      "cell_type": "markdown",
      "metadata": {},
      "source": [
        "__Phase__\n",
        "\n",
        "We can now combine the model, settings and search to create and run a phase, fitting our data with the lens model."
      ]
    },
    {
      "cell_type": "code",
      "metadata": {},
      "source": [
        "phase = al.PhaseImaging(\n",
        "    galaxies=af.CollectionPriorModel(lens=lens, source=source),\n",
        "    settings=settings,\n",
        "    search=search,\n",
        ")\n",
        "\n",
        "phase.run(dataset=imaging, mask=mask_custom)"
      ],
      "outputs": [],
      "execution_count": null
    },
    {
      "cell_type": "markdown",
      "metadata": {},
      "source": [
        "Finish."
      ]
    },
    {
      "cell_type": "code",
      "metadata": {},
      "source": [],
      "outputs": [],
      "execution_count": null
    }
  ],
  "metadata": {
    "anaconda-cloud": {},
    "kernelspec": {
      "display_name": "Python 3",
      "language": "python",
      "name": "python3"
    },
    "language_info": {
      "codemirror_mode": {
        "name": "ipython",
        "version": 3
      },
      "file_extension": ".py",
      "mimetype": "text/x-python",
      "name": "python",
      "nbconvert_exporter": "python",
      "pygments_lexer": "ipython3",
      "version": "3.6.1"
    }
  },
  "nbformat": 4,
  "nbformat_minor": 4
}