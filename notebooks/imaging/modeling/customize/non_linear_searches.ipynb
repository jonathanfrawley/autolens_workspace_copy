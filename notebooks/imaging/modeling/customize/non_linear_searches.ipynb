{
  "cells": [
    {
      "cell_type": "markdown",
      "metadata": {},
      "source": [
        "Customize: Non-linear Searches\n",
        "==============================\n",
        "\n",
        "In the `beginner` examples all model-fits were performed using the nested sampling algorithm `Dynesty`, which is a\n",
        "very effective `NonLinearSearch` for lens modeling, but may not always be the optimal choice for your\n",
        "problem. In this example we fit strong lens data using a variety of non-linear searches.\n",
        "\n",
        "In this script, we fit `Imaging` with a strong lens model where:\n",
        "\n",
        " - The lens galaxy's light is omitted (and is not present in the simulated data).\n",
        " - The lens galaxy's total mass distribution is an `EllipticalIsothermal` and `ExternalShear`.\n",
        " - The source galaxy's light is a parametric `EllipticalSersic`."
      ]
    },
    {
      "cell_type": "code",
      "metadata": {},
      "source": [
        "%matplotlib inline\n",
        "from pyprojroot import here\n",
        "workspace_path = str(here())\n",
        "%cd $workspace_path\n",
        "print(f\"Working Directory has been set to `{workspace_path}`\")\n",
        "\n",
        "from os import path\n",
        "import autofit as af\n",
        "import autolens as al\n",
        "import autolens.plot as aplt"
      ],
      "outputs": [],
      "execution_count": null
    },
    {
      "cell_type": "markdown",
      "metadata": {},
      "source": [
        "As per usual, load the `Imaging` data, create the `Mask2D` and plot them. In this strong lensing dataset:\n",
        "\n",
        " - The lens galaxy's light is omitted.\n",
        " - The lens galaxy's total mass distribution is an `EllipticalIsothermal` and `ExternalShear`.\n",
        " - The source galaxy's `LightProfile` is an `EllipticalExponential`."
      ]
    },
    {
      "cell_type": "code",
      "metadata": {},
      "source": [
        "dataset_name = \"mass_sie__source_sersic\"\n",
        "dataset_path = path.join(\"dataset\", \"imaging\", \"no_lens_light\", dataset_name)\n",
        "\n",
        "imaging = al.Imaging.from_fits(\n",
        "    image_path=path.join(dataset_path, \"image.fits\"),\n",
        "    noise_map_path=path.join(dataset_path, \"noise_map.fits\"),\n",
        "    psf_path=path.join(dataset_path, \"psf.fits\"),\n",
        "    pixel_scales=0.1,\n",
        ")\n",
        "\n",
        "mask = al.Mask2D.circular(\n",
        "    shape_native=imaging.shape_native, pixel_scales=imaging.pixel_scales, radius=3.0\n",
        ")\n",
        "\n",
        "imaging_plotter = aplt.ImagingPlotter(\n",
        "    imaging=imaging, visuals_2d=aplt.Visuals2D(mask=mask)\n",
        ")\n",
        "imaging_plotter.subplot_imaging()"
      ],
      "outputs": [],
      "execution_count": null
    },
    {
      "cell_type": "markdown",
      "metadata": {},
      "source": [
        "__Model__\n",
        "\n",
        "We compose our lens model using `GalaxyModel` objects, which represent the galaxies we fit to our data. In this \n",
        "example our lens model is:\n",
        "\n",
        " - An `EllipticalIsothermal` `MassProfile` for the lens galaxy's mass [5 parameters].\n",
        " - An `EllipticalSersic` `LightProfile` for the source galaxy's light (6 parameters).\n",
        "\n",
        "The number of free parameters and therefore the dimensionality of non-linear parameter space is N=11."
      ]
    },
    {
      "cell_type": "code",
      "metadata": {},
      "source": [
        "lens = af.Model(al.Galaxy, redshift=0.5, mass=al.mp.EllipticalIsothermal)\n",
        "source = af.Model(al.Galaxy, redshift=1.0, bulge=al.lp.EllipticalSersic)"
      ],
      "outputs": [],
      "execution_count": null
    },
    {
      "cell_type": "markdown",
      "metadata": {},
      "source": [
        "__Settings__\n",
        "\n",
        "Next, we specify the `SettingsPhaseImaging`, which in this example simmply use the default values used in the beginner\n",
        "examples."
      ]
    },
    {
      "cell_type": "code",
      "metadata": {},
      "source": [
        "settings_masked_imaging = al.SettingsMaskedImaging()\n",
        "\n",
        "settings = al.SettingsPhaseImaging(settings_masked_imaging=settings_masked_imaging)"
      ],
      "outputs": [],
      "execution_count": null
    },
    {
      "cell_type": "markdown",
      "metadata": {},
      "source": [
        "__Searches__\n",
        "\n",
        "Below we use the following non-linear searches:\n",
        "\n",
        "    1) Nested Sampler.\n",
        "    2) Optimize.\n",
        "    3) MCMC\n",
        "\n",
        "__Nested Sampling__\n",
        "\n",
        "To begin, lets again use the nested sampling method `Dynesty` that we have used in all examples up to now. We've seen \n",
        "that the method is very effective, always locating a solution that fits the lens data well.\n",
        "\n",
        "The `name` and `path_prefix` below specify the path where results are stored in the output folder:  \n",
        "\n",
        " `/autolens_workspace/output/imaging/modeling/customize/mass_sie__source_sersic/phase__nested_sampling/\n",
        "    settings__grid_sub_2/dynesty__`."
      ]
    },
    {
      "cell_type": "code",
      "metadata": {},
      "source": [
        "search = af.DynestyStatic(\n",
        "    path_prefix=path.join(\"imaging\", \"customize\", dataset_name),\n",
        "    name=\"phase_non_linear_searches\",\n",
        "    n_live_points=50,\n",
        ")"
      ],
      "outputs": [],
      "execution_count": null
    },
    {
      "cell_type": "markdown",
      "metadata": {},
      "source": [
        "__Phase__\n",
        "\n",
        "We can now combine the model, settings and search to create and run a phase, fitting our data with the lens model."
      ]
    },
    {
      "cell_type": "code",
      "metadata": {},
      "source": [
        "phase = al.PhaseImaging(\n",
        "    search=search,\n",
        "    galaxies=af.Collection(lens=lens, source=source),\n",
        "    settings=settings,\n",
        ")\n",
        "\n",
        "result = phase.run(dataset=imaging, mask=mask)"
      ],
      "outputs": [],
      "execution_count": null
    },
    {
      "cell_type": "markdown",
      "metadata": {},
      "source": [
        "__Optimizer__\n",
        "\n",
        "Now, lets use a fast `NonLinearSearch` technique called an `optimizer`, which only seeks to maximize the log \n",
        "likelihood of the fit and does not attempt to infer the errors on the model parameters. Optimizers are useful when we\n",
        "want to find a lens model that fits the data well, but do not care about the full posterior of parameter space (e.g.\n",
        "the errors). \n",
        "\n",
        "we'll use the `particle swarm optimizer algorithm *PySwarms* (https://pyswarms.readthedocs.io/en/latest/index.html) \n",
        "using:\n",
        "\n",
        " - 30 particles to sample parameter space.\n",
        " - 100 iterations per particle, giving a total of 3000 iterations.\n",
        "    \n",
        "Performing the model-fit in 3000 iterations is significantly faster than the `Dynesty` fits perforomed in other \n",
        "example scripts, that often require > 20000 - 50000 iterations."
      ]
    },
    {
      "cell_type": "code",
      "metadata": {},
      "source": [
        "search = af.PySwarmsLocal(\n",
        "    path_prefix=path.join(\"imaging\", \"customize\", dataset_name),\n",
        "    name=\"phase__non_linear_searches\",\n",
        "    n_particles=50,\n",
        "    iters=5000,\n",
        ")"
      ],
      "outputs": [],
      "execution_count": null
    },
    {
      "cell_type": "markdown",
      "metadata": {},
      "source": [
        "__Phase__\n",
        "\n",
        "We can now combine the model, settings and search to create and run a phase, fitting our data with the lens model.\n",
        "\n",
        "The `name` and `path_prefix` below specify the path where results are stored in the output folder:  \n",
        "\n",
        " `/autolens_workspace/output/imaging/modeling/customize`."
      ]
    },
    {
      "cell_type": "code",
      "metadata": {},
      "source": [
        "phase = al.PhaseImaging(\n",
        "    search=search,\n",
        "    galaxies=af.Collection(lens=lens, source=source),\n",
        "    settings=settings,\n",
        ")\n",
        "\n",
        "result = phase.run(dataset=imaging, mask=mask)"
      ],
      "outputs": [],
      "execution_count": null
    },
    {
      "cell_type": "markdown",
      "metadata": {},
      "source": [
        "__MCMC__"
      ]
    },
    {
      "cell_type": "code",
      "metadata": {},
      "source": [
        "search = af.Emcee(\n",
        "    path_prefix=path.join(\"imaging\", \"customize\", dataset_name),\n",
        "    name=\"phase_non_linear_searches\",\n",
        "    nwalkers=50,\n",
        "    nsteps=1000,\n",
        ")"
      ],
      "outputs": [],
      "execution_count": null
    },
    {
      "cell_type": "markdown",
      "metadata": {},
      "source": [
        "__Phase__\n",
        "\n",
        "We can now combine the model, settings and search to create and run a phase, fitting our data with the lens model.\n",
        "\n",
        "The `name` and `path_prefix` below specify the path where results are stored in the output folder:  \n",
        "\n",
        " `/autolens_workspace/output/imaging/modeling/customize`."
      ]
    },
    {
      "cell_type": "code",
      "metadata": {},
      "source": [
        "phase = al.PhaseImaging(\n",
        "    search=search,\n",
        "    galaxies=af.Collection(lens=lens, source=source),\n",
        "    settings=settings,\n",
        ")\n",
        "\n",
        "# result = phase.run(dataset=imaging, mask=mask)"
      ],
      "outputs": [],
      "execution_count": null
    },
    {
      "cell_type": "markdown",
      "metadata": {},
      "source": [
        "Finish."
      ]
    },
    {
      "cell_type": "code",
      "metadata": {},
      "source": [],
      "outputs": [],
      "execution_count": null
    }
  ],
  "metadata": {
    "anaconda-cloud": {},
    "kernelspec": {
      "display_name": "Python 3",
      "language": "python",
      "name": "python3"
    },
    "language_info": {
      "codemirror_mode": {
        "name": "ipython",
        "version": 3
      },
      "file_extension": ".py",
      "mimetype": "text/x-python",
      "name": "python",
      "nbconvert_exporter": "python",
      "pygments_lexer": "ipython3",
      "version": "3.6.1"
    }
  },
  "nbformat": 4,
  "nbformat_minor": 4
}