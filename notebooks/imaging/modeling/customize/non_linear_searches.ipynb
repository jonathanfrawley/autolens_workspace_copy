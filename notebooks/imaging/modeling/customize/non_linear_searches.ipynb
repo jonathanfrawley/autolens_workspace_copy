{
  "cells": [
    {
      "cell_type": "markdown",
      "metadata": {},
      "source": [
        "Customize: Non-linear Searches\n",
        "==============================\n",
        "\n",
        "All example model-fits are performed using the nested sampling algorithm `Dynesty`, which we have found to be the most\n",
        "effective non-linear search for performing lens modeling.\n",
        "\n",
        "However, **PyAutoLens** supports a range of non-linear searches which are described here, which you may wish to\n",
        "experiment with to see if they can outperform Dynesty for your lens modeling problem."
      ]
    },
    {
      "cell_type": "code",
      "metadata": {},
      "source": [
        "%matplotlib inline\n",
        "from pyprojroot import here\n",
        "workspace_path = str(here())\n",
        "%cd $workspace_path\n",
        "print(f\"Working Directory has been set to `{workspace_path}`\")\n",
        "\n",
        "from os import path\n",
        "import autofit as af\n",
        "import autolens as al\n",
        "import autolens.plot as aplt"
      ],
      "outputs": [],
      "execution_count": null
    },
    {
      "cell_type": "markdown",
      "metadata": {},
      "source": [
        "__Dataset + Masking__\n",
        "\n",
        "Load and plot the strong lens dataset `mass_sie__source_sersic` via .fits files, which we will fit with the lens model."
      ]
    },
    {
      "cell_type": "code",
      "metadata": {},
      "source": [
        "dataset_name = \"mass_sie__source_sersic\"\n",
        "dataset_path = path.join(\"dataset\", \"imaging\", \"no_lens_light\", dataset_name)\n",
        "\n",
        "imaging = al.Imaging.from_fits(\n",
        "    image_path=path.join(dataset_path, \"image.fits\"),\n",
        "    psf_path=path.join(dataset_path, \"psf.fits\"),\n",
        "    noise_map_path=path.join(dataset_path, \"noise_map.fits\"),\n",
        "    pixel_scales=0.1,\n",
        ")\n",
        "\n",
        "mask = al.Mask2D.circular(\n",
        "    shape_native=imaging.shape_native, pixel_scales=imaging.pixel_scales, radius=3.0\n",
        ")\n",
        "\n",
        "imaging = imaging.apply_mask(mask=mask)"
      ],
      "outputs": [],
      "execution_count": null
    },
    {
      "cell_type": "markdown",
      "metadata": {},
      "source": [
        "__Model + Analysis__ \n",
        "\n",
        "The code below performs the normal steps to set up a model and analysis class. We omit comments of this code as you \n",
        "should be familiar with it and it is not specific to this example!"
      ]
    },
    {
      "cell_type": "code",
      "metadata": {},
      "source": [
        "lens = af.Model(al.Galaxy, redshift=0.5, mass=al.mp.EllIsothermal)\n",
        "source = af.Model(al.Galaxy, redshift=1.0, bulge=al.lp.EllSersic)\n",
        "\n",
        "model = af.Collection(galaxies=af.Collection(lens=lens, source=source))\n",
        "\n",
        "analysis = al.AnalysisImaging(dataset=imaging)"
      ],
      "outputs": [],
      "execution_count": null
    },
    {
      "cell_type": "markdown",
      "metadata": {},
      "source": [
        "__Search: Emcee (MCMC)__\n",
        "\n",
        "Emcee (https://github.com/dfm/emcee) is an ensemble MCMC sampler that is very popular in Astrophysics.\n",
        "\n",
        "An MCMC algorithm only seeks to map out the posterior of parameter space, unlike a nested sampling algorithm like \n",
        "Dynesty, which also aims to estimate the Bayesian evidence if the model. Therefore, in principle, an MCMC approach like\n",
        "Emcee should be faster than Dynesty. However, in our experience this is not the case for lens model, if you can\n",
        "demonstrate that Emcee is please let us know on the PyAutoLens Github!"
      ]
    },
    {
      "cell_type": "code",
      "metadata": {},
      "source": [
        "search = af.Emcee(\n",
        "    path_prefix=path.join(\"imaging\", \"customize\", \"non_linear_searches\"),\n",
        "    name=\"emcee\",\n",
        "    nwalkers=50,\n",
        "    nsteps=1000,\n",
        ")\n",
        "\n",
        "search.fit(model=model, analysis=analysis)"
      ],
      "outputs": [],
      "execution_count": null
    },
    {
      "cell_type": "markdown",
      "metadata": {},
      "source": [
        "__Search: PySwarms (Optimizer)__\n",
        "\n",
        "PySwarms (https://pyswarms.readthedocs.io/en/latest/index.html) is a particle swarm optimizer, which supports both\n",
        "local optimization (e.g. finding a local maximum in the likelihood given the starting point) and global optimization\n",
        "(e.g. finding the global maxima).\n",
        "\n",
        "An `optimizer` seeks to only maximize the log likelihood of the fit and does not attempt to infer the errors on the \n",
        "model parameters. Optimizers are therefore useful when we want to find a lens model that fits the data well, but do \n",
        "not care about the full posterior of parameter space (e.g. the errors). \n",
        "\n",
        "However, much like our attempts with MCMC metohds like Emcee, we have found Optimizers to be inaccurate when performing\n",
        "lens modeling. Again, if you can demonstrate PySwarms working better than Dynbesty, please contact us on the PyAutoLens\n",
        "GitHub to know how you managed it!"
      ]
    },
    {
      "cell_type": "code",
      "metadata": {},
      "source": [
        "search = af.PySwarmsGlobal(\n",
        "    path_prefix=path.join(\"imaging\", \"customize\", \"non_linear_searches\"),\n",
        "    name=\"pyswarms_global\",\n",
        "    n_particles=50,\n",
        "    iters=5000,\n",
        ")\n",
        "\n",
        "search.fit(model=model, analysis=analysis)\n",
        "\n",
        "search = af.PySwarmsLocal(\n",
        "    path_prefix=path.join(\"imaging\", \"customize\", \"non_linear_searches\"),\n",
        "    name=\"pyswarms_local\",\n",
        "    n_particles=50,\n",
        "    iters=5000,\n",
        ")\n",
        "\n",
        "search.fit(model=model, analysis=analysis)"
      ],
      "outputs": [],
      "execution_count": null
    },
    {
      "cell_type": "markdown",
      "metadata": {},
      "source": [
        "Finish."
      ]
    },
    {
      "cell_type": "code",
      "metadata": {},
      "source": [],
      "outputs": [],
      "execution_count": null
    }
  ],
  "metadata": {
    "anaconda-cloud": {},
    "kernelspec": {
      "display_name": "Python 3",
      "language": "python",
      "name": "python3"
    },
    "language_info": {
      "codemirror_mode": {
        "name": "ipython",
        "version": 3
      },
      "file_extension": ".py",
      "mimetype": "text/x-python",
      "name": "python",
      "nbconvert_exporter": "python",
      "pygments_lexer": "ipython3",
      "version": "3.6.1"
    }
  },
  "nbformat": 4,
  "nbformat_minor": 4
}