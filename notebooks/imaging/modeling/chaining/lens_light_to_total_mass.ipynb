{
  "cells": [
    {
      "cell_type": "markdown",
      "metadata": {},
      "source": [
        "Chaining: Chaining Lens Light To Mass\n",
        "=====================================\n",
        "\n",
        "Before reading this example, make sure you have read the `autolens_workspace/examples/moodel/chaining/api.py`\n",
        "example script, which describes phase chaining and details the API for this.\n",
        "\n",
        "In this example, we chain two phases, where:\n",
        "\n",
        "- The first phase models the lens galaxy's light using a bulge and disk, using `EllipticalSersic` and\n",
        "`EllipticalExponential` profiles. The source is present in the image, but modeling it is omitted.\n",
        "      \n",
        " The second phase models the lens galaxy's mass using an `EllipticalIsothermal` and source galaxy's light using\n",
        "an `EllipticalSersic`. The lens light model is fixed to the result of phase 1.\n",
        "\n",
        "The idea behind this phase is that for many strong lenses the lens galaxy's light is distinct from the source galaxy's\n",
        "light. This makes it a valid approach to subtract the lens's light in a first step and then focus-in on fitting\n",
        "the lens mass model and source's light.\n",
        "\n",
        "There are a number of benefits to using phase chaining to model the lens's light and its mass and the source separately:\n",
        "\n",
        "- The non-linear parameter space defined by a bulge-disk (N=11), isothermal mass (N=5) and parametric\n",
        "Sersic source (N=7) has N=27 dimensions. By splitting the model-fit into two phases, we fit parameter spaces of\n",
        "dimensions N=11 and N=12. These are more efficient to sample and pose less risk of us inferred a local maxima or\n",
        "unphysical solution.\n",
        "\n",
        "- The lens galaxy's light traces the majority of its mass. Thus, we can use the lens light model inferred in phase\n",
        "1 to place priors initializing the sampling of the mass model`s centre. In pricple we could do this for other\n",
        "parameters, for example the `elliptical_comp`s of the two profiles, however light does not perfectly trace mass\n",
        "so in this example we omit such an approach."
      ]
    },
    {
      "cell_type": "code",
      "metadata": {},
      "source": [
        "%matplotlib inline\n",
        "from pyprojroot import here\n",
        "workspace_path = str(here())\n",
        "%cd $workspace_path\n",
        "print(f\"Working Directory has been set to `{workspace_path}`\")\n",
        "\n",
        "from os import path\n",
        "import autofit as af\n",
        "import autolens as al\n",
        "import autolens.plot as aplt"
      ],
      "outputs": [],
      "execution_count": null
    },
    {
      "cell_type": "markdown",
      "metadata": {},
      "source": [
        "As per usual, load the `Imaging` data, create the `Mask2D` and plot them. In this strong lensing dataset:\n",
        "\n",
        " - The lens galaxy's `LightProfile` is a bulge+disk `EllipticalSersic` and `EllipticalExponential`.\n",
        " - The lens galaxy's total mass distribution is an `EllipticalIsothermal`.\n",
        " - The source galaxy's `LightProfile` is an `EllipticalExponential`."
      ]
    },
    {
      "cell_type": "code",
      "metadata": {},
      "source": [
        "dataset_name = \"light_sersic_exp__mass_sie__source_sersic\"\n",
        "dataset_path = path.join(\"dataset\", \"imaging\", \"with_lens_light\", dataset_name)\n",
        "\n",
        "imaging = al.Imaging.from_fits(\n",
        "    image_path=path.join(dataset_path, \"image.fits\"),\n",
        "    noise_map_path=path.join(dataset_path, \"noise_map.fits\"),\n",
        "    psf_path=path.join(dataset_path, \"psf.fits\"),\n",
        "    pixel_scales=0.1,\n",
        ")\n",
        "\n",
        "mask = al.Mask2D.circular(\n",
        "    shape_native=imaging.shape_native, pixel_scales=imaging.pixel_scales, radius=3.0\n",
        ")\n",
        "\n",
        "imaging_plotter = aplt.ImagingPlotter(\n",
        "    imaging=imaging, visuals_2d=aplt.Visuals2D(mask=mask)\n",
        ")\n",
        "imaging_plotter.subplot_imaging()"
      ],
      "outputs": [],
      "execution_count": null
    },
    {
      "cell_type": "markdown",
      "metadata": {},
      "source": [
        "__Model__\n",
        "\n",
        "We compose our lens model using `GalaxyModel` objects, which represent the galaxies we fit to our data. In this \n",
        "example our lens mooel is:\n",
        "\n",
        " - The lens galaxy's light is modeled parametrically as an `EllipticalSersic` and `EllipticalExponential` whose centres\n",
        "      are aligned (11 parameters).\n",
        " - The lens galaxy's total mass distribution is modeled as an `EllipticalIsothermal` and `ExternalShear` (7 parameters).\n",
        " - The source galaxy's light is modeled parametrically as an `EllipticalSersic` (7 parameters).\n",
        "\n",
        "We are fitting on the lens's light in phase 1 and only its mass and the source in phase 2, giving us non-linear\n",
        "parameter spaces of N=13 and N=12 respectively."
      ]
    },
    {
      "cell_type": "code",
      "metadata": {},
      "source": [
        "bulge = af.PriorModel(al.lp.EllipticalSersic)\n",
        "disk = af.PriorModel(al.lp.EllipticalExponential)\n",
        "\n",
        "bulge.centre = disk.centre\n",
        "\n",
        "lens = al.GalaxyModel(redshift=0.5, bulge=bulge, disk=disk)"
      ],
      "outputs": [],
      "execution_count": null
    },
    {
      "cell_type": "markdown",
      "metadata": {},
      "source": [
        "__Settings__\n",
        "\n",
        "You should be familiar with the `SettingsPhaseImaging` object from other example scripts, if not checkout the beginner\n",
        "examples and `autolens_workspace/notebooks/imaging/modeling/customize/settings.py`"
      ]
    },
    {
      "cell_type": "code",
      "metadata": {},
      "source": [
        "settings_lens = al.SettingsLens(\n",
        "    auto_positions_factor=3.0, auto_positions_minimum_threshold=0.2\n",
        ")\n",
        "\n",
        "settings = al.SettingsPhaseImaging(settings_lens=settings_lens)"
      ],
      "outputs": [],
      "execution_count": null
    },
    {
      "cell_type": "markdown",
      "metadata": {},
      "source": [
        "__Search__\n",
        "\n",
        "You should be familiar with non-linear searches from other example scripts if not checkout the beginner examples\n",
        "and `autolens_workspace/notebooks/imaging/modeling/customize/non_linear_searches.py`.\n",
        "\n",
        "In this example, we omit the PriorPasser and will instead use the default values used to pass priors in the config \n",
        "file `autolens_workspace/config/non_linear/nest/DynestyStatic.ini`"
      ]
    },
    {
      "cell_type": "code",
      "metadata": {},
      "source": [
        "search = af.DynestyStatic(\n",
        "    path_prefix=path.join(\"imaging\", \"chaining\", \"lens_light_to_total_mass\"),\n",
        "    name=\"phase[1]\",\n",
        "    n_live_points=50,\n",
        ")"
      ],
      "outputs": [],
      "execution_count": null
    },
    {
      "cell_type": "markdown",
      "metadata": {},
      "source": [
        "__Phase__\n",
        "\n",
        "We can now combine the model, settings and search to create and run a phase, fitting our data with the lens model.\n",
        "\n",
        "The `name` and `path_prefix` below specify the path where results are stored in the output folder:  \n",
        "\n",
        " `/autolens_workspace/output/examples/chaining/lens_light_to_total_mass/light_sersic_exp__mass_sie__source_sersic/phase[1]`."
      ]
    },
    {
      "cell_type": "code",
      "metadata": {},
      "source": [
        "phase1 = al.PhaseImaging(\n",
        "    search=search, settings=settings, galaxies=af.CollectionPriorModel(lens=lens)\n",
        ")\n",
        "\n",
        "phase1_result = phase1.run(dataset=imaging, mask=mask)"
      ],
      "outputs": [],
      "execution_count": null
    },
    {
      "cell_type": "markdown",
      "metadata": {},
      "source": [
        "Before reading on to phase 2, you may wish to inspect the results of the phase 1 model-fit to ensure the fast\n",
        "non-linear search has provided a reasonably accurate lens light model.\n",
        "\n",
        "__Model Chaining__\n",
        "\n",
        "We use the results of phase 1 to create the lens light model in phase 2. \n",
        "\n",
        "This is passed as a `instance` (as opposed to a `model`, which was used in the API tutorial). By passing the lens \n",
        "light as an `instance` it passes the maximum log likelihood parameters of the fit in phase 1 as fixed values that are \n",
        "not free parameters fitted for by the `NonLinearSearch` in phase1.\n",
        "\n",
        "We also use the inferred centre of the lens light model in phase 1 to initialize the priors on the lens mass model \n",
        "in phase 2. This uses the term `model` to pass priors, as we saw in other examples."
      ]
    },
    {
      "cell_type": "code",
      "metadata": {},
      "source": [
        "mass = af.PriorModel(al.mp.EllipticalIsothermal)\n",
        "\n",
        "mass.centre = phase1_result.model.galaxies.lens.bulge.centre\n",
        "\n",
        "lens = al.GalaxyModel(\n",
        "    redshift=0.5,\n",
        "    bulge=phase1_result.instance.galaxies.lens.bulge,\n",
        "    disk=phase1_result.instance.galaxies.lens.disk,\n",
        "    mass=mass,\n",
        ")\n",
        "source = al.GalaxyModel(redshift=1.0, bulge=al.lp.EllipticalSersic)"
      ],
      "outputs": [],
      "execution_count": null
    },
    {
      "cell_type": "markdown",
      "metadata": {},
      "source": [
        "__Search__\n",
        "\n",
        "In phase 2, we use the nested sampling algorithm `Dynesty` again."
      ]
    },
    {
      "cell_type": "code",
      "metadata": {},
      "source": [
        "search = af.DynestyStatic(\n",
        "    path_prefix=path.join(\"imaging\", \"chaining\", \"lens_light_to_total_mass\"),\n",
        "    name=\"phase[2]\",\n",
        "    n_live_points=50,\n",
        ")"
      ],
      "outputs": [],
      "execution_count": null
    },
    {
      "cell_type": "markdown",
      "metadata": {},
      "source": [
        "__Phase__\n",
        "\n",
        "We can now combine the model, settings and search to create and run a phase, fitting our data with the lens model.\n",
        "\n",
        "The `name` and `path_prefix` below specify the path where results are stored in the output folder:  \n",
        "\n",
        " `/autolens_workspace/output/examples/chaining/lens_light_to_total_mass/light_sersic_exp__mass_sie__source_sersic/phase[2]`.\n",
        "\n",
        "Note how the `lens` passed to this phase was set up above using the results of phase 1!"
      ]
    },
    {
      "cell_type": "code",
      "metadata": {},
      "source": [
        "phase2 = al.PhaseImaging(\n",
        "    settings=settings,\n",
        "    galaxies=af.CollectionPriorModel(lens=lens, source=source),\n",
        "    search=search,\n",
        ")\n",
        "\n",
        "phase2.run(dataset=imaging, mask=mask)"
      ],
      "outputs": [],
      "execution_count": null
    },
    {
      "cell_type": "markdown",
      "metadata": {},
      "source": [
        "__Wrap Up__\n",
        "\n",
        "In this example, we passed the bulge + disk lens light as an `instance`, as opposed to a `model`, meaning its \n",
        "parameters were fixed to the maximum log likelihood model in phase 1 and not fitted as free parameters in phase 2.\n",
        "\n",
        "Of course, one could easily edit this script to fit the bulge + disk lens's light model in phase 2, using the\n",
        "results of phase 1 to initialize the priors, by simply swapping out the `instance` for a `model` when setting up\n",
        "the lens's `GalaxyModel`, as follows:\n",
        "\n",
        "    lens = al.GalaxyModel(\n",
        "        redshift=0.5,\n",
        "        bulge=phase1.result.model.galaxies.lens.bulge,\n",
        "        disk=phase1.result.model.galaxies.lens.disk,\n",
        "        mass=mass,\n",
        "    )\n",
        "\n",
        "As discussed in the introduction, the benefit of passing the lens's light as an instance is that it reduces the \n",
        "dimensionality of the non-linear parameter space in phase 2. \n",
        "\n",
        "On the other hand, the lens light model inferred in phase 1 may not be perfect. The source light will impact the\n",
        "quality of the fit which may lead to a sub-optimal fit. Thus, it may be better to pass the lens's light as a `model`\n",
        "in phase 2. The model-fit will take longer to perform, but we'll still benefit from prior passing initializing the\n",
        "samples of the `NonLinearSearch` in phase 2!\n",
        "\n",
        "At the end of the day, it really comes down to you science case and the nature of your data whether you should pass the\n",
        "lens light as an `instance` or `model`!\n",
        "\n",
        "__Pipelines__\n",
        "\n",
        "The next level of PyAutoLens uses `Pipelines`, which chain together multiple phases to perform very complex lens \n",
        "modeling in robust and efficient ways. Pipelines which fit the lens's light, for example:\n",
        "\n",
        " `autolens_wokspace/pipelines/with_lens_light/light_parametric__mass_total__source_parametric.py`\n",
        "\n",
        "Exploit our ability to model separately the lens's light and its mass / the source to perform model-fits in non-linear\n",
        "parameter spaces of reduced complex, to ensure more efficient and robust model-fits!"
      ]
    },
    {
      "cell_type": "code",
      "metadata": {},
      "source": [],
      "outputs": [],
      "execution_count": null
    }
  ],
  "metadata": {
    "anaconda-cloud": {},
    "kernelspec": {
      "display_name": "Python 3",
      "language": "python",
      "name": "python3"
    },
    "language_info": {
      "codemirror_mode": {
        "name": "ipython",
        "version": 3
      },
      "file_extension": ".py",
      "mimetype": "text/x-python",
      "name": "python",
      "nbconvert_exporter": "python",
      "pygments_lexer": "ipython3",
      "version": "3.6.1"
    }
  },
  "nbformat": 4,
  "nbformat_minor": 4
}