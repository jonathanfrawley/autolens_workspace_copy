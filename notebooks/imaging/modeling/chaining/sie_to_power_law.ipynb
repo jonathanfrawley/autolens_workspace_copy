{
  "cells": [
    {
      "cell_type": "markdown",
      "metadata": {},
      "source": [
        "Chaining: Chaining Parametric To Inversion\n",
        "==========================================\n",
        "\n",
        "Before reading this example, make sure you have read the `autolens_workspace/notebooks/imaging/modeling/chaining/api.py`\n",
        "example script, which describes phase chaining and details the API for this.\n",
        "\n",
        "In this example, we chain two phases, where:\n",
        "\n",
        " - The first phase models the lens galaxy's mass as an `EllipticalIsothermal` and the source galaxy's light as an\n",
        "      `EllipticalSersic`.\n",
        "      \n",
        " - The second phase models the lens galaxy's mass an an `EllipticalPoerLaw` and the source galaxy's light as an\n",
        "      `EllipticalSersic`.\n",
        "\n",
        "The `EllipticalPower` is a general form of the `EllipticalIsothermal` and it has one addition parameter relative to the\n",
        "`EllipticalIsothermal`, the `slope`. This controls the internal mass distriibution of the mass profile, whereby:\n",
        "\n",
        " - A higher slope concentrates more mass in the central regions of the `MassProfile` relative to the outskirts. \n",
        " - A lower slope shallows the inner mass distribution reducing its density relative to the outskirts. \n",
        "\n",
        "By allowing a `MassProfile` to vary its inner distribution, the non-linear parameter space of the lens model becomes \n",
        "significantly more complex, creating a notable degeneracy between the mass model`s mass normalization, ellipticity\n",
        "and slope. This proves challenging to sample in an efficient and robust manner, especially if our initial samples are\n",
        "not initalized so as to start sampling in the high likelhood regions of parameter space.\n",
        "\n",
        "We can use prior passing to perform this initialization!  The `EllipticalIsothermal` profile corresponds to an \n",
        "`EllipticalPowerLaw` with a slope = 2.0. Thus, we can first fit an `EllipticalIsothermal` model in a non-linear \n",
        "parameter space that does not have the strong degeneracy between mass, ellipticity and axis-ratio, which will \n",
        "provide an efficient and robust fit. \n",
        "\n",
        "Phase 2 can then fit the `EllipticalPowerLaw`, using prior passing to initialize robust models for both the lens \n",
        "`Galaxy`'s mass *and* the source galaxy's light."
      ]
    },
    {
      "cell_type": "code",
      "metadata": {},
      "source": [
        "%matplotlib inline\n",
        "from pyprojroot import here\n",
        "workspace_path = str(here())\n",
        "%cd $workspace_path\n",
        "print(f\"Working Directory has been set to `{workspace_path}`\")\n",
        "\n",
        "from os import path\n",
        "import autofit as af\n",
        "import autolens as al\n",
        "import autolens.plot as aplt"
      ],
      "outputs": [],
      "execution_count": null
    },
    {
      "cell_type": "markdown",
      "metadata": {},
      "source": [
        "As per usual, load the `Imaging` data, create the `Mask2D` and plot them. In this strong lensing dataset:\n",
        "\n",
        " - The lens galaxy's light is omitted.\n",
        " - The lens galaxy's total mass distribution is an `EllipticalPowerLaw`.\n",
        " - The source galaxy's `LightProfile` is an `EllipticalSersic`."
      ]
    },
    {
      "cell_type": "code",
      "metadata": {},
      "source": [
        "dataset_name = \"mass_power_law__source_sersic\"\n",
        "dataset_path = path.join(\"dataset\", \"imaging\", \"no_lens_light\", dataset_name)\n",
        "\n",
        "imaging = al.Imaging.from_fits(\n",
        "    image_path=path.join(dataset_path, \"image.fits\"),\n",
        "    noise_map_path=path.join(dataset_path, \"noise_map.fits\"),\n",
        "    psf_path=path.join(dataset_path, \"psf.fits\"),\n",
        "    pixel_scales=0.1,\n",
        ")\n",
        "\n",
        "mask = al.Mask2D.circular(\n",
        "    shape_native=imaging.shape_native, pixel_scales=imaging.pixel_scales, radius=3.0\n",
        ")\n",
        "\n",
        "imaging_plotter = aplt.ImagingPlotter(\n",
        "    imaging=imaging, visuals_2d=aplt.Visuals2D(mask=mask)\n",
        ")\n",
        "imaging_plotter.subplot_imaging()"
      ],
      "outputs": [],
      "execution_count": null
    },
    {
      "cell_type": "markdown",
      "metadata": {},
      "source": [
        "__Model__\n",
        "\n",
        "We compose our lens model using `GalaxyModel` objects, which represent the galaxies we fit to our data. In this \n",
        "example our lens model is:\n",
        "\n",
        " - An `EllipticalIsothermal` `MassProfile`.for the lens galaxy's mass (5 parameters) in phase 1.\n",
        " - An `EllipticalSersic` `LightProfile`.for the source galaxy's light (7 parameters) in phase 1.\n",
        " - An `EllipticalPowerLaw` `MassProfile`.for the lens galaxy's mass (6 parameters) in phase 2.\n",
        " - An `EllipticalSersic` `LightProfile`.for the source galaxy's light (7 parameters) in phase 2.\n",
        "\n",
        "The number of free parameters and therefore the dimensionality of non-linear parameter space is N=12 and N=13\n",
        "for phases 1 and 2 respectively.."
      ]
    },
    {
      "cell_type": "code",
      "metadata": {},
      "source": [
        "lens = al.GalaxyModel(redshift=0.5, mass=al.mp.EllipticalIsothermal)\n",
        "source = al.GalaxyModel(redshift=1.0, bulge=al.lp.EllipticalSersic)"
      ],
      "outputs": [],
      "execution_count": null
    },
    {
      "cell_type": "markdown",
      "metadata": {},
      "source": [
        "__Settings__\n",
        "\n",
        "You should be familiar with the `SettingsPhaseImaging` object from other example scripts, if not checkout the beginner\n",
        "examples and `autolens_workspace/notebooks/imaging/modeling/customize/settings.py`"
      ]
    },
    {
      "cell_type": "code",
      "metadata": {},
      "source": [
        "settings = al.SettingsPhaseImaging()"
      ],
      "outputs": [],
      "execution_count": null
    },
    {
      "cell_type": "markdown",
      "metadata": {},
      "source": [
        "__Search__\n",
        "\n",
        "You should be familiar with non-linear searches from other example scripts if not checkout the beginner examples\n",
        "and `autolens_workspace/notebooks/imaging/modeling/customize/non_linear_searches.py`.\n",
        "\n",
        "In this example, we omit the PriorPasser and will instead use the default values used to pass priors in the config \n",
        "file `autolens_workspace/config/non_linear/nest/DynestyStatic.ini`"
      ]
    },
    {
      "cell_type": "code",
      "metadata": {},
      "source": [
        "search = af.DynestyStatic(\n",
        "    path_prefix=path.join(\"imaging\", \"chaining\", \"sie_to_power_law\"),\n",
        "    name=\"phase[1]\",\n",
        "    n_live_points=50,\n",
        ")"
      ],
      "outputs": [],
      "execution_count": null
    },
    {
      "cell_type": "markdown",
      "metadata": {},
      "source": [
        "__Phase__\n",
        "\n",
        "We can now combine the model, settings and search to create and run a phase, fitting our data with the lens model.\n",
        "\n",
        "The `name` and `path_prefix` below specify the path where results are stored in the output folder:  \n",
        "\n",
        " `/autolens_workspace/output/examples/chaining/sie_to_power_law/lens_power_law__source_bulge/phase[1]`."
      ]
    },
    {
      "cell_type": "code",
      "metadata": {},
      "source": [
        "phase1 = al.PhaseImaging(\n",
        "    search=search,\n",
        "    settings=settings,\n",
        "    galaxies=af.CollectionPriorModel(lens=lens, source=source),\n",
        ")\n",
        "\n",
        "phase1_result = phase1.run(dataset=imaging, mask=mask)"
      ],
      "outputs": [],
      "execution_count": null
    },
    {
      "cell_type": "markdown",
      "metadata": {},
      "source": [
        "Before reading on to phase 2, you may wish to inspect the results of the phase 1 model-fit to ensure the fast\n",
        "non-linear search has provided a reasonably accurate lens model.\n",
        "\n",
        "__Model Chaining__\n",
        "\n",
        "We use the results of phase 1 to create the `GalaxyModel` components that we fit in phase 2.\n",
        "\n",
        "The term `model` below tells PyAutoLens to pass the lens and source models as model-components that are to be fitted\n",
        "for by the non-linear search. In other chaining examples, we'll see other ways to pass prior results.\n",
        "\n",
        "Because we change the `MassProfile` from an `EllipticalIsothermal` to an `EllipticalPowerLaw`, we cannot simply pass the\n",
        "mass model above. Instead, we pass each individual parameter of the `EllipticalIsothermal` model, leaving the slope\n",
        "to retain its default `UniformPrior` which has a lower_limit=1.5 and upper_limit=3.0."
      ]
    },
    {
      "cell_type": "code",
      "metadata": {},
      "source": [
        "mass = af.PriorModel(al.mp.EllipticalPowerLaw)\n",
        "\n",
        "mass.centre = phase1_result.model.galaxies.lens.mass.centre\n",
        "mass.elliptical_comps = phase1_result.model.galaxies.lens.mass.elliptical_comps\n",
        "mass.einstein_radius = phase1_result.model.galaxies.lens.mass.einstein_radius\n",
        "\n",
        "lens = al.GalaxyModel(redshift=0.5, mass=mass)\n",
        "\n",
        "source = al.GalaxyModel(redshift=1.0, bulge=phase1_result.model.galaxies.source.bulge)"
      ],
      "outputs": [],
      "execution_count": null
    },
    {
      "cell_type": "markdown",
      "metadata": {},
      "source": [
        "__Search__\n",
        "\n",
        "In phase 2, we use the nested sampling algorithm `Dynesty` again.\n",
        "\n",
        "The `name` and `path_prefix` below specify the path where results are stored in the output folder:  \n",
        "\n",
        " `/autolens_workspace/output/examples/chaining/sie_to_power_law/lens_power_law__source_bulge/phase[2]`."
      ]
    },
    {
      "cell_type": "code",
      "metadata": {},
      "source": [
        "search = af.DynestyStatic(\n",
        "    path_prefix=path.join(\"imaging\", \"chaining\", \"sie_to_power_law\"),\n",
        "    name=\"phase[2]\",\n",
        "    n_live_points=50,\n",
        ")"
      ],
      "outputs": [],
      "execution_count": null
    },
    {
      "cell_type": "markdown",
      "metadata": {},
      "source": [
        "__Phase__\n",
        "\n",
        "We can now combine the model, settings and search to create and run a phase, fitting our data with the lens model.\n",
        "\n",
        "Note how the `lens` passed to this phase was set up above using the results of phase 1!"
      ]
    },
    {
      "cell_type": "code",
      "metadata": {},
      "source": [
        "phase2 = al.PhaseImaging(\n",
        "    search=search,\n",
        "    settings=settings,\n",
        "    galaxies=af.CollectionPriorModel(lens=lens, source=source),\n",
        ")\n",
        "\n",
        "phase2.run(dataset=imaging, mask=mask)"
      ],
      "outputs": [],
      "execution_count": null
    },
    {
      "cell_type": "markdown",
      "metadata": {},
      "source": [
        "__Wrap Up__\n",
        "\n",
        "In this example, we passed used prior passing to initialize a lens mass model as an `EllipticalIsothermal` and \n",
        "passed its priors to then fit the more complex `EllipticalPowerLaw`. model. This removed difficult-to-fit degeneracies\n",
        "from the non-linear parameter space in phase 1, providing a more robust and efficient model-fit.\n",
        "\n",
        "__Pipelines__\n",
        "\n",
        "The next level of PyAutoLens uses `Pipelines`, which chain together multiple phases to perform very complex lens \n",
        "modeling in robust and efficient ways. Pipelines which fit a power-law, for example:\n",
        "\n",
        " `autolens_wokspace/pipelines/no_lens_light/mass_power_law__source_inversion.py`\n",
        "\n",
        "Exploit our ability to first model the lens's mass using an `EllipticalIsothermal` and then switch to an \n",
        "`EllipticalPowerLaw`, to ensure more efficient and robust model-fits!"
      ]
    },
    {
      "cell_type": "code",
      "metadata": {},
      "source": [],
      "outputs": [],
      "execution_count": null
    }
  ],
  "metadata": {
    "anaconda-cloud": {},
    "kernelspec": {
      "display_name": "Python 3",
      "language": "python",
      "name": "python3"
    },
    "language_info": {
      "codemirror_mode": {
        "name": "ipython",
        "version": 3
      },
      "file_extension": ".py",
      "mimetype": "text/x-python",
      "name": "python",
      "nbconvert_exporter": "python",
      "pygments_lexer": "ipython3",
      "version": "3.6.1"
    }
  },
  "nbformat": 4,
  "nbformat_minor": 4
}