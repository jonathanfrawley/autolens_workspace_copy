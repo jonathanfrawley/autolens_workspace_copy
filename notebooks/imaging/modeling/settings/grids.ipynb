{
 "cells": [
  {
   "cell_type": "markdown",
   "metadata": {},
   "source": [
    "Settings: Grids\n",
    "===============\n",
    "\n",
    " - That a `Grid2DInterpolate` is used to fit create the model-image when fitting the data \n",
    "      (see `autolens_workspace/examples/grids.py` for a description of grids).\n",
    " - The pixel-scale of this interpolation grid.\n",
    "\n",
    "The deflection angle calculation of the `EllipticalSersic` `MassProfile`.requires numerical integration and is\n",
    "computationally more expensive than most mass profiles. For this reason, we use a `Grid2DInterpolate` grid instead of\n",
    "the `Grid2D` we use in most other examples, which limits the deflection angle calculation to a grid of reduced resolution\n",
    "and interpolates the results to the native-resolution grid. \n",
    "\n",
    "A description of the *GridIterpolate* object can be found in the script `autolens_workspace/examples/grids.py`.\n",
    "\n",
    "Different `SettingsPhase` are used in different example model scripts and a full description of all `SettingsPhase` \n",
    "can be found in the example script `autolens/workspace/notebooks/imaging/modeling/customize/settings.py` and the following \n",
    "chain -> <chain>"
   ]
  },
  {
   "cell_type": "code",
   "execution_count": 1,
   "metadata": {
    "execution": {
     "iopub.execute_input": "2021-03-01T15:51:02.869135Z",
     "iopub.status.busy": "2021-03-01T15:51:02.868376Z",
     "iopub.status.idle": "2021-03-01T15:51:05.347286Z",
     "shell.execute_reply": "2021-03-01T15:51:05.346787Z"
    }
   },
   "outputs": [],
   "source": [
    "import autolens as al\n",
    "\n",
    "settings_masked_imaging = al.SettingsMaskedImaging(\n",
    "    grid_class=al.Grid2DInterpolate, pixel_scales_interp=0.1\n",
    ")"
   ]
  },
  {
   "cell_type": "markdown",
   "metadata": {},
   "source": [
    "Finish."
   ]
  },
  {
   "cell_type": "code",
   "execution_count": null,
   "metadata": {},
   "outputs": [],
   "source": []
  }
 ],
 "metadata": {
  "anaconda-cloud": {},
  "kernelspec": {
   "display_name": "Python 3",
   "language": "python",
   "name": "python3"
  },
  "language_info": {
   "codemirror_mode": {
    "name": "ipython",
    "version": 3
   },
   "file_extension": ".py",
   "mimetype": "text/x-python",
   "name": "python",
   "nbconvert_exporter": "python",
   "pygments_lexer": "ipython3",
   "version": "3.8.5"
  }
 },
 "nbformat": 4,
 "nbformat_minor": 4
}
