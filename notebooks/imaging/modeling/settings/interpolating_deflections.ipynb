{
  "cells": [
    {
      "cell_type": "markdown",
      "metadata": {},
      "source": [
        "Settings: Interpolating Deflections\n",
        "===================================\n",
        "\n",
        "This example demonstrates how to use interpolated deflection-angles interpolation in the phase settings, which\n",
        "computes the deflection angles of a `MassProfile` on a coarse lower resolution `interpolation grid` and interpolates\n",
        "these values to the image`s native sub-grid resolution.\n",
        "\n",
        "The benefits of this are:\n",
        "\n",
        " - For `MassProfile`'s that require computationally expensive numerical integration, this reduces the number of\n",
        "   integrals performed 100000`s to 1000`s, giving a potential speed up in run time of x100 or more!\n",
        "\n",
        "The downsides of this are:\n",
        "\n",
        " - The interpolated deflection angles will be inaccurate to some level of precision, depending on the resolution\n",
        "   of the interpolation grid. This could lead to inaccurate and biased mass models.\n",
        "\n",
        "The interpolation grid is defined in terms of a pixel scale and it is automatically matched to the mask used in that\n",
        "phase. A higher resolution grid (i.e. lower pixel scale) will give more precise deflection angles, at the expense\n",
        "of longer calculation times. In this example we will use an interpolation pixel scale of 0.05\", which balances run-time\n",
        "and precision.\n",
        "\n",
        "In this example, we fit the lens's `MassProfile`'s using an `EllipticalSersic` + `SphericalNFW` mass model (which\n",
        "represents the stellar and dark matter of a galaxy). The `EllipticalSersic` requires expensive numerical intergration,\n",
        "whereas the `SphericalNFW` does not. PyAutoLens will only used interpolation for the `EllipticalSersic`, given we can\n",
        "compute the deflection angles of the `SphericalNFW` efficiently.\n",
        "\n",
        "Whether the interpolatioon grid is used for a given `MassProfile` is set in the following config file:\n",
        "\n",
        " `autolens_workspace/config/grids/interpolate.ini`\n",
        "\n",
        "The `True` and `False` values reflect whether interpolation is used for each function of each mass profile. The default\n",
        "values supplied with the autolens_workspace reflect whether the profile requires numerical integration or not."
      ]
    },
    {
      "cell_type": "code",
      "metadata": {},
      "source": [
        "%matplotlib inline\n",
        "from pyprojroot import here\n",
        "workspace_path = str(here())\n",
        "%cd $workspace_path\n",
        "print(f\"Working Directory has been set to `{workspace_path}`\")\n",
        "\n",
        "from os import path\n",
        "import autofit as af\n",
        "import autolens as al\n",
        "import autolens.plot as aplt"
      ],
      "outputs": [],
      "execution_count": null
    },
    {
      "cell_type": "markdown",
      "metadata": {},
      "source": [
        "I`ll assume that you are familiar with the beginner example scripts work, so if any code doesn`t make sense familiarize\n",
        "yourself with those first!"
      ]
    },
    {
      "cell_type": "code",
      "metadata": {},
      "source": [
        "dataset_name = \"mass_sie__source_sersic\"\n",
        "pixel_scales = 0.1\n",
        "\n",
        "dataset_path = path.join(\"dataset\", \"imaging\", \"no_lens_light\", dataset_name)\n",
        "\n",
        "imaging = al.Imaging.from_fits(\n",
        "    image_path=path.join(dataset_path, \"image.fits\"),\n",
        "    psf_path=path.join(dataset_path, \"psf.fits\"),\n",
        "    noise_map_path=path.join(dataset_path, \"noise_map.fits\"),\n",
        "    pixel_scales=pixel_scales,\n",
        ")\n",
        "\n",
        "mask = al.Mask2D.circular(\n",
        "    shape_native=imaging.shape_native, pixel_scales=imaging.pixel_scales, radius=3.0\n",
        ")\n",
        "\n",
        "imaging_plotter = aplt.ImagingPlotter(\n",
        "    imaging=imaging, visuals_2d=aplt.Visuals2D(mask=mask)\n",
        ")\n",
        "imaging_plotter.subplot_imaging()"
      ],
      "outputs": [],
      "execution_count": null
    },
    {
      "cell_type": "markdown",
      "metadata": {},
      "source": [
        "__Model__\n",
        "\n",
        "we'll fit a `EllipticalIsothermal` + `EllipticalSersic` model which we often fitted in the beginner example scripts."
      ]
    },
    {
      "cell_type": "code",
      "metadata": {},
      "source": [
        "lens = al.GalaxyModel(redshift=0.5, mass=al.mp.EllipticalIsothermal)\n",
        "source = al.GalaxyModel(redshift=1.0, bulge=al.lp.EllipticalSersic)"
      ],
      "outputs": [],
      "execution_count": null
    },
    {
      "cell_type": "markdown",
      "metadata": {},
      "source": [
        "__Settings__\n",
        "\n",
        "Next, we specify the `SettingsPhaseImaging`, which describe how the model is fitted to the data in the log likelihood\n",
        "function. In this example, we specify:\n",
        "\n",
        " - The grid_class as a `Grid2DInterpolate`, telling PyAutoLens to use interpolation when calculation deflection \n",
        "      angles.\n",
        "      \n",
        " - A pixel_scales_interp of 0.05, which is the resolution of the interpolation on which the deflection angles are\n",
        "      computed and used to interpolate to the data's native resolution.   "
      ]
    },
    {
      "cell_type": "code",
      "metadata": {},
      "source": [
        "settings_masked_imaging = al.SettingsMaskedImaging(\n",
        "    grid_class=al.Grid2DInterpolate, pixel_scales_interp=0.05\n",
        ")\n",
        "\n",
        "settings = al.SettingsPhaseImaging(settings_masked_imaging=settings_masked_imaging)"
      ],
      "outputs": [],
      "execution_count": null
    },
    {
      "cell_type": "markdown",
      "metadata": {},
      "source": [
        "__Search__\n",
        "\n",
        "we'll use the default `DynestyStatic` sampler we used in the beginner examples.\n",
        "\n",
        "The `name` and `path_prefix` below specify the path where results are stored in the output folder:  \n",
        "\n",
        " `/autolens_workspace/output/examples/settings/mass_sie__source_sersic/phase_interpolation`.\n",
        "\n",
        "However, because the `SettingsPhase` include a grid_class and pixel_scales_interp, the output path is tagged to \n",
        "reflelct this, meaning the full output path is:\n",
        "\n",
        " `/autolens_workspace/output/examples/settings/mass_sie__source_sersic/phase_interpolation/settings__grid_interp_0.05`."
      ]
    },
    {
      "cell_type": "code",
      "metadata": {},
      "source": [
        "search = af.DynestyStatic(\n",
        "    path_prefix=path.join(\"imaging\", \"settings\"),\n",
        "    name=\"phase_interpolation\",\n",
        "    n_live_points=50,\n",
        ")"
      ],
      "outputs": [],
      "execution_count": null
    },
    {
      "cell_type": "markdown",
      "metadata": {},
      "source": [
        "__Phase__\n",
        "\n",
        "We can now combine the model, settings and search to create and run a phase, fitting our data with the lens model."
      ]
    },
    {
      "cell_type": "code",
      "metadata": {},
      "source": [
        "phase = al.PhaseImaging(\n",
        "    search=search,\n",
        "    galaxies=af.CollectionPriorModel(lens=lens, source=source),\n",
        "    settings=settings,\n",
        ")\n",
        "\n",
        "phase.run(dataset=imaging, mask=mask)"
      ],
      "outputs": [],
      "execution_count": null
    },
    {
      "cell_type": "markdown",
      "metadata": {},
      "source": [
        "Finish."
      ]
    },
    {
      "cell_type": "code",
      "metadata": {},
      "source": [],
      "outputs": [],
      "execution_count": null
    }
  ],
  "metadata": {
    "anaconda-cloud": {},
    "kernelspec": {
      "display_name": "Python 3",
      "language": "python",
      "name": "python3"
    },
    "language_info": {
      "codemirror_mode": {
        "name": "ipython",
        "version": 3
      },
      "file_extension": ".py",
      "mimetype": "text/x-python",
      "name": "python",
      "nbconvert_exporter": "python",
      "pygments_lexer": "ipython3",
      "version": "3.6.1"
    }
  },
  "nbformat": 4,
  "nbformat_minor": 4
}