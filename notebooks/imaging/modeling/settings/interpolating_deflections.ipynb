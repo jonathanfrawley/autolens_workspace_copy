{
  "cells": [
    {
      "cell_type": "markdown",
      "metadata": {},
      "source": [
        "Settings: Interpolating Deflections\n",
        "===================================\n",
        "\n",
        "This example demonstrates how to use deflection-angles interpolation during a model-fit, which computes the deflection\n",
        "angles of a `MassProfile` using a coarse lower resolution `interpolation grid` and interpolates these values to the\n",
        "image`s native sub-grid resolution and then traces them to the source-plane for the source model.\n",
        "\n",
        "**Benefit:** For a mass profile where the deflection angle calculation is computationally expensive this reduces the\n",
        "number of deflection angle evaluations from 100000`s to 1000`s, giving a potential speed up in run time of x100 or more!\n",
        "\n",
        "**Downside:** The interpolated deflection angles will be inaccurate to some level of precision, depending on the\n",
        "resolution of the interpolation grid. This could lead to inaccurate and biased mass models.\n",
        "\n",
        "The interpolation grid is defined in terms of a pixel scale and it is automatically matched to the mask used in that\n",
        "search. A higher resolution grid (i.e. lower pixel scale) will give more precise deflection angles, at the expense\n",
        "of longer calculation times. In this example we will use an interpolation pixel scale of 0.05\", which balances run-time\n",
        "and precision.\n",
        "\n",
        "In this example, we fit the lens's mass using an `EllSersic` bulge and `EllNFW` dark matter mass model.\n",
        "These are some of the slowest mass profiles in **PyAutoLens**, thus the use of interpolation should provide a nice\n",
        "speed up.\n",
        "\n",
        "Only slow `MassProfiles` use the interpolatioon grid; fast mass-profiles (by default) omit it. Whether a `MassProfile`\n",
        "uses this grid is set via the following config file:\n",
        "\n",
        " `autolens_workspace/config/grids/interpolate.ini`"
      ]
    },
    {
      "cell_type": "code",
      "metadata": {},
      "source": [
        "%matplotlib inline\n",
        "from pyprojroot import here\n",
        "workspace_path = str(here())\n",
        "%cd $workspace_path\n",
        "print(f\"Working Directory has been set to `{workspace_path}`\")\n",
        "\n",
        "from os import path\n",
        "import autofit as af\n",
        "import autolens as al\n",
        "import autolens.plot as aplt"
      ],
      "outputs": [],
      "execution_count": null
    },
    {
      "cell_type": "markdown",
      "metadata": {},
      "source": [
        "__Settings Specific Code__\n",
        "\n",
        "To use deflection angle interpolation, we create a `SettingsImaging` object and specify that the \n",
        "`grid_class=al.Grid2DInterpolate` and `pixel_scales_interp=0.05`. \n",
        "\n",
        "By using a `Grid2dInterpolate` the interpolation scheme described above is used, with the coarse grid used to compute \n",
        "deflection angles having a pixel-scale of 0.05\". "
      ]
    },
    {
      "cell_type": "code",
      "metadata": {},
      "source": [
        "settings_imaging = al.SettingsImaging(\n",
        "    grid_class=al.Grid2DInterpolate, pixel_scales_interp=0.05\n",
        ")"
      ],
      "outputs": [],
      "execution_count": null
    },
    {
      "cell_type": "markdown",
      "metadata": {},
      "source": [
        "__Dataset + Masking__ \n",
        "\n",
        "For this sub-grid to be used in the model-fit, we must pass the `settings_imaging` to the `Imaging` object,\n",
        "which will be created using a `Grid2D` with a `sub-size value` of 4 (instead of the default of 2)."
      ]
    },
    {
      "cell_type": "code",
      "metadata": {},
      "source": [
        "dataset_name = \"mass_sie__source_sersic\"\n",
        "dataset_path = path.join(\"dataset\", \"imaging\", \"no_lens_light\", dataset_name)\n",
        "\n",
        "imaging = al.Imaging.from_fits(\n",
        "    image_path=path.join(dataset_path, \"image.fits\"),\n",
        "    psf_path=path.join(dataset_path, \"psf.fits\"),\n",
        "    noise_map_path=path.join(dataset_path, \"noise_map.fits\"),\n",
        "    pixel_scales=0.1,\n",
        ")\n",
        "\n",
        "imaging = imaging.apply_settings(\n",
        "    settings=settings_imaging\n",
        ")  # <----- The `SettingsImaging` above is used here!"
      ],
      "outputs": [],
      "execution_count": null
    },
    {
      "cell_type": "markdown",
      "metadata": {},
      "source": [
        "__Masking__\n",
        "\n",
        "The model-fit requires a `Mask2D` defining the regions of the image we fit the lens model to the data, which we define\n",
        "and use to set up the `Imaging` object that the lens model fits."
      ]
    },
    {
      "cell_type": "code",
      "metadata": {},
      "source": [
        "mask = al.Mask2D.circular(\n",
        "    shape_native=imaging.shape_native, pixel_scales=imaging.pixel_scales, radius=3.0\n",
        ")\n",
        "\n",
        "imaging = imaging.apply_mask(mask=mask)"
      ],
      "outputs": [],
      "execution_count": null
    },
    {
      "cell_type": "markdown",
      "metadata": {},
      "source": [
        "__Model + Search + Analysis__ \n",
        "\n",
        "The code below performs the normal steps to set up a model-fit. We omit comments of this code as you should be \n",
        "familiar with it and it is not specific to this example!"
      ]
    },
    {
      "cell_type": "code",
      "metadata": {},
      "source": [
        "bulge = af.Model(al.lmp.EllSersic)\n",
        "dark = af.Model(al.mp.EllNFW)\n",
        "bulge.centre = dark.centre\n",
        "\n",
        "lens = af.Model(al.Galaxy, redshift=0.5, bulge=bulge, dark=dark)\n",
        "source = af.Model(al.Galaxy, redshift=1.0, bulge=al.lp.EllSersic)\n",
        "\n",
        "model = af.Collection(galaxies=af.Collection(lens=lens, source=source))\n",
        "\n",
        "search = af.DynestyStatic(\n",
        "    path_prefix=path.join(\"imaging\", \"settings\"),\n",
        "    name=\"interpolating_deflections\",\n",
        "    nlive=100,\n",
        "    walks=10,\n",
        ")\n",
        "\n",
        "analysis = al.AnalysisImaging(dataset=imaging)"
      ],
      "outputs": [],
      "execution_count": null
    },
    {
      "cell_type": "markdown",
      "metadata": {},
      "source": [
        "__Model-Fit__\n",
        "\n",
        "We now begin the model-fit by passing the model and analysis object to the search, which performs a non-linear search \n",
        "to find which models fit the data with the highest likelihood.\n",
        "\n",
        "Because the `AnalysisImaging` was passed a `Imaging` with a `al.Grid2DInterpolate`, deflection angle interpolation \n",
        "is used to speed-up the evalution of the mass models deflection angles."
      ]
    },
    {
      "cell_type": "code",
      "metadata": {},
      "source": [
        "result = search.fit(model=model, analysis=analysis)"
      ],
      "outputs": [],
      "execution_count": null
    },
    {
      "cell_type": "markdown",
      "metadata": {},
      "source": [
        "__Result__\n",
        "\n",
        "We can confirm that the `Result`'s grid used a `Grid2DInterpolate`."
      ]
    },
    {
      "cell_type": "code",
      "metadata": {},
      "source": [
        "print(type(result.grid))\n",
        "\n",
        "fit_imaging_plotter = aplt.FitImagingPlotter(fit=result.max_log_likelihood_fit)\n",
        "fit_imaging_plotter.subplot_fit_imaging()"
      ],
      "outputs": [],
      "execution_count": null
    },
    {
      "cell_type": "markdown",
      "metadata": {},
      "source": [
        "Finish."
      ]
    },
    {
      "cell_type": "code",
      "metadata": {},
      "source": [],
      "outputs": [],
      "execution_count": null
    }
  ],
  "metadata": {
    "anaconda-cloud": {},
    "kernelspec": {
      "display_name": "Python 3",
      "language": "python",
      "name": "python3"
    },
    "language_info": {
      "codemirror_mode": {
        "name": "ipython",
        "version": 3
      },
      "file_extension": ".py",
      "mimetype": "text/x-python",
      "name": "python",
      "nbconvert_exporter": "python",
      "pygments_lexer": "ipython3",
      "version": "3.6.1"
    }
  },
  "nbformat": 4,
  "nbformat_minor": 4
}