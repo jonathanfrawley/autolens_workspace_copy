{
  "cells": [
    {
      "cell_type": "markdown",
      "metadata": {},
      "source": [
        "Settings: Signal To Noise Limit\n",
        "===============================\n",
        "\n",
        "This example demonstrates how to use set a signal-to-noise limit on the `Imaging` that is used to perform a\n",
        "model-fit.\n",
        "\n",
        "**Benefit:** Model fits can be subject to a bias whereby the over-fit the highest signal-to-noise regions of the image\n",
        "instead of providing a global fit to the entire image. For example, if the lens galaxy has residual structure in its\n",
        "centre that the lens light model cannot fit accurately, their high chi-squared contribution will drive the model\n",
        "to place more light in those regions instead of providing a global fit to the overall image. Reducing the S/N of these\n",
        "high S/N regions lessens over-fitting.\n",
        "\n",
        "**Downside:** The noise-map of your data will no longer reflect the true noise properties of the data, which could\n",
        "bias the lens model inferred and makes the estimation of reliable model-errors challenging."
      ]
    },
    {
      "cell_type": "code",
      "metadata": {},
      "source": [
        "%matplotlib inline\n",
        "from pyprojroot import here\n",
        "workspace_path = str(here())\n",
        "%cd $workspace_path\n",
        "print(f\"Working Directory has been set to `{workspace_path}`\")\n",
        "\n",
        "from os import path\n",
        "import autofit as af\n",
        "import autolens as al\n",
        "import autolens.plot as aplt"
      ],
      "outputs": [],
      "execution_count": null
    },
    {
      "cell_type": "markdown",
      "metadata": {},
      "source": [
        "__Settings Specific Code__\n",
        "\n",
        "To limit the signal-to-noise of the dataset used by the model-fit, we create a `SettingsImaging` object and \n",
        "specify that the `signal_to_noise_limit=10.0` and `signal_to_noise_limit_radii=0.5`. \n",
        "\n",
        "When the `Imaging` object is created, this will rescale the noise-map such that all image-pixels within 0.5\" of \n",
        "the central pixel are increased so as to produce a signal-to-noise value in the data of 10.0. Image-pixels with a S/N\n",
        "value below 10.0 do not have their noise-map value changed."
      ]
    },
    {
      "cell_type": "code",
      "metadata": {},
      "source": [
        "settings_imaging = al.SettingsImaging(\n",
        "    signal_to_noise_limit=10.0, signal_to_noise_limit_radii=0.5\n",
        ")"
      ],
      "outputs": [],
      "execution_count": null
    },
    {
      "cell_type": "markdown",
      "metadata": {},
      "source": [
        "__Dataset__ \n",
        "\n",
        "For signal-to-noise limiting to be used in the model-fit, we must pass the `settings_imaging` to the \n",
        "`Imaging` object, which will rescale its noise-map accordingly."
      ]
    },
    {
      "cell_type": "code",
      "metadata": {},
      "source": [
        "dataset_name = \"light_sersic_exp__mass_sie__source_sersic\"\n",
        "dataset_path = path.join(\"dataset\", \"imaging\", \"with_lens_light\", dataset_name)\n",
        "\n",
        "imaging = al.Imaging.from_fits(\n",
        "    image_path=path.join(dataset_path, \"image.fits\"),\n",
        "    psf_path=path.join(dataset_path, \"psf.fits\"),\n",
        "    noise_map_path=path.join(dataset_path, \"noise_map.fits\"),\n",
        "    pixel_scales=0.1,\n",
        ")\n",
        "\n",
        "imaging = imaging.apply_settings(\n",
        "    settings=settings_imaging\n",
        ")  # <----- The `SettingsImaging` above is used here!"
      ],
      "outputs": [],
      "execution_count": null
    },
    {
      "cell_type": "markdown",
      "metadata": {},
      "source": [
        "__Masking__\n",
        "\n",
        "The model-fit requires a `Mask2D` defining the regions of the image we fit the lens model to the data, which we define\n",
        "and use to set up the `Imaging` object that the lens model fits."
      ]
    },
    {
      "cell_type": "code",
      "metadata": {},
      "source": [
        "mask = al.Mask2D.circular(\n",
        "    shape_native=imaging.shape_native, pixel_scales=imaging.pixel_scales, radius=3.0\n",
        ")\n",
        "\n",
        "imaging = imaging.apply_mask(mask=mask)"
      ],
      "outputs": [],
      "execution_count": null
    },
    {
      "cell_type": "markdown",
      "metadata": {},
      "source": [
        "A plot of the `Imaging` object reveals how the noise-map and signal-to-noise map have been rescaled."
      ]
    },
    {
      "cell_type": "code",
      "metadata": {},
      "source": [
        "imaging_plotter = aplt.ImagingPlotter(imaging=imaging)\n",
        "imaging_plotter.subplot_imaging()"
      ],
      "outputs": [],
      "execution_count": null
    },
    {
      "cell_type": "markdown",
      "metadata": {},
      "source": [
        "__Model + Search + Analysis__ \n",
        "\n",
        "The code below performs the normal steps to set up a model-fit. We omit comments of this code as you should be \n",
        "familiar with it and it is not specific to this example!"
      ]
    },
    {
      "cell_type": "code",
      "metadata": {},
      "source": [
        "bulge = af.Model(al.lp.EllSersic)\n",
        "disk = af.Model(al.lp.EllExponential)\n",
        "bulge.centre = disk.centre\n",
        "\n",
        "lens = af.Model(\n",
        "    al.Galaxy,\n",
        "    redshift=0.5,\n",
        "    bulge=bulge,\n",
        "    disk=disk,\n",
        "    mass=al.mp.EllIsothermal,\n",
        "    shear=al.mp.ExternalShear,\n",
        ")\n",
        "source = af.Model(al.Galaxy, redshift=1.0, bulge=al.lp.EllSersic)\n",
        "\n",
        "model = af.Collection(galaxies=af.Collection(lens=lens, source=source))\n",
        "\n",
        "search = af.DynestyStatic(\n",
        "    path_prefix=path.join(\"imaging\", \"settings\"),\n",
        "    name=\"signal_to_noise_limit\",\n",
        "    unique_tag=dataset_name,\n",
        "    nlive=100,\n",
        "    walks=10,\n",
        ")\n",
        "\n",
        "analysis = al.AnalysisImaging(dataset=imaging)"
      ],
      "outputs": [],
      "execution_count": null
    },
    {
      "cell_type": "markdown",
      "metadata": {},
      "source": [
        "__Model-Fit__\n",
        "\n",
        "We can now begin the model-fit by passing the model and analysis object to the search, which performs a non-linear\n",
        "search to find which models fit the data with the highest likelihood.\n",
        "\n",
        "Because the `AnalysisImaging` was passed a `Imaging` with `signal_to_noise_limit=10.0` \n",
        "and `signal_to_noise_limit_radii=0.5` it fits the dataset with a rescaled signal-to-noise map."
      ]
    },
    {
      "cell_type": "code",
      "metadata": {},
      "source": [
        "result = search.fit(model=model, analysis=analysis)"
      ],
      "outputs": [],
      "execution_count": null
    },
    {
      "cell_type": "markdown",
      "metadata": {},
      "source": [
        "__Result__\n",
        "\n",
        "By plotting the maximum log likelihood `FitImaging` object we can confirm the signal-to-noise map was rescaled."
      ]
    },
    {
      "cell_type": "code",
      "metadata": {},
      "source": [
        "fit_imaging_plotter = aplt.FitImagingPlotter(fit=result.max_log_likelihood_fit)\n",
        "fit_imaging_plotter.subplot_fit_imaging()"
      ],
      "outputs": [],
      "execution_count": null
    },
    {
      "cell_type": "markdown",
      "metadata": {},
      "source": [
        "Finish."
      ]
    },
    {
      "cell_type": "code",
      "metadata": {},
      "source": [],
      "outputs": [],
      "execution_count": null
    }
  ],
  "metadata": {
    "anaconda-cloud": {},
    "kernelspec": {
      "display_name": "Python 3",
      "language": "python",
      "name": "python3"
    },
    "language_info": {
      "codemirror_mode": {
        "name": "ipython",
        "version": 3
      },
      "file_extension": ".py",
      "mimetype": "text/x-python",
      "name": "python",
      "nbconvert_exporter": "python",
      "pygments_lexer": "ipython3",
      "version": "3.6.1"
    }
  },
  "nbformat": 4,
  "nbformat_minor": 4
}