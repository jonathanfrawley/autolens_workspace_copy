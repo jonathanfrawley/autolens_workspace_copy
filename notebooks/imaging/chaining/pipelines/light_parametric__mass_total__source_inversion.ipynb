{
  "cells": [
    {
      "cell_type": "markdown",
      "metadata": {},
      "source": [
        "Pipelines: Light Parametric + Mass Total + Source Inversion\n",
        "===========================================================\n",
        "\n",
        "By chaining together five searches this script fits strong lens `Imaging`, where in the final model:\n",
        "\n",
        " - The lens galaxy's light is a parametric `EllSersic` and `EllExponential`.\n",
        " - The lens galaxy's total mass distribution is an `EllIsothermal`.\n",
        " - The source galaxy is modeled using an `Inversion`."
      ]
    },
    {
      "cell_type": "code",
      "metadata": {},
      "source": [
        "%matplotlib inline\n",
        "from pyprojroot import here\n",
        "workspace_path = str(here())\n",
        "%cd $workspace_path\n",
        "print(f\"Working Directory has been set to `{workspace_path}`\")\n",
        "\n",
        "from os import path\n",
        "import autofit as af\n",
        "import autolens as al\n",
        "import autolens.plot as aplt"
      ],
      "outputs": [],
      "execution_count": null
    },
    {
      "cell_type": "markdown",
      "metadata": {},
      "source": [
        "__Dataset__ \n",
        "\n",
        "Load the `Imaging` data, define the `Mask2D` and plot them."
      ]
    },
    {
      "cell_type": "code",
      "metadata": {},
      "source": [
        "dataset_name = \"light_sersic_exp__mass_sie__source_sersic\"\n",
        "dataset_path = path.join(\"dataset\", \"imaging\", \"with_lens_light\", dataset_name)\n",
        "\n",
        "imaging = al.Imaging.from_fits(\n",
        "    image_path=path.join(dataset_path, \"image.fits\"),\n",
        "    noise_map_path=path.join(dataset_path, \"noise_map.fits\"),\n",
        "    psf_path=path.join(dataset_path, \"psf.fits\"),\n",
        "    pixel_scales=0.1,\n",
        ")\n",
        "\n",
        "mask = al.Mask2D.circular(\n",
        "    shape_native=imaging.shape_native, pixel_scales=imaging.pixel_scales, radius=3.0\n",
        ")\n",
        "\n",
        "imaging = imaging.apply_mask(mask=mask)\n",
        "\n",
        "imaging_plotter = aplt.ImagingPlotter(imaging=imaging)\n",
        "imaging_plotter.subplot_imaging()"
      ],
      "outputs": [],
      "execution_count": null
    },
    {
      "cell_type": "markdown",
      "metadata": {},
      "source": [
        "__Paths__\n",
        "\n",
        "The path the results of all chained searches are output:"
      ]
    },
    {
      "cell_type": "code",
      "metadata": {},
      "source": [
        "path_prefix = path.join(\"imaging\", \"pipelines\")"
      ],
      "outputs": [],
      "execution_count": null
    },
    {
      "cell_type": "markdown",
      "metadata": {},
      "source": [
        "__Redshifts__\n",
        "\n",
        "The redshifts of the lens and source galaxies, which are used to perform unit converions of the model and data (e.g. \n",
        "from arc-seconds to kiloparsecs, masses to solar masses, etc.)."
      ]
    },
    {
      "cell_type": "code",
      "metadata": {},
      "source": [
        "redshift_lens = 0.5\n",
        "redshift_source = 1.0"
      ],
      "outputs": [],
      "execution_count": null
    },
    {
      "cell_type": "markdown",
      "metadata": {},
      "source": [
        "__Model + Search + Analysis + Model-Fit (Search 1)__\n",
        "\n",
        "In search 1 we fit a lens model where:\n",
        "\n",
        " - The lens galaxy's light is a parametric `EllSersic` bulge and `EllExponential` disk, the centres of \n",
        " which are aligned [11 parameters].\n",
        " \n",
        " - The lens galaxy's mass and source galaxy are omitted.\n",
        "\n",
        "The number of free parameters and therefore the dimensionality of non-linear parameter space is N=11."
      ]
    },
    {
      "cell_type": "code",
      "metadata": {},
      "source": [
        "bulge = af.Model(al.lp.EllSersic)\n",
        "disk = af.Model(al.lp.EllExponential)\n",
        "\n",
        "bulge.centre = disk.centre\n",
        "\n",
        "model = af.Collection(\n",
        "    galaxies=af.Collection(\n",
        "        lens=af.Model(al.Galaxy, redshift=0.5, bulge=bulge, disk=disk)\n",
        "    )\n",
        ")\n",
        "\n",
        "search = af.DynestyStatic(\n",
        "    path_prefix=path_prefix,\n",
        "    name=\"search[1]_light[parametric]\",\n",
        "    unique_tag=dataset_name,\n",
        "    nlive=50,\n",
        ")\n",
        "\n",
        "analysis = al.AnalysisImaging(dataset=imaging)\n",
        "\n",
        "result_1 = search.fit(model=model, analysis=analysis)"
      ],
      "outputs": [],
      "execution_count": null
    },
    {
      "cell_type": "markdown",
      "metadata": {},
      "source": [
        "__Model + Search + Analysis + Model-Fit (Search 2)__\n",
        "\n",
        "In search 2 we fit a lens model where:\n",
        "\n",
        " - The lens galaxy's light is an `EllSersic` bulge and `EllExponential` disk [Parameters fixed to results \n",
        " of search 1].\n",
        " \n",
        " - The lens galaxy's total mass distribution is an `EllIsothermal` with `ExternalShear` [7 parameters].\n",
        " \n",
        " - The source galaxy's light is a parametric `EllSersic` [7 parameters].\n",
        "\n",
        "The number of free parameters and therefore the dimensionality of non-linear parameter space is N=14."
      ]
    },
    {
      "cell_type": "code",
      "metadata": {},
      "source": [
        "model = af.Collection(\n",
        "    galaxies=af.Collection(\n",
        "        lens=af.Model(\n",
        "            al.Galaxy,\n",
        "            redshift=redshift_lens,\n",
        "            bulge=result_1.instance.galaxies.lens.bulge,\n",
        "            disk=result_1.instance.galaxies.lens.disk,\n",
        "            mass=al.mp.EllIsothermal,\n",
        "            shear=al.mp.ExternalShear,\n",
        "        ),\n",
        "        source=af.Model(al.Galaxy, redshift=redshift_source, bulge=al.lp.EllSersic),\n",
        "    )\n",
        ")\n",
        "\n",
        "search = af.DynestyStatic(\n",
        "    path_prefix=path_prefix,\n",
        "    name=\"search[2]_light[fixed]_mass[sie]_source[parametric]\",\n",
        "    unique_tag=dataset_name,\n",
        "    nlive=75,\n",
        ")\n",
        "\n",
        "analysis = al.AnalysisImaging(dataset=imaging)\n",
        "\n",
        "result_2 = search.fit(model=model, analysis=analysis)"
      ],
      "outputs": [],
      "execution_count": null
    },
    {
      "cell_type": "markdown",
      "metadata": {},
      "source": [
        "__Model + Search + Analysis + Model-Fit (Search 3)__\n",
        "\n",
        "In search 2 we fit a lens model where:\n",
        "\n",
        " - The lens galaxy's light is an `EllSersic` bulge and `EllExponential` disk [11 Parameters: we do not\n",
        "  use the results of search 1 to initialize priors].\n",
        "  \n",
        " - The lens galaxy's total mass distribution is an `EllIsothermal` with `ExternalShear` [7 parameters: priors\n",
        " initalized from search 2].\n",
        " \n",
        " - The source galaxy's light is a parametric `EllSersic` [7 parameters: priors initalized from search 2].\n",
        "\n",
        "The number of free parameters and therefore the dimensionality of non-linear parameter space is N=25.\n",
        "\n",
        "NOTES:\n",
        "\n",
        " - The result of search 1 is sufficient for subtracting the lens light, so that search 2 can accurately fit the lens\n",
        " mass model and source light. However, the lens light model may not be particularly accurate, so we opt not to use\n",
        " the result of search 1 to initialize the priors."
      ]
    },
    {
      "cell_type": "code",
      "metadata": {},
      "source": [
        "bulge = af.Model(al.lp.EllSersic)\n",
        "disk = af.Model(al.lp.EllExponential)\n",
        "\n",
        "bulge.centre = disk.centre\n",
        "\n",
        "model = af.Collection(\n",
        "    galaxies=af.Collection(\n",
        "        lens=af.Model(\n",
        "            al.Galaxy,\n",
        "            redshift=redshift_lens,\n",
        "            bulge=bulge,\n",
        "            disk=disk,\n",
        "            mass=result_2.model.galaxies.lens.mass,\n",
        "            shear=result_2.model.galaxies.lens.shear,\n",
        "        ),\n",
        "        source=af.Model(\n",
        "            al.Galaxy,\n",
        "            redshift=redshift_source,\n",
        "            bulge=result_2.model.galaxies.source.bulge,\n",
        "        ),\n",
        "    )\n",
        ")\n",
        "\n",
        "search = af.DynestyStatic(\n",
        "    path_prefix=path_prefix,\n",
        "    name=\"search[3]_light[parametric]_mass[total]_source[parametric]\",\n",
        "    unique_tag=dataset_name,\n",
        "    nlive=100,\n",
        ")\n",
        "\n",
        "analysis = al.AnalysisImaging(dataset=imaging)\n",
        "\n",
        "result_3 = search.fit(model=model, analysis=analysis)"
      ],
      "outputs": [],
      "execution_count": null
    },
    {
      "cell_type": "markdown",
      "metadata": {},
      "source": [
        "__Model + Search + Analysis + Model-Fit (Search 4)__\n",
        "\n",
        "We use the results of searches 3 to create the lens model fitted in search 4, where:\n",
        "\n",
        " - The lens galaxy's light is an `EllSersic` bulge and `EllExponential` disk [Parameters fixed to \n",
        " results of search 3].\n",
        " \n",
        " - The lens galaxy's total mass distribution is an `EllIsothermal` and `ExternalShear` [Parameters fixed to \n",
        " results of search 3].\n",
        " \n",
        " - The source-galaxy's light uses a `VoronoiMagnification` pixelization [2 parameters].\n",
        " \n",
        " - This pixelization is regularized using a `Constant` scheme [1 parameter]. \n",
        "\n",
        "The number of free parameters and therefore the dimensionality of non-linear parameter space is N=3.\n",
        "\n",
        "NOTES:\n",
        "\n",
        " - This search allows us to very efficiently set up the resolution of the pixelization and regularization coefficient \n",
        " of the regularization scheme, before using these models to refit the lens mass model."
      ]
    },
    {
      "cell_type": "code",
      "metadata": {},
      "source": [
        "model = af.Collection(\n",
        "    galaxies=af.Collection(\n",
        "        lens=af.Model(\n",
        "            al.Galaxy,\n",
        "            redshift=redshift_lens,\n",
        "            bulge=result_3.instance.galaxies.lens.bulge,\n",
        "            disk=result_3.instance.galaxies.lens.disk,\n",
        "            mass=result_3.instance.galaxies.lens.mass,\n",
        "            shear=result_3.instance.galaxies.lens.shear,\n",
        "        ),\n",
        "        source=af.Model(\n",
        "            al.Galaxy,\n",
        "            redshift=redshift_source,\n",
        "            pixelization=al.pix.VoronoiMagnification,\n",
        "            regularization=al.reg.Constant,\n",
        "        ),\n",
        "    )\n",
        ")\n",
        "\n",
        "search = af.DynestyStatic(\n",
        "    path_prefix=path_prefix,\n",
        "    name=\"search[4]_light[fixed]_mass[fixed]_source[inversion_initialization]\",\n",
        "    unique_tag=dataset_name,\n",
        "    nlive=20,\n",
        ")\n",
        "\n",
        "analysis = al.AnalysisImaging(dataset=imaging)\n",
        "\n",
        "result_4 = search.fit(model=model, analysis=analysis)"
      ],
      "outputs": [],
      "execution_count": null
    },
    {
      "cell_type": "markdown",
      "metadata": {},
      "source": [
        "__Model +  Search (Search 5)__\n",
        "\n",
        "We use the results of searches 3 and 4 to create the lens model fitted in search 5, where:\n",
        "\n",
        " - The lens galaxy's light is an `EllSersic` bulge and `EllExponential` disk [11 parameters: priors \n",
        " initialized from search 3].\n",
        " \n",
        " - The lens galaxy's total mass distribution is an `EllPowerLaw` and `ExternalShear` [8 parameters: priors \n",
        " initialized from search 3].\n",
        " \n",
        " - The source-galaxy's light uses a `VoronoiMagnification` pixelization [parameters fixed to results of search 4].\n",
        " \n",
        " - This pixelization is regularized using a `Constant` scheme [parameters fixed to results of search 4]. \n",
        "\n",
        "The number of free parameters and therefore the dimensionality of non-linear parameter space is N=19."
      ]
    },
    {
      "cell_type": "code",
      "metadata": {},
      "source": [
        "mass = af.Model(al.mp.EllPowerLaw)\n",
        "mass.take_attributes(result_3.model.galaxies.lens.mass)\n",
        "\n",
        "model = af.Collection(\n",
        "    galaxies=af.Collection(\n",
        "        lens=af.Model(\n",
        "            al.Galaxy,\n",
        "            redshift=redshift_lens,\n",
        "            bulge=result_3.model.galaxies.lens.bulge,\n",
        "            disk=result_3.model.galaxies.lens.disk,\n",
        "            mass=mass,\n",
        "            shear=result_3.model.galaxies.lens.shear,\n",
        "        ),\n",
        "        source=af.Model(\n",
        "            al.Galaxy,\n",
        "            redshift=redshift_source,\n",
        "            pixelization=result_4.instance.galaxies.source.pixelization,\n",
        "            regularization=result_4.instance.galaxies.source.regularization,\n",
        "        ),\n",
        "    )\n",
        ")\n",
        "\n",
        "search = af.DynestyStatic(\n",
        "    path_prefix=path_prefix,\n",
        "    name=\"search[5]_light[parametric]_mass[total]_source[inversion]\",\n",
        "    unique_tag=dataset_name,\n",
        "    nlive=50,\n",
        ")"
      ],
      "outputs": [],
      "execution_count": null
    },
    {
      "cell_type": "markdown",
      "metadata": {},
      "source": [
        "__Positions + Analysis + Model-Fit (Search 5)__\n",
        "\n",
        "We update the positions and positions threshold using the previous model-fitting result (as described \n",
        " in `chaining/examples/parametric_to_inversion.py`) to remove unphysical solutions from the `Inversion` model-fitting."
      ]
    },
    {
      "cell_type": "code",
      "metadata": {},
      "source": [
        "settings_lens = al.SettingsLens(\n",
        "    positions_threshold=result_4.positions_threshold_from(\n",
        "        factor=3.0, minimum_threshold=0.2\n",
        "    )\n",
        ")\n",
        "\n",
        "analysis = al.AnalysisImaging(\n",
        "    dataset=imaging,\n",
        "    positions=result_4.image_plane_multiple_image_positions,\n",
        "    settings_lens=settings_lens,\n",
        ")\n",
        "\n",
        "result_5 = search.fit(model=model, analysis=analysis)"
      ],
      "outputs": [],
      "execution_count": null
    },
    {
      "cell_type": "markdown",
      "metadata": {},
      "source": [
        "Finish."
      ]
    },
    {
      "cell_type": "code",
      "metadata": {},
      "source": [],
      "outputs": [],
      "execution_count": null
    }
  ],
  "metadata": {
    "anaconda-cloud": {},
    "kernelspec": {
      "display_name": "Python 3",
      "language": "python",
      "name": "python3"
    },
    "language_info": {
      "codemirror_mode": {
        "name": "ipython",
        "version": 3
      },
      "file_extension": ".py",
      "mimetype": "text/x-python",
      "name": "python",
      "nbconvert_exporter": "python",
      "pygments_lexer": "ipython3",
      "version": "3.6.1"
    }
  },
  "nbformat": 4,
  "nbformat_minor": 4
}