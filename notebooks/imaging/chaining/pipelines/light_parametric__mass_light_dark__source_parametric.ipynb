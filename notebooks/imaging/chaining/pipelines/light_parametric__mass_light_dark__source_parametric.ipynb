{
  "cells": [
    {
      "cell_type": "markdown",
      "metadata": {},
      "source": [
        "Pipelines: Light Parametric + Mass Light Dark + Source Parametric\n",
        "=================================================================\n",
        "\n",
        "By chaining together three searches this script fits strong lens `Imaging`, where in the final model:\n",
        "\n",
        " - The lens galaxy's light is a parametric `EllSersic`.\n",
        " - The lens galaxy's stellar mass distribution is tied to the light model above.\n",
        " - The lens galaxy's dark matter mass distribution is a `SphNFW`.\n",
        " - The source galaxy's light is a parametric `EllSersic`."
      ]
    },
    {
      "cell_type": "code",
      "metadata": {},
      "source": [
        "%matplotlib inline\n",
        "from pyprojroot import here\n",
        "workspace_path = str(here())\n",
        "%cd $workspace_path\n",
        "print(f\"Working Directory has been set to `{workspace_path}`\")\n",
        "\n",
        "from os import path\n",
        "import autofit as af\n",
        "import autolens as al\n",
        "import autolens.plot as aplt"
      ],
      "outputs": [],
      "execution_count": null
    },
    {
      "cell_type": "markdown",
      "metadata": {},
      "source": [
        "__Dataset + Masking__ \n",
        "\n",
        "Load, plot and mask the `Imaging` data."
      ]
    },
    {
      "cell_type": "code",
      "metadata": {},
      "source": [
        "dataset_name = \"light_sersic__mass_mlr_nfw__source_sersic\"\n",
        "dataset_path = path.join(\"dataset\", \"imaging\", \"with_lens_light\", dataset_name)\n",
        "\n",
        "imaging = al.Imaging.from_fits(\n",
        "    image_path=path.join(dataset_path, \"image.fits\"),\n",
        "    noise_map_path=path.join(dataset_path, \"noise_map.fits\"),\n",
        "    psf_path=path.join(dataset_path, \"psf.fits\"),\n",
        "    pixel_scales=0.1,\n",
        ")\n",
        "\n",
        "mask = al.Mask2D.circular(\n",
        "    shape_native=imaging.shape_native, pixel_scales=imaging.pixel_scales, radius=3.0\n",
        ")\n",
        "\n",
        "imaging = imaging.apply_mask(mask=mask)\n",
        "\n",
        "imaging_plotter = aplt.ImagingPlotter(imaging=imaging)\n",
        "imaging_plotter.subplot_imaging()"
      ],
      "outputs": [],
      "execution_count": null
    },
    {
      "cell_type": "markdown",
      "metadata": {},
      "source": [
        "__Paths__\n",
        "\n",
        "The path the results of all chained searches are output:"
      ]
    },
    {
      "cell_type": "code",
      "metadata": {},
      "source": [
        "path_prefix = path.join(\"imaging\", \"pipelines\")"
      ],
      "outputs": [],
      "execution_count": null
    },
    {
      "cell_type": "markdown",
      "metadata": {},
      "source": [
        "__Redshifts__\n",
        "\n",
        "The redshifts of the lens and source galaxies, which are used to perform unit converions of the model and data (e.g. \n",
        "from arc-seconds to kiloparsecs, masses to solar masses, etc.).\n",
        "\n",
        "In this analysis, they are used to explicitly set the `mass_at_200` of the elliptical NFW dark matter profile, which is\n",
        "a model parameter that is fitted for."
      ]
    },
    {
      "cell_type": "code",
      "metadata": {},
      "source": [
        "redshift_lens = 0.5\n",
        "redshift_source = 1.0"
      ],
      "outputs": [],
      "execution_count": null
    },
    {
      "cell_type": "markdown",
      "metadata": {},
      "source": [
        "__Model + Search + Analysis + Model-Fit (Search 1)__\n",
        "\n",
        "In search 1 we fit a lens model where:\n",
        "\n",
        " - The lens galaxy's light is a parametric `EllSersic` bulge [7 parameters].\n",
        " \n",
        " - The lens galaxy's mass and source galaxy are omitted.\n",
        "\n",
        "The number of free parameters and therefore the dimensionality of non-linear parameter space is N=11."
      ]
    },
    {
      "cell_type": "code",
      "metadata": {},
      "source": [
        "model = af.Collection(\n",
        "    galaxies=af.Collection(\n",
        "        lens=af.Model(al.Galaxy, redshift=0.5, bulge=af.Model(al.lp.EllSersic))\n",
        "    )\n",
        ")\n",
        "\n",
        "search = af.DynestyStatic(\n",
        "    path_prefix=path_prefix,\n",
        "    name=\"search[1]_light[parametric]\",\n",
        "    unique_tag=dataset_name,\n",
        "    nlive=50,\n",
        ")\n",
        "\n",
        "analysis = al.AnalysisImaging(dataset=imaging)\n",
        "\n",
        "result_1 = search.fit(model=model, analysis=analysis)"
      ],
      "outputs": [],
      "execution_count": null
    },
    {
      "cell_type": "markdown",
      "metadata": {},
      "source": [
        "__Model + Search + Analysis + Model-Fit (Search 2)__\n",
        "\n",
        "We use the results of search 1 to create the lens model fitted in search 2, where:\n",
        "\n",
        " - The lens galaxy's light and stellar mass is a parametric `EllSersic` bulge [parameters fixed to result of \n",
        " search 1].\n",
        " \n",
        " - The lens galaxy's dark matter mass distribution is a `EllNFWMCRLudlow` whose centre is aligned with the \n",
        " `EllSersic` bulge and stellar mass model above [3 parameters].\n",
        " \n",
        " - The lens mass model also includes an `ExternalShear` [2 parameters].\n",
        " \n",
        " - The source galaxy's light is a parametric `EllSersic` [7 parameters].\n",
        "\n",
        "The number of free parameters and therefore the dimensionality of non-linear parameter space is N=12.\n",
        "\n",
        "NOTES:\n",
        "\n",
        " - By using the fixed `bulge` model from the result of search 1, we are assuming this is a sufficiently accurate fit\n",
        " to the lens's light that it can reliably represent the stellar mass."
      ]
    },
    {
      "cell_type": "code",
      "metadata": {},
      "source": [
        "bulge = result_1.instance.galaxies.lens.bulge\n",
        "\n",
        "dark = af.Model(al.mp.EllNFWMCRLudlow)\n",
        "dark.centre = bulge.centre\n",
        "dark.mass_at_200 = af.LogUniformPrior(lower_limit=1e8, upper_limit=1e15)\n",
        "dark.redshift_object = redshift_lens\n",
        "dark.redshift_source = redshift_source\n",
        "\n",
        "model = af.Collection(\n",
        "    galaxies=af.Collection(\n",
        "        lens=af.Model(\n",
        "            al.Galaxy,\n",
        "            redshift=0.5,\n",
        "            bulge=bulge,\n",
        "            dark=af.Model(al.mp.EllNFW),\n",
        "            shear=al.mp.ExternalShear,\n",
        "        ),\n",
        "        source=af.Model(al.Galaxy, redshift=1.0, bulge=al.lp.EllSersic),\n",
        "    )\n",
        ")\n",
        "\n",
        "search = af.DynestyStatic(\n",
        "    path_prefix=path_prefix,\n",
        "    name=\"search[2]_light[fixed]_mass[light_dark]_source[parametric]\",\n",
        "    unique_tag=dataset_name,\n",
        "    nlive=75,\n",
        ")\n",
        "\n",
        "analysis = al.AnalysisImaging(dataset=imaging)\n",
        "\n",
        "result_2 = search.fit(model=model, analysis=analysis)"
      ],
      "outputs": [],
      "execution_count": null
    },
    {
      "cell_type": "markdown",
      "metadata": {},
      "source": [
        "__Model + Search + Analysis + Model-Fit (Search 3)__\n",
        "\n",
        "We use the results of searches 1 and 2 to create the lens model fitted in search 3, where:\n",
        "\n",
        " - The lens galaxy's light and stellar mass is a parametric `EllSersic` bulge [8 parameters: priors initialized \n",
        " from search 1].\n",
        " \n",
        " - The lens galaxy's dark matter mass distribution is a `EllNFWMCRLudlow` whose centre is aligned with the \n",
        " `EllSersic` bulge and stellar mass model above [3 parameters: priors initialized from search 2].\n",
        " \n",
        " - The lens mass model also includes an `ExternalShear` [2 parameters: priors initialized from search 2].\n",
        " \n",
        " - The source galaxy's light is a parametric `EllSersic` [7 parameters: priors initialized from search 2].\n",
        "\n",
        "The number of free parameters and therefore the dimensionality of non-linear parameter space is N=22.\n",
        "\n",
        "Notes:\n",
        "\n",
        " - This search attempts to address any issues there may have been with the bulge's stellar mass model."
      ]
    },
    {
      "cell_type": "code",
      "metadata": {},
      "source": [
        "bulge = result_1.model.galaxies.lens.bulge\n",
        "\n",
        "dark = result_2.model.galaxies.lens.dark\n",
        "dark.centre = bulge.centre\n",
        "\n",
        "model = af.Collection(\n",
        "    galaxies=af.Collection(\n",
        "        lens=af.Model(\n",
        "            al.Galaxy,\n",
        "            redshift=0.5,\n",
        "            bulge=bulge,\n",
        "            dark=dark,\n",
        "            shear=result_2.model.galaxies.lens.shear,\n",
        "        ),\n",
        "        source=af.Model(\n",
        "            al.Galaxy, redshift=1.0, bulge=result_2.model.galaxies.source.bulge\n",
        "        ),\n",
        "    )\n",
        ")\n",
        "\n",
        "search = af.DynestyStatic(\n",
        "    path_prefix=path_prefix,\n",
        "    name=\"search[3]_light[parametric]_mass[light_dark]_source[parametric]\",\n",
        "    unique_tag=dataset_name,\n",
        "    nlive=75,\n",
        ")\n",
        "\n",
        "analysis = al.AnalysisImaging(dataset=imaging)\n",
        "\n",
        "result_3 = search.fit(model=model, analysis=analysis)"
      ],
      "outputs": [],
      "execution_count": null
    },
    {
      "cell_type": "markdown",
      "metadata": {},
      "source": [
        "Finish."
      ]
    },
    {
      "cell_type": "code",
      "metadata": {},
      "source": [],
      "outputs": [],
      "execution_count": null
    }
  ],
  "metadata": {
    "anaconda-cloud": {},
    "kernelspec": {
      "display_name": "Python 3",
      "language": "python",
      "name": "python3"
    },
    "language_info": {
      "codemirror_mode": {
        "name": "ipython",
        "version": 3
      },
      "file_extension": ".py",
      "mimetype": "text/x-python",
      "name": "python",
      "nbconvert_exporter": "python",
      "pygments_lexer": "ipython3",
      "version": "3.6.1"
    }
  },
  "nbformat": 4,
  "nbformat_minor": 4
}