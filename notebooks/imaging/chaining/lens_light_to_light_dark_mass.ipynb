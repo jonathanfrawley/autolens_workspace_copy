{
  "cells": [
    {
      "cell_type": "markdown",
      "metadata": {},
      "source": [
        "Chaining: Chaining Lens Light To Mass\n",
        "=====================================\n",
        "\n",
        "In this script, we chain two searches to fit `Imaging` with a strong lens model where:\n",
        "\n",
        " - The lens galaxy's light is a bulge+disk `EllSersic` and `EllSersic`.\n",
        " - The lens galaxy's stellar mass distribution is a bulge+disk tied to the light model above.\n",
        " - The lens galaxy's dark matter mass distribution is a `SphNFW`.\n",
        " - The source galaxy's `LightProfile` is an `EllSersic`.\n",
        "\n",
        "The two searches break down as follows:\n",
        "\n",
        " 1) Models the lens galaxy's light using an `EllSersic` bulge and `EllSersic` disk. The source is\n",
        " present in the image, but modeling it is omitted.\n",
        "\n",
        " 2) Models the lens galaxy's mass using a stellar mass distriubtion which is initialized using the bulge and disk light\n",
        " models inferred by search 1, alongside a dark matter profile. The source is again modeled using an `EllSersic`\n",
        "\n",
        "__Why Chain?__\n",
        "\n",
        "For many strong lenses the lens galaxy's light is distinct from the source galaxy's light, and it is therefore a valid\n",
        "approach to first subtract the lens's light and then focus on fitting the lens mass model and source's light. This\n",
        "provides the following benefits:\n",
        "\n",
        " - The non-linear parameter space defined by a bulge-disk (N=11), stellar and dark mass (N=5) and parametric source (N=7)\n",
        " has N=27 dimensions. By splitting the model-fit into two searches, we fit parameter spaces of dimensions N=11 and then\n",
        " N=27, with many priors initialized. These are more efficient to sample and less like to infer a local maxima or\n",
        " unphysical solution.\n",
        "\n",
        " - The lens galaxy's light traces its mass, so we can use the lens light model inferred in search 1 to initialize\n",
        " sampling of the stellar mass model in search 2."
      ]
    },
    {
      "cell_type": "code",
      "metadata": {},
      "source": [
        "%matplotlib inline\n",
        "from pyprojroot import here\n",
        "workspace_path = str(here())\n",
        "%cd $workspace_path\n",
        "print(f\"Working Directory has been set to `{workspace_path}`\")\n",
        "\n",
        "from os import path\n",
        "import autofit as af\n",
        "import autolens as al\n",
        "import autolens.plot as aplt"
      ],
      "outputs": [],
      "execution_count": null
    },
    {
      "cell_type": "markdown",
      "metadata": {},
      "source": [
        "__Dataset + Masking__ \n",
        "\n",
        "Load, plot and mask the `Imaging` data."
      ]
    },
    {
      "cell_type": "code",
      "metadata": {},
      "source": [
        "dataset_name = \"light_sersic_exp__mass_sie__source_sersic\"\n",
        "dataset_path = path.join(\"dataset\", \"imaging\", \"with_lens_light\", dataset_name)\n",
        "\n",
        "imaging = al.Imaging.from_fits(\n",
        "    image_path=path.join(dataset_path, \"image.fits\"),\n",
        "    noise_map_path=path.join(dataset_path, \"noise_map.fits\"),\n",
        "    psf_path=path.join(dataset_path, \"psf.fits\"),\n",
        "    pixel_scales=0.1,\n",
        ")\n",
        "\n",
        "mask = al.Mask2D.circular(\n",
        "    shape_native=imaging.shape_native, pixel_scales=imaging.pixel_scales, radius=3.0\n",
        ")\n",
        "\n",
        "imaging = imaging.apply_mask(mask=mask)\n",
        "\n",
        "imaging_plotter = aplt.ImagingPlotter(imaging=imaging)\n",
        "imaging_plotter.subplot_imaging()"
      ],
      "outputs": [],
      "execution_count": null
    },
    {
      "cell_type": "markdown",
      "metadata": {},
      "source": [
        "__Paths__\n",
        "\n",
        "The path the results of all chained searches are output:"
      ]
    },
    {
      "cell_type": "code",
      "metadata": {},
      "source": [
        "path_prefix = path.join(\"imaging\", \"chaining\", \"lens_light_to_light_dark_mass\")"
      ],
      "outputs": [],
      "execution_count": null
    },
    {
      "cell_type": "markdown",
      "metadata": {},
      "source": [
        "__Model (Search 1)__\n",
        "\n",
        "In search 1 we fit a lens model where:\n",
        "\n",
        " - The lens galaxy's light is a parametric `EllSersic` bulge and `EllSersic` disk, the centres of \n",
        " which are aligned [11 parameters].\n",
        " - The lens galaxy's mass and source galaxy are omitted.\n",
        "\n",
        "The number of free parameters and therefore the dimensionality of non-linear parameter space is N=11."
      ]
    },
    {
      "cell_type": "code",
      "metadata": {},
      "source": [
        "bulge = af.Model(al.lp.EllSersic)\n",
        "disk = af.Model(al.lp.EllSersic)\n",
        "\n",
        "bulge.centre = disk.centre\n",
        "\n",
        "lens = af.Model(al.Galaxy, redshift=0.5, bulge=bulge, disk=disk)\n",
        "\n",
        "model = af.Collection(galaxies=af.Collection(lens=lens))\n"
      ],
      "outputs": [],
      "execution_count": null
    },
    {
      "cell_type": "markdown",
      "metadata": {},
      "source": [
        "__Search + Analysis + Model-Fit (Search 1)__\n",
        "\n",
        "We use the results of search 1 to create the lens model fitted in search 2, where:\n",
        "\n",
        "You may wish to inspect the results of the search 1 model-fit to ensure a fast non-linear search has been provided that \n",
        "provides a reasonably accurate lens model."
      ]
    },
    {
      "cell_type": "code",
      "metadata": {},
      "source": [
        "search = af.DynestyStatic(\n",
        "    path_prefix=path_prefix,\n",
        "    name=\"search[1]__lens_light\",\n",
        "    unique_tag=dataset_name,\n",
        "    nlive=50,\n",
        ")\n",
        "\n",
        "analysis = al.AnalysisImaging(dataset=imaging)\n",
        "\n",
        "result_1 = search.fit(model=model, analysis=analysis)"
      ],
      "outputs": [],
      "execution_count": null
    },
    {
      "cell_type": "markdown",
      "metadata": {},
      "source": [
        "__Model (Search 2)__\n",
        "\n",
        "We use the results of search 1 to create the lens model fitted in search 2, where:\n",
        "\n",
        " - The lens galaxy's light and stellar mass is a parametric `EllSersic` bulge and `EllSersic` \n",
        " disk [8 parameters: priors initialized from search 1].\n",
        " - The lens galaxy's dark matter mass distribution is a `EllNFW` whose centre is aligned with the \n",
        " `EllSersic` bulge and stellar mass model above [5 parameters].\n",
        " - The lens mass model also includes an `ExternalShear` [2 parameters].\n",
        " - The source galaxy's light is a parametric `EllSersic` [7 parameters].\n",
        "\n",
        "The number of free parameters and therefore the dimensionality of non-linear parameter space is N=22.\n",
        "\n",
        "We use the `take_attributes` method to pass the priors of the bulge+disk. The reason we use this method is because\n",
        "the bulge+disk above use a `LightProfile` (e.g. via `al.lp`), whereas the model below gives a `LightAndMassProfile` \n",
        "(e.g. via `al.lmp`). \n",
        "\n",
        "The `take_attributes` method is used when we pass parameters from two different models. In the example below it finds\n",
        "all parameters in the `EllSersic` and `EllSersic` light models that share the same names\n",
        "as parameters in the ``EllSersic` and `EllSersic` light and mass models and passes their priors \n",
        "(in this case, the `centre`, `elliptical_comps`, `intensity`, `effective_radius` and `sersic_index`)."
      ]
    },
    {
      "cell_type": "code",
      "metadata": {},
      "source": [
        "bulge = af.Model(al.lmp.EllSersic)\n",
        "bulge.take_attributes(source=result_1.model)\n",
        "\n",
        "disk = af.Model(al.lmp.EllSersic)\n",
        "disk.take_attributes(source=result_1.model)\n",
        "\n",
        "lens = af.Model(\n",
        "    al.Galaxy, redshift=0.5, bulge=bulge, disk=disk, dark=af.Model(al.mp.EllNFW)\n",
        ")\n",
        "source = af.Model(al.Galaxy, redshift=1.0, bulge=al.lp.EllSersic)\n",
        "\n",
        "model = af.Collection(galaxies=af.Collection(lens=lens))"
      ],
      "outputs": [],
      "execution_count": null
    },
    {
      "cell_type": "markdown",
      "metadata": {},
      "source": [
        "__Search + Analysis + Model-Fit (Search 2)__\n",
        "\n",
        "We now create the non-linear search, analysis and perform the model-fit using this model.\n",
        "\n",
        "You may wish to inspect the `model.info` file of the search 2 model-fit to ensure the priors were passed correctly, as \n",
        "well as the checkout the results to ensure an accurate power-law mass model is inferred."
      ]
    },
    {
      "cell_type": "code",
      "metadata": {},
      "source": [
        "search = af.DynestyStatic(\n",
        "    path_prefix=path_prefix,\n",
        "    name=\"search[2]__light_dark_mass\",\n",
        "    unique_tag=dataset_name,\n",
        "    nlive=50,\n",
        ")\n",
        "\n",
        "\n",
        "analysis = al.AnalysisImaging(dataset=imaging)\n",
        "\n",
        "result_2 = search.fit(model=model, analysis=analysis)"
      ],
      "outputs": [],
      "execution_count": null
    },
    {
      "cell_type": "markdown",
      "metadata": {},
      "source": [
        "__Wrap Up__\n",
        "\n",
        "In this example, we passed a bulge + disk lens light model to a decomposed stellar + dark matter mass model. Thus, we\n",
        "use an initial fit of the lens galaxy's light to better constrained our lens mass model! \n",
        "\n",
        "__Pipelines__\n",
        "\n",
        "Advanced search chaining uses `pipelines` that chain together multiple searches to perform complex lens modeling \n",
        "in a robust and efficient way. \n",
        "\n",
        "The following example pipelines exploit our ability to model separately the lens's light and its stellar mass to\n",
        "perform model-fits in non-linear parameter spaces of reduced complexity, as shown in this example:\n",
        "\n",
        " `autolens_workspace/imaging/chaining/pipelines/with_lens_light/light_parametric__mass_light_dark__source_parametric.py`\n",
        " `autolens_workspace/imaging/chaining/pipelines/with_lens_light/light_parametric__mass_light_dark__source_inversion.py`\n",
        " \n",
        "__SLaM (Source, Light and Mass)__\n",
        " \n",
        "An even more advanced approach which uses search chaining are the SLaM pipelines, which break the lens modeling \n",
        "processing into a series of fits that first perfect the source model, then the lens light model and finally the lens\n",
        "mass model. \n",
        "\n",
        "The SLaM Mass pipelines include pipelines which specifically decomposed stellar light + dark matter mass models. These\n",
        "follow the Light pipelines and pass the priors of the light model in an identical fashion to this example."
      ]
    },
    {
      "cell_type": "code",
      "metadata": {},
      "source": [],
      "outputs": [],
      "execution_count": null
    }
  ],
  "metadata": {
    "anaconda-cloud": {},
    "kernelspec": {
      "display_name": "Python 3",
      "language": "python",
      "name": "python3"
    },
    "language_info": {
      "codemirror_mode": {
        "name": "ipython",
        "version": 3
      },
      "file_extension": ".py",
      "mimetype": "text/x-python",
      "name": "python",
      "nbconvert_exporter": "python",
      "pygments_lexer": "ipython3",
      "version": "3.6.1"
    }
  },
  "nbformat": 4,
  "nbformat_minor": 4
}