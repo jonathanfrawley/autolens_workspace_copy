{
  "cells": [
    {
      "cell_type": "markdown",
      "metadata": {},
      "source": [
        "Chaining: Hyper Mode\n",
        "====================\n",
        "\n",
        "Non-linear search chaining is an advanced model-fitting approach in **PyAutoLens** which breaks the model-fitting\n",
        "procedure down into multiple non-linear searches, using the results of the initial searches to initialization parameter\n",
        "sampling in subsequent searches. This contrasts the `modeling` examples which each compose and fit a single lens\n",
        "model-fit using one non-linear search.\n",
        "\n",
        "An overview of search chaining is provided in the `autolens_workspace/notebooks/imaging/chaining/api.py` script, make\n",
        "sure to read that before reading this script!\n",
        "\n",
        "This script introduces **PyAutoLens**'s hyper-mode, which passes the the results of previous model-fits performed by\n",
        "earlier searches to searches performed later in the chain. This script illustrates two uses of hyper mode:\n",
        "\n",
        " - Using the `VoronoiBrightnessImage` pixelization and `AdaptiveBrightness` regularization scheme to adapt the source\n",
        " reconstruction to the source galaxy's morphology (as opposed to schemes introduced previously which adapt to the mass\n",
        " model magnification or apply a constant regularization pattern).\n",
        "\n",
        " - Using `HyperGalaxy`'s to scale the noise map, so as to down weight the fit to regions of an image the model is unable\n",
        " to fit accurately.\n",
        "\n",
        "This script illustrates the API used for hyper-mode, but does not go into the details of how it works. This is described\n",
        "in chapter 5 of the **HowToLens** lectures."
      ]
    },
    {
      "cell_type": "code",
      "metadata": {},
      "source": [
        "%matplotlib inline\n",
        "from pyprojroot import here\n",
        "workspace_path = str(here())\n",
        "%cd $workspace_path\n",
        "print(f\"Working Directory has been set to `{workspace_path}`\")\n",
        "\n",
        "from os import path\n",
        "import autofit as af\n",
        "import autolens as al\n",
        "import autolens.plot as aplt"
      ],
      "outputs": [],
      "execution_count": null
    },
    {
      "cell_type": "markdown",
      "metadata": {},
      "source": [
        "__Dataset + Masking + Positions__ \n",
        "\n",
        "Load, plot and mask the `Imaging` data."
      ]
    },
    {
      "cell_type": "code",
      "metadata": {},
      "source": [
        "dataset_name = \"mass_sie__source_sersic\"\n",
        "dataset_path = path.join(\"dataset\", \"imaging\", \"no_lens_light\", dataset_name)\n",
        "\n",
        "imaging = al.Imaging.from_fits(\n",
        "    image_path=path.join(dataset_path, \"image.fits\"),\n",
        "    noise_map_path=path.join(dataset_path, \"noise_map.fits\"),\n",
        "    psf_path=path.join(dataset_path, \"psf.fits\"),\n",
        "    pixel_scales=0.1,\n",
        ")\n",
        "\n",
        "mask = al.Mask2D.circular(\n",
        "    shape_native=imaging.shape_native, pixel_scales=imaging.pixel_scales, radius=3.0\n",
        ")\n",
        "\n",
        "imaging = imaging.apply_mask(mask=mask)\n",
        "\n",
        "imaging_plotter = aplt.ImagingPlotter(imaging=imaging)\n",
        "imaging_plotter.subplot_imaging()\n",
        "\n",
        "positions = al.Grid2DIrregular.from_json(\n",
        "    file_path=path.join(dataset_path, \"positions.json\")\n",
        ")"
      ],
      "outputs": [],
      "execution_count": null
    },
    {
      "cell_type": "markdown",
      "metadata": {},
      "source": [
        "__Paths__\n",
        "\n",
        "The path the results of all chained searches are output:"
      ]
    },
    {
      "cell_type": "code",
      "metadata": {},
      "source": [
        "path_prefix = path.join(\"imaging\", \"chaining\", \"hyper_mode\")"
      ],
      "outputs": [],
      "execution_count": null
    },
    {
      "cell_type": "markdown",
      "metadata": {},
      "source": [
        "__HYPER SETUP__\n",
        "\n",
        "The `SetupHyper` determines which hyper-mode features are used during the model-fit. The following options are \n",
        "available:\n",
        "\n",
        " - `hyper_galaxies`: whether the lens and / or source galaxy are treated as a hyper-galaxy, meaning that the model-fit\n",
        " can increase the noise-map values in the regions of the lens or source if they are poorly fitted.\n",
        " \n",
        " - `hyper_image_sky`: The background sky subtraction may be included in the model-fitting.\n",
        "\n",
        " - `hyper_background_noise`: The background noise-level may be included in the model-fitting.\n",
        "\n",
        "The pixelization and regularization schemes which use hyper-mode to adapt to the source's properties are not passed into\n",
        "`SetupHyper`, but are used in this example script below.\n",
        "\n",
        "In this example, we only include the hyper galaxies, and because we are only fitting an image with a lensed source we\n",
        "only include the hyper source galaxy.."
      ]
    },
    {
      "cell_type": "code",
      "metadata": {},
      "source": [
        "setup_hyper = al.SetupHyper(\n",
        "    hyper_galaxies_lens=False,\n",
        "    hyper_galaxies_source=True,\n",
        "    hyper_image_sky=None,\n",
        "    hyper_background_noise=None,\n",
        ")"
      ],
      "outputs": [],
      "execution_count": null
    },
    {
      "cell_type": "markdown",
      "metadata": {},
      "source": [
        "__Model (Search 1)__\n",
        "\n",
        "We compose our lens model using `Model` objects, which represent the galaxies we fit to our data. In the first\n",
        "search our lens model is:\n",
        "\n",
        " - The lens galaxy's total mass distribution is an `EllIsothermal` with `ExternalShear` [7 parameters].\n",
        " \n",
        " - The source-galaxy's light uses a `VoronoiBrightness` pixelization with fixed resolution 30 x 30 pixels (0 parameters).\n",
        "\n",
        " - This pixelization is regularized using a `Constant` scheme which smooths every source pixel equally [1 parameter]. \n",
        "\n",
        "The number of free parameters and therefore the dimensionality of non-linear parameter space is N=8."
      ]
    },
    {
      "cell_type": "code",
      "metadata": {},
      "source": [
        "lens = af.Model(al.Galaxy, redshift=0.5, mass=al.mp.EllIsothermal)\n",
        "source = af.Model(\n",
        "    al.Galaxy,\n",
        "    redshift=1.0,\n",
        "    pixelization=al.pix.VoronoiMagnification(shape=(30, 30)),\n",
        "    regularization=al.reg.Constant,\n",
        ")\n",
        "\n",
        "model = af.Collection(galaxies=af.Collection(lens=lens, source=source))"
      ],
      "outputs": [],
      "execution_count": null
    },
    {
      "cell_type": "markdown",
      "metadata": {},
      "source": [
        "__Search + Analysis + Model-Fit (Search 1)__\n",
        "\n",
        "We now create the non-linear search, analysis and perform the model-fit using this model.\n",
        "\n",
        "You may wish to inspect the results of the search 1 model-fit to ensure a fast non-linear search has been provided that \n",
        "provides a reasonably accurate lens model."
      ]
    },
    {
      "cell_type": "code",
      "metadata": {},
      "source": [
        "search = af.DynestyStatic(\n",
        "    path_prefix=path_prefix, name=\"search[1]__hyper\", unique_tag=dataset_name, nlive=50\n",
        ")\n",
        "\n",
        "analysis = al.AnalysisImaging(dataset=imaging)\n",
        "\n",
        "result_1 = search.fit(model=model, analysis=analysis)"
      ],
      "outputs": [],
      "execution_count": null
    },
    {
      "cell_type": "markdown",
      "metadata": {},
      "source": [
        "__Model (Search 2)__\n",
        "\n",
        "In search 2, our source model now uses the `VoronoiBrightnessImage` pixelization and `AdaptiveBrightness` regularization\n",
        "scheme that adapt to the source's unlensed morphology. These use the model-images of search 1, which is passed to the\n",
        "`Analysis` class below. \n",
        "\n",
        "The source also includes a `HyperGalaxy` which can scale its noise if the model fit is poor.\n",
        "\n",
        "We also use the results of search 1 to create the lens `Model` that we fit in search 2. This is described in the \n",
        "`api.py` chaining example."
      ]
    },
    {
      "cell_type": "code",
      "metadata": {},
      "source": [
        "lens = result_1.model.galaxies.lens\n",
        "source = af.Model(\n",
        "    al.Galaxy,\n",
        "    redshift=1.0,\n",
        "    pixelization=al.pix.VoronoiBrightnessImage,\n",
        "    regularization=al.reg.AdaptiveBrightness,\n",
        "    hyper_galaxy=al.HyperGalaxy,\n",
        ")\n",
        "\n",
        "model = af.Collection(galaxies=af.Collection(lens=lens, source=source))"
      ],
      "outputs": [],
      "execution_count": null
    },
    {
      "cell_type": "markdown",
      "metadata": {},
      "source": [
        "__Search + Analysis + Model-Fit (Search 2)__\n",
        "\n",
        "We now create the non-linear search, analysis and perform the model-fit using this model.\n",
        "\n",
        "When we create the analysis, we pass it a `hyper_result`, which is the result of search 1. This is telling the \n",
        "`Analysis` class to use the model-images of this fit to aid the fitting of the `VoronoiBrightnessImage` pixelization, \n",
        "`AdaptiveBrightness` regularization and source `HyperGalaxy`.\n",
        "\n",
        "If you inspect and compare the results of searches 1 and 2, you'll note how the model-fits of search 2 have a much\n",
        "higher likelihood than search 1 and how the source reconstruction has congregated it pixels to the bright central\n",
        "regions of the source. This indicates that a much better result has been achieved, the reasons for which are discussed\n",
        "in chapter 5 of the **HowToLens** lectures."
      ]
    },
    {
      "cell_type": "code",
      "metadata": {},
      "source": [
        "search = af.DynestyStatic(\n",
        "    path_prefix=path_prefix, name=\"search[2]__hyper\", unique_tag=dataset_name, nlive=30\n",
        ")\n",
        "\n",
        "analysis = al.AnalysisImaging(dataset=imaging, hyper_result=result_1)\n",
        "\n",
        "result_2 = search.fit(model=model, analysis=analysis)"
      ],
      "outputs": [],
      "execution_count": null
    },
    {
      "cell_type": "markdown",
      "metadata": {},
      "source": [
        "__Hyper Mode__"
      ]
    },
    {
      "cell_type": "code",
      "metadata": {},
      "source": [],
      "outputs": [],
      "execution_count": null
    }
  ],
  "metadata": {
    "anaconda-cloud": {},
    "kernelspec": {
      "display_name": "Python 3",
      "language": "python",
      "name": "python3"
    },
    "language_info": {
      "codemirror_mode": {
        "name": "ipython",
        "version": 3
      },
      "file_extension": ".py",
      "mimetype": "text/x-python",
      "name": "python",
      "nbconvert_exporter": "python",
      "pygments_lexer": "ipython3",
      "version": "3.6.1"
    }
  },
  "nbformat": 4,
  "nbformat_minor": 4
}