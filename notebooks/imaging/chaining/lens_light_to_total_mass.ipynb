{
  "cells": [
    {
      "cell_type": "markdown",
      "metadata": {},
      "source": [
        "Chaining: Lens Light To Mass\n",
        "============================\n",
        "\n",
        "In this script, we chain two searches to fit `Imaging` with a strong lens model where:\n",
        "\n",
        " - The lens galaxy's light is a bulge+disk `EllSersic` and `EllExponential`.\n",
        " - The lens galaxy's total mass distribution is an `EllIsothermal` and `ExternalShear`.\n",
        " - The source galaxy's `LightProfile` is an `EllExponential`.\n",
        "\n",
        "The two searches break down as follows:\n",
        "\n",
        " 1) Model the lens galaxy's light using an `EllSersic` bulge and `EllExponential` disk. The source is\n",
        " present in the image, but modeling it is omitted.\n",
        "      \n",
        " 2) Models the lens galaxy's mass using an `EllIsothermal` and source galaxy's light using\n",
        "an `EllSersic`. The lens light model is fixed to the result of search 1.\n",
        "\n",
        "__Why Chain?__\n",
        "\n",
        "For many strong lenses the lens galaxy's light is distinct from the source galaxy's light, and it is therefore a valid\n",
        "approach to first subtract the lens's light and then focus on fitting the lens mass model and source's light. This\n",
        "provides the following benefits:\n",
        "\n",
        " - The non-linear parameter space defined by a bulge+disk (N=11), mass (N=5) and parametric source (N=7) models above\n",
        " has N=27 dimensions. By splitting the model-fit into two searches, we fit parameter spaces of dimensions N=11\n",
        " (bulge+disk) and N=12 (mass+source). These are more efficient to sample and less like to infer a local maxima or\n",
        " unphysical solution.\n",
        "\n",
        " - The lens galaxy's light traces its mass, so we can use the lens light model inferred in search 1 to initialize\n",
        " sampling of the mass model`s centre. In principle we could do this for other parameters like its `elliptical_comp``s.\n",
        " However, the lens light does not perfectly trace its mass, so in this example we omit such an approach."
      ]
    },
    {
      "cell_type": "code",
      "metadata": {},
      "source": [
        "%matplotlib inline\n",
        "from pyprojroot import here\n",
        "workspace_path = str(here())\n",
        "%cd $workspace_path\n",
        "print(f\"Working Directory has been set to `{workspace_path}`\")\n",
        "\n",
        "from os import path\n",
        "import autofit as af\n",
        "import autolens as al\n",
        "import autolens.plot as aplt"
      ],
      "outputs": [],
      "execution_count": null
    },
    {
      "cell_type": "markdown",
      "metadata": {},
      "source": [
        "__Dataset + Masking__ \n",
        "\n",
        "Load, plot and mask the `Imaging` data."
      ]
    },
    {
      "cell_type": "code",
      "metadata": {},
      "source": [
        "dataset_name = \"light_sersic_exp__mass_sie__source_sersic\"\n",
        "dataset_path = path.join(\"dataset\", \"imaging\", \"with_lens_light\", dataset_name)\n",
        "\n",
        "imaging = al.Imaging.from_fits(\n",
        "    image_path=path.join(dataset_path, \"image.fits\"),\n",
        "    noise_map_path=path.join(dataset_path, \"noise_map.fits\"),\n",
        "    psf_path=path.join(dataset_path, \"psf.fits\"),\n",
        "    pixel_scales=0.1,\n",
        ")\n",
        "\n",
        "mask = al.Mask2D.circular(\n",
        "    shape_native=imaging.shape_native, pixel_scales=imaging.pixel_scales, radius=3.0\n",
        ")\n",
        "\n",
        "imaging = imaging.apply_mask(mask=mask)\n",
        "\n",
        "imaging_plotter = aplt.ImagingPlotter(imaging=imaging)\n",
        "imaging_plotter.subplot_imaging()"
      ],
      "outputs": [],
      "execution_count": null
    },
    {
      "cell_type": "markdown",
      "metadata": {},
      "source": [
        "__Paths__\n",
        "\n",
        "The path the results of all chained searches are output:"
      ]
    },
    {
      "cell_type": "code",
      "metadata": {},
      "source": [
        "path_prefix = path.join(\"imaging\", \"chaining\", \"lens_light_to_total_mass\")"
      ],
      "outputs": [],
      "execution_count": null
    },
    {
      "cell_type": "markdown",
      "metadata": {},
      "source": [
        "__Model (Search 1)__\n",
        "\n",
        "In search 1 we fit a lens model where:\n",
        "\n",
        " - The lens galaxy's light is a parametric `EllSersic` bulge and `EllExponential` disk, the centres of \n",
        " which are aligned [11 parameters].\n",
        " - The lens galaxy's mass and source galaxy are omitted.\n",
        "\n",
        "The number of free parameters and therefore the dimensionality of non-linear parameter space is N=11."
      ]
    },
    {
      "cell_type": "code",
      "metadata": {},
      "source": [
        "bulge = af.Model(al.lp.EllSersic)\n",
        "disk = af.Model(al.lp.EllExponential)\n",
        "\n",
        "bulge.centre = disk.centre\n",
        "\n",
        "lens = af.Model(al.Galaxy, redshift=0.5, bulge=bulge, disk=disk)\n",
        "\n",
        "model = af.Collection(galaxies=af.Collection(lens=lens))"
      ],
      "outputs": [],
      "execution_count": null
    },
    {
      "cell_type": "markdown",
      "metadata": {},
      "source": [
        "__Search + Analysis + Model-Fit (Search 1)__\n",
        "\n",
        "We now create the non-linear search, analysis and perform the model-fit using this model.\n",
        "\n",
        "You may wish to inspect the results of the search 1 model-fit to ensure a fast non-linear search has been provided that \n",
        "provides a reasonably accurate lens model."
      ]
    },
    {
      "cell_type": "code",
      "metadata": {},
      "source": [
        "search = af.DynestyStatic(\n",
        "    path_prefix=path_prefix, name=\"search[1]__lens_light\", nlive=50\n",
        ")\n",
        "\n",
        "analysis = al.AnalysisImaging(dataset=imaging)\n",
        "\n",
        "result_1 = search.fit(model=model, analysis=analysis)"
      ],
      "outputs": [],
      "execution_count": null
    },
    {
      "cell_type": "markdown",
      "metadata": {},
      "source": [
        "__Model (Search 2)__\n",
        "\n",
        "We use the results of search 1 to create the lens model fitted in search 2, where:\n",
        "\n",
        " - The lens galaxy's light is an `EllSersic` bulge and `EllExponential` disk [Parameters fixed to results \n",
        " of search 1].\n",
        " - The lens galaxy's total mass distribution is an `EllIsothermal` with `ExternalShear` [7 parameters].\n",
        " - The source galaxy's light is a parametric `EllSersic` [7 parameters].\n",
        "\n",
        "The number of free parameters and therefore the dimensionality of non-linear parameter space is N=14.\n",
        "\n",
        "The lens galaxy's light is passed as a `instance` (as opposed to the `model` which was used in the API tutorial). By \n",
        "passing the lens light as an `instance` it passes the maximum log likelihood parameters inferred by search 1 as fixed \n",
        "values that are not free parameters fitted for by the non-linear search of search 2.\n",
        "\n",
        "We also use the inferred centre of the lens light model in search 1 to initialize the priors on the lens mass model \n",
        "in search 2. This uses the term `model` to pass priors, as we saw in other examples."
      ]
    },
    {
      "cell_type": "code",
      "metadata": {},
      "source": [
        "mass = af.Model(al.mp.EllIsothermal)\n",
        "\n",
        "mass.centre = result_1.model.galaxies.lens.bulge.centre\n",
        "\n",
        "lens = af.Model(\n",
        "    al.Galaxy,\n",
        "    redshift=0.5,\n",
        "    bulge=result_1.instance.galaxies.lens.bulge,\n",
        "    disk=result_1.instance.galaxies.lens.disk,\n",
        "    mass=mass,\n",
        ")\n",
        "source = af.Model(al.Galaxy, redshift=1.0, bulge=al.lp.EllSersic)\n",
        "\n",
        "model = af.Collection(galaxies=af.Collection(lens=lens))"
      ],
      "outputs": [],
      "execution_count": null
    },
    {
      "cell_type": "markdown",
      "metadata": {},
      "source": [
        "__Search + Analysis + Model-Fit (Search 2)__\n",
        "\n",
        "We now create the non-linear search, analysis and perform the model-fit using this model.\n",
        "\n",
        "You may wish to inspect the `model.info` file of the search 2 model-fit to ensure the priors were passed correctly, as \n",
        "well as the checkout the results to ensure an accurate power-law mass model is inferred."
      ]
    },
    {
      "cell_type": "code",
      "metadata": {},
      "source": [
        "search = af.DynestyStatic(\n",
        "    path_prefix=path_prefix, name=\"search[2]__total_mass\", nlive=75\n",
        ")\n",
        "\n",
        "analysis = al.AnalysisImaging(dataset=imaging)\n",
        "\n",
        "result_2 = search.fit(model=model, analysis=analysis)"
      ],
      "outputs": [],
      "execution_count": null
    },
    {
      "cell_type": "markdown",
      "metadata": {},
      "source": [
        "__Wrap Up__\n",
        "\n",
        "In this example, we passed a bulge + disk model of the lens galaxy's light as an `instance`, as opposed to a `model`, \n",
        "meaning its parameters were fixed to the maximum log likelihood model in search 1 and not fitted as free parameters in \n",
        "search 2.\n",
        "\n",
        "Of course, one could easily edit this script to fit the bulge + disk as a model in search 2, where the results of \n",
        "search 1 initialize their priors:\n",
        "\n",
        " lens = af.Model(\n",
        "    al.Galaxy, \n",
        "     redshift=0.5,\n",
        "     bulge=result_1.model.galaxies.lens.bulge,\n",
        "     disk=result_1.model.galaxies.lens.disk,\n",
        "     mass=mass,\n",
        " )\n",
        "\n",
        "As discussed in the introduction, the benefit of passing the lens's light as an instance is that it reduces the \n",
        "dimensionality of the non-linear parameter space in search 2. \n",
        "\n",
        "On the other hand, the lens light model inferred in search 1 may not be perfect. The source's light will impact the\n",
        "quality of the fit which may lead to a sub-optimal fit. Thus, it may be better to pass the lens's light as a `model`\n",
        "in search 2. The model-fit will take longer to perform, but we'll still benefit from prior passing initializing the\n",
        "samples of search 2!\n",
        "\n",
        "At the end of the day, it really comes down to you science case and the nature of your data whether you should pass the\n",
        "lens light as an `instance` or `model`!\n",
        "\n",
        "__Pipelines__\n",
        "\n",
        "Advanced search chaining uses `pipelines` that chain together multiple searches to perform complex lens modeling \n",
        "in a robust and efficient way. \n",
        "\n",
        "The following example pipelines exploit our ability to model separately the lens's light and its mass / the source to \n",
        "perform model-fits in non-linear parameter spaces of reduced complexity, as shown in this example:\n",
        "\n",
        " `autolens_workspace/imaging/chaining/pipelines/with_lens_light/light_parametric__mass_total__source_parametric.py`\n",
        " \n",
        "__SLaM (Source, Light and Mass)__\n",
        " \n",
        "An even more advanced approach which uses search chaining are the SLaM pipelines, which break the lens modeling \n",
        "processing into a series of fits that first perfect the source model, then the lens light model and finally the lens\n",
        "mass model. \n",
        "\n",
        "The SLaM pipelines begin by fitting the lens's light using a bulge+disk, and then fit the mass model and source as \n",
        "performed in this example."
      ]
    },
    {
      "cell_type": "code",
      "metadata": {},
      "source": [],
      "outputs": [],
      "execution_count": null
    }
  ],
  "metadata": {
    "anaconda-cloud": {},
    "kernelspec": {
      "display_name": "Python 3",
      "language": "python",
      "name": "python3"
    },
    "language_info": {
      "codemirror_mode": {
        "name": "ipython",
        "version": 3
      },
      "file_extension": ".py",
      "mimetype": "text/x-python",
      "name": "python",
      "nbconvert_exporter": "python",
      "pygments_lexer": "ipython3",
      "version": "3.6.1"
    }
  },
  "nbformat": 4,
  "nbformat_minor": 4
}