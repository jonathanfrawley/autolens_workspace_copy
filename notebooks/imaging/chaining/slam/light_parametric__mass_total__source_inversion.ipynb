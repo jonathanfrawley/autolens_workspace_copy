{
  "cells": [
    {
      "cell_type": "markdown",
      "metadata": {},
      "source": [
        "SLaM (Source, Light and Mass): Light Parametric + Mass Total + Source Inversion\n",
        "===============================================================================\n",
        "\n",
        "Using two source pipelines, a light pipeline and a mass pipeline this SLaM runner fits `Imaging` of a strong lens\n",
        "system where in the final model:\n",
        "\n",
        " - The lens galaxy's light is a bulge+disk `EllSersic` and `EllExponential`.\n",
        " - The lens galaxy's total mass distribution is an `EllPowerLaw`.\n",
        " - The source galaxy's light is a parametric `Inversion`.\n",
        "\n",
        "This runner uses the SLaM pipelines:\n",
        "\n",
        " `slam/with_lens_light/source_parametric.py`.\n",
        " `slam/with_lens_light/source___inversion.py`.\n",
        " `slam/with_lens_light/light__parametric.py`.\n",
        " `slam/with_lens_light/mass_total.py`.\n",
        "\n",
        "Check them out for a detailed description of the analysis!"
      ]
    },
    {
      "cell_type": "code",
      "metadata": {},
      "source": [
        "%matplotlib inline\n",
        "from pyprojroot import here\n",
        "workspace_path = str(here())\n",
        "%cd $workspace_path\n",
        "print(f\"Working Directory has been set to `{workspace_path}`\")\n",
        "\n",
        "import os\n",
        "import sys\n",
        "from os import path\n",
        "import autofit as af\n",
        "import autolens as al\n",
        "import autolens.plot as aplt\n",
        "\n",
        "sys.path.insert(0, os.getcwd())\n",
        "import slam"
      ],
      "outputs": [],
      "execution_count": null
    },
    {
      "cell_type": "markdown",
      "metadata": {},
      "source": [
        "__Dataset__ \n",
        "\n",
        "Load the `Imaging` data, define the `Mask2D` and plot them."
      ]
    },
    {
      "cell_type": "code",
      "metadata": {},
      "source": [
        "dataset_name = \"light_sersic_exp__mass_sie__source_sersic_x2\"\n",
        "dataset_path = path.join(\"dataset\", \"imaging\", \"with_lens_light\", dataset_name)\n",
        "\n",
        "imaging = al.Imaging.from_fits(\n",
        "    image_path=path.join(dataset_path, \"image.fits\"),\n",
        "    noise_map_path=path.join(dataset_path, \"noise_map.fits\"),\n",
        "    psf_path=path.join(dataset_path, \"psf.fits\"),\n",
        "    pixel_scales=0.1,\n",
        ")\n",
        "\n",
        "mask = al.Mask2D.circular(\n",
        "    shape_native=imaging.shape_native, pixel_scales=imaging.pixel_scales, radius=3.0\n",
        ")\n",
        "\n",
        "imaging = imaging.apply_mask(mask=mask)\n",
        "\n",
        "imaging_plotter = aplt.ImagingPlotter(imaging=imaging)\n",
        "imaging_plotter.subplot_imaging()"
      ],
      "outputs": [],
      "execution_count": null
    },
    {
      "cell_type": "markdown",
      "metadata": {},
      "source": [
        "__Paths__\n",
        "\n",
        "The path the results of all chained searches are output:"
      ]
    },
    {
      "cell_type": "code",
      "metadata": {},
      "source": [
        "path_prefix = path.join(\"imaging\", \"slam\", dataset_name)"
      ],
      "outputs": [],
      "execution_count": null
    },
    {
      "cell_type": "markdown",
      "metadata": {},
      "source": [
        "__Redshifts__\n",
        "\n",
        "The redshifts of the lens and source galaxies, which are used to perform unit converions of the model and data (e.g. \n",
        "from arc-seconds to kiloparsecs, masses to solar masses, etc.)."
      ]
    },
    {
      "cell_type": "code",
      "metadata": {},
      "source": [
        "redshift_lens = 0.5\n",
        "redshift_source = 1.0"
      ],
      "outputs": [],
      "execution_count": null
    },
    {
      "cell_type": "markdown",
      "metadata": {},
      "source": [
        "__HYPER SETUP__\n",
        "\n",
        "The `SetupHyper` determines which hyper-mode features are used during the model-fit."
      ]
    },
    {
      "cell_type": "code",
      "metadata": {},
      "source": [
        "setup_hyper = al.SetupHyper(\n",
        "    hyper_galaxies_lens=False,\n",
        "    hyper_galaxies_source=False,\n",
        "    hyper_image_sky=None,\n",
        "    hyper_background_noise=None,\n",
        ")"
      ],
      "outputs": [],
      "execution_count": null
    },
    {
      "cell_type": "markdown",
      "metadata": {},
      "source": [
        "__SOURCE PARAMETRIC PIPELINE (with lens light)__\n",
        "\n",
        "The SOURCE PARAMETRIC PIPELINE (with lens light) uses three searches to initialize a robust model for the \n",
        "source galaxy's light, which in this example:\n",
        " \n",
        " - Uses a parametric `EllSersic` bulge and `EllExponential` disk with centres aligned for the lens\n",
        " galaxy's light.\n",
        " \n",
        " - Uses an `EllIsothermal` model for the lens's total mass distribution with an `ExternalShear`.\n",
        "\n",
        " __Settings__:\n",
        "\n",
        " - Mass Centre: Fix the mass profile centre to (0.0, 0.0) (this assumption will be relaxed in the MASS TOTAL PIPELINE)."
      ]
    },
    {
      "cell_type": "code",
      "metadata": {},
      "source": [
        "analysis = al.AnalysisImaging(dataset=imaging)\n",
        "\n",
        "bulge = af.Model(al.lp.EllSersic)\n",
        "disk = af.Model(al.lp.EllExponential)\n",
        "bulge.centre = (0.0, 0.0)\n",
        "disk.centre = (0.0, 0.0)\n",
        "\n",
        "source_parametric_results = slam.source_parametric.with_lens_light(\n",
        "    path_prefix=path_prefix,\n",
        "    analysis=analysis,\n",
        "    setup_hyper=setup_hyper,\n",
        "    lens_bulge=bulge,\n",
        "    lens_disk=disk,\n",
        "    mass=af.Model(al.mp.EllIsothermal),\n",
        "    shear=af.Model(al.mp.ExternalShear),\n",
        "    source_bulge=af.Model(al.lp.EllSersic),\n",
        "    mass_centre=(0.0, 0.0),\n",
        "    redshift_lens=redshift_lens,\n",
        "    redshift_source=redshift_source,\n",
        ")"
      ],
      "outputs": [],
      "execution_count": null
    },
    {
      "cell_type": "markdown",
      "metadata": {},
      "source": [
        "__SOURCE INVERSION PIPELINE (with lens light)__\n",
        "\n",
        "The SOURCE INVERSION PIPELINE (with lens light) uses four searches to initialize a robust model for the `Inversion` \n",
        "that reconstructs the source galaxy's light. It begins by fitting a `VoronoiMagnification` pixelization with `Constant` \n",
        "regularization, to set up the model and hyper images, and then:\n",
        "\n",
        " - Uses a `VoronoiBrightnessImage` pixelization.\n",
        " - Uses an `AdaptiveBrightness` regularization.\n",
        " - Carries the lens redshift, source redshift and `ExternalShear` of the SOURCE PARAMETRIC PIPELINE through to the\n",
        " SOURCE INVERSION PIPELINE.\n",
        "\n",
        "__Settings__:\n",
        "\n",
        " - Positions: We update the positions and positions threshold using the previous model-fitting result (as described \n",
        " in `chaining/examples/parametric_to_inversion.py`) to remove unphysical solutions from the `Inversion` model-fitting."
      ]
    },
    {
      "cell_type": "code",
      "metadata": {},
      "source": [
        "settings_lens = al.SettingsLens(\n",
        "    positions_threshold=source_parametric_results.last.positions_threshold_from(\n",
        "        factor=3.0, minimum_threshold=0.2\n",
        "    )\n",
        ")\n",
        "\n",
        "analysis = al.AnalysisImaging(\n",
        "    dataset=imaging,\n",
        "    positions=source_parametric_results.last.image_plane_multiple_image_positions,\n",
        "    settings_lens=settings_lens,\n",
        ")\n",
        "\n",
        "source_inversion_results = slam.source_inversion.no_lens_light(\n",
        "    path_prefix=path_prefix,\n",
        "    analysis=analysis,\n",
        "    setup_hyper=setup_hyper,\n",
        "    source_parametric_results=source_parametric_results,\n",
        "    pixelization=al.pix.VoronoiBrightnessImage,\n",
        "    regularization=al.reg.AdaptiveBrightness,\n",
        ")"
      ],
      "outputs": [],
      "execution_count": null
    },
    {
      "cell_type": "markdown",
      "metadata": {},
      "source": [
        "__LIGHT PARAMETRIC PIPELINE__\n",
        "\n",
        "The LIGHT PARAMETRIC PIPELINE uses one search to fit a complex lens light model to a high level of accuracy, using the\n",
        "lens mass model and source light model fixed to the maximum log likelihood result of the SOURCE PARAMETRIC PIPELINE.\n",
        "In this example it:\n",
        "\n",
        " - Uses a parametric `EllSersic` bulge and `EllSersic` disk with centres aligned for the lens galaxy's \n",
        " light [Do not use the results of the SOURCE PARAMETRIC PIPELINE to initialize priors].\n",
        " \n",
        " - Uses an `EllIsothermal` model for the lens's total mass distribution [fixed from SOURCE PARAMETRIC PIPELINE].\n",
        " \n",
        " - Uses an `Inversion` for the source's light [priors fixed from SOURCE INVERSION PIPELINE].\n",
        " \n",
        " - Carries the lens redshift, source redshift and `ExternalShear` of the SOURCE PIPELINE through to the MASS \n",
        " PIPELINE [fixed values].\n",
        " \n",
        "__Preloads__: \n",
        " \n",
        " - Inversion: We preload linear algebra matrices used by the inversion using the maximum likelihood hyper-result of the \n",
        " SOURCE INVERSION PIPELINE. This ensures these matrices are not recalculated every iteration of the log likelihood \n",
        " function, speeding up the model-fit (this is possible because the mass model and source pixelization are fixed).   "
      ]
    },
    {
      "cell_type": "code",
      "metadata": {},
      "source": [
        "preloads = al.Preloads.setup(result=source_inversion_results.last.hyper, inversion=True)\n",
        "\n",
        "analysis = al.AnalysisImaging(\n",
        "    dataset=imaging,\n",
        "    hyper_result=source_inversion_results.last,\n",
        "    positions=source_inversion_results.last.image_plane_multiple_image_positions,\n",
        "    preloads=preloads,\n",
        ")\n",
        "\n",
        "bulge = af.Model(al.lp.EllSersic)\n",
        "disk = af.Model(al.lp.EllExponential)\n",
        "bulge.centre = disk.centre\n",
        "\n",
        "light_results = slam.light_parametric.with_lens_light(\n",
        "    path_prefix=path_prefix,\n",
        "    analysis=analysis,\n",
        "    setup_hyper=setup_hyper,\n",
        "    source_results=source_inversion_results,\n",
        "    lens_bulge=bulge,\n",
        "    lens_disk=disk,\n",
        ")"
      ],
      "outputs": [],
      "execution_count": null
    },
    {
      "cell_type": "markdown",
      "metadata": {},
      "source": [
        "__MASS TOTAL PIPELINE (with lens light)__\n",
        "\n",
        "The MASS TOTAL PIPELINE (with lens light) uses one search to fits a complex lens mass model to a high level of accuracy, \n",
        "using the lens mass model and source model of the SOURCE INVERSION PIPELINE to initialize the model priors and the lens \n",
        "light model of the LIGHT PARAMETRIC PIPELINE. In this example it:\n",
        "\n",
        " - Uses a parametric `EllSersic` bulge and `EllSersic` disk with centres aligned for the lens galaxy's \n",
        " light [fixed from LIGHT PARAMETRIC PIPELINE].\n",
        "\n",
        " - Uses an `EllPowerLaw` model for the lens's total mass distribution [priors initialized from SOURCE \n",
        " PARAMETRIC PIPELINE + centre unfixed from (0.0, 0.0)].\n",
        " \n",
        " - Uses an `Inversion` for the source's light [priors fixed from SOURCE INVERSION PIPELINE].\n",
        " \n",
        " - Carries the lens redshift, source redshift and `ExternalShear` of the SOURCE PIPELINE through to the MASS TOTAL \n",
        " PIPELINE.\n",
        "\n",
        "__Settings__:\n",
        "\n",
        " - Hyper: We may be using hyper features and therefore pass the result of the SOURCE INVERSION PIPELINE to use as the\n",
        " hyper dataset if required.\n",
        "\n",
        " - Positions: We update the positions and positions threshold using the previous model-fitting result (as described \n",
        " in `chaining/examples/parametric_to_inversion.py`) to remove unphysical solutions from the `Inversion` model-fitting.\n",
        "\n",
        "__Preloads__:\n",
        " \n",
        " - Pixelization: We preload the pixelization using the maximum likelihood hyper-result of the SOURCE INVERSION PIPELINE. \n",
        " This ensures the source pixel-grid is not recalculated every iteration of the log likelihood function, speeding up \n",
        " the model-fit (this is only possible because the source pixelization is fixed). "
      ]
    },
    {
      "cell_type": "code",
      "metadata": {},
      "source": [
        "preloads = al.Preloads.setup(\n",
        "    result=source_inversion_results.last.hyper, pixelization=True\n",
        ")\n",
        "\n",
        "analysis = al.AnalysisImaging(\n",
        "    dataset=imaging, hyper_result=source_inversion_results.last, preloads=preloads\n",
        ")\n",
        "\n",
        "mass_results = slam.mass_total.with_lens_light(\n",
        "    path_prefix=path_prefix,\n",
        "    analysis=analysis,\n",
        "    setup_hyper=setup_hyper,\n",
        "    source_results=source_inversion_results,\n",
        "    light_results=light_results,\n",
        "    mass=af.Model(al.mp.EllPowerLaw),\n",
        ")"
      ],
      "outputs": [],
      "execution_count": null
    },
    {
      "cell_type": "markdown",
      "metadata": {},
      "source": [
        "Finish."
      ]
    },
    {
      "cell_type": "code",
      "metadata": {},
      "source": [],
      "outputs": [],
      "execution_count": null
    }
  ],
  "metadata": {
    "anaconda-cloud": {},
    "kernelspec": {
      "display_name": "Python 3",
      "language": "python",
      "name": "python3"
    },
    "language_info": {
      "codemirror_mode": {
        "name": "ipython",
        "version": 3
      },
      "file_extension": ".py",
      "mimetype": "text/x-python",
      "name": "python",
      "nbconvert_exporter": "python",
      "pygments_lexer": "ipython3",
      "version": "3.6.1"
    }
  },
  "nbformat": 4,
  "nbformat_minor": 4
}