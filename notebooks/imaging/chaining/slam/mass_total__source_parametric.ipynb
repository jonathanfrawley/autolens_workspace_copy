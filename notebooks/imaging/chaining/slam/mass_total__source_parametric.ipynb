{
  "cells": [
    {
      "cell_type": "markdown",
      "metadata": {},
      "source": [
        "SLaM (Source, Light and Mass): Mass Total + Source Parametric\n",
        "=============================================================\n",
        "\n",
        "SLaM pipelines break the analysis down into multiple pipelines which focus on modeling a specific aspect of the strong\n",
        "lens, first the Source, then the (lens) Light and finally the Mass. Each of these pipelines has it own inputs which\n",
        "which customize the model and analysis in that pipeline.\n",
        "\n",
        "The models fitted in earlier pipelines determine the model used in later pipelines. For example, if the SOURCE PIPELINE\n",
        "uses a parametric `EllSersic` profile for the bulge, this will be used in the subsequent MASS TOTAL PIPELINE.\n",
        "\n",
        "Using a SOURCE PARAMETRIC PIPELINE and a MASS TOTAL PIPELINE this SLaM script fits `Imaging` of a strong lens system, where\n",
        "in the final model:\n",
        "\n",
        " - The lens galaxy's light is omitted from the data and model.\n",
        " - The lens galaxy's total mass distribution is an `EllPowerLaw`.\n",
        " - The source galaxy's light is a parametric `EllSersic`.\n",
        "\n",
        "This uses the SLaM pipelines:\n",
        "\n",
        " `source_parametric/no_lens_light`\n",
        " `mass_total/no_lens_light`\n",
        "\n",
        "Check them out for a full description of the analysis!"
      ]
    },
    {
      "cell_type": "code",
      "metadata": {},
      "source": [
        "%matplotlib inline\n",
        "from pyprojroot import here\n",
        "workspace_path = str(here())\n",
        "%cd $workspace_path\n",
        "print(f\"Working Directory has been set to `{workspace_path}`\")\n",
        "\n",
        "import os\n",
        "import sys\n",
        "from os import path\n",
        "import autofit as af\n",
        "import autolens as al\n",
        "import autolens.plot as aplt\n",
        "\n",
        "sys.path.insert(0, os.getcwd())\n",
        "import slam"
      ],
      "outputs": [],
      "execution_count": null
    },
    {
      "cell_type": "markdown",
      "metadata": {},
      "source": [
        "__Dataset + Masking__ \n",
        "\n",
        "Load, plot and mask the `Imaging` data."
      ]
    },
    {
      "cell_type": "code",
      "metadata": {},
      "source": [
        "dataset_name = \"mass_sie__source_sersic\"\n",
        "dataset_path = path.join(\"dataset\", \"imaging\", \"no_lens_light\", dataset_name)\n",
        "\n",
        "imaging = al.Imaging.from_fits(\n",
        "    image_path=path.join(dataset_path, \"image.fits\"),\n",
        "    noise_map_path=path.join(dataset_path, \"noise_map.fits\"),\n",
        "    psf_path=path.join(dataset_path, \"psf.fits\"),\n",
        "    pixel_scales=0.1,\n",
        "    name=dataset_name,\n",
        ")\n",
        "\n",
        "mask = al.Mask2D.circular(\n",
        "    shape_native=imaging.shape_native, pixel_scales=imaging.pixel_scales, radius=3.0\n",
        ")\n",
        "\n",
        "imaging = imaging.apply_mask(mask=mask)\n",
        "\n",
        "imaging_plotter = aplt.ImagingPlotter(imaging=imaging)\n",
        "imaging_plotter.subplot_imaging()"
      ],
      "outputs": [],
      "execution_count": null
    },
    {
      "cell_type": "markdown",
      "metadata": {},
      "source": [
        "__Paths__\n",
        "\n",
        "The path the results of all chained searches are output:"
      ]
    },
    {
      "cell_type": "code",
      "metadata": {},
      "source": [
        "path_prefix = path.join(\"imaging\", \"slam\")"
      ],
      "outputs": [],
      "execution_count": null
    },
    {
      "cell_type": "markdown",
      "metadata": {},
      "source": [
        "__Redshifts__\n",
        "\n",
        "The redshifts of the lens and source galaxies, which are used to perform unit converions of the model and data (e.g. \n",
        "from arc-seconds to kiloparsecs, masses to solar masses, etc.)."
      ]
    },
    {
      "cell_type": "code",
      "metadata": {},
      "source": [
        "redshift_lens = 0.5\n",
        "redshift_source = 1.0"
      ],
      "outputs": [],
      "execution_count": null
    },
    {
      "cell_type": "markdown",
      "metadata": {},
      "source": [
        "__HYPER SETUP__\n",
        "\n",
        "The `SetupHyper` determines which hyper-mode features are used during the model-fit."
      ]
    },
    {
      "cell_type": "code",
      "metadata": {},
      "source": [
        "setup_hyper = al.SetupHyper(\n",
        "    hyper_galaxies_lens=False,\n",
        "    hyper_galaxies_source=False,\n",
        "    hyper_image_sky=None,\n",
        "    hyper_background_noise=None,\n",
        ")"
      ],
      "outputs": [],
      "execution_count": null
    },
    {
      "cell_type": "markdown",
      "metadata": {},
      "source": [
        "__SOURCE PARAMETRIC PIPELINE (no lens light)__\n",
        "\n",
        "The SOURCE PARAMETRIC PIPELINE (no lens light) uses one search to initialize a robust model for the source galaxy's \n",
        "light, which in this example:\n",
        " \n",
        " - Uses a parametric `EllSersic` bulge for the source's light (omitting a disk / envelope).\n",
        " - Uses an `EllIsothermal` model for the lens's total mass distribution with an `ExternalShear`.\n",
        "\n",
        " __Settings__:\n",
        " \n",
        " - Mass Centre: Fix the mass profile centre to (0.0, 0.0) (this assumption will be relaxed in the MASS TOTAL PIPELINE)."
      ]
    },
    {
      "cell_type": "code",
      "metadata": {},
      "source": [
        "analysis = al.AnalysisImaging(dataset=imaging)\n",
        "\n",
        "source_parametric_results = slam.source_parametric.no_lens_light(\n",
        "    path_prefix=path_prefix,\n",
        "    unique_tag=dataset_name,\n",
        "    analysis=analysis,\n",
        "    setup_hyper=setup_hyper,\n",
        "    mass=af.Model(al.mp.EllIsothermal),\n",
        "    shear=af.Model(al.mp.ExternalShear),\n",
        "    source_bulge=af.Model(al.lp.EllSersic),\n",
        "    mass_centre=(0.0, 0.0),\n",
        "    redshift_lens=0.5,\n",
        "    redshift_source=1.0,\n",
        ")\n"
      ],
      "outputs": [],
      "execution_count": null
    },
    {
      "cell_type": "markdown",
      "metadata": {},
      "source": [
        "__MASS TOTAL PIPELINE (no lens light)__\n",
        "\n",
        "The MASS TOTAL PIPELINE (no lens light) uses one search to fits a complex lens mass model to a high level of accuracy, \n",
        "using the lens mass model and source model of the SOURCE PIPELINE to initialize the model priors. In this example it:\n",
        "\n",
        " - Uses an `EllPowerLaw` model for the lens's total mass distribution [priors initialized from SOURCE \n",
        " PARAMETRIC PIPELINE + The centre if unfixed from (0.0, 0.0)].\n",
        " \n",
        " - Uses the `EllSersic` model representing a bulge for the source's light [priors initialized from SOURCE \n",
        " PARAMETRIC PIPELINE].\n",
        " \n",
        " - Carries the lens redshift, source redshift and `ExternalShear` of the SOURCE PIPELINE through to the MASS TOTAL PIPELINE."
      ]
    },
    {
      "cell_type": "code",
      "metadata": {},
      "source": [
        "analysis = al.AnalysisImaging(dataset=imaging)\n",
        "\n",
        "mass_results = slam.mass_total.no_lens_light(\n",
        "    path_prefix=path_prefix,\n",
        "    unique_tag=dataset_name,\n",
        "    analysis=analysis,\n",
        "    setup_hyper=setup_hyper,\n",
        "    source_results=source_parametric_results,\n",
        "    mass=af.Model(al.mp.EllPowerLaw),\n",
        ")"
      ],
      "outputs": [],
      "execution_count": null
    },
    {
      "cell_type": "markdown",
      "metadata": {},
      "source": [
        "Finish."
      ]
    },
    {
      "cell_type": "code",
      "metadata": {},
      "source": [],
      "outputs": [],
      "execution_count": null
    }
  ],
  "metadata": {
    "anaconda-cloud": {},
    "kernelspec": {
      "display_name": "Python 3",
      "language": "python",
      "name": "python3"
    },
    "language_info": {
      "codemirror_mode": {
        "name": "ipython",
        "version": 3
      },
      "file_extension": ".py",
      "mimetype": "text/x-python",
      "name": "python",
      "nbconvert_exporter": "python",
      "pygments_lexer": "ipython3",
      "version": "3.6.1"
    }
  },
  "nbformat": 4,
  "nbformat_minor": 4
}