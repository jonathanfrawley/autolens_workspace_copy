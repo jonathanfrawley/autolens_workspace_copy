{
  "cells": [
    {
      "cell_type": "markdown",
      "metadata": {},
      "source": [
        "SLaM (Source, Light and Mass): Mass Total + Subhalo NFW + Source Inversion\n",
        "==========================================================================\n",
        "\n",
        "SLaM pipelines break the analysis down into multiple pipelines which focus on modeling a specific aspect of the strong\n",
        "lens, first the Source, then the (lens) Light and finally the Mass. Each of these pipelines has it own inputs which\n",
        "which customize the model and analysis in that pipeline.\n",
        "\n",
        "The models fitted in earlier pipelines determine the model used in later pipelines. For example, if the SOURCE PIPELINE\n",
        "uses a parametric `EllSersic` profile for the bulge, this will be used in the subsequent MASS TOTAL PIPELINE.\n",
        "\n",
        "Using a SOURCE PARAMETRIC PIPELINE, SOURCE INVERSION PIPELINE, MASS TOTAL PIPELINE and SUBHALO PIPELINE this SLaM script\n",
        "fits `Imaging` of a strong lens system, where in the final model:\n",
        "\n",
        " - The lens galaxy's light is omitted from the data and model.\n",
        " - The lens galaxy's total mass distribution is an `EllIsothermal`.\n",
        " - A dark matter subhalo near The lens galaxy mass is included as a`SphNFWMCRLudLow`.\n",
        " - The source galaxy is an `EllSersic`.\n",
        "\n",
        "This runner uses the SLaM pipelines:\n",
        "\n",
        " `source_parametric/no_lens_light`\n",
        " `source__inversion/source_inversion__no_lens_light`\n",
        " `mass_total/no_lens_light`\n",
        " `subhalo/subhalo__detection_single_plane__no_lens_light`\n",
        "\n",
        "Check them out for a detailed description of the analysis!"
      ]
    },
    {
      "cell_type": "code",
      "metadata": {},
      "source": [
        "%matplotlib inline\n",
        "from pyprojroot import here\n",
        "workspace_path = str(here())\n",
        "%cd $workspace_path\n",
        "print(f\"Working Directory has been set to `{workspace_path}`\")\n",
        "\n",
        "import os\n",
        "import sys\n",
        "from os import path\n",
        "import autofit as af\n",
        "import autolens as al\n",
        "import autolens.plot as aplt\n",
        "\n",
        "sys.path.insert(0, os.getcwd())\n",
        "import slam"
      ],
      "outputs": [],
      "execution_count": null
    },
    {
      "cell_type": "markdown",
      "metadata": {},
      "source": [
        "__Dataset + Masking__ \n",
        "\n",
        "Load, plot and mask the `Imaging` data."
      ]
    },
    {
      "cell_type": "code",
      "metadata": {},
      "source": [
        "dataset_name = \"mass_sie__subhalo_nfw__source_sersic_x2\"\n",
        "dataset_path = path.join(\"dataset\", \"imaging\", \"subhalo\", dataset_name)\n",
        "\n",
        "imaging = al.Imaging.from_fits(\n",
        "    image_path=path.join(dataset_path, \"image.fits\"),\n",
        "    noise_map_path=path.join(dataset_path, \"noise_map.fits\"),\n",
        "    psf_path=path.join(dataset_path, \"psf.fits\"),\n",
        "    pixel_scales=0.05,\n",
        ")\n",
        "\n",
        "mask = al.Mask2D.circular(\n",
        "    shape_native=imaging.shape_native, pixel_scales=imaging.pixel_scales, radius=3.0\n",
        ")\n",
        "\n",
        "imaging = imaging.apply_mask(mask=mask)\n",
        "\n",
        "imaging_plotter = aplt.ImagingPlotter(imaging=imaging)\n",
        "imaging_plotter.subplot_imaging()"
      ],
      "outputs": [],
      "execution_count": null
    },
    {
      "cell_type": "markdown",
      "metadata": {},
      "source": [
        "__Paths__\n",
        "\n",
        "The path the results of all chained searches are output:"
      ]
    },
    {
      "cell_type": "code",
      "metadata": {},
      "source": [
        "path_prefix = path.join(\"imaging\", \"slam\", dataset_name)"
      ],
      "outputs": [],
      "execution_count": null
    },
    {
      "cell_type": "markdown",
      "metadata": {},
      "source": [
        "__Redshifts__\n",
        "\n",
        "The redshifts of the lens and source galaxies, which are used to perform unit converions of the model and data (e.g. \n",
        "from arc-seconds to kiloparsecs, masses to solar masses, etc.)."
      ]
    },
    {
      "cell_type": "code",
      "metadata": {},
      "source": [
        "redshift_lens = 0.5\n",
        "redshift_source = 1.0"
      ],
      "outputs": [],
      "execution_count": null
    },
    {
      "cell_type": "markdown",
      "metadata": {},
      "source": [
        "__HYPER SETUP__\n",
        "\n",
        "The `SetupHyper` determines which hyper-mode features are used during the model-fit."
      ]
    },
    {
      "cell_type": "code",
      "metadata": {},
      "source": [
        "setup_hyper = al.SetupHyper(\n",
        "    hyper_galaxies_lens=False,\n",
        "    hyper_galaxies_source=False,\n",
        "    hyper_image_sky=None,\n",
        "    hyper_background_noise=None,\n",
        ")"
      ],
      "outputs": [],
      "execution_count": null
    },
    {
      "cell_type": "markdown",
      "metadata": {},
      "source": [
        "__SOURCE PARAMETRIC PIPELINE (no lens light)__\n",
        "\n",
        "The SOURCE PARAMETRIC PIPELINE (no lens light) uses one search to initialize a robust model for the source galaxy's \n",
        "light, which in this example:\n",
        "\n",
        " - Uses a parametric `EllSersic` bulge for the source's light (omitting a disk / envelope).\n",
        " - Uses an `EllIsothermal` model for the lens's total mass distribution with an `ExternalShear`.\n",
        "\n",
        "__Settings__:\n",
        " \n",
        " - Mass Centre: Fix the mass profile centre to (0.0, 0.0) (this assumption will be relaxed in the SOURCE INVERSION \n",
        " PIPELINE)."
      ]
    },
    {
      "cell_type": "code",
      "metadata": {},
      "source": [
        "analysis = al.AnalysisImaging(dataset=imaging)\n",
        "\n",
        "source_parametric_results = slam.source_parametric.no_lens_light(\n",
        "    path_prefix=path_prefix,\n",
        "    analysis=analysis,\n",
        "    setup_hyper=setup_hyper,\n",
        "    mass=af.Model(al.mp.EllIsothermal),\n",
        "    shear=af.Model(al.mp.ExternalShear),\n",
        "    source_bulge=af.Model(al.lp.EllSersic),\n",
        "    mass_centre=(0.0, 0.0),\n",
        "    redshift_lens=0.5,\n",
        "    redshift_source=1.0,\n",
        ")"
      ],
      "outputs": [],
      "execution_count": null
    },
    {
      "cell_type": "markdown",
      "metadata": {},
      "source": [
        "__SOURCE INVERSION PIPELINE (no lens light)__\n",
        "\n",
        "The SOURCE INVERSION PIPELINE (no lens light) uses four searches to initialize a robust model for the `Inversion` that\n",
        "reconstructs the source galaxy's light. It begins by fitting a `VoronoiMagnification` pixelization with `Constant` \n",
        "regularization, to set up the model and hyper images, and then:\n",
        "\n",
        " - Uses a `VoronoiBrightnessImage` pixelization.\n",
        " - Uses an `AdaptiveBrightness` regularization.\n",
        "\n",
        "__Settings__:\n",
        "\n",
        " - Positions: We update the positions and positions threshold using the previous model-fitting result (as described \n",
        " in `chaining/examples/parametric_to_inversion.py`) to remove unphysical solutions from the `Inversion` model-fitting."
      ]
    },
    {
      "cell_type": "code",
      "metadata": {},
      "source": [
        "settings_lens = al.SettingsLens(positions_threshold=0.2)\n",
        "\n",
        "analysis = al.AnalysisImaging(\n",
        "    dataset=imaging,\n",
        "    positions=source_parametric_results.last.image_plane_multiple_image_positions,\n",
        "    settings_lens=settings_lens,\n",
        ")\n",
        "\n",
        "source_inversion_results = slam.source_inversion.no_lens_light(\n",
        "    path_prefix=path_prefix,\n",
        "    analysis=analysis,\n",
        "    setup_hyper=setup_hyper,\n",
        "    source_parametric_results=source_parametric_results,\n",
        "    pixelization=al.pix.VoronoiBrightnessImage,\n",
        "    regularization=al.reg.AdaptiveBrightness,\n",
        ")"
      ],
      "outputs": [],
      "execution_count": null
    },
    {
      "cell_type": "markdown",
      "metadata": {},
      "source": [
        "__MASS TOTAL PIPELINE (no lens light)__\n",
        "\n",
        "The MASS TOTAL PIPELINE (no lens light) uses one search to fits a complex lens mass model to a high level of accuracy, \n",
        "using the lens mass model and source model of the SOURCE INVERSION PIPELINE to initialize the model priors. In this \n",
        "example it:\n",
        "\n",
        " - Uses an `EllPowerLaw` model for the lens's total mass distribution [The centre if unfixed from (0.0, 0.0)].\n",
        " - Uses an `Inversion` for the source's light.\n",
        " - Carries the lens redshift, source redshift and `ExternalShear` of the SOURCE PIPELINES through to the MASS \n",
        " PIPELINE.\n",
        "\n",
        "__Settings__:\n",
        "\n",
        " - Positions: We update the positions and positions threshold using the previous model-fitting result (as described \n",
        " in `chaining/examples/parametric_to_inversion.py`) to remove unphysical solutions from the `Inversion` model-fitting.\n",
        " \n",
        "__Preloads__:\n",
        " \n",
        " - Pixelization: We preload the pixelization using the maximum likelihood hyper-result of the SOURCE INVERSION PIPELINE. \n",
        " This ensures the source pixel-grid is not recalculated every iteration of the log likelihood function, speeding up \n",
        " the model-fit (this is only possible because the source pixelization is fixed).  "
      ]
    },
    {
      "cell_type": "code",
      "metadata": {},
      "source": [
        "settings_lens = al.SettingsLens(\n",
        "    positions_threshold=source_inversion_results.last.positions_threshold_from(\n",
        "        factor=3.0, minimum_threshold=0.2\n",
        "    )\n",
        ")\n",
        "\n",
        "preloads = al.Preloads.setup(\n",
        "    result=source_inversion_results.last.hyper, pixelization=True\n",
        ")\n",
        "\n",
        "analysis = al.AnalysisImaging(\n",
        "    dataset=imaging,\n",
        "    hyper_result=source_inversion_results.last,\n",
        "    positions=source_inversion_results.last.image_plane_multiple_image_positions,\n",
        "    settings_lens=settings_lens,\n",
        "    preloads=preloads,\n",
        ")\n",
        "\n",
        "mass_results = slam.mass_total.no_lens_light(\n",
        "    path_prefix=path_prefix,\n",
        "    analysis=analysis,\n",
        "    setup_hyper=setup_hyper,\n",
        "    source_results=source_inversion_results,\n",
        "    mass=af.Model(al.mp.EllPowerLaw),\n",
        ")"
      ],
      "outputs": [],
      "execution_count": null
    },
    {
      "cell_type": "markdown",
      "metadata": {},
      "source": [
        "__SUBHALO PIPELINE (single plane detection)__\n",
        "\n",
        "The SUBHALO PIPELINE (single plane detection) consists of the following searches:\n",
        "\n",
        " 1) Refit the lens and source model, to refine the model evidence for comparing to the models fitted which include a \n",
        " subhalo. This uses the same model as fitted in the MASS TOTAL PIPELINE. \n",
        " 2) Performs a grid-search of non-linear searches to attempt to detect a dark matter subhalo. \n",
        " 3) If there is a successful detection a final search is performed to refine its parameters.\n",
        "\n",
        "For this runner the SUBHALO PIPELINE customizes:\n",
        "\n",
        " - The [number_of_steps x number_of_steps] size of the grid-search, as well as the dimensions it spans in arc-seconds.\n",
        " - The `number_of_cores` used for the gridsearch, where `number_of_cores > 1` performs the model-fits in paralle using\n",
        " the Python multiprocessing module.\n",
        " \n",
        "__Preloads__:\n",
        " \n",
        " - Pixelization: We preload the pixelization using the maximum likelihood hyper-result of the SOURCE INVERSION PIPELINE. \n",
        " This ensures the source pixel-grid is not recalculated every iteration of the log likelihood function, speeding up \n",
        " the model-fit (this is only possible because the source pixelization is fixed).   "
      ]
    },
    {
      "cell_type": "code",
      "metadata": {},
      "source": [
        "settings_lens = al.SettingsLens(\n",
        "    positions_threshold=mass_results.last.positions_threshold_from(\n",
        "        factor=3.0, minimum_threshold=0.2\n",
        "    )\n",
        ")\n",
        "\n",
        "preloads = al.Preloads.setup(\n",
        "    result=source_inversion_results.last.hyper, pixelization=True\n",
        ")\n",
        "\n",
        "analysis = al.AnalysisImaging(\n",
        "    dataset=imaging,\n",
        "    positions=mass_results.last.image_plane_multiple_image_positions,\n",
        "    hyper_result=source_inversion_results.last,\n",
        "    preloads=preloads,\n",
        ")\n",
        "\n",
        "subhalo_results = slam.subhalo.detection_single_plane(\n",
        "    path_prefix=path_prefix,\n",
        "    analysis=analysis,\n",
        "    setup_hyper=setup_hyper,\n",
        "    mass_results=mass_results,\n",
        "    subhalo_mass=af.Model(al.mp.SphNFWMCRLudlow),\n",
        "    grid_dimension_arcsec=3.0,\n",
        "    number_of_steps=5,\n",
        ")"
      ],
      "outputs": [],
      "execution_count": null
    },
    {
      "cell_type": "markdown",
      "metadata": {},
      "source": [
        "Finish."
      ]
    },
    {
      "cell_type": "code",
      "metadata": {},
      "source": [],
      "outputs": [],
      "execution_count": null
    }
  ],
  "metadata": {
    "anaconda-cloud": {},
    "kernelspec": {
      "display_name": "Python 3",
      "language": "python",
      "name": "python3"
    },
    "language_info": {
      "codemirror_mode": {
        "name": "ipython",
        "version": 3
      },
      "file_extension": ".py",
      "mimetype": "text/x-python",
      "name": "python",
      "nbconvert_exporter": "python",
      "pygments_lexer": "ipython3",
      "version": "3.6.1"
    }
  },
  "nbformat": 4,
  "nbformat_minor": 4
}