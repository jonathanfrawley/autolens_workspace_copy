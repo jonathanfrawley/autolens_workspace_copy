{
  "cells": [
    {
      "cell_type": "markdown",
      "metadata": {},
      "source": [
        "Chaining: SIE to Power-law\n",
        "==========================\n",
        "\n",
        "In this script, we chain two searches to fit `Imaging` with a strong lens model where:\n",
        "\n",
        " - The lens galaxy's light is omitted.\n",
        " - The lens galaxy's total mass distribution is an `EllPowerLaw`.\n",
        " - The source galaxy's light is a parametric `EllSersic`.\n",
        "\n",
        "The two searches break down as follows:\n",
        "\n",
        " 1) Models the lens galaxy's mass as an `EllIsothermal` and the source galaxy's light as an `EllSersic`.\n",
        " 2) Models the lens galaxy's mass an an `EllPowerLaw` and the source galaxy's light as an `EllSersic`.\n",
        "\n",
        "__Why Chain?__\n",
        "\n",
        "The `EllPower` is a general form of the `EllIsothermal` which has one additional parameter, the `slope`,\n",
        "which controls the inner mass distribution as follows:\n",
        "\n",
        " - A higher slope concentrates more mass in the central regions of the mass profile relative to the outskirts.\n",
        " - A lower slope shallows the inner mass distribution reducing its density relative to the outskirts. \n",
        "\n",
        "By allowing the lens model to vary the mass profile's inner distribution, its non-linear parameter space becomes\n",
        "significantly more complex and a notable degeneracy appears between the mass model`s mass normalization, elliptical\n",
        "components and slope. This is challenging to sample in an efficient and robust manner, especially when the non-linear\n",
        "search's initial samples use broad uniform priors on the lens and source parameters.\n",
        "\n",
        "Search chaining allows us to begin by fitting an `EllIsothermal` model and therefore estimate the lens's mass\n",
        "model and the source parameters via a non-linear parameter space that does not have a strong of a parameter degeneracy\n",
        "present. This makes the model-fit more efficient and reliable.\n",
        "\n",
        "The second search then fits the `EllPowerLaw`, using prior passing to initialize the mass and elliptical\n",
        "components of the lens galaxy as well as the source galaxy's light profile."
      ]
    },
    {
      "cell_type": "code",
      "metadata": {},
      "source": [
        "%matplotlib inline\n",
        "from pyprojroot import here\n",
        "workspace_path = str(here())\n",
        "%cd $workspace_path\n",
        "print(f\"Working Directory has been set to `{workspace_path}`\")\n",
        "\n",
        "from os import path\n",
        "import autofit as af\n",
        "import autolens as al\n",
        "import autolens.plot as aplt"
      ],
      "outputs": [],
      "execution_count": null
    },
    {
      "cell_type": "markdown",
      "metadata": {},
      "source": [
        "__Dataset + Masking__ \n",
        "\n",
        "Load, plot and mask the `Imaging` data."
      ]
    },
    {
      "cell_type": "code",
      "metadata": {},
      "source": [
        "dataset_name = \"mass_power_law__source_sersic\"\n",
        "dataset_path = path.join(\"dataset\", \"imaging\", \"no_lens_light\", dataset_name)\n",
        "\n",
        "imaging = al.Imaging.from_fits(\n",
        "    image_path=path.join(dataset_path, \"image.fits\"),\n",
        "    noise_map_path=path.join(dataset_path, \"noise_map.fits\"),\n",
        "    psf_path=path.join(dataset_path, \"psf.fits\"),\n",
        "    pixel_scales=0.1,\n",
        ")\n",
        "\n",
        "mask = al.Mask2D.circular(\n",
        "    shape_native=imaging.shape_native, pixel_scales=imaging.pixel_scales, radius=3.0\n",
        ")\n",
        "\n",
        "imaging = imaging.apply_mask(mask=mask)\n",
        "\n",
        "imaging_plotter = aplt.ImagingPlotter(imaging=imaging)\n",
        "imaging_plotter.subplot_imaging()"
      ],
      "outputs": [],
      "execution_count": null
    },
    {
      "cell_type": "markdown",
      "metadata": {},
      "source": [
        "__Paths__\n",
        "\n",
        "The path the results of all chained searches are output:"
      ]
    },
    {
      "cell_type": "code",
      "metadata": {},
      "source": [
        "path_prefix = path.join(\"imaging\", \"chaining\", \"sie_to_power_law\")"
      ],
      "outputs": [],
      "execution_count": null
    },
    {
      "cell_type": "markdown",
      "metadata": {},
      "source": [
        "__Model (Search 1)__\n",
        "\n",
        "In search 1 we fit a lens model where:\n",
        "\n",
        " - The lens galaxy's total mass distribution is an `EllIsothermal` with `ExternalShear` [7 parameters].\n",
        " - The source galaxy's light is a parametric `EllSersic` [7 parameters].\n",
        "\n",
        "The number of free parameters and therefore the dimensionality of non-linear parameter space is N=14."
      ]
    },
    {
      "cell_type": "code",
      "metadata": {},
      "source": [
        "lens = af.Model(\n",
        "    al.Galaxy, redshift=0.5, mass=al.mp.EllIsothermal, shear=al.mp.ExternalShear\n",
        ")\n",
        "source = af.Model(al.Galaxy, redshift=1.0, bulge=al.lp.EllSersic)\n",
        "\n",
        "model = af.Collection(galaxies=af.Collection(lens=lens, source=source))"
      ],
      "outputs": [],
      "execution_count": null
    },
    {
      "cell_type": "markdown",
      "metadata": {},
      "source": [
        "__Search + Analysis + Model-Fit (Search 1)__\n",
        "\n",
        "We now create the non-linear search, analysis and perform the model-fit using this model.\n",
        "\n",
        "You may wish to inspect the results of the search 1 model-fit to ensure a fast non-linear search has been provided that \n",
        "provides a reasonably accurate lens model."
      ]
    },
    {
      "cell_type": "code",
      "metadata": {},
      "source": [
        "search = af.DynestyStatic(\n",
        "    path_prefix=path_prefix, name=\"search[1]__sie\", unique_tag=dataset_name, nlive=50\n",
        ")\n",
        "\n",
        "analysis = al.AnalysisImaging(dataset=imaging)\n",
        "\n",
        "result_1 = search.fit(model=model, analysis=analysis)"
      ],
      "outputs": [],
      "execution_count": null
    },
    {
      "cell_type": "markdown",
      "metadata": {},
      "source": [
        "__Model (Search 2)__\n",
        "\n",
        "We use the results of search 1 to create the lens model fitted in search 2, where:\n",
        "\n",
        " - The lens galaxy's total mass distribution is an `EllPowerLaw` with `ExternalShear` [8 parameters: priors \n",
        " initialized from search 1].\n",
        " - The source galaxy's light is again a parametric `EllSersic` [7 parameters: priors initialized from search 1].\n",
        " \n",
        "The number of free parameters and therefore the dimensionality of non-linear parameter space is N=15.\n",
        "\n",
        "The term `model` below passes the source model as model-components that are to be fitted for by the  non-linear search. \n",
        "Because the source model does not change we can pass its priors by simply using the`model` attribute of the result:"
      ]
    },
    {
      "cell_type": "code",
      "metadata": {},
      "source": [
        "source = result_1.model.galaxies.source"
      ],
      "outputs": [],
      "execution_count": null
    },
    {
      "cell_type": "markdown",
      "metadata": {},
      "source": [
        "However, we cannot use this to pass the lens galaxy, because its mass model must change from an `EllIsothermal` \n",
        "to an `EllPowerLaw`. The following code would not change the mass model to an `EllPowerLaw`:\n",
        " \n",
        " `lens = result.model.galaxies.lens`\n",
        " \n",
        "We can instead use the `take_attributes` method to pass the priors. Below, we pass the lens of the result above to a\n",
        "new `EllPowerLaw`, which will find all parameters in the `EllIsothermal` model that share the same name\n",
        "as parameters in the `EllPowerLaw` and pass their priors (in this case, the `centre`, `elliptical_comps` \n",
        "and `einstein_radius`).\n",
        "\n",
        "This leaves the `slope` parameter of the `EllPowerLaw` with its default `UniformPrior` which has a \n",
        "`lower_limit=1.5` and `upper_limit=3.0`."
      ]
    },
    {
      "cell_type": "code",
      "metadata": {},
      "source": [
        "mass = af.Model(al.mp.EllPowerLaw)\n",
        "mass.take_attributes(result_1.model.galaxies.lens.mass)\n",
        "shear = result_1.model.galaxies.lens.shear\n",
        "\n",
        "lens = af.Model(al.Galaxy, redshift=0.5, mass=mass, shear=shear)\n",
        "\n",
        "model = af.Collection(galaxies=af.Collection(lens=lens, source=source))"
      ],
      "outputs": [],
      "execution_count": null
    },
    {
      "cell_type": "markdown",
      "metadata": {},
      "source": [
        "__Search + Analysis + Model-Fit (Search 2)__\n",
        "\n",
        "We now create the non-linear search, analysis and perform the model-fit using this model.\n",
        "\n",
        "You may wish to inspect the `model.info` file of the search 2 model-fit to ensure the priors were passed correctly, as \n",
        "well as the checkout the results to ensure an accurate power-law mass model is inferred."
      ]
    },
    {
      "cell_type": "code",
      "metadata": {},
      "source": [
        "search = af.DynestyStatic(\n",
        "    path_prefix=path_prefix,\n",
        "    name=\"search[2]__power_law\",\n",
        "    unique_tag=dataset_name,\n",
        "    nlive=75,\n",
        ")\n",
        "\n",
        "analysis = al.AnalysisImaging(dataset=imaging)\n",
        "\n",
        "result_2 = search.fit(model=model, analysis=analysis)"
      ],
      "outputs": [],
      "execution_count": null
    },
    {
      "cell_type": "markdown",
      "metadata": {},
      "source": [
        "__Wrap Up__\n",
        "\n",
        "In this example, we passed used prior passing to initialize a lens mass model as an `EllIsothermal` and \n",
        "passed its priors to then fit the more complex `EllPowerLaw` model. \n",
        "\n",
        "This removed difficult-to-fit degeneracies from the non-linear parameter space in search 1, providing a more robust \n",
        "and efficient model-fit.\n",
        "\n",
        "__Pipelines__\n",
        "\n",
        "Advanced search chaining uses `pipelines` that chain together multiple searches to perform complex lens modeling \n",
        "in a robust and efficient way. \n",
        "\n",
        "The following example pipelines fits a power-law, using the same approach demonstrated in this script of first \n",
        "fitting an `EllIsothermal`:\n",
        "\n",
        " `autolens_workspace/imaging/chaining/pipelines/no_lens_light/mass_total__source_parametric.py`\n",
        " \n",
        " __SLaM (Source, Light and Mass)__\n",
        " \n",
        "An even more advanced approach which uses search chaining are the SLaM pipelines, which break the lens modeling \n",
        "processing into a series of fits that first perfect the source model, then the lens light model and finally the lens\n",
        "mass model. \n",
        "\n",
        "The SLaM pipelines assume an `EllIsothermal` throughout the Source and Light pipelines, and only switch to a\n",
        "more complex mass model (like the `EllPowerLaw`) in the final Mass pipeline."
      ]
    },
    {
      "cell_type": "code",
      "metadata": {},
      "source": [],
      "outputs": [],
      "execution_count": null
    }
  ],
  "metadata": {
    "anaconda-cloud": {},
    "kernelspec": {
      "display_name": "Python 3",
      "language": "python",
      "name": "python3"
    },
    "language_info": {
      "codemirror_mode": {
        "name": "ipython",
        "version": 3
      },
      "file_extension": ".py",
      "mimetype": "text/x-python",
      "name": "python",
      "nbconvert_exporter": "python",
      "pygments_lexer": "ipython3",
      "version": "3.6.1"
    }
  },
  "nbformat": 4,
  "nbformat_minor": 4
}