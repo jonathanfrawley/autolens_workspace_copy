{
  "cells": [
    {
      "cell_type": "markdown",
      "metadata": {},
      "source": [
        "Chaining: Parametric To Inversion\n",
        "=================================\n",
        "\n",
        "In this script, we chain two searches to fit `Imaging` with a strong lens model where:\n",
        "\n",
        " - The lens galaxy's light is omitted.\n",
        " - The lens galaxy's total mass distribution is an `EllIsothermal` and `ExternalShear`.\n",
        " - The source galaxy's `LightProfile` is an `EllExponential`.\n",
        "\n",
        "The two searches break down as follows:\n",
        "\n",
        " 1) Model the source galaxy using a parametric `EllSersic` and lens galaxy mass as an `EllIsothermal`.\n",
        " 2) Models the source galaxy using an `Inversion` and lens galaxy mass as an `EllIsothermal`.\n",
        "\n",
        "__Why Chain?__\n",
        "\n",
        "There are a number of benefits of chaining a parametric source model and `Inversion`, as opposed to fitting the\n",
        "`Inversion` in one search:\n",
        "\n",
        " - Parametric sources are computationally faster to fit. Therefore, even though the `EllSersic` has more\n",
        " parameters for the search to fit than an `Inversion`, the model-fit is faster overall.\n",
        "\n",
        " - `Inversion`'s often go to unphysical solutions where the mass model goes to high / low normalizations and the source\n",
        " is reconstructed as a demagnified version of the image. (see Chapter 4, tutorial 6 for a complete description of\n",
        " this effect). This does not occur for a parametric source, therefore the mass model can be initialized using a\n",
        " parametric source, which sets up the search which fits an `Inversion` so as to not sample these unphysical solutions.\n",
        "      \n",
        " - The positions and positions threshold can be updated to further ensure these unphysical solutions do not bias the\n",
        " model-fit. The updated positions use the maximum log likelihood mass model of the first search to determine the\n",
        " image-plane position of the lensed source. In the second search, we then require that a mass model must trace these\n",
        " positions within a threshold arc-secoond value of one another in the source-plane, removing these unphysical solutions."
      ]
    },
    {
      "cell_type": "code",
      "metadata": {},
      "source": [
        "%matplotlib inline\n",
        "from pyprojroot import here\n",
        "workspace_path = str(here())\n",
        "%cd $workspace_path\n",
        "print(f\"Working Directory has been set to `{workspace_path}`\")\n",
        "\n",
        "from os import path\n",
        "import autofit as af\n",
        "import autolens as al\n",
        "import autolens.plot as aplt"
      ],
      "outputs": [],
      "execution_count": null
    },
    {
      "cell_type": "markdown",
      "metadata": {},
      "source": [
        "__Dataset + Masking__ \n",
        "\n",
        "Load, plot and mask the `Imaging` data."
      ]
    },
    {
      "cell_type": "code",
      "metadata": {},
      "source": [
        "dataset_name = \"mass_sie__source_sersic\"\n",
        "dataset_path = path.join(\"dataset\", \"imaging\", \"no_lens_light\", dataset_name)\n",
        "\n",
        "imaging = al.Imaging.from_fits(\n",
        "    image_path=path.join(dataset_path, \"image.fits\"),\n",
        "    noise_map_path=path.join(dataset_path, \"noise_map.fits\"),\n",
        "    psf_path=path.join(dataset_path, \"psf.fits\"),\n",
        "    pixel_scales=0.1,\n",
        ")\n",
        "\n",
        "mask = al.Mask2D.circular(\n",
        "    shape_native=imaging.shape_native, pixel_scales=imaging.pixel_scales, radius=3.0\n",
        ")\n",
        "\n",
        "imaging = imaging.apply_mask(mask=mask)\n",
        "\n",
        "imaging_plotter = aplt.ImagingPlotter(imaging=imaging)\n",
        "\n",
        "imaging_plotter.subplot_imaging()"
      ],
      "outputs": [],
      "execution_count": null
    },
    {
      "cell_type": "markdown",
      "metadata": {},
      "source": [
        "__Paths__\n",
        "\n",
        "The path the results of all chained searches are output:"
      ]
    },
    {
      "cell_type": "code",
      "metadata": {},
      "source": [
        "path_prefix = path.join(\"imaging\", \"chaining\", \"parametric_to_inversion\")"
      ],
      "outputs": [],
      "execution_count": null
    },
    {
      "cell_type": "markdown",
      "metadata": {},
      "source": [
        "__Model (Search 1)__\n",
        "\n",
        "In search 1 we fit a lens model where:\n",
        "\n",
        " - The lens galaxy's total mass distribution is an `EllIsothermal` and `ExternalShear` [7 parameters].\n",
        " - The source galaxy's light is a parametric `EllSersic` [7 parameters].\n",
        "\n",
        "The number of free parameters and therefore the dimensionality of non-linear parameter space is N=13."
      ]
    },
    {
      "cell_type": "code",
      "metadata": {},
      "source": [
        "lens = af.Model(\n",
        "    al.Galaxy, redshift=0.5, mass=al.mp.EllIsothermal, shear=al.mp.ExternalShear\n",
        ")\n",
        "source = af.Model(al.Galaxy, redshift=1.0, bulge=al.lp.EllSersic)\n",
        "\n",
        "model = af.Collection(galaxies=af.Collection(lens=lens, source=source))"
      ],
      "outputs": [],
      "execution_count": null
    },
    {
      "cell_type": "markdown",
      "metadata": {},
      "source": [
        "__Search + Analysis + Model-Fit (Search 1)__\n",
        "\n",
        "We now create the non-linear search, analysis and perform the model-fit using this model.\n",
        "\n",
        "You may wish to inspect the results of the search 1 model-fit to ensure a fast non-linear search has been provided that \n",
        "provides a reasonably accurate lens model."
      ]
    },
    {
      "cell_type": "code",
      "metadata": {},
      "source": [
        "search = af.DynestyStatic(\n",
        "    path_prefix=path_prefix, name=\"search[1]__parametric\", nlive=50\n",
        ")\n",
        "\n",
        "analysis = al.AnalysisImaging(dataset=imaging)\n",
        "\n",
        "result_1 = search.fit(model=model, analysis=analysis)"
      ],
      "outputs": [],
      "execution_count": null
    },
    {
      "cell_type": "markdown",
      "metadata": {},
      "source": [
        "__Model (Search 2)__\n",
        "\n",
        "We use the results of search 1 to create the lens model fitted in search 2, where:\n",
        "\n",
        " - The lens galaxy's total mass distribution is again an `EllIsothermal` and `ExternalShear` [7 parameters: \n",
        " priors initialized from search 1].\n",
        " - The source-galaxy's light uses a `VoronoiMagnification` pixelization [2 parameters].\n",
        " - This pixelization is regularized using a `Constant` scheme which smooths every source pixel equally [1 parameter]. \n",
        " \n",
        "The number of free parameters and therefore the dimensionality of non-linear parameter space is N=10.\n",
        "\n",
        "The term `model` below passes the source model as model-components that are to be fitted for by the \n",
        "non-linear search. We pass the `lens` as a `model`, so that we can use the mass model inferred by search 1. The source\n",
        "does not use any priors from the result of search 1."
      ]
    },
    {
      "cell_type": "code",
      "metadata": {},
      "source": [
        "lens = result_1.model.galaxies.lens\n",
        "source = af.Model(\n",
        "    al.Galaxy,\n",
        "    redshift=1.0,\n",
        "    pixelization=al.pix.VoronoiMagnification,\n",
        "    regularization=al.reg.Constant,\n",
        ")\n",
        "model = af.Collection(galaxies=af.Collection(lens=lens, source=source))"
      ],
      "outputs": [],
      "execution_count": null
    },
    {
      "cell_type": "markdown",
      "metadata": {},
      "source": [
        "__Analysis + Positions__\n",
        "\n",
        "In this example we update the positions between searches, where the positions correspond to the (y,x) locations of the \n",
        "lensed source's multiple images. When a model-fit uses positions, it requires them to trace within a threshold value of \n",
        "one another for every mass model sampled by the non-linear search. If they do not, the model is discarded and resampled. \n",
        "\n",
        "Below, we use the results of the first search to compute the lensed source positions that are input into search 2. The\n",
        "code below uses the  maximum log likelihood model mass model and source galaxy centre, to determine where the source\n",
        "positions are located in the image-plane. \n",
        "\n",
        "We also use this result to set the `position_threshold`, whereby the threshold value is based on how close these \n",
        "positions trace to one another in the source-plane (using the best-fit mass model again). This threshold is multiplied \n",
        "by a `factor` to ensure it is not too small (and thus does not remove plausible mass  models). If, after this \n",
        "multiplication, the threshold is below the `minimum_threshold`, it is rounded up to this minimum value."
      ]
    },
    {
      "cell_type": "code",
      "metadata": {},
      "source": [
        "settings_lens = al.SettingsLens(\n",
        "    positions_threshold=result_1.positions_threshold_from(\n",
        "        factor=3.0, minimum_threshold=0.2\n",
        "    )\n",
        ")\n",
        "\n",
        "analysis = al.AnalysisImaging(\n",
        "    dataset=imaging,\n",
        "    positions=result_1.image_plane_multiple_image_positions,\n",
        "    settings_lens=settings_lens,\n",
        ")"
      ],
      "outputs": [],
      "execution_count": null
    },
    {
      "cell_type": "markdown",
      "metadata": {},
      "source": [
        "__Search + Model-Fit__\n",
        "\n",
        "We now create the non-linear search and perform the model-fit using this model."
      ]
    },
    {
      "cell_type": "code",
      "metadata": {},
      "source": [
        "search = af.DynestyStatic(\n",
        "    path_prefix=path_prefix, name=\"search[2]__inversion\", nlive=40\n",
        ")\n",
        "\n",
        "result_2 = search.fit(model=model, analysis=analysis)"
      ],
      "outputs": [],
      "execution_count": null
    },
    {
      "cell_type": "markdown",
      "metadata": {},
      "source": [
        "__Wrap Up__\n",
        "\n",
        "In this example, we passed used prior passing to initialize an `EllIsothermal` + `ExternalShear` lens mass model \n",
        "using a parametric source and pass this model to a second search which modeled the source using an `Inversion`. \n",
        "\n",
        "This was more computationally efficient than just fitting the `Inversion` by itself and helped to ensure that the \n",
        "`Inversion` did not go to an unphysical mass model solution which reconstructs the source as a demagnified version\n",
        "of the lensed image.\n",
        "\n",
        "__Pipelines__\n",
        "\n",
        "Advanced search chaining uses `pipelines` that chain together multiple searches to perform complex lens modeling \n",
        "in a robust and efficient way. \n",
        "\n",
        "The following example pipelines fits an inversion, using the same approach demonstrated in this script of first fitting \n",
        "a parametric source:\n",
        "\n",
        " `autolens_workspace/imaging/chaining/pipelines/no_lens_light/mass_total__source_inversion.py`\n",
        "\n",
        " __SLaM (Source, Light and Mass)__\n",
        " \n",
        "An even more advanced approach which uses search chaining are the SLaM pipelines, which break the lens modeling \n",
        "processing into a series of fits that first perfect the source model, then the lens light model and finally the lens\n",
        "mass model. \n",
        "\n",
        "The SLaM pipelines begin with a parametric Source pipeline, which then switches to an inversion Source pipeline, \n",
        "exploiting the chaining technique demonstrated in this example."
      ]
    },
    {
      "cell_type": "code",
      "metadata": {},
      "source": [],
      "outputs": [],
      "execution_count": null
    }
  ],
  "metadata": {
    "anaconda-cloud": {},
    "kernelspec": {
      "display_name": "Python 3",
      "language": "python",
      "name": "python3"
    },
    "language_info": {
      "codemirror_mode": {
        "name": "ipython",
        "version": 3
      },
      "file_extension": ".py",
      "mimetype": "text/x-python",
      "name": "python",
      "nbconvert_exporter": "python",
      "pygments_lexer": "ipython3",
      "version": "3.6.1"
    }
  },
  "nbformat": 4,
  "nbformat_minor": 4
}